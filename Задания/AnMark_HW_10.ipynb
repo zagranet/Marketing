{
 "cells": [
  {
   "cell_type": "markdown",
   "id": "elegant-beach",
   "metadata": {},
   "source": [
    "# Занятие 10. Проект построения простой модели машинного обучения"
   ]
  },
  {
   "cell_type": "markdown",
   "id": "built-horizontal",
   "metadata": {},
   "source": [
    "Веберите любые данные для задачи классификации из репозитория данных для машинного обучения (UCI Machine learning repository: http://archive.ics.uci.edu/ml/index.php) или возьмите свои данные и постройте простую модель машинного обучения в соответствии с приведенной ниже схемой. Комментарии к каждому разделу обязательны."
   ]
  },
  {
   "cell_type": "markdown",
   "id": "ethical-cardiff",
   "metadata": {},
   "source": [
    "### 1. Loading the libraries and the dataset"
   ]
  },
  {
   "cell_type": "code",
   "execution_count": null,
   "id": "advised-flexibility",
   "metadata": {},
   "outputs": [],
   "source": []
  },
  {
   "cell_type": "markdown",
   "id": "alpine-average",
   "metadata": {},
   "source": [
    "### 2. Summarizing the dataset"
   ]
  },
  {
   "cell_type": "code",
   "execution_count": null,
   "id": "dutch-sunset",
   "metadata": {},
   "outputs": [],
   "source": []
  },
  {
   "cell_type": "markdown",
   "id": "unknown-request",
   "metadata": {},
   "source": [
    "### 3. Visualizing the dataset"
   ]
  },
  {
   "cell_type": "code",
   "execution_count": null,
   "id": "basic-tiffany",
   "metadata": {},
   "outputs": [],
   "source": []
  },
  {
   "cell_type": "markdown",
   "id": "similar-relevance",
   "metadata": {},
   "source": [
    "### 4. Evaluating some algorithms"
   ]
  },
  {
   "cell_type": "code",
   "execution_count": null,
   "id": "amateur-involvement",
   "metadata": {},
   "outputs": [],
   "source": []
  },
  {
   "cell_type": "markdown",
   "id": "secondary-continuity",
   "metadata": {},
   "source": [
    "### 5. Making some predictions"
   ]
  },
  {
   "cell_type": "code",
   "execution_count": null,
   "id": "imported-weekend",
   "metadata": {},
   "outputs": [],
   "source": []
  }
 ],
 "metadata": {
  "kernelspec": {
   "display_name": "Python 3",
   "language": "python",
   "name": "python3"
  },
  "language_info": {
   "codemirror_mode": {
    "name": "ipython",
    "version": 3
   },
   "file_extension": ".py",
   "mimetype": "text/x-python",
   "name": "python",
   "nbconvert_exporter": "python",
   "pygments_lexer": "ipython3",
   "version": "3.7.4"
  }
 },
 "nbformat": 4,
 "nbformat_minor": 5
}
