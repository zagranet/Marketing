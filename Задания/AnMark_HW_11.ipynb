{
 "cells": [
  {
   "cell_type": "markdown",
   "id": "correct-temperature",
   "metadata": {},
   "source": [
    "# Занятие 11. Проект построения модели машинного обучения для регрессии"
   ]
  },
  {
   "cell_type": "markdown",
   "id": "instrumental-damages",
   "metadata": {},
   "source": [
    "Веберите любые данные для задачи регрессии из репозитория данных для машинного обучения (UCI Machine learning repository: http://archive.ics.uci.edu/ml/index.php) или возьмите свои данные и постройте модель машинного обучения в соответствии с приведенной ниже схемой. Комментарии к каждому разделу обязательны."
   ]
  },
  {
   "cell_type": "markdown",
   "id": "ignored-korea",
   "metadata": {},
   "source": [
    "### 1. Problem Definition, Loading the libraries and the dataset"
   ]
  },
  {
   "cell_type": "code",
   "execution_count": null,
   "id": "changed-image",
   "metadata": {},
   "outputs": [],
   "source": []
  },
  {
   "cell_type": "markdown",
   "id": "complimentary-graduation",
   "metadata": {},
   "source": [
    "### 2. Analyze Data"
   ]
  },
  {
   "cell_type": "markdown",
   "id": "favorite-workplace",
   "metadata": {},
   "source": [
    "#### Descriptive statistics"
   ]
  },
  {
   "cell_type": "code",
   "execution_count": null,
   "id": "virgin-craft",
   "metadata": {},
   "outputs": [],
   "source": []
  },
  {
   "cell_type": "markdown",
   "id": "motivated-finding",
   "metadata": {},
   "source": [
    "#### Data Visualizations"
   ]
  },
  {
   "cell_type": "markdown",
   "id": "signed-pearl",
   "metadata": {},
   "source": [
    "##### Unimodal Data Visualizations"
   ]
  },
  {
   "cell_type": "code",
   "execution_count": null,
   "id": "anticipated-baseline",
   "metadata": {},
   "outputs": [],
   "source": []
  },
  {
   "cell_type": "markdown",
   "id": "greatest-rescue",
   "metadata": {},
   "source": [
    "##### Multimodal Data Visualizations"
   ]
  },
  {
   "cell_type": "code",
   "execution_count": null,
   "id": "selective-stamp",
   "metadata": {},
   "outputs": [],
   "source": []
  },
  {
   "cell_type": "markdown",
   "id": "circular-reducing",
   "metadata": {},
   "source": [
    "### 3. Validation Dataset"
   ]
  },
  {
   "cell_type": "code",
   "execution_count": null,
   "id": "respiratory-source",
   "metadata": {},
   "outputs": [],
   "source": []
  },
  {
   "cell_type": "markdown",
   "id": "assigned-ribbon",
   "metadata": {},
   "source": [
    "### 4. Evaluate Algorithms: Baseline"
   ]
  },
  {
   "cell_type": "code",
   "execution_count": null,
   "id": "stable-vintage",
   "metadata": {},
   "outputs": [],
   "source": []
  },
  {
   "cell_type": "markdown",
   "id": "nearby-soundtrack",
   "metadata": {},
   "source": [
    "### 5. Evaluate Algorithms: Standardize Data"
   ]
  },
  {
   "cell_type": "code",
   "execution_count": null,
   "id": "driven-circumstances",
   "metadata": {},
   "outputs": [],
   "source": []
  },
  {
   "cell_type": "markdown",
   "id": "practical-excuse",
   "metadata": {},
   "source": [
    "### 6. Algorithm Tuning"
   ]
  },
  {
   "cell_type": "code",
   "execution_count": null,
   "id": "mature-backup",
   "metadata": {},
   "outputs": [],
   "source": []
  },
  {
   "cell_type": "markdown",
   "id": "present-imagination",
   "metadata": {},
   "source": [
    "### 7. Ensemble Methods"
   ]
  },
  {
   "cell_type": "code",
   "execution_count": null,
   "id": "fuzzy-hunter",
   "metadata": {},
   "outputs": [],
   "source": []
  },
  {
   "cell_type": "markdown",
   "id": "natural-commons",
   "metadata": {},
   "source": [
    "### 8. Finalize Model"
   ]
  },
  {
   "cell_type": "code",
   "execution_count": null,
   "id": "overall-jersey",
   "metadata": {},
   "outputs": [],
   "source": []
  }
 ],
 "metadata": {
  "kernelspec": {
   "display_name": "Python 3",
   "language": "python",
   "name": "python3"
  },
  "language_info": {
   "codemirror_mode": {
    "name": "ipython",
    "version": 3
   },
   "file_extension": ".py",
   "mimetype": "text/x-python",
   "name": "python",
   "nbconvert_exporter": "python",
   "pygments_lexer": "ipython3",
   "version": "3.7.4"
  }
 },
 "nbformat": 4,
 "nbformat_minor": 5
}
