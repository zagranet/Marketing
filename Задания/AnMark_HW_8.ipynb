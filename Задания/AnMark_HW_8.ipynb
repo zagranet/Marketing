{
 "cells": [
  {
   "cell_type": "markdown",
   "id": "underlying-learning",
   "metadata": {},
   "source": [
    "## Занятие 8. Нелинейные модели для регрессии. Выбор лучшей модели для регрессии. Построение программного конвеера"
   ]
  },
  {
   "cell_type": "markdown",
   "id": "missing-julian",
   "metadata": {},
   "source": [
    "Веберите любые данные для задачи регрессии из репозитория данных для машинного обучения (UCI Machine learning repository: http://archive.ics.uci.edu/ml/index.php) или возьмите свои данные и постройте нелинейные модели в соответствии со следующей схемой. Комментарии к каждому разделу обязательны."
   ]
  },
  {
   "cell_type": "markdown",
   "id": "reduced-cleanup",
   "metadata": {},
   "source": [
    "### k-Nearest Neighbors"
   ]
  },
  {
   "cell_type": "code",
   "execution_count": null,
   "id": "lyric-aging",
   "metadata": {},
   "outputs": [],
   "source": []
  },
  {
   "cell_type": "markdown",
   "id": "biblical-sierra",
   "metadata": {},
   "source": [
    "### Classification and Regression Trees"
   ]
  },
  {
   "cell_type": "code",
   "execution_count": null,
   "id": "breeding-horse",
   "metadata": {},
   "outputs": [],
   "source": []
  },
  {
   "cell_type": "markdown",
   "id": "powered-adams",
   "metadata": {},
   "source": [
    "### Support Vector Machines"
   ]
  },
  {
   "cell_type": "code",
   "execution_count": null,
   "id": "loving-electron",
   "metadata": {},
   "outputs": [],
   "source": []
  },
  {
   "cell_type": "markdown",
   "id": "second-currency",
   "metadata": {},
   "source": [
    "По построенным ранее моделям выберите лучший алгоритм машинного обучения для задачи регрессии. Создайте пайплайн (программный конвеер) в соответствии с указанной ниже схемой. Комментарии к каждому разделу обязательны."
   ]
  },
  {
   "cell_type": "markdown",
   "id": "thousand-friendly",
   "metadata": {},
   "source": [
    "### Выбор лучшего алгоритма машинного обучения для задачи регрессии"
   ]
  },
  {
   "cell_type": "code",
   "execution_count": null,
   "id": "charitable-potter",
   "metadata": {},
   "outputs": [],
   "source": []
  },
  {
   "cell_type": "markdown",
   "id": "swiss-overview",
   "metadata": {},
   "source": [
    "### Программный конвеер подготовки данных и моделирования"
   ]
  },
  {
   "cell_type": "code",
   "execution_count": null,
   "id": "animated-practitioner",
   "metadata": {},
   "outputs": [],
   "source": []
  },
  {
   "cell_type": "markdown",
   "id": "equal-vintage",
   "metadata": {},
   "source": [
    "### Программный конвеер отбора признаков и моделирования"
   ]
  },
  {
   "cell_type": "code",
   "execution_count": null,
   "id": "governing-james",
   "metadata": {},
   "outputs": [],
   "source": []
  }
 ],
 "metadata": {
  "kernelspec": {
   "display_name": "Python 3",
   "language": "python",
   "name": "python3"
  },
  "language_info": {
   "codemirror_mode": {
    "name": "ipython",
    "version": 3
   },
   "file_extension": ".py",
   "mimetype": "text/x-python",
   "name": "python",
   "nbconvert_exporter": "python",
   "pygments_lexer": "ipython3",
   "version": "3.7.4"
  }
 },
 "nbformat": 4,
 "nbformat_minor": 5
}
