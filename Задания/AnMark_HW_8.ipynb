{
 "cells": [
  {
   "cell_type": "markdown",
   "id": "understanding-watts",
   "metadata": {},
   "source": [
    "## Занятие 8. Нелинейные модели для регрессии. Выбор лучшей модели. Построение программного конвеера"
   ]
  },
  {
   "cell_type": "markdown",
   "id": "chemical-formula",
   "metadata": {},
   "source": [
    "Веберите любые данные для задачи регрессии из репозитория данных для машинного обучения (UCI Machine learning repository: http://archive.ics.uci.edu/ml/index.php) или возьмите свои данные и постройте нелинейные модели в соответствии со следующей схемой. Комментарии к каждому разделу обязательны."
   ]
  },
  {
   "cell_type": "markdown",
   "id": "acquired-personality",
   "metadata": {},
   "source": [
    "### k-Nearest Neighbors"
   ]
  },
  {
   "cell_type": "code",
   "execution_count": null,
   "id": "disturbed-material",
   "metadata": {},
   "outputs": [],
   "source": []
  },
  {
   "cell_type": "markdown",
   "id": "enhanced-school",
   "metadata": {},
   "source": [
    "### Classification and Regression Trees"
   ]
  },
  {
   "cell_type": "code",
   "execution_count": null,
   "id": "acoustic-shaft",
   "metadata": {},
   "outputs": [],
   "source": []
  },
  {
   "cell_type": "markdown",
   "id": "motivated-belief",
   "metadata": {},
   "source": [
    "### Support Vector Machines"
   ]
  },
  {
   "cell_type": "code",
   "execution_count": null,
   "id": "recognized-tender",
   "metadata": {},
   "outputs": [],
   "source": []
  },
  {
   "cell_type": "markdown",
   "id": "rolled-opera",
   "metadata": {},
   "source": [
    "По построенным ранее моделям выберите лучший алгоритм машинного обучения для задачи классификации и задачи регрессии. Создайте пайплайн (программный конвеер) в соответствии с указанной ниже схемой. Комментарии к каждому разделу обязательны."
   ]
  },
  {
   "cell_type": "markdown",
   "id": "loaded-auckland",
   "metadata": {},
   "source": [
    "### Подготовка данных и моделирование программного конвеера"
   ]
  },
  {
   "cell_type": "code",
   "execution_count": null,
   "id": "inclusive-colonial",
   "metadata": {},
   "outputs": [],
   "source": []
  },
  {
   "cell_type": "markdown",
   "id": "scheduled-vienna",
   "metadata": {},
   "source": [
    "### Выбор главных компонент и моделирование программного конвеера"
   ]
  },
  {
   "cell_type": "code",
   "execution_count": null,
   "id": "elegant-confusion",
   "metadata": {},
   "outputs": [],
   "source": []
  }
 ],
 "metadata": {
  "kernelspec": {
   "display_name": "Python 3",
   "language": "python",
   "name": "python3"
  },
  "language_info": {
   "codemirror_mode": {
    "name": "ipython",
    "version": 3
   },
   "file_extension": ".py",
   "mimetype": "text/x-python",
   "name": "python",
   "nbconvert_exporter": "python",
   "pygments_lexer": "ipython3",
   "version": "3.7.4"
  }
 },
 "nbformat": 4,
 "nbformat_minor": 5
}
