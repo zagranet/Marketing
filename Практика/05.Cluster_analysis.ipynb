{
 "cells": [
  {
   "cell_type": "markdown",
   "id": "trained-great",
   "metadata": {},
   "source": [
    "# Занятие 5. Кластерный анализ"
   ]
  },
  {
   "cell_type": "markdown",
   "id": "built-helping",
   "metadata": {},
   "source": [
    "## Аббакумов В.Л."
   ]
  },
  {
   "cell_type": "code",
   "execution_count": 1,
   "id": "discrete-token",
   "metadata": {},
   "outputs": [],
   "source": [
    "import os\n",
    "import pandas as pd\n",
    "from scipy.cluster.hierarchy import dendrogram, linkage, fcluster\n",
    "from sklearn import preprocessing\n",
    "from sklearn.cluster import KMeans\n",
    "import matplotlib\n",
    "import matplotlib.pyplot as plt\n",
    "matplotlib.style.use('ggplot')\n",
    "%matplotlib inline"
   ]
  },
  {
   "cell_type": "code",
   "execution_count": 2,
   "id": "scenic-grain",
   "metadata": {},
   "outputs": [],
   "source": [
    "os.chdir(\"C:/Users/HP/Documents/analysis/Marketing/data/\")"
   ]
  },
  {
   "cell_type": "markdown",
   "id": "organic-serve",
   "metadata": {},
   "source": [
    "Иерархическая кластеризация\n",
    "=============\n",
    "\n",
    "Полезные ссылки:\n",
    "* https://docs.scipy.org/doc/scipy-0.14.0/reference/cluster.hierarchy.html\n",
    "* https://joernhees.de/blog/2015/08/26/scipy-hierarchical-clustering-and-dendrogram-tutorial/\n",
    "* http://scikit-learn.org/stable/modules/clustering.html"
   ]
  },
  {
   "cell_type": "markdown",
   "id": "beginning-found",
   "metadata": {},
   "source": [
    "Пример 1. Beverage\n",
    "--------"
   ]
  },
  {
   "cell_type": "markdown",
   "id": "apparent-worry",
   "metadata": {},
   "source": [
    "Проанализировать данные о безалкогольных напитках. В файле содержатся данные о том, какие напитки пили опрашиваемые из фокус-группы."
   ]
  },
  {
   "cell_type": "code",
   "execution_count": 3,
   "id": "designing-sculpture",
   "metadata": {},
   "outputs": [],
   "source": [
    "df = pd.read_csv(\"beverage_r.csv\", sep=\";\", index_col='numb.obs')"
   ]
  },
  {
   "cell_type": "code",
   "execution_count": 4,
   "id": "harmful-tomato",
   "metadata": {},
   "outputs": [
    {
     "data": {
      "text/html": [
       "<div>\n",
       "<style scoped>\n",
       "    .dataframe tbody tr th:only-of-type {\n",
       "        vertical-align: middle;\n",
       "    }\n",
       "\n",
       "    .dataframe tbody tr th {\n",
       "        vertical-align: top;\n",
       "    }\n",
       "\n",
       "    .dataframe thead th {\n",
       "        text-align: right;\n",
       "    }\n",
       "</style>\n",
       "<table border=\"1\" class=\"dataframe\">\n",
       "  <thead>\n",
       "    <tr style=\"text-align: right;\">\n",
       "      <th></th>\n",
       "      <th>COKE</th>\n",
       "      <th>D_COKE</th>\n",
       "      <th>D_PEPSI</th>\n",
       "      <th>D_7UP</th>\n",
       "      <th>PEPSI</th>\n",
       "      <th>SPRITE</th>\n",
       "      <th>TAB</th>\n",
       "      <th>SEVENUP</th>\n",
       "    </tr>\n",
       "    <tr>\n",
       "      <th>numb.obs</th>\n",
       "      <th></th>\n",
       "      <th></th>\n",
       "      <th></th>\n",
       "      <th></th>\n",
       "      <th></th>\n",
       "      <th></th>\n",
       "      <th></th>\n",
       "      <th></th>\n",
       "    </tr>\n",
       "  </thead>\n",
       "  <tbody>\n",
       "    <tr>\n",
       "      <th>1</th>\n",
       "      <td>1</td>\n",
       "      <td>0</td>\n",
       "      <td>0</td>\n",
       "      <td>0</td>\n",
       "      <td>1</td>\n",
       "      <td>1</td>\n",
       "      <td>0</td>\n",
       "      <td>1</td>\n",
       "    </tr>\n",
       "    <tr>\n",
       "      <th>2</th>\n",
       "      <td>1</td>\n",
       "      <td>0</td>\n",
       "      <td>0</td>\n",
       "      <td>0</td>\n",
       "      <td>1</td>\n",
       "      <td>0</td>\n",
       "      <td>0</td>\n",
       "      <td>0</td>\n",
       "    </tr>\n",
       "    <tr>\n",
       "      <th>3</th>\n",
       "      <td>1</td>\n",
       "      <td>0</td>\n",
       "      <td>0</td>\n",
       "      <td>0</td>\n",
       "      <td>1</td>\n",
       "      <td>0</td>\n",
       "      <td>0</td>\n",
       "      <td>0</td>\n",
       "    </tr>\n",
       "    <tr>\n",
       "      <th>4</th>\n",
       "      <td>0</td>\n",
       "      <td>1</td>\n",
       "      <td>0</td>\n",
       "      <td>1</td>\n",
       "      <td>0</td>\n",
       "      <td>0</td>\n",
       "      <td>1</td>\n",
       "      <td>0</td>\n",
       "    </tr>\n",
       "    <tr>\n",
       "      <th>5</th>\n",
       "      <td>1</td>\n",
       "      <td>0</td>\n",
       "      <td>0</td>\n",
       "      <td>0</td>\n",
       "      <td>1</td>\n",
       "      <td>0</td>\n",
       "      <td>0</td>\n",
       "      <td>0</td>\n",
       "    </tr>\n",
       "  </tbody>\n",
       "</table>\n",
       "</div>"
      ],
      "text/plain": [
       "          COKE  D_COKE  D_PEPSI  D_7UP  PEPSI  SPRITE  TAB  SEVENUP\n",
       "numb.obs                                                           \n",
       "1            1       0        0      0      1       1    0        1\n",
       "2            1       0        0      0      1       0    0        0\n",
       "3            1       0        0      0      1       0    0        0\n",
       "4            0       1        0      1      0       0    1        0\n",
       "5            1       0        0      0      1       0    0        0"
      ]
     },
     "execution_count": 4,
     "metadata": {},
     "output_type": "execute_result"
    }
   ],
   "source": [
    "df.head()"
   ]
  },
  {
   "cell_type": "markdown",
   "id": "marine-excuse",
   "metadata": {},
   "source": [
    "Применим алгоритм иерархической кластеризации и построим дендрограмму. Все необходимые вычисления проводятся в функции linkage. Кроме самих данных, ей нужно передать на вход два аргумента: метод вычисления расстояний между кластерами (```ward```, ```single```, ```complete```, ```average```) и метрику (```euclidean``` (default), ```cityblock``` aka Manhattan, ```hamming```, ```cosine```). См. [документацию]( https://docs.scipy.org/doc/scipy/reference/cluster.hierarchy.html)."
   ]
  },
  {
   "cell_type": "code",
   "execution_count": 5,
   "id": "historical-indication",
   "metadata": {},
   "outputs": [],
   "source": [
    "# Объект, в котором будет хранится информация о последовательном слиянии кластеров\n",
    "link = linkage(df, 'ward', 'euclidean')"
   ]
  },
  {
   "cell_type": "markdown",
   "id": "tight-share",
   "metadata": {},
   "source": [
    "Объект ```link``` представляет собой матрицу ```(n-1) x 4```, где ```n``` - число наблюдений. Каждая строка матрицы представляет собой результат слияния очередной пары кластеров с номерами ```link[i, 0]``` и ```link[i, 1]```. Новому кластеру присваивается номер ```n + i```. ```link[i, 2]``` означает расстояние между слитыми кластерами, а ```link[i, 3]``` - размер нового кластера."
   ]
  },
  {
   "cell_type": "code",
   "execution_count": 6,
   "id": "short-infection",
   "metadata": {},
   "outputs": [
    {
     "data": {
      "text/plain": [
       "array([[ 5., 10.,  0.,  2.],\n",
       "       [ 1.,  2.,  0.,  2.],\n",
       "       [ 4., 35.,  0.,  3.],\n",
       "       [ 3., 22.,  0.,  2.],\n",
       "       [20., 36.,  0.,  4.]])"
      ]
     },
     "execution_count": 6,
     "metadata": {},
     "output_type": "execute_result"
    }
   ],
   "source": [
    "link[:5]"
   ]
  },
  {
   "cell_type": "code",
   "execution_count": 7,
   "id": "dimensional-consultation",
   "metadata": {},
   "outputs": [
    {
     "data": {
      "image/png": "[encoded data removed]",
      "text/plain": [
       "<Figure size 432x288 with 1 Axes>"
      ]
     },
     "metadata": {
      "needs_background": "light"
     },
     "output_type": "display_data"
    }
   ],
   "source": [
    "# Функция для построения дендрограммы\n",
    "dn = dendrogram(link)"
   ]
  },
  {
   "cell_type": "markdown",
   "id": "smoking-malawi",
   "metadata": {},
   "source": [
    "Алгоритм подкрасил в дендрограмме два кластера, но здесь, скорее, кластера всё-таки три. Теперь хочется посмотреть, какими характеристиками различаются наши кластеры.\n",
    "\n",
    "Сначала добавим к данным колонку ```cluster```, в которую запишем номер кластера, в которую попал объект. Это сделаем с помощью функции ```fcluster```. В качестве первого аргумента передаём объект ```linkage```, полученный выше. Третьим аргументом ```criterion``` передаём критерий для разбиения на кластеры (```distance``` для остановки разбиения по расстоянию между кластерами и ```maxclust``` для разбиения по заданному числу кластеров). Вторым же аргументом является либо пороговое значение для расстояния между кластерами, либо количество кластеров, в зависимости от аргумента ```criterion```."
   ]
  },
  {
   "cell_type": "code",
   "execution_count": 8,
   "id": "southern-nylon",
   "metadata": {},
   "outputs": [],
   "source": [
    "# Останавливаем объединение, если кластеров 2\n",
    "df['cluster'] = fcluster(link, 2, criterion='maxclust')"
   ]
  },
  {
   "cell_type": "code",
   "execution_count": 9,
   "id": "funded-mustang",
   "metadata": {},
   "outputs": [
    {
     "data": {
      "text/html": [
       "<div>\n",
       "<style scoped>\n",
       "    .dataframe tbody tr th:only-of-type {\n",
       "        vertical-align: middle;\n",
       "    }\n",
       "\n",
       "    .dataframe tbody tr th {\n",
       "        vertical-align: top;\n",
       "    }\n",
       "\n",
       "    .dataframe thead th {\n",
       "        text-align: right;\n",
       "    }\n",
       "</style>\n",
       "<table border=\"1\" class=\"dataframe\">\n",
       "  <thead>\n",
       "    <tr style=\"text-align: right;\">\n",
       "      <th></th>\n",
       "      <th>COKE</th>\n",
       "      <th>D_COKE</th>\n",
       "      <th>D_PEPSI</th>\n",
       "      <th>D_7UP</th>\n",
       "      <th>PEPSI</th>\n",
       "      <th>SPRITE</th>\n",
       "      <th>TAB</th>\n",
       "      <th>SEVENUP</th>\n",
       "    </tr>\n",
       "    <tr>\n",
       "      <th>cluster</th>\n",
       "      <th></th>\n",
       "      <th></th>\n",
       "      <th></th>\n",
       "      <th></th>\n",
       "      <th></th>\n",
       "      <th></th>\n",
       "      <th></th>\n",
       "      <th></th>\n",
       "    </tr>\n",
       "  </thead>\n",
       "  <tbody>\n",
       "    <tr>\n",
       "      <th>1</th>\n",
       "      <td>0.000000</td>\n",
       "      <td>1.00000</td>\n",
       "      <td>0.545455</td>\n",
       "      <td>0.545455</td>\n",
       "      <td>0.000000</td>\n",
       "      <td>0.000000</td>\n",
       "      <td>0.909091</td>\n",
       "      <td>0.000000</td>\n",
       "    </tr>\n",
       "    <tr>\n",
       "      <th>2</th>\n",
       "      <td>0.869565</td>\n",
       "      <td>0.26087</td>\n",
       "      <td>0.086957</td>\n",
       "      <td>0.043478</td>\n",
       "      <td>0.695652</td>\n",
       "      <td>0.478261</td>\n",
       "      <td>0.043478</td>\n",
       "      <td>0.391304</td>\n",
       "    </tr>\n",
       "  </tbody>\n",
       "</table>\n",
       "</div>"
      ],
      "text/plain": [
       "             COKE   D_COKE   D_PEPSI     D_7UP     PEPSI    SPRITE       TAB  \\\n",
       "cluster                                                                        \n",
       "1        0.000000  1.00000  0.545455  0.545455  0.000000  0.000000  0.909091   \n",
       "2        0.869565  0.26087  0.086957  0.043478  0.695652  0.478261  0.043478   \n",
       "\n",
       "          SEVENUP  \n",
       "cluster            \n",
       "1        0.000000  \n",
       "2        0.391304  "
      ]
     },
     "execution_count": 9,
     "metadata": {},
     "output_type": "execute_result"
    }
   ],
   "source": [
    "df.groupby('cluster').mean()"
   ]
  },
  {
   "cell_type": "markdown",
   "id": "certified-spank",
   "metadata": {},
   "source": [
    "Дадим названия кластерам:\n",
    "* 1 кластер - физкультурники, ведущие здоровый образ жизни.\n",
    "* 2 кластер - либо люди без пристрастий, либо малый объем выборки не позволяет их разделить на группы."
   ]
  },
  {
   "cell_type": "code",
   "execution_count": 10,
   "id": "constitutional-ghana",
   "metadata": {},
   "outputs": [],
   "source": [
    "# Останавливаем объединение, если расстояние между кластерами превышает 3\n",
    "df['cluster'] = fcluster(link, 3, criterion='distance')"
   ]
  },
  {
   "cell_type": "markdown",
   "id": "hawaiian-federal",
   "metadata": {},
   "source": [
    "Теперь вычислим средние значения всех характеристик, сгруппировав данные по номеру кластера. Используем стандартную конструкцию: вызов метода ```groupby``` с последующим применением группирующей функции."
   ]
  },
  {
   "cell_type": "code",
   "execution_count": 11,
   "id": "thirty-buffalo",
   "metadata": {},
   "outputs": [
    {
     "data": {
      "text/html": [
       "<div>\n",
       "<style scoped>\n",
       "    .dataframe tbody tr th:only-of-type {\n",
       "        vertical-align: middle;\n",
       "    }\n",
       "\n",
       "    .dataframe tbody tr th {\n",
       "        vertical-align: top;\n",
       "    }\n",
       "\n",
       "    .dataframe thead th {\n",
       "        text-align: right;\n",
       "    }\n",
       "</style>\n",
       "<table border=\"1\" class=\"dataframe\">\n",
       "  <thead>\n",
       "    <tr style=\"text-align: right;\">\n",
       "      <th></th>\n",
       "      <th>COKE</th>\n",
       "      <th>D_COKE</th>\n",
       "      <th>D_PEPSI</th>\n",
       "      <th>D_7UP</th>\n",
       "      <th>PEPSI</th>\n",
       "      <th>SPRITE</th>\n",
       "      <th>TAB</th>\n",
       "      <th>SEVENUP</th>\n",
       "    </tr>\n",
       "    <tr>\n",
       "      <th>cluster</th>\n",
       "      <th></th>\n",
       "      <th></th>\n",
       "      <th></th>\n",
       "      <th></th>\n",
       "      <th></th>\n",
       "      <th></th>\n",
       "      <th></th>\n",
       "      <th></th>\n",
       "    </tr>\n",
       "  </thead>\n",
       "  <tbody>\n",
       "    <tr>\n",
       "      <th>1</th>\n",
       "      <td>0.00</td>\n",
       "      <td>1.000000</td>\n",
       "      <td>0.545455</td>\n",
       "      <td>0.545455</td>\n",
       "      <td>0.000000</td>\n",
       "      <td>0.000000</td>\n",
       "      <td>0.909091</td>\n",
       "      <td>0.000000</td>\n",
       "    </tr>\n",
       "    <tr>\n",
       "      <th>2</th>\n",
       "      <td>1.00</td>\n",
       "      <td>0.272727</td>\n",
       "      <td>0.090909</td>\n",
       "      <td>0.000000</td>\n",
       "      <td>1.000000</td>\n",
       "      <td>0.000000</td>\n",
       "      <td>0.000000</td>\n",
       "      <td>0.272727</td>\n",
       "    </tr>\n",
       "    <tr>\n",
       "      <th>3</th>\n",
       "      <td>0.75</td>\n",
       "      <td>0.250000</td>\n",
       "      <td>0.083333</td>\n",
       "      <td>0.083333</td>\n",
       "      <td>0.416667</td>\n",
       "      <td>0.916667</td>\n",
       "      <td>0.083333</td>\n",
       "      <td>0.500000</td>\n",
       "    </tr>\n",
       "  </tbody>\n",
       "</table>\n",
       "</div>"
      ],
      "text/plain": [
       "         COKE    D_COKE   D_PEPSI     D_7UP     PEPSI    SPRITE       TAB  \\\n",
       "cluster                                                                     \n",
       "1        0.00  1.000000  0.545455  0.545455  0.000000  0.000000  0.909091   \n",
       "2        1.00  0.272727  0.090909  0.000000  1.000000  0.000000  0.000000   \n",
       "3        0.75  0.250000  0.083333  0.083333  0.416667  0.916667  0.083333   \n",
       "\n",
       "          SEVENUP  \n",
       "cluster            \n",
       "1        0.000000  \n",
       "2        0.272727  \n",
       "3        0.500000  "
      ]
     },
     "execution_count": 11,
     "metadata": {},
     "output_type": "execute_result"
    }
   ],
   "source": [
    "df.groupby('cluster').mean()"
   ]
  },
  {
   "cell_type": "markdown",
   "id": "acute-apparatus",
   "metadata": {},
   "source": [
    "Дадим названия кластерам:\n",
    "* 1 кластер - физкультурники, ведущие здоровый образ жизни.\n",
    "* 2 кластер - традиционалисты, любящие коричневое.\n",
    "* 3 кластер - либо люди без пристрастий, либо малый объем выборки не позволяет их разделить на группы."
   ]
  },
  {
   "cell_type": "markdown",
   "id": "genetic-sunrise",
   "metadata": {},
   "source": [
    "Если мы выберем 2 кластера, то получим физкультурников и людей без предпочтений, т.е. мы потеряем люителей колы. Таким образом 3 кластера - информативней. При выборе количества кластеров опираемся на интерпретацию."
   ]
  },
  {
   "cell_type": "markdown",
   "id": "duplicate-poster",
   "metadata": {},
   "source": [
    "Также интересно узнать, сколько наблюдений попало в каждый кластер. Для этого также применяем вызов ```groupy``` с последующим применением метода ```size```."
   ]
  },
  {
   "cell_type": "code",
   "execution_count": 12,
   "id": "enhanced-quick",
   "metadata": {
    "scrolled": true
   },
   "outputs": [
    {
     "data": {
      "text/plain": [
       "cluster\n",
       "1    11\n",
       "2    11\n",
       "3    12\n",
       "dtype: int64"
      ]
     },
     "execution_count": 12,
     "metadata": {},
     "output_type": "execute_result"
    }
   ],
   "source": [
    "df.groupby('cluster').size()"
   ]
  },
  {
   "cell_type": "markdown",
   "id": "voluntary-billy",
   "metadata": {},
   "source": [
    "**Каменистая осыпь**\n",
    "\n",
    "А можно было выбрать число кластеров не на глаз по дендрограмме, а автоматически, тем более если данных много? Можно. Построим график, носящий название \"каменистая осыпь\". Напомним, в матрице ```link``` во второй колонке хранятся расстояния между парами слитых кластеров. По построению, строки матрицы упорядочены по этой колонке."
   ]
  },
  {
   "cell_type": "code",
   "execution_count": 13,
   "id": "determined-domain",
   "metadata": {},
   "outputs": [
    {
     "data": {
      "text/plain": [
       "array([0.        , 0.        , 0.        , 0.        , 0.        ,\n",
       "       0.        , 0.        , 0.        , 0.        , 0.        ,\n",
       "       0.        , 0.        , 0.        , 0.        , 0.        ,\n",
       "       1.        , 1.        , 1.15470054, 1.15470054, 1.15470054,\n",
       "       1.54919334, 1.58113883, 1.73205081, 1.82574186, 1.91485422,\n",
       "       1.93649167, 2.12132034, 2.27636073, 2.33711814, 2.37920282,\n",
       "       2.446395  , 3.87646865, 7.09212963])"
      ]
     },
     "execution_count": 13,
     "metadata": {},
     "output_type": "execute_result"
    }
   ],
   "source": [
    "dist = link[:, 2]\n",
    "dist"
   ]
  },
  {
   "cell_type": "markdown",
   "id": "tribal-salvation",
   "metadata": {},
   "source": [
    "Таким образом, можно построить график зависимости расстояний между кластерами от шага слияния (обратного), и посмотреть, начиная с какого момента это расстояние перестанет значительно меняться."
   ]
  },
  {
   "cell_type": "code",
   "execution_count": 14,
   "id": "forty-latino",
   "metadata": {},
   "outputs": [
    {
     "data": {
      "text/plain": [
       "Text(22, 2.6, '4 clusters')"
      ]
     },
     "execution_count": 14,
     "metadata": {},
     "output_type": "execute_result"
    },
    {
     "data": {
      "image/png": "[encoded data removed]",
      "text/plain": [
       "<Figure size 432x288 with 1 Axes>"
      ]
     },
     "metadata": {
      "needs_background": "light"
     },
     "output_type": "display_data"
    }
   ],
   "source": [
    "dist_rev = dist[::-1]\n",
    "idxs = range(1, len(dist) + 1)\n",
    "plt.plot(idxs, dist_rev, marker='o')\n",
    "plt.title('Distance between merged clusters')\n",
    "plt.xlabel('Step')\n",
    "plt.ylabel('Distance')\n",
    "plt.axhline(3, c='k', linestyle='dashed')\n",
    "plt.axhline(2.52, c='k', linestyle='dashed')\n",
    "plt.text(25, 3.1, '3 clusters')\n",
    "plt.text(22, 2.6, '4 clusters')"
   ]
  },
  {
   "cell_type": "markdown",
   "id": "swiss-conference",
   "metadata": {},
   "source": [
    "Из картинки видно, что если мы остановимся объединять кластеры при расстоянии равном примерно 2.5, мы получим 4 кластера, а при равном 3 - 3 кластера.\n",
    "\n",
    "Однако, строго говоря, этот способ всё ещё немасштабируем для больших данных. Но его можно просто поправить, включая в график не все подряд слияния, а только несколько последних. И если уж мы совсем хотим автомаизировать процесс, то факт сильного изменения расстояний между кластерами можно фиксировать с помощью производной: там где график выходит на горизонталь, производная станет почти нулём."
   ]
  },
  {
   "cell_type": "markdown",
   "id": "cosmetic-release",
   "metadata": {},
   "source": [
    "Пример 2. Кластеризация претендентов\n",
    "----------------------"
   ]
  },
  {
   "cell_type": "markdown",
   "id": "handy-basics",
   "metadata": {},
   "source": [
    "Рассмотрим данные о приеме на работу на некоторое предприятие. 18 претендентов прошли 10 различных тестов в кадровом отделе. Максимальная оценка, которую можно было получить за каждый из тестов, составляет 10 баллов, минимальная - 1 балл.Проверялись следующие качества:\n",
    "1. Память на числа.\n",
    "2. Умение решать математические задачи.\n",
    "3. Находчивость при прямом диалоге.\n",
    "4. Умение составлять алгоритмы.\n",
    "5. Уверенность во время выступления.\n",
    "6. Командный дух.\n",
    "7. Находчивость.\n",
    "8. Сотрудничество.\n",
    "9. Признание в коллективе.\n",
    "10. Сила убеждения."
   ]
  },
  {
   "cell_type": "code",
   "execution_count": 15,
   "id": "common-report",
   "metadata": {},
   "outputs": [
    {
     "data": {
      "text/html": [
       "<div>\n",
       "<style scoped>\n",
       "    .dataframe tbody tr th:only-of-type {\n",
       "        vertical-align: middle;\n",
       "    }\n",
       "\n",
       "    .dataframe tbody tr th {\n",
       "        vertical-align: top;\n",
       "    }\n",
       "\n",
       "    .dataframe thead th {\n",
       "        text-align: right;\n",
       "    }\n",
       "</style>\n",
       "<table border=\"1\" class=\"dataframe\">\n",
       "  <thead>\n",
       "    <tr style=\"text-align: right;\">\n",
       "      <th></th>\n",
       "      <th>NR</th>\n",
       "      <th>T1</th>\n",
       "      <th>T2</th>\n",
       "      <th>T3</th>\n",
       "      <th>T4</th>\n",
       "      <th>T5</th>\n",
       "      <th>T6</th>\n",
       "      <th>T7</th>\n",
       "      <th>T8</th>\n",
       "      <th>T9</th>\n",
       "      <th>T10</th>\n",
       "    </tr>\n",
       "    <tr>\n",
       "      <th>NAME</th>\n",
       "      <th></th>\n",
       "      <th></th>\n",
       "      <th></th>\n",
       "      <th></th>\n",
       "      <th></th>\n",
       "      <th></th>\n",
       "      <th></th>\n",
       "      <th></th>\n",
       "      <th></th>\n",
       "      <th></th>\n",
       "      <th></th>\n",
       "    </tr>\n",
       "  </thead>\n",
       "  <tbody>\n",
       "    <tr>\n",
       "      <th>Volker</th>\n",
       "      <td>1</td>\n",
       "      <td>10</td>\n",
       "      <td>10</td>\n",
       "      <td>9</td>\n",
       "      <td>10</td>\n",
       "      <td>10</td>\n",
       "      <td>10</td>\n",
       "      <td>9</td>\n",
       "      <td>10</td>\n",
       "      <td>10</td>\n",
       "      <td>9</td>\n",
       "    </tr>\n",
       "    <tr>\n",
       "      <th>Sigrid</th>\n",
       "      <td>2</td>\n",
       "      <td>10</td>\n",
       "      <td>10</td>\n",
       "      <td>4</td>\n",
       "      <td>10</td>\n",
       "      <td>5</td>\n",
       "      <td>5</td>\n",
       "      <td>4</td>\n",
       "      <td>5</td>\n",
       "      <td>4</td>\n",
       "      <td>3</td>\n",
       "    </tr>\n",
       "    <tr>\n",
       "      <th>Elmar</th>\n",
       "      <td>3</td>\n",
       "      <td>5</td>\n",
       "      <td>4</td>\n",
       "      <td>10</td>\n",
       "      <td>5</td>\n",
       "      <td>10</td>\n",
       "      <td>4</td>\n",
       "      <td>10</td>\n",
       "      <td>5</td>\n",
       "      <td>3</td>\n",
       "      <td>10</td>\n",
       "    </tr>\n",
       "    <tr>\n",
       "      <th>Peter</th>\n",
       "      <td>4</td>\n",
       "      <td>10</td>\n",
       "      <td>10</td>\n",
       "      <td>9</td>\n",
       "      <td>10</td>\n",
       "      <td>10</td>\n",
       "      <td>10</td>\n",
       "      <td>9</td>\n",
       "      <td>10</td>\n",
       "      <td>10</td>\n",
       "      <td>9</td>\n",
       "    </tr>\n",
       "    <tr>\n",
       "      <th>Otto</th>\n",
       "      <td>5</td>\n",
       "      <td>4</td>\n",
       "      <td>3</td>\n",
       "      <td>5</td>\n",
       "      <td>4</td>\n",
       "      <td>3</td>\n",
       "      <td>10</td>\n",
       "      <td>4</td>\n",
       "      <td>10</td>\n",
       "      <td>10</td>\n",
       "      <td>5</td>\n",
       "    </tr>\n",
       "  </tbody>\n",
       "</table>\n",
       "</div>"
      ],
      "text/plain": [
       "        NR  T1  T2  T3  T4  T5  T6  T7  T8  T9  T10\n",
       "NAME                                               \n",
       "Volker   1  10  10   9  10  10  10   9  10  10    9\n",
       "Sigrid   2  10  10   4  10   5   5   4   5   4    3\n",
       "Elmar    3   5   4  10   5  10   4  10   5   3   10\n",
       "Peter    4  10  10   9  10  10  10   9  10  10    9\n",
       "Otto     5   4   3   5   4   3  10   4  10  10    5"
      ]
     },
     "execution_count": 15,
     "metadata": {},
     "output_type": "execute_result"
    }
   ],
   "source": [
    "df = pd.read_csv('assess.dat', sep='\\t', index_col='NAME')\n",
    "df.head()"
   ]
  },
  {
   "cell_type": "code",
   "execution_count": 16,
   "id": "concerned-wright",
   "metadata": {
    "tags": []
   },
   "outputs": [],
   "source": [
    "# В колонке NR находится номер объекта, его нужно исключить из данных для кластеризации\n",
    "del df['NR']"
   ]
  },
  {
   "cell_type": "code",
   "execution_count": 17,
   "id": "organizational-advantage",
   "metadata": {},
   "outputs": [
    {
     "data": {
      "image/png": "[encoded data removed]",
      "text/plain": [
       "<Figure size 432x288 with 1 Axes>"
      ]
     },
     "metadata": {
      "needs_background": "light"
     },
     "output_type": "display_data"
    }
   ],
   "source": [
    "link = linkage(df, 'ward', 'euclidean')\n",
    "dn = dendrogram(link)"
   ]
  },
  {
   "cell_type": "code",
   "execution_count": 18,
   "id": "simple-exception",
   "metadata": {
    "tags": []
   },
   "outputs": [],
   "source": [
    "df['cluster'] = fcluster(link, 4, criterion='maxclust')"
   ]
  },
  {
   "cell_type": "code",
   "execution_count": 19,
   "id": "painted-equation",
   "metadata": {},
   "outputs": [
    {
     "data": {
      "text/html": [
       "<div>\n",
       "<style scoped>\n",
       "    .dataframe tbody tr th:only-of-type {\n",
       "        vertical-align: middle;\n",
       "    }\n",
       "\n",
       "    .dataframe tbody tr th {\n",
       "        vertical-align: top;\n",
       "    }\n",
       "\n",
       "    .dataframe thead th {\n",
       "        text-align: right;\n",
       "    }\n",
       "</style>\n",
       "<table border=\"1\" class=\"dataframe\">\n",
       "  <thead>\n",
       "    <tr style=\"text-align: right;\">\n",
       "      <th></th>\n",
       "      <th>T1</th>\n",
       "      <th>T2</th>\n",
       "      <th>T3</th>\n",
       "      <th>T4</th>\n",
       "      <th>T5</th>\n",
       "      <th>T6</th>\n",
       "      <th>T7</th>\n",
       "      <th>T8</th>\n",
       "      <th>T9</th>\n",
       "      <th>T10</th>\n",
       "    </tr>\n",
       "    <tr>\n",
       "      <th>cluster</th>\n",
       "      <th></th>\n",
       "      <th></th>\n",
       "      <th></th>\n",
       "      <th></th>\n",
       "      <th></th>\n",
       "      <th></th>\n",
       "      <th></th>\n",
       "      <th></th>\n",
       "      <th></th>\n",
       "      <th></th>\n",
       "    </tr>\n",
       "  </thead>\n",
       "  <tbody>\n",
       "    <tr>\n",
       "      <th>1</th>\n",
       "      <td>4.2</td>\n",
       "      <td>4.8</td>\n",
       "      <td>10.00</td>\n",
       "      <td>4.4</td>\n",
       "      <td>10.00</td>\n",
       "      <td>4.4</td>\n",
       "      <td>10.00</td>\n",
       "      <td>4.00</td>\n",
       "      <td>3.80</td>\n",
       "      <td>10.00</td>\n",
       "    </tr>\n",
       "    <tr>\n",
       "      <th>2</th>\n",
       "      <td>4.8</td>\n",
       "      <td>4.4</td>\n",
       "      <td>4.00</td>\n",
       "      <td>4.0</td>\n",
       "      <td>4.20</td>\n",
       "      <td>10.0</td>\n",
       "      <td>4.40</td>\n",
       "      <td>10.00</td>\n",
       "      <td>10.00</td>\n",
       "      <td>5.00</td>\n",
       "    </tr>\n",
       "    <tr>\n",
       "      <th>3</th>\n",
       "      <td>10.0</td>\n",
       "      <td>10.0</td>\n",
       "      <td>9.00</td>\n",
       "      <td>10.0</td>\n",
       "      <td>10.00</td>\n",
       "      <td>9.5</td>\n",
       "      <td>9.25</td>\n",
       "      <td>9.75</td>\n",
       "      <td>10.00</td>\n",
       "      <td>9.50</td>\n",
       "    </tr>\n",
       "    <tr>\n",
       "      <th>4</th>\n",
       "      <td>10.0</td>\n",
       "      <td>10.0</td>\n",
       "      <td>4.25</td>\n",
       "      <td>10.0</td>\n",
       "      <td>4.75</td>\n",
       "      <td>4.5</td>\n",
       "      <td>3.75</td>\n",
       "      <td>4.25</td>\n",
       "      <td>4.25</td>\n",
       "      <td>4.25</td>\n",
       "    </tr>\n",
       "  </tbody>\n",
       "</table>\n",
       "</div>"
      ],
      "text/plain": [
       "           T1    T2     T3    T4     T5    T6     T7     T8     T9    T10\n",
       "cluster                                                                  \n",
       "1         4.2   4.8  10.00   4.4  10.00   4.4  10.00   4.00   3.80  10.00\n",
       "2         4.8   4.4   4.00   4.0   4.20  10.0   4.40  10.00  10.00   5.00\n",
       "3        10.0  10.0   9.00  10.0  10.00   9.5   9.25   9.75  10.00   9.50\n",
       "4        10.0  10.0   4.25  10.0   4.75   4.5   3.75   4.25   4.25   4.25"
      ]
     },
     "execution_count": 19,
     "metadata": {},
     "output_type": "execute_result"
    }
   ],
   "source": [
    "df.groupby('cluster').mean()"
   ]
  },
  {
   "cell_type": "markdown",
   "id": "automatic-essay",
   "metadata": {},
   "source": [
    "Интерпретация кластеров:\n",
    "* Кластер 1 - продажники.\n",
    "* Кластер 2 - исполнители (работа в коллективе).\n",
    "* Кластер 3 - отличники.\n",
    "* Кластер 4 - аналитики."
   ]
  },
  {
   "cell_type": "markdown",
   "id": "focal-governor",
   "metadata": {},
   "source": [
    "Пример 3. Потребление протеинов в Европе\n",
    "------------------"
   ]
  },
  {
   "cell_type": "markdown",
   "id": "informed-clear",
   "metadata": {},
   "source": [
    "В файле представлены данные о том, как питаются люди в разных странах Европы, а именно сколько потребляют протеинов через предпочитаемые продукты. Виды продуктов:\n",
    "* RedMeat - красное мясо;\n",
    "* WhiteMeat - птица;\n",
    "* Eggs - яйца;\n",
    "* Milk - молоко;\n",
    "* Fish - рыба;\n",
    "* Cereals - хлебо-булочные изделия;\n",
    "* Starch - макароны, крахмал;\n",
    "* Nuts - орехи;\n",
    "* Fr&Veg - фрукты и овощи."
   ]
  },
  {
   "cell_type": "code",
   "execution_count": 20,
   "id": "exclusive-envelope",
   "metadata": {},
   "outputs": [
    {
     "data": {
      "text/html": [
       "<div>\n",
       "<style scoped>\n",
       "    .dataframe tbody tr th:only-of-type {\n",
       "        vertical-align: middle;\n",
       "    }\n",
       "\n",
       "    .dataframe tbody tr th {\n",
       "        vertical-align: top;\n",
       "    }\n",
       "\n",
       "    .dataframe thead th {\n",
       "        text-align: right;\n",
       "    }\n",
       "</style>\n",
       "<table border=\"1\" class=\"dataframe\">\n",
       "  <thead>\n",
       "    <tr style=\"text-align: right;\">\n",
       "      <th></th>\n",
       "      <th>RedMeat</th>\n",
       "      <th>WhiteMeat</th>\n",
       "      <th>Eggs</th>\n",
       "      <th>Milk</th>\n",
       "      <th>Fish</th>\n",
       "      <th>Cereals</th>\n",
       "      <th>Starch</th>\n",
       "      <th>Nuts</th>\n",
       "      <th>Fr&amp;Veg</th>\n",
       "    </tr>\n",
       "    <tr>\n",
       "      <th>Country</th>\n",
       "      <th></th>\n",
       "      <th></th>\n",
       "      <th></th>\n",
       "      <th></th>\n",
       "      <th></th>\n",
       "      <th></th>\n",
       "      <th></th>\n",
       "      <th></th>\n",
       "      <th></th>\n",
       "    </tr>\n",
       "  </thead>\n",
       "  <tbody>\n",
       "    <tr>\n",
       "      <th>Albania</th>\n",
       "      <td>10.1</td>\n",
       "      <td>1.4</td>\n",
       "      <td>0.5</td>\n",
       "      <td>8.9</td>\n",
       "      <td>0.2</td>\n",
       "      <td>42.3</td>\n",
       "      <td>0.6</td>\n",
       "      <td>5.5</td>\n",
       "      <td>1.7</td>\n",
       "    </tr>\n",
       "    <tr>\n",
       "      <th>Austria</th>\n",
       "      <td>8.9</td>\n",
       "      <td>14.0</td>\n",
       "      <td>4.3</td>\n",
       "      <td>19.9</td>\n",
       "      <td>2.1</td>\n",
       "      <td>28.0</td>\n",
       "      <td>3.6</td>\n",
       "      <td>1.3</td>\n",
       "      <td>4.3</td>\n",
       "    </tr>\n",
       "    <tr>\n",
       "      <th>Belgium</th>\n",
       "      <td>13.5</td>\n",
       "      <td>9.3</td>\n",
       "      <td>4.1</td>\n",
       "      <td>17.5</td>\n",
       "      <td>4.5</td>\n",
       "      <td>26.6</td>\n",
       "      <td>5.7</td>\n",
       "      <td>2.1</td>\n",
       "      <td>4.0</td>\n",
       "    </tr>\n",
       "    <tr>\n",
       "      <th>Bulgaria</th>\n",
       "      <td>7.8</td>\n",
       "      <td>6.0</td>\n",
       "      <td>1.6</td>\n",
       "      <td>8.3</td>\n",
       "      <td>1.2</td>\n",
       "      <td>56.7</td>\n",
       "      <td>1.1</td>\n",
       "      <td>3.7</td>\n",
       "      <td>4.2</td>\n",
       "    </tr>\n",
       "    <tr>\n",
       "      <th>Czechoslovakia</th>\n",
       "      <td>9.7</td>\n",
       "      <td>11.4</td>\n",
       "      <td>2.8</td>\n",
       "      <td>12.5</td>\n",
       "      <td>2.0</td>\n",
       "      <td>34.3</td>\n",
       "      <td>5.0</td>\n",
       "      <td>1.1</td>\n",
       "      <td>4.0</td>\n",
       "    </tr>\n",
       "  </tbody>\n",
       "</table>\n",
       "</div>"
      ],
      "text/plain": [
       "                RedMeat  WhiteMeat  Eggs  Milk  Fish  Cereals  Starch  Nuts  \\\n",
       "Country                                                                       \n",
       "Albania            10.1        1.4   0.5   8.9   0.2     42.3     0.6   5.5   \n",
       "Austria             8.9       14.0   4.3  19.9   2.1     28.0     3.6   1.3   \n",
       "Belgium            13.5        9.3   4.1  17.5   4.5     26.6     5.7   2.1   \n",
       "Bulgaria            7.8        6.0   1.6   8.3   1.2     56.7     1.1   3.7   \n",
       "Czechoslovakia      9.7       11.4   2.8  12.5   2.0     34.3     5.0   1.1   \n",
       "\n",
       "                Fr&Veg  \n",
       "Country                 \n",
       "Albania            1.7  \n",
       "Austria            4.3  \n",
       "Belgium            4.0  \n",
       "Bulgaria           4.2  \n",
       "Czechoslovakia     4.0  "
      ]
     },
     "execution_count": 20,
     "metadata": {},
     "output_type": "execute_result"
    }
   ],
   "source": [
    "df = pd.read_csv('Protein Consumption in Europe.csv', sep=';', decimal=',', index_col='Country')\n",
    "df.head()"
   ]
  },
  {
   "cell_type": "markdown",
   "id": "satisfied-paste",
   "metadata": {},
   "source": [
    "Стандартизация данных\n",
    "--------------------\n",
    "В этом примере данные, которые мы собираемся кластеризовать, хотя и находятся в одних и тех же единицах измерения, но местами они различаются почти на два порядка, так что будет не лишним их стандартизировать перед анализом. \n",
    "\n",
    "В модуле preprocessing библиотеки sklearn реализованы несколько классов стандартизации данных:\n",
    "* StandardScaler - приведение к нулевому среднему и единичной дисперсии.\n",
    "* MinMaxScaler - приведение данных к отрезку [0, 1].\n",
    "* MaxAbsScaler - приведение к [-1, 1] (рекомендуется для разреженных данных).\n",
    "\n",
    "Замечание. У этих методов есть чуть более лёгкие методы-аналоги ```scale```, ```minmax_scale``` и ```maxabs_scale```, которые делают практически то же самое, но для supervized задач машинного обучения, которые встретяся позже, удобнее использовать именно изначально указанные классы.\n",
    "\n",
    "Процесс стандартизации выглядит так:"
   ]
  },
  {
   "cell_type": "code",
   "execution_count": 21,
   "id": "reflected-recognition",
   "metadata": {
    "tags": []
   },
   "outputs": [],
   "source": [
    "# Выбираем один из вариантов нормализации\n",
    "norm = preprocessing.StandardScaler()\n",
    "# norm = preprocessing.MaxAbsScaler()\n",
    "# norm = preprocessing.MinMaxScaler()\n",
    "\n",
    "# вычисляем параметры нормализации (они будут сохранены внутри объекта norm)\n",
    "norm.fit(df)\n",
    "# преобразовываем данные с параметрами\n",
    "X = norm.transform(df)\n",
    "# Полученный на предыдущем шаге объект X - это матрица класса numpy.ndarray.\n",
    "# Глазами на неё смотреть неудобно, лучше преобразовать её в объект класса pandas.DataFrame.\n",
    "X = pd.DataFrame(X, index=df.index, columns=df.columns)"
   ]
  },
  {
   "cell_type": "code",
   "execution_count": 22,
   "id": "spanish-nothing",
   "metadata": {},
   "outputs": [
    {
     "data": {
      "text/html": [
       "<div>\n",
       "<style scoped>\n",
       "    .dataframe tbody tr th:only-of-type {\n",
       "        vertical-align: middle;\n",
       "    }\n",
       "\n",
       "    .dataframe tbody tr th {\n",
       "        vertical-align: top;\n",
       "    }\n",
       "\n",
       "    .dataframe thead th {\n",
       "        text-align: right;\n",
       "    }\n",
       "</style>\n",
       "<table border=\"1\" class=\"dataframe\">\n",
       "  <thead>\n",
       "    <tr style=\"text-align: right;\">\n",
       "      <th></th>\n",
       "      <th>RedMeat</th>\n",
       "      <th>WhiteMeat</th>\n",
       "      <th>Eggs</th>\n",
       "      <th>Milk</th>\n",
       "      <th>Fish</th>\n",
       "      <th>Cereals</th>\n",
       "      <th>Starch</th>\n",
       "      <th>Nuts</th>\n",
       "      <th>Fr&amp;Veg</th>\n",
       "    </tr>\n",
       "    <tr>\n",
       "      <th>Country</th>\n",
       "      <th></th>\n",
       "      <th></th>\n",
       "      <th></th>\n",
       "      <th></th>\n",
       "      <th></th>\n",
       "      <th></th>\n",
       "      <th></th>\n",
       "      <th></th>\n",
       "      <th></th>\n",
       "    </tr>\n",
       "  </thead>\n",
       "  <tbody>\n",
       "    <tr>\n",
       "      <th>Albania</th>\n",
       "      <td>0.082941</td>\n",
       "      <td>-1.794750</td>\n",
       "      <td>-2.224584</td>\n",
       "      <td>-1.179570</td>\n",
       "      <td>-1.225033</td>\n",
       "      <td>0.934804</td>\n",
       "      <td>-2.295965</td>\n",
       "      <td>1.247968</td>\n",
       "      <td>-1.378251</td>\n",
       "    </tr>\n",
       "    <tr>\n",
       "      <th>Austria</th>\n",
       "      <td>-0.282974</td>\n",
       "      <td>1.686446</td>\n",
       "      <td>1.245621</td>\n",
       "      <td>0.400468</td>\n",
       "      <td>-0.655111</td>\n",
       "      <td>-0.395051</td>\n",
       "      <td>-0.422218</td>\n",
       "      <td>-0.910790</td>\n",
       "      <td>0.092789</td>\n",
       "    </tr>\n",
       "    <tr>\n",
       "      <th>Belgium</th>\n",
       "      <td>1.119699</td>\n",
       "      <td>0.387905</td>\n",
       "      <td>1.062979</td>\n",
       "      <td>0.055732</td>\n",
       "      <td>0.064791</td>\n",
       "      <td>-0.525246</td>\n",
       "      <td>0.889405</td>\n",
       "      <td>-0.499598</td>\n",
       "      <td>-0.076947</td>\n",
       "    </tr>\n",
       "    <tr>\n",
       "      <th>Bulgaria</th>\n",
       "      <td>-0.618396</td>\n",
       "      <td>-0.523837</td>\n",
       "      <td>-1.220051</td>\n",
       "      <td>-1.265754</td>\n",
       "      <td>-0.925074</td>\n",
       "      <td>2.273959</td>\n",
       "      <td>-1.983674</td>\n",
       "      <td>0.322786</td>\n",
       "      <td>0.036210</td>\n",
       "    </tr>\n",
       "    <tr>\n",
       "      <th>Czechoslovakia</th>\n",
       "      <td>-0.039031</td>\n",
       "      <td>0.968104</td>\n",
       "      <td>-0.124197</td>\n",
       "      <td>-0.662467</td>\n",
       "      <td>-0.685107</td>\n",
       "      <td>0.190830</td>\n",
       "      <td>0.452198</td>\n",
       "      <td>-1.013588</td>\n",
       "      <td>-0.076947</td>\n",
       "    </tr>\n",
       "  </tbody>\n",
       "</table>\n",
       "</div>"
      ],
      "text/plain": [
       "                 RedMeat  WhiteMeat      Eggs      Milk      Fish   Cereals  \\\n",
       "Country                                                                       \n",
       "Albania         0.082941  -1.794750 -2.224584 -1.179570 -1.225033  0.934804   \n",
       "Austria        -0.282974   1.686446  1.245621  0.400468 -0.655111 -0.395051   \n",
       "Belgium         1.119699   0.387905  1.062979  0.055732  0.064791 -0.525246   \n",
       "Bulgaria       -0.618396  -0.523837 -1.220051 -1.265754 -0.925074  2.273959   \n",
       "Czechoslovakia -0.039031   0.968104 -0.124197 -0.662467 -0.685107  0.190830   \n",
       "\n",
       "                  Starch      Nuts    Fr&Veg  \n",
       "Country                                       \n",
       "Albania        -2.295965  1.247968 -1.378251  \n",
       "Austria        -0.422218 -0.910790  0.092789  \n",
       "Belgium         0.889405 -0.499598 -0.076947  \n",
       "Bulgaria       -1.983674  0.322786  0.036210  \n",
       "Czechoslovakia  0.452198 -1.013588 -0.076947  "
      ]
     },
     "execution_count": 22,
     "metadata": {},
     "output_type": "execute_result"
    }
   ],
   "source": [
    "X.head()"
   ]
  },
  {
   "cell_type": "code",
   "execution_count": 23,
   "id": "phantom-difficulty",
   "metadata": {},
   "outputs": [
    {
     "data": {
      "image/png": "[encoded data removed]",
      "text/plain": [
       "<Figure size 432x288 with 1 Axes>"
      ]
     },
     "metadata": {
      "needs_background": "light"
     },
     "output_type": "display_data"
    }
   ],
   "source": [
    "link = linkage(X, 'ward', 'euclidean')\n",
    "dn = dendrogram(link,\n",
    "                # массив с названиями объектов для подписи по оси X\n",
    "                labels=X.index.tolist(),\n",
    "                # опция для более красивого отображения слишком ветввистой дендрограммы\n",
    "                truncate_mode='lastp',\n",
    "                # повернуть подписи вертикально\n",
    "                color_threshold=5,\n",
    "                leaf_rotation=90.)"
   ]
  },
  {
   "cell_type": "code",
   "execution_count": 24,
   "id": "intermediate-foster",
   "metadata": {
    "tags": []
   },
   "outputs": [],
   "source": [
    "df['cluster'] = fcluster(link, 4, criterion='maxclust')"
   ]
  },
  {
   "cell_type": "code",
   "execution_count": 25,
   "id": "painted-bolivia",
   "metadata": {},
   "outputs": [
    {
     "data": {
      "text/html": [
       "<div>\n",
       "<style scoped>\n",
       "    .dataframe tbody tr th:only-of-type {\n",
       "        vertical-align: middle;\n",
       "    }\n",
       "\n",
       "    .dataframe tbody tr th {\n",
       "        vertical-align: top;\n",
       "    }\n",
       "\n",
       "    .dataframe thead th {\n",
       "        text-align: right;\n",
       "    }\n",
       "</style>\n",
       "<table border=\"1\" class=\"dataframe\">\n",
       "  <thead>\n",
       "    <tr style=\"text-align: right;\">\n",
       "      <th></th>\n",
       "      <th>RedMeat</th>\n",
       "      <th>WhiteMeat</th>\n",
       "      <th>Eggs</th>\n",
       "      <th>Milk</th>\n",
       "      <th>Fish</th>\n",
       "      <th>Cereals</th>\n",
       "      <th>Starch</th>\n",
       "      <th>Nuts</th>\n",
       "      <th>Fr&amp;Veg</th>\n",
       "    </tr>\n",
       "    <tr>\n",
       "      <th>cluster</th>\n",
       "      <th></th>\n",
       "      <th></th>\n",
       "      <th></th>\n",
       "      <th></th>\n",
       "      <th></th>\n",
       "      <th></th>\n",
       "      <th></th>\n",
       "      <th></th>\n",
       "      <th></th>\n",
       "    </tr>\n",
       "  </thead>\n",
       "  <tbody>\n",
       "    <tr>\n",
       "      <th>1</th>\n",
       "      <td>7.920000</td>\n",
       "      <td>10.040000</td>\n",
       "      <td>2.840000</td>\n",
       "      <td>13.84</td>\n",
       "      <td>2.740000</td>\n",
       "      <td>35.740</td>\n",
       "      <td>5.560000</td>\n",
       "      <td>2.540000</td>\n",
       "      <td>4.260000</td>\n",
       "    </tr>\n",
       "    <tr>\n",
       "      <th>2</th>\n",
       "      <td>12.091667</td>\n",
       "      <td>9.441667</td>\n",
       "      <td>3.708333</td>\n",
       "      <td>23.00</td>\n",
       "      <td>4.991667</td>\n",
       "      <td>24.025</td>\n",
       "      <td>4.616667</td>\n",
       "      <td>1.766667</td>\n",
       "      <td>3.491667</td>\n",
       "    </tr>\n",
       "    <tr>\n",
       "      <th>3</th>\n",
       "      <td>7.125000</td>\n",
       "      <td>4.675000</td>\n",
       "      <td>1.200000</td>\n",
       "      <td>9.45</td>\n",
       "      <td>0.750000</td>\n",
       "      <td>51.125</td>\n",
       "      <td>1.950000</td>\n",
       "      <td>5.050000</td>\n",
       "      <td>2.975000</td>\n",
       "    </tr>\n",
       "    <tr>\n",
       "      <th>4</th>\n",
       "      <td>8.125000</td>\n",
       "      <td>3.800000</td>\n",
       "      <td>2.475000</td>\n",
       "      <td>11.20</td>\n",
       "      <td>7.625000</td>\n",
       "      <td>33.675</td>\n",
       "      <td>3.975000</td>\n",
       "      <td>5.675000</td>\n",
       "      <td>7.075000</td>\n",
       "    </tr>\n",
       "  </tbody>\n",
       "</table>\n",
       "</div>"
      ],
      "text/plain": [
       "           RedMeat  WhiteMeat      Eggs   Milk      Fish  Cereals    Starch  \\\n",
       "cluster                                                                       \n",
       "1         7.920000  10.040000  2.840000  13.84  2.740000   35.740  5.560000   \n",
       "2        12.091667   9.441667  3.708333  23.00  4.991667   24.025  4.616667   \n",
       "3         7.125000   4.675000  1.200000   9.45  0.750000   51.125  1.950000   \n",
       "4         8.125000   3.800000  2.475000  11.20  7.625000   33.675  3.975000   \n",
       "\n",
       "             Nuts    Fr&Veg  \n",
       "cluster                      \n",
       "1        2.540000  4.260000  \n",
       "2        1.766667  3.491667  \n",
       "3        5.050000  2.975000  \n",
       "4        5.675000  7.075000  "
      ]
     },
     "execution_count": 25,
     "metadata": {},
     "output_type": "execute_result"
    }
   ],
   "source": [
    "df.groupby('cluster').mean()"
   ]
  },
  {
   "cell_type": "markdown",
   "id": "competitive-mortgage",
   "metadata": {},
   "source": [
    "Интерпретация кластеров:\n",
    "* Кластер 1 - центрально-европейские страны (обилие мясных, овощных блюд, изделий из пшеничной муки)\n",
    "* Кластер 2 - северные страны (рыба, мясо, богатые жирами)\n",
    "* Кластер 3 - средиземноморская диета (мало яиц и рыбы, много фруктов и хлебо-булочной продукции)\n",
    "* Кластер 4 - южные страны (фрукты, овощи, орехи, рыба)"
   ]
  },
  {
   "cell_type": "markdown",
   "id": "funny-appointment",
   "metadata": {},
   "source": [
    "Кластеризация методом k-means (k-средних)\n",
    "=============\n",
    "\n",
    "Полезные ссылки:\n",
    "* http://scikit-learn.org/stable/modules/generated/sklearn.cluster.KMeans.html\n",
    "* http://scikit-learn.org/stable/modules/clustering.html"
   ]
  },
  {
   "cell_type": "markdown",
   "id": "entitled-surgeon",
   "metadata": {},
   "source": [
    "Пример 1. Beverage\n",
    "--------"
   ]
  },
  {
   "cell_type": "code",
   "execution_count": 26,
   "id": "modern-miami",
   "metadata": {},
   "outputs": [
    {
     "data": {
      "text/html": [
       "<div>\n",
       "<style scoped>\n",
       "    .dataframe tbody tr th:only-of-type {\n",
       "        vertical-align: middle;\n",
       "    }\n",
       "\n",
       "    .dataframe tbody tr th {\n",
       "        vertical-align: top;\n",
       "    }\n",
       "\n",
       "    .dataframe thead th {\n",
       "        text-align: right;\n",
       "    }\n",
       "</style>\n",
       "<table border=\"1\" class=\"dataframe\">\n",
       "  <thead>\n",
       "    <tr style=\"text-align: right;\">\n",
       "      <th></th>\n",
       "      <th>COKE</th>\n",
       "      <th>D_COKE</th>\n",
       "      <th>D_PEPSI</th>\n",
       "      <th>D_7UP</th>\n",
       "      <th>PEPSI</th>\n",
       "      <th>SPRITE</th>\n",
       "      <th>TAB</th>\n",
       "      <th>SEVENUP</th>\n",
       "    </tr>\n",
       "    <tr>\n",
       "      <th>numb.obs</th>\n",
       "      <th></th>\n",
       "      <th></th>\n",
       "      <th></th>\n",
       "      <th></th>\n",
       "      <th></th>\n",
       "      <th></th>\n",
       "      <th></th>\n",
       "      <th></th>\n",
       "    </tr>\n",
       "  </thead>\n",
       "  <tbody>\n",
       "    <tr>\n",
       "      <th>1</th>\n",
       "      <td>1</td>\n",
       "      <td>0</td>\n",
       "      <td>0</td>\n",
       "      <td>0</td>\n",
       "      <td>1</td>\n",
       "      <td>1</td>\n",
       "      <td>0</td>\n",
       "      <td>1</td>\n",
       "    </tr>\n",
       "    <tr>\n",
       "      <th>2</th>\n",
       "      <td>1</td>\n",
       "      <td>0</td>\n",
       "      <td>0</td>\n",
       "      <td>0</td>\n",
       "      <td>1</td>\n",
       "      <td>0</td>\n",
       "      <td>0</td>\n",
       "      <td>0</td>\n",
       "    </tr>\n",
       "    <tr>\n",
       "      <th>3</th>\n",
       "      <td>1</td>\n",
       "      <td>0</td>\n",
       "      <td>0</td>\n",
       "      <td>0</td>\n",
       "      <td>1</td>\n",
       "      <td>0</td>\n",
       "      <td>0</td>\n",
       "      <td>0</td>\n",
       "    </tr>\n",
       "    <tr>\n",
       "      <th>4</th>\n",
       "      <td>0</td>\n",
       "      <td>1</td>\n",
       "      <td>0</td>\n",
       "      <td>1</td>\n",
       "      <td>0</td>\n",
       "      <td>0</td>\n",
       "      <td>1</td>\n",
       "      <td>0</td>\n",
       "    </tr>\n",
       "    <tr>\n",
       "      <th>5</th>\n",
       "      <td>1</td>\n",
       "      <td>0</td>\n",
       "      <td>0</td>\n",
       "      <td>0</td>\n",
       "      <td>1</td>\n",
       "      <td>0</td>\n",
       "      <td>0</td>\n",
       "      <td>0</td>\n",
       "    </tr>\n",
       "  </tbody>\n",
       "</table>\n",
       "</div>"
      ],
      "text/plain": [
       "          COKE  D_COKE  D_PEPSI  D_7UP  PEPSI  SPRITE  TAB  SEVENUP\n",
       "numb.obs                                                           \n",
       "1            1       0        0      0      1       1    0        1\n",
       "2            1       0        0      0      1       0    0        0\n",
       "3            1       0        0      0      1       0    0        0\n",
       "4            0       1        0      1      0       0    1        0\n",
       "5            1       0        0      0      1       0    0        0"
      ]
     },
     "execution_count": 26,
     "metadata": {},
     "output_type": "execute_result"
    }
   ],
   "source": [
    "df = pd.read_csv(\"beverage_r.csv\", sep=\";\", index_col='numb.obs')\n",
    "df.head()"
   ]
  },
  {
   "cell_type": "markdown",
   "id": "bacterial-provider",
   "metadata": {},
   "source": [
    "В scikit-learn процедура настройки и использования моделей часто проходит по одной и той же схеме:\n",
    "1. Инициализация модели, задание её параметров,\n",
    "2. Подгонка модели (метод fit и/или fit_transform),\n",
    "3. Предсказание для новых наблюдений (метод predict).\n",
    "\n",
    "Для кластеризации методом k-means необходимо задать k наперёд. Попробуем k = 2. "
   ]
  },
  {
   "cell_type": "code",
   "execution_count": 27,
   "id": "comic-forwarding",
   "metadata": {},
   "outputs": [],
   "source": [
    "# инициализация модели\n",
    "model = KMeans(n_clusters=2, random_state=42)\n",
    "# random_state - зерно датчика случайных чисел. \n",
    "# При каждом новом вызове с одинаковыми random_state модель будет давать\n",
    "# одинаковые результаты."
   ]
  },
  {
   "cell_type": "code",
   "execution_count": 28,
   "id": "heavy-provider",
   "metadata": {},
   "outputs": [
    {
     "data": {
      "text/plain": [
       "KMeans(n_clusters=2, random_state=42)"
      ]
     },
     "execution_count": 28,
     "metadata": {},
     "output_type": "execute_result"
    }
   ],
   "source": [
    "# подгонка модели по данным из df\n",
    "model.fit(df)"
   ]
  },
  {
   "cell_type": "code",
   "execution_count": 29,
   "id": "serious-antibody",
   "metadata": {},
   "outputs": [
    {
     "data": {
      "text/plain": [
       "array([0, 0, 0, 1, 0, 0, 1, 0, 0, 0, 0, 1, 1, 0, 1, 0, 1, 0, 0, 0, 0, 0,\n",
       "       1, 0, 1, 1, 1, 0, 0, 1, 0, 1, 0, 1])"
      ]
     },
     "execution_count": 29,
     "metadata": {},
     "output_type": "execute_result"
    }
   ],
   "source": [
    "# Результат кластеризации на данных df\n",
    "model.labels_"
   ]
  },
  {
   "cell_type": "code",
   "execution_count": 30,
   "id": "union-privacy",
   "metadata": {},
   "outputs": [
    {
     "data": {
      "text/plain": [
       "array([[ 9.52380952e-01,  2.38095238e-01,  4.76190476e-02,\n",
       "        -8.32667268e-17,  7.61904762e-01,  4.28571429e-01,\n",
       "         4.76190476e-02,  3.80952381e-01],\n",
       "       [ 1.11022302e-16,  9.23076923e-01,  5.38461538e-01,\n",
       "         5.38461538e-01, -5.55111512e-17,  1.53846154e-01,\n",
       "         7.69230769e-01,  7.69230769e-02]])"
      ]
     },
     "execution_count": 30,
     "metadata": {},
     "output_type": "execute_result"
    }
   ],
   "source": [
    "# координаты центров кластеров\n",
    "model.cluster_centers_"
   ]
  },
  {
   "cell_type": "code",
   "execution_count": 31,
   "id": "ranking-dancing",
   "metadata": {},
   "outputs": [
    {
     "data": {
      "text/plain": [
       "array([1, 0])"
      ]
     },
     "execution_count": 31,
     "metadata": {},
     "output_type": "execute_result"
    }
   ],
   "source": [
    "# предсказание для новых наблюдений. Метод predict.\n",
    "new_items = [\n",
    "    [1, 1, 1, 1, 1, 1, 1, 1],\n",
    "    [0, 0, 0, 0, 0, 0, 0, 0]\n",
    "]\n",
    "model.predict(new_items)"
   ]
  },
  {
   "cell_type": "markdown",
   "id": "desperate-feeding",
   "metadata": {},
   "source": [
    "Модель выше разбивала на два кластера. \n",
    "Как определить число кластеров?\n",
    "Применим модель для разного числа кластеров, чтобы построить график каменистой осыпи. Метод ```inertia_``` вернёт сумму расстояний от каждой точки данных до центра ближайшего к ней кластера. Таким образом, кластеризацию можно считать условно хорошей, когда инерция перестаёт сильно уменьшаться при увеличении числа кластеров."
   ]
  },
  {
   "cell_type": "code",
   "execution_count": 32,
   "id": "vertical-trail",
   "metadata": {
    "scrolled": true
   },
   "outputs": [
    {
     "name": "stderr",
     "output_type": "stream",
     "text": [
      "C:\\Users\\HP\\Anaconda3\\lib\\site-packages\\sklearn\\cluster\\_kmeans.py:882: UserWarning: KMeans is known to have a memory leak on Windows with MKL, when there are less chunks than available threads. You can avoid it by setting the environment variable OMP_NUM_THREADS=1.\n",
      "  f\"KMeans is known to have a memory leak on Windows \"\n"
     ]
    },
    {
     "data": {
      "image/png": "[encoded data removed]",
      "text/plain": [
       "<Figure size 432x288 with 1 Axes>"
      ]
     },
     "metadata": {
      "needs_background": "light"
     },
     "output_type": "display_data"
    }
   ],
   "source": [
    "K = range(1, 11)\n",
    "models = [KMeans(n_clusters=k, random_state=42).fit(df) for k in K]\n",
    "dist = [model.inertia_ for model in models]\n",
    "\n",
    "# Plot the elbow\n",
    "plt.plot(K, dist, marker='o')\n",
    "plt.xlabel('k')\n",
    "plt.ylabel('Sum of distances')\n",
    "plt.title('The Elbow Method showing the optimal k')\n",
    "plt.show()"
   ]
  },
  {
   "cell_type": "markdown",
   "id": "removed-pottery",
   "metadata": {},
   "source": [
    "Ранее мы решили, что три кластера - это оптимальный выбор. Теперь хочется посмотреть на список наблюдений, составляющий данные кластеры, и посмотреть, чем они отличаются друг от друга. Для этого применим метод ```labels_```, а затем посчитаем средние значения факторов для каждого кластера."
   ]
  },
  {
   "cell_type": "code",
   "execution_count": 33,
   "id": "cultural-newton",
   "metadata": {},
   "outputs": [
    {
     "data": {
      "text/html": [
       "<div>\n",
       "<style scoped>\n",
       "    .dataframe tbody tr th:only-of-type {\n",
       "        vertical-align: middle;\n",
       "    }\n",
       "\n",
       "    .dataframe tbody tr th {\n",
       "        vertical-align: top;\n",
       "    }\n",
       "\n",
       "    .dataframe thead th {\n",
       "        text-align: right;\n",
       "    }\n",
       "</style>\n",
       "<table border=\"1\" class=\"dataframe\">\n",
       "  <thead>\n",
       "    <tr style=\"text-align: right;\">\n",
       "      <th></th>\n",
       "      <th>COKE</th>\n",
       "      <th>D_COKE</th>\n",
       "      <th>D_PEPSI</th>\n",
       "      <th>D_7UP</th>\n",
       "      <th>PEPSI</th>\n",
       "      <th>SPRITE</th>\n",
       "      <th>TAB</th>\n",
       "      <th>SEVENUP</th>\n",
       "    </tr>\n",
       "    <tr>\n",
       "      <th>cluster</th>\n",
       "      <th></th>\n",
       "      <th></th>\n",
       "      <th></th>\n",
       "      <th></th>\n",
       "      <th></th>\n",
       "      <th></th>\n",
       "      <th></th>\n",
       "      <th></th>\n",
       "    </tr>\n",
       "  </thead>\n",
       "  <tbody>\n",
       "    <tr>\n",
       "      <th>0</th>\n",
       "      <td>0.727273</td>\n",
       "      <td>0.272727</td>\n",
       "      <td>0.090909</td>\n",
       "      <td>0.090909</td>\n",
       "      <td>0.454545</td>\n",
       "      <td>1.0</td>\n",
       "      <td>0.090909</td>\n",
       "      <td>0.454545</td>\n",
       "    </tr>\n",
       "    <tr>\n",
       "      <th>1</th>\n",
       "      <td>0.000000</td>\n",
       "      <td>1.000000</td>\n",
       "      <td>0.545455</td>\n",
       "      <td>0.545455</td>\n",
       "      <td>0.000000</td>\n",
       "      <td>0.0</td>\n",
       "      <td>0.909091</td>\n",
       "      <td>0.000000</td>\n",
       "    </tr>\n",
       "    <tr>\n",
       "      <th>2</th>\n",
       "      <td>1.000000</td>\n",
       "      <td>0.250000</td>\n",
       "      <td>0.083333</td>\n",
       "      <td>0.000000</td>\n",
       "      <td>0.916667</td>\n",
       "      <td>0.0</td>\n",
       "      <td>0.000000</td>\n",
       "      <td>0.333333</td>\n",
       "    </tr>\n",
       "  </tbody>\n",
       "</table>\n",
       "</div>"
      ],
      "text/plain": [
       "             COKE    D_COKE   D_PEPSI     D_7UP     PEPSI  SPRITE       TAB  \\\n",
       "cluster                                                                       \n",
       "0        0.727273  0.272727  0.090909  0.090909  0.454545     1.0  0.090909   \n",
       "1        0.000000  1.000000  0.545455  0.545455  0.000000     0.0  0.909091   \n",
       "2        1.000000  0.250000  0.083333  0.000000  0.916667     0.0  0.000000   \n",
       "\n",
       "          SEVENUP  \n",
       "cluster            \n",
       "0        0.454545  \n",
       "1        0.000000  \n",
       "2        0.333333  "
      ]
     },
     "execution_count": 33,
     "metadata": {},
     "output_type": "execute_result"
    }
   ],
   "source": [
    "model = KMeans(n_clusters=3, random_state=42)\n",
    "model.fit(df)\n",
    "df['cluster'] = model.labels_\n",
    "df.groupby('cluster').mean()"
   ]
  },
  {
   "cell_type": "code",
   "execution_count": 34,
   "id": "compound-insulation",
   "metadata": {},
   "outputs": [
    {
     "data": {
      "text/plain": [
       "cluster\n",
       "0    11\n",
       "1    11\n",
       "2    12\n",
       "dtype: int64"
      ]
     },
     "execution_count": 34,
     "metadata": {},
     "output_type": "execute_result"
    }
   ],
   "source": [
    "df.groupby('cluster').size()"
   ]
  },
  {
   "cell_type": "markdown",
   "id": "assumed-perspective",
   "metadata": {},
   "source": [
    "Пример 2. Кластеризация претендентов\n",
    "-------"
   ]
  },
  {
   "cell_type": "code",
   "execution_count": 35,
   "id": "difficult-delhi",
   "metadata": {},
   "outputs": [
    {
     "data": {
      "text/html": [
       "<div>\n",
       "<style scoped>\n",
       "    .dataframe tbody tr th:only-of-type {\n",
       "        vertical-align: middle;\n",
       "    }\n",
       "\n",
       "    .dataframe tbody tr th {\n",
       "        vertical-align: top;\n",
       "    }\n",
       "\n",
       "    .dataframe thead th {\n",
       "        text-align: right;\n",
       "    }\n",
       "</style>\n",
       "<table border=\"1\" class=\"dataframe\">\n",
       "  <thead>\n",
       "    <tr style=\"text-align: right;\">\n",
       "      <th></th>\n",
       "      <th>NR</th>\n",
       "      <th>T1</th>\n",
       "      <th>T2</th>\n",
       "      <th>T3</th>\n",
       "      <th>T4</th>\n",
       "      <th>T5</th>\n",
       "      <th>T6</th>\n",
       "      <th>T7</th>\n",
       "      <th>T8</th>\n",
       "      <th>T9</th>\n",
       "      <th>T10</th>\n",
       "    </tr>\n",
       "    <tr>\n",
       "      <th>NAME</th>\n",
       "      <th></th>\n",
       "      <th></th>\n",
       "      <th></th>\n",
       "      <th></th>\n",
       "      <th></th>\n",
       "      <th></th>\n",
       "      <th></th>\n",
       "      <th></th>\n",
       "      <th></th>\n",
       "      <th></th>\n",
       "      <th></th>\n",
       "    </tr>\n",
       "  </thead>\n",
       "  <tbody>\n",
       "    <tr>\n",
       "      <th>Volker</th>\n",
       "      <td>1</td>\n",
       "      <td>10</td>\n",
       "      <td>10</td>\n",
       "      <td>9</td>\n",
       "      <td>10</td>\n",
       "      <td>10</td>\n",
       "      <td>10</td>\n",
       "      <td>9</td>\n",
       "      <td>10</td>\n",
       "      <td>10</td>\n",
       "      <td>9</td>\n",
       "    </tr>\n",
       "    <tr>\n",
       "      <th>Sigrid</th>\n",
       "      <td>2</td>\n",
       "      <td>10</td>\n",
       "      <td>10</td>\n",
       "      <td>4</td>\n",
       "      <td>10</td>\n",
       "      <td>5</td>\n",
       "      <td>5</td>\n",
       "      <td>4</td>\n",
       "      <td>5</td>\n",
       "      <td>4</td>\n",
       "      <td>3</td>\n",
       "    </tr>\n",
       "    <tr>\n",
       "      <th>Elmar</th>\n",
       "      <td>3</td>\n",
       "      <td>5</td>\n",
       "      <td>4</td>\n",
       "      <td>10</td>\n",
       "      <td>5</td>\n",
       "      <td>10</td>\n",
       "      <td>4</td>\n",
       "      <td>10</td>\n",
       "      <td>5</td>\n",
       "      <td>3</td>\n",
       "      <td>10</td>\n",
       "    </tr>\n",
       "    <tr>\n",
       "      <th>Peter</th>\n",
       "      <td>4</td>\n",
       "      <td>10</td>\n",
       "      <td>10</td>\n",
       "      <td>9</td>\n",
       "      <td>10</td>\n",
       "      <td>10</td>\n",
       "      <td>10</td>\n",
       "      <td>9</td>\n",
       "      <td>10</td>\n",
       "      <td>10</td>\n",
       "      <td>9</td>\n",
       "    </tr>\n",
       "    <tr>\n",
       "      <th>Otto</th>\n",
       "      <td>5</td>\n",
       "      <td>4</td>\n",
       "      <td>3</td>\n",
       "      <td>5</td>\n",
       "      <td>4</td>\n",
       "      <td>3</td>\n",
       "      <td>10</td>\n",
       "      <td>4</td>\n",
       "      <td>10</td>\n",
       "      <td>10</td>\n",
       "      <td>5</td>\n",
       "    </tr>\n",
       "  </tbody>\n",
       "</table>\n",
       "</div>"
      ],
      "text/plain": [
       "        NR  T1  T2  T3  T4  T5  T6  T7  T8  T9  T10\n",
       "NAME                                               \n",
       "Volker   1  10  10   9  10  10  10   9  10  10    9\n",
       "Sigrid   2  10  10   4  10   5   5   4   5   4    3\n",
       "Elmar    3   5   4  10   5  10   4  10   5   3   10\n",
       "Peter    4  10  10   9  10  10  10   9  10  10    9\n",
       "Otto     5   4   3   5   4   3  10   4  10  10    5"
      ]
     },
     "execution_count": 35,
     "metadata": {},
     "output_type": "execute_result"
    }
   ],
   "source": [
    "df = pd.read_csv('assess.dat', sep='\\t', index_col='NAME')\n",
    "df.head()"
   ]
  },
  {
   "cell_type": "code",
   "execution_count": 36,
   "id": "tamil-steering",
   "metadata": {},
   "outputs": [],
   "source": [
    "# В колонке NR находится номер объекта, его нужно исключить из данных для кластеризации\n",
    "del df['NR']"
   ]
  },
  {
   "cell_type": "code",
   "execution_count": 37,
   "id": "thirty-novel",
   "metadata": {},
   "outputs": [
    {
     "data": {
      "text/html": [
       "<div>\n",
       "<style scoped>\n",
       "    .dataframe tbody tr th:only-of-type {\n",
       "        vertical-align: middle;\n",
       "    }\n",
       "\n",
       "    .dataframe tbody tr th {\n",
       "        vertical-align: top;\n",
       "    }\n",
       "\n",
       "    .dataframe thead th {\n",
       "        text-align: right;\n",
       "    }\n",
       "</style>\n",
       "<table border=\"1\" class=\"dataframe\">\n",
       "  <thead>\n",
       "    <tr style=\"text-align: right;\">\n",
       "      <th></th>\n",
       "      <th>T1</th>\n",
       "      <th>T2</th>\n",
       "      <th>T3</th>\n",
       "      <th>T4</th>\n",
       "      <th>T5</th>\n",
       "      <th>T6</th>\n",
       "      <th>T7</th>\n",
       "      <th>T8</th>\n",
       "      <th>T9</th>\n",
       "      <th>T10</th>\n",
       "    </tr>\n",
       "    <tr>\n",
       "      <th>cluster</th>\n",
       "      <th></th>\n",
       "      <th></th>\n",
       "      <th></th>\n",
       "      <th></th>\n",
       "      <th></th>\n",
       "      <th></th>\n",
       "      <th></th>\n",
       "      <th></th>\n",
       "      <th></th>\n",
       "      <th></th>\n",
       "    </tr>\n",
       "  </thead>\n",
       "  <tbody>\n",
       "    <tr>\n",
       "      <th>0</th>\n",
       "      <td>4.8</td>\n",
       "      <td>4.4</td>\n",
       "      <td>4.00</td>\n",
       "      <td>4.0</td>\n",
       "      <td>4.20</td>\n",
       "      <td>10.0</td>\n",
       "      <td>4.40</td>\n",
       "      <td>10.00</td>\n",
       "      <td>10.00</td>\n",
       "      <td>5.00</td>\n",
       "    </tr>\n",
       "    <tr>\n",
       "      <th>1</th>\n",
       "      <td>4.2</td>\n",
       "      <td>4.8</td>\n",
       "      <td>10.00</td>\n",
       "      <td>4.4</td>\n",
       "      <td>10.00</td>\n",
       "      <td>4.4</td>\n",
       "      <td>10.00</td>\n",
       "      <td>4.00</td>\n",
       "      <td>3.80</td>\n",
       "      <td>10.00</td>\n",
       "    </tr>\n",
       "    <tr>\n",
       "      <th>2</th>\n",
       "      <td>10.0</td>\n",
       "      <td>10.0</td>\n",
       "      <td>4.25</td>\n",
       "      <td>10.0</td>\n",
       "      <td>4.75</td>\n",
       "      <td>4.5</td>\n",
       "      <td>3.75</td>\n",
       "      <td>4.25</td>\n",
       "      <td>4.25</td>\n",
       "      <td>4.25</td>\n",
       "    </tr>\n",
       "    <tr>\n",
       "      <th>3</th>\n",
       "      <td>10.0</td>\n",
       "      <td>10.0</td>\n",
       "      <td>9.00</td>\n",
       "      <td>10.0</td>\n",
       "      <td>10.00</td>\n",
       "      <td>9.5</td>\n",
       "      <td>9.25</td>\n",
       "      <td>9.75</td>\n",
       "      <td>10.00</td>\n",
       "      <td>9.50</td>\n",
       "    </tr>\n",
       "  </tbody>\n",
       "</table>\n",
       "</div>"
      ],
      "text/plain": [
       "           T1    T2     T3    T4     T5    T6     T7     T8     T9    T10\n",
       "cluster                                                                  \n",
       "0         4.8   4.4   4.00   4.0   4.20  10.0   4.40  10.00  10.00   5.00\n",
       "1         4.2   4.8  10.00   4.4  10.00   4.4  10.00   4.00   3.80  10.00\n",
       "2        10.0  10.0   4.25  10.0   4.75   4.5   3.75   4.25   4.25   4.25\n",
       "3        10.0  10.0   9.00  10.0  10.00   9.5   9.25   9.75  10.00   9.50"
      ]
     },
     "execution_count": 37,
     "metadata": {},
     "output_type": "execute_result"
    }
   ],
   "source": [
    "model = KMeans(n_clusters=4, random_state=42)\n",
    "model.fit(df)\n",
    "df['cluster'] = model.labels_\n",
    "df.groupby('cluster').mean()"
   ]
  },
  {
   "cell_type": "markdown",
   "id": "double-polyester",
   "metadata": {},
   "source": [
    "Пример 3. Потребление протеинов в Европе\n",
    "---------------------"
   ]
  },
  {
   "cell_type": "code",
   "execution_count": 38,
   "id": "changed-symbol",
   "metadata": {},
   "outputs": [
    {
     "data": {
      "text/html": [
       "<div>\n",
       "<style scoped>\n",
       "    .dataframe tbody tr th:only-of-type {\n",
       "        vertical-align: middle;\n",
       "    }\n",
       "\n",
       "    .dataframe tbody tr th {\n",
       "        vertical-align: top;\n",
       "    }\n",
       "\n",
       "    .dataframe thead th {\n",
       "        text-align: right;\n",
       "    }\n",
       "</style>\n",
       "<table border=\"1\" class=\"dataframe\">\n",
       "  <thead>\n",
       "    <tr style=\"text-align: right;\">\n",
       "      <th></th>\n",
       "      <th>RedMeat</th>\n",
       "      <th>WhiteMeat</th>\n",
       "      <th>Eggs</th>\n",
       "      <th>Milk</th>\n",
       "      <th>Fish</th>\n",
       "      <th>Cereals</th>\n",
       "      <th>Starch</th>\n",
       "      <th>Nuts</th>\n",
       "      <th>Fr&amp;Veg</th>\n",
       "    </tr>\n",
       "    <tr>\n",
       "      <th>Country</th>\n",
       "      <th></th>\n",
       "      <th></th>\n",
       "      <th></th>\n",
       "      <th></th>\n",
       "      <th></th>\n",
       "      <th></th>\n",
       "      <th></th>\n",
       "      <th></th>\n",
       "      <th></th>\n",
       "    </tr>\n",
       "  </thead>\n",
       "  <tbody>\n",
       "    <tr>\n",
       "      <th>Albania</th>\n",
       "      <td>10.1</td>\n",
       "      <td>1.4</td>\n",
       "      <td>0.5</td>\n",
       "      <td>8.9</td>\n",
       "      <td>0.2</td>\n",
       "      <td>42.3</td>\n",
       "      <td>0.6</td>\n",
       "      <td>5.5</td>\n",
       "      <td>1.7</td>\n",
       "    </tr>\n",
       "    <tr>\n",
       "      <th>Austria</th>\n",
       "      <td>8.9</td>\n",
       "      <td>14.0</td>\n",
       "      <td>4.3</td>\n",
       "      <td>19.9</td>\n",
       "      <td>2.1</td>\n",
       "      <td>28.0</td>\n",
       "      <td>3.6</td>\n",
       "      <td>1.3</td>\n",
       "      <td>4.3</td>\n",
       "    </tr>\n",
       "    <tr>\n",
       "      <th>Belgium</th>\n",
       "      <td>13.5</td>\n",
       "      <td>9.3</td>\n",
       "      <td>4.1</td>\n",
       "      <td>17.5</td>\n",
       "      <td>4.5</td>\n",
       "      <td>26.6</td>\n",
       "      <td>5.7</td>\n",
       "      <td>2.1</td>\n",
       "      <td>4.0</td>\n",
       "    </tr>\n",
       "    <tr>\n",
       "      <th>Bulgaria</th>\n",
       "      <td>7.8</td>\n",
       "      <td>6.0</td>\n",
       "      <td>1.6</td>\n",
       "      <td>8.3</td>\n",
       "      <td>1.2</td>\n",
       "      <td>56.7</td>\n",
       "      <td>1.1</td>\n",
       "      <td>3.7</td>\n",
       "      <td>4.2</td>\n",
       "    </tr>\n",
       "    <tr>\n",
       "      <th>Czechoslovakia</th>\n",
       "      <td>9.7</td>\n",
       "      <td>11.4</td>\n",
       "      <td>2.8</td>\n",
       "      <td>12.5</td>\n",
       "      <td>2.0</td>\n",
       "      <td>34.3</td>\n",
       "      <td>5.0</td>\n",
       "      <td>1.1</td>\n",
       "      <td>4.0</td>\n",
       "    </tr>\n",
       "  </tbody>\n",
       "</table>\n",
       "</div>"
      ],
      "text/plain": [
       "                RedMeat  WhiteMeat  Eggs  Milk  Fish  Cereals  Starch  Nuts  \\\n",
       "Country                                                                       \n",
       "Albania            10.1        1.4   0.5   8.9   0.2     42.3     0.6   5.5   \n",
       "Austria             8.9       14.0   4.3  19.9   2.1     28.0     3.6   1.3   \n",
       "Belgium            13.5        9.3   4.1  17.5   4.5     26.6     5.7   2.1   \n",
       "Bulgaria            7.8        6.0   1.6   8.3   1.2     56.7     1.1   3.7   \n",
       "Czechoslovakia      9.7       11.4   2.8  12.5   2.0     34.3     5.0   1.1   \n",
       "\n",
       "                Fr&Veg  \n",
       "Country                 \n",
       "Albania            1.7  \n",
       "Austria            4.3  \n",
       "Belgium            4.0  \n",
       "Bulgaria           4.2  \n",
       "Czechoslovakia     4.0  "
      ]
     },
     "execution_count": 38,
     "metadata": {},
     "output_type": "execute_result"
    }
   ],
   "source": [
    "df = pd.read_csv('Protein Consumption in Europe.csv', sep=';', decimal=',', index_col='Country')\n",
    "df.head()"
   ]
  },
  {
   "cell_type": "code",
   "execution_count": 39,
   "id": "technical-separate",
   "metadata": {},
   "outputs": [],
   "source": [
    "# Стандартизируем данные\n",
    "norm = preprocessing.StandardScaler()\n",
    "norm.fit(df)\n",
    "X = norm.transform(df)"
   ]
  },
  {
   "cell_type": "code",
   "execution_count": 40,
   "id": "worldwide-algorithm",
   "metadata": {},
   "outputs": [
    {
     "name": "stderr",
     "output_type": "stream",
     "text": [
      "C:\\Users\\HP\\Anaconda3\\lib\\site-packages\\sklearn\\cluster\\_kmeans.py:882: UserWarning: KMeans is known to have a memory leak on Windows with MKL, when there are less chunks than available threads. You can avoid it by setting the environment variable OMP_NUM_THREADS=1.\n",
      "  f\"KMeans is known to have a memory leak on Windows \"\n"
     ]
    },
    {
     "data": {
      "image/png": "[encoded data removed]",
      "text/plain": [
       "<Figure size 432x288 with 1 Axes>"
      ]
     },
     "metadata": {
      "needs_background": "light"
     },
     "output_type": "display_data"
    }
   ],
   "source": [
    "K = range(1, 16)\n",
    "models = [KMeans(n_clusters=k).fit(df) for k in K]\n",
    "dist = [model.inertia_ for model in models]\n",
    "\n",
    "# Plot the elbow\n",
    "plt.plot(K, dist, marker='o')\n",
    "plt.xlabel('k')\n",
    "plt.ylabel('Sum of distances')\n",
    "plt.title('The Elbow Method showing the optimal k')\n",
    "plt.show()"
   ]
  },
  {
   "cell_type": "code",
   "execution_count": 41,
   "id": "personal-oliver",
   "metadata": {},
   "outputs": [
    {
     "data": {
      "text/html": [
       "<div>\n",
       "<style scoped>\n",
       "    .dataframe tbody tr th:only-of-type {\n",
       "        vertical-align: middle;\n",
       "    }\n",
       "\n",
       "    .dataframe tbody tr th {\n",
       "        vertical-align: top;\n",
       "    }\n",
       "\n",
       "    .dataframe thead th {\n",
       "        text-align: right;\n",
       "    }\n",
       "</style>\n",
       "<table border=\"1\" class=\"dataframe\">\n",
       "  <thead>\n",
       "    <tr style=\"text-align: right;\">\n",
       "      <th></th>\n",
       "      <th>RedMeat</th>\n",
       "      <th>WhiteMeat</th>\n",
       "      <th>Eggs</th>\n",
       "      <th>Milk</th>\n",
       "      <th>Fish</th>\n",
       "      <th>Cereals</th>\n",
       "      <th>Starch</th>\n",
       "      <th>Nuts</th>\n",
       "      <th>Fr&amp;Veg</th>\n",
       "    </tr>\n",
       "    <tr>\n",
       "      <th>cluster</th>\n",
       "      <th></th>\n",
       "      <th></th>\n",
       "      <th></th>\n",
       "      <th></th>\n",
       "      <th></th>\n",
       "      <th></th>\n",
       "      <th></th>\n",
       "      <th></th>\n",
       "      <th></th>\n",
       "    </tr>\n",
       "  </thead>\n",
       "  <tbody>\n",
       "    <tr>\n",
       "      <th>0</th>\n",
       "      <td>8.400000</td>\n",
       "      <td>7.783333</td>\n",
       "      <td>2.700000</td>\n",
       "      <td>14.90</td>\n",
       "      <td>2.933333</td>\n",
       "      <td>38.766667</td>\n",
       "      <td>4.266667</td>\n",
       "      <td>4.000000</td>\n",
       "      <td>5.150000</td>\n",
       "    </tr>\n",
       "    <tr>\n",
       "      <th>1</th>\n",
       "      <td>12.091667</td>\n",
       "      <td>9.441667</td>\n",
       "      <td>3.708333</td>\n",
       "      <td>23.00</td>\n",
       "      <td>4.991667</td>\n",
       "      <td>24.025000</td>\n",
       "      <td>4.616667</td>\n",
       "      <td>1.766667</td>\n",
       "      <td>3.491667</td>\n",
       "    </tr>\n",
       "    <tr>\n",
       "      <th>2</th>\n",
       "      <td>7.125000</td>\n",
       "      <td>4.675000</td>\n",
       "      <td>1.200000</td>\n",
       "      <td>9.45</td>\n",
       "      <td>0.750000</td>\n",
       "      <td>51.125000</td>\n",
       "      <td>1.950000</td>\n",
       "      <td>5.050000</td>\n",
       "      <td>2.975000</td>\n",
       "    </tr>\n",
       "    <tr>\n",
       "      <th>3</th>\n",
       "      <td>7.233333</td>\n",
       "      <td>6.233333</td>\n",
       "      <td>2.633333</td>\n",
       "      <td>8.20</td>\n",
       "      <td>8.866667</td>\n",
       "      <td>26.933333</td>\n",
       "      <td>6.033333</td>\n",
       "      <td>3.800000</td>\n",
       "      <td>6.233333</td>\n",
       "    </tr>\n",
       "  </tbody>\n",
       "</table>\n",
       "</div>"
      ],
      "text/plain": [
       "           RedMeat  WhiteMeat      Eggs   Milk      Fish    Cereals    Starch  \\\n",
       "cluster                                                                         \n",
       "0         8.400000   7.783333  2.700000  14.90  2.933333  38.766667  4.266667   \n",
       "1        12.091667   9.441667  3.708333  23.00  4.991667  24.025000  4.616667   \n",
       "2         7.125000   4.675000  1.200000   9.45  0.750000  51.125000  1.950000   \n",
       "3         7.233333   6.233333  2.633333   8.20  8.866667  26.933333  6.033333   \n",
       "\n",
       "             Nuts    Fr&Veg  \n",
       "cluster                      \n",
       "0        4.000000  5.150000  \n",
       "1        1.766667  3.491667  \n",
       "2        5.050000  2.975000  \n",
       "3        3.800000  6.233333  "
      ]
     },
     "execution_count": 41,
     "metadata": {},
     "output_type": "execute_result"
    }
   ],
   "source": [
    "model = KMeans(n_clusters=4)\n",
    "model.fit(df)\n",
    "df['cluster'] = model.labels_\n",
    "df.groupby('cluster').mean()"
   ]
  },
  {
   "cell_type": "code",
   "execution_count": 42,
   "id": "basic-cyprus",
   "metadata": {},
   "outputs": [
    {
     "data": {
      "text/plain": [
       "Country\n",
       "Italy             0\n",
       "Poland            0\n",
       "USSR              0\n",
       "Czechoslovakia    0\n",
       "Hungary           0\n",
       "Greece            0\n",
       "Norway            1\n",
       "Netherlands       1\n",
       "W_Germany         1\n",
       "Ireland           1\n",
       "France            1\n",
       "Finland           1\n",
       "UK                1\n",
       "Denmark           1\n",
       "Belgium           1\n",
       "Austria           1\n",
       "Switzerland       1\n",
       "Sweden            1\n",
       "Albania           2\n",
       "Romania           2\n",
       "Bulgaria          2\n",
       "Yugoslavia        2\n",
       "Portugal          3\n",
       "E_Germany         3\n",
       "Spain             3\n",
       "Name: cluster, dtype: int32"
      ]
     },
     "execution_count": 42,
     "metadata": {},
     "output_type": "execute_result"
    }
   ],
   "source": [
    "df['cluster'].sort_values()"
   ]
  },
  {
   "cell_type": "markdown",
   "id": "military-johnston",
   "metadata": {},
   "source": [
    "Интерпретация кластеров:\n",
    "* Кластер 1 - центрально-европейские страны (обилие мясных, овощных блюд, изделий из пшеничной муки)\n",
    "* Кластер 2 - северные страны (рыба, мясо, богатые жирами)\n",
    "* Кластер 3 - средиземноморская диета (мало яиц и рыбы, много фруктов и хлебо-булочной продукции)\n",
    "* Кластер 4 - южные страны (фрукты, овощи, орехи, рыба)"
   ]
  },
  {
   "cell_type": "code",
   "execution_count": null,
   "id": "premium-sharp",
   "metadata": {},
   "outputs": [],
   "source": []
  }
 ],
 "metadata": {
  "kernelspec": {
   "display_name": "Python 3 (ipykernel)",
   "language": "python",
   "name": "python3"
  },
  "language_info": {
   "codemirror_mode": {
    "name": "ipython",
    "version": 3
   },
   "file_extension": ".py",
   "mimetype": "text/x-python",
   "name": "python",
   "nbconvert_exporter": "python",
   "pygments_lexer": "ipython3",
   "version": "3.7.4"
  }
 },
 "nbformat": 4,
 "nbformat_minor": 5
}
