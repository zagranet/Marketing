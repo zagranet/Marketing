{
 "cells": [
  {
   "cell_type": "markdown",
   "id": "given-inventory",
   "metadata": {},
   "source": [
    "## Занятие 7. Линейные модели для классификации"
   ]
  },
  {
   "cell_type": "markdown",
   "id": "generic-struggle",
   "metadata": {},
   "source": [
    "https://scikit-learn.ru/1-2-linear-and-quadratic-discriminant-analysis/"
   ]
  },
  {
   "cell_type": "markdown",
   "id": "responsible-router",
   "metadata": {},
   "source": [
    "https://scikit-learn.ru/3-3-metrics-and-scoring-quantifying-the-quality-of-predictions/"
   ]
  },
  {
   "cell_type": "code",
   "execution_count": 21,
   "id": "binary-consumption",
   "metadata": {},
   "outputs": [],
   "source": [
    "#!pip install pingouin"
   ]
  },
  {
   "cell_type": "code",
   "execution_count": 31,
   "id": "plain-manhattan",
   "metadata": {},
   "outputs": [],
   "source": [
    "import os\n",
    "import numpy as np\n",
    "import pandas as pd\n",
    "from pandas import read_csv\n",
    "from sklearn.model_selection import KFold\n",
    "from sklearn.model_selection import cross_val_score\n",
    "from sklearn.linear_model import LogisticRegression\n",
    "from sklearn.discriminant_analysis import LinearDiscriminantAnalysis\n",
    "from sklearn.svm import SVC\n",
    "import pingouin as pg"
   ]
  },
  {
   "cell_type": "markdown",
   "id": "freelance-warrior",
   "metadata": {},
   "source": [
    "### Logistic Regression"
   ]
  },
  {
   "cell_type": "code",
   "execution_count": 2,
   "id": "exempt-moral",
   "metadata": {},
   "outputs": [],
   "source": [
    "os.chdir(\"C:/Users/HP/Documents/analysis/Marketing/data/\")"
   ]
  },
  {
   "cell_type": "code",
   "execution_count": 3,
   "id": "hydraulic-kingdom",
   "metadata": {},
   "outputs": [],
   "source": [
    "filename = 'pima-indians-diabetes.data.csv'\n",
    "names = ['preg', 'plas', 'pres', 'skin', 'test', 'mass', 'pedi', 'age', 'class']\n",
    "dataframe = read_csv(filename, names=names)"
   ]
  },
  {
   "cell_type": "code",
   "execution_count": 4,
   "id": "searching-method",
   "metadata": {},
   "outputs": [],
   "source": [
    "array = dataframe.values\n",
    "X = array[:,0:8]\n",
    "Y = array[:,8]"
   ]
  },
  {
   "cell_type": "code",
   "execution_count": 5,
   "id": "contemporary-joshua",
   "metadata": {},
   "outputs": [],
   "source": [
    "kfold = KFold(n_splits=10, random_state=7, shuffle=True)"
   ]
  },
  {
   "cell_type": "code",
   "execution_count": 6,
   "id": "immediate-psychology",
   "metadata": {},
   "outputs": [
    {
     "name": "stdout",
     "output_type": "stream",
     "text": [
      "0.7708646616541353\n",
      "0.05090500786917546\n"
     ]
    }
   ],
   "source": [
    "# Logistic Regression Classification\n",
    "model = LogisticRegression(solver='liblinear')\n",
    "results = cross_val_score(model, X, Y, cv=kfold)\n",
    "print(results.mean())\n",
    "print(results.std())"
   ]
  },
  {
   "cell_type": "code",
   "execution_count": 7,
   "id": "reserved-storm",
   "metadata": {},
   "outputs": [
    {
     "data": {
      "text/plain": [
       "LogisticRegression(solver='liblinear')"
      ]
     },
     "execution_count": 7,
     "metadata": {},
     "output_type": "execute_result"
    }
   ],
   "source": [
    "model.fit(X,Y)"
   ]
  },
  {
   "cell_type": "code",
   "execution_count": 8,
   "id": "lovely-effort",
   "metadata": {},
   "outputs": [
    {
     "name": "stdout",
     "output_type": "stream",
     "text": [
      "Форма коэффициентов:  (1, 8)\n",
      "Форма константы:  (1,)\n"
     ]
    }
   ],
   "source": [
    "print(\"Форма коэффициентов: \", model.coef_.shape)\n",
    "print(\"Форма константы: \", model.intercept_.shape)"
   ]
  },
  {
   "cell_type": "code",
   "execution_count": 9,
   "id": "opposed-berry",
   "metadata": {},
   "outputs": [
    {
     "data": {
      "text/plain": [
       "array([[ 1.16994476e-01,  2.83733435e-02, -1.68981359e-02,\n",
       "         7.55145090e-04, -6.41407258e-04,  5.97201268e-02,\n",
       "         6.76128123e-01,  7.23498971e-03]])"
      ]
     },
     "execution_count": 9,
     "metadata": {},
     "output_type": "execute_result"
    }
   ],
   "source": [
    "model.coef_"
   ]
  },
  {
   "cell_type": "code",
   "execution_count": 10,
   "id": "distributed-strike",
   "metadata": {},
   "outputs": [
    {
     "data": {
      "text/plain": [
       "array([-5.88679617])"
      ]
     },
     "execution_count": 10,
     "metadata": {},
     "output_type": "execute_result"
    }
   ],
   "source": [
    "model.intercept_"
   ]
  },
  {
   "cell_type": "code",
   "execution_count": 11,
   "id": "coordinate-tiffany",
   "metadata": {},
   "outputs": [],
   "source": [
    "x_new=np.array([[0,136,42,34,136,43,2,32],[0,137,40,35,168,43.1,2.288,33]])"
   ]
  },
  {
   "cell_type": "code",
   "execution_count": 12,
   "id": "starting-atmosphere",
   "metadata": {},
   "outputs": [
    {
     "data": {
      "text/plain": [
       "array([1., 1.])"
      ]
     },
     "execution_count": 12,
     "metadata": {},
     "output_type": "execute_result"
    }
   ],
   "source": [
    "model.predict(x_new)"
   ]
  },
  {
   "cell_type": "code",
   "execution_count": 14,
   "id": "advanced-communication",
   "metadata": {},
   "outputs": [
    {
     "data": {
      "text/plain": [
       "array([[0.20547146, 0.79452854],\n",
       "       [0.16759435, 0.83240565]])"
      ]
     },
     "execution_count": 14,
     "metadata": {},
     "output_type": "execute_result"
    }
   ],
   "source": [
    "model.predict_proba(x_new)"
   ]
  },
  {
   "cell_type": "markdown",
   "id": "contemporary-uzbekistan",
   "metadata": {},
   "source": [
    "Для каждого наблюдения приведены вероятности 0-го класса (1-й столбец) и 1-го класса (2-й столбец)."
   ]
  },
  {
   "cell_type": "markdown",
   "id": "incorrect-value",
   "metadata": {},
   "source": [
    "### Support Vector Machines"
   ]
  },
  {
   "cell_type": "markdown",
   "id": "satisfied-reach",
   "metadata": {},
   "source": [
    "https://scikit-learn.org/stable/modules/svm.html#svm-kernels"
   ]
  },
  {
   "cell_type": "code",
   "execution_count": 38,
   "id": "contemporary-lunch",
   "metadata": {},
   "outputs": [
    {
     "name": "stdout",
     "output_type": "stream",
     "text": [
      "0.7708133971291866\n",
      "0.03832392703883875\n"
     ]
    }
   ],
   "source": [
    "model = SVC(kernel='linear')\n",
    "results = cross_val_score(model, X, Y, cv=kfold)\n",
    "print(results.mean())\n",
    "print(results.std())"
   ]
  },
  {
   "cell_type": "code",
   "execution_count": 39,
   "id": "amber-peripheral",
   "metadata": {},
   "outputs": [
    {
     "data": {
      "text/plain": [
       "SVC(kernel='linear')"
      ]
     },
     "execution_count": 39,
     "metadata": {},
     "output_type": "execute_result"
    }
   ],
   "source": [
    "model.fit(X,Y)"
   ]
  },
  {
   "cell_type": "code",
   "execution_count": 40,
   "id": "neutral-catering",
   "metadata": {},
   "outputs": [
    {
     "name": "stdout",
     "output_type": "stream",
     "text": [
      "Форма коэффициентов:  (1, 8)\n",
      "Форма константы:  (1,)\n"
     ]
    }
   ],
   "source": [
    "print(\"Форма коэффициентов: \", model.coef_.shape)\n",
    "print(\"Форма константы: \", model.intercept_.shape)"
   ]
  },
  {
   "cell_type": "code",
   "execution_count": 41,
   "id": "multiple-auckland",
   "metadata": {},
   "outputs": [
    {
     "data": {
      "text/plain": [
       "array([[ 9.14692398e-02,  3.00467168e-02, -1.09051239e-02,\n",
       "        -4.81652166e-03, -4.21253324e-04,  7.33928948e-02,\n",
       "         7.15054906e-01,  7.26041287e-03]])"
      ]
     },
     "execution_count": 41,
     "metadata": {},
     "output_type": "execute_result"
    }
   ],
   "source": [
    "model.coef_"
   ]
  },
  {
   "cell_type": "code",
   "execution_count": 42,
   "id": "pressed-swiss",
   "metadata": {},
   "outputs": [
    {
     "data": {
      "text/plain": [
       "array([-6.74051604])"
      ]
     },
     "execution_count": 42,
     "metadata": {},
     "output_type": "execute_result"
    }
   ],
   "source": [
    "model.intercept_"
   ]
  },
  {
   "cell_type": "code",
   "execution_count": 30,
   "id": "psychological-shade",
   "metadata": {},
   "outputs": [
    {
     "data": {
      "text/plain": [
       "array([1., 1.])"
      ]
     },
     "execution_count": 30,
     "metadata": {},
     "output_type": "execute_result"
    }
   ],
   "source": [
    "model.predict(x_new)"
   ]
  },
  {
   "cell_type": "code",
   "execution_count": 34,
   "id": "collected-toilet",
   "metadata": {},
   "outputs": [
    {
     "name": "stdout",
     "output_type": "stream",
     "text": [
      "0.760457963089542\n"
     ]
    }
   ],
   "source": [
    "model = SVC(kernel='rbf')\n",
    "results = cross_val_score(model, X, Y, cv=kfold)\n",
    "print(results.mean())"
   ]
  },
  {
   "cell_type": "code",
   "execution_count": 35,
   "id": "determined-edition",
   "metadata": {},
   "outputs": [
    {
     "data": {
      "text/plain": [
       "SVC()"
      ]
     },
     "execution_count": 35,
     "metadata": {},
     "output_type": "execute_result"
    }
   ],
   "source": [
    "model.fit(X,Y)"
   ]
  },
  {
   "cell_type": "code",
   "execution_count": 37,
   "id": "faced-sheffield",
   "metadata": {},
   "outputs": [
    {
     "data": {
      "text/plain": [
       "array([0., 0.])"
      ]
     },
     "execution_count": 37,
     "metadata": {},
     "output_type": "execute_result"
    }
   ],
   "source": [
    "model.predict(x_new)"
   ]
  },
  {
   "cell_type": "markdown",
   "id": "touched-referral",
   "metadata": {},
   "source": [
    "### Linear Discriminant Analysis"
   ]
  },
  {
   "cell_type": "markdown",
   "id": "applicable-surprise",
   "metadata": {},
   "source": [
    "Henze-Zirkler Multivariate Normality Test in Python\n",
    "https://www.statology.org/multivariate-normality-test-python/"
   ]
  },
  {
   "cell_type": "code",
   "execution_count": 27,
   "id": "unknown-lecture",
   "metadata": {},
   "outputs": [
    {
     "data": {
      "text/plain": [
       "HZResults(hz=4.1804860273838855, pval=0.0, normal=False)"
      ]
     },
     "execution_count": 27,
     "metadata": {},
     "output_type": "execute_result"
    }
   ],
   "source": [
    "#perform the Henze-Zirkler Multivariate Normality Test\n",
    "pg.multivariate_normality(X, alpha=.05)"
   ]
  },
  {
   "cell_type": "markdown",
   "id": "lined-inquiry",
   "metadata": {},
   "source": [
    "Вывод: отвергаем нулевую гипотезу о многомерной нормальности дискриминантных переменных."
   ]
  },
  {
   "cell_type": "code",
   "execution_count": 37,
   "id": "potential-lawyer",
   "metadata": {},
   "outputs": [
    {
     "data": {
      "text/html": [
       "<div>\n",
       "<style scoped>\n",
       "    .dataframe tbody tr th:only-of-type {\n",
       "        vertical-align: middle;\n",
       "    }\n",
       "\n",
       "    .dataframe tbody tr th {\n",
       "        vertical-align: top;\n",
       "    }\n",
       "\n",
       "    .dataframe thead th {\n",
       "        text-align: right;\n",
       "    }\n",
       "</style>\n",
       "<table border=\"1\" class=\"dataframe\">\n",
       "  <thead>\n",
       "    <tr style=\"text-align: right;\">\n",
       "      <th></th>\n",
       "      <th>W</th>\n",
       "      <th>pval</th>\n",
       "      <th>normal</th>\n",
       "    </tr>\n",
       "  </thead>\n",
       "  <tbody>\n",
       "    <tr>\n",
       "      <th>preg</th>\n",
       "      <td>0.904278</td>\n",
       "      <td>1.608089e-21</td>\n",
       "      <td>False</td>\n",
       "    </tr>\n",
       "    <tr>\n",
       "      <th>plas</th>\n",
       "      <td>0.970104</td>\n",
       "      <td>1.986761e-11</td>\n",
       "      <td>False</td>\n",
       "    </tr>\n",
       "    <tr>\n",
       "      <th>pres</th>\n",
       "      <td>0.818921</td>\n",
       "      <td>1.584007e-28</td>\n",
       "      <td>False</td>\n",
       "    </tr>\n",
       "    <tr>\n",
       "      <th>skin</th>\n",
       "      <td>0.904627</td>\n",
       "      <td>1.751576e-21</td>\n",
       "      <td>False</td>\n",
       "    </tr>\n",
       "    <tr>\n",
       "      <th>test</th>\n",
       "      <td>0.722021</td>\n",
       "      <td>7.915248e-34</td>\n",
       "      <td>False</td>\n",
       "    </tr>\n",
       "    <tr>\n",
       "      <th>mass</th>\n",
       "      <td>0.949989</td>\n",
       "      <td>1.840562e-15</td>\n",
       "      <td>False</td>\n",
       "    </tr>\n",
       "    <tr>\n",
       "      <th>pedi</th>\n",
       "      <td>0.836519</td>\n",
       "      <td>2.477697e-27</td>\n",
       "      <td>False</td>\n",
       "    </tr>\n",
       "    <tr>\n",
       "      <th>age</th>\n",
       "      <td>0.874766</td>\n",
       "      <td>2.401947e-24</td>\n",
       "      <td>False</td>\n",
       "    </tr>\n",
       "    <tr>\n",
       "      <th>class</th>\n",
       "      <td>0.602510</td>\n",
       "      <td>1.292262e-38</td>\n",
       "      <td>False</td>\n",
       "    </tr>\n",
       "  </tbody>\n",
       "</table>\n",
       "</div>"
      ],
      "text/plain": [
       "              W          pval  normal\n",
       "preg   0.904278  1.608089e-21   False\n",
       "plas   0.970104  1.986761e-11   False\n",
       "pres   0.818921  1.584007e-28   False\n",
       "skin   0.904627  1.751576e-21   False\n",
       "test   0.722021  7.915248e-34   False\n",
       "mass   0.949989  1.840562e-15   False\n",
       "pedi   0.836519  2.477697e-27   False\n",
       "age    0.874766  2.401947e-24   False\n",
       "class  0.602510  1.292262e-38   False"
      ]
     },
     "execution_count": 37,
     "metadata": {},
     "output_type": "execute_result"
    }
   ],
   "source": [
    "pg.normality(dataframe)"
   ]
  },
  {
   "cell_type": "markdown",
   "id": "velvet-journey",
   "metadata": {},
   "source": [
    "Вывод: в соответствии с критерием Шапиро-Уилка ни один из признаков не имеет нормального распределения."
   ]
  },
  {
   "cell_type": "markdown",
   "id": "level-institution",
   "metadata": {},
   "source": [
    "Box’s M test https://pingouin-stats.org/generated/pingouin.box_m.html"
   ]
  },
  {
   "cell_type": "code",
   "execution_count": 34,
   "id": "middle-challenge",
   "metadata": {},
   "outputs": [
    {
     "ename": "AttributeError",
     "evalue": "module 'pingouin' has no attribute 'box_m'",
     "output_type": "error",
     "traceback": [
      "\u001b[1;31m---------------------------------------------------------------------------\u001b[0m",
      "\u001b[1;31mAttributeError\u001b[0m                            Traceback (most recent call last)",
      "\u001b[1;32m~\\AppData\\Local\\Temp\\ipykernel_15120\\2472650801.py\u001b[0m in \u001b[0;36m<module>\u001b[1;34m\u001b[0m\n\u001b[1;32m----> 1\u001b[1;33m \u001b[0mpg\u001b[0m\u001b[1;33m.\u001b[0m\u001b[0mbox_m\u001b[0m\u001b[1;33m(\u001b[0m\u001b[0mdataframe\u001b[0m\u001b[1;33m,\u001b[0m \u001b[0mdvs\u001b[0m\u001b[1;33m=\u001b[0m\u001b[1;33m[\u001b[0m\u001b[1;34m'preg'\u001b[0m\u001b[1;33m,\u001b[0m \u001b[1;34m'plas'\u001b[0m\u001b[1;33m,\u001b[0m \u001b[1;34m'pres'\u001b[0m\u001b[1;33m,\u001b[0m \u001b[1;34m'skin'\u001b[0m\u001b[1;33m,\u001b[0m \u001b[1;34m'test'\u001b[0m\u001b[1;33m,\u001b[0m \u001b[1;34m'mass'\u001b[0m\u001b[1;33m,\u001b[0m \u001b[1;34m'pedi'\u001b[0m\u001b[1;33m,\u001b[0m \u001b[1;34m'age'\u001b[0m\u001b[1;33m]\u001b[0m\u001b[1;33m,\u001b[0m \u001b[0mgroup\u001b[0m\u001b[1;33m=\u001b[0m\u001b[1;34m'class'\u001b[0m\u001b[1;33m)\u001b[0m\u001b[1;33m\u001b[0m\u001b[1;33m\u001b[0m\u001b[0m\n\u001b[0m",
      "\u001b[1;31mAttributeError\u001b[0m: module 'pingouin' has no attribute 'box_m'"
     ]
    }
   ],
   "source": [
    "pg.box_m(dataframe, dvs=['preg', 'plas', 'pres', 'skin', 'test', 'mass', 'pedi', 'age'], group='class')"
   ]
  },
  {
   "cell_type": "markdown",
   "id": "american-franchise",
   "metadata": {},
   "source": [
    "В colab отработал. Ковариационные матрицы для разных классов не равны."
   ]
  },
  {
   "cell_type": "code",
   "execution_count": 35,
   "id": "polar-willow",
   "metadata": {},
   "outputs": [
    {
     "data": {
      "text/html": [
       "<div>\n",
       "<style scoped>\n",
       "    .dataframe tbody tr th:only-of-type {\n",
       "        vertical-align: middle;\n",
       "    }\n",
       "\n",
       "    .dataframe tbody tr th {\n",
       "        vertical-align: top;\n",
       "    }\n",
       "\n",
       "    .dataframe thead th {\n",
       "        text-align: right;\n",
       "    }\n",
       "</style>\n",
       "<table border=\"1\" class=\"dataframe\">\n",
       "  <thead>\n",
       "    <tr style=\"text-align: right;\">\n",
       "      <th></th>\n",
       "      <th>X</th>\n",
       "      <th>Y</th>\n",
       "      <th>method</th>\n",
       "      <th>tail</th>\n",
       "      <th>n</th>\n",
       "      <th>r</th>\n",
       "      <th>CI95%</th>\n",
       "      <th>p-unc</th>\n",
       "      <th>BF10</th>\n",
       "      <th>power</th>\n",
       "    </tr>\n",
       "  </thead>\n",
       "  <tbody>\n",
       "    <tr>\n",
       "      <th>0</th>\n",
       "      <td>preg</td>\n",
       "      <td>plas</td>\n",
       "      <td>pearson</td>\n",
       "      <td>two-sided</td>\n",
       "      <td>768</td>\n",
       "      <td>0.129459</td>\n",
       "      <td>[0.06, 0.2]</td>\n",
       "      <td>3.219491e-04</td>\n",
       "      <td>28.791</td>\n",
       "      <td>0.949814</td>\n",
       "    </tr>\n",
       "    <tr>\n",
       "      <th>1</th>\n",
       "      <td>preg</td>\n",
       "      <td>pres</td>\n",
       "      <td>pearson</td>\n",
       "      <td>two-sided</td>\n",
       "      <td>768</td>\n",
       "      <td>0.141282</td>\n",
       "      <td>[0.07, 0.21]</td>\n",
       "      <td>8.541846e-05</td>\n",
       "      <td>100.059</td>\n",
       "      <td>0.975945</td>\n",
       "    </tr>\n",
       "    <tr>\n",
       "      <th>2</th>\n",
       "      <td>preg</td>\n",
       "      <td>skin</td>\n",
       "      <td>pearson</td>\n",
       "      <td>two-sided</td>\n",
       "      <td>768</td>\n",
       "      <td>-0.081672</td>\n",
       "      <td>[-0.15, -0.01]</td>\n",
       "      <td>2.360795e-02</td>\n",
       "      <td>0.583</td>\n",
       "      <td>0.619944</td>\n",
       "    </tr>\n",
       "    <tr>\n",
       "      <th>3</th>\n",
       "      <td>preg</td>\n",
       "      <td>test</td>\n",
       "      <td>pearson</td>\n",
       "      <td>two-sided</td>\n",
       "      <td>768</td>\n",
       "      <td>-0.073535</td>\n",
       "      <td>[-0.14, -0.0]</td>\n",
       "      <td>4.162094e-02</td>\n",
       "      <td>0.359</td>\n",
       "      <td>0.531407</td>\n",
       "    </tr>\n",
       "    <tr>\n",
       "      <th>4</th>\n",
       "      <td>preg</td>\n",
       "      <td>mass</td>\n",
       "      <td>pearson</td>\n",
       "      <td>two-sided</td>\n",
       "      <td>768</td>\n",
       "      <td>0.017683</td>\n",
       "      <td>[-0.05, 0.09]</td>\n",
       "      <td>6.246376e-01</td>\n",
       "      <td>0.051</td>\n",
       "      <td>0.077839</td>\n",
       "    </tr>\n",
       "    <tr>\n",
       "      <th>5</th>\n",
       "      <td>preg</td>\n",
       "      <td>pedi</td>\n",
       "      <td>pearson</td>\n",
       "      <td>two-sided</td>\n",
       "      <td>768</td>\n",
       "      <td>-0.033523</td>\n",
       "      <td>[-0.1, 0.04]</td>\n",
       "      <td>3.535346e-01</td>\n",
       "      <td>0.069</td>\n",
       "      <td>0.152973</td>\n",
       "    </tr>\n",
       "    <tr>\n",
       "      <th>6</th>\n",
       "      <td>preg</td>\n",
       "      <td>age</td>\n",
       "      <td>pearson</td>\n",
       "      <td>two-sided</td>\n",
       "      <td>768</td>\n",
       "      <td>0.544341</td>\n",
       "      <td>[0.49, 0.59]</td>\n",
       "      <td>1.862813e-60</td>\n",
       "      <td>9.03e+56</td>\n",
       "      <td>1.000000</td>\n",
       "    </tr>\n",
       "    <tr>\n",
       "      <th>7</th>\n",
       "      <td>plas</td>\n",
       "      <td>pres</td>\n",
       "      <td>pearson</td>\n",
       "      <td>two-sided</td>\n",
       "      <td>768</td>\n",
       "      <td>0.152590</td>\n",
       "      <td>[0.08, 0.22]</td>\n",
       "      <td>2.169507e-05</td>\n",
       "      <td>366.214</td>\n",
       "      <td>0.989169</td>\n",
       "    </tr>\n",
       "    <tr>\n",
       "      <th>8</th>\n",
       "      <td>plas</td>\n",
       "      <td>skin</td>\n",
       "      <td>pearson</td>\n",
       "      <td>two-sided</td>\n",
       "      <td>768</td>\n",
       "      <td>0.057328</td>\n",
       "      <td>[-0.01, 0.13]</td>\n",
       "      <td>1.124141e-01</td>\n",
       "      <td>0.159</td>\n",
       "      <td>0.355230</td>\n",
       "    </tr>\n",
       "    <tr>\n",
       "      <th>9</th>\n",
       "      <td>plas</td>\n",
       "      <td>test</td>\n",
       "      <td>pearson</td>\n",
       "      <td>two-sided</td>\n",
       "      <td>768</td>\n",
       "      <td>0.331357</td>\n",
       "      <td>[0.27, 0.39]</td>\n",
       "      <td>3.882624e-21</td>\n",
       "      <td>8.929e+17</td>\n",
       "      <td>1.000000</td>\n",
       "    </tr>\n",
       "    <tr>\n",
       "      <th>10</th>\n",
       "      <td>plas</td>\n",
       "      <td>mass</td>\n",
       "      <td>pearson</td>\n",
       "      <td>two-sided</td>\n",
       "      <td>768</td>\n",
       "      <td>0.221071</td>\n",
       "      <td>[0.15, 0.29]</td>\n",
       "      <td>5.891413e-10</td>\n",
       "      <td>9.293e+06</td>\n",
       "      <td>0.999990</td>\n",
       "    </tr>\n",
       "    <tr>\n",
       "      <th>11</th>\n",
       "      <td>plas</td>\n",
       "      <td>pedi</td>\n",
       "      <td>pearson</td>\n",
       "      <td>two-sided</td>\n",
       "      <td>768</td>\n",
       "      <td>0.137337</td>\n",
       "      <td>[0.07, 0.21]</td>\n",
       "      <td>1.345878e-04</td>\n",
       "      <td>65.209</td>\n",
       "      <td>0.968913</td>\n",
       "    </tr>\n",
       "    <tr>\n",
       "      <th>12</th>\n",
       "      <td>plas</td>\n",
       "      <td>age</td>\n",
       "      <td>pearson</td>\n",
       "      <td>two-sided</td>\n",
       "      <td>768</td>\n",
       "      <td>0.263514</td>\n",
       "      <td>[0.2, 0.33]</td>\n",
       "      <td>1.150112e-13</td>\n",
       "      <td>3.936e+10</td>\n",
       "      <td>1.000000</td>\n",
       "    </tr>\n",
       "    <tr>\n",
       "      <th>13</th>\n",
       "      <td>pres</td>\n",
       "      <td>skin</td>\n",
       "      <td>pearson</td>\n",
       "      <td>two-sided</td>\n",
       "      <td>768</td>\n",
       "      <td>0.207371</td>\n",
       "      <td>[0.14, 0.27]</td>\n",
       "      <td>6.606687e-09</td>\n",
       "      <td>8.86e+05</td>\n",
       "      <td>0.999944</td>\n",
       "    </tr>\n",
       "    <tr>\n",
       "      <th>14</th>\n",
       "      <td>pres</td>\n",
       "      <td>test</td>\n",
       "      <td>pearson</td>\n",
       "      <td>two-sided</td>\n",
       "      <td>768</td>\n",
       "      <td>0.088933</td>\n",
       "      <td>[0.02, 0.16]</td>\n",
       "      <td>1.368350e-02</td>\n",
       "      <td>0.939</td>\n",
       "      <td>0.694191</td>\n",
       "    </tr>\n",
       "    <tr>\n",
       "      <th>15</th>\n",
       "      <td>pres</td>\n",
       "      <td>mass</td>\n",
       "      <td>pearson</td>\n",
       "      <td>two-sided</td>\n",
       "      <td>768</td>\n",
       "      <td>0.281805</td>\n",
       "      <td>[0.22, 0.35]</td>\n",
       "      <td>1.737888e-15</td>\n",
       "      <td>2.415e+12</td>\n",
       "      <td>1.000000</td>\n",
       "    </tr>\n",
       "    <tr>\n",
       "      <th>16</th>\n",
       "      <td>pres</td>\n",
       "      <td>pedi</td>\n",
       "      <td>pearson</td>\n",
       "      <td>two-sided</td>\n",
       "      <td>768</td>\n",
       "      <td>0.041265</td>\n",
       "      <td>[-0.03, 0.11]</td>\n",
       "      <td>2.533744e-01</td>\n",
       "      <td>0.087</td>\n",
       "      <td>0.207803</td>\n",
       "    </tr>\n",
       "    <tr>\n",
       "      <th>17</th>\n",
       "      <td>pres</td>\n",
       "      <td>age</td>\n",
       "      <td>pearson</td>\n",
       "      <td>two-sided</td>\n",
       "      <td>768</td>\n",
       "      <td>0.239528</td>\n",
       "      <td>[0.17, 0.31]</td>\n",
       "      <td>1.752051e-11</td>\n",
       "      <td>2.869e+08</td>\n",
       "      <td>0.999999</td>\n",
       "    </tr>\n",
       "    <tr>\n",
       "      <th>18</th>\n",
       "      <td>skin</td>\n",
       "      <td>test</td>\n",
       "      <td>pearson</td>\n",
       "      <td>two-sided</td>\n",
       "      <td>768</td>\n",
       "      <td>0.436783</td>\n",
       "      <td>[0.38, 0.49]</td>\n",
       "      <td>4.043577e-37</td>\n",
       "      <td>5.944e+33</td>\n",
       "      <td>1.000000</td>\n",
       "    </tr>\n",
       "    <tr>\n",
       "      <th>19</th>\n",
       "      <td>skin</td>\n",
       "      <td>mass</td>\n",
       "      <td>pearson</td>\n",
       "      <td>two-sided</td>\n",
       "      <td>768</td>\n",
       "      <td>0.392573</td>\n",
       "      <td>[0.33, 0.45]</td>\n",
       "      <td>1.054876e-29</td>\n",
       "      <td>2.645e+26</td>\n",
       "      <td>1.000000</td>\n",
       "    </tr>\n",
       "    <tr>\n",
       "      <th>20</th>\n",
       "      <td>skin</td>\n",
       "      <td>pedi</td>\n",
       "      <td>pearson</td>\n",
       "      <td>two-sided</td>\n",
       "      <td>768</td>\n",
       "      <td>0.183928</td>\n",
       "      <td>[0.11, 0.25]</td>\n",
       "      <td>2.856179e-07</td>\n",
       "      <td>2.316e+04</td>\n",
       "      <td>0.999286</td>\n",
       "    </tr>\n",
       "    <tr>\n",
       "      <th>21</th>\n",
       "      <td>skin</td>\n",
       "      <td>age</td>\n",
       "      <td>pearson</td>\n",
       "      <td>two-sided</td>\n",
       "      <td>768</td>\n",
       "      <td>-0.113970</td>\n",
       "      <td>[-0.18, -0.04]</td>\n",
       "      <td>1.558278e-03</td>\n",
       "      <td>6.673</td>\n",
       "      <td>0.886463</td>\n",
       "    </tr>\n",
       "    <tr>\n",
       "      <th>22</th>\n",
       "      <td>test</td>\n",
       "      <td>mass</td>\n",
       "      <td>pearson</td>\n",
       "      <td>two-sided</td>\n",
       "      <td>768</td>\n",
       "      <td>0.197859</td>\n",
       "      <td>[0.13, 0.26]</td>\n",
       "      <td>3.219695e-08</td>\n",
       "      <td>1.908e+05</td>\n",
       "      <td>0.999834</td>\n",
       "    </tr>\n",
       "    <tr>\n",
       "      <th>23</th>\n",
       "      <td>test</td>\n",
       "      <td>pedi</td>\n",
       "      <td>pearson</td>\n",
       "      <td>two-sided</td>\n",
       "      <td>768</td>\n",
       "      <td>0.185071</td>\n",
       "      <td>[0.12, 0.25]</td>\n",
       "      <td>2.402264e-07</td>\n",
       "      <td>2.737e+04</td>\n",
       "      <td>0.999363</td>\n",
       "    </tr>\n",
       "    <tr>\n",
       "      <th>24</th>\n",
       "      <td>test</td>\n",
       "      <td>age</td>\n",
       "      <td>pearson</td>\n",
       "      <td>two-sided</td>\n",
       "      <td>768</td>\n",
       "      <td>-0.042163</td>\n",
       "      <td>[-0.11, 0.03]</td>\n",
       "      <td>2.431822e-01</td>\n",
       "      <td>0.089</td>\n",
       "      <td>0.214909</td>\n",
       "    </tr>\n",
       "    <tr>\n",
       "      <th>25</th>\n",
       "      <td>mass</td>\n",
       "      <td>pedi</td>\n",
       "      <td>pearson</td>\n",
       "      <td>two-sided</td>\n",
       "      <td>768</td>\n",
       "      <td>0.140647</td>\n",
       "      <td>[0.07, 0.21]</td>\n",
       "      <td>9.197970e-05</td>\n",
       "      <td>93.315</td>\n",
       "      <td>0.974912</td>\n",
       "    </tr>\n",
       "    <tr>\n",
       "      <th>26</th>\n",
       "      <td>mass</td>\n",
       "      <td>age</td>\n",
       "      <td>pearson</td>\n",
       "      <td>two-sided</td>\n",
       "      <td>768</td>\n",
       "      <td>0.036242</td>\n",
       "      <td>[-0.03, 0.11]</td>\n",
       "      <td>3.158330e-01</td>\n",
       "      <td>0.075</td>\n",
       "      <td>0.170892</td>\n",
       "    </tr>\n",
       "    <tr>\n",
       "      <th>27</th>\n",
       "      <td>pedi</td>\n",
       "      <td>age</td>\n",
       "      <td>pearson</td>\n",
       "      <td>two-sided</td>\n",
       "      <td>768</td>\n",
       "      <td>0.033561</td>\n",
       "      <td>[-0.04, 0.1]</td>\n",
       "      <td>3.529797e-01</td>\n",
       "      <td>0.07</td>\n",
       "      <td>0.153217</td>\n",
       "    </tr>\n",
       "  </tbody>\n",
       "</table>\n",
       "</div>"
      ],
      "text/plain": [
       "       X     Y   method       tail    n         r           CI95%  \\\n",
       "0   preg  plas  pearson  two-sided  768  0.129459     [0.06, 0.2]   \n",
       "1   preg  pres  pearson  two-sided  768  0.141282    [0.07, 0.21]   \n",
       "2   preg  skin  pearson  two-sided  768 -0.081672  [-0.15, -0.01]   \n",
       "3   preg  test  pearson  two-sided  768 -0.073535   [-0.14, -0.0]   \n",
       "4   preg  mass  pearson  two-sided  768  0.017683   [-0.05, 0.09]   \n",
       "5   preg  pedi  pearson  two-sided  768 -0.033523    [-0.1, 0.04]   \n",
       "6   preg   age  pearson  two-sided  768  0.544341    [0.49, 0.59]   \n",
       "7   plas  pres  pearson  two-sided  768  0.152590    [0.08, 0.22]   \n",
       "8   plas  skin  pearson  two-sided  768  0.057328   [-0.01, 0.13]   \n",
       "9   plas  test  pearson  two-sided  768  0.331357    [0.27, 0.39]   \n",
       "10  plas  mass  pearson  two-sided  768  0.221071    [0.15, 0.29]   \n",
       "11  plas  pedi  pearson  two-sided  768  0.137337    [0.07, 0.21]   \n",
       "12  plas   age  pearson  two-sided  768  0.263514     [0.2, 0.33]   \n",
       "13  pres  skin  pearson  two-sided  768  0.207371    [0.14, 0.27]   \n",
       "14  pres  test  pearson  two-sided  768  0.088933    [0.02, 0.16]   \n",
       "15  pres  mass  pearson  two-sided  768  0.281805    [0.22, 0.35]   \n",
       "16  pres  pedi  pearson  two-sided  768  0.041265   [-0.03, 0.11]   \n",
       "17  pres   age  pearson  two-sided  768  0.239528    [0.17, 0.31]   \n",
       "18  skin  test  pearson  two-sided  768  0.436783    [0.38, 0.49]   \n",
       "19  skin  mass  pearson  two-sided  768  0.392573    [0.33, 0.45]   \n",
       "20  skin  pedi  pearson  two-sided  768  0.183928    [0.11, 0.25]   \n",
       "21  skin   age  pearson  two-sided  768 -0.113970  [-0.18, -0.04]   \n",
       "22  test  mass  pearson  two-sided  768  0.197859    [0.13, 0.26]   \n",
       "23  test  pedi  pearson  two-sided  768  0.185071    [0.12, 0.25]   \n",
       "24  test   age  pearson  two-sided  768 -0.042163   [-0.11, 0.03]   \n",
       "25  mass  pedi  pearson  two-sided  768  0.140647    [0.07, 0.21]   \n",
       "26  mass   age  pearson  two-sided  768  0.036242   [-0.03, 0.11]   \n",
       "27  pedi   age  pearson  two-sided  768  0.033561    [-0.04, 0.1]   \n",
       "\n",
       "           p-unc       BF10     power  \n",
       "0   3.219491e-04     28.791  0.949814  \n",
       "1   8.541846e-05    100.059  0.975945  \n",
       "2   2.360795e-02      0.583  0.619944  \n",
       "3   4.162094e-02      0.359  0.531407  \n",
       "4   6.246376e-01      0.051  0.077839  \n",
       "5   3.535346e-01      0.069  0.152973  \n",
       "6   1.862813e-60   9.03e+56  1.000000  \n",
       "7   2.169507e-05    366.214  0.989169  \n",
       "8   1.124141e-01      0.159  0.355230  \n",
       "9   3.882624e-21  8.929e+17  1.000000  \n",
       "10  5.891413e-10  9.293e+06  0.999990  \n",
       "11  1.345878e-04     65.209  0.968913  \n",
       "12  1.150112e-13  3.936e+10  1.000000  \n",
       "13  6.606687e-09   8.86e+05  0.999944  \n",
       "14  1.368350e-02      0.939  0.694191  \n",
       "15  1.737888e-15  2.415e+12  1.000000  \n",
       "16  2.533744e-01      0.087  0.207803  \n",
       "17  1.752051e-11  2.869e+08  0.999999  \n",
       "18  4.043577e-37  5.944e+33  1.000000  \n",
       "19  1.054876e-29  2.645e+26  1.000000  \n",
       "20  2.856179e-07  2.316e+04  0.999286  \n",
       "21  1.558278e-03      6.673  0.886463  \n",
       "22  3.219695e-08  1.908e+05  0.999834  \n",
       "23  2.402264e-07  2.737e+04  0.999363  \n",
       "24  2.431822e-01      0.089  0.214909  \n",
       "25  9.197970e-05     93.315  0.974912  \n",
       "26  3.158330e-01      0.075  0.170892  \n",
       "27  3.529797e-01       0.07  0.153217  "
      ]
     },
     "execution_count": 35,
     "metadata": {},
     "output_type": "execute_result"
    }
   ],
   "source": [
    "#Проверка линейной независимости дискриминантных переменных\n",
    "pg.pairwise_corr(dataframe, columns=['preg', 'plas', 'pres', 'skin', 'test', 'mass', 'pedi', 'age'], method='pearson')"
   ]
  },
  {
   "cell_type": "markdown",
   "id": "civilian-credit",
   "metadata": {},
   "source": [
    "Вывод: сила линейной связи между дискриминантными переменными невысокая."
   ]
  },
  {
   "cell_type": "markdown",
   "id": "recent-arbitration",
   "metadata": {},
   "source": [
    "Проводить дискриминантный анализ нельзя, т.к. не выполнены предпосылки, а именно нет равенства ковариационных матриц для каждого класса и нет многомерной нормальности распределения дискриминантных переменных."
   ]
  },
  {
   "cell_type": "code",
   "execution_count": 67,
   "id": "broke-thumb",
   "metadata": {},
   "outputs": [
    {
     "name": "stdout",
     "output_type": "stream",
     "text": [
      "0.7669685577580315\n",
      "0.04796563054016723\n"
     ]
    }
   ],
   "source": [
    "# LDA Classification\n",
    "model = LinearDiscriminantAnalysis()\n",
    "results = cross_val_score(model, X, Y, cv=kfold)\n",
    "print(results.mean())\n",
    "print(results.std())"
   ]
  },
  {
   "cell_type": "code",
   "execution_count": 68,
   "id": "civilian-witch",
   "metadata": {},
   "outputs": [
    {
     "data": {
      "text/plain": [
       "LinearDiscriminantAnalysis()"
      ]
     },
     "execution_count": 68,
     "metadata": {},
     "output_type": "execute_result"
    }
   ],
   "source": [
    "model.fit(X,Y)"
   ]
  },
  {
   "cell_type": "code",
   "execution_count": 45,
   "id": "informal-cyprus",
   "metadata": {},
   "outputs": [
    {
     "data": {
      "text/plain": [
       "array([1., 1.])"
      ]
     },
     "execution_count": 45,
     "metadata": {},
     "output_type": "execute_result"
    }
   ],
   "source": [
    "model.predict(x_new)"
   ]
  },
  {
   "cell_type": "code",
   "execution_count": 46,
   "id": "broke-herald",
   "metadata": {},
   "outputs": [
    {
     "data": {
      "text/plain": [
       "array([[0.13996295, 0.86003705],\n",
       "       [0.10537183, 0.89462817]])"
      ]
     },
     "execution_count": 46,
     "metadata": {},
     "output_type": "execute_result"
    }
   ],
   "source": [
    "model.predict_proba(x_new)"
   ]
  },
  {
   "cell_type": "markdown",
   "id": "atmospheric-pittsburgh",
   "metadata": {},
   "source": [
    "https://towardsdatascience.com/linear-discriminant-analysis-in-python-76b8b17817c2"
   ]
  },
  {
   "cell_type": "markdown",
   "id": "neither-comfort",
   "metadata": {},
   "source": [
    "https://machinelearningmastery.com/linear-discriminant-analysis-with-python/"
   ]
  },
  {
   "cell_type": "code",
   "execution_count": 69,
   "id": "killing-field",
   "metadata": {
    "tags": []
   },
   "outputs": [
    {
     "data": {
      "text/plain": [
       "array([[ 1.38024702],\n",
       "       [-1.56452399],\n",
       "       [ 1.76618515],\n",
       "       [-1.69058752],\n",
       "       [ 2.20726804]])"
      ]
     },
     "execution_count": 69,
     "metadata": {},
     "output_type": "execute_result"
    }
   ],
   "source": [
    "model.transform(X)[:5]"
   ]
  },
  {
   "cell_type": "code",
   "execution_count": 70,
   "id": "packed-legislation",
   "metadata": {},
   "outputs": [
    {
     "data": {
      "text/plain": [
       "array([[ 1.38024702],\n",
       "       [-1.56452399],\n",
       "       [ 1.76618515],\n",
       "       [-1.69058752],\n",
       "       [ 2.20726804]])"
      ]
     },
     "execution_count": 70,
     "metadata": {},
     "output_type": "execute_result"
    }
   ],
   "source": [
    "#Значения дискриминантной функции. Она одна (количество классов минус 1): 2-1\n",
    "X_lda=model.fit_transform(X,Y)\n",
    "X_lda[:5]"
   ]
  },
  {
   "cell_type": "code",
   "execution_count": 71,
   "id": "emerging-oliver",
   "metadata": {},
   "outputs": [
    {
     "data": {
      "text/plain": [
       "array([1.])"
      ]
     },
     "execution_count": 71,
     "metadata": {},
     "output_type": "execute_result"
    }
   ],
   "source": [
    "#We can access the following property to obtain the variance explained by each component.\n",
    "model.explained_variance_ratio_"
   ]
  },
  {
   "cell_type": "code",
   "execution_count": null,
   "id": "chronic-seafood",
   "metadata": {},
   "outputs": [],
   "source": []
  }
 ],
 "metadata": {
  "kernelspec": {
   "display_name": "Python 3 (ipykernel)",
   "language": "python",
   "name": "python3"
  },
  "language_info": {
   "codemirror_mode": {
    "name": "ipython",
    "version": 3
   },
   "file_extension": ".py",
   "mimetype": "text/x-python",
   "name": "python",
   "nbconvert_exporter": "python",
   "pygments_lexer": "ipython3",
   "version": "3.7.4"
  }
 },
 "nbformat": 4,
 "nbformat_minor": 5
}
