{
 "cells": [
  {
   "cell_type": "markdown",
   "id": "looking-physics",
   "metadata": {},
   "source": [
    "# Занятие 13. Кластерный анализ"
   ]
  },
  {
   "cell_type": "code",
   "execution_count": 1,
   "id": "motivated-mother",
   "metadata": {},
   "outputs": [],
   "source": [
    "import os\n",
    "os.chdir(\"C:/Users/HP/Documents/analysis/Marketing/data/\")"
   ]
  },
  {
   "cell_type": "markdown",
   "id": "cosmetic-reception",
   "metadata": {},
   "source": [
    "## Аббакумов В.Л."
   ]
  },
  {
   "cell_type": "markdown",
   "id": "immune-stewart",
   "metadata": {},
   "source": [
    "Иерархическая кластеризация\n",
    "=============\n",
    "\n",
    "Полезные ссылки:\n",
    "* https://docs.scipy.org/doc/scipy-0.14.0/reference/cluster.hierarchy.html\n",
    "* https://joernhees.de/blog/2015/08/26/scipy-hierarchical-clustering-and-dendrogram-tutorial/\n",
    "* http://scikit-learn.org/stable/modules/clustering.html"
   ]
  },
  {
   "cell_type": "code",
   "execution_count": 1,
   "id": "planned-radical",
   "metadata": {},
   "outputs": [],
   "source": [
    "import numpy as np\n",
    "import pandas as pd\n",
    "import matplotlib\n",
    "import matplotlib.pyplot as plt\n",
    "matplotlib.style.use('ggplot')\n",
    "%matplotlib inline"
   ]
  },
  {
   "cell_type": "code",
   "execution_count": 2,
   "id": "unlikely-final",
   "metadata": {},
   "outputs": [],
   "source": [
    "import os"
   ]
  },
  {
   "cell_type": "markdown",
   "id": "level-fireplace",
   "metadata": {},
   "source": [
    "Пример 1. Beverage\n",
    "--------"
   ]
  },
  {
   "cell_type": "code",
   "execution_count": 3,
   "id": "express-support",
   "metadata": {},
   "outputs": [],
   "source": [
    "import os\n",
    "os.chdir(\"C:/Users/HP/Documents/analysis/Marketing/data/\")"
   ]
  },
  {
   "cell_type": "code",
   "execution_count": 4,
   "id": "collaborative-clinic",
   "metadata": {},
   "outputs": [],
   "source": [
    "df = pd.read_csv(\"beverage_r.csv\", sep=\";\", index_col='numb.obs')"
   ]
  },
  {
   "cell_type": "code",
   "execution_count": 5,
   "id": "infectious-poland",
   "metadata": {},
   "outputs": [
    {
     "data": {
      "text/html": [
       "<div>\n",
       "<style scoped>\n",
       "    .dataframe tbody tr th:only-of-type {\n",
       "        vertical-align: middle;\n",
       "    }\n",
       "\n",
       "    .dataframe tbody tr th {\n",
       "        vertical-align: top;\n",
       "    }\n",
       "\n",
       "    .dataframe thead th {\n",
       "        text-align: right;\n",
       "    }\n",
       "</style>\n",
       "<table border=\"1\" class=\"dataframe\">\n",
       "  <thead>\n",
       "    <tr style=\"text-align: right;\">\n",
       "      <th></th>\n",
       "      <th>COKE</th>\n",
       "      <th>D_COKE</th>\n",
       "      <th>D_PEPSI</th>\n",
       "      <th>D_7UP</th>\n",
       "      <th>PEPSI</th>\n",
       "      <th>SPRITE</th>\n",
       "      <th>TAB</th>\n",
       "      <th>SEVENUP</th>\n",
       "    </tr>\n",
       "    <tr>\n",
       "      <th>numb.obs</th>\n",
       "      <th></th>\n",
       "      <th></th>\n",
       "      <th></th>\n",
       "      <th></th>\n",
       "      <th></th>\n",
       "      <th></th>\n",
       "      <th></th>\n",
       "      <th></th>\n",
       "    </tr>\n",
       "  </thead>\n",
       "  <tbody>\n",
       "    <tr>\n",
       "      <th>1</th>\n",
       "      <td>1</td>\n",
       "      <td>0</td>\n",
       "      <td>0</td>\n",
       "      <td>0</td>\n",
       "      <td>1</td>\n",
       "      <td>1</td>\n",
       "      <td>0</td>\n",
       "      <td>1</td>\n",
       "    </tr>\n",
       "    <tr>\n",
       "      <th>2</th>\n",
       "      <td>1</td>\n",
       "      <td>0</td>\n",
       "      <td>0</td>\n",
       "      <td>0</td>\n",
       "      <td>1</td>\n",
       "      <td>0</td>\n",
       "      <td>0</td>\n",
       "      <td>0</td>\n",
       "    </tr>\n",
       "    <tr>\n",
       "      <th>3</th>\n",
       "      <td>1</td>\n",
       "      <td>0</td>\n",
       "      <td>0</td>\n",
       "      <td>0</td>\n",
       "      <td>1</td>\n",
       "      <td>0</td>\n",
       "      <td>0</td>\n",
       "      <td>0</td>\n",
       "    </tr>\n",
       "    <tr>\n",
       "      <th>4</th>\n",
       "      <td>0</td>\n",
       "      <td>1</td>\n",
       "      <td>0</td>\n",
       "      <td>1</td>\n",
       "      <td>0</td>\n",
       "      <td>0</td>\n",
       "      <td>1</td>\n",
       "      <td>0</td>\n",
       "    </tr>\n",
       "    <tr>\n",
       "      <th>5</th>\n",
       "      <td>1</td>\n",
       "      <td>0</td>\n",
       "      <td>0</td>\n",
       "      <td>0</td>\n",
       "      <td>1</td>\n",
       "      <td>0</td>\n",
       "      <td>0</td>\n",
       "      <td>0</td>\n",
       "    </tr>\n",
       "  </tbody>\n",
       "</table>\n",
       "</div>"
      ],
      "text/plain": [
       "          COKE  D_COKE  D_PEPSI  D_7UP  PEPSI  SPRITE  TAB  SEVENUP\n",
       "numb.obs                                                           \n",
       "1            1       0        0      0      1       1    0        1\n",
       "2            1       0        0      0      1       0    0        0\n",
       "3            1       0        0      0      1       0    0        0\n",
       "4            0       1        0      1      0       0    1        0\n",
       "5            1       0        0      0      1       0    0        0"
      ]
     },
     "execution_count": 5,
     "metadata": {},
     "output_type": "execute_result"
    }
   ],
   "source": [
    "df.head()"
   ]
  },
  {
   "cell_type": "markdown",
   "id": "acceptable-schedule",
   "metadata": {},
   "source": [
    "Применим алгоритм иерархической кластеризации и построим дендрограмму. Все необходимые вычисления проводятся в функции linkage. Кроме самих данных, ей нужно передать на вход два аргумента: метод вычисления расстояний между кластерами (```ward```, ```single```, ```complete```, ```average```) и метрику (```euclidean``` (default), ```cityblock``` aka Manhattan, ```hamming```, ```cosine```). См. [документацию]( https://docs.scipy.org/doc/scipy/reference/cluster.hierarchy.html)."
   ]
  },
  {
   "cell_type": "code",
   "execution_count": 6,
   "id": "certified-sterling",
   "metadata": {},
   "outputs": [],
   "source": [
    "from scipy.cluster.hierarchy import dendrogram, linkage, fcluster\n",
    "\n",
    "# Объект, в котором будет хранится информация о последовательном слиянии кластеров\n",
    "link = linkage(df, 'ward', 'euclidean')"
   ]
  },
  {
   "cell_type": "markdown",
   "id": "established-survival",
   "metadata": {},
   "source": [
    "Объект ```link``` представляет собой матрицу ```(n-1) x 4```, где ```n``` -- число наблюдений. Каждая строка матрицы представляет собой результат слияния очередной пары кластеров с номерами ```link[i, 0]``` и ```link[i, 1]```. Новому кластеру присваивается номер ```n + i```. ```link[i, 2]``` означает расстояние между слитыми кластерами, а ```link[i, 3]``` -- размер нового кластера."
   ]
  },
  {
   "cell_type": "code",
   "execution_count": 7,
   "id": "devoted-pricing",
   "metadata": {},
   "outputs": [
    {
     "data": {
      "text/plain": [
       "array([[ 5., 10.,  0.,  2.],\n",
       "       [ 1.,  2.,  0.,  2.],\n",
       "       [ 4., 35.,  0.,  3.],\n",
       "       [ 3., 22.,  0.,  2.],\n",
       "       [20., 36.,  0.,  4.]])"
      ]
     },
     "execution_count": 7,
     "metadata": {},
     "output_type": "execute_result"
    }
   ],
   "source": [
    "link[:5]"
   ]
  },
  {
   "cell_type": "code",
   "execution_count": 8,
   "id": "flexible-roommate",
   "metadata": {},
   "outputs": [
    {
     "data": {
      "image/png": "[encoded data removed]",
      "text/plain": [
       "<Figure size 432x288 with 1 Axes>"
      ]
     },
     "metadata": {
      "needs_background": "light"
     },
     "output_type": "display_data"
    }
   ],
   "source": [
    "# Функция для построения дендрограммы\n",
    "dn = dendrogram(link)"
   ]
  },
  {
   "cell_type": "markdown",
   "id": "unlike-price",
   "metadata": {},
   "source": [
    "Алгоритм подкрасил в дендрограмме два кластера, но здесь, скорее, кластера всё-таки три. Теперь хочется посмотреть, какими характеристиками различаются наши кластеры.\n",
    "\n",
    "Сначала добавим к данным колонку ```cluster```, в которую запишем номер кластера, в которую попал объект. Это сделаем с помощью функции ```fcluster```. В качестве первого аргумента передаём объект ```linkage```, полученный выше. Третьим аргументом ```criterion``` передаём критерий для разбиения на кластеры (```distance``` для остановки разбиения по расстоянию между кластерами и ```maxclust``` для разбиения по заданному числу кластеров). Вторым же аргументом является либо пороговое значение для расстояния между кластерами, либо количество кластеров, в зависимости от аргумента ```criterion```."
   ]
  },
  {
   "cell_type": "code",
   "execution_count": 9,
   "id": "demanding-namibia",
   "metadata": {},
   "outputs": [],
   "source": [
    "# Останавливаем объединение, если расстояние между кластерами превышает 3\n",
    "df['cluster'] = fcluster(link, 3, criterion='distance')"
   ]
  },
  {
   "cell_type": "markdown",
   "id": "competent-boutique",
   "metadata": {},
   "source": [
    "Теперь вычислим средние значения всех характеристик, сгруппировав данные по номеру кластера. Используем стандартную конструкцию: вызов метода ```groupby``` с последующим применением группирующей функции."
   ]
  },
  {
   "cell_type": "code",
   "execution_count": 10,
   "id": "italian-specification",
   "metadata": {},
   "outputs": [
    {
     "data": {
      "text/html": [
       "<div>\n",
       "<style scoped>\n",
       "    .dataframe tbody tr th:only-of-type {\n",
       "        vertical-align: middle;\n",
       "    }\n",
       "\n",
       "    .dataframe tbody tr th {\n",
       "        vertical-align: top;\n",
       "    }\n",
       "\n",
       "    .dataframe thead th {\n",
       "        text-align: right;\n",
       "    }\n",
       "</style>\n",
       "<table border=\"1\" class=\"dataframe\">\n",
       "  <thead>\n",
       "    <tr style=\"text-align: right;\">\n",
       "      <th></th>\n",
       "      <th>COKE</th>\n",
       "      <th>D_COKE</th>\n",
       "      <th>D_PEPSI</th>\n",
       "      <th>D_7UP</th>\n",
       "      <th>PEPSI</th>\n",
       "      <th>SPRITE</th>\n",
       "      <th>TAB</th>\n",
       "      <th>SEVENUP</th>\n",
       "    </tr>\n",
       "    <tr>\n",
       "      <th>cluster</th>\n",
       "      <th></th>\n",
       "      <th></th>\n",
       "      <th></th>\n",
       "      <th></th>\n",
       "      <th></th>\n",
       "      <th></th>\n",
       "      <th></th>\n",
       "      <th></th>\n",
       "    </tr>\n",
       "  </thead>\n",
       "  <tbody>\n",
       "    <tr>\n",
       "      <th>1</th>\n",
       "      <td>0.00</td>\n",
       "      <td>1.000000</td>\n",
       "      <td>0.545455</td>\n",
       "      <td>0.545455</td>\n",
       "      <td>0.000000</td>\n",
       "      <td>0.000000</td>\n",
       "      <td>0.909091</td>\n",
       "      <td>0.000000</td>\n",
       "    </tr>\n",
       "    <tr>\n",
       "      <th>2</th>\n",
       "      <td>1.00</td>\n",
       "      <td>0.272727</td>\n",
       "      <td>0.090909</td>\n",
       "      <td>0.000000</td>\n",
       "      <td>1.000000</td>\n",
       "      <td>0.000000</td>\n",
       "      <td>0.000000</td>\n",
       "      <td>0.272727</td>\n",
       "    </tr>\n",
       "    <tr>\n",
       "      <th>3</th>\n",
       "      <td>0.75</td>\n",
       "      <td>0.250000</td>\n",
       "      <td>0.083333</td>\n",
       "      <td>0.083333</td>\n",
       "      <td>0.416667</td>\n",
       "      <td>0.916667</td>\n",
       "      <td>0.083333</td>\n",
       "      <td>0.500000</td>\n",
       "    </tr>\n",
       "  </tbody>\n",
       "</table>\n",
       "</div>"
      ],
      "text/plain": [
       "         COKE    D_COKE   D_PEPSI     D_7UP     PEPSI    SPRITE       TAB  \\\n",
       "cluster                                                                     \n",
       "1        0.00  1.000000  0.545455  0.545455  0.000000  0.000000  0.909091   \n",
       "2        1.00  0.272727  0.090909  0.000000  1.000000  0.000000  0.000000   \n",
       "3        0.75  0.250000  0.083333  0.083333  0.416667  0.916667  0.083333   \n",
       "\n",
       "          SEVENUP  \n",
       "cluster            \n",
       "1        0.000000  \n",
       "2        0.272727  \n",
       "3        0.500000  "
      ]
     },
     "execution_count": 10,
     "metadata": {},
     "output_type": "execute_result"
    }
   ],
   "source": [
    "df.groupby('cluster').mean()"
   ]
  },
  {
   "cell_type": "markdown",
   "id": "useful-chapter",
   "metadata": {},
   "source": [
    "Также интересно узнать, сколько наблюдений попало в каждый кластер. Для этого также применяем вызов ```groupy``` с последующим применением метода ```size```."
   ]
  },
  {
   "cell_type": "code",
   "execution_count": 11,
   "id": "clean-identification",
   "metadata": {
    "scrolled": true
   },
   "outputs": [
    {
     "data": {
      "text/plain": [
       "cluster\n",
       "1    11\n",
       "2    11\n",
       "3    12\n",
       "dtype: int64"
      ]
     },
     "execution_count": 11,
     "metadata": {},
     "output_type": "execute_result"
    }
   ],
   "source": [
    "df.groupby('cluster').size()"
   ]
  },
  {
   "cell_type": "markdown",
   "id": "dried-adult",
   "metadata": {},
   "source": [
    "**Каменистая осыпь**\n",
    "\n",
    "А можно было выбрать число кластеров не на глаз по дендрограмме, а автоматически, тем более если данных много? Можно. Построим график, носящий название \"каменистая осыпь\". Напомним, в матрице ```link``` во второй колонке хранятся расстояния между парами слитых кластеров. По построению, строки матрицы упорядочены по этой колонке."
   ]
  },
  {
   "cell_type": "code",
   "execution_count": 12,
   "id": "egyptian-southeast",
   "metadata": {},
   "outputs": [
    {
     "data": {
      "text/plain": [
       "array([0.        , 0.        , 0.        , 0.        , 0.        ,\n",
       "       0.        , 0.        , 0.        , 0.        , 0.        ,\n",
       "       0.        , 0.        , 0.        , 0.        , 0.        ,\n",
       "       1.        , 1.        , 1.15470054, 1.15470054, 1.15470054,\n",
       "       1.54919334, 1.58113883, 1.73205081, 1.82574186, 1.91485422,\n",
       "       1.93649167, 2.12132034, 2.27636073, 2.33711814, 2.37920282,\n",
       "       2.446395  , 3.87646865, 7.09212963])"
      ]
     },
     "execution_count": 12,
     "metadata": {},
     "output_type": "execute_result"
    }
   ],
   "source": [
    "dist = link[:, 2]\n",
    "dist"
   ]
  },
  {
   "cell_type": "markdown",
   "id": "serial-invalid",
   "metadata": {},
   "source": [
    "Таким образом, можно построить график зависимости расстояний между кластерами от шага слияния (обратного), и посмотреть, начиная с какого момента это расстояние перестанет значительно меняться."
   ]
  },
  {
   "cell_type": "code",
   "execution_count": 13,
   "id": "southwest-affect",
   "metadata": {},
   "outputs": [
    {
     "data": {
      "text/plain": [
       "Text(22, 2.6, '4 clusters')"
      ]
     },
     "execution_count": 13,
     "metadata": {},
     "output_type": "execute_result"
    },
    {
     "data": {
      "image/png": "[encoded data removed]",
      "text/plain": [
       "<Figure size 432x288 with 1 Axes>"
      ]
     },
     "metadata": {
      "needs_background": "light"
     },
     "output_type": "display_data"
    }
   ],
   "source": [
    "dist_rev = dist[::-1]\n",
    "idxs = range(1, len(dist) + 1)\n",
    "plt.plot(idxs, dist_rev, marker='o')\n",
    "plt.title('Distance between merged clusters')\n",
    "plt.xlabel('Step')\n",
    "plt.ylabel('Distance')\n",
    "plt.axhline(3, c='k', linestyle='dashed')\n",
    "plt.axhline(2.52, c='k', linestyle='dashed')\n",
    "plt.text(25, 3.1, '3 clusters')\n",
    "plt.text(22, 2.6, '4 clusters')"
   ]
  },
  {
   "cell_type": "markdown",
   "id": "fundamental-cannon",
   "metadata": {},
   "source": [
    "Из картинки видно, что если мы остановимся объединять кластеры при расстоянии равном примерно 2.5, мы получим 4 кластера, а при равном 3 -- 3 кластера.\n",
    "\n",
    "Однако, строго говоря, этот способ всё ещё немасштабируем для больших данных. Но его можно просто поправить, включая в график не все подряд слияния, а только несколько последних. И если уж мы совсем хотим автомаизировать процесс, то факт сильного изменения расстояний между кластерами можно фиксировать с помощью производной: там где график выходит на горизонталь, производная станет почти нулём."
   ]
  },
  {
   "cell_type": "markdown",
   "id": "integrated-defensive",
   "metadata": {},
   "source": [
    "Пример 2. Кластеризация претендентов\n",
    "----------------------"
   ]
  },
  {
   "cell_type": "code",
   "execution_count": 14,
   "id": "adapted-folks",
   "metadata": {},
   "outputs": [
    {
     "data": {
      "text/html": [
       "<div>\n",
       "<style scoped>\n",
       "    .dataframe tbody tr th:only-of-type {\n",
       "        vertical-align: middle;\n",
       "    }\n",
       "\n",
       "    .dataframe tbody tr th {\n",
       "        vertical-align: top;\n",
       "    }\n",
       "\n",
       "    .dataframe thead th {\n",
       "        text-align: right;\n",
       "    }\n",
       "</style>\n",
       "<table border=\"1\" class=\"dataframe\">\n",
       "  <thead>\n",
       "    <tr style=\"text-align: right;\">\n",
       "      <th></th>\n",
       "      <th>NR</th>\n",
       "      <th>T1</th>\n",
       "      <th>T2</th>\n",
       "      <th>T3</th>\n",
       "      <th>T4</th>\n",
       "      <th>T5</th>\n",
       "      <th>T6</th>\n",
       "      <th>T7</th>\n",
       "      <th>T8</th>\n",
       "      <th>T9</th>\n",
       "      <th>T10</th>\n",
       "    </tr>\n",
       "    <tr>\n",
       "      <th>NAME</th>\n",
       "      <th></th>\n",
       "      <th></th>\n",
       "      <th></th>\n",
       "      <th></th>\n",
       "      <th></th>\n",
       "      <th></th>\n",
       "      <th></th>\n",
       "      <th></th>\n",
       "      <th></th>\n",
       "      <th></th>\n",
       "      <th></th>\n",
       "    </tr>\n",
       "  </thead>\n",
       "  <tbody>\n",
       "    <tr>\n",
       "      <th>Volker</th>\n",
       "      <td>1</td>\n",
       "      <td>10</td>\n",
       "      <td>10</td>\n",
       "      <td>9</td>\n",
       "      <td>10</td>\n",
       "      <td>10</td>\n",
       "      <td>10</td>\n",
       "      <td>9</td>\n",
       "      <td>10</td>\n",
       "      <td>10</td>\n",
       "      <td>9</td>\n",
       "    </tr>\n",
       "    <tr>\n",
       "      <th>Sigrid</th>\n",
       "      <td>2</td>\n",
       "      <td>10</td>\n",
       "      <td>10</td>\n",
       "      <td>4</td>\n",
       "      <td>10</td>\n",
       "      <td>5</td>\n",
       "      <td>5</td>\n",
       "      <td>4</td>\n",
       "      <td>5</td>\n",
       "      <td>4</td>\n",
       "      <td>3</td>\n",
       "    </tr>\n",
       "    <tr>\n",
       "      <th>Elmar</th>\n",
       "      <td>3</td>\n",
       "      <td>5</td>\n",
       "      <td>4</td>\n",
       "      <td>10</td>\n",
       "      <td>5</td>\n",
       "      <td>10</td>\n",
       "      <td>4</td>\n",
       "      <td>10</td>\n",
       "      <td>5</td>\n",
       "      <td>3</td>\n",
       "      <td>10</td>\n",
       "    </tr>\n",
       "    <tr>\n",
       "      <th>Peter</th>\n",
       "      <td>4</td>\n",
       "      <td>10</td>\n",
       "      <td>10</td>\n",
       "      <td>9</td>\n",
       "      <td>10</td>\n",
       "      <td>10</td>\n",
       "      <td>10</td>\n",
       "      <td>9</td>\n",
       "      <td>10</td>\n",
       "      <td>10</td>\n",
       "      <td>9</td>\n",
       "    </tr>\n",
       "    <tr>\n",
       "      <th>Otto</th>\n",
       "      <td>5</td>\n",
       "      <td>4</td>\n",
       "      <td>3</td>\n",
       "      <td>5</td>\n",
       "      <td>4</td>\n",
       "      <td>3</td>\n",
       "      <td>10</td>\n",
       "      <td>4</td>\n",
       "      <td>10</td>\n",
       "      <td>10</td>\n",
       "      <td>5</td>\n",
       "    </tr>\n",
       "  </tbody>\n",
       "</table>\n",
       "</div>"
      ],
      "text/plain": [
       "        NR  T1  T2  T3  T4  T5  T6  T7  T8  T9  T10\n",
       "NAME                                               \n",
       "Volker   1  10  10   9  10  10  10   9  10  10    9\n",
       "Sigrid   2  10  10   4  10   5   5   4   5   4    3\n",
       "Elmar    3   5   4  10   5  10   4  10   5   3   10\n",
       "Peter    4  10  10   9  10  10  10   9  10  10    9\n",
       "Otto     5   4   3   5   4   3  10   4  10  10    5"
      ]
     },
     "execution_count": 14,
     "metadata": {},
     "output_type": "execute_result"
    }
   ],
   "source": [
    "df = pd.read_csv('assess.dat', sep='\\t', index_col='NAME')\n",
    "df.head()"
   ]
  },
  {
   "cell_type": "code",
   "execution_count": 15,
   "id": "instrumental-binding",
   "metadata": {
    "tags": []
   },
   "outputs": [],
   "source": [
    "# В колонке NR находится номер объекта, его нужно исключить из данных для кластеризации\n",
    "del df['NR']"
   ]
  },
  {
   "cell_type": "code",
   "execution_count": 16,
   "id": "controversial-smell",
   "metadata": {},
   "outputs": [
    {
     "data": {
      "image/png": "[encoded data removed]",
      "text/plain": [
       "<Figure size 432x288 with 1 Axes>"
      ]
     },
     "metadata": {
      "needs_background": "light"
     },
     "output_type": "display_data"
    }
   ],
   "source": [
    "link = linkage(df, 'ward', 'euclidean')\n",
    "dn = dendrogram(link)"
   ]
  },
  {
   "cell_type": "code",
   "execution_count": 17,
   "id": "committed-general",
   "metadata": {
    "tags": []
   },
   "outputs": [],
   "source": [
    "df['cluster'] = fcluster(link, 4, criterion='maxclust')"
   ]
  },
  {
   "cell_type": "code",
   "execution_count": 18,
   "id": "portable-candy",
   "metadata": {},
   "outputs": [
    {
     "data": {
      "text/html": [
       "<div>\n",
       "<style scoped>\n",
       "    .dataframe tbody tr th:only-of-type {\n",
       "        vertical-align: middle;\n",
       "    }\n",
       "\n",
       "    .dataframe tbody tr th {\n",
       "        vertical-align: top;\n",
       "    }\n",
       "\n",
       "    .dataframe thead th {\n",
       "        text-align: right;\n",
       "    }\n",
       "</style>\n",
       "<table border=\"1\" class=\"dataframe\">\n",
       "  <thead>\n",
       "    <tr style=\"text-align: right;\">\n",
       "      <th></th>\n",
       "      <th>T1</th>\n",
       "      <th>T2</th>\n",
       "      <th>T3</th>\n",
       "      <th>T4</th>\n",
       "      <th>T5</th>\n",
       "      <th>T6</th>\n",
       "      <th>T7</th>\n",
       "      <th>T8</th>\n",
       "      <th>T9</th>\n",
       "      <th>T10</th>\n",
       "    </tr>\n",
       "    <tr>\n",
       "      <th>cluster</th>\n",
       "      <th></th>\n",
       "      <th></th>\n",
       "      <th></th>\n",
       "      <th></th>\n",
       "      <th></th>\n",
       "      <th></th>\n",
       "      <th></th>\n",
       "      <th></th>\n",
       "      <th></th>\n",
       "      <th></th>\n",
       "    </tr>\n",
       "  </thead>\n",
       "  <tbody>\n",
       "    <tr>\n",
       "      <th>1</th>\n",
       "      <td>4.2</td>\n",
       "      <td>4.8</td>\n",
       "      <td>10.00</td>\n",
       "      <td>4.4</td>\n",
       "      <td>10.00</td>\n",
       "      <td>4.4</td>\n",
       "      <td>10.00</td>\n",
       "      <td>4.00</td>\n",
       "      <td>3.80</td>\n",
       "      <td>10.00</td>\n",
       "    </tr>\n",
       "    <tr>\n",
       "      <th>2</th>\n",
       "      <td>4.8</td>\n",
       "      <td>4.4</td>\n",
       "      <td>4.00</td>\n",
       "      <td>4.0</td>\n",
       "      <td>4.20</td>\n",
       "      <td>10.0</td>\n",
       "      <td>4.40</td>\n",
       "      <td>10.00</td>\n",
       "      <td>10.00</td>\n",
       "      <td>5.00</td>\n",
       "    </tr>\n",
       "    <tr>\n",
       "      <th>3</th>\n",
       "      <td>10.0</td>\n",
       "      <td>10.0</td>\n",
       "      <td>9.00</td>\n",
       "      <td>10.0</td>\n",
       "      <td>10.00</td>\n",
       "      <td>9.5</td>\n",
       "      <td>9.25</td>\n",
       "      <td>9.75</td>\n",
       "      <td>10.00</td>\n",
       "      <td>9.50</td>\n",
       "    </tr>\n",
       "    <tr>\n",
       "      <th>4</th>\n",
       "      <td>10.0</td>\n",
       "      <td>10.0</td>\n",
       "      <td>4.25</td>\n",
       "      <td>10.0</td>\n",
       "      <td>4.75</td>\n",
       "      <td>4.5</td>\n",
       "      <td>3.75</td>\n",
       "      <td>4.25</td>\n",
       "      <td>4.25</td>\n",
       "      <td>4.25</td>\n",
       "    </tr>\n",
       "  </tbody>\n",
       "</table>\n",
       "</div>"
      ],
      "text/plain": [
       "           T1    T2     T3    T4     T5    T6     T7     T8     T9    T10\n",
       "cluster                                                                  \n",
       "1         4.2   4.8  10.00   4.4  10.00   4.4  10.00   4.00   3.80  10.00\n",
       "2         4.8   4.4   4.00   4.0   4.20  10.0   4.40  10.00  10.00   5.00\n",
       "3        10.0  10.0   9.00  10.0  10.00   9.5   9.25   9.75  10.00   9.50\n",
       "4        10.0  10.0   4.25  10.0   4.75   4.5   3.75   4.25   4.25   4.25"
      ]
     },
     "execution_count": 18,
     "metadata": {},
     "output_type": "execute_result"
    }
   ],
   "source": [
    "df.groupby('cluster').mean()"
   ]
  },
  {
   "cell_type": "markdown",
   "id": "standing-origin",
   "metadata": {},
   "source": [
    "Пример 3. Потребление протеинов в Европе\n",
    "------------------"
   ]
  },
  {
   "cell_type": "code",
   "execution_count": 19,
   "id": "boolean-charleston",
   "metadata": {},
   "outputs": [
    {
     "data": {
      "text/html": [
       "<div>\n",
       "<style scoped>\n",
       "    .dataframe tbody tr th:only-of-type {\n",
       "        vertical-align: middle;\n",
       "    }\n",
       "\n",
       "    .dataframe tbody tr th {\n",
       "        vertical-align: top;\n",
       "    }\n",
       "\n",
       "    .dataframe thead th {\n",
       "        text-align: right;\n",
       "    }\n",
       "</style>\n",
       "<table border=\"1\" class=\"dataframe\">\n",
       "  <thead>\n",
       "    <tr style=\"text-align: right;\">\n",
       "      <th></th>\n",
       "      <th>RedMeat</th>\n",
       "      <th>WhiteMeat</th>\n",
       "      <th>Eggs</th>\n",
       "      <th>Milk</th>\n",
       "      <th>Fish</th>\n",
       "      <th>Cereals</th>\n",
       "      <th>Starch</th>\n",
       "      <th>Nuts</th>\n",
       "      <th>Fr&amp;Veg</th>\n",
       "    </tr>\n",
       "    <tr>\n",
       "      <th>Country</th>\n",
       "      <th></th>\n",
       "      <th></th>\n",
       "      <th></th>\n",
       "      <th></th>\n",
       "      <th></th>\n",
       "      <th></th>\n",
       "      <th></th>\n",
       "      <th></th>\n",
       "      <th></th>\n",
       "    </tr>\n",
       "  </thead>\n",
       "  <tbody>\n",
       "    <tr>\n",
       "      <th>Albania</th>\n",
       "      <td>10.1</td>\n",
       "      <td>1.4</td>\n",
       "      <td>0.5</td>\n",
       "      <td>8.9</td>\n",
       "      <td>0.2</td>\n",
       "      <td>42.3</td>\n",
       "      <td>0.6</td>\n",
       "      <td>5.5</td>\n",
       "      <td>1.7</td>\n",
       "    </tr>\n",
       "    <tr>\n",
       "      <th>Austria</th>\n",
       "      <td>8.9</td>\n",
       "      <td>14.0</td>\n",
       "      <td>4.3</td>\n",
       "      <td>19.9</td>\n",
       "      <td>2.1</td>\n",
       "      <td>28.0</td>\n",
       "      <td>3.6</td>\n",
       "      <td>1.3</td>\n",
       "      <td>4.3</td>\n",
       "    </tr>\n",
       "    <tr>\n",
       "      <th>Belgium</th>\n",
       "      <td>13.5</td>\n",
       "      <td>9.3</td>\n",
       "      <td>4.1</td>\n",
       "      <td>17.5</td>\n",
       "      <td>4.5</td>\n",
       "      <td>26.6</td>\n",
       "      <td>5.7</td>\n",
       "      <td>2.1</td>\n",
       "      <td>4.0</td>\n",
       "    </tr>\n",
       "    <tr>\n",
       "      <th>Bulgaria</th>\n",
       "      <td>7.8</td>\n",
       "      <td>6.0</td>\n",
       "      <td>1.6</td>\n",
       "      <td>8.3</td>\n",
       "      <td>1.2</td>\n",
       "      <td>56.7</td>\n",
       "      <td>1.1</td>\n",
       "      <td>3.7</td>\n",
       "      <td>4.2</td>\n",
       "    </tr>\n",
       "    <tr>\n",
       "      <th>Czechoslovakia</th>\n",
       "      <td>9.7</td>\n",
       "      <td>11.4</td>\n",
       "      <td>2.8</td>\n",
       "      <td>12.5</td>\n",
       "      <td>2.0</td>\n",
       "      <td>34.3</td>\n",
       "      <td>5.0</td>\n",
       "      <td>1.1</td>\n",
       "      <td>4.0</td>\n",
       "    </tr>\n",
       "  </tbody>\n",
       "</table>\n",
       "</div>"
      ],
      "text/plain": [
       "                RedMeat  WhiteMeat  Eggs  Milk  Fish  Cereals  Starch  Nuts  \\\n",
       "Country                                                                       \n",
       "Albania            10.1        1.4   0.5   8.9   0.2     42.3     0.6   5.5   \n",
       "Austria             8.9       14.0   4.3  19.9   2.1     28.0     3.6   1.3   \n",
       "Belgium            13.5        9.3   4.1  17.5   4.5     26.6     5.7   2.1   \n",
       "Bulgaria            7.8        6.0   1.6   8.3   1.2     56.7     1.1   3.7   \n",
       "Czechoslovakia      9.7       11.4   2.8  12.5   2.0     34.3     5.0   1.1   \n",
       "\n",
       "                Fr&Veg  \n",
       "Country                 \n",
       "Albania            1.7  \n",
       "Austria            4.3  \n",
       "Belgium            4.0  \n",
       "Bulgaria           4.2  \n",
       "Czechoslovakia     4.0  "
      ]
     },
     "execution_count": 19,
     "metadata": {},
     "output_type": "execute_result"
    }
   ],
   "source": [
    "df = pd.read_csv('Protein Consumption in Europe.csv', sep=';', decimal=',', index_col='Country')\n",
    "df.head()"
   ]
  },
  {
   "cell_type": "markdown",
   "id": "lesser-position",
   "metadata": {},
   "source": [
    "Стандартизация данных\n",
    "--------------------\n",
    "В этом примере данные, которые мы собираемся кластеризовать, хотя и находятся в одних и тех же единицах измерения, но местами они различаются почти на два порядка, так что будет не лишним их стандартизировать перед анализом. \n",
    "\n",
    "В модуле preprocessing библиотеки sklearn реализованы несколько классов стандартизации данных:\n",
    "* StandardScaler -- приведение к нулевому среднему и единичной дисперсии.\n",
    "* MinMaxScaler -- приведение данных к отрезку [0, 1].\n",
    "* MaxAbsScaler -- приведение к [-1, 1] (рекомендуется для разреженных данных).\n",
    "\n",
    "Замечание. У этих методов есть чуть более лёгкие методы-аналоги ```scale```, ```minmax_scale``` и ```maxabs_scale```, которые делают практически то же самое, но для supervized задач машинного обучения, которые встретяся позже, удобнее использовать именно изначально указанные классы.\n",
    "\n",
    "Процесс стандартизации выглядит так:"
   ]
  },
  {
   "cell_type": "code",
   "execution_count": 20,
   "id": "general-logistics",
   "metadata": {
    "tags": []
   },
   "outputs": [],
   "source": [
    "from sklearn import preprocessing\n",
    "\n",
    "# Выбираем один из вариантов нормализации\n",
    "\n",
    "norm = preprocessing.StandardScaler()\n",
    "# norm = preprocessing.MaxAbsScaler()\n",
    "# norm = preprocessing.MinMaxScaler()\n",
    "\n",
    "# вычисляем параметры нормализации (они будут сохранены внутри объекта norm)\n",
    "norm.fit(df)\n",
    "# преобразовываем данные с параметрами\n",
    "X = norm.transform(df)\n",
    "# Полученный на предыдущем шаге объект X -- это матрица класса numpy.ndarray.\n",
    "# Глазами на неё смотреть неудобно, лучше преобразовать её в объект класса pandas.DataFrame.\n",
    "X = pd.DataFrame(X, index=df.index, columns=df.columns)"
   ]
  },
  {
   "cell_type": "code",
   "execution_count": 21,
   "id": "whole-algebra",
   "metadata": {},
   "outputs": [
    {
     "data": {
      "text/html": [
       "<div>\n",
       "<style scoped>\n",
       "    .dataframe tbody tr th:only-of-type {\n",
       "        vertical-align: middle;\n",
       "    }\n",
       "\n",
       "    .dataframe tbody tr th {\n",
       "        vertical-align: top;\n",
       "    }\n",
       "\n",
       "    .dataframe thead th {\n",
       "        text-align: right;\n",
       "    }\n",
       "</style>\n",
       "<table border=\"1\" class=\"dataframe\">\n",
       "  <thead>\n",
       "    <tr style=\"text-align: right;\">\n",
       "      <th></th>\n",
       "      <th>RedMeat</th>\n",
       "      <th>WhiteMeat</th>\n",
       "      <th>Eggs</th>\n",
       "      <th>Milk</th>\n",
       "      <th>Fish</th>\n",
       "      <th>Cereals</th>\n",
       "      <th>Starch</th>\n",
       "      <th>Nuts</th>\n",
       "      <th>Fr&amp;Veg</th>\n",
       "    </tr>\n",
       "    <tr>\n",
       "      <th>Country</th>\n",
       "      <th></th>\n",
       "      <th></th>\n",
       "      <th></th>\n",
       "      <th></th>\n",
       "      <th></th>\n",
       "      <th></th>\n",
       "      <th></th>\n",
       "      <th></th>\n",
       "      <th></th>\n",
       "    </tr>\n",
       "  </thead>\n",
       "  <tbody>\n",
       "    <tr>\n",
       "      <th>Albania</th>\n",
       "      <td>0.082941</td>\n",
       "      <td>-1.794750</td>\n",
       "      <td>-2.224584</td>\n",
       "      <td>-1.179570</td>\n",
       "      <td>-1.225033</td>\n",
       "      <td>0.934804</td>\n",
       "      <td>-2.295965</td>\n",
       "      <td>1.247968</td>\n",
       "      <td>-1.378251</td>\n",
       "    </tr>\n",
       "    <tr>\n",
       "      <th>Austria</th>\n",
       "      <td>-0.282974</td>\n",
       "      <td>1.686446</td>\n",
       "      <td>1.245621</td>\n",
       "      <td>0.400468</td>\n",
       "      <td>-0.655111</td>\n",
       "      <td>-0.395051</td>\n",
       "      <td>-0.422218</td>\n",
       "      <td>-0.910790</td>\n",
       "      <td>0.092789</td>\n",
       "    </tr>\n",
       "    <tr>\n",
       "      <th>Belgium</th>\n",
       "      <td>1.119699</td>\n",
       "      <td>0.387905</td>\n",
       "      <td>1.062979</td>\n",
       "      <td>0.055732</td>\n",
       "      <td>0.064791</td>\n",
       "      <td>-0.525246</td>\n",
       "      <td>0.889405</td>\n",
       "      <td>-0.499598</td>\n",
       "      <td>-0.076947</td>\n",
       "    </tr>\n",
       "    <tr>\n",
       "      <th>Bulgaria</th>\n",
       "      <td>-0.618396</td>\n",
       "      <td>-0.523837</td>\n",
       "      <td>-1.220051</td>\n",
       "      <td>-1.265754</td>\n",
       "      <td>-0.925074</td>\n",
       "      <td>2.273959</td>\n",
       "      <td>-1.983674</td>\n",
       "      <td>0.322786</td>\n",
       "      <td>0.036210</td>\n",
       "    </tr>\n",
       "    <tr>\n",
       "      <th>Czechoslovakia</th>\n",
       "      <td>-0.039031</td>\n",
       "      <td>0.968104</td>\n",
       "      <td>-0.124197</td>\n",
       "      <td>-0.662467</td>\n",
       "      <td>-0.685107</td>\n",
       "      <td>0.190830</td>\n",
       "      <td>0.452198</td>\n",
       "      <td>-1.013588</td>\n",
       "      <td>-0.076947</td>\n",
       "    </tr>\n",
       "  </tbody>\n",
       "</table>\n",
       "</div>"
      ],
      "text/plain": [
       "                 RedMeat  WhiteMeat      Eggs      Milk      Fish   Cereals  \\\n",
       "Country                                                                       \n",
       "Albania         0.082941  -1.794750 -2.224584 -1.179570 -1.225033  0.934804   \n",
       "Austria        -0.282974   1.686446  1.245621  0.400468 -0.655111 -0.395051   \n",
       "Belgium         1.119699   0.387905  1.062979  0.055732  0.064791 -0.525246   \n",
       "Bulgaria       -0.618396  -0.523837 -1.220051 -1.265754 -0.925074  2.273959   \n",
       "Czechoslovakia -0.039031   0.968104 -0.124197 -0.662467 -0.685107  0.190830   \n",
       "\n",
       "                  Starch      Nuts    Fr&Veg  \n",
       "Country                                       \n",
       "Albania        -2.295965  1.247968 -1.378251  \n",
       "Austria        -0.422218 -0.910790  0.092789  \n",
       "Belgium         0.889405 -0.499598 -0.076947  \n",
       "Bulgaria       -1.983674  0.322786  0.036210  \n",
       "Czechoslovakia  0.452198 -1.013588 -0.076947  "
      ]
     },
     "execution_count": 21,
     "metadata": {},
     "output_type": "execute_result"
    }
   ],
   "source": [
    "X.head()"
   ]
  },
  {
   "cell_type": "code",
   "execution_count": 22,
   "id": "featured-concept",
   "metadata": {},
   "outputs": [
    {
     "data": {
      "image/png": "[encoded data removed]",
      "text/plain": [
       "<Figure size 432x288 with 1 Axes>"
      ]
     },
     "metadata": {
      "needs_background": "light"
     },
     "output_type": "display_data"
    }
   ],
   "source": [
    "link = linkage(X, 'ward', 'euclidean')\n",
    "dn = dendrogram(link,\n",
    "                # массив с названиями объектов для подписи по оси X\n",
    "                labels=X.index.tolist(),\n",
    "                # опция для более красивого отображения слишком ветввистой дендрограммы\n",
    "                truncate_mode='lastp',\n",
    "                # повернуть подписи вертикально\n",
    "                color_threshold=5,\n",
    "                leaf_rotation=90.)"
   ]
  },
  {
   "cell_type": "code",
   "execution_count": 23,
   "id": "bright-quantity",
   "metadata": {
    "tags": []
   },
   "outputs": [],
   "source": [
    "df['cluster'] = fcluster(link, 5, criterion='distance')"
   ]
  },
  {
   "cell_type": "code",
   "execution_count": 24,
   "id": "arctic-isolation",
   "metadata": {},
   "outputs": [
    {
     "data": {
      "text/html": [
       "<div>\n",
       "<style scoped>\n",
       "    .dataframe tbody tr th:only-of-type {\n",
       "        vertical-align: middle;\n",
       "    }\n",
       "\n",
       "    .dataframe tbody tr th {\n",
       "        vertical-align: top;\n",
       "    }\n",
       "\n",
       "    .dataframe thead th {\n",
       "        text-align: right;\n",
       "    }\n",
       "</style>\n",
       "<table border=\"1\" class=\"dataframe\">\n",
       "  <thead>\n",
       "    <tr style=\"text-align: right;\">\n",
       "      <th></th>\n",
       "      <th>RedMeat</th>\n",
       "      <th>WhiteMeat</th>\n",
       "      <th>Eggs</th>\n",
       "      <th>Milk</th>\n",
       "      <th>Fish</th>\n",
       "      <th>Cereals</th>\n",
       "      <th>Starch</th>\n",
       "      <th>Nuts</th>\n",
       "      <th>Fr&amp;Veg</th>\n",
       "    </tr>\n",
       "    <tr>\n",
       "      <th>cluster</th>\n",
       "      <th></th>\n",
       "      <th></th>\n",
       "      <th></th>\n",
       "      <th></th>\n",
       "      <th></th>\n",
       "      <th></th>\n",
       "      <th></th>\n",
       "      <th></th>\n",
       "      <th></th>\n",
       "    </tr>\n",
       "  </thead>\n",
       "  <tbody>\n",
       "    <tr>\n",
       "      <th>1</th>\n",
       "      <td>7.9200</td>\n",
       "      <td>10.0400</td>\n",
       "      <td>2.8400</td>\n",
       "      <td>13.8400</td>\n",
       "      <td>2.740</td>\n",
       "      <td>35.740</td>\n",
       "      <td>5.56</td>\n",
       "      <td>2.5400</td>\n",
       "      <td>4.260</td>\n",
       "    </tr>\n",
       "    <tr>\n",
       "      <th>2</th>\n",
       "      <td>9.8500</td>\n",
       "      <td>7.0500</td>\n",
       "      <td>3.1500</td>\n",
       "      <td>26.6750</td>\n",
       "      <td>8.225</td>\n",
       "      <td>22.675</td>\n",
       "      <td>4.55</td>\n",
       "      <td>1.1750</td>\n",
       "      <td>2.125</td>\n",
       "    </tr>\n",
       "    <tr>\n",
       "      <th>3</th>\n",
       "      <td>13.2125</td>\n",
       "      <td>10.6375</td>\n",
       "      <td>3.9875</td>\n",
       "      <td>21.1625</td>\n",
       "      <td>3.375</td>\n",
       "      <td>24.700</td>\n",
       "      <td>4.65</td>\n",
       "      <td>2.0625</td>\n",
       "      <td>4.175</td>\n",
       "    </tr>\n",
       "    <tr>\n",
       "      <th>4</th>\n",
       "      <td>7.1250</td>\n",
       "      <td>4.6750</td>\n",
       "      <td>1.2000</td>\n",
       "      <td>9.4500</td>\n",
       "      <td>0.750</td>\n",
       "      <td>51.125</td>\n",
       "      <td>1.95</td>\n",
       "      <td>5.0500</td>\n",
       "      <td>2.975</td>\n",
       "    </tr>\n",
       "    <tr>\n",
       "      <th>5</th>\n",
       "      <td>9.6000</td>\n",
       "      <td>4.0500</td>\n",
       "      <td>2.8500</td>\n",
       "      <td>15.6500</td>\n",
       "      <td>4.650</td>\n",
       "      <td>39.250</td>\n",
       "      <td>2.15</td>\n",
       "      <td>6.0500</td>\n",
       "      <td>6.600</td>\n",
       "    </tr>\n",
       "    <tr>\n",
       "      <th>6</th>\n",
       "      <td>6.6500</td>\n",
       "      <td>3.5500</td>\n",
       "      <td>2.1000</td>\n",
       "      <td>6.7500</td>\n",
       "      <td>10.600</td>\n",
       "      <td>28.100</td>\n",
       "      <td>5.80</td>\n",
       "      <td>5.3000</td>\n",
       "      <td>7.550</td>\n",
       "    </tr>\n",
       "  </tbody>\n",
       "</table>\n",
       "</div>"
      ],
      "text/plain": [
       "         RedMeat  WhiteMeat    Eggs     Milk    Fish  Cereals  Starch    Nuts  \\\n",
       "cluster                                                                         \n",
       "1         7.9200    10.0400  2.8400  13.8400   2.740   35.740    5.56  2.5400   \n",
       "2         9.8500     7.0500  3.1500  26.6750   8.225   22.675    4.55  1.1750   \n",
       "3        13.2125    10.6375  3.9875  21.1625   3.375   24.700    4.65  2.0625   \n",
       "4         7.1250     4.6750  1.2000   9.4500   0.750   51.125    1.95  5.0500   \n",
       "5         9.6000     4.0500  2.8500  15.6500   4.650   39.250    2.15  6.0500   \n",
       "6         6.6500     3.5500  2.1000   6.7500  10.600   28.100    5.80  5.3000   \n",
       "\n",
       "         Fr&Veg  \n",
       "cluster          \n",
       "1         4.260  \n",
       "2         2.125  \n",
       "3         4.175  \n",
       "4         2.975  \n",
       "5         6.600  \n",
       "6         7.550  "
      ]
     },
     "execution_count": 24,
     "metadata": {},
     "output_type": "execute_result"
    }
   ],
   "source": [
    "df.groupby('cluster').mean()"
   ]
  },
  {
   "cell_type": "markdown",
   "id": "driving-control",
   "metadata": {},
   "source": [
    "Кластеризация методом k-means (k-средних)\n",
    "=============\n",
    "\n",
    "Полезные ссылки:\n",
    "* http://scikit-learn.org/stable/modules/generated/sklearn.cluster.KMeans.html\n",
    "* http://scikit-learn.org/stable/modules/clustering.html"
   ]
  },
  {
   "cell_type": "code",
   "execution_count": 25,
   "id": "substantial-insight",
   "metadata": {},
   "outputs": [],
   "source": [
    "import pandas as pd\n",
    "import matplotlib\n",
    "import matplotlib.pyplot as plt\n",
    "matplotlib.style.use('ggplot')\n",
    "%matplotlib inline\n",
    "\n",
    "import os"
   ]
  },
  {
   "cell_type": "markdown",
   "id": "apart-athletics",
   "metadata": {},
   "source": [
    "Пример 1. Beverage\n",
    "--------"
   ]
  },
  {
   "cell_type": "code",
   "execution_count": 26,
   "id": "distinguished-refrigerator",
   "metadata": {},
   "outputs": [
    {
     "data": {
      "text/html": [
       "<div>\n",
       "<style scoped>\n",
       "    .dataframe tbody tr th:only-of-type {\n",
       "        vertical-align: middle;\n",
       "    }\n",
       "\n",
       "    .dataframe tbody tr th {\n",
       "        vertical-align: top;\n",
       "    }\n",
       "\n",
       "    .dataframe thead th {\n",
       "        text-align: right;\n",
       "    }\n",
       "</style>\n",
       "<table border=\"1\" class=\"dataframe\">\n",
       "  <thead>\n",
       "    <tr style=\"text-align: right;\">\n",
       "      <th></th>\n",
       "      <th>COKE</th>\n",
       "      <th>D_COKE</th>\n",
       "      <th>D_PEPSI</th>\n",
       "      <th>D_7UP</th>\n",
       "      <th>PEPSI</th>\n",
       "      <th>SPRITE</th>\n",
       "      <th>TAB</th>\n",
       "      <th>SEVENUP</th>\n",
       "    </tr>\n",
       "    <tr>\n",
       "      <th>numb.obs</th>\n",
       "      <th></th>\n",
       "      <th></th>\n",
       "      <th></th>\n",
       "      <th></th>\n",
       "      <th></th>\n",
       "      <th></th>\n",
       "      <th></th>\n",
       "      <th></th>\n",
       "    </tr>\n",
       "  </thead>\n",
       "  <tbody>\n",
       "    <tr>\n",
       "      <th>1</th>\n",
       "      <td>1</td>\n",
       "      <td>0</td>\n",
       "      <td>0</td>\n",
       "      <td>0</td>\n",
       "      <td>1</td>\n",
       "      <td>1</td>\n",
       "      <td>0</td>\n",
       "      <td>1</td>\n",
       "    </tr>\n",
       "    <tr>\n",
       "      <th>2</th>\n",
       "      <td>1</td>\n",
       "      <td>0</td>\n",
       "      <td>0</td>\n",
       "      <td>0</td>\n",
       "      <td>1</td>\n",
       "      <td>0</td>\n",
       "      <td>0</td>\n",
       "      <td>0</td>\n",
       "    </tr>\n",
       "    <tr>\n",
       "      <th>3</th>\n",
       "      <td>1</td>\n",
       "      <td>0</td>\n",
       "      <td>0</td>\n",
       "      <td>0</td>\n",
       "      <td>1</td>\n",
       "      <td>0</td>\n",
       "      <td>0</td>\n",
       "      <td>0</td>\n",
       "    </tr>\n",
       "    <tr>\n",
       "      <th>4</th>\n",
       "      <td>0</td>\n",
       "      <td>1</td>\n",
       "      <td>0</td>\n",
       "      <td>1</td>\n",
       "      <td>0</td>\n",
       "      <td>0</td>\n",
       "      <td>1</td>\n",
       "      <td>0</td>\n",
       "    </tr>\n",
       "    <tr>\n",
       "      <th>5</th>\n",
       "      <td>1</td>\n",
       "      <td>0</td>\n",
       "      <td>0</td>\n",
       "      <td>0</td>\n",
       "      <td>1</td>\n",
       "      <td>0</td>\n",
       "      <td>0</td>\n",
       "      <td>0</td>\n",
       "    </tr>\n",
       "  </tbody>\n",
       "</table>\n",
       "</div>"
      ],
      "text/plain": [
       "          COKE  D_COKE  D_PEPSI  D_7UP  PEPSI  SPRITE  TAB  SEVENUP\n",
       "numb.obs                                                           \n",
       "1            1       0        0      0      1       1    0        1\n",
       "2            1       0        0      0      1       0    0        0\n",
       "3            1       0        0      0      1       0    0        0\n",
       "4            0       1        0      1      0       0    1        0\n",
       "5            1       0        0      0      1       0    0        0"
      ]
     },
     "execution_count": 26,
     "metadata": {},
     "output_type": "execute_result"
    }
   ],
   "source": [
    "df = pd.read_csv(\"beverage_r.csv\", sep=\";\", index_col='numb.obs')\n",
    "df.head()"
   ]
  },
  {
   "cell_type": "markdown",
   "id": "brave-listening",
   "metadata": {},
   "source": [
    "В scikit-learn процедура настройки и использования моделей часто проходит по одной и той же схеме:\n",
    "1. Инициализация модели, задание её параметров,\n",
    "2. Подгонка модели (метод fit и/или fit_transform),\n",
    "3. Предсказание для новых наблюдений (метод predict).\n",
    "\n",
    "Для кластеризации методом k-means необходимо задать k наперёд. Попробуем k = 2. "
   ]
  },
  {
   "cell_type": "code",
   "execution_count": 27,
   "id": "beginning-registrar",
   "metadata": {},
   "outputs": [],
   "source": [
    "from sklearn.cluster import KMeans\n",
    "# инициализация модели\n",
    "model = KMeans(n_clusters=2, random_state=42)\n",
    "# random_state - зерно датчика случайных чисел. \n",
    "# При каждом новом вызове с одинаковыми random_state модель будет давать\n",
    "# одинаковые результаты."
   ]
  },
  {
   "cell_type": "code",
   "execution_count": 28,
   "id": "competent-embassy",
   "metadata": {},
   "outputs": [
    {
     "data": {
      "text/plain": [
       "KMeans(n_clusters=2, random_state=42)"
      ]
     },
     "execution_count": 28,
     "metadata": {},
     "output_type": "execute_result"
    }
   ],
   "source": [
    "# подгонка модели по данным из df\n",
    "model.fit(df)"
   ]
  },
  {
   "cell_type": "code",
   "execution_count": 29,
   "id": "frank-international",
   "metadata": {},
   "outputs": [
    {
     "data": {
      "text/plain": [
       "array([0, 0, 0, 1, 0, 0, 1, 0, 0, 0, 0, 1, 1, 0, 1, 0, 1, 0, 0, 0, 0, 0,\n",
       "       1, 0, 1, 1, 1, 0, 0, 1, 0, 1, 0, 1])"
      ]
     },
     "execution_count": 29,
     "metadata": {},
     "output_type": "execute_result"
    }
   ],
   "source": [
    "# Результат кластеризации на данных df\n",
    "model.labels_"
   ]
  },
  {
   "cell_type": "code",
   "execution_count": 30,
   "id": "operating-estate",
   "metadata": {},
   "outputs": [
    {
     "data": {
      "text/plain": [
       "array([[ 9.52380952e-01,  2.38095238e-01,  4.76190476e-02,\n",
       "        -8.32667268e-17,  7.61904762e-01,  4.28571429e-01,\n",
       "         4.76190476e-02,  3.80952381e-01],\n",
       "       [ 1.11022302e-16,  9.23076923e-01,  5.38461538e-01,\n",
       "         5.38461538e-01, -5.55111512e-17,  1.53846154e-01,\n",
       "         7.69230769e-01,  7.69230769e-02]])"
      ]
     },
     "execution_count": 30,
     "metadata": {},
     "output_type": "execute_result"
    }
   ],
   "source": [
    "# координаты центров кластеров\n",
    "model.cluster_centers_"
   ]
  },
  {
   "cell_type": "code",
   "execution_count": 31,
   "id": "higher-proceeding",
   "metadata": {},
   "outputs": [
    {
     "data": {
      "text/plain": [
       "array([1, 0])"
      ]
     },
     "execution_count": 31,
     "metadata": {},
     "output_type": "execute_result"
    }
   ],
   "source": [
    "# предсказание для новых наблюдений. Метод predict.\n",
    "new_items = [\n",
    "    [1, 1, 1, 1, 1, 1, 1, 1],\n",
    "    [0, 0, 0, 0, 0, 0, 0, 0]\n",
    "]\n",
    "model.predict(new_items)"
   ]
  },
  {
   "cell_type": "markdown",
   "id": "entire-country",
   "metadata": {},
   "source": [
    "Модель выше разбивала на два кластера. \n",
    "Как определить число кластеров?\n",
    "Применим модель для разного числа кластеров, чтобы построить график каменистой осыпи. Метод ```inertia_``` вернёт сумму расстояний от каждой точки данных до центра ближайшего к ней кластера. Таким образом, кластеризацию можно считать условно хорошей, когда инерция перестаёт сильно уменьшаться при увеличении числа кластеров."
   ]
  },
  {
   "cell_type": "code",
   "execution_count": 32,
   "id": "committed-symphony",
   "metadata": {
    "scrolled": true
   },
   "outputs": [
    {
     "name": "stderr",
     "output_type": "stream",
     "text": [
      "C:\\Users\\HP\\Anaconda3\\lib\\site-packages\\sklearn\\cluster\\_kmeans.py:882: UserWarning: KMeans is known to have a memory leak on Windows with MKL, when there are less chunks than available threads. You can avoid it by setting the environment variable OMP_NUM_THREADS=1.\n",
      "  f\"KMeans is known to have a memory leak on Windows \"\n"
     ]
    },
    {
     "data": {
      "image/png": "[encoded data removed]",
      "text/plain": [
       "<Figure size 432x288 with 1 Axes>"
      ]
     },
     "metadata": {
      "needs_background": "light"
     },
     "output_type": "display_data"
    }
   ],
   "source": [
    "K = range(1, 11)\n",
    "models = [KMeans(n_clusters=k, random_state=42).fit(df) for k in K]\n",
    "dist = [model.inertia_ for model in models]\n",
    "\n",
    "# Plot the elbow\n",
    "plt.plot(K, dist, marker='o')\n",
    "plt.xlabel('k')\n",
    "plt.ylabel('Sum of distances')\n",
    "plt.title('The Elbow Method showing the optimal k')\n",
    "plt.show()"
   ]
  },
  {
   "cell_type": "markdown",
   "id": "under-minority",
   "metadata": {},
   "source": [
    "Допустим, мы решили, что три кластера -- это оптимальный выбор. Теперь хочется посмотреть на список наблюдений, составляющий данные кластеры, и посмотреть, чем они отличаются друг от друга. Для этого применим метод ```labels_```, а затем посчитаем средние значения факторов для каждого кластера."
   ]
  },
  {
   "cell_type": "code",
   "execution_count": 33,
   "id": "compatible-ecuador",
   "metadata": {},
   "outputs": [
    {
     "data": {
      "text/html": [
       "<div>\n",
       "<style scoped>\n",
       "    .dataframe tbody tr th:only-of-type {\n",
       "        vertical-align: middle;\n",
       "    }\n",
       "\n",
       "    .dataframe tbody tr th {\n",
       "        vertical-align: top;\n",
       "    }\n",
       "\n",
       "    .dataframe thead th {\n",
       "        text-align: right;\n",
       "    }\n",
       "</style>\n",
       "<table border=\"1\" class=\"dataframe\">\n",
       "  <thead>\n",
       "    <tr style=\"text-align: right;\">\n",
       "      <th></th>\n",
       "      <th>COKE</th>\n",
       "      <th>D_COKE</th>\n",
       "      <th>D_PEPSI</th>\n",
       "      <th>D_7UP</th>\n",
       "      <th>PEPSI</th>\n",
       "      <th>SPRITE</th>\n",
       "      <th>TAB</th>\n",
       "      <th>SEVENUP</th>\n",
       "    </tr>\n",
       "    <tr>\n",
       "      <th>cluster</th>\n",
       "      <th></th>\n",
       "      <th></th>\n",
       "      <th></th>\n",
       "      <th></th>\n",
       "      <th></th>\n",
       "      <th></th>\n",
       "      <th></th>\n",
       "      <th></th>\n",
       "    </tr>\n",
       "  </thead>\n",
       "  <tbody>\n",
       "    <tr>\n",
       "      <th>0</th>\n",
       "      <td>0.727273</td>\n",
       "      <td>0.272727</td>\n",
       "      <td>0.090909</td>\n",
       "      <td>0.090909</td>\n",
       "      <td>0.454545</td>\n",
       "      <td>1.0</td>\n",
       "      <td>0.090909</td>\n",
       "      <td>0.454545</td>\n",
       "    </tr>\n",
       "    <tr>\n",
       "      <th>1</th>\n",
       "      <td>0.000000</td>\n",
       "      <td>1.000000</td>\n",
       "      <td>0.545455</td>\n",
       "      <td>0.545455</td>\n",
       "      <td>0.000000</td>\n",
       "      <td>0.0</td>\n",
       "      <td>0.909091</td>\n",
       "      <td>0.000000</td>\n",
       "    </tr>\n",
       "    <tr>\n",
       "      <th>2</th>\n",
       "      <td>1.000000</td>\n",
       "      <td>0.250000</td>\n",
       "      <td>0.083333</td>\n",
       "      <td>0.000000</td>\n",
       "      <td>0.916667</td>\n",
       "      <td>0.0</td>\n",
       "      <td>0.000000</td>\n",
       "      <td>0.333333</td>\n",
       "    </tr>\n",
       "  </tbody>\n",
       "</table>\n",
       "</div>"
      ],
      "text/plain": [
       "             COKE    D_COKE   D_PEPSI     D_7UP     PEPSI  SPRITE       TAB  \\\n",
       "cluster                                                                       \n",
       "0        0.727273  0.272727  0.090909  0.090909  0.454545     1.0  0.090909   \n",
       "1        0.000000  1.000000  0.545455  0.545455  0.000000     0.0  0.909091   \n",
       "2        1.000000  0.250000  0.083333  0.000000  0.916667     0.0  0.000000   \n",
       "\n",
       "          SEVENUP  \n",
       "cluster            \n",
       "0        0.454545  \n",
       "1        0.000000  \n",
       "2        0.333333  "
      ]
     },
     "execution_count": 33,
     "metadata": {},
     "output_type": "execute_result"
    }
   ],
   "source": [
    "model = KMeans(n_clusters=3, random_state=42)\n",
    "model.fit(df)\n",
    "df['cluster'] = model.labels_\n",
    "df.groupby('cluster').mean()"
   ]
  },
  {
   "cell_type": "code",
   "execution_count": 34,
   "id": "liked-herald",
   "metadata": {},
   "outputs": [
    {
     "data": {
      "text/plain": [
       "cluster\n",
       "0    11\n",
       "1    11\n",
       "2    12\n",
       "dtype: int64"
      ]
     },
     "execution_count": 34,
     "metadata": {},
     "output_type": "execute_result"
    }
   ],
   "source": [
    "df.groupby('cluster').size()"
   ]
  },
  {
   "cell_type": "markdown",
   "id": "exempt-formation",
   "metadata": {},
   "source": [
    "Пример 2. Кластеризация претендентов\n",
    "-------"
   ]
  },
  {
   "cell_type": "code",
   "execution_count": 35,
   "id": "happy-champagne",
   "metadata": {},
   "outputs": [
    {
     "data": {
      "text/html": [
       "<div>\n",
       "<style scoped>\n",
       "    .dataframe tbody tr th:only-of-type {\n",
       "        vertical-align: middle;\n",
       "    }\n",
       "\n",
       "    .dataframe tbody tr th {\n",
       "        vertical-align: top;\n",
       "    }\n",
       "\n",
       "    .dataframe thead th {\n",
       "        text-align: right;\n",
       "    }\n",
       "</style>\n",
       "<table border=\"1\" class=\"dataframe\">\n",
       "  <thead>\n",
       "    <tr style=\"text-align: right;\">\n",
       "      <th></th>\n",
       "      <th>NR</th>\n",
       "      <th>T1</th>\n",
       "      <th>T2</th>\n",
       "      <th>T3</th>\n",
       "      <th>T4</th>\n",
       "      <th>T5</th>\n",
       "      <th>T6</th>\n",
       "      <th>T7</th>\n",
       "      <th>T8</th>\n",
       "      <th>T9</th>\n",
       "      <th>T10</th>\n",
       "    </tr>\n",
       "    <tr>\n",
       "      <th>NAME</th>\n",
       "      <th></th>\n",
       "      <th></th>\n",
       "      <th></th>\n",
       "      <th></th>\n",
       "      <th></th>\n",
       "      <th></th>\n",
       "      <th></th>\n",
       "      <th></th>\n",
       "      <th></th>\n",
       "      <th></th>\n",
       "      <th></th>\n",
       "    </tr>\n",
       "  </thead>\n",
       "  <tbody>\n",
       "    <tr>\n",
       "      <th>Volker</th>\n",
       "      <td>1</td>\n",
       "      <td>10</td>\n",
       "      <td>10</td>\n",
       "      <td>9</td>\n",
       "      <td>10</td>\n",
       "      <td>10</td>\n",
       "      <td>10</td>\n",
       "      <td>9</td>\n",
       "      <td>10</td>\n",
       "      <td>10</td>\n",
       "      <td>9</td>\n",
       "    </tr>\n",
       "    <tr>\n",
       "      <th>Sigrid</th>\n",
       "      <td>2</td>\n",
       "      <td>10</td>\n",
       "      <td>10</td>\n",
       "      <td>4</td>\n",
       "      <td>10</td>\n",
       "      <td>5</td>\n",
       "      <td>5</td>\n",
       "      <td>4</td>\n",
       "      <td>5</td>\n",
       "      <td>4</td>\n",
       "      <td>3</td>\n",
       "    </tr>\n",
       "    <tr>\n",
       "      <th>Elmar</th>\n",
       "      <td>3</td>\n",
       "      <td>5</td>\n",
       "      <td>4</td>\n",
       "      <td>10</td>\n",
       "      <td>5</td>\n",
       "      <td>10</td>\n",
       "      <td>4</td>\n",
       "      <td>10</td>\n",
       "      <td>5</td>\n",
       "      <td>3</td>\n",
       "      <td>10</td>\n",
       "    </tr>\n",
       "    <tr>\n",
       "      <th>Peter</th>\n",
       "      <td>4</td>\n",
       "      <td>10</td>\n",
       "      <td>10</td>\n",
       "      <td>9</td>\n",
       "      <td>10</td>\n",
       "      <td>10</td>\n",
       "      <td>10</td>\n",
       "      <td>9</td>\n",
       "      <td>10</td>\n",
       "      <td>10</td>\n",
       "      <td>9</td>\n",
       "    </tr>\n",
       "    <tr>\n",
       "      <th>Otto</th>\n",
       "      <td>5</td>\n",
       "      <td>4</td>\n",
       "      <td>3</td>\n",
       "      <td>5</td>\n",
       "      <td>4</td>\n",
       "      <td>3</td>\n",
       "      <td>10</td>\n",
       "      <td>4</td>\n",
       "      <td>10</td>\n",
       "      <td>10</td>\n",
       "      <td>5</td>\n",
       "    </tr>\n",
       "  </tbody>\n",
       "</table>\n",
       "</div>"
      ],
      "text/plain": [
       "        NR  T1  T2  T3  T4  T5  T6  T7  T8  T9  T10\n",
       "NAME                                               \n",
       "Volker   1  10  10   9  10  10  10   9  10  10    9\n",
       "Sigrid   2  10  10   4  10   5   5   4   5   4    3\n",
       "Elmar    3   5   4  10   5  10   4  10   5   3   10\n",
       "Peter    4  10  10   9  10  10  10   9  10  10    9\n",
       "Otto     5   4   3   5   4   3  10   4  10  10    5"
      ]
     },
     "execution_count": 35,
     "metadata": {},
     "output_type": "execute_result"
    }
   ],
   "source": [
    "df = pd.read_csv('assess.dat', sep='\\t', index_col='NAME')\n",
    "df.head()"
   ]
  },
  {
   "cell_type": "code",
   "execution_count": 36,
   "id": "temporal-recycling",
   "metadata": {},
   "outputs": [],
   "source": [
    "# В колонке NR находится номер объекта, его нужно исключить из данных для кластеризации\n",
    "del df['NR']"
   ]
  },
  {
   "cell_type": "code",
   "execution_count": 37,
   "id": "palestinian-stage",
   "metadata": {},
   "outputs": [
    {
     "data": {
      "text/html": [
       "<div>\n",
       "<style scoped>\n",
       "    .dataframe tbody tr th:only-of-type {\n",
       "        vertical-align: middle;\n",
       "    }\n",
       "\n",
       "    .dataframe tbody tr th {\n",
       "        vertical-align: top;\n",
       "    }\n",
       "\n",
       "    .dataframe thead th {\n",
       "        text-align: right;\n",
       "    }\n",
       "</style>\n",
       "<table border=\"1\" class=\"dataframe\">\n",
       "  <thead>\n",
       "    <tr style=\"text-align: right;\">\n",
       "      <th></th>\n",
       "      <th>T1</th>\n",
       "      <th>T2</th>\n",
       "      <th>T3</th>\n",
       "      <th>T4</th>\n",
       "      <th>T5</th>\n",
       "      <th>T6</th>\n",
       "      <th>T7</th>\n",
       "      <th>T8</th>\n",
       "      <th>T9</th>\n",
       "      <th>T10</th>\n",
       "    </tr>\n",
       "    <tr>\n",
       "      <th>cluster</th>\n",
       "      <th></th>\n",
       "      <th></th>\n",
       "      <th></th>\n",
       "      <th></th>\n",
       "      <th></th>\n",
       "      <th></th>\n",
       "      <th></th>\n",
       "      <th></th>\n",
       "      <th></th>\n",
       "      <th></th>\n",
       "    </tr>\n",
       "  </thead>\n",
       "  <tbody>\n",
       "    <tr>\n",
       "      <th>0</th>\n",
       "      <td>4.8</td>\n",
       "      <td>4.4</td>\n",
       "      <td>4.00</td>\n",
       "      <td>4.0</td>\n",
       "      <td>4.20</td>\n",
       "      <td>10.0</td>\n",
       "      <td>4.40</td>\n",
       "      <td>10.00</td>\n",
       "      <td>10.00</td>\n",
       "      <td>5.00</td>\n",
       "    </tr>\n",
       "    <tr>\n",
       "      <th>1</th>\n",
       "      <td>4.2</td>\n",
       "      <td>4.8</td>\n",
       "      <td>10.00</td>\n",
       "      <td>4.4</td>\n",
       "      <td>10.00</td>\n",
       "      <td>4.4</td>\n",
       "      <td>10.00</td>\n",
       "      <td>4.00</td>\n",
       "      <td>3.80</td>\n",
       "      <td>10.00</td>\n",
       "    </tr>\n",
       "    <tr>\n",
       "      <th>2</th>\n",
       "      <td>10.0</td>\n",
       "      <td>10.0</td>\n",
       "      <td>4.25</td>\n",
       "      <td>10.0</td>\n",
       "      <td>4.75</td>\n",
       "      <td>4.5</td>\n",
       "      <td>3.75</td>\n",
       "      <td>4.25</td>\n",
       "      <td>4.25</td>\n",
       "      <td>4.25</td>\n",
       "    </tr>\n",
       "    <tr>\n",
       "      <th>3</th>\n",
       "      <td>10.0</td>\n",
       "      <td>10.0</td>\n",
       "      <td>9.00</td>\n",
       "      <td>10.0</td>\n",
       "      <td>10.00</td>\n",
       "      <td>9.5</td>\n",
       "      <td>9.25</td>\n",
       "      <td>9.75</td>\n",
       "      <td>10.00</td>\n",
       "      <td>9.50</td>\n",
       "    </tr>\n",
       "  </tbody>\n",
       "</table>\n",
       "</div>"
      ],
      "text/plain": [
       "           T1    T2     T3    T4     T5    T6     T7     T8     T9    T10\n",
       "cluster                                                                  \n",
       "0         4.8   4.4   4.00   4.0   4.20  10.0   4.40  10.00  10.00   5.00\n",
       "1         4.2   4.8  10.00   4.4  10.00   4.4  10.00   4.00   3.80  10.00\n",
       "2        10.0  10.0   4.25  10.0   4.75   4.5   3.75   4.25   4.25   4.25\n",
       "3        10.0  10.0   9.00  10.0  10.00   9.5   9.25   9.75  10.00   9.50"
      ]
     },
     "execution_count": 37,
     "metadata": {},
     "output_type": "execute_result"
    }
   ],
   "source": [
    "model = KMeans(n_clusters=4, random_state=42)\n",
    "model.fit(df)\n",
    "df['cluster'] = model.labels_\n",
    "df.groupby('cluster').mean()"
   ]
  },
  {
   "cell_type": "markdown",
   "id": "increased-glass",
   "metadata": {},
   "source": [
    "Пример 3. Потребление протеинов в Европе\n",
    "---------------------"
   ]
  },
  {
   "cell_type": "code",
   "execution_count": 38,
   "id": "derived-reduction",
   "metadata": {},
   "outputs": [
    {
     "data": {
      "text/html": [
       "<div>\n",
       "<style scoped>\n",
       "    .dataframe tbody tr th:only-of-type {\n",
       "        vertical-align: middle;\n",
       "    }\n",
       "\n",
       "    .dataframe tbody tr th {\n",
       "        vertical-align: top;\n",
       "    }\n",
       "\n",
       "    .dataframe thead th {\n",
       "        text-align: right;\n",
       "    }\n",
       "</style>\n",
       "<table border=\"1\" class=\"dataframe\">\n",
       "  <thead>\n",
       "    <tr style=\"text-align: right;\">\n",
       "      <th></th>\n",
       "      <th>RedMeat</th>\n",
       "      <th>WhiteMeat</th>\n",
       "      <th>Eggs</th>\n",
       "      <th>Milk</th>\n",
       "      <th>Fish</th>\n",
       "      <th>Cereals</th>\n",
       "      <th>Starch</th>\n",
       "      <th>Nuts</th>\n",
       "      <th>Fr&amp;Veg</th>\n",
       "    </tr>\n",
       "    <tr>\n",
       "      <th>Country</th>\n",
       "      <th></th>\n",
       "      <th></th>\n",
       "      <th></th>\n",
       "      <th></th>\n",
       "      <th></th>\n",
       "      <th></th>\n",
       "      <th></th>\n",
       "      <th></th>\n",
       "      <th></th>\n",
       "    </tr>\n",
       "  </thead>\n",
       "  <tbody>\n",
       "    <tr>\n",
       "      <th>Albania</th>\n",
       "      <td>10.1</td>\n",
       "      <td>1.4</td>\n",
       "      <td>0.5</td>\n",
       "      <td>8.9</td>\n",
       "      <td>0.2</td>\n",
       "      <td>42.3</td>\n",
       "      <td>0.6</td>\n",
       "      <td>5.5</td>\n",
       "      <td>1.7</td>\n",
       "    </tr>\n",
       "    <tr>\n",
       "      <th>Austria</th>\n",
       "      <td>8.9</td>\n",
       "      <td>14.0</td>\n",
       "      <td>4.3</td>\n",
       "      <td>19.9</td>\n",
       "      <td>2.1</td>\n",
       "      <td>28.0</td>\n",
       "      <td>3.6</td>\n",
       "      <td>1.3</td>\n",
       "      <td>4.3</td>\n",
       "    </tr>\n",
       "    <tr>\n",
       "      <th>Belgium</th>\n",
       "      <td>13.5</td>\n",
       "      <td>9.3</td>\n",
       "      <td>4.1</td>\n",
       "      <td>17.5</td>\n",
       "      <td>4.5</td>\n",
       "      <td>26.6</td>\n",
       "      <td>5.7</td>\n",
       "      <td>2.1</td>\n",
       "      <td>4.0</td>\n",
       "    </tr>\n",
       "    <tr>\n",
       "      <th>Bulgaria</th>\n",
       "      <td>7.8</td>\n",
       "      <td>6.0</td>\n",
       "      <td>1.6</td>\n",
       "      <td>8.3</td>\n",
       "      <td>1.2</td>\n",
       "      <td>56.7</td>\n",
       "      <td>1.1</td>\n",
       "      <td>3.7</td>\n",
       "      <td>4.2</td>\n",
       "    </tr>\n",
       "    <tr>\n",
       "      <th>Czechoslovakia</th>\n",
       "      <td>9.7</td>\n",
       "      <td>11.4</td>\n",
       "      <td>2.8</td>\n",
       "      <td>12.5</td>\n",
       "      <td>2.0</td>\n",
       "      <td>34.3</td>\n",
       "      <td>5.0</td>\n",
       "      <td>1.1</td>\n",
       "      <td>4.0</td>\n",
       "    </tr>\n",
       "  </tbody>\n",
       "</table>\n",
       "</div>"
      ],
      "text/plain": [
       "                RedMeat  WhiteMeat  Eggs  Milk  Fish  Cereals  Starch  Nuts  \\\n",
       "Country                                                                       \n",
       "Albania            10.1        1.4   0.5   8.9   0.2     42.3     0.6   5.5   \n",
       "Austria             8.9       14.0   4.3  19.9   2.1     28.0     3.6   1.3   \n",
       "Belgium            13.5        9.3   4.1  17.5   4.5     26.6     5.7   2.1   \n",
       "Bulgaria            7.8        6.0   1.6   8.3   1.2     56.7     1.1   3.7   \n",
       "Czechoslovakia      9.7       11.4   2.8  12.5   2.0     34.3     5.0   1.1   \n",
       "\n",
       "                Fr&Veg  \n",
       "Country                 \n",
       "Albania            1.7  \n",
       "Austria            4.3  \n",
       "Belgium            4.0  \n",
       "Bulgaria           4.2  \n",
       "Czechoslovakia     4.0  "
      ]
     },
     "execution_count": 38,
     "metadata": {},
     "output_type": "execute_result"
    }
   ],
   "source": [
    "df = pd.read_csv('Protein Consumption in Europe.csv', sep=';', decimal=',', index_col='Country')\n",
    "df.head()"
   ]
  },
  {
   "cell_type": "code",
   "execution_count": 39,
   "id": "objective-compound",
   "metadata": {},
   "outputs": [],
   "source": [
    "# Стандартизируем данные\n",
    "from sklearn import preprocessing\n",
    "norm = preprocessing.StandardScaler()\n",
    "norm.fit(df)\n",
    "X = norm.transform(df)"
   ]
  },
  {
   "cell_type": "code",
   "execution_count": 40,
   "id": "negative-interim",
   "metadata": {},
   "outputs": [
    {
     "name": "stderr",
     "output_type": "stream",
     "text": [
      "C:\\Users\\HP\\Anaconda3\\lib\\site-packages\\sklearn\\cluster\\_kmeans.py:882: UserWarning: KMeans is known to have a memory leak on Windows with MKL, when there are less chunks than available threads. You can avoid it by setting the environment variable OMP_NUM_THREADS=1.\n",
      "  f\"KMeans is known to have a memory leak on Windows \"\n"
     ]
    },
    {
     "data": {
      "image/png": "[encoded data removed]",
      "text/plain": [
       "<Figure size 432x288 with 1 Axes>"
      ]
     },
     "metadata": {
      "needs_background": "light"
     },
     "output_type": "display_data"
    }
   ],
   "source": [
    "K = range(1, 16)\n",
    "models = [KMeans(n_clusters=k).fit(df) for k in K]\n",
    "dist = [model.inertia_ for model in models]\n",
    "\n",
    "# Plot the elbow\n",
    "plt.plot(K, dist, marker='o')\n",
    "plt.xlabel('k')\n",
    "plt.ylabel('Sum of distances')\n",
    "plt.title('The Elbow Method showing the optimal k')\n",
    "plt.show()"
   ]
  },
  {
   "cell_type": "code",
   "execution_count": 41,
   "id": "genuine-theta",
   "metadata": {},
   "outputs": [
    {
     "data": {
      "text/html": [
       "<div>\n",
       "<style scoped>\n",
       "    .dataframe tbody tr th:only-of-type {\n",
       "        vertical-align: middle;\n",
       "    }\n",
       "\n",
       "    .dataframe tbody tr th {\n",
       "        vertical-align: top;\n",
       "    }\n",
       "\n",
       "    .dataframe thead th {\n",
       "        text-align: right;\n",
       "    }\n",
       "</style>\n",
       "<table border=\"1\" class=\"dataframe\">\n",
       "  <thead>\n",
       "    <tr style=\"text-align: right;\">\n",
       "      <th></th>\n",
       "      <th>RedMeat</th>\n",
       "      <th>WhiteMeat</th>\n",
       "      <th>Eggs</th>\n",
       "      <th>Milk</th>\n",
       "      <th>Fish</th>\n",
       "      <th>Cereals</th>\n",
       "      <th>Starch</th>\n",
       "      <th>Nuts</th>\n",
       "      <th>Fr&amp;Veg</th>\n",
       "    </tr>\n",
       "    <tr>\n",
       "      <th>cluster</th>\n",
       "      <th></th>\n",
       "      <th></th>\n",
       "      <th></th>\n",
       "      <th></th>\n",
       "      <th></th>\n",
       "      <th></th>\n",
       "      <th></th>\n",
       "      <th></th>\n",
       "      <th></th>\n",
       "    </tr>\n",
       "  </thead>\n",
       "  <tbody>\n",
       "    <tr>\n",
       "      <th>0</th>\n",
       "      <td>8.475000</td>\n",
       "      <td>11.800000</td>\n",
       "      <td>3.375000</td>\n",
       "      <td>15.700000</td>\n",
       "      <td>3.125000</td>\n",
       "      <td>30.750000</td>\n",
       "      <td>5.25</td>\n",
       "      <td>1.300000</td>\n",
       "      <td>4.625000</td>\n",
       "    </tr>\n",
       "    <tr>\n",
       "      <th>1</th>\n",
       "      <td>8.780000</td>\n",
       "      <td>5.300000</td>\n",
       "      <td>2.240000</td>\n",
       "      <td>13.300000</td>\n",
       "      <td>2.560000</td>\n",
       "      <td>40.900000</td>\n",
       "      <td>3.06</td>\n",
       "      <td>5.280000</td>\n",
       "      <td>4.400000</td>\n",
       "    </tr>\n",
       "    <tr>\n",
       "      <th>2</th>\n",
       "      <td>6.650000</td>\n",
       "      <td>3.550000</td>\n",
       "      <td>2.100000</td>\n",
       "      <td>6.750000</td>\n",
       "      <td>10.600000</td>\n",
       "      <td>28.100000</td>\n",
       "      <td>5.80</td>\n",
       "      <td>5.300000</td>\n",
       "      <td>7.550000</td>\n",
       "    </tr>\n",
       "    <tr>\n",
       "      <th>3</th>\n",
       "      <td>6.133333</td>\n",
       "      <td>5.766667</td>\n",
       "      <td>1.433333</td>\n",
       "      <td>9.633333</td>\n",
       "      <td>0.933333</td>\n",
       "      <td>54.066667</td>\n",
       "      <td>2.40</td>\n",
       "      <td>4.900000</td>\n",
       "      <td>3.400000</td>\n",
       "    </tr>\n",
       "    <tr>\n",
       "      <th>4</th>\n",
       "      <td>9.850000</td>\n",
       "      <td>7.050000</td>\n",
       "      <td>3.150000</td>\n",
       "      <td>26.675000</td>\n",
       "      <td>8.225000</td>\n",
       "      <td>22.675000</td>\n",
       "      <td>4.55</td>\n",
       "      <td>1.175000</td>\n",
       "      <td>2.125000</td>\n",
       "    </tr>\n",
       "    <tr>\n",
       "      <th>5</th>\n",
       "      <td>13.828571</td>\n",
       "      <td>10.157143</td>\n",
       "      <td>3.942857</td>\n",
       "      <td>21.342857</td>\n",
       "      <td>3.557143</td>\n",
       "      <td>24.228571</td>\n",
       "      <td>4.80</td>\n",
       "      <td>2.171429</td>\n",
       "      <td>4.157143</td>\n",
       "    </tr>\n",
       "  </tbody>\n",
       "</table>\n",
       "</div>"
      ],
      "text/plain": [
       "           RedMeat  WhiteMeat      Eggs       Milk       Fish    Cereals  \\\n",
       "cluster                                                                    \n",
       "0         8.475000  11.800000  3.375000  15.700000   3.125000  30.750000   \n",
       "1         8.780000   5.300000  2.240000  13.300000   2.560000  40.900000   \n",
       "2         6.650000   3.550000  2.100000   6.750000  10.600000  28.100000   \n",
       "3         6.133333   5.766667  1.433333   9.633333   0.933333  54.066667   \n",
       "4         9.850000   7.050000  3.150000  26.675000   8.225000  22.675000   \n",
       "5        13.828571  10.157143  3.942857  21.342857   3.557143  24.228571   \n",
       "\n",
       "         Starch      Nuts    Fr&Veg  \n",
       "cluster                              \n",
       "0          5.25  1.300000  4.625000  \n",
       "1          3.06  5.280000  4.400000  \n",
       "2          5.80  5.300000  7.550000  \n",
       "3          2.40  4.900000  3.400000  \n",
       "4          4.55  1.175000  2.125000  \n",
       "5          4.80  2.171429  4.157143  "
      ]
     },
     "execution_count": 41,
     "metadata": {},
     "output_type": "execute_result"
    }
   ],
   "source": [
    "model = KMeans(n_clusters=6)\n",
    "model.fit(df)\n",
    "df['cluster'] = model.labels_\n",
    "df.groupby('cluster').mean()"
   ]
  },
  {
   "cell_type": "code",
   "execution_count": 42,
   "id": "molecular-spread",
   "metadata": {},
   "outputs": [
    {
     "data": {
      "text/plain": [
       "Country\n",
       "Austria           0\n",
       "Poland            0\n",
       "Czechoslovakia    0\n",
       "E_Germany         0\n",
       "Albania           1\n",
       "USSR              1\n",
       "Hungary           1\n",
       "Greece            1\n",
       "Italy             1\n",
       "Portugal          2\n",
       "Spain             2\n",
       "Bulgaria          3\n",
       "Romania           3\n",
       "Yugoslavia        3\n",
       "Finland           4\n",
       "Denmark           4\n",
       "Norway            4\n",
       "Sweden            4\n",
       "Ireland           5\n",
       "W_Germany         5\n",
       "Netherlands       5\n",
       "Switzerland       5\n",
       "UK                5\n",
       "Belgium           5\n",
       "France            5\n",
       "Name: cluster, dtype: int32"
      ]
     },
     "execution_count": 42,
     "metadata": {},
     "output_type": "execute_result"
    }
   ],
   "source": [
    "df['cluster'].sort_values()"
   ]
  }
 ],
 "metadata": {
  "kernelspec": {
   "display_name": "Python 3",
   "language": "python",
   "name": "python3"
  },
  "language_info": {
   "codemirror_mode": {
    "name": "ipython",
    "version": 3
   },
   "file_extension": ".py",
   "mimetype": "text/x-python",
   "name": "python",
   "nbconvert_exporter": "python",
   "pygments_lexer": "ipython3",
   "version": "3.7.4"
  }
 },
 "nbformat": 4,
 "nbformat_minor": 5
}
