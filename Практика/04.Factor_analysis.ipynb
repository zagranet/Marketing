{
 "cells": [
  {
   "cell_type": "markdown",
   "id": "selective-emergency",
   "metadata": {},
   "source": [
    "# Занятие 4. Факторный анализ"
   ]
  },
  {
   "cell_type": "markdown",
   "id": "robust-sunset",
   "metadata": {},
   "source": [
    "https://www.datacamp.com/community/tutorials/introduction-factor-analysis"
   ]
  },
  {
   "cell_type": "code",
   "execution_count": 59,
   "id": "patent-constraint",
   "metadata": {},
   "outputs": [],
   "source": [
    "import os\n",
    "import pandas as pd\n",
    "from pandas.plotting import scatter_matrix\n",
    "from sklearn import preprocessing\n",
    "from sklearn.decomposition import PCA\n",
    "from sklearn.decomposition import FactorAnalysis\n",
    "from factor_analyzer import FactorAnalyzer\n",
    "from factor_analyzer.factor_analyzer import calculate_bartlett_sphericity\n",
    "from factor_analyzer.factor_analyzer import calculate_kmo\n",
    "import matplotlib.pyplot as plt"
   ]
  },
  {
   "cell_type": "code",
   "execution_count": 2,
   "id": "derived-pharmacy",
   "metadata": {},
   "outputs": [],
   "source": [
    "os.chdir(\"C:/Users/HP/Documents/analysis/Marketing/data/\")"
   ]
  },
  {
   "cell_type": "markdown",
   "id": "designed-station",
   "metadata": {},
   "source": [
    "Будем анализировать поведение самцов корюшки:\n",
    "\n",
    "LUNGES - количество нападений (удары) на модель самца.<br>\n",
    "BITES - количество нападений (укусы) на модель самца.<br>\n",
    "ZIGZAGS - плавание зигзагом, которое является частью поведения, направленного на привлечение самок.<br>\n",
    "NEST - действия, связанные с построением гнезда.<br>\n",
    "SPINES - число раз, когда топорщился колючий верхний плавник.<br>\n",
    "DNEST - суммарная длительность времени, проведенного за построением гнезда.<br>\n",
    "BOUT - количество элементов поведения, характеризующих готовность к схватке.<br>"
   ]
  },
  {
   "cell_type": "code",
   "execution_count": 3,
   "id": "intimate-spending",
   "metadata": {},
   "outputs": [
    {
     "data": {
      "text/html": [
       "<div>\n",
       "<style scoped>\n",
       "    .dataframe tbody tr th:only-of-type {\n",
       "        vertical-align: middle;\n",
       "    }\n",
       "\n",
       "    .dataframe tbody tr th {\n",
       "        vertical-align: top;\n",
       "    }\n",
       "\n",
       "    .dataframe thead th {\n",
       "        text-align: right;\n",
       "    }\n",
       "</style>\n",
       "<table border=\"1\" class=\"dataframe\">\n",
       "  <thead>\n",
       "    <tr style=\"text-align: right;\">\n",
       "      <th></th>\n",
       "      <th>LUNGES</th>\n",
       "      <th>BITES</th>\n",
       "      <th>ZIGZAGS</th>\n",
       "      <th>NEST</th>\n",
       "      <th>SPINES</th>\n",
       "      <th>DNEST</th>\n",
       "      <th>BOUT</th>\n",
       "      <th>Unnamed: 7</th>\n",
       "      <th>Unnamed: 8</th>\n",
       "      <th>Unnamed: 9</th>\n",
       "      <th>Unnamed: 10</th>\n",
       "      <th>Unnamed: 11</th>\n",
       "      <th>Unnamed: 12</th>\n",
       "      <th>Unnamed: 13</th>\n",
       "      <th>Unnamed: 14</th>\n",
       "      <th>Unnamed: 15</th>\n",
       "      <th>Unnamed: 16</th>\n",
       "      <th>Unnamed: 17</th>\n",
       "      <th>Unnamed: 18</th>\n",
       "    </tr>\n",
       "  </thead>\n",
       "  <tbody>\n",
       "    <tr>\n",
       "      <th>0</th>\n",
       "      <td>79.0</td>\n",
       "      <td>25.0</td>\n",
       "      <td>0.0</td>\n",
       "      <td>0.0</td>\n",
       "      <td>15.0</td>\n",
       "      <td>0.0</td>\n",
       "      <td>45.0</td>\n",
       "      <td>NaN</td>\n",
       "      <td>NaN</td>\n",
       "      <td>NaN</td>\n",
       "      <td>NaN</td>\n",
       "      <td>NaN</td>\n",
       "      <td>NaN</td>\n",
       "      <td>NaN</td>\n",
       "      <td>NaN</td>\n",
       "      <td>NaN</td>\n",
       "      <td>NaN</td>\n",
       "      <td>NaN</td>\n",
       "      <td>NaN</td>\n",
       "    </tr>\n",
       "    <tr>\n",
       "      <th>1</th>\n",
       "      <td>136.0</td>\n",
       "      <td>58.0</td>\n",
       "      <td>6.0</td>\n",
       "      <td>0.0</td>\n",
       "      <td>15.0</td>\n",
       "      <td>0.0</td>\n",
       "      <td>148.0</td>\n",
       "      <td>NaN</td>\n",
       "      <td>NaN</td>\n",
       "      <td>NaN</td>\n",
       "      <td>NaN</td>\n",
       "      <td>NaN</td>\n",
       "      <td>NaN</td>\n",
       "      <td>NaN</td>\n",
       "      <td>NaN</td>\n",
       "      <td>NaN</td>\n",
       "      <td>NaN</td>\n",
       "      <td>NaN</td>\n",
       "      <td>NaN</td>\n",
       "    </tr>\n",
       "    <tr>\n",
       "      <th>2</th>\n",
       "      <td>115.0</td>\n",
       "      <td>30.0</td>\n",
       "      <td>2.0</td>\n",
       "      <td>1.0</td>\n",
       "      <td>9.0</td>\n",
       "      <td>5.0</td>\n",
       "      <td>29.0</td>\n",
       "      <td>NaN</td>\n",
       "      <td>NaN</td>\n",
       "      <td>NaN</td>\n",
       "      <td>NaN</td>\n",
       "      <td>NaN</td>\n",
       "      <td>NaN</td>\n",
       "      <td>NaN</td>\n",
       "      <td>NaN</td>\n",
       "      <td>NaN</td>\n",
       "      <td>NaN</td>\n",
       "      <td>NaN</td>\n",
       "      <td>NaN</td>\n",
       "    </tr>\n",
       "    <tr>\n",
       "      <th>3</th>\n",
       "      <td>129.0</td>\n",
       "      <td>139.0</td>\n",
       "      <td>16.0</td>\n",
       "      <td>0.0</td>\n",
       "      <td>22.0</td>\n",
       "      <td>0.0</td>\n",
       "      <td>69.0</td>\n",
       "      <td>NaN</td>\n",
       "      <td>NaN</td>\n",
       "      <td>NaN</td>\n",
       "      <td>NaN</td>\n",
       "      <td>NaN</td>\n",
       "      <td>NaN</td>\n",
       "      <td>NaN</td>\n",
       "      <td>NaN</td>\n",
       "      <td>NaN</td>\n",
       "      <td>NaN</td>\n",
       "      <td>NaN</td>\n",
       "      <td>NaN</td>\n",
       "    </tr>\n",
       "    <tr>\n",
       "      <th>4</th>\n",
       "      <td>120.0</td>\n",
       "      <td>58.0</td>\n",
       "      <td>15.0</td>\n",
       "      <td>15.0</td>\n",
       "      <td>14.0</td>\n",
       "      <td>82.0</td>\n",
       "      <td>9.0</td>\n",
       "      <td>NaN</td>\n",
       "      <td>NaN</td>\n",
       "      <td>NaN</td>\n",
       "      <td>NaN</td>\n",
       "      <td>NaN</td>\n",
       "      <td>NaN</td>\n",
       "      <td>NaN</td>\n",
       "      <td>NaN</td>\n",
       "      <td>NaN</td>\n",
       "      <td>NaN</td>\n",
       "      <td>NaN</td>\n",
       "      <td>NaN</td>\n",
       "    </tr>\n",
       "  </tbody>\n",
       "</table>\n",
       "</div>"
      ],
      "text/plain": [
       "   LUNGES  BITES  ZIGZAGS  NEST  SPINES  DNEST   BOUT  Unnamed: 7  Unnamed: 8  \\\n",
       "0    79.0   25.0      0.0   0.0    15.0    0.0   45.0         NaN         NaN   \n",
       "1   136.0   58.0      6.0   0.0    15.0    0.0  148.0         NaN         NaN   \n",
       "2   115.0   30.0      2.0   1.0     9.0    5.0   29.0         NaN         NaN   \n",
       "3   129.0  139.0     16.0   0.0    22.0    0.0   69.0         NaN         NaN   \n",
       "4   120.0   58.0     15.0  15.0    14.0   82.0    9.0         NaN         NaN   \n",
       "\n",
       "   Unnamed: 9  Unnamed: 10  Unnamed: 11  Unnamed: 12  Unnamed: 13  \\\n",
       "0         NaN          NaN          NaN          NaN          NaN   \n",
       "1         NaN          NaN          NaN          NaN          NaN   \n",
       "2         NaN          NaN          NaN          NaN          NaN   \n",
       "3         NaN          NaN          NaN          NaN          NaN   \n",
       "4         NaN          NaN          NaN          NaN          NaN   \n",
       "\n",
       "   Unnamed: 14  Unnamed: 15  Unnamed: 16  Unnamed: 17  Unnamed: 18  \n",
       "0          NaN          NaN          NaN          NaN          NaN  \n",
       "1          NaN          NaN          NaN          NaN          NaN  \n",
       "2          NaN          NaN          NaN          NaN          NaN  \n",
       "3          NaN          NaN          NaN          NaN          NaN  \n",
       "4          NaN          NaN          NaN          NaN          NaN  "
      ]
     },
     "execution_count": 3,
     "metadata": {},
     "output_type": "execute_result"
    }
   ],
   "source": [
    "df = pd.read_csv('stickleback.csv', sep=';', decimal=',')\n",
    "df.head()"
   ]
  },
  {
   "cell_type": "code",
   "execution_count": 4,
   "id": "steady-order",
   "metadata": {},
   "outputs": [
    {
     "data": {
      "text/html": [
       "<div>\n",
       "<style scoped>\n",
       "    .dataframe tbody tr th:only-of-type {\n",
       "        vertical-align: middle;\n",
       "    }\n",
       "\n",
       "    .dataframe tbody tr th {\n",
       "        vertical-align: top;\n",
       "    }\n",
       "\n",
       "    .dataframe thead th {\n",
       "        text-align: right;\n",
       "    }\n",
       "</style>\n",
       "<table border=\"1\" class=\"dataframe\">\n",
       "  <thead>\n",
       "    <tr style=\"text-align: right;\">\n",
       "      <th></th>\n",
       "      <th>LUNGES</th>\n",
       "      <th>BITES</th>\n",
       "      <th>ZIGZAGS</th>\n",
       "      <th>NEST</th>\n",
       "      <th>SPINES</th>\n",
       "      <th>DNEST</th>\n",
       "      <th>BOUT</th>\n",
       "    </tr>\n",
       "  </thead>\n",
       "  <tbody>\n",
       "    <tr>\n",
       "      <th>0</th>\n",
       "      <td>79.0</td>\n",
       "      <td>25.0</td>\n",
       "      <td>0.0</td>\n",
       "      <td>0.0</td>\n",
       "      <td>15.0</td>\n",
       "      <td>0.0</td>\n",
       "      <td>45.0</td>\n",
       "    </tr>\n",
       "    <tr>\n",
       "      <th>1</th>\n",
       "      <td>136.0</td>\n",
       "      <td>58.0</td>\n",
       "      <td>6.0</td>\n",
       "      <td>0.0</td>\n",
       "      <td>15.0</td>\n",
       "      <td>0.0</td>\n",
       "      <td>148.0</td>\n",
       "    </tr>\n",
       "    <tr>\n",
       "      <th>2</th>\n",
       "      <td>115.0</td>\n",
       "      <td>30.0</td>\n",
       "      <td>2.0</td>\n",
       "      <td>1.0</td>\n",
       "      <td>9.0</td>\n",
       "      <td>5.0</td>\n",
       "      <td>29.0</td>\n",
       "    </tr>\n",
       "    <tr>\n",
       "      <th>3</th>\n",
       "      <td>129.0</td>\n",
       "      <td>139.0</td>\n",
       "      <td>16.0</td>\n",
       "      <td>0.0</td>\n",
       "      <td>22.0</td>\n",
       "      <td>0.0</td>\n",
       "      <td>69.0</td>\n",
       "    </tr>\n",
       "    <tr>\n",
       "      <th>4</th>\n",
       "      <td>120.0</td>\n",
       "      <td>58.0</td>\n",
       "      <td>15.0</td>\n",
       "      <td>15.0</td>\n",
       "      <td>14.0</td>\n",
       "      <td>82.0</td>\n",
       "      <td>9.0</td>\n",
       "    </tr>\n",
       "  </tbody>\n",
       "</table>\n",
       "</div>"
      ],
      "text/plain": [
       "   LUNGES  BITES  ZIGZAGS  NEST  SPINES  DNEST   BOUT\n",
       "0    79.0   25.0      0.0   0.0    15.0    0.0   45.0\n",
       "1   136.0   58.0      6.0   0.0    15.0    0.0  148.0\n",
       "2   115.0   30.0      2.0   1.0     9.0    5.0   29.0\n",
       "3   129.0  139.0     16.0   0.0    22.0    0.0   69.0\n",
       "4   120.0   58.0     15.0  15.0    14.0   82.0    9.0"
      ]
     },
     "execution_count": 4,
     "metadata": {},
     "output_type": "execute_result"
    }
   ],
   "source": [
    "df = df.filter(regex='^(?!.*Unnamed).*$')\n",
    "df.head()"
   ]
  },
  {
   "cell_type": "code",
   "execution_count": 5,
   "id": "viral-builder",
   "metadata": {},
   "outputs": [
    {
     "data": {
      "text/html": [
       "<div>\n",
       "<style scoped>\n",
       "    .dataframe tbody tr th:only-of-type {\n",
       "        vertical-align: middle;\n",
       "    }\n",
       "\n",
       "    .dataframe tbody tr th {\n",
       "        vertical-align: top;\n",
       "    }\n",
       "\n",
       "    .dataframe thead th {\n",
       "        text-align: right;\n",
       "    }\n",
       "</style>\n",
       "<table border=\"1\" class=\"dataframe\">\n",
       "  <thead>\n",
       "    <tr style=\"text-align: right;\">\n",
       "      <th></th>\n",
       "      <th>LUNGES</th>\n",
       "      <th>BITES</th>\n",
       "      <th>ZIGZAGS</th>\n",
       "      <th>NEST</th>\n",
       "      <th>SPINES</th>\n",
       "      <th>DNEST</th>\n",
       "      <th>BOUT</th>\n",
       "    </tr>\n",
       "  </thead>\n",
       "  <tbody>\n",
       "    <tr>\n",
       "      <th>count</th>\n",
       "      <td>54.000000</td>\n",
       "      <td>54.000000</td>\n",
       "      <td>54.000000</td>\n",
       "      <td>54.000000</td>\n",
       "      <td>54.000000</td>\n",
       "      <td>54.000000</td>\n",
       "      <td>54.000000</td>\n",
       "    </tr>\n",
       "    <tr>\n",
       "      <th>mean</th>\n",
       "      <td>131.185185</td>\n",
       "      <td>69.055556</td>\n",
       "      <td>7.277778</td>\n",
       "      <td>1.425926</td>\n",
       "      <td>18.425926</td>\n",
       "      <td>34.259259</td>\n",
       "      <td>89.314815</td>\n",
       "    </tr>\n",
       "    <tr>\n",
       "      <th>std</th>\n",
       "      <td>50.771064</td>\n",
       "      <td>43.428283</td>\n",
       "      <td>6.693891</td>\n",
       "      <td>3.000641</td>\n",
       "      <td>8.712606</td>\n",
       "      <td>56.491170</td>\n",
       "      <td>98.679742</td>\n",
       "    </tr>\n",
       "    <tr>\n",
       "      <th>min</th>\n",
       "      <td>41.000000</td>\n",
       "      <td>3.000000</td>\n",
       "      <td>0.000000</td>\n",
       "      <td>0.000000</td>\n",
       "      <td>5.000000</td>\n",
       "      <td>0.000000</td>\n",
       "      <td>6.000000</td>\n",
       "    </tr>\n",
       "    <tr>\n",
       "      <th>25%</th>\n",
       "      <td>99.000000</td>\n",
       "      <td>34.250000</td>\n",
       "      <td>2.250000</td>\n",
       "      <td>0.000000</td>\n",
       "      <td>14.000000</td>\n",
       "      <td>0.000000</td>\n",
       "      <td>23.500000</td>\n",
       "    </tr>\n",
       "    <tr>\n",
       "      <th>50%</th>\n",
       "      <td>127.000000</td>\n",
       "      <td>60.000000</td>\n",
       "      <td>5.000000</td>\n",
       "      <td>0.000000</td>\n",
       "      <td>16.000000</td>\n",
       "      <td>0.000000</td>\n",
       "      <td>45.000000</td>\n",
       "    </tr>\n",
       "    <tr>\n",
       "      <th>75%</th>\n",
       "      <td>156.750000</td>\n",
       "      <td>84.250000</td>\n",
       "      <td>10.750000</td>\n",
       "      <td>1.000000</td>\n",
       "      <td>24.750000</td>\n",
       "      <td>73.000000</td>\n",
       "      <td>125.000000</td>\n",
       "    </tr>\n",
       "    <tr>\n",
       "      <th>max</th>\n",
       "      <td>277.000000</td>\n",
       "      <td>175.000000</td>\n",
       "      <td>26.000000</td>\n",
       "      <td>15.000000</td>\n",
       "      <td>46.000000</td>\n",
       "      <td>199.000000</td>\n",
       "      <td>306.000000</td>\n",
       "    </tr>\n",
       "  </tbody>\n",
       "</table>\n",
       "</div>"
      ],
      "text/plain": [
       "           LUNGES       BITES    ZIGZAGS       NEST     SPINES       DNEST  \\\n",
       "count   54.000000   54.000000  54.000000  54.000000  54.000000   54.000000   \n",
       "mean   131.185185   69.055556   7.277778   1.425926  18.425926   34.259259   \n",
       "std     50.771064   43.428283   6.693891   3.000641   8.712606   56.491170   \n",
       "min     41.000000    3.000000   0.000000   0.000000   5.000000    0.000000   \n",
       "25%     99.000000   34.250000   2.250000   0.000000  14.000000    0.000000   \n",
       "50%    127.000000   60.000000   5.000000   0.000000  16.000000    0.000000   \n",
       "75%    156.750000   84.250000  10.750000   1.000000  24.750000   73.000000   \n",
       "max    277.000000  175.000000  26.000000  15.000000  46.000000  199.000000   \n",
       "\n",
       "             BOUT  \n",
       "count   54.000000  \n",
       "mean    89.314815  \n",
       "std     98.679742  \n",
       "min      6.000000  \n",
       "25%     23.500000  \n",
       "50%     45.000000  \n",
       "75%    125.000000  \n",
       "max    306.000000  "
      ]
     },
     "execution_count": 5,
     "metadata": {},
     "output_type": "execute_result"
    }
   ],
   "source": [
    "df.describe()"
   ]
  },
  {
   "cell_type": "code",
   "execution_count": 6,
   "id": "therapeutic-guarantee",
   "metadata": {
    "tags": []
   },
   "outputs": [
    {
     "data": {
      "text/html": [
       "<div>\n",
       "<style scoped>\n",
       "    .dataframe tbody tr th:only-of-type {\n",
       "        vertical-align: middle;\n",
       "    }\n",
       "\n",
       "    .dataframe tbody tr th {\n",
       "        vertical-align: top;\n",
       "    }\n",
       "\n",
       "    .dataframe thead th {\n",
       "        text-align: right;\n",
       "    }\n",
       "</style>\n",
       "<table border=\"1\" class=\"dataframe\">\n",
       "  <thead>\n",
       "    <tr style=\"text-align: right;\">\n",
       "      <th></th>\n",
       "      <th>LUNGES</th>\n",
       "      <th>BITES</th>\n",
       "      <th>ZIGZAGS</th>\n",
       "      <th>NEST</th>\n",
       "      <th>SPINES</th>\n",
       "      <th>DNEST</th>\n",
       "      <th>BOUT</th>\n",
       "    </tr>\n",
       "  </thead>\n",
       "  <tbody>\n",
       "    <tr>\n",
       "      <th>LUNGES</th>\n",
       "      <td>1.000000</td>\n",
       "      <td>0.688077</td>\n",
       "      <td>-0.139336</td>\n",
       "      <td>-0.164133</td>\n",
       "      <td>0.055567</td>\n",
       "      <td>-0.228568</td>\n",
       "      <td>0.233314</td>\n",
       "    </tr>\n",
       "    <tr>\n",
       "      <th>BITES</th>\n",
       "      <td>0.688077</td>\n",
       "      <td>1.000000</td>\n",
       "      <td>-0.042761</td>\n",
       "      <td>-0.148884</td>\n",
       "      <td>0.373382</td>\n",
       "      <td>-0.217563</td>\n",
       "      <td>0.117316</td>\n",
       "    </tr>\n",
       "    <tr>\n",
       "      <th>ZIGZAGS</th>\n",
       "      <td>-0.139336</td>\n",
       "      <td>-0.042761</td>\n",
       "      <td>1.000000</td>\n",
       "      <td>0.351894</td>\n",
       "      <td>0.067813</td>\n",
       "      <td>0.091315</td>\n",
       "      <td>-0.160693</td>\n",
       "    </tr>\n",
       "    <tr>\n",
       "      <th>NEST</th>\n",
       "      <td>-0.164133</td>\n",
       "      <td>-0.148884</td>\n",
       "      <td>0.351894</td>\n",
       "      <td>1.000000</td>\n",
       "      <td>-0.052538</td>\n",
       "      <td>0.514028</td>\n",
       "      <td>-0.305876</td>\n",
       "    </tr>\n",
       "    <tr>\n",
       "      <th>SPINES</th>\n",
       "      <td>0.055567</td>\n",
       "      <td>0.373382</td>\n",
       "      <td>0.067813</td>\n",
       "      <td>-0.052538</td>\n",
       "      <td>1.000000</td>\n",
       "      <td>-0.051099</td>\n",
       "      <td>-0.041483</td>\n",
       "    </tr>\n",
       "    <tr>\n",
       "      <th>DNEST</th>\n",
       "      <td>-0.228568</td>\n",
       "      <td>-0.217563</td>\n",
       "      <td>0.091315</td>\n",
       "      <td>0.514028</td>\n",
       "      <td>-0.051099</td>\n",
       "      <td>1.000000</td>\n",
       "      <td>-0.242177</td>\n",
       "    </tr>\n",
       "    <tr>\n",
       "      <th>BOUT</th>\n",
       "      <td>0.233314</td>\n",
       "      <td>0.117316</td>\n",
       "      <td>-0.160693</td>\n",
       "      <td>-0.305876</td>\n",
       "      <td>-0.041483</td>\n",
       "      <td>-0.242177</td>\n",
       "      <td>1.000000</td>\n",
       "    </tr>\n",
       "  </tbody>\n",
       "</table>\n",
       "</div>"
      ],
      "text/plain": [
       "           LUNGES     BITES   ZIGZAGS      NEST    SPINES     DNEST      BOUT\n",
       "LUNGES   1.000000  0.688077 -0.139336 -0.164133  0.055567 -0.228568  0.233314\n",
       "BITES    0.688077  1.000000 -0.042761 -0.148884  0.373382 -0.217563  0.117316\n",
       "ZIGZAGS -0.139336 -0.042761  1.000000  0.351894  0.067813  0.091315 -0.160693\n",
       "NEST    -0.164133 -0.148884  0.351894  1.000000 -0.052538  0.514028 -0.305876\n",
       "SPINES   0.055567  0.373382  0.067813 -0.052538  1.000000 -0.051099 -0.041483\n",
       "DNEST   -0.228568 -0.217563  0.091315  0.514028 -0.051099  1.000000 -0.242177\n",
       "BOUT     0.233314  0.117316 -0.160693 -0.305876 -0.041483 -0.242177  1.000000"
      ]
     },
     "execution_count": 6,
     "metadata": {},
     "output_type": "execute_result"
    }
   ],
   "source": [
    "df.corr()"
   ]
  },
  {
   "cell_type": "code",
   "execution_count": 7,
   "id": "scenic-politics",
   "metadata": {},
   "outputs": [
    {
     "data": {
      "image/png": "[encoded data removed]",
      "text/plain": [
       "<Figure size 432x288 with 49 Axes>"
      ]
     },
     "metadata": {
      "needs_background": "light"
     },
     "output_type": "display_data"
    }
   ],
   "source": [
    "scatter_matrix(df);"
   ]
  },
  {
   "cell_type": "markdown",
   "id": "built-nickname",
   "metadata": {},
   "source": [
    "Видим, что данные признаки далеки от нормальных, корреляции между ними не наблюдается. "
   ]
  },
  {
   "cell_type": "markdown",
   "id": "minus-panel",
   "metadata": {},
   "source": [
    "Рассчитаем критерии, позволяющие оценить возможность проведения факторного анализа."
   ]
  },
  {
   "cell_type": "code",
   "execution_count": 8,
   "id": "impossible-charge",
   "metadata": {},
   "outputs": [
    {
     "data": {
      "text/plain": [
       "(85.17614839099757, 4.23744230751294e-10)"
      ]
     },
     "execution_count": 8,
     "metadata": {},
     "output_type": "execute_result"
    }
   ],
   "source": [
    "#Bartlett’s Test\n",
    "chi_square_value,p_value=calculate_bartlett_sphericity(df)\n",
    "chi_square_value, p_value"
   ]
  },
  {
   "cell_type": "markdown",
   "id": "gothic-butterfly",
   "metadata": {},
   "source": [
    "p_value<0.05, что свидетельствует о надежном отличии корреляционной матрицы от единичной, т.е. о том, что признаки взаимосвязаны."
   ]
  },
  {
   "cell_type": "code",
   "execution_count": 9,
   "id": "closed-drunk",
   "metadata": {},
   "outputs": [
    {
     "data": {
      "text/plain": [
       "0.5267816347722193"
      ]
     },
     "execution_count": 9,
     "metadata": {},
     "output_type": "execute_result"
    }
   ],
   "source": [
    "#Kaiser-Meyer-Olkin Test\n",
    "kmo_all,kmo_model=calculate_kmo(df)\n",
    "kmo_model"
   ]
  },
  {
   "cell_type": "markdown",
   "id": "thrown-tuesday",
   "metadata": {},
   "source": [
    "КМО>0.5, что говорит о возможности проведения факторного анализа."
   ]
  },
  {
   "cell_type": "code",
   "execution_count": 10,
   "id": "numeric-drain",
   "metadata": {},
   "outputs": [
    {
     "data": {
      "text/plain": [
       "array([0.49517671, 0.48565545, 0.53685554, 0.57271819, 0.33768629,\n",
       "       0.61639292, 0.76130941])"
      ]
     },
     "execution_count": 10,
     "metadata": {},
     "output_type": "execute_result"
    }
   ],
   "source": [
    "kmo_all"
   ]
  },
  {
   "cell_type": "markdown",
   "id": "systematic-hebrew",
   "metadata": {},
   "source": [
    "3,4,6,7 признаки являются наиболее значимыми."
   ]
  },
  {
   "cell_type": "markdown",
   "id": "bibliographic-publication",
   "metadata": {},
   "source": [
    "Выделим первоначальные факторы. Воспользуемся для этого методом главных компонент."
   ]
  },
  {
   "cell_type": "markdown",
   "id": "communist-waters",
   "metadata": {},
   "source": [
    "## Метод главных компонент\n",
    "\n",
    "http://scikit-learn.org/stable/modules/generated/sklearn.decomposition.PCA.html\n",
    "   \n"
   ]
  },
  {
   "cell_type": "markdown",
   "id": "adopted-lucas",
   "metadata": {},
   "source": [
    "Cтандартизируем переменные. Из предварительного анализа видно, что это важно."
   ]
  },
  {
   "cell_type": "code",
   "execution_count": 54,
   "id": "portuguese-premises",
   "metadata": {},
   "outputs": [],
   "source": [
    "df_scaled = preprocessing.scale(df)"
   ]
  },
  {
   "cell_type": "code",
   "execution_count": 55,
   "id": "perfect-wiring",
   "metadata": {},
   "outputs": [
    {
     "data": {
      "text/plain": [
       "PCA(n_components=7)"
      ]
     },
     "execution_count": 55,
     "metadata": {},
     "output_type": "execute_result"
    }
   ],
   "source": [
    "pca = PCA(n_components=7)\n",
    "pca.fit(df_scaled)"
   ]
  },
  {
   "cell_type": "markdown",
   "id": "reserved-treasurer",
   "metadata": {},
   "source": [
    "I used the sklearn PCA function. The return parameters 'components_' is eigen vectors and 'explained_variance_' is eigen values.\n",
    "https://stackoverflow.com/questions/31909945/obtain-eigen-values-and-vectors-from-sklearn-pca"
   ]
  },
  {
   "cell_type": "markdown",
   "id": "minus-falls",
   "metadata": {},
   "source": [
    "Посмотрим на собственные числа."
   ]
  },
  {
   "cell_type": "code",
   "execution_count": 57,
   "id": "smoking-frontier",
   "metadata": {},
   "outputs": [
    {
     "data": {
      "text/plain": [
       "array([2.33131423, 1.48167964, 0.99758804, 0.90279779, 0.76745194,\n",
       "       0.41244602, 0.2387978 ])"
      ]
     },
     "execution_count": 57,
     "metadata": {},
     "output_type": "execute_result"
    }
   ],
   "source": [
    "pca.explained_variance_"
   ]
  },
  {
   "cell_type": "markdown",
   "id": "electrical-remains",
   "metadata": {},
   "source": [
    "Видим, что у первых 2-х комонент собственные числа больше 1, у 3-й - близко к 1. Поэтому стоит рассмотреть 2-3 компоненты."
   ]
  },
  {
   "cell_type": "code",
   "execution_count": 61,
   "id": "regular-writing",
   "metadata": {},
   "outputs": [
    {
     "data": {
      "text/plain": [
       "array([0.32687739, 0.20774873, 0.13987346, 0.12658276, 0.1076057 ,\n",
       "       0.05782973, 0.03348223])"
      ]
     },
     "execution_count": 61,
     "metadata": {},
     "output_type": "execute_result"
    }
   ],
   "source": [
    "pca.explained_variance_ratio_"
   ]
  },
  {
   "cell_type": "code",
   "execution_count": 64,
   "id": "outer-carrier",
   "metadata": {},
   "outputs": [
    {
     "name": "stdout",
     "output_type": "stream",
     "text": [
      "0.32687739176792635\n",
      "0.5346261250218034\n",
      "0.6744995808365257\n",
      "0.8010823391610432\n",
      "0.9086880347421142\n",
      "0.9665177682091353\n",
      "0.9999999999999999\n"
     ]
    }
   ],
   "source": [
    "v=0\n",
    "for i in pca.explained_variance_ratio_:\n",
    "    v+=i\n",
    "    print(v)"
   ]
  },
  {
   "cell_type": "markdown",
   "id": "undefined-scroll",
   "metadata": {},
   "source": [
    "Стоит оставить 3 компоненты (объясняют 67% дисперсии) или 4 компоненты (объясняют 80% дисперсии)."
   ]
  },
  {
   "cell_type": "markdown",
   "id": "filled-emperor",
   "metadata": {},
   "source": [
    "## Факторный анализ на основе пакета sklearn"
   ]
  },
  {
   "cell_type": "markdown",
   "id": "composed-bradley",
   "metadata": {},
   "source": [
    "\n",
    "http://scikit-learn.org/stable/modules/generated/sklearn.decomposition.FactorAnalysis.html"
   ]
  },
  {
   "cell_type": "markdown",
   "id": "prospective-government",
   "metadata": {},
   "source": [
    "Проведем факторный анализ с выделением 3-х факторов."
   ]
  },
  {
   "cell_type": "code",
   "execution_count": 17,
   "id": "suspected-dover",
   "metadata": {},
   "outputs": [
    {
     "data": {
      "text/plain": [
       "FactorAnalysis(n_components=3)"
      ]
     },
     "execution_count": 17,
     "metadata": {},
     "output_type": "execute_result"
    }
   ],
   "source": [
    "fa = FactorAnalysis(n_components=3)\n",
    "fa.fit(df_scaled)"
   ]
  },
  {
   "cell_type": "markdown",
   "id": "bronze-clearing",
   "metadata": {},
   "source": [
    "Координаты факторов в пространстве старых признаков находятся в атрибуте ```components_```."
   ]
  },
  {
   "cell_type": "code",
   "execution_count": 18,
   "id": "hairy-helen",
   "metadata": {
    "tags": []
   },
   "outputs": [
    {
     "data": {
      "text/html": [
       "<div>\n",
       "<style scoped>\n",
       "    .dataframe tbody tr th:only-of-type {\n",
       "        vertical-align: middle;\n",
       "    }\n",
       "\n",
       "    .dataframe tbody tr th {\n",
       "        vertical-align: top;\n",
       "    }\n",
       "\n",
       "    .dataframe thead th {\n",
       "        text-align: right;\n",
       "    }\n",
       "</style>\n",
       "<table border=\"1\" class=\"dataframe\">\n",
       "  <thead>\n",
       "    <tr style=\"text-align: right;\">\n",
       "      <th></th>\n",
       "      <th>LUNGES</th>\n",
       "      <th>BITES</th>\n",
       "      <th>ZIGZAGS</th>\n",
       "      <th>NEST</th>\n",
       "      <th>SPINES</th>\n",
       "      <th>DNEST</th>\n",
       "      <th>BOUT</th>\n",
       "    </tr>\n",
       "  </thead>\n",
       "  <tbody>\n",
       "    <tr>\n",
       "      <th>0</th>\n",
       "      <td>0.832106</td>\n",
       "      <td>0.851016</td>\n",
       "      <td>-0.180171</td>\n",
       "      <td>-0.390928</td>\n",
       "      <td>0.261270</td>\n",
       "      <td>-0.375792</td>\n",
       "      <td>0.267079</td>\n",
       "    </tr>\n",
       "    <tr>\n",
       "      <th>1</th>\n",
       "      <td>0.178973</td>\n",
       "      <td>0.241522</td>\n",
       "      <td>0.331612</td>\n",
       "      <td>0.808428</td>\n",
       "      <td>0.099520</td>\n",
       "      <td>0.441922</td>\n",
       "      <td>-0.266378</td>\n",
       "    </tr>\n",
       "    <tr>\n",
       "      <th>2</th>\n",
       "      <td>-0.301530</td>\n",
       "      <td>0.213190</td>\n",
       "      <td>0.145993</td>\n",
       "      <td>-0.051025</td>\n",
       "      <td>0.592552</td>\n",
       "      <td>-0.020361</td>\n",
       "      <td>-0.175361</td>\n",
       "    </tr>\n",
       "  </tbody>\n",
       "</table>\n",
       "</div>"
      ],
      "text/plain": [
       "     LUNGES     BITES   ZIGZAGS      NEST    SPINES     DNEST      BOUT\n",
       "0  0.832106  0.851016 -0.180171 -0.390928  0.261270 -0.375792  0.267079\n",
       "1  0.178973  0.241522  0.331612  0.808428  0.099520  0.441922 -0.266378\n",
       "2 -0.301530  0.213190  0.145993 -0.051025  0.592552 -0.020361 -0.175361"
      ]
     },
     "execution_count": 18,
     "metadata": {},
     "output_type": "execute_result"
    }
   ],
   "source": [
    "pd.DataFrame(fa.components_, columns=df.columns)"
   ]
  },
  {
   "cell_type": "markdown",
   "id": "official-russia",
   "metadata": {},
   "source": [
    "Из факторной структуры видим, что первый (нулевой) фактор сильно коррелирует с признаками-нападениями (ударами и укусами), так что его можно интерпретировать, как агрессивность самца. Второй же фактор, напротив, коррелирует с признаками, связанными с обустройство гнезда, что можно расценивать как \"домовитость\", а вот третий фактор интерпретировать уже сложно. Он коррелирует только с одним признаком SPINES, а значит, не несёт какой-то новой информации. Так что попробуем оставить только два фактора."
   ]
  },
  {
   "cell_type": "code",
   "execution_count": 19,
   "id": "european-acquisition",
   "metadata": {},
   "outputs": [
    {
     "data": {
      "text/plain": [
       "FactorAnalysis(n_components=2)"
      ]
     },
     "execution_count": 19,
     "metadata": {},
     "output_type": "execute_result"
    }
   ],
   "source": [
    "fa = FactorAnalysis(n_components=2)\n",
    "fa.fit(df_scaled)"
   ]
  },
  {
   "cell_type": "code",
   "execution_count": 20,
   "id": "green-pressure",
   "metadata": {
    "tags": []
   },
   "outputs": [
    {
     "data": {
      "text/html": [
       "<div>\n",
       "<style scoped>\n",
       "    .dataframe tbody tr th:only-of-type {\n",
       "        vertical-align: middle;\n",
       "    }\n",
       "\n",
       "    .dataframe tbody tr th {\n",
       "        vertical-align: top;\n",
       "    }\n",
       "\n",
       "    .dataframe thead th {\n",
       "        text-align: right;\n",
       "    }\n",
       "</style>\n",
       "<table border=\"1\" class=\"dataframe\">\n",
       "  <thead>\n",
       "    <tr style=\"text-align: right;\">\n",
       "      <th></th>\n",
       "      <th>LUNGES</th>\n",
       "      <th>BITES</th>\n",
       "      <th>ZIGZAGS</th>\n",
       "      <th>NEST</th>\n",
       "      <th>SPINES</th>\n",
       "      <th>DNEST</th>\n",
       "      <th>BOUT</th>\n",
       "    </tr>\n",
       "  </thead>\n",
       "  <tbody>\n",
       "    <tr>\n",
       "      <th>0</th>\n",
       "      <td>0.715035</td>\n",
       "      <td>0.956805</td>\n",
       "      <td>-0.086423</td>\n",
       "      <td>-0.241141</td>\n",
       "      <td>0.358615</td>\n",
       "      <td>-0.282219</td>\n",
       "      <td>0.166892</td>\n",
       "    </tr>\n",
       "    <tr>\n",
       "      <th>1</th>\n",
       "      <td>-0.019296</td>\n",
       "      <td>0.098533</td>\n",
       "      <td>0.367721</td>\n",
       "      <td>0.848657</td>\n",
       "      <td>0.073328</td>\n",
       "      <td>0.513705</td>\n",
       "      <td>-0.329849</td>\n",
       "    </tr>\n",
       "  </tbody>\n",
       "</table>\n",
       "</div>"
      ],
      "text/plain": [
       "     LUNGES     BITES   ZIGZAGS      NEST    SPINES     DNEST      BOUT\n",
       "0  0.715035  0.956805 -0.086423 -0.241141  0.358615 -0.282219  0.166892\n",
       "1 -0.019296  0.098533  0.367721  0.848657  0.073328  0.513705 -0.329849"
      ]
     },
     "execution_count": 20,
     "metadata": {},
     "output_type": "execute_result"
    }
   ],
   "source": [
    "pd.DataFrame(fa.components_, columns=df.columns)"
   ]
  },
  {
   "cell_type": "markdown",
   "id": "injured-villa",
   "metadata": {},
   "source": [
    "Факторы сохранили свой смысл - агрессивность и домовитость. Таким образом, мы свели пространство из семи признаков к двум новым интерпретируемым факторам."
   ]
  },
  {
   "cell_type": "markdown",
   "id": "expected-coaching",
   "metadata": {},
   "source": [
    "Посмотрим на необъяснимую составляющую исходных данных. Уникальность - часть дисперсии переменной, объясненной уникальными факторами (чем больше, тем хуже объясняется факторами). Она содержится в атрибуте ```noise_variance_```."
   ]
  },
  {
   "cell_type": "code",
   "execution_count": 21,
   "id": "color-plant",
   "metadata": {},
   "outputs": [
    {
     "name": "stdout",
     "output_type": "stream",
     "text": [
      "Uniqueness:\n"
     ]
    },
    {
     "data": {
      "text/plain": [
       "LUNGES     0.487766\n",
       "BITES      0.076163\n",
       "ZIGZAGS    0.857251\n",
       "NEST       0.222906\n",
       "SPINES     0.866169\n",
       "DNEST      0.656093\n",
       "BOUT       0.863093\n",
       "dtype: float64"
      ]
     },
     "execution_count": 21,
     "metadata": {},
     "output_type": "execute_result"
    }
   ],
   "source": [
    "print('Uniqueness:')\n",
    "pd.Series(fa.noise_variance_, df.columns)"
   ]
  },
  {
   "cell_type": "markdown",
   "id": "overall-favor",
   "metadata": {},
   "source": [
    "Наконец, сами факторы можно получить, применив метод ```transform```."
   ]
  },
  {
   "cell_type": "code",
   "execution_count": 22,
   "id": "super-marketplace",
   "metadata": {},
   "outputs": [
    {
     "data": {
      "text/html": [
       "<div>\n",
       "<style scoped>\n",
       "    .dataframe tbody tr th:only-of-type {\n",
       "        vertical-align: middle;\n",
       "    }\n",
       "\n",
       "    .dataframe tbody tr th {\n",
       "        vertical-align: top;\n",
       "    }\n",
       "\n",
       "    .dataframe thead th {\n",
       "        text-align: right;\n",
       "    }\n",
       "</style>\n",
       "<table border=\"1\" class=\"dataframe\">\n",
       "  <thead>\n",
       "    <tr style=\"text-align: right;\">\n",
       "      <th></th>\n",
       "      <th>factor1</th>\n",
       "      <th>factor2</th>\n",
       "    </tr>\n",
       "  </thead>\n",
       "  <tbody>\n",
       "    <tr>\n",
       "      <th>0</th>\n",
       "      <td>-0.938788</td>\n",
       "      <td>-0.776068</td>\n",
       "    </tr>\n",
       "    <tr>\n",
       "      <th>1</th>\n",
       "      <td>-0.159453</td>\n",
       "      <td>-0.591389</td>\n",
       "    </tr>\n",
       "    <tr>\n",
       "      <th>2</th>\n",
       "      <td>-0.818776</td>\n",
       "      <td>-0.458188</td>\n",
       "    </tr>\n",
       "    <tr>\n",
       "      <th>3</th>\n",
       "      <td>1.444012</td>\n",
       "      <td>0.094633</td>\n",
       "    </tr>\n",
       "    <tr>\n",
       "      <th>4</th>\n",
       "      <td>-0.638620</td>\n",
       "      <td>3.662073</td>\n",
       "    </tr>\n",
       "  </tbody>\n",
       "</table>\n",
       "</div>"
      ],
      "text/plain": [
       "    factor1   factor2\n",
       "0 -0.938788 -0.776068\n",
       "1 -0.159453 -0.591389\n",
       "2 -0.818776 -0.458188\n",
       "3  1.444012  0.094633\n",
       "4 -0.638620  3.662073"
      ]
     },
     "execution_count": 22,
     "metadata": {},
     "output_type": "execute_result"
    }
   ],
   "source": [
    "scores = pd.DataFrame(fa.transform(df_scaled), columns=['factor1', 'factor2'])\n",
    "scores.head()"
   ]
  },
  {
   "cell_type": "markdown",
   "id": "integrated-calendar",
   "metadata": {},
   "source": [
    "Корреляция между факторами близка к нулю, при этом в них сосредоточена почти вся информация признаков, поэтому они идеальные переменные для регрессионного анализа."
   ]
  },
  {
   "cell_type": "markdown",
   "id": "hearing-volleyball",
   "metadata": {},
   "source": [
    "# Факторный анализ на основе пакета factor_analyzer"
   ]
  },
  {
   "cell_type": "markdown",
   "id": "desperate-bronze",
   "metadata": {},
   "source": [
    "https://www.datacamp.com/community/tutorials/introduction-factor-analysis"
   ]
  },
  {
   "cell_type": "code",
   "execution_count": 65,
   "id": "answering-helena",
   "metadata": {},
   "outputs": [
    {
     "data": {
      "text/plain": [
       "array([2.28814174, 1.45424113, 0.97911419, 0.88607931, 0.75323987,\n",
       "       0.40480813, 0.23437562])"
      ]
     },
     "execution_count": 65,
     "metadata": {},
     "output_type": "execute_result"
    }
   ],
   "source": [
    "fa = FactorAnalyzer()\n",
    "fa.fit(df_scaled)\n",
    "eigen_values, vectors = fa.get_eigenvalues()\n",
    "eigen_values"
   ]
  },
  {
   "cell_type": "markdown",
   "id": "further-danger",
   "metadata": {},
   "source": [
    "Видим, что только у 2-х факторов собственное значение больше 1."
   ]
  },
  {
   "cell_type": "code",
   "execution_count": 84,
   "id": "personal-posting",
   "metadata": {},
   "outputs": [
    {
     "data": {
      "image/png": "[encoded data removed]",
      "text/plain": [
       "<Figure size 432x288 with 1 Axes>"
      ]
     },
     "metadata": {
      "needs_background": "light"
     },
     "output_type": "display_data"
    }
   ],
   "source": [
    "# Create scree plot using matplotlib\n",
    "plt.scatter(range(1,df_scaled.shape[1]+1),eigen_values)\n",
    "plt.plot(range(1,df_scaled.shape[1]+1),eigen_values)\n",
    "plt.title('Scree Plot')\n",
    "plt.xlabel('Factors')\n",
    "plt.ylabel('Eigenvalue')\n",
    "plt.grid()\n",
    "plt.show()"
   ]
  },
  {
   "cell_type": "code",
   "execution_count": 74,
   "id": "noticed-premises",
   "metadata": {},
   "outputs": [
    {
     "data": {
      "text/plain": [
       "FactorAnalyzer(rotation='varimax', rotation_kwargs={})"
      ]
     },
     "execution_count": 74,
     "metadata": {},
     "output_type": "execute_result"
    }
   ],
   "source": [
    "# Create factor analysis object and perform factor analysis\n",
    "fa = FactorAnalyzer()\n",
    "fa.set_params(n_factors=3, rotation='varimax')\n",
    "fa.fit(df_scaled)"
   ]
  },
  {
   "cell_type": "code",
   "execution_count": 75,
   "id": "frozen-assignment",
   "metadata": {},
   "outputs": [
    {
     "data": {
      "text/html": [
       "<div>\n",
       "<style scoped>\n",
       "    .dataframe tbody tr th:only-of-type {\n",
       "        vertical-align: middle;\n",
       "    }\n",
       "\n",
       "    .dataframe tbody tr th {\n",
       "        vertical-align: top;\n",
       "    }\n",
       "\n",
       "    .dataframe thead th {\n",
       "        text-align: right;\n",
       "    }\n",
       "</style>\n",
       "<table border=\"1\" class=\"dataframe\">\n",
       "  <thead>\n",
       "    <tr style=\"text-align: right;\">\n",
       "      <th></th>\n",
       "      <th>factor1</th>\n",
       "      <th>factor2</th>\n",
       "      <th>factor3</th>\n",
       "    </tr>\n",
       "  </thead>\n",
       "  <tbody>\n",
       "    <tr>\n",
       "      <th>LUNGES</th>\n",
       "      <td>-0.213815</td>\n",
       "      <td>0.876088</td>\n",
       "      <td>0.022384</td>\n",
       "    </tr>\n",
       "    <tr>\n",
       "      <th>BITES</th>\n",
       "      <td>-0.110001</td>\n",
       "      <td>0.742419</td>\n",
       "      <td>0.588652</td>\n",
       "    </tr>\n",
       "    <tr>\n",
       "      <th>ZIGZAGS</th>\n",
       "      <td>0.342123</td>\n",
       "      <td>-0.076383</td>\n",
       "      <td>0.107402</td>\n",
       "    </tr>\n",
       "    <tr>\n",
       "      <th>NEST</th>\n",
       "      <td>0.989281</td>\n",
       "      <td>0.058242</td>\n",
       "      <td>-0.141253</td>\n",
       "    </tr>\n",
       "    <tr>\n",
       "      <th>SPINES</th>\n",
       "      <td>0.025750</td>\n",
       "      <td>0.057196</td>\n",
       "      <td>0.564226</td>\n",
       "    </tr>\n",
       "    <tr>\n",
       "      <th>DNEST</th>\n",
       "      <td>0.501341</td>\n",
       "      <td>-0.134760</td>\n",
       "      <td>-0.111540</td>\n",
       "    </tr>\n",
       "    <tr>\n",
       "      <th>BOUT</th>\n",
       "      <td>-0.359746</td>\n",
       "      <td>0.185878</td>\n",
       "      <td>-0.089865</td>\n",
       "    </tr>\n",
       "  </tbody>\n",
       "</table>\n",
       "</div>"
      ],
      "text/plain": [
       "          factor1   factor2   factor3\n",
       "LUNGES  -0.213815  0.876088  0.022384\n",
       "BITES   -0.110001  0.742419  0.588652\n",
       "ZIGZAGS  0.342123 -0.076383  0.107402\n",
       "NEST     0.989281  0.058242 -0.141253\n",
       "SPINES   0.025750  0.057196  0.564226\n",
       "DNEST    0.501341 -0.134760 -0.111540\n",
       "BOUT    -0.359746  0.185878 -0.089865"
      ]
     },
     "execution_count": 75,
     "metadata": {},
     "output_type": "execute_result"
    }
   ],
   "source": [
    "#Матрица факторных нагрузок - значения коэффициентов корреляции между переменными и факторами.\n",
    "loadings = pd.DataFrame(fa.loadings_, columns=['factor1', 'factor2','factor3'], index=df.columns)\n",
    "loadings"
   ]
  },
  {
   "cell_type": "markdown",
   "id": "apart-vulnerability",
   "metadata": {},
   "source": [
    "Из факторной структуры видим, что первый фактор сильно коррелирует с признаками, связанными с обустройством гнезда (NEST, DNEST), что можно расценивать как \"домовитость\". Второй фактор сильно коррелирует с признаками-нападениями (ударами и укусами - LUNGES, BITES), так что его можно интерпретировать, как агрессивность самца. Третий коррелирует, помимо,  признаками агрессивности (BITES и SPINES), а значит, не несёт какой-то новой информации. Так что попробуем оставить только два фактора."
   ]
  },
  {
   "cell_type": "code",
   "execution_count": 76,
   "id": "cultural-threshold",
   "metadata": {},
   "outputs": [
    {
     "data": {
      "text/plain": [
       "FactorAnalyzer(n_factors=2, rotation='varimax', rotation_kwargs={})"
      ]
     },
     "execution_count": 76,
     "metadata": {},
     "output_type": "execute_result"
    }
   ],
   "source": [
    "# Create factor analysis object and perform factor analysis\n",
    "fa = FactorAnalyzer()\n",
    "fa.set_params(n_factors=2, rotation='varimax')\n",
    "fa.fit(df_scaled)"
   ]
  },
  {
   "cell_type": "code",
   "execution_count": 77,
   "id": "flexible-physiology",
   "metadata": {},
   "outputs": [
    {
     "data": {
      "text/html": [
       "<div>\n",
       "<style scoped>\n",
       "    .dataframe tbody tr th:only-of-type {\n",
       "        vertical-align: middle;\n",
       "    }\n",
       "\n",
       "    .dataframe tbody tr th {\n",
       "        vertical-align: top;\n",
       "    }\n",
       "\n",
       "    .dataframe thead th {\n",
       "        text-align: right;\n",
       "    }\n",
       "</style>\n",
       "<table border=\"1\" class=\"dataframe\">\n",
       "  <thead>\n",
       "    <tr style=\"text-align: right;\">\n",
       "      <th></th>\n",
       "      <th>factor1</th>\n",
       "      <th>factor2</th>\n",
       "    </tr>\n",
       "  </thead>\n",
       "  <tbody>\n",
       "    <tr>\n",
       "      <th>LUNGES</th>\n",
       "      <td>0.623123</td>\n",
       "      <td>-0.242540</td>\n",
       "    </tr>\n",
       "    <tr>\n",
       "      <th>BITES</th>\n",
       "      <td>1.007741</td>\n",
       "      <td>-0.128163</td>\n",
       "    </tr>\n",
       "    <tr>\n",
       "      <th>ZIGZAGS</th>\n",
       "      <td>0.000196</td>\n",
       "      <td>0.355506</td>\n",
       "    </tr>\n",
       "    <tr>\n",
       "      <th>NEST</th>\n",
       "      <td>-0.015454</td>\n",
       "      <td>0.894196</td>\n",
       "    </tr>\n",
       "    <tr>\n",
       "      <th>SPINES</th>\n",
       "      <td>0.294315</td>\n",
       "      <td>0.018574</td>\n",
       "    </tr>\n",
       "    <tr>\n",
       "      <th>DNEST</th>\n",
       "      <td>-0.155512</td>\n",
       "      <td>0.536576</td>\n",
       "    </tr>\n",
       "    <tr>\n",
       "      <th>BOUT</th>\n",
       "      <td>0.099458</td>\n",
       "      <td>-0.384636</td>\n",
       "    </tr>\n",
       "  </tbody>\n",
       "</table>\n",
       "</div>"
      ],
      "text/plain": [
       "          factor1   factor2\n",
       "LUNGES   0.623123 -0.242540\n",
       "BITES    1.007741 -0.128163\n",
       "ZIGZAGS  0.000196  0.355506\n",
       "NEST    -0.015454  0.894196\n",
       "SPINES   0.294315  0.018574\n",
       "DNEST   -0.155512  0.536576\n",
       "BOUT     0.099458 -0.384636"
      ]
     },
     "execution_count": 77,
     "metadata": {},
     "output_type": "execute_result"
    }
   ],
   "source": [
    "#Матрица факторных нагрузок - значения коэффициентов корреляции между переменными и факторами.\n",
    "loadings = pd.DataFrame(fa.loadings_, columns=['factor1', 'factor2'], index=df.columns)\n",
    "loadings"
   ]
  },
  {
   "cell_type": "markdown",
   "id": "exotic-thursday",
   "metadata": {},
   "source": [
    "Факторы сохранили свой смысл - агрессивность (фактор 1) и домовитость (фактор 2). Таким образом, мы свели пространство из семи признаков к двум новым интерпретируемым факторам."
   ]
  },
  {
   "cell_type": "code",
   "execution_count": 47,
   "id": "strong-enemy",
   "metadata": {},
   "outputs": [
    {
     "data": {
      "text/plain": [
       "array([0.4471078 , 1.03196785, 0.1263845 , 0.79982594, 0.08696602,\n",
       "       0.31209807, 0.15783688])"
      ]
     },
     "execution_count": 47,
     "metadata": {},
     "output_type": "execute_result"
    }
   ],
   "source": [
    "#Общность - часть дисперсии переменной, объясненной факторами. Это сумма квадратов по строке в матрице факторных нагрузок.\n",
    "fa.get_communalities()"
   ]
  },
  {
   "cell_type": "code",
   "execution_count": 45,
   "id": "united-abraham",
   "metadata": {},
   "outputs": [
    {
     "data": {
      "text/plain": [
       "array([ 0.5528922 , -0.03196785,  0.8736155 ,  0.20017406,  0.91303398,\n",
       "        0.68790193,  0.84216312])"
      ]
     },
     "execution_count": 45,
     "metadata": {},
     "output_type": "execute_result"
    }
   ],
   "source": [
    "#Уникальность - часть дисперсии переменной, объясненной уникальными факторами.\n",
    "fa.get_uniquenesses()"
   ]
  },
  {
   "cell_type": "code",
   "execution_count": 46,
   "id": "surprising-graduate",
   "metadata": {},
   "outputs": [
    {
     "data": {
      "text/plain": [
       "array([1., 1., 1., 1., 1., 1., 1.])"
      ]
     },
     "execution_count": 46,
     "metadata": {},
     "output_type": "execute_result"
    }
   ],
   "source": [
    "fa.get_communalities()+fa.get_uniquenesses()"
   ]
  },
  {
   "cell_type": "code",
   "execution_count": 42,
   "id": "determined-shape",
   "metadata": {},
   "outputs": [
    {
     "data": {
      "text/plain": [
       "1.5247598524839108"
      ]
     },
     "execution_count": 42,
     "metadata": {},
     "output_type": "execute_result"
    }
   ],
   "source": [
    "sum(loadings['factor1'])"
   ]
  },
  {
   "cell_type": "markdown",
   "id": "clear-selection",
   "metadata": {},
   "source": [
    "Интерпретация:"
   ]
  },
  {
   "cell_type": "code",
   "execution_count": 39,
   "id": "oriented-scenario",
   "metadata": {},
   "outputs": [
    {
     "data": {
      "text/html": [
       "<div>\n",
       "<style scoped>\n",
       "    .dataframe tbody tr th:only-of-type {\n",
       "        vertical-align: middle;\n",
       "    }\n",
       "\n",
       "    .dataframe tbody tr th {\n",
       "        vertical-align: top;\n",
       "    }\n",
       "\n",
       "    .dataframe thead th {\n",
       "        text-align: right;\n",
       "    }\n",
       "</style>\n",
       "<table border=\"1\" class=\"dataframe\">\n",
       "  <thead>\n",
       "    <tr style=\"text-align: right;\">\n",
       "      <th></th>\n",
       "      <th>factor1</th>\n",
       "      <th>factor2</th>\n",
       "    </tr>\n",
       "  </thead>\n",
       "  <tbody>\n",
       "    <tr>\n",
       "      <th>SS Loadings</th>\n",
       "      <td>1.524760</td>\n",
       "      <td>1.437427</td>\n",
       "    </tr>\n",
       "    <tr>\n",
       "      <th>Proportion Var</th>\n",
       "      <td>0.217823</td>\n",
       "      <td>0.205347</td>\n",
       "    </tr>\n",
       "    <tr>\n",
       "      <th>Cumulative Var</th>\n",
       "      <td>0.217823</td>\n",
       "      <td>0.423170</td>\n",
       "    </tr>\n",
       "  </tbody>\n",
       "</table>\n",
       "</div>"
      ],
      "text/plain": [
       "                 factor1   factor2\n",
       "SS Loadings     1.524760  1.437427\n",
       "Proportion Var  0.217823  0.205347\n",
       "Cumulative Var  0.217823  0.423170"
      ]
     },
     "execution_count": 39,
     "metadata": {},
     "output_type": "execute_result"
    }
   ],
   "source": [
    "# Get variance of each factors\n",
    "var = pd.DataFrame(fa.get_factor_variance(), columns=['factor1', 'factor2'],index=['SS Loadings','Proportion Var','Cumulative Var'])\n",
    "var"
   ]
  },
  {
   "cell_type": "markdown",
   "id": "running-employee",
   "metadata": {},
   "source": [
    "The “SS loadings” row is the sum of squared loadings. "
   ]
  },
  {
   "cell_type": "markdown",
   "id": "comprehensive-meter",
   "metadata": {},
   "source": [
    " SS loadings - это сумма квадратов по столбцу в матрице факторных нагрузок. Это \"собственное значение\" в таблице 16.2 из лекции."
   ]
  },
  {
   "cell_type": "markdown",
   "id": "reported-grass",
   "metadata": {},
   "source": [
    "Proportion Var: tells us how much of the overall variance the factor accounts for out of all the variables."
   ]
  },
  {
   "cell_type": "markdown",
   "id": "labeled-scope",
   "metadata": {},
   "source": [
    " Proportion Var — доля дисперсии, объясняемая каждым фактором."
   ]
  },
  {
   "cell_type": "markdown",
   "id": "republican-bailey",
   "metadata": {},
   "source": [
    "Cumulative Var — кумулятивная доля дисперсии."
   ]
  },
  {
   "cell_type": "markdown",
   "id": "searching-genius",
   "metadata": {},
   "source": [
    "Примерно 42% накопленной дисперсии объясняется 2-мя факторами."
   ]
  },
  {
   "cell_type": "markdown",
   "id": "abandoned-baking",
   "metadata": {},
   "source": [
    "Наконец, сами факторы можно получить, применив метод ```fit_transform```."
   ]
  },
  {
   "cell_type": "code",
   "execution_count": 80,
   "id": "promising-character",
   "metadata": {},
   "outputs": [
    {
     "data": {
      "text/html": [
       "<div>\n",
       "<style scoped>\n",
       "    .dataframe tbody tr th:only-of-type {\n",
       "        vertical-align: middle;\n",
       "    }\n",
       "\n",
       "    .dataframe tbody tr th {\n",
       "        vertical-align: top;\n",
       "    }\n",
       "\n",
       "    .dataframe thead th {\n",
       "        text-align: right;\n",
       "    }\n",
       "</style>\n",
       "<table border=\"1\" class=\"dataframe\">\n",
       "  <thead>\n",
       "    <tr style=\"text-align: right;\">\n",
       "      <th></th>\n",
       "      <th>factor1</th>\n",
       "      <th>factor2</th>\n",
       "    </tr>\n",
       "  </thead>\n",
       "  <tbody>\n",
       "    <tr>\n",
       "      <th>0</th>\n",
       "      <td>-1.056267</td>\n",
       "      <td>-0.414067</td>\n",
       "    </tr>\n",
       "    <tr>\n",
       "      <th>1</th>\n",
       "      <td>-0.312892</td>\n",
       "      <td>-0.554501</td>\n",
       "    </tr>\n",
       "    <tr>\n",
       "      <th>2</th>\n",
       "      <td>-0.914928</td>\n",
       "      <td>-0.217825</td>\n",
       "    </tr>\n",
       "    <tr>\n",
       "      <th>3</th>\n",
       "      <td>1.815168</td>\n",
       "      <td>-0.179745</td>\n",
       "    </tr>\n",
       "    <tr>\n",
       "      <th>4</th>\n",
       "      <td>0.413355</td>\n",
       "      <td>3.843151</td>\n",
       "    </tr>\n",
       "  </tbody>\n",
       "</table>\n",
       "</div>"
      ],
      "text/plain": [
       "    factor1   factor2\n",
       "0 -1.056267 -0.414067\n",
       "1 -0.312892 -0.554501\n",
       "2 -0.914928 -0.217825\n",
       "3  1.815168 -0.179745\n",
       "4  0.413355  3.843151"
      ]
     },
     "execution_count": 80,
     "metadata": {},
     "output_type": "execute_result"
    }
   ],
   "source": [
    "scores = pd.DataFrame(fa.fit_transform(df_scaled), columns=['factor1', 'factor2'])\n",
    "scores.head()"
   ]
  },
  {
   "cell_type": "code",
   "execution_count": 83,
   "id": "recreational-blood",
   "metadata": {},
   "outputs": [
    {
     "data": {
      "text/html": [
       "<div>\n",
       "<style scoped>\n",
       "    .dataframe tbody tr th:only-of-type {\n",
       "        vertical-align: middle;\n",
       "    }\n",
       "\n",
       "    .dataframe tbody tr th {\n",
       "        vertical-align: top;\n",
       "    }\n",
       "\n",
       "    .dataframe thead th {\n",
       "        text-align: right;\n",
       "    }\n",
       "</style>\n",
       "<table border=\"1\" class=\"dataframe\">\n",
       "  <thead>\n",
       "    <tr style=\"text-align: right;\">\n",
       "      <th></th>\n",
       "      <th>factor1</th>\n",
       "      <th>factor2</th>\n",
       "    </tr>\n",
       "  </thead>\n",
       "  <tbody>\n",
       "    <tr>\n",
       "      <th>factor1</th>\n",
       "      <td>1.000000</td>\n",
       "      <td>-0.004571</td>\n",
       "    </tr>\n",
       "    <tr>\n",
       "      <th>factor2</th>\n",
       "      <td>-0.004571</td>\n",
       "      <td>1.000000</td>\n",
       "    </tr>\n",
       "  </tbody>\n",
       "</table>\n",
       "</div>"
      ],
      "text/plain": [
       "          factor1   factor2\n",
       "factor1  1.000000 -0.004571\n",
       "factor2 -0.004571  1.000000"
      ]
     },
     "execution_count": 83,
     "metadata": {},
     "output_type": "execute_result"
    }
   ],
   "source": [
    "scores.corr()"
   ]
  },
  {
   "cell_type": "markdown",
   "id": "therapeutic-struggle",
   "metadata": {},
   "source": [
    "Корреляция между факторами близка к нулю, при этом в них сосредоточена почти вся информация признаков, поэтому они идеальные переменные для регрессионного анализа."
   ]
  },
  {
   "cell_type": "code",
   "execution_count": null,
   "id": "impressive-marking",
   "metadata": {},
   "outputs": [],
   "source": []
  }
 ],
 "metadata": {
  "kernelspec": {
   "display_name": "Python 3 (ipykernel)",
   "language": "python",
   "name": "python3"
  },
  "language_info": {
   "codemirror_mode": {
    "name": "ipython",
    "version": 3
   },
   "file_extension": ".py",
   "mimetype": "text/x-python",
   "name": "python",
   "nbconvert_exporter": "python",
   "pygments_lexer": "ipython3",
   "version": "3.7.4"
  }
 },
 "nbformat": 4,
 "nbformat_minor": 5
}
