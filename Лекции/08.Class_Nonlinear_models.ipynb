{
 "cells": [
  {
   "cell_type": "markdown",
   "id": "material-gilbert",
   "metadata": {},
   "source": [
    "# Лекция 8. Нелинейные модели для классификации"
   ]
  },
  {
   "cell_type": "code",
   "execution_count": 61,
   "id": "dynamic-draft",
   "metadata": {},
   "outputs": [],
   "source": [
    "import os\n",
    "import sklearn\n",
    "import numpy as np\n",
    "import pandas as pd\n",
    "from sklearn.datasets import load_iris\n",
    "from sklearn.model_selection import train_test_split\n",
    "from sklearn.neighbors import KNeighborsClassifier\n",
    "from math import sqrt\n",
    "from math import pi\n",
    "from math import exp\n",
    "from csv import reader\n",
    "from random import seed\n",
    "from random import randrange\n",
    "from sklearn.naive_bayes import GaussianNB\n",
    "from sklearn.tree import DecisionTreeClassifier\n",
    "from sklearn import datasets\n",
    "from matplotlib.colors import ListedColormap\n",
    "import warnings\n",
    "from sklearn.tree import export_graphviz\n",
    "import graphviz\n",
    "import pydotplus\n",
    "from IPython.display import Image\n",
    "from IPython.display import display\n",
    "import matplotlib.pyplot as plt\n",
    "%matplotlib inline\n",
    "from mlxtend.plotting import plot_decision_regions"
   ]
  },
  {
   "cell_type": "code",
   "execution_count": 62,
   "id": "charitable-sheffield",
   "metadata": {},
   "outputs": [],
   "source": [
    "os.chdir(\"C:/Users/HP/Documents/analysis/forcasting/data\")"
   ]
  },
  {
   "cell_type": "markdown",
   "id": "completed-variable",
   "metadata": {},
   "source": [
    "## Метод kNN для классификации (распознавание образов с учителем, описание и прогнозирование признака в неметрической шкале)"
   ]
  },
  {
   "cell_type": "markdown",
   "id": "regional-outline",
   "metadata": {},
   "source": [
    "Теория: \n",
    "* Python_i_mashinnoe_obuchenie: с. 103-106 \n",
    "* ESLII_print12: с. 33-35\n",
    "* Тетрадь №2: с. 22-32\n",
    "* https://www.cs.cmu.edu/~./awm/tutorials/overfit10.pdf\n",
    "* https://machinelearningmastery.com/types-of-classification-in-machine-learning/"
   ]
  },
  {
   "cell_type": "markdown",
   "id": "cross-intersection",
   "metadata": {},
   "source": [
    "Рассмотрим метод kNN в действии."
   ]
  },
  {
   "cell_type": "markdown",
   "id": "thrown-affair",
   "metadata": {},
   "source": [
    "Загрузим набор данных по ирисам, который включен в модуль datasets библиотеки (пакета) sklearn, вызвав функцию load_iris():"
   ]
  },
  {
   "cell_type": "code",
   "execution_count": 63,
   "id": "entire-survivor",
   "metadata": {},
   "outputs": [],
   "source": [
    "iris_dataset = load_iris()"
   ]
  },
  {
   "cell_type": "markdown",
   "id": "spiritual-balloon",
   "metadata": {},
   "source": [
    "Получили объект класса Bunch, который похож на словарь, т.к. содержит ключи и значения:"
   ]
  },
  {
   "cell_type": "code",
   "execution_count": 64,
   "id": "entertaining-evaluation",
   "metadata": {},
   "outputs": [
    {
     "data": {
      "text/plain": [
       "sklearn.utils.Bunch"
      ]
     },
     "execution_count": 64,
     "metadata": {},
     "output_type": "execute_result"
    }
   ],
   "source": [
    "type(iris_dataset)"
   ]
  },
  {
   "cell_type": "markdown",
   "id": "conventional-embassy",
   "metadata": {},
   "source": [
    "Посмотрим ключи полученного объекта:"
   ]
  },
  {
   "cell_type": "code",
   "execution_count": 65,
   "id": "peripheral-marijuana",
   "metadata": {},
   "outputs": [
    {
     "name": "stdout",
     "output_type": "stream",
     "text": [
      "Ключи iris_dataset:\n",
      " dict_keys(['data', 'target', 'frame', 'target_names', 'DESCR', 'feature_names', 'filename'])\n"
     ]
    }
   ],
   "source": [
    "print(\"Ключи iris_dataset:\\n\", iris_dataset.keys())"
   ]
  },
  {
   "cell_type": "code",
   "execution_count": 66,
   "id": "dominant-stretch",
   "metadata": {},
   "outputs": [
    {
     "name": "stdout",
     "output_type": "stream",
     "text": [
      "Тип массива data: <class 'numpy.ndarray'>\n"
     ]
    }
   ],
   "source": [
    "print(\"Тип массива data:\", type(iris_dataset['data']))"
   ]
  },
  {
   "cell_type": "code",
   "execution_count": 67,
   "id": "civic-studio",
   "metadata": {},
   "outputs": [
    {
     "name": "stdout",
     "output_type": "stream",
     "text": [
      "Форма массива data: (150, 4)\n"
     ]
    }
   ],
   "source": [
    "print(\"Форма массива data:\", iris_dataset['data'].shape)"
   ]
  },
  {
   "cell_type": "markdown",
   "id": "accessory-factory",
   "metadata": {},
   "source": [
    "Видим, что массив данных data содержит измерения для 150 различных цветков по четырем признакам."
   ]
  },
  {
   "cell_type": "markdown",
   "id": "wanted-cooling",
   "metadata": {},
   "source": [
    "Выведем 5 первых строк массива data:"
   ]
  },
  {
   "cell_type": "code",
   "execution_count": 68,
   "id": "found-creek",
   "metadata": {},
   "outputs": [
    {
     "data": {
      "text/plain": [
       "array([[5.1, 3.5, 1.4, 0.2],\n",
       "       [4.9, 3. , 1.4, 0.2],\n",
       "       [4.7, 3.2, 1.3, 0.2],\n",
       "       [4.6, 3.1, 1.5, 0.2],\n",
       "       [5. , 3.6, 1.4, 0.2]])"
      ]
     },
     "execution_count": 68,
     "metadata": {},
     "output_type": "execute_result"
    }
   ],
   "source": [
    "iris_dataset.data[:5]"
   ]
  },
  {
   "cell_type": "markdown",
   "id": "british-store",
   "metadata": {},
   "source": [
    "Посмотрим описания признаков:"
   ]
  },
  {
   "cell_type": "code",
   "execution_count": 69,
   "id": "dense-enhancement",
   "metadata": {},
   "outputs": [
    {
     "name": "stdout",
     "output_type": "stream",
     "text": [
      "Названия признаков:\n",
      " ['sepal length (cm)', 'sepal width (cm)', 'petal length (cm)', 'petal width (cm)']\n"
     ]
    }
   ],
   "source": [
    "print(\"Названия признаков:\\n\", iris_dataset['feature_names'])"
   ]
  },
  {
   "cell_type": "markdown",
   "id": "honey-north",
   "metadata": {},
   "source": [
    "Признаки: длина чашелистиков (sepal length), ширина чашелистиков (sepal width), длина лепестков (petal length), ширина лепестков (petal width)"
   ]
  },
  {
   "cell_type": "markdown",
   "id": "tropical-concept",
   "metadata": {},
   "source": [
    "Массив target содержит сведения о сортах уже измеренных цветков, которые также записаны в виде массива NumPy:"
   ]
  },
  {
   "cell_type": "code",
   "execution_count": 70,
   "id": "editorial-shark",
   "metadata": {},
   "outputs": [
    {
     "name": "stdout",
     "output_type": "stream",
     "text": [
      "Тип массива target: <class 'numpy.ndarray'>\n"
     ]
    }
   ],
   "source": [
    "print(\"Тип массива target:\", type(iris_dataset['target']))"
   ]
  },
  {
   "cell_type": "markdown",
   "id": "supported-state",
   "metadata": {},
   "source": [
    "Массив target одномерный, содержит по одному элементу (коду) для каждого цветка:"
   ]
  },
  {
   "cell_type": "code",
   "execution_count": 71,
   "id": "complete-album",
   "metadata": {},
   "outputs": [
    {
     "name": "stdout",
     "output_type": "stream",
     "text": [
      "Форма массива target: (150,)\n"
     ]
    }
   ],
   "source": [
    "print(\"Форма массива target:\", iris_dataset['target'].shape)"
   ]
  },
  {
   "cell_type": "code",
   "execution_count": 72,
   "id": "latest-sapphire",
   "metadata": {},
   "outputs": [
    {
     "name": "stdout",
     "output_type": "stream",
     "text": [
      "Ответы:\n",
      " [0 0 0 0 0 0 0 0 0 0 0 0 0 0 0 0 0 0 0 0 0 0 0 0 0 0 0 0 0 0 0 0 0 0 0 0 0\n",
      " 0 0 0 0 0 0 0 0 0 0 0 0 0 1 1 1 1 1 1 1 1 1 1 1 1 1 1 1 1 1 1 1 1 1 1 1 1\n",
      " 1 1 1 1 1 1 1 1 1 1 1 1 1 1 1 1 1 1 1 1 1 1 1 1 1 1 2 2 2 2 2 2 2 2 2 2 2\n",
      " 2 2 2 2 2 2 2 2 2 2 2 2 2 2 2 2 2 2 2 2 2 2 2 2 2 2 2 2 2 2 2 2 2 2 2 2 2\n",
      " 2 2]\n"
     ]
    }
   ],
   "source": [
    "print(\"Ответы:\\n\", iris_dataset['target'])"
   ]
  },
  {
   "cell_type": "markdown",
   "id": "charming-liability",
   "metadata": {},
   "source": [
    "Сорта закодированных ирисов содержатся в массиве target_names:"
   ]
  },
  {
   "cell_type": "code",
   "execution_count": 73,
   "id": "controlling-character",
   "metadata": {},
   "outputs": [
    {
     "name": "stdout",
     "output_type": "stream",
     "text": [
      "Сорта ирисов: ['setosa' 'versicolor' 'virginica']\n"
     ]
    }
   ],
   "source": [
    "print(\"Сорта ирисов:\", iris_dataset['target_names'])"
   ]
  },
  {
   "cell_type": "markdown",
   "id": "undefined-nashville",
   "metadata": {},
   "source": [
    "0-setosa,1-versicolor, 2-virginica."
   ]
  },
  {
   "cell_type": "markdown",
   "id": "spiritual-target",
   "metadata": {},
   "source": [
    "Вызовем функцию train_test_split для наших данных и зададим обучающие данные (X_train), обучающие метки (y_train), тестовые данные (X_test), тестовые метки (y_test).\n",
    "Перед разбиением функция train_test_split перемешивает набор данных с помощью генератора псевдослучайных чисел, т.к. все данные отсортированы по меткам."
   ]
  },
  {
   "cell_type": "code",
   "execution_count": 74,
   "id": "presidential-pizza",
   "metadata": {},
   "outputs": [],
   "source": [
    "X_train, X_test, y_train, y_test = train_test_split(\n",
    "    iris_dataset['data'], iris_dataset['target'], random_state=0)"
   ]
  },
  {
   "cell_type": "markdown",
   "id": "ideal-glass",
   "metadata": {},
   "source": [
    "В результате 75% данных отнесено к обучающему набору, а 25% - к тестовому."
   ]
  },
  {
   "cell_type": "code",
   "execution_count": 75,
   "id": "oriental-dylan",
   "metadata": {},
   "outputs": [
    {
     "name": "stdout",
     "output_type": "stream",
     "text": [
      "Форма массива X_train: (112, 4)\n",
      "Форма массива y_train: (112,)\n"
     ]
    }
   ],
   "source": [
    "print(\"Форма массива X_train:\", X_train.shape)\n",
    "print(\"Форма массива y_train:\", y_train.shape)"
   ]
  },
  {
   "cell_type": "code",
   "execution_count": 76,
   "id": "inside-momentum",
   "metadata": {},
   "outputs": [
    {
     "name": "stdout",
     "output_type": "stream",
     "text": [
      "Форма массива X_test: (38, 4)\n",
      "Форма массива y_test: (38,)\n"
     ]
    }
   ],
   "source": [
    "print(\"Форма массива X_test:\", X_test.shape)\n",
    "print(\"Форма массива y_test:\", y_test.shape)"
   ]
  },
  {
   "cell_type": "code",
   "execution_count": 77,
   "id": "proved-terry",
   "metadata": {},
   "outputs": [],
   "source": [
    "# Преобразуем массив NumPy в массив класса DataFrame.\n",
    "# Столбцам дадим имена названий признаков.\n",
    "iris_dataframe = pd.DataFrame(X_train, columns=iris_dataset.feature_names)"
   ]
  },
  {
   "cell_type": "code",
   "execution_count": 78,
   "id": "occupied-evanescence",
   "metadata": {},
   "outputs": [
    {
     "data": {
      "text/plain": [
       "array([[<AxesSubplot:xlabel='sepal length (cm)', ylabel='sepal length (cm)'>,\n",
       "        <AxesSubplot:xlabel='sepal width (cm)', ylabel='sepal length (cm)'>,\n",
       "        <AxesSubplot:xlabel='petal length (cm)', ylabel='sepal length (cm)'>,\n",
       "        <AxesSubplot:xlabel='petal width (cm)', ylabel='sepal length (cm)'>],\n",
       "       [<AxesSubplot:xlabel='sepal length (cm)', ylabel='sepal width (cm)'>,\n",
       "        <AxesSubplot:xlabel='sepal width (cm)', ylabel='sepal width (cm)'>,\n",
       "        <AxesSubplot:xlabel='petal length (cm)', ylabel='sepal width (cm)'>,\n",
       "        <AxesSubplot:xlabel='petal width (cm)', ylabel='sepal width (cm)'>],\n",
       "       [<AxesSubplot:xlabel='sepal length (cm)', ylabel='petal length (cm)'>,\n",
       "        <AxesSubplot:xlabel='sepal width (cm)', ylabel='petal length (cm)'>,\n",
       "        <AxesSubplot:xlabel='petal length (cm)', ylabel='petal length (cm)'>,\n",
       "        <AxesSubplot:xlabel='petal width (cm)', ylabel='petal length (cm)'>],\n",
       "       [<AxesSubplot:xlabel='sepal length (cm)', ylabel='petal width (cm)'>,\n",
       "        <AxesSubplot:xlabel='sepal width (cm)', ylabel='petal width (cm)'>,\n",
       "        <AxesSubplot:xlabel='petal length (cm)', ylabel='petal width (cm)'>,\n",
       "        <AxesSubplot:xlabel='petal width (cm)', ylabel='petal width (cm)'>]],\n",
       "      dtype=object)"
      ]
     },
     "execution_count": 78,
     "metadata": {},
     "output_type": "execute_result"
    },
    {
     "data": {
      "image/png": "[encoded data removed]",
      "text/plain": [
       "<Figure size 1080x1080 with 16 Axes>"
      ]
     },
     "metadata": {
      "needs_background": "light"
     },
     "output_type": "display_data"
    }
   ],
   "source": [
    "# Построим диаграмму рассеяния для признаков обучающего набора (X_train). \n",
    "#Точки данных окрасим в соответствии с сортами ирисов, к которым они относятся (y_train).\n",
    "pd.plotting.scatter_matrix(iris_dataframe, c=y_train, figsize=(15, 15),\n",
    "                           marker='o', hist_kwds={'bins': 20}, s=60,\n",
    "                           alpha=.8)"
   ]
  },
  {
   "cell_type": "markdown",
   "id": "proud-tolerance",
   "metadata": {},
   "source": [
    "Из графика видно, что измерения чашелистиков и лепестков, похоже, позволяют относительно хорошо разделить цветки ириса на три класса. Это означает, что модель машинного обучения, вероятно, сможет научиться их разделять."
   ]
  },
  {
   "cell_type": "markdown",
   "id": "decimal-express",
   "metadata": {},
   "source": [
    "### Метод k ближайших соседей"
   ]
  },
  {
   "cell_type": "markdown",
   "id": "radical-closure",
   "metadata": {},
   "source": [
    "Алгоритм классификации на основе метода k ближайших соседей реализован в классификаторе KNeighborsClassifier модуля neighbors в библиотеке sklearn."
   ]
  },
  {
   "cell_type": "markdown",
   "id": "ideal-wagner",
   "metadata": {},
   "source": [
    "Прежде, чем использовать эту модель, нам нужно создать объект - экземпляр данного класса. Это произойдет, когда мы зададим параметры модели, самым важным из которых является количество соседей (k). Установим k равным 1."
   ]
  },
  {
   "cell_type": "code",
   "execution_count": 79,
   "id": "portable-banking",
   "metadata": {},
   "outputs": [],
   "source": [
    "knn = KNeighborsClassifier(n_neighbors=1)"
   ]
  },
  {
   "cell_type": "markdown",
   "id": "resident-democracy",
   "metadata": {},
   "source": [
    "Для построения модели на обучающем наборе данных вызываем метод fit объекта knn, который принимает в качестве аргументов массив NumPy X_train, содержащий обучающие данные, и массив NumPy y_train, соответсвующий обучающим меткам."
   ]
  },
  {
   "cell_type": "code",
   "execution_count": 80,
   "id": "retained-fantasy",
   "metadata": {},
   "outputs": [
    {
     "data": {
      "text/plain": [
       "KNeighborsClassifier(n_neighbors=1)"
      ]
     },
     "execution_count": 80,
     "metadata": {},
     "output_type": "execute_result"
    }
   ],
   "source": [
    "knn.fit(X_train, y_train)"
   ]
  },
  {
   "cell_type": "markdown",
   "id": "fiscal-thong",
   "metadata": {},
   "source": [
    "Теперь мы можем получить прогнозы, применив эту модель к новым данным, по которым мы еще не знаем правильные метки."
   ]
  },
  {
   "cell_type": "code",
   "execution_count": 81,
   "id": "acoustic-desert",
   "metadata": {},
   "outputs": [
    {
     "name": "stdout",
     "output_type": "stream",
     "text": [
      "Форма массива X_new: (1, 4)\n"
     ]
    }
   ],
   "source": [
    "#Зададим параметры некоторого ириса, сорт которого мы хотим узнать.\n",
    "X_new = np.array([[5, 2.9, 1, 0.2]])\n",
    "print(\"Форма массива X_new:\", X_new.shape)"
   ]
  },
  {
   "cell_type": "markdown",
   "id": "focused-compression",
   "metadata": {},
   "source": [
    "Чтобы сделать прогноз, вызываем метод predict объекта knn."
   ]
  },
  {
   "cell_type": "code",
   "execution_count": 82,
   "id": "offensive-bishop",
   "metadata": {},
   "outputs": [
    {
     "name": "stdout",
     "output_type": "stream",
     "text": [
      "Прогноз: [0]\n",
      "Спрогнозированная метка: ['setosa']\n"
     ]
    }
   ],
   "source": [
    "prediction = knn.predict(X_new)\n",
    "print(\"Прогноз:\", prediction)\n",
    "print(\"Спрогнозированная метка:\",\n",
    "       iris_dataset['target_names'][prediction])"
   ]
  },
  {
   "cell_type": "markdown",
   "id": "resident-civilization",
   "metadata": {},
   "source": [
    "Спрогнозируем сорта ирисов для данных тестового набора с помощью модели kNN (n=1)."
   ]
  },
  {
   "cell_type": "code",
   "execution_count": 83,
   "id": "removed-simulation",
   "metadata": {},
   "outputs": [
    {
     "name": "stdout",
     "output_type": "stream",
     "text": [
      "Прогнозы для тестового набора:\n",
      " [2 1 0 2 0 2 0 1 1 1 2 1 1 1 1 0 1 1 0 0 2 1 0 0 2 0 0 1 1 0 2 1 0 2 2 1 0\n",
      " 2]\n"
     ]
    }
   ],
   "source": [
    "y_pred = knn.predict(X_test)\n",
    "print(\"Прогнозы для тестового набора:\\n\", y_pred)"
   ]
  },
  {
   "cell_type": "markdown",
   "id": "confident-blank",
   "metadata": {},
   "source": [
    "Оценим качество модели kNN (n=1) на тестовом наборе, вычислив для нее показатель \"правильность\" (accuracy) - это процент цветков, для которых модель правильно спрогнозировала сорт."
   ]
  },
  {
   "cell_type": "code",
   "execution_count": 84,
   "id": "vocational-correction",
   "metadata": {},
   "outputs": [
    {
     "name": "stdout",
     "output_type": "stream",
     "text": [
      "Правильность на тестовом наборе: 0.97\n"
     ]
    }
   ],
   "source": [
    "print(\"Правильность на тестовом наборе: {:.2f}\".format(np.mean(y_pred == y_test)))"
   ]
  },
  {
   "cell_type": "code",
   "execution_count": 85,
   "id": "residential-sector",
   "metadata": {},
   "outputs": [
    {
     "name": "stdout",
     "output_type": "stream",
     "text": [
      "Правильность на тестовом наборе: 0.97\n"
     ]
    }
   ],
   "source": [
    "print(\"Правильность на тестовом наборе: {:.2f}\".format(knn.score(X_test, y_test)))"
   ]
  },
  {
   "cell_type": "markdown",
   "id": "utility-repeat",
   "metadata": {},
   "source": [
    "Мы получили правильный прогноз для 97% ирисов в тестовом наборе. Это означает, что мы можем ожидать, что наша модель в 97% случаев даст правильный прогноз и для новых ирисов."
   ]
  },
  {
   "cell_type": "markdown",
   "id": "incoming-viewer",
   "metadata": {},
   "source": [
    "Краткий программный код, необходимый для всей процедуры обучения и оценки модели: "
   ]
  },
  {
   "cell_type": "code",
   "execution_count": 86,
   "id": "adapted-concern",
   "metadata": {},
   "outputs": [
    {
     "name": "stdout",
     "output_type": "stream",
     "text": [
      "Правильность на тестовом наборе: 0.97\n"
     ]
    }
   ],
   "source": [
    "X_train, X_test, y_train, y_test = train_test_split(\n",
    "    iris_dataset['data'], iris_dataset['target'], random_state=0)\n",
    "\n",
    "knn = KNeighborsClassifier(n_neighbors=1)\n",
    "knn.fit(X_train, y_train)\n",
    "\n",
    "print(\"Правильность на тестовом наборе: {:.2f}\".format(knn.score(X_test, y_test)))"
   ]
  },
  {
   "cell_type": "markdown",
   "id": "hungarian-arrangement",
   "metadata": {},
   "source": [
    "Сравнение правильности на обучающем и тестовом наборах как функции от количества соседей."
   ]
  },
  {
   "cell_type": "code",
   "execution_count": 87,
   "id": "deluxe-tribute",
   "metadata": {},
   "outputs": [
    {
     "data": {
      "text/plain": [
       "<matplotlib.legend.Legend at 0x1f36ab94d08>"
      ]
     },
     "execution_count": 87,
     "metadata": {},
     "output_type": "execute_result"
    },
    {
     "data": {
      "image/png": "[encoded data removed]",
      "text/plain": [
       "<Figure size 432x288 with 1 Axes>"
      ]
     },
     "metadata": {
      "needs_background": "light"
     },
     "output_type": "display_data"
    }
   ],
   "source": [
    "training_accuracy = []\n",
    "test_accuracy = []\n",
    "# попробуем n_neighbors от 1 до 10\n",
    "neighbors_settings = range(1, 11)\n",
    "\n",
    "for n_neighbors in neighbors_settings:\n",
    "    # строим модель\n",
    "    clf = KNeighborsClassifier(n_neighbors=n_neighbors)\n",
    "    clf.fit(X_train, y_train)\n",
    "    # записываем правильность на обучающем наборе\n",
    "    training_accuracy.append(clf.score(X_train, y_train))\n",
    "    # записываем правильность на тестовом наборе\n",
    "    test_accuracy.append(clf.score(X_test, y_test))\n",
    "    \n",
    "plt.plot(neighbors_settings, training_accuracy, label=\"Правильность на обучающем наборе\")\n",
    "plt.plot(neighbors_settings, test_accuracy, label=\"Правильность на тестовом наборе\")\n",
    "plt.ylabel(\"Правильность\")\n",
    "plt.xlabel(\"Количество соседей\")\n",
    "plt.legend()"
   ]
  },
  {
   "cell_type": "markdown",
   "id": "indian-mounting",
   "metadata": {},
   "source": [
    "# Develop k-Nearest Neighbors in Python From Scratch"
   ]
  },
  {
   "cell_type": "markdown",
   "id": "sensitive-jerusalem",
   "metadata": {},
   "source": [
    "https://machinelearningmastery.com/tutorial-to-implement-k-nearest-neighbors-in-python-from-scratch/"
   ]
  },
  {
   "cell_type": "markdown",
   "id": "acquired-receptor",
   "metadata": {},
   "source": [
    "## Математика для kNN:"
   ]
  },
  {
   "cell_type": "markdown",
   "id": "ceramic-intention",
   "metadata": {},
   "source": [
    "Метрики:\n",
    "https://scikit-learn.org/stable/modules/generated/sklearn.metrics.pairwise_distances.html\n",
    "\n",
    "Расстояние Минковского (частные случаи: евклидово расстояние, манхэттенское расстояние, расстояние Чебышева, расстояние Хэмминга):\n",
    "https://ru.wikipedia.org/wiki/%D0%A0%D0%B0%D1%81%D1%81%D1%82%D0%BE%D1%8F%D0%BD%D0%B8%D0%B5_%D0%9C%D0%B8%D0%BD%D0%BA%D0%BE%D0%B2%D1%81%D0%BA%D0%BE%D0%B3%D0%BE\n",
    "\n",
    "Расстояние городских кварталов:\n",
    "https://ru.wikipedia.org/wiki/%D0%A0%D0%B0%D1%81%D1%81%D1%82%D0%BE%D1%8F%D0%BD%D0%B8%D0%B5_%D0%B3%D0%BE%D1%80%D0%BE%D0%B4%D1%81%D0%BA%D0%B8%D1%85_%D0%BA%D0%B2%D0%B0%D1%80%D1%82%D0%B0%D0%BB%D0%BE%D0%B2\n",
    "\n",
    "Косинусное расстояние:\n",
    "https://en.wikipedia.org/wiki/Cosine_similarity\n",
    "https://www.machinelearningplus.com/nlp/cosine-similarity/\n",
    "\n",
    "Bray–Curtis dissimilarity:\n",
    "https://en.wikipedia.org/wiki/Bray%E2%80%93Curtis_dissimilarity\n",
    "\n",
    "Расстояние Хэмминга:\n",
    "https://ru.wikipedia.org/wiki/%D0%A0%D0%B0%D1%81%D1%81%D1%82%D0%BE%D1%8F%D0%BD%D0%B8%D0%B5_%D0%A5%D1%8D%D0%BC%D0%BC%D0%B8%D0%BD%D0%B3%D0%B0\n",
    "https://en.wikipedia.org/wiki/Hamming_distance\n",
    "\n",
    "Коэффициент Жаккара:\n",
    "https://ru.wikipedia.org/wiki/%D0%9A%D0%BE%D1%8D%D1%84%D1%84%D0%B8%D1%86%D0%B8%D0%B5%D0%BD%D1%82_%D0%96%D0%B0%D0%BA%D0%BA%D0%B0%D1%80%D0%B0\n",
    "https://en.wikipedia.org/wiki/Jaccard_index\n",
    "\n",
    "Kulsinski dissimilarity:\n",
    "https://docs.scipy.org/doc/scipy/reference/generated/scipy.spatial.distance.kulsinski.html\n",
    "\n",
    "Расстояние Махаланобиса:\n",
    "https://ru.wikipedia.org/wiki/%D0%A0%D0%B0%D1%81%D1%81%D1%82%D0%BE%D1%8F%D0%BD%D0%B8%D0%B5_%D0%9C%D0%B0%D1%85%D0%B0%D0%BB%D0%B0%D0%BD%D0%BE%D0%B1%D0%B8%D1%81%D0%B0\n",
    "https://en.wikipedia.org/wiki/Mahalanobis_distance\n",
    "\n",
    "Rogers-Tanimoto dissimilarity: \n",
    "https://en.wikipedia.org/wiki/Jaccard_index#Tanimoto_similarity_and_distance\n",
    "https://docs.scipy.org/doc/scipy/reference/generated/scipy.spatial.distance.rogerstanimoto.html\n",
    "\n",
    "Distance Measures:\n",
    "https://www.sequentix.de/gelquest/help/distance_measures.htm\n",
    "\n",
    "Canberra distance:\n",
    "https://en.wikipedia.org/wiki/Canberra_distance\n",
    "\n",
    "Расстояние Чебышёва - частный случай расстояния Минковского:\n",
    "https://ru.wikipedia.org/wiki/%D0%A0%D0%B0%D1%81%D1%81%D1%82%D0%BE%D1%8F%D0%BD%D0%B8%D0%B5_%D0%A7%D0%B5%D0%B1%D1%8B%D1%88%D1%91%D0%B2%D0%B0\n",
    "https://en.wikipedia.org/wiki/Chebyshev_distance\n",
    "\n",
    "Корреляция:\n",
    "https://ru.wikipedia.org/wiki/%D0%9A%D0%BE%D1%80%D1%80%D0%B5%D0%BB%D1%8F%D1%86%D0%B8%D1%8F\n",
    "https://en.wikipedia.org/wiki/Correlation_coefficient\n",
    "\n",
    "Sorensen–Dice coefficient:\n",
    "https://en.wikipedia.org/wiki/S%C3%B8rensen%E2%80%93Dice_coefficient\n",
    "\n",
    "Sokal-Michener dissimilarity: \n",
    "https://docs.scipy.org/doc/scipy/reference/generated/scipy.spatial.distance.sokalmichener.html\n",
    "\n",
    "Sokal-Sneath dissimilarity:\n",
    "https://docs.scipy.org/doc/scipy/reference/generated/scipy.spatial.distance.sokalsneath.html\n",
    "\n",
    "Yule dissimilarity: \n",
    "https://docs.scipy.org/doc/scipy-0.14.0/reference/generated/scipy.spatial.distance.yule.html"
   ]
  },
  {
   "cell_type": "markdown",
   "id": "advised-processor",
   "metadata": {},
   "source": [
    "## Наивный байесовский классификатор (Naive Bayes Classifier)"
   ]
  },
  {
   "cell_type": "markdown",
   "id": "amazing-daughter",
   "metadata": {},
   "source": [
    "Теория: \n",
    "* https://arxiv.org/pdf/1410.5329v3.pdf\n",
    "* ESLII_print12: с. 210-212\n",
    "* https://machinelearningmastery.com/naive-bayes-classifier-scratch-python/\n",
    "* https://scikit-learn.org/stable/modules/naive_bayes.html"
   ]
  },
  {
   "cell_type": "markdown",
   "id": "wanted-roulette",
   "metadata": {},
   "source": [
    "https://machinelearningmastery.com/naive-bayes-classifier-scratch-python/"
   ]
  },
  {
   "cell_type": "markdown",
   "id": "second-assessment",
   "metadata": {},
   "source": [
    "Теорема Байеса обеспечивает способ, которым мы можем вычислить вероятность то, что часть данных принадлежит данному классу, учитывая наши предварительные знания. Теорема Байеса имеет вид:\n",
    "\n",
    " * P(класс | данные) = (P (данные | класс) * P (класс)) / P (данные)\n",
    "\n",
    "где P (class | data) - вероятность класса с учетом предоставленных данных."
   ]
  },
  {
   "cell_type": "markdown",
   "id": "organized-marker",
   "metadata": {},
   "source": [
    "Наивный байесовский алгоритм - алгоритм классификации для бинарных (двухклассовых) и мультиклассовых задач классификации. Он называется «Наивный байесовский», потому что вычисления вероятностей для каждого класса упрощены, чтобы сделать их вычисления возможными.\n",
    "\n",
    "Вместо того, чтобы пытаться вычислить вероятности каждого значения атрибута, они считаются условно независимыми, учитывая значение класса.\n",
    "\n",
    "Это очень сильное предположение, которое маловероятно для реальных данных. Тем не менее, этот подход на удивление хорошо работает с данными, где это предположение не выполняется."
   ]
  },
  {
   "cell_type": "markdown",
   "id": "retired-studio",
   "metadata": {},
   "source": [
    "## Набор данных об ирисах"
   ]
  },
  {
   "cell_type": "markdown",
   "id": "enabling-serbia",
   "metadata": {},
   "source": [
    "Набор данных об ирисах включает прогнозирование видов ирисов по измерениям цветков ириса.\n",
    "\n",
    "Это проблема мультиклассовой классификации. Количество наблюдений для каждого класса сбалансировано. Есть 150 наблюдений с 4 входными переменными и 1 выходной переменной. Имена переменных следующие:\n",
    "* Длина перегородки в см.\n",
    "* Ширина перегородки в см.\n",
    "* Длина лепестка в см.\n",
    "* Ширина лепестка в см.\n",
    "* Класс ириса"
   ]
  },
  {
   "cell_type": "markdown",
   "id": "tropical-serbia",
   "metadata": {},
   "source": [
    "Сначала мы разработаем каждый фрагмент алгоритма в этом разделе, а затем свяжем все элементы вместе в рабочую реализацию, примененную к реальному набору данных в следующем разделе.\n",
    "\n",
    "Мы пройдем 5 шагов:\n",
    "* Шаг 1: Разбивка данных на классы.\n",
    "* Шаг 2: Обобщение набора данных.\n",
    "* Шаг 3: Обобщение данных по классам.\n",
    "* Шаг 4: Гауссовская функция плотности вероятности.\n",
    "* Шаг 5: Вероятности классов.\n",
    "\n",
    "Эти шаги обеспечат основу, необходимую для реализации наивного метода Байеса с нуля и применения его к собственным задачам прогнознирования и моделирования."
   ]
  },
  {
   "cell_type": "markdown",
   "id": "other-zimbabwe",
   "metadata": {},
   "source": [
    "### Шаг 1: Разбивка данных на классы"
   ]
  },
  {
   "cell_type": "markdown",
   "id": "racial-native",
   "metadata": {},
   "source": [
    "Нам нужно будет рассчитать вероятность данных по классу, к которому они принадлежат, так называемый базовый уровень.\n",
    "\n",
    "Это означает, что сначала нам нужно будет разделить обучающую выборку на классы. Относительно простая операция.\n",
    "\n",
    "Мы можем создать объект словаря, в котором каждый ключ является значением класса, а затем добавить список всех записей в качестве значения в словаре.\n",
    "\n",
    "Ниже приведена функция с именем separate_by_class(), которая реализует этот подход. Предполагается, что последний столбец в каждой строке является значением класса."
   ]
  },
  {
   "cell_type": "code",
   "execution_count": 88,
   "id": "precise-riding",
   "metadata": {},
   "outputs": [],
   "source": [
    "# Split the dataset by class values, returns a dictionary\n",
    "def separate_by_class(dataset):\n",
    "    separated = dict()\n",
    "    for i in range(len(dataset)):\n",
    "        vector = dataset[i]\n",
    "        class_value = vector[-1]\n",
    "        if (class_value not in separated):\n",
    "            separated[class_value] = list()\n",
    "        separated[class_value].append(vector)\n",
    "    return separated"
   ]
  },
  {
   "cell_type": "markdown",
   "id": "tired-scanner",
   "metadata": {},
   "source": [
    "Мы можем создать небольшой набор данных для проверки этой функции. Также мы можем визуализировать этот набор данных и использовать отдельные цвета для каждого класса. Собрав все это вместе, мы можем протестировать нашу функцию separate_by_class() на надуманном наборе данных."
   ]
  },
  {
   "cell_type": "code",
   "execution_count": 89,
   "id": "continuous-harris",
   "metadata": {},
   "outputs": [
    {
     "name": "stdout",
     "output_type": "stream",
     "text": [
      "0\n",
      "[3.393533211, 2.331273381, 0]\n",
      "[3.110073483, 1.781539638, 0]\n",
      "[1.343808831, 3.368360954, 0]\n",
      "[3.582294042, 4.67917911, 0]\n",
      "[2.280362439, 2.866990263, 0]\n",
      "1\n",
      "[7.423436942, 4.696522875, 1]\n",
      "[5.745051997, 3.533989803, 1]\n",
      "[9.172168622, 2.511101045, 1]\n",
      "[7.792783481, 3.424088941, 1]\n",
      "[7.939820817, 0.791637231, 1]\n"
     ]
    }
   ],
   "source": [
    "# Test separating data by class\n",
    "dataset = [[3.393533211,2.331273381,0],\n",
    "    [3.110073483,1.781539638,0],\n",
    "    [1.343808831,3.368360954,0],\n",
    "    [3.582294042,4.67917911,0],\n",
    "    [2.280362439,2.866990263,0],\n",
    "    [7.423436942,4.696522875,1],\n",
    "    [5.745051997,3.533989803,1],\n",
    "    [9.172168622,2.511101045,1],\n",
    "    [7.792783481,3.424088941,1],\n",
    "    [7.939820817,0.791637231,1]]\n",
    "separated = separate_by_class(dataset)\n",
    "for label in separated:\n",
    "    print(label)\n",
    "    for row in separated[label]:\n",
    "        print(row)"
   ]
  },
  {
   "cell_type": "markdown",
   "id": "painful-plain",
   "metadata": {},
   "source": [
    "Выполнение примера сортирует наблюдения в наборе данных по значению их класса, а затем печатает значение класса, за которым следуют все идентифицированные записи."
   ]
  },
  {
   "cell_type": "markdown",
   "id": "permanent-bobby",
   "metadata": {},
   "source": [
    "Далее мы можем приступить к разработке функций, необходимых для сбора статистики."
   ]
  },
  {
   "cell_type": "markdown",
   "id": "mexican-generation",
   "metadata": {},
   "source": [
    "## Шаг 2: Обобщение набора данных"
   ]
  },
  {
   "cell_type": "markdown",
   "id": "blind-dressing",
   "metadata": {},
   "source": [
    "Нам нужны две статистики из данного набора данных.\n",
    "\n",
    "Мы увидим, как эти статистики используются для вычисления вероятностей через несколько шагов. Две статистики, которые нам требуются из данного набора данных, - это среднее значение и стандартное отклонение (среднее отклонение от среднего).\n",
    "\n",
    "Среднее значение может быть рассчитано как:\n",
    "\n",
    "* среднее = сумма (x) / n \n",
    "\n",
    "где x - это список значений или столбец, который мы ищем;\n",
    "n - число наблюдений в столбце x.\n",
    "\n",
    "Ниже приведена небольшая функция с именем mean(), которая вычисляет среднее из списка чисел."
   ]
  },
  {
   "cell_type": "code",
   "execution_count": 90,
   "id": "based-pilot",
   "metadata": {},
   "outputs": [],
   "source": [
    "# Calculate the mean of a list of numbers\n",
    "def mean(numbers):\n",
    "    return sum(numbers)/float(len(numbers))"
   ]
  },
  {
   "cell_type": "markdown",
   "id": "revolutionary-howard",
   "metadata": {},
   "source": [
    "Стандартное отклонение выборки рассчитывается как среднее отличие от среднего значения. Это можно сделать так:\n",
    "\n",
    "* standard deviation = sqrt((sum i to N (x_i – mean(x))^2) / N-1)\n",
    "\n",
    "Вы можете видеть, что мы возводим в квадрат разницу между заданным значением и средним, вычисляем среднеквадратичную разницу из среднего значения, а затем берем квадратный корень, чтобы вернуть единицы измерения к их первоначальному виду.\n",
    "\n",
    "Ниже приведена небольшая функция standard_deviation (), которая вычисляет стандартное отклонение списка чисел."
   ]
  },
  {
   "cell_type": "code",
   "execution_count": 91,
   "id": "empirical-inquiry",
   "metadata": {},
   "outputs": [],
   "source": [
    "# Calculate the standard deviation of a list of numbers\n",
    "def stdev(numbers):\n",
    "    avg = mean(numbers)\n",
    "    variance = sum([(x-avg)**2 for x in numbers]) / float(len(numbers)-1)\n",
    "    return sqrt(variance)"
   ]
  },
  {
   "cell_type": "markdown",
   "id": "spanish-wisconsin",
   "metadata": {},
   "source": [
    "Нам необходимо рассчитать статистику среднего и стандартного отклонения для каждого признака, или каждого столбца наших данных.\n",
    "\n",
    "Мы можем сделать это, собрав все значения для каждого столбца в список и вычислив среднее и стандартное отклонение в этом списке. После расчета мы можем собрать статистику в список или кортеж статистики. Затем повторить эту операцию для каждого столбца в наборе данных и вернуть список наборов статистики.\n",
    "\n",
    "Ниже приведена функция sumrize_dataset (), которая реализует этот подход. Он использует некоторые приемы Python, чтобы сократить количество требуемых строк."
   ]
  },
  {
   "cell_type": "code",
   "execution_count": 92,
   "id": "dangerous-realtor",
   "metadata": {},
   "outputs": [],
   "source": [
    "# Calculate the mean, stdev and count for each column in a dataset\n",
    "def summarize_dataset(dataset):\n",
    "    summaries = [(mean(column), stdev(column), len(column)) for column in zip(*dataset)]\n",
    "    del(summaries[-1])\n",
    "    return summaries"
   ]
  },
  {
   "cell_type": "markdown",
   "id": "expressed-bowling",
   "metadata": {},
   "source": [
    "Первый прием - использование функции zip (), которая будет агрегировать элементы из каждого предоставленного аргумента. Мы передаем набор данных в функцию zip () с оператором *, который разделяет набор данных (то есть список списков) на отдельные списки для каждой строки. Затем функция zip () выполняет итерацию по каждому элементу каждой строки и возвращает столбец из набора данных в виде списка чисел. Умный маленький трюк.\n",
    "\n",
    "Затем мы вычисляем среднее значение, стандартное отклонение и количество строк в каждом столбце. Из этих 3 чисел создается кортеж, и список этих кортежей сохраняется. Затем мы удаляем статистику для переменной \"класс\", поскольку она нам не понадобится.\n",
    "\n",
    "Давайте проверим все эти функции на нашем выдуманном наборе данных. "
   ]
  },
  {
   "cell_type": "code",
   "execution_count": 93,
   "id": "average-invalid",
   "metadata": {},
   "outputs": [
    {
     "name": "stdout",
     "output_type": "stream",
     "text": [
      "[(5.178333386499999, 2.7665845055177263, 10), (2.9984683241, 1.218556343617447, 10)]\n"
     ]
    }
   ],
   "source": [
    "summary = summarize_dataset(dataset)\n",
    "print(summary)"
   ]
  },
  {
   "cell_type": "markdown",
   "id": "textile-language",
   "metadata": {},
   "source": [
    "При выполнении примера выводится список кортежей статистики по каждой из двух входных переменных.\n",
    "\n",
    "Интерпретируя результаты, мы видим, что среднее значение X1 составляет 5,178, а стандартное отклонение X1 составляет 2,767."
   ]
  },
  {
   "cell_type": "markdown",
   "id": "diverse-contractor",
   "metadata": {},
   "source": [
    "Теперь мы готовы использовать эти функции для каждой группы строк в нашем наборе данных."
   ]
  },
  {
   "cell_type": "markdown",
   "id": "architectural-negotiation",
   "metadata": {},
   "source": [
    "## Шаг 3: Обобщение данных по классам"
   ]
  },
  {
   "cell_type": "markdown",
   "id": "returning-florence",
   "metadata": {},
   "source": [
    "Нам нужна статистика для нашего учебного набора данных, организованная по классам.\n",
    "\n",
    "Выше мы разработали функцию separate_by_class() для разделения набора данных на строки по классам. И мы разработали функцию sumrize_dataset () для вычисления сводной статистики для каждого столбца.\n",
    "\n",
    "Мы можем собрать все это вместе и суммировать столбцы в наборе данных, упорядоченные по значениям классов.\n",
    "\n",
    "Ниже приведена функция sumrize_by_class (), которая реализует эту операцию. Набор данных сначала разделяется по классам, а затем статистика рассчитывается для каждого подмножества. Результаты в виде списка кортежей статистики затем сохраняются в словаре по значению их класса."
   ]
  },
  {
   "cell_type": "code",
   "execution_count": 94,
   "id": "intermediate-password",
   "metadata": {},
   "outputs": [],
   "source": [
    "# Split dataset by class then calculate statistics for each row\n",
    "def summarize_by_class(dataset):\n",
    "    separated = separate_by_class(dataset)\n",
    "    summaries = dict()\n",
    "    for class_value, rows in separated.items():\n",
    "        summaries[class_value] = summarize_dataset(rows)\n",
    "    return summaries"
   ]
  },
  {
   "cell_type": "markdown",
   "id": "subjective-reach",
   "metadata": {},
   "source": [
    "Проверим работу этой функции на нашем примере."
   ]
  },
  {
   "cell_type": "code",
   "execution_count": 95,
   "id": "coral-folks",
   "metadata": {},
   "outputs": [
    {
     "name": "stdout",
     "output_type": "stream",
     "text": [
      "0\n",
      "(2.7420144012, 0.9265683289298018, 5)\n",
      "(3.0054686692, 1.1073295894898725, 5)\n",
      "1\n",
      "(7.6146523718, 1.2344321550313704, 5)\n",
      "(2.9914679790000003, 1.4541931384601618, 5)\n"
     ]
    }
   ],
   "source": [
    "summary = summarize_by_class(dataset)\n",
    "for label in summary:\n",
    "    print(label)\n",
    "    for row in summary[label]:\n",
    "        print(row)"
   ]
  },
  {
   "cell_type": "markdown",
   "id": "noticed-watch",
   "metadata": {},
   "source": [
    "Выполнение этого примера вычисляет статистику для каждой входной переменной и печатает ее, упорядоченную по значению класса. Интерпретируя результаты, мы видим, что значения X1 для строк для класса 0 имеют среднее значение 2,74."
   ]
  },
  {
   "cell_type": "markdown",
   "id": "hybrid-tokyo",
   "metadata": {},
   "source": [
    "Есть еще одна часть, которая нам нужна, прежде чем мы начнем вычислять вероятности."
   ]
  },
  {
   "cell_type": "markdown",
   "id": "fifty-major",
   "metadata": {},
   "source": [
    "## Шаг 4: Гауссовская функция плотности вероятности"
   ]
  },
  {
   "cell_type": "markdown",
   "id": "moved-minister",
   "metadata": {},
   "source": [
    "Вычислить вероятность какого-нибудь наблюдения, например, X1 сложно.\n",
    "\n",
    "Один из способов сделать это - предположить, что значение X1 взято из нормально распределенной выборки, имеющую гауссовскую функцию плотности вероятности.\n",
    "\n",
    "Гауссовское распределение можно описать, используя только два числа: среднее значение и стандартное отклонение. Таким образом, с небольшими расчетами, мы можем оценить вероятность данного значения. Гауссовская функция плотности вероятности имеет следующий вид:\n",
    "\n",
    "* f(x) = (1 / sqrt(2 * PI) * sigma) * exp(-((x-mean)^2 / (2 * sigma^2)))\n",
    "\n",
    "где sigma - стандартное отклонение для x, mean - это среднее для x, а PI - значение пи.\n",
    "\n",
    "Ниже приведена функция, которая реализует это. "
   ]
  },
  {
   "cell_type": "code",
   "execution_count": 96,
   "id": "distributed-tyler",
   "metadata": {},
   "outputs": [],
   "source": [
    "# Example of Gaussian PDF\n",
    "# Calculate the Gaussian probability distribution function for x\n",
    "def calculate_probability(x, mean, stdev):\n",
    "    exponent = exp(-((x-mean)**2 / (2 * stdev**2 )))\n",
    "    return (1 / (sqrt(2 * pi) * stdev)) * exponent"
   ]
  },
  {
   "cell_type": "markdown",
   "id": "diverse-celebrity",
   "metadata": {},
   "source": [
    "Давайте проверим, как это работает."
   ]
  },
  {
   "cell_type": "code",
   "execution_count": 97,
   "id": "saving-novelty",
   "metadata": {},
   "outputs": [
    {
     "name": "stdout",
     "output_type": "stream",
     "text": [
      "0.3989422804014327\n",
      "0.24197072451914337\n",
      "0.24197072451914337\n"
     ]
    }
   ],
   "source": [
    "# Test Gaussian PDF\n",
    "print(calculate_probability(1.0, 1.0, 1.0))\n",
    "print(calculate_probability(2.0, 1.0, 1.0))\n",
    "print(calculate_probability(0.0, 1.0, 1.0))"
   ]
  },
  {
   "cell_type": "markdown",
   "id": "confirmed-studio",
   "metadata": {},
   "source": [
    "Запуск кода выводит вероятность некоторых входных значений. Вы можете видеть, что когда значение равно 1, а среднее значение и стандартное отклонение равно 1, наш вход является наиболее вероятным (верхняя часть кривой колокола) и имеет вероятность 0,39.\n",
    "\n",
    "Можно видеть, что когда мы сохраняем статистику одинаковой и меняем значение x на 1 стандартное отклонение по обе стороны от среднего значения (2 и 0 или одинаковое расстояние по обе стороны от кривой колокола), вероятности этих входных значений одинаковы и составляют 0,24."
   ]
  },
  {
   "cell_type": "markdown",
   "id": "young-garbage",
   "metadata": {},
   "source": [
    "Теперь, когда у нас есть все части, давайте посмотрим, как мы можем вычислить вероятности, которые нам нужны для наивного байесовского классификатора."
   ]
  },
  {
   "cell_type": "markdown",
   "id": "legitimate-valentine",
   "metadata": {},
   "source": [
    "## Шаг 5: Вероятности классов"
   ]
  },
  {
   "cell_type": "markdown",
   "id": "terminal-chapter",
   "metadata": {},
   "source": [
    "Теперь пришло время использовать статистику, рассчитанную на основе наших обучающих данных, для расчета вероятностей новых данных.\n",
    "\n",
    "Вероятности рассчитываются отдельно для каждого класса. Это означает, что мы сначала вычисляем вероятность того, что новый фрагмент данных принадлежит первому классу, затем вычисляем вероятности того, что он принадлежит второму классу и так далее для всех классов.\n",
    "\n",
    "Вероятность того, что часть данных принадлежит классу, рассчитывается следующим образом:\n",
    "\n",
    "* P (класс | данные) = P (X | класс) * P (класс)\n",
    "\n",
    "Вы можете заметить, что такая запись отличается от теоремы Байеса, описанной выше.\n",
    "\n",
    "Деление было удалено, чтобы упростить расчет.\n",
    "\n",
    "Это означает, что результат больше не является строго вероятностью данных принадлежать классу. Это обычное упрощение реализации, поскольку мы часто больше заинтересованы в предсказании классов, чем в вероятности. Прогнозируется тот класс, для которого вычисленная функция принимает наибольшее значение.\n",
    "\n",
    "Входные переменные обрабатываются отдельно, давая технике название «наивный». Для приведенного выше примера, где у нас есть 2 входные переменные, вычисление вероятности того, что строка принадлежит первому классу 0, может быть вычислено так:\n",
    "\n",
    "* P (класс = 0 | X1, X2) = P (X1 | класс = 0) * P (X2 | класс = 0) * P (класс = 0)\n",
    "\n",
    "Теперь вы можете понять, почему нам нужно разделить данные по классам. \n",
    "\n",
    "Ниже приведена функция с именем Calculate_class_probabilities (), которая связывает все это вместе.\n",
    "\n",
    "Она принимает набор вычисленных статистик и новую строку в качестве входных аргументов.\n",
    "\n",
    "Сначала рассчитываются вероятности данного класса, или P (класс), как отношения строк с данным классом ко всем строкам в данных обучения.\n",
    "\n",
    "Затем, вероятности рассчитываются для каждого входного значения в строке, используя гауссовскую функцию плотности вероятности и статистику для этого столбца и этого класса. Вероятности умножаются вместе по мере накопления.\n",
    "\n",
    "Этот процесс повторяется для каждого класса в наборе данных.\n",
    "\n",
    "Наконец, возвращается словарь вероятностей с одной записью для каждого класса."
   ]
  },
  {
   "cell_type": "code",
   "execution_count": 98,
   "id": "decimal-newspaper",
   "metadata": {},
   "outputs": [],
   "source": [
    "# Calculate the probabilities of predicting each class for a given row\n",
    "def calculate_class_probabilities(summaries, row):\n",
    "    total_rows = sum([summaries[label][0][2] for label in summaries])\n",
    "    probabilities = dict()\n",
    "    for class_value, class_summaries in summaries.items():\n",
    "        probabilities[class_value] = summaries[class_value][0][2]/float(total_rows)\n",
    "        for i in range(len(class_summaries)):\n",
    "            mean, stdev, count = class_summaries[i]\n",
    "            probabilities[class_value] *= calculate_probability(row[i], mean, stdev)\n",
    "    return probabilities"
   ]
  },
  {
   "cell_type": "markdown",
   "id": "eleven-bailey",
   "metadata": {},
   "source": [
    "Давайте свяжем это с нашим выдуманным набором данных.\n",
    "\n",
    "Приведенный ниже код сначала вычисляет сводную статистику по классам для набора обучающих данных, а затем использует эту статистику для вычисления вероятности первой записи, принадлежащей каждому классу."
   ]
  },
  {
   "cell_type": "code",
   "execution_count": 99,
   "id": "first-florist",
   "metadata": {},
   "outputs": [
    {
     "name": "stdout",
     "output_type": "stream",
     "text": [
      "{0: 0.05032427673372076, 1: 0.00011557718379945765}\n"
     ]
    }
   ],
   "source": [
    "# Example of calculating class probabilities\n",
    "# Split the dataset by class values, returns a dictionary\n",
    "def separate_by_class(dataset):\n",
    "    separated = dict()\n",
    "    for i in range(len(dataset)):\n",
    "        vector = dataset[i]\n",
    "        class_value = vector[-1]\n",
    "        if (class_value not in separated):\n",
    "            separated[class_value] = list()\n",
    "        separated[class_value].append(vector)\n",
    "    return separated\n",
    "\n",
    "# Calculate the mean of a list of numbers\n",
    "def mean(numbers):\n",
    "    return sum(numbers)/float(len(numbers))\n",
    "\n",
    "# Calculate the standard deviation of a list of numbers\n",
    "def stdev(numbers):\n",
    "    avg = mean(numbers)\n",
    "    variance = sum([(x-avg)**2 for x in numbers]) / float(len(numbers)-1)\n",
    "    return sqrt(variance)\n",
    "\n",
    "# Calculate the mean, stdev and count for each column in a dataset\n",
    "def summarize_dataset(dataset):\n",
    "    summaries = [(mean(column), stdev(column), len(column)) for column in zip(*dataset)]\n",
    "    del(summaries[-1])\n",
    "    return summaries\n",
    "\n",
    "# Split dataset by class then calculate statistics for each row\n",
    "def summarize_by_class(dataset):\n",
    "    separated = separate_by_class(dataset)\n",
    "    summaries = dict()\n",
    "    for class_value, rows in separated.items():\n",
    "        summaries[class_value] = summarize_dataset(rows)\n",
    "    return summaries\n",
    "\n",
    "# Calculate the Gaussian probability distribution function for x\n",
    "def calculate_probability(x, mean, stdev):\n",
    "    exponent = exp(-((x-mean)**2 / (2 * stdev**2 )))\n",
    "    return (1 / (sqrt(2 * pi) * stdev)) * exponent\n",
    "\n",
    "# Calculate the probabilities of predicting each class for a given row\n",
    "def calculate_class_probabilities(summaries, row):\n",
    "    total_rows = sum([summaries[label][0][2] for label in summaries])\n",
    "    probabilities = dict()\n",
    "    for class_value, class_summaries in summaries.items():\n",
    "        probabilities[class_value] = summaries[class_value][0][2]/float(total_rows)\n",
    "        for i in range(len(class_summaries)):\n",
    "            mean, stdev, _ = class_summaries[i]\n",
    "            probabilities[class_value] *= calculate_probability(row[i], mean, stdev)\n",
    "    return probabilities\n",
    "\n",
    "# Test calculating class probabilities\n",
    "dataset = [[3.393533211,2.331273381,0],\n",
    "    [3.110073483,1.781539638,0],\n",
    "    [1.343808831,3.368360954,0],\n",
    "    [3.582294042,4.67917911,0],\n",
    "    [2.280362439,2.866990263,0],\n",
    "    [7.423436942,4.696522875,1],\n",
    "    [5.745051997,3.533989803,1],\n",
    "    [9.172168622,2.511101045,1],\n",
    "    [7.792783481,3.424088941,1],\n",
    "    [7.939820817,0.791637231,1]]\n",
    "summaries = summarize_by_class(dataset)\n",
    "probabilities = calculate_class_probabilities(summaries, dataset[0])\n",
    "print(probabilities)"
   ]
  },
  {
   "cell_type": "markdown",
   "id": "fuzzy-practitioner",
   "metadata": {},
   "source": [
    "При выполнении кода выводятся вероятности, рассчитанные для каждого класса.\n",
    "\n",
    "Мы можем видеть, что вероятность того, что первая строка принадлежит классу 0 (0,0503), выше, чем вероятность того, что она принадлежит классу 1 (0,0001). Поэтому мы делаем правильный вывод, что она принадлежит классу 0."
   ]
  },
  {
   "cell_type": "markdown",
   "id": "speaking-casting",
   "metadata": {},
   "source": [
    "Теперь, когда мы увидели, как реализовать алгоритм Наивного Байеса, давайте применим его к набору данных об Ирисах."
   ]
  },
  {
   "cell_type": "markdown",
   "id": "suffering-north",
   "metadata": {},
   "source": [
    "## Исследование набора данных об ирисах"
   ]
  },
  {
   "cell_type": "markdown",
   "id": "colored-radio",
   "metadata": {},
   "source": [
    "Первым шагом является загрузка набора данных и преобразование загруженных данных в числа, которые мы можем использовать для вычисления среднего и стандартного отклонения. Для этого мы будем использовать вспомогательную функцию load_csv () для загрузки файла, str_column_to_float () для преобразования в числа с плавающей точкой и str_column_to_int () для преобразования столбца класса в целочисленные значения."
   ]
  },
  {
   "cell_type": "markdown",
   "id": "sunset-future",
   "metadata": {},
   "source": [
    "Мы оценим алгоритм с использованием k-кратной перекрестной проверки, где k возьмем равным 5. Это означает, что 150/5 = 30 записей будут в каждом наборе. Мы будем использовать вспомогательные функции evaluate_algorithm() для оценки алгоритма с помощью перекрестной проверки и precision_metric () для вычисления точности прогнозов."
   ]
  },
  {
   "cell_type": "markdown",
   "id": "active-minimum",
   "metadata": {},
   "source": [
    "Была разработана новая функция predict() для вычисления вероятности новой строки принадлежать каждому классу, и выбора класса с наибольшим значением вероятности.\n",
    "\n",
    "Еще одна новая функция, названная naive_bayes (), была разработана для применения алгоритма Наивного Байеса, которая изучает статистику из обучающего набора данных и использует ее для составления прогнозов для тестового набора данных."
   ]
  },
  {
   "cell_type": "markdown",
   "id": "positive-society",
   "metadata": {},
   "source": [
    "Полный пример приведен ниже."
   ]
  },
  {
   "cell_type": "code",
   "execution_count": 100,
   "id": "split-plenty",
   "metadata": {},
   "outputs": [
    {
     "name": "stdout",
     "output_type": "stream",
     "text": [
      "Scores: [93.33333333333333, 96.66666666666667, 100.0, 93.33333333333333, 93.33333333333333]\n",
      "Mean Accuracy: 95.333%\n"
     ]
    }
   ],
   "source": [
    "# Naive Bayes On The Iris Dataset\n",
    "# Load a CSV file\n",
    "def load_csv(filename):\n",
    "    dataset = list()\n",
    "    with open(filename, 'r') as file:\n",
    "        csv_reader = reader(file)\n",
    "        for row in csv_reader:\n",
    "            if not row:\n",
    "                continue\n",
    "            dataset.append(row)\n",
    "    return dataset\n",
    "\n",
    "# Convert string column to float\n",
    "def str_column_to_float(dataset, column):\n",
    "    for row in dataset:\n",
    "        row[column] = float(row[column].strip())\n",
    "\n",
    "# Convert string column to integer\n",
    "def str_column_to_int(dataset, column):\n",
    "    class_values = [row[column] for row in dataset]\n",
    "    unique = set(class_values)\n",
    "    lookup = dict()\n",
    "    for i, value in enumerate(unique):\n",
    "        lookup[value] = i\n",
    "    for row in dataset:\n",
    "        row[column] = lookup[row[column]]\n",
    "    return lookup\n",
    "\n",
    "# Split a dataset into k folds\n",
    "def cross_validation_split(dataset, n_folds):\n",
    "    dataset_split = list()\n",
    "    dataset_copy = list(dataset)\n",
    "    fold_size = int(len(dataset) / n_folds)\n",
    "    for _ in range(n_folds):\n",
    "        fold = list()\n",
    "        while len(fold) < fold_size:\n",
    "            index = randrange(len(dataset_copy))\n",
    "            fold.append(dataset_copy.pop(index))\n",
    "        dataset_split.append(fold)\n",
    "    return dataset_split\n",
    "\n",
    "# Calculate accuracy percentage\n",
    "def accuracy_metric(actual, predicted):\n",
    "    correct = 0\n",
    "    for i in range(len(actual)):\n",
    "        if actual[i] == predicted[i]:\n",
    "            correct += 1\n",
    "    return correct / float(len(actual)) * 100.0\n",
    "\n",
    "# Evaluate an algorithm using a cross validation split\n",
    "def evaluate_algorithm(dataset, algorithm, n_folds, *args):\n",
    "    folds = cross_validation_split(dataset, n_folds)\n",
    "    scores = list()\n",
    "    for fold in folds:\n",
    "        train_set = list(folds)\n",
    "        train_set.remove(fold)\n",
    "        train_set = sum(train_set, [])\n",
    "        test_set = list()\n",
    "        for row in fold:\n",
    "            row_copy = list(row)\n",
    "            test_set.append(row_copy)\n",
    "            row_copy[-1] = None\n",
    "        predicted = algorithm(train_set, test_set, *args)\n",
    "        actual = [row[-1] for row in fold]\n",
    "        accuracy = accuracy_metric(actual, predicted)\n",
    "        scores.append(accuracy)\n",
    "    return scores\n",
    "\n",
    "# Split the dataset by class values, returns a dictionary\n",
    "def separate_by_class(dataset):\n",
    "    separated = dict()\n",
    "    for i in range(len(dataset)):\n",
    "        vector = dataset[i]\n",
    "        class_value = vector[-1]\n",
    "        if (class_value not in separated):\n",
    "            separated[class_value] = list()\n",
    "        separated[class_value].append(vector)\n",
    "    return separated\n",
    "\n",
    "# Calculate the mean of a list of numbers\n",
    "def mean(numbers):\n",
    "    return sum(numbers)/float(len(numbers))\n",
    "\n",
    "# Calculate the standard deviation of a list of numbers\n",
    "def stdev(numbers):\n",
    "    avg = mean(numbers)\n",
    "    variance = sum([(x-avg)**2 for x in numbers]) / float(len(numbers)-1)\n",
    "    return sqrt(variance)\n",
    "\n",
    "# Calculate the mean, stdev and count for each column in a dataset\n",
    "def summarize_dataset(dataset):\n",
    "    summaries = [(mean(column), stdev(column), len(column)) for column in zip(*dataset)]\n",
    "    del(summaries[-1])\n",
    "    return summaries\n",
    "\n",
    "# Split dataset by class then calculate statistics for each row\n",
    "def summarize_by_class(dataset):\n",
    "    separated = separate_by_class(dataset)\n",
    "    summaries = dict()\n",
    "    for class_value, rows in separated.items():\n",
    "        summaries[class_value] = summarize_dataset(rows)\n",
    "    return summaries\n",
    "\n",
    "# Calculate the Gaussian probability distribution function for x\n",
    "def calculate_probability(x, mean, stdev):\n",
    "    exponent = exp(-((x-mean)**2 / (2 * stdev**2 )))\n",
    "    return (1 / (sqrt(2 * pi) * stdev)) * exponent\n",
    "\n",
    "# Calculate the probabilities of predicting each class for a given row\n",
    "def calculate_class_probabilities(summaries, row):\n",
    "    total_rows = sum([summaries[label][0][2] for label in summaries])\n",
    "    probabilities = dict()\n",
    "    for class_value, class_summaries in summaries.items():\n",
    "        probabilities[class_value] = summaries[class_value][0][2]/float(total_rows)\n",
    "        for i in range(len(class_summaries)):\n",
    "            mean, stdev, _ = class_summaries[i]\n",
    "            probabilities[class_value] *= calculate_probability(row[i], mean, stdev)\n",
    "    return probabilities\n",
    "\n",
    "# Predict the class for a given row\n",
    "def predict(summaries, row):\n",
    "    probabilities = calculate_class_probabilities(summaries, row)\n",
    "    best_label, best_prob = None, -1\n",
    "    for class_value, probability in probabilities.items():\n",
    "        if best_label is None or probability > best_prob:\n",
    "            best_prob = probability\n",
    "            best_label = class_value\n",
    "    return best_label\n",
    "\n",
    "# Naive Bayes Algorithm\n",
    "def naive_bayes(train, test):\n",
    "    summarize = summarize_by_class(train)\n",
    "    predictions = list()\n",
    "    for row in test:\n",
    "        output = predict(summarize, row)\n",
    "        predictions.append(output)\n",
    "    return(predictions)\n",
    "\n",
    "# Test Naive Bayes on Iris Dataset\n",
    "seed(1)\n",
    "\n",
    "filename = 'iris.csv'\n",
    "dataset = load_csv(filename)[1:]\n",
    "for i in range(len(dataset[0])-1):\n",
    "    str_column_to_float(dataset, i)\n",
    "# convert class column to integers\n",
    "str_column_to_int(dataset, len(dataset[0])-1)\n",
    "# evaluate algorithm\n",
    "n_folds = 5\n",
    "scores = evaluate_algorithm(dataset, naive_bayes, n_folds)\n",
    "print('Scores: %s' % scores)\n",
    "print('Mean Accuracy: %.3f%%' % (sum(scores)/float(len(scores))))"
   ]
  },
  {
   "cell_type": "markdown",
   "id": "commercial-footwear",
   "metadata": {},
   "source": [
    "При выполнении кода выводятся средние оценки точности классификации на каждом перекрестном этапе проверки, а также средний показатель точности.\n",
    "\n",
    "Мы можем видеть, что средняя точность около 95% значительно лучше, чем базовая точность в 33%."
   ]
  },
  {
   "cell_type": "markdown",
   "id": "enormous-instrument",
   "metadata": {},
   "source": [
    "Мы можем подогнать модель по всему набору данных, а затем использовать модель для прогнозирования новых наблюдений (рядов данных).\n",
    "\n",
    "Например, модель - это просто набор вероятностей, рассчитанный с помощью функции sumrize_by_class ()."
   ]
  },
  {
   "cell_type": "code",
   "execution_count": 101,
   "id": "changing-appraisal",
   "metadata": {},
   "outputs": [],
   "source": [
    "# fit model\n",
    "model = summarize_by_class(dataset)"
   ]
  },
  {
   "cell_type": "markdown",
   "id": "norman-blogger",
   "metadata": {},
   "source": [
    "После подгонки мы можем использовать модель при вызове функции predict() со строкой, представляющей наше новое наблюдение, для прогнозирования метки класса."
   ]
  },
  {
   "cell_type": "markdown",
   "id": "ultimate-welcome",
   "metadata": {},
   "source": [
    "Мы также хотели бы знать метку класса для прогноза. Мы можем обновить функцию str_column_to_int (), чтобы печатать сопоставление имен классов строк с целыми числами, чтобы мы могли интерпретировать прогноз по модели."
   ]
  },
  {
   "cell_type": "markdown",
   "id": "together-ocean",
   "metadata": {},
   "source": [
    "Связав это вместе, полный пример подгонки наивной байесовской модели ко всему набору данных и создания прогноза для нового наблюдения приведен ниже."
   ]
  },
  {
   "cell_type": "code",
   "execution_count": 102,
   "id": "continental-blind",
   "metadata": {},
   "outputs": [
    {
     "name": "stdout",
     "output_type": "stream",
     "text": [
      "[Iris-virginica] => 0\n",
      "[Iris-setosa] => 1\n",
      "[Iris-versicolor] => 2\n",
      "Data=[5.7, 2.9, 4.2, 1.3], Predicted: 2\n"
     ]
    }
   ],
   "source": [
    "# Make Predictions with Naive Bayes On The Iris Dataset\n",
    "# Load a CSV file\n",
    "def load_csv(filename):\n",
    "    dataset = list()\n",
    "    with open(filename, 'r') as file:\n",
    "        csv_reader = reader(file)\n",
    "        for row in csv_reader:\n",
    "            if not row:\n",
    "                continue\n",
    "            dataset.append(row)\n",
    "    return dataset\n",
    "\n",
    "# Convert string column to float\n",
    "def str_column_to_float(dataset, column):\n",
    "    for row in dataset:\n",
    "        row[column] = float(row[column].strip())\n",
    "\n",
    "# Convert string column to integer\n",
    "def str_column_to_int(dataset, column):\n",
    "    class_values = [row[column] for row in dataset]\n",
    "    unique = set(class_values)\n",
    "    lookup = dict()\n",
    "    for i, value in enumerate(unique):\n",
    "        lookup[value] = i\n",
    "        print('[%s] => %d' % (value, i))\n",
    "    for row in dataset:\n",
    "        row[column] = lookup[row[column]]\n",
    "    return lookup\n",
    "\n",
    "# Split the dataset by class values, returns a dictionary\n",
    "def separate_by_class(dataset):\n",
    "    separated = dict()\n",
    "    for i in range(len(dataset)):\n",
    "        vector = dataset[i]\n",
    "        class_value = vector[-1]\n",
    "        if (class_value not in separated):\n",
    "            separated[class_value] = list()\n",
    "        separated[class_value].append(vector)\n",
    "    return separated\n",
    "\n",
    "# Calculate the mean of a list of numbers\n",
    "def mean(numbers):\n",
    "    return sum(numbers)/float(len(numbers))\n",
    "\n",
    "# Calculate the standard deviation of a list of numbers\n",
    "def stdev(numbers):\n",
    "    avg = mean(numbers)\n",
    "    variance = sum([(x-avg)**2 for x in numbers]) / float(len(numbers)-1)\n",
    "    return sqrt(variance)\n",
    "\n",
    "# Calculate the mean, stdev and count for each column in a dataset\n",
    "def summarize_dataset(dataset):\n",
    "    summaries = [(mean(column), stdev(column), len(column)) for column in zip(*dataset)]\n",
    "    del(summaries[-1])\n",
    "    return summaries\n",
    "\n",
    "# Split dataset by class then calculate statistics for each row\n",
    "def summarize_by_class(dataset):\n",
    "    separated = separate_by_class(dataset)\n",
    "    summaries = dict()\n",
    "    for class_value, rows in separated.items():\n",
    "        summaries[class_value] = summarize_dataset(rows)\n",
    "    return summaries\n",
    "\n",
    "# Calculate the Gaussian probability distribution function for x\n",
    "def calculate_probability(x, mean, stdev):\n",
    "    exponent = exp(-((x-mean)**2 / (2 * stdev**2 )))\n",
    "    return (1 / (sqrt(2 * pi) * stdev)) * exponent\n",
    "\n",
    "# Calculate the probabilities of predicting each class for a given row\n",
    "def calculate_class_probabilities(summaries, row):\n",
    "    total_rows = sum([summaries[label][0][2] for label in summaries])\n",
    "    probabilities = dict()\n",
    "    for class_value, class_summaries in summaries.items():\n",
    "        probabilities[class_value] = summaries[class_value][0][2]/float(total_rows)\n",
    "        for i in range(len(class_summaries)):\n",
    "            mean, stdev, _ = class_summaries[i]\n",
    "            probabilities[class_value] *= calculate_probability(row[i], mean, stdev)\n",
    "    return probabilities\n",
    "\n",
    "# Predict the class for a given row\n",
    "def predict(summaries, row):\n",
    "    probabilities = calculate_class_probabilities(summaries, row)\n",
    "    best_label, best_prob = None, -1\n",
    "    for class_value, probability in probabilities.items():\n",
    "        if best_label is None or probability > best_prob:\n",
    "            best_prob = probability\n",
    "            best_label = class_value\n",
    "    return best_label\n",
    "\n",
    "# Make a prediction with Naive Bayes on Iris Dataset\n",
    "filename = 'iris.csv'\n",
    "dataset = load_csv(filename)[1:]\n",
    "for i in range(len(dataset[0])-1):\n",
    "    str_column_to_float(dataset, i)\n",
    "# convert class column to integers\n",
    "str_column_to_int(dataset, len(dataset[0])-1)\n",
    "# fit model\n",
    "model = summarize_by_class(dataset)\n",
    "# define a new record\n",
    "row = [5.7,2.9,4.2,1.3]\n",
    "# predict the label\n",
    "label = predict(model, row)\n",
    "print('Data=%s, Predicted: %s' % (row, label))"
   ]
  },
  {
   "cell_type": "markdown",
   "id": "laughing-pillow",
   "metadata": {},
   "source": [
    "## Naive Bayes in scikit-learn"
   ]
  },
  {
   "cell_type": "code",
   "execution_count": 103,
   "id": "hungry-society",
   "metadata": {},
   "outputs": [
    {
     "name": "stdout",
     "output_type": "stream",
     "text": [
      "Number of mislabeled points out of a total 75 points : 4\n"
     ]
    }
   ],
   "source": [
    "X, y = load_iris(return_X_y=True)\n",
    "X_train, X_test, y_train, y_test = train_test_split(X, y, test_size=0.5, random_state=0)\n",
    "gnb = GaussianNB()\n",
    "y_pred = gnb.fit(X_train, y_train).predict(X_test)\n",
    "print(\"Number of mislabeled points out of a total %d points : %d\" % (X_test.shape[0], (y_test != y_pred).sum()))"
   ]
  },
  {
   "cell_type": "code",
   "execution_count": 104,
   "id": "better-cargo",
   "metadata": {},
   "outputs": [
    {
     "data": {
      "text/plain": [
       "array([2, 1, 0, 2, 0, 2, 0, 1, 1, 1, 1, 1, 1, 1, 1, 0, 1, 1, 0, 0, 2, 1,\n",
       "       0, 0, 2, 0, 0, 1, 1, 0, 2, 1, 0, 2, 2, 1, 0, 1, 1, 1, 2, 0, 2, 0,\n",
       "       0, 1, 2, 2, 1, 2, 1, 2, 1, 1, 2, 1, 1, 2, 1, 2, 1, 0, 2, 1, 1, 1,\n",
       "       1, 2, 0, 0, 2, 1, 0, 0, 1])"
      ]
     },
     "execution_count": 104,
     "metadata": {},
     "output_type": "execute_result"
    }
   ],
   "source": [
    "#Прогнозный класс для тестового набора\n",
    "y_pred"
   ]
  },
  {
   "cell_type": "markdown",
   "id": "amateur-execution",
   "metadata": {},
   "source": [
    "Оценка точности модели."
   ]
  },
  {
   "cell_type": "code",
   "execution_count": 105,
   "id": "emerging-cattle",
   "metadata": {},
   "outputs": [
    {
     "name": "stdout",
     "output_type": "stream",
     "text": [
      "Правильность на обучающем наборе: 0.97\n"
     ]
    }
   ],
   "source": [
    "print('Правильность на обучающем наборе: {:.2f}'.format(gnb.fit(X_train, y_train).score(X_train, y_train)))"
   ]
  },
  {
   "cell_type": "code",
   "execution_count": 106,
   "id": "expressed-diagnosis",
   "metadata": {},
   "outputs": [
    {
     "name": "stdout",
     "output_type": "stream",
     "text": [
      "Правильность на тестовом наборе: 0.95\n"
     ]
    }
   ],
   "source": [
    "print('Правильность на тестовом наборе: {:.2f}'.format(gnb.fit(X_test, y_test).score(X_test, y_test)))"
   ]
  },
  {
   "cell_type": "markdown",
   "id": "hourly-coffee",
   "metadata": {},
   "source": [
    "## Деревья решений для классификации"
   ]
  },
  {
   "cell_type": "markdown",
   "id": "korean-fitness",
   "metadata": {},
   "source": [
    "Теория: \n",
    "* Python_i_mashinnoe_obuchenie: с. 93-103 \n",
    "* ESLII_print12: с. 305-317\n",
    "* Тетрадь №2: с. 33-45\n",
    "* https://medium.com/diogo-menezes-borges/a-breath-of-fresh-air-with-decision-trees-e660455bbfc8\n",
    "* https://machinelearningmastery.com/implement-decision-tree-algorithm-scratch-python/\n",
    "* [A._Myuller,_S._Gvido]_Vvedenie_v_mashinnoe_obuche - с. 85-100"
   ]
  },
  {
   "cell_type": "markdown",
   "id": "spiritual-advocacy",
   "metadata": {},
   "source": [
    "Импортируем набор данных"
   ]
  },
  {
   "cell_type": "code",
   "execution_count": 107,
   "id": "occupational-emperor",
   "metadata": {},
   "outputs": [],
   "source": [
    "iris_dataset = load_iris()"
   ]
  },
  {
   "cell_type": "markdown",
   "id": "chemical-walnut",
   "metadata": {},
   "source": [
    "Разобьем данные на обучающую и тестовую части."
   ]
  },
  {
   "cell_type": "code",
   "execution_count": 108,
   "id": "daily-blair",
   "metadata": {},
   "outputs": [],
   "source": [
    "X_train, X_test, y_train, y_test = train_test_split(\n",
    "    iris_dataset['data'], iris_dataset['target'], random_state=0)"
   ]
  },
  {
   "cell_type": "markdown",
   "id": "related-student",
   "metadata": {},
   "source": [
    "Вызовем функцию DecisionTreeClassifier из модуля tree библиотеки (пакета) sklearn. "
   ]
  },
  {
   "cell_type": "markdown",
   "id": "floppy-spelling",
   "metadata": {},
   "source": [
    "Теперь обучаем на наборе данных об ирисах классификатор класса DecisionTreeClassifier."
   ]
  },
  {
   "cell_type": "code",
   "execution_count": 109,
   "id": "practical-documentation",
   "metadata": {},
   "outputs": [
    {
     "name": "stdout",
     "output_type": "stream",
     "text": [
      "Правильность на обучающем наборе: 1.000\n",
      "Правильность на тестовом наборе: 0.974\n"
     ]
    }
   ],
   "source": [
    "tree = DecisionTreeClassifier(random_state=0)\n",
    "tree.fit(X_train, y_train)\n",
    "print(\"Правильность на обучающем наборе: {:.3f}\".format(tree.score(X_train, y_train)))\n",
    "print(\"Правильность на тестовом наборе: {:.3f}\".format(tree.score(X_test, y_test)))"
   ]
  },
  {
   "cell_type": "markdown",
   "id": "gothic-suite",
   "metadata": {},
   "source": [
    "Чистые (необрезанные) деревья склонны к переобучению и плохо обобщают результат на новые данные. Поэтому ограничивают глубину дерева, что приводит к более низкой правильности на обучающем наборе, но улучшает правильность на тестовом наборе."
   ]
  },
  {
   "cell_type": "code",
   "execution_count": 110,
   "id": "religious-closer",
   "metadata": {},
   "outputs": [
    {
     "name": "stdout",
     "output_type": "stream",
     "text": [
      "Правильность на обучающем наборе: 0.982\n",
      "Правильность на тестовом наборе: 0.974\n"
     ]
    }
   ],
   "source": [
    "tree = DecisionTreeClassifier(max_depth=3, random_state=0)\n",
    "tree.fit(X_train, y_train)\n",
    "\n",
    "print(\"Правильность на обучающем наборе: {:.3f}\".format(tree.score(X_train, y_train)))\n",
    "print(\"Правильность на тестовом наборе: {:.3f}\".format(tree.score(X_test, y_test)))"
   ]
  },
  {
   "cell_type": "code",
   "execution_count": 111,
   "id": "discrete-yeast",
   "metadata": {},
   "outputs": [
    {
     "name": "stdout",
     "output_type": "stream",
     "text": [
      "Форма массива X_new: (1, 4)\n"
     ]
    }
   ],
   "source": [
    "#Зададим параметры некоторого ириса, сорт которого мы хотим узнать.\n",
    "X_new = np.array([[5, 2.9, 1, 0.2]])\n",
    "print(\"Форма массива X_new:\", X_new.shape)"
   ]
  },
  {
   "cell_type": "markdown",
   "id": "thousand-norway",
   "metadata": {},
   "source": [
    "Чтобы сделать прогноз, вызываем метод predict объекта tree."
   ]
  },
  {
   "cell_type": "code",
   "execution_count": 112,
   "id": "trying-retro",
   "metadata": {},
   "outputs": [
    {
     "name": "stdout",
     "output_type": "stream",
     "text": [
      "Прогноз: [0]\n",
      "Спрогнозированная метка: ['setosa']\n"
     ]
    }
   ],
   "source": [
    "prediction = tree.predict(X_new)\n",
    "print(\"Прогноз:\", prediction)\n",
    "print(\"Спрогнозированная метка:\",\n",
    "       iris_dataset['target_names'][prediction])"
   ]
  },
  {
   "cell_type": "markdown",
   "id": "cordless-transaction",
   "metadata": {},
   "source": [
    "## Визуализация дерева решений в Python"
   ]
  },
  {
   "cell_type": "markdown",
   "id": "respective-radar",
   "metadata": {},
   "source": [
    "### Построение границ решения дерева решений"
   ]
  },
  {
   "cell_type": "markdown",
   "id": "saving-pilot",
   "metadata": {},
   "source": [
    "Деревья решений могут создавать сложные границы решения путем деления пространства\n",
    "признаков на прямоугольники. Однако мы должны быть осторожными,\n",
    "поскольку чем глубже дерево решений, тем сложнее становится граница решения,\n",
    "что может легко закончиться переобучением. Теперь, используя scikit - learn, натренируем дерево решений с максимальной глубиной 3, применив в качестве критерия\n",
    "неоднородности энтропию. Хотя для целей визуализации может понадобиться\n",
    "шкалирование признаков, отметим, что масштабирование признаков не является\n",
    "необходимой составной частью алгоритмов деревьев решений. Соответствующий\n",
    "исходный код выглядит следующим образом:"
   ]
  },
  {
   "cell_type": "code",
   "execution_count": 113,
   "id": "parliamentary-organic",
   "metadata": {
    "collapsed": false,
    "jupyter": {
     "outputs_hidden": false
    }
   },
   "outputs": [
    {
     "name": "stdout",
     "output_type": "stream",
     "text": [
      "Class labels: [0 1 2]\n"
     ]
    }
   ],
   "source": [
    "iris = datasets.load_iris()\n",
    "X = iris.data[:, [2, 3]]\n",
    "y = iris.target\n",
    "\n",
    "print('Class labels:', np.unique(y))"
   ]
  },
  {
   "cell_type": "code",
   "execution_count": 114,
   "id": "unlikely-washington",
   "metadata": {
    "collapsed": false,
    "jupyter": {
     "outputs_hidden": false
    }
   },
   "outputs": [],
   "source": [
    "X_train, X_test, y_train, y_test = train_test_split(\n",
    "    X, y, test_size=0.3, random_state=0)"
   ]
  },
  {
   "cell_type": "code",
   "execution_count": 115,
   "id": "printable-niagara",
   "metadata": {
    "collapsed": false,
    "jupyter": {
     "outputs_hidden": false
    }
   },
   "outputs": [
    {
     "data": {
      "image/png": "[encoded data removed]",
      "text/plain": [
       "<Figure size 432x288 with 1 Axes>"
      ]
     },
     "metadata": {
      "needs_background": "light"
     },
     "output_type": "display_data"
    }
   ],
   "source": [
    "tree = DecisionTreeClassifier(criterion='entropy', max_depth=3, random_state=0)\n",
    "tree.fit(X_train, y_train)\n",
    "\n",
    "X_combined = np.vstack((X_train, X_test))\n",
    "y_combined = np.hstack((y_train, y_test))\n",
    "plot_decision_regions(X_combined, y_combined, \n",
    "                      clf=tree)\n",
    "\n",
    "plt.xlabel('petal length [cm]')\n",
    "plt.ylabel('petal width [cm]')\n",
    "plt.legend(loc='upper left')\n",
    "plt.tight_layout()\n",
    "# plt.savefig('./figures/decision_tree_decision.png', dpi=300)\n",
    "plt.show()"
   ]
  },
  {
   "cell_type": "markdown",
   "id": "permanent-prevention",
   "metadata": {},
   "source": [
    "После выполнения приведенного выше примера получаем типичные ось - параллельные границы решения дерева решений."
   ]
  },
  {
   "cell_type": "markdown",
   "id": "indoor-google",
   "metadata": {},
   "source": [
    "### Построение дерева решений"
   ]
  },
  {
   "cell_type": "code",
   "execution_count": 116,
   "id": "disciplinary-raleigh",
   "metadata": {
    "collapsed": false,
    "jupyter": {
     "outputs_hidden": false
    }
   },
   "outputs": [],
   "source": [
    "export_graphviz(tree, \n",
    "                out_file='tree.dot', \n",
    "                feature_names=['petal length', 'petal width'])"
   ]
  },
  {
   "cell_type": "code",
   "execution_count": 117,
   "id": "minimal-classification",
   "metadata": {},
   "outputs": [],
   "source": [
    "#!dot -Tpng -o tree.png tree.dot"
   ]
  },
  {
   "cell_type": "markdown",
   "id": "athletic-cement",
   "metadata": {},
   "source": [
    "В результате, в рабочей папке появился png файл с изображением дерева решений."
   ]
  },
  {
   "cell_type": "code",
   "execution_count": 118,
   "id": "permanent-boston",
   "metadata": {},
   "outputs": [],
   "source": [
    "#conda install -c anaconda graphviz"
   ]
  },
  {
   "cell_type": "code",
   "execution_count": 119,
   "id": "wanted-fluid",
   "metadata": {},
   "outputs": [],
   "source": [
    "#pip install pydotplus"
   ]
  },
  {
   "cell_type": "code",
   "execution_count": 120,
   "id": "threatened-drunk",
   "metadata": {},
   "outputs": [],
   "source": [
    "dot_data = export_graphviz(\n",
    "        tree, \n",
    "        out_file=None,\n",
    "        # the parameters below are new in sklearn 0.18\n",
    "        feature_names=['petal length', 'petal width'],  \n",
    "        class_names=['setosa', 'versicolor', 'virginica'],  \n",
    "        filled=True,\n",
    "        rounded=True)"
   ]
  },
  {
   "cell_type": "code",
   "execution_count": 121,
   "id": "conceptual-hypothetical",
   "metadata": {},
   "outputs": [
    {
     "data": {
      "image/png": "[encoded data removed]",
      "text/plain": [
       "<IPython.core.display.Image object>"
      ]
     },
     "metadata": {},
     "output_type": "display_data"
    }
   ],
   "source": [
    "graph = pydotplus.graph_from_dot_data(dot_data)  \n",
    "display(Image(graph.create_png()))"
   ]
  },
  {
   "cell_type": "markdown",
   "id": "proof-crawford",
   "metadata": {},
   "source": [
    "Анализируя дерево решений, которое мы создали при помощи программы GгaphViz, теперь можно удобным образом проследить расщепления, которые дерево решений определило, исходя из нашего тренировочного набора данных. Начав со 105 образцов в корне, мы расщепили его на два дочерних узла с 34 и 71 образцами каждое, используя точку отсечения с шириной лепестка <= 0.75 см. После первого расщепления мы видим, что левый дочерний узел уже однороден и содержит только образцы из класса ириса щетинистого (энтропия = О). Затем дальнейшие расщепления с правой стороны используются для разделения образцов из классов ириса разноцветного и ириса виргинского."
   ]
  },
  {
   "cell_type": "markdown",
   "id": "coordinate-recorder",
   "metadata": {},
   "source": [
    "# How To Implement The Decision Tree Algorithm From Scratch In Python"
   ]
  },
  {
   "cell_type": "markdown",
   "id": "charming-operation",
   "metadata": {},
   "source": [
    "https://machinelearningmastery.com/implement-decision-tree-algorithm-scratch-python/"
   ]
  }
 ],
 "metadata": {
  "kernelspec": {
   "display_name": "Python 3 (ipykernel)",
   "language": "python",
   "name": "python3"
  },
  "language_info": {
   "codemirror_mode": {
    "name": "ipython",
    "version": 3
   },
   "file_extension": ".py",
   "mimetype": "text/x-python",
   "name": "python",
   "nbconvert_exporter": "python",
   "pygments_lexer": "ipython3",
   "version": "3.7.4"
  }
 },
 "nbformat": 4,
 "nbformat_minor": 5
}
