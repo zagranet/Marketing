{
 "cells": [
  {
   "cell_type": "markdown",
   "id": "color-hacker",
   "metadata": {},
   "source": [
    "# Conjoint Analysis"
   ]
  },
  {
   "cell_type": "code",
   "execution_count": 26,
   "id": "alpine-skiing",
   "metadata": {},
   "outputs": [],
   "source": [
    "# http://www.askanalytics.in/2015/11/linear-conjoint-analysis-simplified.html"
   ]
  },
  {
   "cell_type": "code",
   "execution_count": 25,
   "id": "elementary-sponsorship",
   "metadata": {},
   "outputs": [],
   "source": [
    "# http://www.askanalytics.in/p/conjoint-analysis.html"
   ]
  },
  {
   "cell_type": "code",
   "execution_count": 23,
   "id": "pregnant-sarah",
   "metadata": {},
   "outputs": [],
   "source": [
    "# https://github.com/victor7246/Academic-Projects/tree/master/Conjoint%20Analysis"
   ]
  },
  {
   "cell_type": "code",
   "execution_count": 24,
   "id": "fuzzy-polish",
   "metadata": {},
   "outputs": [],
   "source": [
    "# https://github.com/bayuprasetyaa/ConjointAnalysis"
   ]
  },
  {
   "cell_type": "code",
   "execution_count": 1,
   "id": "sought-intellectual",
   "metadata": {},
   "outputs": [],
   "source": [
    "# https://ariepratama.github.io/How-to-do-conjoint-analysis-in-python/"
   ]
  },
  {
   "cell_type": "code",
   "execution_count": 2,
   "id": "frozen-advantage",
   "metadata": {},
   "outputs": [],
   "source": [
    "# https://github.com/JanisIranee/Traditional-Conjoint-Analysis-with-Python"
   ]
  },
  {
   "cell_type": "markdown",
   "id": "racial-statistics",
   "metadata": {},
   "source": [
    "Изучается набор из нескольких конкурирующих продуктов. Эти продукты обладают полезными характеристиками (факторами). Например, при выборе наилучшего варианта тюбика для зубной пасты аналитик может ограничиться рассмотрением следующих факторов:\n",
    "* размер тюбика (tube);\n",
    "* размер колпачка (cap);\n",
    "* материал, из которого изготовлен тюбик (material);\n",
    "* рисунок на тюбике (color)."
   ]
  },
  {
   "cell_type": "markdown",
   "id": "acquired-kansas",
   "metadata": {},
   "source": [
    "Рассматриваются следующие возможные значения факторов:\n",
    "* размер тюбика (tube):\n",
    "    * большой (tube_1);\n",
    "    * маленький (tube_2);\n",
    "* размер колпачка (cap):\n",
    "    * большой (cap_1);\n",
    "    * маленький (cap_2);\n",
    "* материал, из которого изготовлен тюбик (material):\n",
    "    * алюминий (material_1);\n",
    "    * пластик (material_2);\n",
    "* рисунок на тюбике (color):\n",
    "    * белый, синий и красный цвета (color_1);\n",
    "    * белый и синий цвета (color_2);\n",
    "    * рисунок (color_3)."
   ]
  },
  {
   "cell_type": "code",
   "execution_count": 135,
   "id": "induced-theme",
   "metadata": {},
   "outputs": [
    {
     "data": {
      "text/plain": [
       "{'tube_n': 'размер тюбика',\n",
       " 'cap_n': 'размер колпачка',\n",
       " 'material_n': 'материал, из которого изготовлен тюбик',\n",
       " 'color_n': 'рисунок на тюбике'}"
      ]
     },
     "execution_count": 135,
     "metadata": {},
     "output_type": "execute_result"
    }
   ],
   "source": [
    "# Создадим словарь факторов\n",
    "FNames={'tube_n':'размер тюбика','cap_n':'размер колпачка','material_n':'материал, из которого изготовлен тюбик','color_n':'рисунок на тюбике'}\n",
    "FNames"
   ]
  },
  {
   "cell_type": "code",
   "execution_count": 136,
   "id": "ecological-phrase",
   "metadata": {},
   "outputs": [
    {
     "data": {
      "text/plain": [
       "{'tube_g': {'tube_1_n': 'большой', 'tube_2_n': 'маленький'},\n",
       " 'cap_g': {'cap_1_n': 'большой', 'cap_2_n': 'маленький'},\n",
       " 'material_g': {'material_1_n': 'алюминий', 'material_2_n': 'пластик'},\n",
       " 'color_g': {'color_1_n': 'белый, синий и красный цвета',\n",
       "  'color_2_n': 'белый и синий цвета',\n",
       "  'color_3_n': 'рисунок'}}"
      ]
     },
     "execution_count": 136,
     "metadata": {},
     "output_type": "execute_result"
    }
   ],
   "source": [
    "# Создадим словарь значений факторов\n",
    "FGrad={'tube_g':{'tube_1_n':'большой','tube_2_n':'маленький'},'cap_g':{'cap_1_n':'большой','cap_2_n':'маленький'},'material_g':{'material_1_n':'алюминий','material_2_n':'пластик'},'color_g':{'color_1_n':'белый, синий и красный цвета','color_2_n':'белый и синий цвета','color_3_n':'рисунок'}}\n",
    "FGrad"
   ]
  },
  {
   "cell_type": "markdown",
   "id": "proved-secretary",
   "metadata": {},
   "source": [
    "В файле data приведены варианты тюбика для зубной пасты (pasta01 - pasta08) с их рейтингами (от 1 до 10, 1 - самый высокий), которые поставили 30 опрошенных респондентов."
   ]
  },
  {
   "cell_type": "markdown",
   "id": "pointed-stanley",
   "metadata": {},
   "source": [
    "Отметим, что всего возможно 2x2x2x3=24 варианта тюбика для зубной пасты."
   ]
  },
  {
   "cell_type": "markdown",
   "id": "measured-parker",
   "metadata": {},
   "source": [
    "Также отметим, что соблюдено правило создания фиктивных переменных, а именно для переменной, имеющей n категорий, число фиктивных переменных составит (n-1)."
   ]
  },
  {
   "cell_type": "code",
   "execution_count": 137,
   "id": "unknown-stability",
   "metadata": {},
   "outputs": [],
   "source": [
    "import os\n",
    "os.chdir(\"C:/Users/HP/Documents/analysis/Marketing/data/\")"
   ]
  },
  {
   "cell_type": "code",
   "execution_count": 138,
   "id": "alone-juice",
   "metadata": {},
   "outputs": [
    {
     "data": {
      "text/html": [
       "<div>\n",
       "<style scoped>\n",
       "    .dataframe tbody tr th:only-of-type {\n",
       "        vertical-align: middle;\n",
       "    }\n",
       "\n",
       "    .dataframe tbody tr th {\n",
       "        vertical-align: top;\n",
       "    }\n",
       "\n",
       "    .dataframe thead th {\n",
       "        text-align: right;\n",
       "    }\n",
       "</style>\n",
       "<table border=\"1\" class=\"dataframe\">\n",
       "  <thead>\n",
       "    <tr style=\"text-align: right;\">\n",
       "      <th></th>\n",
       "      <th>pasta</th>\n",
       "      <th>tube_1</th>\n",
       "      <th>cap_1</th>\n",
       "      <th>material_1</th>\n",
       "      <th>color_1</th>\n",
       "      <th>color_2</th>\n",
       "      <th>rating</th>\n",
       "    </tr>\n",
       "  </thead>\n",
       "  <tbody>\n",
       "    <tr>\n",
       "      <th>0</th>\n",
       "      <td>pasta01</td>\n",
       "      <td>1</td>\n",
       "      <td>0</td>\n",
       "      <td>1</td>\n",
       "      <td>0</td>\n",
       "      <td>1</td>\n",
       "      <td>10</td>\n",
       "    </tr>\n",
       "    <tr>\n",
       "      <th>1</th>\n",
       "      <td>pasta01</td>\n",
       "      <td>1</td>\n",
       "      <td>0</td>\n",
       "      <td>1</td>\n",
       "      <td>0</td>\n",
       "      <td>1</td>\n",
       "      <td>10</td>\n",
       "    </tr>\n",
       "    <tr>\n",
       "      <th>2</th>\n",
       "      <td>pasta01</td>\n",
       "      <td>1</td>\n",
       "      <td>0</td>\n",
       "      <td>1</td>\n",
       "      <td>0</td>\n",
       "      <td>1</td>\n",
       "      <td>5</td>\n",
       "    </tr>\n",
       "    <tr>\n",
       "      <th>3</th>\n",
       "      <td>pasta01</td>\n",
       "      <td>1</td>\n",
       "      <td>0</td>\n",
       "      <td>1</td>\n",
       "      <td>0</td>\n",
       "      <td>1</td>\n",
       "      <td>10</td>\n",
       "    </tr>\n",
       "    <tr>\n",
       "      <th>4</th>\n",
       "      <td>pasta01</td>\n",
       "      <td>1</td>\n",
       "      <td>0</td>\n",
       "      <td>1</td>\n",
       "      <td>0</td>\n",
       "      <td>1</td>\n",
       "      <td>3</td>\n",
       "    </tr>\n",
       "  </tbody>\n",
       "</table>\n",
       "</div>"
      ],
      "text/plain": [
       "     pasta  tube_1  cap_1  material_1  color_1  color_2  rating\n",
       "0  pasta01       1      0           1        0        1      10\n",
       "1  pasta01       1      0           1        0        1      10\n",
       "2  pasta01       1      0           1        0        1       5\n",
       "3  pasta01       1      0           1        0        1      10\n",
       "4  pasta01       1      0           1        0        1       3"
      ]
     },
     "execution_count": 138,
     "metadata": {},
     "output_type": "execute_result"
    }
   ],
   "source": [
    "from pandas import read_csv\n",
    "df = read_csv('conjoint_data.csv',delimiter=';')\n",
    "df.head()"
   ]
  },
  {
   "cell_type": "code",
   "execution_count": 139,
   "id": "deluxe-oxford",
   "metadata": {},
   "outputs": [
    {
     "data": {
      "text/plain": [
       "pasta         0\n",
       "tube_1        0\n",
       "cap_1         0\n",
       "material_1    0\n",
       "color_1       0\n",
       "color_2       0\n",
       "rating        0\n",
       "dtype: int64"
      ]
     },
     "execution_count": 139,
     "metadata": {},
     "output_type": "execute_result"
    }
   ],
   "source": [
    "# checking for empty data\n",
    "df.isnull().sum()"
   ]
  },
  {
   "cell_type": "code",
   "execution_count": 140,
   "id": "multiple-junior",
   "metadata": {},
   "outputs": [
    {
     "data": {
      "text/html": [
       "<table class=\"simpletable\">\n",
       "<caption>OLS Regression Results</caption>\n",
       "<tr>\n",
       "  <th>Dep. Variable:</th>         <td>rating</td>      <th>  R-squared:         </th> <td>   0.179</td>\n",
       "</tr>\n",
       "<tr>\n",
       "  <th>Model:</th>                   <td>OLS</td>       <th>  Adj. R-squared:    </th> <td>   0.162</td>\n",
       "</tr>\n",
       "<tr>\n",
       "  <th>Method:</th>             <td>Least Squares</td>  <th>  F-statistic:       </th> <td>   10.21</td>\n",
       "</tr>\n",
       "<tr>\n",
       "  <th>Date:</th>             <td>Thu, 12 Aug 2021</td> <th>  Prob (F-statistic):</th> <td>7.23e-09</td>\n",
       "</tr>\n",
       "<tr>\n",
       "  <th>Time:</th>                 <td>14:13:34</td>     <th>  Log-Likelihood:    </th> <td> -536.47</td>\n",
       "</tr>\n",
       "<tr>\n",
       "  <th>No. Observations:</th>      <td>   240</td>      <th>  AIC:               </th> <td>   1085.</td>\n",
       "</tr>\n",
       "<tr>\n",
       "  <th>Df Residuals:</th>          <td>   234</td>      <th>  BIC:               </th> <td>   1106.</td>\n",
       "</tr>\n",
       "<tr>\n",
       "  <th>Df Model:</th>              <td>     5</td>      <th>                     </th>     <td> </td>   \n",
       "</tr>\n",
       "<tr>\n",
       "  <th>Covariance Type:</th>      <td>nonrobust</td>    <th>                     </th>     <td> </td>   \n",
       "</tr>\n",
       "</table>\n",
       "<table class=\"simpletable\">\n",
       "<tr>\n",
       "       <td></td>         <th>coef</th>     <th>std err</th>      <th>t</th>      <th>P>|t|</th>  <th>[0.025</th>    <th>0.975]</th>  \n",
       "</tr>\n",
       "<tr>\n",
       "  <th>const</th>      <td>    4.1000</td> <td>    0.391</td> <td>   10.479</td> <td> 0.000</td> <td>    3.329</td> <td>    4.871</td>\n",
       "</tr>\n",
       "<tr>\n",
       "  <th>tube_1</th>     <td>    1.4000</td> <td>    0.296</td> <td>    4.733</td> <td> 0.000</td> <td>    0.817</td> <td>    1.983</td>\n",
       "</tr>\n",
       "<tr>\n",
       "  <th>cap_1</th>      <td>   -0.1500</td> <td>    0.296</td> <td>   -0.507</td> <td> 0.613</td> <td>   -0.733</td> <td>    0.433</td>\n",
       "</tr>\n",
       "<tr>\n",
       "  <th>material_1</th> <td>    1.4500</td> <td>    0.296</td> <td>    4.902</td> <td> 0.000</td> <td>    0.867</td> <td>    2.033</td>\n",
       "</tr>\n",
       "<tr>\n",
       "  <th>color_1</th>    <td>   -0.3500</td> <td>    0.362</td> <td>   -0.966</td> <td> 0.335</td> <td>   -1.064</td> <td>    0.364</td>\n",
       "</tr>\n",
       "<tr>\n",
       "  <th>color_2</th>    <td>    0.4000</td> <td>    0.418</td> <td>    0.956</td> <td> 0.340</td> <td>   -0.424</td> <td>    1.224</td>\n",
       "</tr>\n",
       "</table>\n",
       "<table class=\"simpletable\">\n",
       "<tr>\n",
       "  <th>Omnibus:</th>       <td>11.405</td> <th>  Durbin-Watson:     </th> <td>   2.042</td>\n",
       "</tr>\n",
       "<tr>\n",
       "  <th>Prob(Omnibus):</th> <td> 0.003</td> <th>  Jarque-Bera (JB):  </th> <td>  11.883</td>\n",
       "</tr>\n",
       "<tr>\n",
       "  <th>Skew:</th>          <td> 0.518</td> <th>  Prob(JB):          </th> <td> 0.00263</td>\n",
       "</tr>\n",
       "<tr>\n",
       "  <th>Kurtosis:</th>      <td> 2.662</td> <th>  Cond. No.          </th> <td>    5.80</td>\n",
       "</tr>\n",
       "</table><br/><br/>Notes:<br/>[1] Standard Errors assume that the covariance matrix of the errors is correctly specified."
      ],
      "text/plain": [
       "<class 'statsmodels.iolib.summary.Summary'>\n",
       "\"\"\"\n",
       "                            OLS Regression Results                            \n",
       "==============================================================================\n",
       "Dep. Variable:                 rating   R-squared:                       0.179\n",
       "Model:                            OLS   Adj. R-squared:                  0.162\n",
       "Method:                 Least Squares   F-statistic:                     10.21\n",
       "Date:                Thu, 12 Aug 2021   Prob (F-statistic):           7.23e-09\n",
       "Time:                        14:13:34   Log-Likelihood:                -536.47\n",
       "No. Observations:                 240   AIC:                             1085.\n",
       "Df Residuals:                     234   BIC:                             1106.\n",
       "Df Model:                           5                                         \n",
       "Covariance Type:            nonrobust                                         \n",
       "==============================================================================\n",
       "                 coef    std err          t      P>|t|      [0.025      0.975]\n",
       "------------------------------------------------------------------------------\n",
       "const          4.1000      0.391     10.479      0.000       3.329       4.871\n",
       "tube_1         1.4000      0.296      4.733      0.000       0.817       1.983\n",
       "cap_1         -0.1500      0.296     -0.507      0.613      -0.733       0.433\n",
       "material_1     1.4500      0.296      4.902      0.000       0.867       2.033\n",
       "color_1       -0.3500      0.362     -0.966      0.335      -1.064       0.364\n",
       "color_2        0.4000      0.418      0.956      0.340      -0.424       1.224\n",
       "==============================================================================\n",
       "Omnibus:                       11.405   Durbin-Watson:                   2.042\n",
       "Prob(Omnibus):                  0.003   Jarque-Bera (JB):               11.883\n",
       "Skew:                           0.518   Prob(JB):                      0.00263\n",
       "Kurtosis:                       2.662   Cond. No.                         5.80\n",
       "==============================================================================\n",
       "\n",
       "Notes:\n",
       "[1] Standard Errors assume that the covariance matrix of the errors is correctly specified.\n",
       "\"\"\""
      ]
     },
     "execution_count": 140,
     "metadata": {},
     "output_type": "execute_result"
    }
   ],
   "source": [
    "#Estimate Main Effects with a linear regression\n",
    "import statsmodels.api as sm\n",
    "\n",
    "y=df.rating\n",
    "x=df[[x for x in df.columns if x != 'rating' and x != 'pasta']]\n",
    "x=sm.add_constant(x)\n",
    "\n",
    "linearRegression = sm.OLS(y,x).fit()\n",
    "linearRegression.summary()"
   ]
  },
  {
   "cell_type": "markdown",
   "id": "dimensional-comment",
   "metadata": {},
   "source": [
    "The beta coefficients of the regression equation are called \"Part Worth Utility\" (PWU) of the variants of variables. Large part-worth utilities are assigned to the most preferred levels, and small part-worth utilities are assigned to the least preferred levels."
   ]
  },
  {
   "cell_type": "markdown",
   "id": "unlimited-excuse",
   "metadata": {},
   "source": [
    "Однако учтем, что используются фиктивные переменные, коэффициенты регрессии при которых интерпретируются относительно базовой градации переменной."
   ]
  },
  {
   "cell_type": "markdown",
   "id": "front-surprise",
   "metadata": {},
   "source": [
    "Now we calculate the utility of each variant using part worth utilities. We can consider solving following sets of equations:\n",
    "* размер тюбика (tube):\n",
    "    * tube_1 - tube_2 = coef_tube_1\n",
    "    * tube_1 + tube_2 = 0\n",
    "* размер колпачка (cap):\n",
    "    * cap_1 - cap_2 = coef_cap_1\n",
    "    * cap_1 + cap_2 = 0\n",
    "* материал, из которого изготовлен тюбик (material):\n",
    "    * material_1 - material_2 = coef_material_1\n",
    "    * material_1 + material_2 = 0\n",
    "* рисунок на тюбике (color):\n",
    "    * color_1 - color_3 = coef_color_1\n",
    "    * color_2 - color_3 = coef_color_2\n",
    "    * color_1 + color_2 + color_3 = 0"
   ]
  },
  {
   "cell_type": "code",
   "execution_count": 141,
   "id": "mediterranean-divide",
   "metadata": {},
   "outputs": [
    {
     "data": {
      "text/plain": [
       "const         4.10\n",
       "tube_1        1.40\n",
       "cap_1        -0.15\n",
       "material_1    1.45\n",
       "color_1      -0.35\n",
       "color_2       0.40\n",
       "dtype: float64"
      ]
     },
     "execution_count": 141,
     "metadata": {},
     "output_type": "execute_result"
    }
   ],
   "source": [
    "linearRegression.params"
   ]
  },
  {
   "cell_type": "code",
   "execution_count": 142,
   "id": "elder-glucose",
   "metadata": {},
   "outputs": [
    {
     "name": "stdout",
     "output_type": "stream",
     "text": [
      "размер тюбика: большой: 0.6999999999999991\n",
      "размер тюбика: маленький: -0.6999999999999991\n"
     ]
    }
   ],
   "source": [
    "# полезности размеров тюбика (tube)\n",
    "A = np.array([[1, -1], [1, 1]])\n",
    "B = np.array([linearRegression.params.tube_1, 0])\n",
    "X_tube = np.linalg.solve(A,B)\n",
    "[tube_1_ut, tube_2_ut]=X_tube\n",
    "print(FNames['tube_n'] +': '+ FGrad['tube_g']['tube_1_n'] +':',tube_1_ut)\n",
    "print(FNames['tube_n'] +': '+ FGrad['tube_g']['tube_2_n'] +':',tube_2_ut)"
   ]
  },
  {
   "cell_type": "code",
   "execution_count": 170,
   "id": "realistic-immigration",
   "metadata": {},
   "outputs": [
    {
     "data": {
      "text/plain": [
       "{'tube_1_n': 0.6999999999999991, 'tube_2_n': -0.6999999999999991}"
      ]
     },
     "execution_count": 170,
     "metadata": {},
     "output_type": "execute_result"
    }
   ],
   "source": [
    "# Составим словарь градаций фактора tube и их полезностей\n",
    "tube_ut={'tube_1_n': tube_1_ut,'tube_2_n': tube_2_ut}\n",
    "tube_ut"
   ]
  },
  {
   "cell_type": "code",
   "execution_count": 144,
   "id": "informational-oliver",
   "metadata": {},
   "outputs": [
    {
     "name": "stdout",
     "output_type": "stream",
     "text": [
      "размер колпачка: большой: -0.07500000000000026\n",
      "размер колпачка: маленький: 0.07500000000000026\n"
     ]
    }
   ],
   "source": [
    "# полезности размеров колпачка (cap)\n",
    "A = np.array([[1, -1], [1, 1]])\n",
    "B = np.array([linearRegression.params.cap_1, 0])\n",
    "X_cap = np.linalg.solve(A,B)\n",
    "[cap_1_ut, cap_2_ut]=X_cap\n",
    "print(FNames['cap_n'] +': '+ FGrad['cap_g']['cap_1_n'] +':',cap_1_ut)\n",
    "print(FNames['cap_n'] +': '+ FGrad['cap_g']['cap_2_n'] +':',cap_2_ut)"
   ]
  },
  {
   "cell_type": "code",
   "execution_count": 172,
   "id": "northern-stuart",
   "metadata": {},
   "outputs": [
    {
     "data": {
      "text/plain": [
       "{'cap_1_n': -0.07500000000000026, 'cap_2_n': 0.07500000000000026}"
      ]
     },
     "execution_count": 172,
     "metadata": {},
     "output_type": "execute_result"
    }
   ],
   "source": [
    "# Составим словарь градаций фактора cap и их полезностей\n",
    "cap_ut={'cap_1_n': cap_1_ut,'cap_2_n': cap_2_ut}\n",
    "cap_ut"
   ]
  },
  {
   "cell_type": "code",
   "execution_count": 145,
   "id": "historic-pilot",
   "metadata": {},
   "outputs": [
    {
     "name": "stdout",
     "output_type": "stream",
     "text": [
      "материал, из которого изготовлен тюбик: алюминий: 0.7249999999999998\n",
      "материал, из которого изготовлен тюбик: пластик: -0.7249999999999998\n"
     ]
    }
   ],
   "source": [
    "# полезности материалов, из которых изготовлен тюбик (material)\n",
    "A = np.array([[1, -1], [1, 1]])\n",
    "B = np.array([linearRegression.params.material_1, 0])\n",
    "X_material = np.linalg.solve(A,B)\n",
    "[material_1_ut, material_2_ut]=X_material\n",
    "print(FNames['material_n'] +': '+ FGrad['material_g']['material_1_n'] +':',material_1_ut)\n",
    "print(FNames['material_n'] +': '+ FGrad['material_g']['material_2_n'] +':',material_2_ut)"
   ]
  },
  {
   "cell_type": "code",
   "execution_count": 173,
   "id": "adequate-motion",
   "metadata": {},
   "outputs": [
    {
     "data": {
      "text/plain": [
       "{'material_1_n': 0.7249999999999998, 'material_2_n': -0.7249999999999998}"
      ]
     },
     "execution_count": 173,
     "metadata": {},
     "output_type": "execute_result"
    }
   ],
   "source": [
    "# Составим словарь градаций фактора material и их полезностей\n",
    "material_ut={'material_1_n': material_1_ut,'material_2_n': material_2_ut}\n",
    "material_ut"
   ]
  },
  {
   "cell_type": "code",
   "execution_count": 146,
   "id": "expressed-avenue",
   "metadata": {},
   "outputs": [
    {
     "name": "stdout",
     "output_type": "stream",
     "text": [
      "рисунок на тюбике: белый, синий и красный цвета: -275991.99137033685\n",
      "рисунок на тюбике: белый и синий цвета: -275992.24269397475\n",
      "рисунок на тюбике: рисунок: 551987.9274348574\n"
     ]
    }
   ],
   "source": [
    "# полезности рисунков на тюбике (color)\n",
    "rand=0.00001*np.random.rand(3,3)\n",
    "A = np.array([[1, -1, 0],[1, -1, 0], [1, 1, 1]]+rand)\n",
    "B = np.array([linearRegression.params.color_1, linearRegression.params.color_2, 0])\n",
    "X_color = np.linalg.solve(A,B)\n",
    "[color_1_ut, color_2_ut, color_3_ut]=X_color\n",
    "print(FNames['color_n'] +': '+ FGrad['color_g']['color_1_n'] +':',color_1_ut)\n",
    "print(FNames['color_n'] +': '+ FGrad['color_g']['color_2_n'] +':',color_2_ut)\n",
    "print(FNames['color_n'] +': '+ FGrad['color_g']['color_3_n'] +':',color_3_ut)"
   ]
  },
  {
   "cell_type": "code",
   "execution_count": 174,
   "id": "primary-arbor",
   "metadata": {},
   "outputs": [
    {
     "data": {
      "text/plain": [
       "{'color_1_n': -275991.99137033685,\n",
       " 'color_2_n': -275992.24269397475,\n",
       " 'color_3_n': 551987.9274348574}"
      ]
     },
     "execution_count": 174,
     "metadata": {},
     "output_type": "execute_result"
    }
   ],
   "source": [
    "# Составим словарь градаций фактора color и их полезностей\n",
    "color_ut={'color_1_n': color_1_ut,'color_2_n': color_2_ut, 'color_3_n': color_3_ut}\n",
    "color_ut"
   ]
  },
  {
   "cell_type": "markdown",
   "id": "systematic-proof",
   "metadata": {},
   "source": [
    "Также результирующая переменная может быть биномиальной (1 - выбор, 0 - нет). Тогда нужно использовать sm.families.Binomial()).fit()"
   ]
  },
  {
   "cell_type": "markdown",
   "id": "tracked-juvenile",
   "metadata": {},
   "source": [
    "Далее рассчитаем значимость факторов (Relative Importance Weights)."
   ]
  },
  {
   "cell_type": "markdown",
   "id": "dried-entry",
   "metadata": {},
   "source": [
    "First we calculate the range of utility using following formula :\n",
    "* Range =  Maximum (Utility of variants) -   Minimum (Utility of variants)"
   ]
  },
  {
   "cell_type": "code",
   "execution_count": 147,
   "id": "sufficient-birthday",
   "metadata": {},
   "outputs": [],
   "source": [
    "Range_tube=max(X_tube)-min(X_tube)\n",
    "Range_cap=max(X_cap)-min(X_cap)\n",
    "Range_material=max(X_material)-min(X_material)\n",
    "Range_color=max(X_color)-min(X_color)"
   ]
  },
  {
   "cell_type": "code",
   "execution_count": 148,
   "id": "unnecessary-toyota",
   "metadata": {},
   "outputs": [
    {
     "name": "stdout",
     "output_type": "stream",
     "text": [
      "размер тюбика:  1.6908556242540071e-06\n",
      "размер колпачка:  1.8116310259864447e-07\n",
      "материал, из которого изготовлен тюбик:  1.7512433251202234e-06\n",
      "рисунок на тюбике:  0.9999963767379481\n"
     ]
    }
   ],
   "source": [
    "# Now relative importance or weighatge :\n",
    "Imp_tube  = Range_tube /  (Range_tube + Range_cap + Range_material + Range_color)\n",
    "Imp_cap  = Range_cap /  (Range_tube + Range_cap + Range_material + Range_color)\n",
    "Imp_material  = Range_material /  (Range_tube + Range_cap + Range_material + Range_color)\n",
    "Imp_color  = Range_color /  (Range_tube + Range_cap + Range_material + Range_color)\n",
    "print(FNames['tube_n'] +': ',Imp_tube)\n",
    "print(FNames['cap_n'] +': ',Imp_cap)\n",
    "print(FNames['material_n'] +': ',Imp_material)\n",
    "print(FNames['color_n'] +': ',Imp_color)"
   ]
  },
  {
   "cell_type": "code",
   "execution_count": 177,
   "id": "still-domestic",
   "metadata": {},
   "outputs": [
    {
     "name": "stdout",
     "output_type": "stream",
     "text": [
      "размер тюбика: большой: 0.6999999999999991\n",
      "размер колпачка: маленький: 0.07500000000000026\n",
      "материал, из которого изготовлен тюбик: алюминий: 0.7249999999999998\n",
      "рисунок на тюбике: рисунок: 551987.9274348574\n"
     ]
    }
   ],
   "source": [
    "# Оптимальный продукт (продукт с максимальной полезностью признаков)\n",
    "print(FNames['tube_n'] +': '+ FGrad['tube_g'][max(tube_ut, key=tube_ut.get)] +':',max(X_tube))\n",
    "print(FNames['cap_n'] +': '+ FGrad['cap_g'][max(cap_ut, key=cap_ut.get)] +':',max(X_cap))\n",
    "print(FNames['material_n'] +': '+ FGrad['material_g'][max(material_ut, key=material_ut.get)] +':',max(X_material))\n",
    "print(FNames['color_n'] +': '+ FGrad['color_g'][max(color_ut, key=color_ut.get)] +':',max(X_color))"
   ]
  },
  {
   "cell_type": "code",
   "execution_count": null,
   "id": "mediterranean-hebrew",
   "metadata": {},
   "outputs": [],
   "source": []
  }
 ],
 "metadata": {
  "kernelspec": {
   "display_name": "Python 3",
   "language": "python",
   "name": "python3"
  },
  "language_info": {
   "codemirror_mode": {
    "name": "ipython",
    "version": 3
   },
   "file_extension": ".py",
   "mimetype": "text/x-python",
   "name": "python",
   "nbconvert_exporter": "python",
   "pygments_lexer": "ipython3",
   "version": "3.7.4"
  }
 },
 "nbformat": 4,
 "nbformat_minor": 5
}
