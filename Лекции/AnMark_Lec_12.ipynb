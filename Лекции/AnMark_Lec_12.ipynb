{
 "cells": [
  {
   "cell_type": "markdown",
   "id": "flexible-public",
   "metadata": {},
   "source": [
    "# Лекция 12. Проект построения модели машинного обучения для бинарной классификации"
   ]
  },
  {
   "cell_type": "markdown",
   "id": "wanted-simon",
   "metadata": {},
   "source": [
    "## Python Project Template\n",
    "## 1. Prepare Problem\n",
    "## a) Load libraries\n",
    "## b) Load dataset\n",
    "## 2. Summarize Data\n",
    "## a) Descriptive statistics\n",
    "## b) Data visualizations\n",
    "## 3. Prepare Data\n",
    "## a) Data Cleaning\n",
    "## b) Feature Selection\n",
    "## c) Data Transforms\n",
    "## 4. Evaluate Algorithms\n",
    "## a) Split-out validation dataset\n",
    "## b) Test options and evaluation metric\n",
    "## c) Spot Check Algorithms\n",
    "## d) Compare Algorithms\n",
    "## 5. Improve Accuracy\n",
    "## a) Algorithm Tuning\n",
    "## b) Ensembles\n",
    "## 6. Finalize Model\n",
    "## a) Predictions on validation dataset\n",
    "## b) Create standalone model on entire training dataset\n",
    "## c) Save model for later use"
   ]
  }
 ],
 "metadata": {
  "kernelspec": {
   "display_name": "Python 3",
   "language": "python",
   "name": "python3"
  },
  "language_info": {
   "codemirror_mode": {
    "name": "ipython",
    "version": 3
   },
   "file_extension": ".py",
   "mimetype": "text/x-python",
   "name": "python",
   "nbconvert_exporter": "python",
   "pygments_lexer": "ipython3",
   "version": "3.7.4"
  }
 },
 "nbformat": 4,
 "nbformat_minor": 5
}
