{
 "cells": [
  {
   "cell_type": "markdown",
   "id": "designing-novelty",
   "metadata": {},
   "source": [
    "# Лекция 7. Линейные модели для регрессии"
   ]
  },
  {
   "cell_type": "markdown",
   "id": "removable-riding",
   "metadata": {},
   "source": [
    "Можно выделить следующие виды стандартной линейной регрессии: \n",
    "1. Парную регрессию; \n",
    "2. Множественную регрессию; \n",
    "3. Полиномиальную регрессию;\n",
    "4. Регрессию с фиктивными переменными;\n",
    "+ Затем добавим регуляризацию для предотвращения переобучения модели. В результате получим: \n",
    "5. Гребневую регрессию;\n",
    "6. Лассо регрессию."
   ]
  },
  {
   "cell_type": "markdown",
   "id": "relevant-bubble",
   "metadata": {},
   "source": [
    "## I. Стандартная линейная регрессия"
   ]
  },
  {
   "cell_type": "markdown",
   "id": "collective-import",
   "metadata": {},
   "source": [
    "### 1. Парная регрессия"
   ]
  },
  {
   "cell_type": "markdown",
   "id": "insured-constant",
   "metadata": {},
   "source": [
    "Математическое описание зависимости в среднем изменений переменной $y$ (результативного признака) от переменной $x$ (факторного признака) называется моделью (уравнением) парной регрессии. Чаще всего используется линейное уравнение парной регрессии:"
   ]
  },
  {
   "cell_type": "markdown",
   "id": "satisfied-treat",
   "metadata": {},
   "source": [
    "$ \\hat{y}=a+bx $"
   ]
  },
  {
   "cell_type": "markdown",
   "id": "smart-overview",
   "metadata": {},
   "source": [
    "* где $a$ - свободный член уравнения регрессии;\n",
    "* $b$ - коэффициент регрессии, который показывает, на сколько единиц в среднем изменится результативный признак при изменении факторного признака на одну единицу его измерения."
   ]
  },
  {
   "cell_type": "markdown",
   "id": "express-reviewer",
   "metadata": {},
   "source": [
    "Импортируем библиотеки, которые нам понадобятся для построения модели линейной регрессии."
   ]
  },
  {
   "cell_type": "code",
   "execution_count": 1,
   "id": "incorporate-religious",
   "metadata": {},
   "outputs": [],
   "source": [
    "%matplotlib inline\n",
    "import matplotlib.pyplot as plt\n",
    "import seaborn as sns; sns.set()\n",
    "import numpy as np"
   ]
  },
  {
   "cell_type": "markdown",
   "id": "bronze-columbus",
   "metadata": {},
   "source": [
    "Сгенерируем 50 случайных точек в координатной плоскости x, y, которые могут быть аппроксимированы линейной моделью парной регрессии со следующими истинными значениями коэффициентов: $a=2, b=-5$."
   ]
  },
  {
   "cell_type": "code",
   "execution_count": 2,
   "id": "motivated-anthropology",
   "metadata": {},
   "outputs": [
    {
     "data": {
      "image/png": "[encoded data removed]",
      "text/plain": [
       "<Figure size 432x288 with 1 Axes>"
      ]
     },
     "metadata": {},
     "output_type": "display_data"
    }
   ],
   "source": [
    "rng = np.random.RandomState(1)\n",
    "x = 10 * rng.rand(50)\n",
    "y = 2 * x - 5 + rng.randn(50)\n",
    "plt.scatter(x, y);"
   ]
  },
  {
   "cell_type": "markdown",
   "id": "concerned-documentation",
   "metadata": {},
   "source": [
    "Воспользуемся методом LinearRegression из библиотеки Scikit-Learn для подбора параметров $a$ и $b$ и визуализации полученной модели."
   ]
  },
  {
   "cell_type": "code",
   "execution_count": 3,
   "id": "everyday-clarity",
   "metadata": {},
   "outputs": [
    {
     "data": {
      "image/png": "[encoded data removed]",
      "text/plain": [
       "<Figure size 432x288 with 1 Axes>"
      ]
     },
     "metadata": {},
     "output_type": "display_data"
    }
   ],
   "source": [
    "from sklearn.linear_model import LinearRegression\n",
    "model = LinearRegression(fit_intercept=True)\n",
    "\n",
    "model.fit(x[:, np.newaxis], y)\n",
    "\n",
    "xfit = np.linspace(0, 10, 1000)\n",
    "yfit = model.predict(xfit[:, np.newaxis])\n",
    "\n",
    "plt.scatter(x, y)\n",
    "plt.plot(xfit, yfit);"
   ]
  },
  {
   "cell_type": "markdown",
   "id": "acquired-newport",
   "metadata": {},
   "source": [
    "Выведим на экран коэффициент (coef_) и свободный член (intercept_) регрессии."
   ]
  },
  {
   "cell_type": "code",
   "execution_count": 4,
   "id": "super-certification",
   "metadata": {},
   "outputs": [
    {
     "name": "stdout",
     "output_type": "stream",
     "text": [
      "Коэффициент регрессии:     2.027208810360695\n",
      "Свободный член регрессии: -4.998577085553202\n"
     ]
    }
   ],
   "source": [
    "print(\"Коэффициент регрессии:    \", model.coef_[0])\n",
    "print(\"Свободный член регрессии:\", model.intercept_)"
   ]
  },
  {
   "cell_type": "markdown",
   "id": "alive-rover",
   "metadata": {},
   "source": [
    "Видим, что результаты близки к истинным значениям параметров, которые мы задавали ($a=2, b=-5$)."
   ]
  },
  {
   "cell_type": "markdown",
   "id": "under-tunisia",
   "metadata": {},
   "source": [
    "### 2. Множественная регрессия"
   ]
  },
  {
   "cell_type": "markdown",
   "id": "regular-garbage",
   "metadata": {},
   "source": [
    "Математически множественная линейная регрессия может быть представлена в следующем виде: $\\hat{y}=a_0+a_1x_1+a_2x_2+⋯+a_kx_k$"
   ]
  },
  {
   "cell_type": "markdown",
   "id": "latest-studio",
   "metadata": {},
   "source": [
    "Импортируем библиотеки, которые нам понадобятся для построения модели линейной регрессии."
   ]
  },
  {
   "cell_type": "code",
   "execution_count": 5,
   "id": "delayed-collect",
   "metadata": {},
   "outputs": [],
   "source": [
    "%matplotlib inline\n",
    "import matplotlib.pyplot as plt\n",
    "import seaborn as sns; sns.set()\n",
    "import numpy as np"
   ]
  },
  {
   "cell_type": "markdown",
   "id": "dominican-webcam",
   "metadata": {},
   "source": [
    "Сгенерируем 100 случайных точек в координатной плоскости x, y, z которые могут быть аппроксимированы линейной моделью множественной регрессии со следующими истинными коэффициентами: $a_0=0.5, a_1=1.5, a_2=-2, a_3=1$."
   ]
  },
  {
   "cell_type": "code",
   "execution_count": 6,
   "id": "intimate-evidence",
   "metadata": {
    "tags": []
   },
   "outputs": [],
   "source": [
    "rng = np.random.RandomState(1)\n",
    "X = 10 * rng.rand(100, 3)\n",
    "y = 0.5 + np.dot(X, [1.5, -2., 1.]) + rng.randn(100)"
   ]
  },
  {
   "cell_type": "code",
   "execution_count": 7,
   "id": "minute-environment",
   "metadata": {
    "tags": []
   },
   "outputs": [
    {
     "name": "stdout",
     "output_type": "stream",
     "text": [
      "0.6562333465768289\n",
      "[ 1.48159542 -1.97622428  0.97258042]\n"
     ]
    }
   ],
   "source": [
    "from sklearn.linear_model import LinearRegression\n",
    "model = LinearRegression(fit_intercept=True)\n",
    "\n",
    "model.fit(X, y)\n",
    "print(model.intercept_)\n",
    "print(model.coef_)"
   ]
  },
  {
   "cell_type": "markdown",
   "id": "opponent-stress",
   "metadata": {},
   "source": [
    "### 3. Полиномиальная регрессия"
   ]
  },
  {
   "cell_type": "markdown",
   "id": "neither-diana",
   "metadata": {},
   "source": [
    "В уравнении множественной линейной регрессии $y^`=a_0+a_1x_1+a_2x_2+⋯+a_kx_k$ переменная $x_k$ может быть представлена любой функцией $f_k$ преобразования исходных данных $x$: $x_k=f_k(x)$. "
   ]
  },
  {
   "cell_type": "markdown",
   "id": "other-arnold",
   "metadata": {},
   "source": [
    "В случае $f_k(x)=x^k$ получаем полиномиальную регрессию: $y^`=a_0+a_1x+a_2x^2+a_3x^3+⋯+a_kx^k$ "
   ]
  },
  {
   "cell_type": "markdown",
   "id": "descending-present",
   "metadata": {},
   "source": [
    "Из-за важности полиномиальной регрессии в библиотеку Scikit-Learn встроен метод PolynomialFeatures, который позволяет по исходному вектору $x$ получить вектора $x^2, x^3, ..., x^k$"
   ]
  },
  {
   "cell_type": "markdown",
   "id": "psychological-salad",
   "metadata": {},
   "source": [
    "Импортируем библиотеки, которые нам понадобятся для построения модели линейной регрессии."
   ]
  },
  {
   "cell_type": "code",
   "execution_count": 8,
   "id": "republican-offense",
   "metadata": {},
   "outputs": [],
   "source": [
    "%matplotlib inline\n",
    "import matplotlib.pyplot as plt\n",
    "import seaborn as sns; sns.set()\n",
    "import numpy as np"
   ]
  },
  {
   "cell_type": "code",
   "execution_count": 9,
   "id": "random-cleanup",
   "metadata": {},
   "outputs": [],
   "source": [
    "from sklearn.linear_model import LinearRegression\n",
    "model = LinearRegression(fit_intercept=True)"
   ]
  },
  {
   "cell_type": "code",
   "execution_count": 10,
   "id": "divided-walter",
   "metadata": {},
   "outputs": [
    {
     "data": {
      "text/plain": [
       "array([[ 2.,  4.,  8.],\n",
       "       [ 3.,  9., 27.],\n",
       "       [ 4., 16., 64.]])"
      ]
     },
     "execution_count": 10,
     "metadata": {},
     "output_type": "execute_result"
    }
   ],
   "source": [
    "from sklearn.preprocessing import PolynomialFeatures\n",
    "x = np.array([2, 3, 4])\n",
    "poly = PolynomialFeatures(3, include_bias=False)\n",
    "poly.fit_transform(x[:, None])"
   ]
  },
  {
   "cell_type": "markdown",
   "id": "jewish-shower",
   "metadata": {},
   "source": [
    "Видим, что метод PolynomialFeatures преобразовал исходный одномерный вектор $x$ в трехмерное пространство признаков $x, x^2, x^3$ путем возведения во 2-ую и 3-ю степень соответствующих значений исходного вектора. По полученным данным можно построить полиномиальную регрессию путем применения к ним метода LinearRegression из библиотеки Scikit-Learn."
   ]
  },
  {
   "cell_type": "markdown",
   "id": "legitimate-translation",
   "metadata": {},
   "source": [
    "Самый простой способ соединить указанные выше операции - использовать метод make_pipeline. Построим таким образом полиномиальную модель 7-го порядка:"
   ]
  },
  {
   "cell_type": "code",
   "execution_count": 11,
   "id": "baking-wisdom",
   "metadata": {},
   "outputs": [],
   "source": [
    "from sklearn.pipeline import make_pipeline\n",
    "poly_model = make_pipeline(PolynomialFeatures(7),\n",
    "                           LinearRegression())"
   ]
  },
  {
   "cell_type": "markdown",
   "id": "entertaining-premiere",
   "metadata": {},
   "source": [
    "Используя указанные методы, можно построить зашумленную синусоиду:"
   ]
  },
  {
   "cell_type": "code",
   "execution_count": 12,
   "id": "clinical-joining",
   "metadata": {},
   "outputs": [
    {
     "data": {
      "image/png": "[encoded data removed]",
      "text/plain": [
       "<Figure size 432x288 with 1 Axes>"
      ]
     },
     "metadata": {},
     "output_type": "display_data"
    }
   ],
   "source": [
    "rng = np.random.RandomState(1) # seed\n",
    "x = 10 * rng.rand(50)\n",
    "y = np.sin(x) + 0.1 * rng.randn(50)\n",
    "\n",
    "poly_model.fit(x[:, np.newaxis], y)\n",
    "xfit = np.linspace(0, 10, 1000)\n",
    "yfit = poly_model.predict(xfit[:, np.newaxis])\n",
    "\n",
    "plt.scatter(x, y)\n",
    "plt.plot(xfit, yfit);"
   ]
  },
  {
   "cell_type": "markdown",
   "id": "genetic-thursday",
   "metadata": {},
   "source": [
    "Видим, что наша линейная модель, благодаря использованию полинома 7-го порядка, обеспечивает прекрасное приближение к нелинейным данным."
   ]
  },
  {
   "cell_type": "markdown",
   "id": "together-pattern",
   "metadata": {},
   "source": [
    "### 4. Регрессия с фиктивными переменными"
   ]
  },
  {
   "cell_type": "markdown",
   "id": "desperate-wheat",
   "metadata": {
    "tags": []
   },
   "source": [
    "Добавление в модель фиктивных переменных позволяет учесть неоднородность структуры наблюдений, причем неоднородность может носить пространственный или временной характер, может объясняться влиянием качественных признаков. Например, при моделировании спроса на товары можно учитывать такие факторы, как принадлежность к определенной социальной группе, уровень образования, национальность. При моделировании успеваемости студентов можно учесть их пол. Можно строить отдельные модели для каждой из групп, но есть более общий метод - введение в регрессионную модель фиктивных переменных."
   ]
  },
  {
   "cell_type": "markdown",
   "id": "about-sixth",
   "metadata": {},
   "source": [
    "Общий вид модели с фиктивными переменными может быть записан следующим образом:"
   ]
  },
  {
   "cell_type": "markdown",
   "id": "piano-study",
   "metadata": {},
   "source": [
    "$ y^`=a+bx+\\sum^m_{i=2}c_iD_i$"
   ]
  },
  {
   "cell_type": "markdown",
   "id": "generous-brunei",
   "metadata": {},
   "source": [
    "где $a, b, c_2, c_3,..., c_m$ - коэффициенты модели;"
   ]
  },
  {
   "cell_type": "markdown",
   "id": "english-haiti",
   "metadata": {},
   "source": [
    "$D_i=1$, если наблюдение принадлежит $i$-ой ($i=2,3,...,m$) фиктивной переменной (градации); $D_i=0$, в остальных случаях."
   ]
  },
  {
   "cell_type": "markdown",
   "id": "third-challenge",
   "metadata": {},
   "source": [
    "Рассмотрим в качестве примера анализ зависимости успеваемости студентов (суммарный балл по итогам 1-го семестра  обучения) от уровня  предварительной подготовки (суммарный балл на вступительных экзаменах в вуз) и от пола студентов. "
   ]
  },
  {
   "cell_type": "markdown",
   "id": "smaller-education",
   "metadata": {},
   "source": [
    "У номинальной переменной \"пол\" наблюдается 2 уровня - мужской и женский. Поэтому можно ввести одну фиктивную переменную, которая принимает значение 1, если пол мужской, и 0, если пол женский. Соответствующее уравнение регрессии примет следующий вид:"
   ]
  },
  {
   "cell_type": "markdown",
   "id": "similar-behavior",
   "metadata": {},
   "source": [
    "$ y^`=a+bx+cD$"
   ]
  },
  {
   "cell_type": "markdown",
   "id": "simple-participant",
   "metadata": {},
   "source": [
    "где $y^`$ - количественная переменная - суммарный балл по итогам 1-го семестра  обучения;"
   ]
  },
  {
   "cell_type": "markdown",
   "id": "magnetic-implementation",
   "metadata": {},
   "source": [
    "$x$ - количественная переменная - суммарный балл на вступительных экзаменах в вуз;"
   ]
  },
  {
   "cell_type": "markdown",
   "id": "prepared-baseline",
   "metadata": {},
   "source": [
    "$D$ - фиктивная переменная - пол респондента."
   ]
  },
  {
   "cell_type": "markdown",
   "id": "likely-nitrogen",
   "metadata": {},
   "source": [
    "Загрузим данные для примера."
   ]
  },
  {
   "cell_type": "code",
   "execution_count": 13,
   "id": "incoming-miracle",
   "metadata": {},
   "outputs": [],
   "source": [
    "import pandas as pd"
   ]
  },
  {
   "cell_type": "code",
   "execution_count": 14,
   "id": "under-worry",
   "metadata": {},
   "outputs": [],
   "source": [
    "import os\n",
    "os.chdir(\"C:/Users/HP/Documents/analysis/Marketing/data/\")"
   ]
  },
  {
   "cell_type": "code",
   "execution_count": 35,
   "id": "beneficial-sterling",
   "metadata": {},
   "outputs": [],
   "source": [
    "df = pd.read_csv('dummy.csv',sep=';')"
   ]
  },
  {
   "cell_type": "code",
   "execution_count": 36,
   "id": "perfect-knight",
   "metadata": {},
   "outputs": [
    {
     "data": {
      "text/html": [
       "<div>\n",
       "<style scoped>\n",
       "    .dataframe tbody tr th:only-of-type {\n",
       "        vertical-align: middle;\n",
       "    }\n",
       "\n",
       "    .dataframe tbody tr th {\n",
       "        vertical-align: top;\n",
       "    }\n",
       "\n",
       "    .dataframe thead th {\n",
       "        text-align: right;\n",
       "    }\n",
       "</style>\n",
       "<table border=\"1\" class=\"dataframe\">\n",
       "  <thead>\n",
       "    <tr style=\"text-align: right;\">\n",
       "      <th></th>\n",
       "      <th>ID</th>\n",
       "      <th>Entrance</th>\n",
       "      <th>Semester</th>\n",
       "      <th>Gender</th>\n",
       "    </tr>\n",
       "  </thead>\n",
       "  <tbody>\n",
       "    <tr>\n",
       "      <th>30</th>\n",
       "      <td>31</td>\n",
       "      <td>27</td>\n",
       "      <td>42</td>\n",
       "      <td>1</td>\n",
       "    </tr>\n",
       "    <tr>\n",
       "      <th>34</th>\n",
       "      <td>35</td>\n",
       "      <td>26</td>\n",
       "      <td>46</td>\n",
       "      <td>0</td>\n",
       "    </tr>\n",
       "    <tr>\n",
       "      <th>12</th>\n",
       "      <td>13</td>\n",
       "      <td>25</td>\n",
       "      <td>40</td>\n",
       "      <td>1</td>\n",
       "    </tr>\n",
       "    <tr>\n",
       "      <th>69</th>\n",
       "      <td>70</td>\n",
       "      <td>30</td>\n",
       "      <td>50</td>\n",
       "      <td>0</td>\n",
       "    </tr>\n",
       "    <tr>\n",
       "      <th>64</th>\n",
       "      <td>65</td>\n",
       "      <td>26</td>\n",
       "      <td>42</td>\n",
       "      <td>1</td>\n",
       "    </tr>\n",
       "  </tbody>\n",
       "</table>\n",
       "</div>"
      ],
      "text/plain": [
       "    ID  Entrance  Semester  Gender\n",
       "30  31        27        42       1\n",
       "34  35        26        46       0\n",
       "12  13        25        40       1\n",
       "69  70        30        50       0\n",
       "64  65        26        42       1"
      ]
     },
     "execution_count": 36,
     "metadata": {},
     "output_type": "execute_result"
    }
   ],
   "source": [
    "df.sample(5)"
   ]
  },
  {
   "cell_type": "code",
   "execution_count": 37,
   "id": "working-lounge",
   "metadata": {},
   "outputs": [
    {
     "name": "stderr",
     "output_type": "stream",
     "text": [
      "*c* argument looks like a single numeric RGB or RGBA sequence, which should be avoided as value-mapping will have precedence in case its length matches with *x* & *y*.  Please use the *color* keyword-argument or provide a 2-D array with a single row if you intend to specify the same RGB or RGBA value for all points.\n"
     ]
    },
    {
     "data": {
      "image/png": "[encoded data removed]",
      "text/plain": [
       "<Figure size 432x288 with 1 Axes>"
      ]
     },
     "metadata": {},
     "output_type": "display_data"
    }
   ],
   "source": [
    "df.plot.scatter(x='Entrance', y='Semester', s=None, c=None);"
   ]
  },
  {
   "cell_type": "code",
   "execution_count": 38,
   "id": "persistent-probe",
   "metadata": {},
   "outputs": [
    {
     "name": "stderr",
     "output_type": "stream",
     "text": [
      "*c* argument looks like a single numeric RGB or RGBA sequence, which should be avoided as value-mapping will have precedence in case its length matches with *x* & *y*.  Please use the *color* keyword-argument or provide a 2-D array with a single row if you intend to specify the same RGB or RGBA value for all points.\n",
      "*c* argument looks like a single numeric RGB or RGBA sequence, which should be avoided as value-mapping will have precedence in case its length matches with *x* & *y*.  Please use the *color* keyword-argument or provide a 2-D array with a single row if you intend to specify the same RGB or RGBA value for all points.\n"
     ]
    },
    {
     "data": {
      "image/png": "[encoded data removed]",
      "text/plain": [
       "<Figure size 432x288 with 1 Axes>"
      ]
     },
     "metadata": {},
     "output_type": "display_data"
    },
    {
     "data": {
      "image/png": "[encoded data removed]",
      "text/plain": [
       "<Figure size 432x288 with 1 Axes>"
      ]
     },
     "metadata": {},
     "output_type": "display_data"
    }
   ],
   "source": [
    "df.groupby('Gender').plot.scatter(x='Entrance', y='Semester', s=None, c=None);"
   ]
  },
  {
   "cell_type": "markdown",
   "id": "collaborative-marking",
   "metadata": {},
   "source": [
    "Построим линейную регрессию."
   ]
  },
  {
   "cell_type": "markdown",
   "id": "increased-taxation",
   "metadata": {},
   "source": [
    "Из библиотеки sklearn импортируем метод LinearRegression"
   ]
  },
  {
   "cell_type": "code",
   "execution_count": 39,
   "id": "complimentary-delaware",
   "metadata": {},
   "outputs": [],
   "source": [
    "from sklearn.linear_model import LinearRegression"
   ]
  },
  {
   "cell_type": "markdown",
   "id": "planned-dependence",
   "metadata": {},
   "source": [
    "Создадим экземпляр класса LinearRegression"
   ]
  },
  {
   "cell_type": "code",
   "execution_count": 40,
   "id": "certified-detector",
   "metadata": {},
   "outputs": [],
   "source": [
    "model = LinearRegression()"
   ]
  },
  {
   "cell_type": "markdown",
   "id": "aboriginal-entrance",
   "metadata": {},
   "source": [
    "Определим зависимую и независимые переменные."
   ]
  },
  {
   "cell_type": "code",
   "execution_count": 41,
   "id": "offshore-tobacco",
   "metadata": {},
   "outputs": [],
   "source": [
    "X = df[['Entrance','Gender']]\n",
    "y = df['Semester']"
   ]
  },
  {
   "cell_type": "markdown",
   "id": "increased-pastor",
   "metadata": {},
   "source": [
    "Из библиотеки sklearn импортируем метод train_test_split, который позволит разделить данные на обучающую и тестовую выборки."
   ]
  },
  {
   "cell_type": "code",
   "execution_count": 42,
   "id": "remarkable-scale",
   "metadata": {},
   "outputs": [],
   "source": [
    "from sklearn.model_selection import train_test_split"
   ]
  },
  {
   "cell_type": "markdown",
   "id": "framed-looking",
   "metadata": {},
   "source": [
    "Отнесем к тестовому набору 20% выборки."
   ]
  },
  {
   "cell_type": "code",
   "execution_count": 43,
   "id": "collaborative-chancellor",
   "metadata": {},
   "outputs": [],
   "source": [
    "X_train,X_test,y_train,y_test = train_test_split(X,y,test_size = 0.2)"
   ]
  },
  {
   "cell_type": "markdown",
   "id": "intelligent-constant",
   "metadata": {},
   "source": [
    "Обучим модель на обучающем наборе и выведем значения свободного члена и коэффициентов модели."
   ]
  },
  {
   "cell_type": "code",
   "execution_count": 44,
   "id": "communist-darwin",
   "metadata": {},
   "outputs": [
    {
     "name": "stdout",
     "output_type": "stream",
     "text": [
      "23.452150246336437\n",
      "[ 0.88489598 -4.26504794]\n"
     ]
    }
   ],
   "source": [
    "model.fit(X_train,y_train)\n",
    "print(model.intercept_)\n",
    "print(model.coef_)"
   ]
  },
  {
   "cell_type": "markdown",
   "id": "christian-paradise",
   "metadata": {},
   "source": [
    "Проверим прогнозную способность модели на тестовом наборе."
   ]
  },
  {
   "cell_type": "code",
   "execution_count": 45,
   "id": "proud-selling",
   "metadata": {},
   "outputs": [
    {
     "data": {
      "text/plain": [
       "0.9150885596785462"
      ]
     },
     "execution_count": 45,
     "metadata": {},
     "output_type": "execute_result"
    }
   ],
   "source": [
    "model.score(X_test,y_test)"
   ]
  },
  {
   "cell_type": "markdown",
   "id": "transsexual-signature",
   "metadata": {},
   "source": [
    "Точность модели составила 92%. Это очень хороший результат."
   ]
  },
  {
   "cell_type": "markdown",
   "id": "fifty-central",
   "metadata": {},
   "source": [
    "Представим найденную модель:"
   ]
  },
  {
   "cell_type": "markdown",
   "id": "roman-pitch",
   "metadata": {},
   "source": [
    "$Semester = 23.45 + 0.88*Entrance -4.27*Gender$"
   ]
  },
  {
   "cell_type": "markdown",
   "id": "basic-neighbor",
   "metadata": {},
   "source": [
    "При прочих равных оценки за семестр, в среднем, на 4.27 балла выше у женщин, чем у мужчин (Gender={0: женщины, 1: мужчины})."
   ]
  },
  {
   "cell_type": "markdown",
   "id": "governing-scope",
   "metadata": {},
   "source": [
    "### 5. Гребневая регрессия (Ridge regression, $L_2$ Regularization)"
   ]
  },
  {
   "cell_type": "markdown",
   "id": "native-summary",
   "metadata": {},
   "source": [
    "Гребневая регрессия является линейной моделью регрессии с регуляризацией, известной как $L_2$-регуляризация."
   ]
  },
  {
   "cell_type": "markdown",
   "id": "incoming-bridge",
   "metadata": {},
   "source": [
    "Импортируем библиотеки, которые нам понадобятся для построения модели линейной регрессии."
   ]
  },
  {
   "cell_type": "code",
   "execution_count": 46,
   "id": "comfortable-tongue",
   "metadata": {},
   "outputs": [],
   "source": [
    "%matplotlib inline\n",
    "import matplotlib.pyplot as plt\n",
    "import seaborn as sns; sns.set()\n",
    "import numpy as np"
   ]
  },
  {
   "cell_type": "code",
   "execution_count": 47,
   "id": "deadly-heading",
   "metadata": {},
   "outputs": [],
   "source": [
    "rng = np.random.RandomState(1) # seed\n",
    "x = 10 * rng.rand(50)\n",
    "y = np.sin(x) + 0.1 * rng.randn(50)\n",
    "\n",
    "poly_model.fit(x[:, np.newaxis], y)\n",
    "xfit = np.linspace(0, 10, 1000)\n",
    "yfit = poly_model.predict(xfit[:, np.newaxis])"
   ]
  },
  {
   "cell_type": "code",
   "execution_count": 48,
   "id": "british-maintenance",
   "metadata": {},
   "outputs": [],
   "source": [
    "def basis_plot(model, title=None):\n",
    "    fig, ax = plt.subplots()\n",
    "    model.fit(x[:, np.newaxis], y)\n",
    "    ax.scatter(x, y)\n",
    "    ax.plot(xfit, model.predict(xfit[:, np.newaxis]))\n",
    "    ax.set(xlabel='x', ylabel='y', ylim=(-1.5, 1.5))\n",
    "    \n",
    "    if title:\n",
    "        ax.set_title(title)"
   ]
  },
  {
   "cell_type": "code",
   "execution_count": 49,
   "id": "spiritual-minnesota",
   "metadata": {},
   "outputs": [
    {
     "data": {
      "image/png": "[encoded data removed]",
      "text/plain": [
       "<Figure size 432x288 with 1 Axes>"
      ]
     },
     "metadata": {},
     "output_type": "display_data"
    }
   ],
   "source": [
    "from sklearn.pipeline import make_pipeline\n",
    "from sklearn.preprocessing import PolynomialFeatures\n",
    "from sklearn.linear_model import Ridge\n",
    "model = make_pipeline(PolynomialFeatures(7), Ridge(alpha=0.1))\n",
    "basis_plot(model, title='Гребневая регрессия')"
   ]
  },
  {
   "cell_type": "markdown",
   "id": "experimental-reading",
   "metadata": {},
   "source": [
    "Параметр $α$ (alpha) контролирует сложность модели. В пределе $α→0$ мы получаем стандартную линейную регрессию. В пределе $α→∞$ все индивидуальные проявления модели будут подавлены. Достоинство гребневой регрессии состоит в том, что затраты на ее построение не намного выше, чем на построение линейной регрессии."
   ]
  },
  {
   "cell_type": "markdown",
   "id": "federal-pacific",
   "metadata": {},
   "source": [
    "### 6. Лассо-регрессия (Lasso regression, $L_1$ regularization)"
   ]
  },
  {
   "cell_type": "markdown",
   "id": "ordinary-building",
   "metadata": {},
   "source": [
    "Лассо-регрессия является линейной моделью регрессии с регуляризацией, известной как $L_1$-регуляризация."
   ]
  },
  {
   "cell_type": "code",
   "execution_count": 50,
   "id": "terminal-activation",
   "metadata": {},
   "outputs": [
    {
     "name": "stderr",
     "output_type": "stream",
     "text": [
      "C:\\Users\\HP\\Anaconda3\\lib\\site-packages\\sklearn\\linear_model\\_coordinate_descent.py:532: ConvergenceWarning: Objective did not converge. You might want to increase the number of iterations. Duality gap: 3.82619138244717, tolerance: 0.002065280097246271\n",
      "  positive)\n"
     ]
    },
    {
     "data": {
      "image/png": "[encoded data removed]",
      "text/plain": [
       "<Figure size 432x288 with 1 Axes>"
      ]
     },
     "metadata": {},
     "output_type": "display_data"
    }
   ],
   "source": [
    "from sklearn.linear_model import Lasso\n",
    "model = make_pipeline(PolynomialFeatures(7), Lasso(alpha=0.001))\n",
    "basis_plot(model, title='Лассо-регрессия')"
   ]
  },
  {
   "cell_type": "markdown",
   "id": "sitting-fancy",
   "metadata": {},
   "source": [
    "### 7. Эластичная сеть (Elastic Net regression, $L_1$ and $L_2$ regularization)"
   ]
  },
  {
   "cell_type": "markdown",
   "id": "atmospheric-ghana",
   "metadata": {},
   "source": [
    "Эластичная сеть является линейной моделью регрессии с $L_1$ и $L_2$ регуляризацией."
   ]
  },
  {
   "cell_type": "code",
   "execution_count": 54,
   "id": "criminal-special",
   "metadata": {},
   "outputs": [
    {
     "name": "stderr",
     "output_type": "stream",
     "text": [
      "C:\\Users\\HP\\Anaconda3\\lib\\site-packages\\sklearn\\linear_model\\_coordinate_descent.py:532: ConvergenceWarning: Objective did not converge. You might want to increase the number of iterations. Duality gap: 3.8240101955345978, tolerance: 0.002065280097246271\n",
      "  positive)\n"
     ]
    },
    {
     "data": {
      "image/png": "[encoded data removed]",
      "text/plain": [
       "<Figure size 432x288 with 1 Axes>"
      ]
     },
     "metadata": {},
     "output_type": "display_data"
    }
   ],
   "source": [
    "from sklearn.linear_model import ElasticNet\n",
    "model = make_pipeline(PolynomialFeatures(7), ElasticNet(alpha=0.001))\n",
    "basis_plot(model, title='Эластичная сеть')"
   ]
  },
  {
   "cell_type": "markdown",
   "id": "metric-niagara",
   "metadata": {},
   "source": [
    "## II. Моделирование счетной переменной"
   ]
  },
  {
   "cell_type": "markdown",
   "id": "competent-thriller",
   "metadata": {},
   "source": [
    "### 1. Пуассоновская регрессия"
   ]
  },
  {
   "cell_type": "markdown",
   "id": "cloudy-refrigerator",
   "metadata": {},
   "source": [
    "О моделировании счетной переменной:"
   ]
  },
  {
   "cell_type": "markdown",
   "id": "external-density",
   "metadata": {},
   "source": [
    "https://towardsdatascience.com/an-illustrated-guide-to-the-poisson-regression-model-50cccba15958"
   ]
  },
  {
   "cell_type": "markdown",
   "id": "aggressive-light",
   "metadata": {},
   "source": [
    "Счетные переменные измеряют количество определенных событий за данный промежуток времени."
   ]
  },
  {
   "cell_type": "markdown",
   "id": "controlled-custom",
   "metadata": {
    "tags": []
   },
   "source": [
    "Пуассоновская регрессия применяется в случае счетной зависимой переменной. Пуассоновская регрессионная модель подразумевает, что Y имеет пуассоновское распределение и что можно подогнать линейную модель вида:"
   ]
  },
  {
   "cell_type": "markdown",
   "id": "national-aberdeen",
   "metadata": {},
   "source": [
    "$\\log_{e}(λ)=β_0+\\sum_{j=1}^p β_jX_j$"
   ]
  },
  {
   "cell_type": "markdown",
   "id": "present-fashion",
   "metadata": {},
   "source": [
    "где $λ$ - это среднее (и дисперсия Y)."
   ]
  },
  {
   "cell_type": "markdown",
   "id": "interim-poland",
   "metadata": {},
   "source": [
    "Коды для подгонки Пуассоновской регрессии:"
   ]
  },
  {
   "cell_type": "markdown",
   "id": "careful-excess",
   "metadata": {},
   "source": [
    "https://nbviewer.jupyter.org/urls/umich.box.com/shared/static/ir0bnkup9rywmqd54zvm.ipynb"
   ]
  },
  {
   "cell_type": "markdown",
   "id": "satisfactory-broadcasting",
   "metadata": {},
   "source": [
    "Если частота событий $λ$ меняется, можно воспользоваться Пуассоновской регрессией для прогнозирования значений счетной переменной. Смотри математику этого процесса здесь:"
   ]
  },
  {
   "cell_type": "markdown",
   "id": "royal-compensation",
   "metadata": {},
   "source": [
    "https://towardsdatascience.com/an-illustrated-guide-to-the-poisson-regression-model-50cccba15958"
   ]
  },
  {
   "cell_type": "markdown",
   "id": "musical-bleeding",
   "metadata": {},
   "source": [
    "Для демонстрации процесса подгонки пуассоновской регрессионной модели, наряду с некоторыми проблемами, которые могут возникнуть при таком анализе данных, мы используем опубликованные данные о припадках (Breslow, 1993). А именно мы рассмотрим влияние приема лекарств от эпилептических припадков на число припадков, которые случились за 8 недель, прошедших со времени начала лечения. \n",
    "Для пациентов, которые страдали от простых или сложных припадков, были получены данные о возрасте и о числе припадков, произошедших за 8 недель до и после начала лечения. Больные были случайным образом распределены на две группы, которые получали плацебо (placebo) или настоящее лекарство (progabide). Переменная sumY (число припадков за 8 недель после начала лечения) – это зависимая переменная. Тип лечения (Trt), возраст в годах (Age) и число припадков за 8 недель до начала лечения (Base) – это независимые переменные. Возраст и число припадков до начала лечения включены в анализ, поскольку они могут оказывать влияние на зависимую переменную. Нам интересно, есть ли свидетельство в пользу того, что применение лекарства снижает число припадков с учетом эффектов этих ковариат."
   ]
  },
  {
   "cell_type": "markdown",
   "id": "alternative-basin",
   "metadata": {},
   "source": [
    "Импортируем необходимые библиотеки:"
   ]
  },
  {
   "cell_type": "code",
   "execution_count": 55,
   "id": "humanitarian-germany",
   "metadata": {},
   "outputs": [],
   "source": [
    "import matplotlib.pyplot as plt\n",
    "%matplotlib inline\n",
    "\n",
    "import numpy as np\n",
    "import pandas as pd\n",
    "from statsmodels.genmod.generalized_estimating_equations import GEE\n",
    "from statsmodels.genmod.cov_struct import (Exchangeable,\n",
    "    Independence,Autoregressive)\n",
    "from statsmodels.genmod.families import Poisson"
   ]
  },
  {
   "cell_type": "markdown",
   "id": "express-jaguar",
   "metadata": {},
   "source": [
    "Описание данных:"
   ]
  },
  {
   "cell_type": "markdown",
   "id": "hundred-madonna",
   "metadata": {},
   "source": [
    "https://vincentarelbundock.github.io/Rdatasets/doc/MASS/epil.html"
   ]
  },
  {
   "cell_type": "markdown",
   "id": "finished-office",
   "metadata": {},
   "source": [
    "Исходные данные о припадках представлены в csv файле, поэтому их легко прочитать в среде Python:"
   ]
  },
  {
   "cell_type": "code",
   "execution_count": 57,
   "id": "alleged-editor",
   "metadata": {},
   "outputs": [
    {
     "data": {
      "text/html": [
       "<div>\n",
       "<style scoped>\n",
       "    .dataframe tbody tr th:only-of-type {\n",
       "        vertical-align: middle;\n",
       "    }\n",
       "\n",
       "    .dataframe tbody tr th {\n",
       "        vertical-align: top;\n",
       "    }\n",
       "\n",
       "    .dataframe thead th {\n",
       "        text-align: right;\n",
       "    }\n",
       "</style>\n",
       "<table border=\"1\" class=\"dataframe\">\n",
       "  <thead>\n",
       "    <tr style=\"text-align: right;\">\n",
       "      <th></th>\n",
       "      <th>Unnamed: 0</th>\n",
       "      <th>y</th>\n",
       "      <th>trt</th>\n",
       "      <th>base</th>\n",
       "      <th>age</th>\n",
       "      <th>V4</th>\n",
       "      <th>subject</th>\n",
       "      <th>period</th>\n",
       "      <th>lbase</th>\n",
       "      <th>lage</th>\n",
       "    </tr>\n",
       "  </thead>\n",
       "  <tbody>\n",
       "    <tr>\n",
       "      <th>0</th>\n",
       "      <td>1</td>\n",
       "      <td>5</td>\n",
       "      <td>placebo</td>\n",
       "      <td>11</td>\n",
       "      <td>31</td>\n",
       "      <td>0</td>\n",
       "      <td>1</td>\n",
       "      <td>1</td>\n",
       "      <td>-0.756354</td>\n",
       "      <td>0.114204</td>\n",
       "    </tr>\n",
       "    <tr>\n",
       "      <th>1</th>\n",
       "      <td>2</td>\n",
       "      <td>3</td>\n",
       "      <td>placebo</td>\n",
       "      <td>11</td>\n",
       "      <td>31</td>\n",
       "      <td>0</td>\n",
       "      <td>1</td>\n",
       "      <td>2</td>\n",
       "      <td>-0.756354</td>\n",
       "      <td>0.114204</td>\n",
       "    </tr>\n",
       "    <tr>\n",
       "      <th>2</th>\n",
       "      <td>3</td>\n",
       "      <td>3</td>\n",
       "      <td>placebo</td>\n",
       "      <td>11</td>\n",
       "      <td>31</td>\n",
       "      <td>0</td>\n",
       "      <td>1</td>\n",
       "      <td>3</td>\n",
       "      <td>-0.756354</td>\n",
       "      <td>0.114204</td>\n",
       "    </tr>\n",
       "    <tr>\n",
       "      <th>3</th>\n",
       "      <td>4</td>\n",
       "      <td>3</td>\n",
       "      <td>placebo</td>\n",
       "      <td>11</td>\n",
       "      <td>31</td>\n",
       "      <td>1</td>\n",
       "      <td>1</td>\n",
       "      <td>4</td>\n",
       "      <td>-0.756354</td>\n",
       "      <td>0.114204</td>\n",
       "    </tr>\n",
       "    <tr>\n",
       "      <th>4</th>\n",
       "      <td>5</td>\n",
       "      <td>3</td>\n",
       "      <td>placebo</td>\n",
       "      <td>11</td>\n",
       "      <td>30</td>\n",
       "      <td>0</td>\n",
       "      <td>2</td>\n",
       "      <td>1</td>\n",
       "      <td>-0.756354</td>\n",
       "      <td>0.081414</td>\n",
       "    </tr>\n",
       "  </tbody>\n",
       "</table>\n",
       "</div>"
      ],
      "text/plain": [
       "   Unnamed: 0  y      trt  base  age  V4  subject  period     lbase      lage\n",
       "0           1  5  placebo    11   31   0        1       1 -0.756354  0.114204\n",
       "1           2  3  placebo    11   31   0        1       2 -0.756354  0.114204\n",
       "2           3  3  placebo    11   31   0        1       3 -0.756354  0.114204\n",
       "3           4  3  placebo    11   31   1        1       4 -0.756354  0.114204\n",
       "4           5  3  placebo    11   30   0        2       1 -0.756354  0.081414"
      ]
     },
     "execution_count": 57,
     "metadata": {},
     "output_type": "execute_result"
    }
   ],
   "source": [
    "data = pd.read_csv(\"epil.csv\")\n",
    "data.head()"
   ]
  },
  {
   "cell_type": "code",
   "execution_count": 58,
   "id": "alternative-murder",
   "metadata": {},
   "outputs": [
    {
     "data": {
      "text/html": [
       "<div>\n",
       "<style scoped>\n",
       "    .dataframe tbody tr th:only-of-type {\n",
       "        vertical-align: middle;\n",
       "    }\n",
       "\n",
       "    .dataframe tbody tr th {\n",
       "        vertical-align: top;\n",
       "    }\n",
       "\n",
       "    .dataframe thead th {\n",
       "        text-align: right;\n",
       "    }\n",
       "</style>\n",
       "<table border=\"1\" class=\"dataframe\">\n",
       "  <thead>\n",
       "    <tr style=\"text-align: right;\">\n",
       "      <th></th>\n",
       "      <th>base</th>\n",
       "      <th>age</th>\n",
       "      <th>y</th>\n",
       "    </tr>\n",
       "  </thead>\n",
       "  <tbody>\n",
       "    <tr>\n",
       "      <th>count</th>\n",
       "      <td>236.000000</td>\n",
       "      <td>236.000000</td>\n",
       "      <td>236.000000</td>\n",
       "    </tr>\n",
       "    <tr>\n",
       "      <th>mean</th>\n",
       "      <td>31.220339</td>\n",
       "      <td>28.338983</td>\n",
       "      <td>8.254237</td>\n",
       "    </tr>\n",
       "    <tr>\n",
       "      <th>std</th>\n",
       "      <td>26.705051</td>\n",
       "      <td>6.261290</td>\n",
       "      <td>12.346891</td>\n",
       "    </tr>\n",
       "    <tr>\n",
       "      <th>min</th>\n",
       "      <td>6.000000</td>\n",
       "      <td>18.000000</td>\n",
       "      <td>0.000000</td>\n",
       "    </tr>\n",
       "    <tr>\n",
       "      <th>25%</th>\n",
       "      <td>12.000000</td>\n",
       "      <td>23.000000</td>\n",
       "      <td>2.750000</td>\n",
       "    </tr>\n",
       "    <tr>\n",
       "      <th>50%</th>\n",
       "      <td>22.000000</td>\n",
       "      <td>28.000000</td>\n",
       "      <td>4.000000</td>\n",
       "    </tr>\n",
       "    <tr>\n",
       "      <th>75%</th>\n",
       "      <td>41.000000</td>\n",
       "      <td>32.000000</td>\n",
       "      <td>9.000000</td>\n",
       "    </tr>\n",
       "    <tr>\n",
       "      <th>max</th>\n",
       "      <td>151.000000</td>\n",
       "      <td>42.000000</td>\n",
       "      <td>102.000000</td>\n",
       "    </tr>\n",
       "  </tbody>\n",
       "</table>\n",
       "</div>"
      ],
      "text/plain": [
       "             base         age           y\n",
       "count  236.000000  236.000000  236.000000\n",
       "mean    31.220339   28.338983    8.254237\n",
       "std     26.705051    6.261290   12.346891\n",
       "min      6.000000   18.000000    0.000000\n",
       "25%     12.000000   23.000000    2.750000\n",
       "50%     22.000000   28.000000    4.000000\n",
       "75%     41.000000   32.000000    9.000000\n",
       "max    151.000000   42.000000  102.000000"
      ]
     },
     "execution_count": 58,
     "metadata": {},
     "output_type": "execute_result"
    }
   ],
   "source": [
    "data[['base','age','y']].describe()"
   ]
  },
  {
   "cell_type": "code",
   "execution_count": 59,
   "id": "proprietary-essex",
   "metadata": {},
   "outputs": [
    {
     "data": {
      "text/plain": [
       "       trt      \n",
       "count  placebo      112.000000\n",
       "       progabide    124.000000\n",
       "mean   placebo        8.580357\n",
       "       progabide      7.959677\n",
       "std    placebo       10.369427\n",
       "       progabide     13.929789\n",
       "min    placebo        0.000000\n",
       "       progabide      0.000000\n",
       "25%    placebo        3.000000\n",
       "       progabide      2.000000\n",
       "50%    placebo        5.000000\n",
       "       progabide      4.000000\n",
       "75%    placebo       12.000000\n",
       "       progabide      8.000000\n",
       "max    placebo       76.000000\n",
       "       progabide    102.000000\n",
       "dtype: float64"
      ]
     },
     "execution_count": 59,
     "metadata": {},
     "output_type": "execute_result"
    }
   ],
   "source": [
    "grouped_data = data.groupby(['trt'])\n",
    "grouped_data['y'].describe().unstack()"
   ]
  },
  {
   "cell_type": "markdown",
   "id": "wired-wilson",
   "metadata": {},
   "source": [
    "Мы можем начать с графика, который показывает, как базовое количество приступов связано с количеством приступов в каждом из 4 последующих периодов. Ясно, что у субъектов, у которых было больше приступов в базовом периоде, также было больше приступов в последующие периоды."
   ]
  },
  {
   "cell_type": "code",
   "execution_count": 60,
   "id": "alternate-ivory",
   "metadata": {
    "tags": []
   },
   "outputs": [
    {
     "data": {
      "image/png": "[encoded data removed]",
      "text/plain": [
       "<Figure size 432x288 with 1 Axes>"
      ]
     },
     "metadata": {
      "needs_background": "light"
     },
     "output_type": "display_data"
    }
   ],
   "source": [
    "for period in range(1,5):\n",
    "    ii = data['period'] == period\n",
    "    x = np.sqrt(data['base'].loc[ii])\n",
    "    y = np.sqrt(data['y'].loc[ii])\n",
    "    plt.plot(x, y, 'o', color='rgbc'[period-1], label=str(period), alpha=0.5)\n",
    "plt.xlabel(\"Базовый период\", size=17)\n",
    "plt.ylabel(\"Последующие периоды\", size=17)\n",
    "plt.ylim(ymin=-0.5)\n",
    "ha, lb = plt.gca().get_legend_handles_labels()\n",
    "leg = plt.figlegend(ha, lb, \"center right\", numpoints=1, handletextpad=0.0001)\n",
    "leg.draw_frame(False)"
   ]
  },
  {
   "cell_type": "markdown",
   "id": "instant-template",
   "metadata": {},
   "source": [
    "GEE учитывает зависимость между наблюдениями через задание корреляционной структуры."
   ]
  },
  {
   "cell_type": "markdown",
   "id": "actual-humanity",
   "metadata": {},
   "source": [
    "Построим разновидность обобщенной линейной модели (GEE model) - Пуассоновскую регрессию. Предположим независимую корреляционную структуру:"
   ]
  },
  {
   "cell_type": "code",
   "execution_count": 61,
   "id": "continuing-opera",
   "metadata": {},
   "outputs": [
    {
     "name": "stdout",
     "output_type": "stream",
     "text": [
      "                               GEE Regression Results                              \n",
      "===================================================================================\n",
      "Dep. Variable:                           y   No. Observations:                  236\n",
      "Model:                                 GEE   No. clusters:                       59\n",
      "Method:                        Generalized   Min. cluster size:                   4\n",
      "                      Estimating Equations   Max. cluster size:                   4\n",
      "Family:                            Poisson   Mean cluster size:                 4.0\n",
      "Dependence structure:         Independence   Num. iterations:                     2\n",
      "Date:                     Wed, 31 Mar 2021   Scale:                           1.000\n",
      "Covariance type:                    robust   Time:                         17:34:20\n",
      "====================================================================================\n",
      "                       coef    std err          z      P>|z|      [0.025      0.975]\n",
      "------------------------------------------------------------------------------------\n",
      "Intercept            0.5730      0.361      1.589      0.112      -0.134       1.280\n",
      "trt[T.progabide]    -0.1519      0.171     -0.888      0.375      -0.487       0.183\n",
      "age                  0.0223      0.011      1.960      0.050    2.11e-06       0.045\n",
      "base                 0.0226      0.001     18.451      0.000       0.020       0.025\n",
      "==============================================================================\n",
      "Skew:                          3.7823   Kurtosis:                      28.6672\n",
      "Centered skew:                 2.7597   Centered kurtosis:             21.9865\n",
      "==============================================================================\n"
     ]
    }
   ],
   "source": [
    "fam = Poisson()\n",
    "ind = Independence()\n",
    "model1 = GEE.from_formula(\"y ~ age + trt + base\", \"subject\", data, cov_struct=ind, family=fam)\n",
    "result1 = model1.fit()\n",
    "print(result1.summary())"
   ]
  },
  {
   "cell_type": "markdown",
   "id": "collaborative-zealand",
   "metadata": {},
   "source": [
    "В соответствии с диаграммой рассеяния, показанной выше, у субъектов с большим количеством исходных припадков в последующий период наблюдается больше припадков. Стандартное отклонение числа припадков в базовом периоде составляет 26,7, поэтому у субъекта, у которого на 1 стандартное отклонение больше среднее число припадков в течение базового периода, в среднем в exp(26,7 * 0,0226) = 1,7 раза больше припадков в течение периода наблюдения (по сравнению с субъектом, число пипадков у которого в базовом периоде равно среднему значению). Существует также положительная связь между возрастом и количеством приступов после лечения: с каждым последующим десятилетием возраста в exp(10 * 0,0223) = 1,25 раза больше приступов, по сравнению со средним возрастом. У субъектов, которые подвергались лечению, меньше приступов, но нет статистических доказательств эффекта лечения."
   ]
  },
  {
   "cell_type": "markdown",
   "id": "integrated-prison",
   "metadata": {},
   "source": [
    "В пуассоновской регрессии зависимая переменная моделируется как логарифм условного среднего $\\log_{e}(λ)$. Регрессионный коэффициент для возраста, равный 0.0223, показывает, что каждый дополнительный год возраста при постоянных значениях числа припадков до лечения и способа лечения сопряжен с увеличением логарифма среднего значения числа припадков на 0.02. Поскольку не бывает нулевого возраста и никто из участников эксперимента не имел нулевого числа припадков до лечения, свободный коэффициент не имеет смысла.\n",
    "Обычно гораздо проще интерпретировать регрессионные коэффициенты, когда они выражены в исходных единицах зависимой переменной (число припадков, а не логарифм этого числа). Для этого коэффициенты нужно потенцировать:"
   ]
  },
  {
   "cell_type": "code",
   "execution_count": 62,
   "id": "conservative-place",
   "metadata": {},
   "outputs": [
    {
     "name": "stdout",
     "output_type": "stream",
     "text": [
      "Intercept           0.573044\n",
      "trt[T.progabide]   -0.151880\n",
      "age                 0.022348\n",
      "base                0.022635\n",
      "dtype: float64\n"
     ]
    }
   ],
   "source": [
    "print(result1.params)"
   ]
  },
  {
   "cell_type": "code",
   "execution_count": 63,
   "id": "assured-converter",
   "metadata": {},
   "outputs": [
    {
     "name": "stdout",
     "output_type": "stream",
     "text": [
      "Intercept           1.773657\n",
      "trt[T.progabide]    0.859091\n",
      "age                 1.022599\n",
      "base                1.022893\n",
      "dtype: float64\n"
     ]
    }
   ],
   "source": [
    "import math\n",
    "print(np.exp(result1.params))"
   ]
  },
  {
   "cell_type": "markdown",
   "id": "individual-hindu",
   "metadata": {},
   "source": [
    "Теперь видно, что увеличение возраста на один год увеличивает число припадков в 1.023 раза. Это значит, что старший возраст сопряжен с большим числом припадков. Более важно, что изменение типа лечения на единицу (то есть переход от плацебо к настоящему лекарству) уменьшает число припадков в 0.86 раза. Можно ожидать снижения числа припадков на 14% у пациентов, принимающих настоящее лекарство, по сравнению с теми, кто принимает плацебо, при постоянных значениях возраста и числа припадков до лечения.\n",
    "Важно помнить, что, как и экспоненциальные параметры в логистической регрессии, экспоненциальные параметры в пуассоновской регрессии оказывают мультипликативный, а не аддитивный эффект на зависимую переменную. Так же, как и для логистической регрессии, нужно проверить модель на наличие избыточной дисперсии."
   ]
  },
  {
   "cell_type": "markdown",
   "id": "satellite-convertible",
   "metadata": {},
   "source": [
    "### 2. Отрицательная биномиальная регрессия (Negative Binomial Regression, NB model)"
   ]
  },
  {
   "cell_type": "markdown",
   "id": "cubic-scott",
   "metadata": {},
   "source": [
    "https://towardsdatascience.com/negative-binomial-regression-f99031bb25b4"
   ]
  },
  {
   "cell_type": "markdown",
   "id": "flexible-review",
   "metadata": {},
   "source": [
    "Часто дисперсия превышает среднее значение. Это свойство называется избыточной дисперсией. Иногда дисперсия меньше среднего, тогда наблюдается недостаточная дисперсия. В таких случаях нужно использовать регрессионную модель, которая не будет требовать выполнения условия, необходимого для построения пуассоновской регрессии: дисперсия = среднее."
   ]
  },
  {
   "cell_type": "markdown",
   "id": "administrative-village",
   "metadata": {},
   "source": [
    "Отрицательная биномиальная регрессия (Negative Binomial Regression, NB model) - одна из таких моделей."
   ]
  },
  {
   "cell_type": "markdown",
   "id": "modified-drilling",
   "metadata": {},
   "source": [
    "Цель нашей модели - спрогнозировать количество велосипедистов, пересекающих Бруклинский мост в любой день."
   ]
  },
  {
   "cell_type": "markdown",
   "id": "damaged-capability",
   "metadata": {},
   "source": [
    "Воспользуемся NB моделью, а верней, ее частным случаем - NB2 моделью."
   ]
  },
  {
   "cell_type": "markdown",
   "id": "enhanced-bruce",
   "metadata": {},
   "source": [
    "Статегия NB2 модели:\n",
    "* ШАГ 1: Постройте Пуассоновскую регрессионную модель на наборе данных. Это даст нам вектор значений λ.\n",
    "* ШАГ 2: Постройте стандартную линейную регрессию на наборе данных. Это даст нам значение α.\n",
    "* ШАГ 3: Используйте α из ШАГА 2, чтобы построить NB2 модель на наборе данных.\n",
    "* ШАГ 4: Используйте построенную NB2 модель для прогнозирования ожидаемого значения счетной переменной по набору тестовых данных.\n",
    "* ШАГ 5: Проверьте соответствие модели NB2 исходным данным."
   ]
  },
  {
   "cell_type": "markdown",
   "id": "labeled-classics",
   "metadata": {},
   "source": [
    "Подробней смотри: https://towardsdatascience.com/negative-binomial-regression-f99031bb25b4"
   ]
  },
  {
   "cell_type": "code",
   "execution_count": null,
   "id": "wired-chicken",
   "metadata": {
    "tags": []
   },
   "outputs": [],
   "source": []
  }
 ],
 "metadata": {
  "kernelspec": {
   "display_name": "Python 3",
   "language": "python",
   "name": "python3"
  },
  "language_info": {
   "codemirror_mode": {
    "name": "ipython",
    "version": 3
   },
   "file_extension": ".py",
   "mimetype": "text/x-python",
   "name": "python",
   "nbconvert_exporter": "python",
   "pygments_lexer": "ipython3",
   "version": "3.7.4"
  }
 },
 "nbformat": 4,
 "nbformat_minor": 5
}
