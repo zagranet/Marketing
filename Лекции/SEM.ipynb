{
 "cells": [
  {
   "cell_type": "markdown",
   "id": "sweet-queensland",
   "metadata": {},
   "source": [
    "# SEM (моделирование структурными уравнениями)"
   ]
  },
  {
   "cell_type": "code",
   "execution_count": 1,
   "id": "ready-headline",
   "metadata": {
    "tags": []
   },
   "outputs": [],
   "source": [
    "# https://pypi.org/project/semopy/"
   ]
  },
  {
   "cell_type": "code",
   "execution_count": 2,
   "id": "corporate-canyon",
   "metadata": {},
   "outputs": [],
   "source": [
    "# https://gitlab.com/georgy.m/semopy/-/blob/master/notebooks/semopy%20-%20Walkthrough.ipynb"
   ]
  },
  {
   "cell_type": "code",
   "execution_count": 3,
   "id": "spatial-switzerland",
   "metadata": {
    "tags": []
   },
   "outputs": [],
   "source": [
    "# pip install semopy"
   ]
  },
  {
   "cell_type": "markdown",
   "id": "wrong-ethiopia",
   "metadata": {},
   "source": [
    "# Пример 1. Анализ демократии"
   ]
  },
  {
   "cell_type": "code",
   "execution_count": 4,
   "id": "balanced-washer",
   "metadata": {},
   "outputs": [],
   "source": [
    "# https://semopy.com/tutorial.html"
   ]
  },
  {
   "cell_type": "code",
   "execution_count": 2,
   "id": "understood-seafood",
   "metadata": {},
   "outputs": [
    {
     "name": "stdout",
     "output_type": "stream",
     "text": [
      "# measurement model\n",
      "ind60 =~ x1 + x2 + x3\n",
      "dem60 =~ y1 + y2 + y3 + y4\n",
      "dem65 =~ y5 + y6 + y7 + y8\n",
      "# regressions\n",
      "dem60 ~ ind60\n",
      "dem65 ~ ind60 + dem60\n",
      "# residual correlations\n",
      "y1 ~~ y5\n",
      "y2 ~~ y4 + y6\n",
      "y3 ~~ y7\n",
      "y4 ~~ y8\n",
      "y6 ~~ y8\n"
     ]
    }
   ],
   "source": [
    "#First, let's get text description of the SEM model\n",
    "import semopy\n",
    "import pandas as pd\n",
    "desc = semopy.examples.political_democracy.get_model()\n",
    "print(desc)"
   ]
  },
  {
   "cell_type": "code",
   "execution_count": 3,
   "id": "controversial-scholarship",
   "metadata": {},
   "outputs": [
    {
     "name": "stdout",
     "output_type": "stream",
     "text": [
      "      y1        y2        y3        y4        y5        y6        y7  \\\n",
      "1   2.50  0.000000  3.333333  0.000000  1.250000  0.000000  3.726360   \n",
      "2   1.25  0.000000  3.333333  0.000000  6.250000  1.100000  6.666666   \n",
      "3   7.50  8.800000  9.999998  9.199991  8.750000  8.094061  9.999998   \n",
      "4   8.90  8.800000  9.999998  9.199991  8.907948  8.127979  9.999998   \n",
      "5  10.00  3.333333  9.999998  6.666666  7.500000  3.333333  9.999998   \n",
      "\n",
      "         y8        x1        x2        x3  \n",
      "1  3.333333  4.442651  3.637586  2.557615  \n",
      "2  0.736999  5.384495  5.062595  3.568079  \n",
      "3  8.211809  5.961005  6.255750  5.224433  \n",
      "4  4.615086  6.285998  7.567863  6.267495  \n",
      "5  6.666666  5.863631  6.818924  4.573679  \n"
     ]
    }
   ],
   "source": [
    "#Let's get the associated dataset\n",
    "data = semopy.examples.political_democracy.get_data()\n",
    "print(data.head())"
   ]
  },
  {
   "cell_type": "code",
   "execution_count": 4,
   "id": "reliable-hundred",
   "metadata": {},
   "outputs": [
    {
     "name": "stdout",
     "output_type": "stream",
     "text": [
      "Name of objective: MLW\n",
      "Optimization method: SLSQP\n",
      "Optimization successful.\n",
      "Optimization terminated successfully\n",
      "Objective value: 0.508\n",
      "Number of iterations: 52\n",
      "Params: 2.180 1.819 1.257 1.058 1.265 1.186 1.280 1.266 1.482 0.572 0.838 0.624 1.893 1.320 2.156 7.385 0.793 5.067 0.347 3.148 1.357 4.954 2.352 3.256 3.951 0.172 0.467 0.120 0.082 3.430 0.448\n"
     ]
    }
   ],
   "source": [
    "#Now, we fit the model to the data and examine optimization results\n",
    "mod = semopy.Model(desc)\n",
    "res = mod.fit(data)\n",
    "print(res)"
   ]
  },
  {
   "cell_type": "code",
   "execution_count": 5,
   "id": "governmental-onion",
   "metadata": {},
   "outputs": [
    {
     "name": "stdout",
     "output_type": "stream",
     "text": [
      "     lval  op   rval  Estimate  Std. Err    z-value   p-value\n",
      "0   dem60   ~  ind60  1.482379  0.399024   3.715017  0.000203\n",
      "1   dem65   ~  ind60  0.571912  0.221383   2.583364  0.009784\n",
      "2   dem65   ~  dem60  0.837574  0.098446   8.507992       0.0\n",
      "3      x1   ~  ind60  1.000000         -          -         -\n",
      "4      x2   ~  ind60  2.180494  0.138565  15.736254       0.0\n",
      "5      x3   ~  ind60  1.818546  0.151993   11.96465       0.0\n",
      "6      y1   ~  dem60  1.000000         -          -         -\n",
      "7      y2   ~  dem60  1.256819  0.182687   6.879647       0.0\n",
      "8      y3   ~  dem60  1.058174  0.151521   6.983699       0.0\n",
      "9      y4   ~  dem60  1.265186  0.145151   8.716344       0.0\n",
      "10     y5   ~  dem65  1.000000         -          -         -\n",
      "11     y6   ~  dem65  1.185743  0.168908   7.020032       0.0\n",
      "12     y7   ~  dem65  1.279717  0.159996    7.99841       0.0\n",
      "13     y8   ~  dem65  1.266084  0.158238   8.001141       0.0\n",
      "14  dem60  ~~  dem60  3.950849  0.920451   4.292296  0.000018\n",
      "15  dem65  ~~  dem65  0.172210  0.214861   0.801494  0.422846\n",
      "16  ind60  ~~  ind60  0.448321  0.086677   5.172345       0.0\n",
      "17     y1  ~~     y5  0.624423  0.358435   1.742083  0.081494\n",
      "18     y1  ~~     y1  1.892743   0.44456   4.257565  0.000021\n",
      "19     y2  ~~     y4  1.319589   0.70268   1.877937   0.06039\n",
      "20     y2  ~~     y6  2.156164  0.734155   2.936934  0.003315\n",
      "21     y2  ~~     y2  7.385292  1.375671   5.368501       0.0\n",
      "22     y3  ~~     y7  0.793329  0.607642   1.305585  0.191694\n",
      "23     y3  ~~     y3  5.066628  0.951722   5.323646       0.0\n",
      "24     y4  ~~     y8  0.347222  0.442234   0.785154  0.432363\n",
      "25     y4  ~~     y4  3.147911  0.738841   4.260605   0.00002\n",
      "26     y6  ~~     y8  1.357037    0.5685   2.387047  0.016984\n",
      "27     y6  ~~     y6  4.954364  0.914284   5.418843       0.0\n",
      "28     y5  ~~     y5  2.351910  0.480369   4.896044  0.000001\n",
      "29     y8  ~~     y8  3.256389   0.69504   4.685182  0.000003\n",
      "30     x3  ~~     x3  0.466732  0.090168   5.176276       0.0\n",
      "31     x2  ~~     x2  0.119894  0.069747   1.718973  0.085619\n",
      "32     x1  ~~     x1  0.081573  0.019495   4.184317  0.000029\n",
      "33     y7  ~~     y7  3.430032  0.712732   4.812512  0.000001\n"
     ]
    }
   ],
   "source": [
    "#Finally, let's inspect parameters estimates\n",
    "ins = mod.inspect()\n",
    "print(ins)"
   ]
  },
  {
   "cell_type": "code",
   "execution_count": 51,
   "id": "possible-click",
   "metadata": {},
   "outputs": [
    {
     "name": "stdout",
     "output_type": "stream",
     "text": [
      "                    Value\n",
      "DoF             35.000000\n",
      "DoF Baseline    55.000000\n",
      "chi2            38.125446\n",
      "chi2 p-value     0.329171\n",
      "chi2 Baseline  730.654577\n",
      "CFI              0.995374\n",
      "GFI              0.947820\n",
      "AGFI             0.918003\n",
      "NFI              0.947820\n",
      "TLI              0.992731\n",
      "RMSEA            0.034738\n",
      "AIC             60.983321\n",
      "BIC            132.825453\n",
      "LogLik           0.508339\n"
     ]
    }
   ],
   "source": [
    "#You can calculate indices by calling the calc_stats function\n",
    "import semopy\n",
    "\n",
    "data = semopy.examples.political_democracy.get_data()\n",
    "mod = semopy.examples.political_democracy.get_model()\n",
    "m = semopy.Model(mod)\n",
    "res = m.fit(data)\n",
    "stats = semopy.calc_stats(m)\n",
    "print(stats.T)"
   ]
  },
  {
   "cell_type": "code",
   "execution_count": 53,
   "id": "gross-swiss",
   "metadata": {},
   "outputs": [],
   "source": [
    "#Semopy provides a report function that takes a fitted model and generates an HTML file\n",
    "from semopy.examples import political_democracy\n",
    "from semopy import ModelMeans\n",
    "\n",
    "desc = political_democracy.get_model()\n",
    "data = political_democracy.get_data()\n",
    "model = ModelMeans(desc)\n",
    "model.fit(data)\n",
    "semopy.report(model, \"Political Democracy\")"
   ]
  },
  {
   "cell_type": "markdown",
   "id": "deluxe-shadow",
   "metadata": {},
   "source": [
    "# Пример 2. Модель Наследова КФА1 (CFA1)"
   ]
  },
  {
   "cell_type": "code",
   "execution_count": 1,
   "id": "european-government",
   "metadata": {},
   "outputs": [],
   "source": [
    "import os\n",
    "os.chdir(\"C:/Users/HP/Documents/analysis/Marketing/data/\")"
   ]
  },
  {
   "cell_type": "markdown",
   "id": "noted-homework",
   "metadata": {},
   "source": [
    "## Эксплораторный факторный анализ"
   ]
  },
  {
   "cell_type": "code",
   "execution_count": 2,
   "id": "ahead-spelling",
   "metadata": {},
   "outputs": [],
   "source": [
    "import pandas as pd\n",
    "data = pd.read_spss('IQ.sav')"
   ]
  },
  {
   "cell_type": "markdown",
   "id": "centered-triangle",
   "metadata": {},
   "source": [
    "### 1. Проверка данных на нормальность - смотри пример 4."
   ]
  },
  {
   "cell_type": "markdown",
   "id": "quiet-florence",
   "metadata": {},
   "source": [
    "### 2. Вычисление корреляционной матрицы, критерия КМО (д.б. >0.4) и критерия сферичности Бартлетта (д.б. значим)."
   ]
  },
  {
   "cell_type": "markdown",
   "id": "insured-hacker",
   "metadata": {},
   "source": [
    "КМО - мера адекватности выборки Кайзера-Майера-Олкина."
   ]
  },
  {
   "cell_type": "code",
   "execution_count": 3,
   "id": "blessed-junction",
   "metadata": {},
   "outputs": [
    {
     "name": "stdout",
     "output_type": "stream",
     "text": [
      "           и1        и2        и3        и4        и5        и6        и7  \\\n",
      "и1   1.000000  0.278136  0.382815  0.056543  0.126228  0.288101  0.227740   \n",
      "и2   0.278136  1.000000  0.317020  0.265253  0.434426  0.386914  0.288940   \n",
      "и3   0.382815  0.317020  1.000000  0.236654  0.247927  0.338364  0.303717   \n",
      "и4   0.056543  0.265253  0.236654  1.000000  0.387524  0.113632  0.568078   \n",
      "и5   0.126228  0.434426  0.247927  0.387524  1.000000  0.328341  0.225023   \n",
      "и6   0.288101  0.386914  0.338364  0.113632  0.328341  1.000000  0.173320   \n",
      "и7   0.227740  0.288940  0.303717  0.568078  0.225023  0.173320  1.000000   \n",
      "и8   0.190804  0.318136  0.345558  0.631521  0.186739  0.239513  0.467591   \n",
      "и9   0.018499  0.290475  0.309067  0.418084  0.244287  0.182486  0.584902   \n",
      "и10  0.024130  0.529594  0.183897  0.515799  0.436619  0.192450  0.267243   \n",
      "и11  0.440035  0.176305  0.440594 -0.018582  0.249810  0.328322  0.076681   \n",
      "\n",
      "           и8        и9       и10       и11  \n",
      "и1   0.190804  0.018499  0.024130  0.440035  \n",
      "и2   0.318136  0.290475  0.529594  0.176305  \n",
      "и3   0.345558  0.309067  0.183897  0.440594  \n",
      "и4   0.631521  0.418084  0.515799 -0.018582  \n",
      "и5   0.186739  0.244287  0.436619  0.249810  \n",
      "и6   0.239513  0.182486  0.192450  0.328322  \n",
      "и7   0.467591  0.584902  0.267243  0.076681  \n",
      "и8   1.000000  0.428079  0.323971  0.214676  \n",
      "и9   0.428079  1.000000  0.355630  0.040069  \n",
      "и10  0.323971  0.355630  1.000000 -0.033488  \n",
      "и11  0.214676  0.040069 -0.033488  1.000000  \n"
     ]
    }
   ],
   "source": [
    "correlations = data.corr(method='pearson')\n",
    "print(correlations)"
   ]
  },
  {
   "cell_type": "code",
   "execution_count": 4,
   "id": "sunset-delhi",
   "metadata": {},
   "outputs": [
    {
     "data": {
      "image/png": "[encoded data removed]",
      "text/plain": [
       "<Figure size 576x432 with 2 Axes>"
      ]
     },
     "metadata": {
      "needs_background": "light"
     },
     "output_type": "display_data"
    }
   ],
   "source": [
    "import matplotlib.pyplot as plt\n",
    "import seaborn as sns\n",
    "fig = plt.figure(figsize=(8,6))\n",
    "sns.heatmap(data.corr(), annot = True)\n",
    "plt.show()"
   ]
  },
  {
   "cell_type": "code",
   "execution_count": 5,
   "id": "initial-upgrade",
   "metadata": {
    "tags": []
   },
   "outputs": [],
   "source": [
    "#!pip install factor_analyzer"
   ]
  },
  {
   "cell_type": "code",
   "execution_count": 6,
   "id": "golden-province",
   "metadata": {},
   "outputs": [],
   "source": [
    "#https://github.com/Sarmentor/KMO-Bartlett-Tests-Python/blob/master/correlation.py"
   ]
  },
  {
   "cell_type": "code",
   "execution_count": 7,
   "id": "eleven-figure",
   "metadata": {},
   "outputs": [],
   "source": [
    "#https://www.analyticsvidhya.com/blog/2020/10/dimensionality-reduction-using-factor-analysis-in-python/"
   ]
  },
  {
   "cell_type": "code",
   "execution_count": 5,
   "id": "searching-sector",
   "metadata": {},
   "outputs": [
    {
     "name": "stdout",
     "output_type": "stream",
     "text": [
      "0.7339669795474386\n"
     ]
    }
   ],
   "source": [
    "#KMO Test\n",
    "from factor_analyzer.factor_analyzer import calculate_kmo\n",
    "kmo_vars,kmo_model = calculate_kmo(data)\n",
    "print(kmo_model)"
   ]
  },
  {
   "cell_type": "markdown",
   "id": "formed-basic",
   "metadata": {},
   "source": [
    "KMO Test measures the proportion of variance that might be a common variance among the variables. Larger proportions are expected as it represents more correlation is present among the variables thereby giving way for the application of dimensionality reduction techniques such as Factor Analysis. KMO score is always between 0 to 1 and values more than 0.6 are much appreciated. We can also say it as a measure of how suited our data is for factor analysis."
   ]
  },
  {
   "cell_type": "markdown",
   "id": "welcome-civilization",
   "metadata": {},
   "source": [
    "По результатам анализа, КМО > 0.6. Следовательно, данные подходят для факторного анализа."
   ]
  },
  {
   "cell_type": "code",
   "execution_count": 6,
   "id": "natural-penalty",
   "metadata": {},
   "outputs": [
    {
     "name": "stdout",
     "output_type": "stream",
     "text": [
      "Chi squared value :  700.1476412435483\n",
      "p value :  5.818102381135092e-113\n"
     ]
    }
   ],
   "source": [
    "#Bartlett Sphericity Test\n",
    "from factor_analyzer.factor_analyzer import calculate_bartlett_sphericity\n",
    "chi2, p = calculate_bartlett_sphericity(data)\n",
    "print(\"Chi squared value : \",chi2)\n",
    "print(\"p value : \",p)"
   ]
  },
  {
   "cell_type": "markdown",
   "id": "fourth-socket",
   "metadata": {},
   "source": [
    "Bartlett’s test checks whether the correlation is present in the given data.\n",
    "* H0: the matrix of population correlations is equal to the identity matrix\n",
    "* H1: the matrix of population correlations is different from the identity matrix.\n",
    "\n",
    "Exploratory factor analysis is only useful if the matrix of population correlation is statistically different from the identity matrix. "
   ]
  },
  {
   "cell_type": "markdown",
   "id": "individual-spoke",
   "metadata": {},
   "source": [
    "По результатам проведения теста Бартлетта, p value < 0.05. Следовательно, H0 отклоняется, т.е. корреляция между признаками есть и можно проводить факторный анализ."
   ]
  },
  {
   "cell_type": "markdown",
   "id": "threatened-official",
   "metadata": {},
   "source": [
    "### 3. Анализ главных компонент и оценка числа факторов по графику собственных значений"
   ]
  },
  {
   "cell_type": "code",
   "execution_count": 32,
   "id": "hungry-example",
   "metadata": {},
   "outputs": [],
   "source": [
    "# https://www.analyticsvidhya.com/blog/2020/10/dimensionality-reduction-using-factor-analysis-in-python/"
   ]
  },
  {
   "cell_type": "markdown",
   "id": "rotary-google",
   "metadata": {},
   "source": [
    "The number of factors in our dataset is equal to the number of variables in our dataset. The number of factors can be decided on the basis of the amount of common variance the factors explain. In general, we will plot the factors and their eigenvalues. Eigenvalues are nothing but the amount of variance the factor explains. We will select the number of factors whose eigenvalues are greater than 1. But why should we choose the factors whose eigenvalues are greater than 1? The answer is very simple. In a standard normal distribution with mean 0 and Standard deviation 1, the variance will be 1."
   ]
  },
  {
   "cell_type": "code",
   "execution_count": 7,
   "id": "exempt-truck",
   "metadata": {},
   "outputs": [
    {
     "name": "stdout",
     "output_type": "stream",
     "text": [
      "[[ 0.698 -0.279  0.456 -1.487 -1.039  0.51   0.711 -0.698  0.012 -0.412\n",
      "   0.711]\n",
      " [-0.229  0.782  0.855 -0.037 -0.04   0.929 -0.607  0.983 -1.32  -0.035\n",
      "   0.711]\n",
      " [ 0.234 -0.632 -0.343 -0.037  0.46   0.929 -0.607  0.563 -0.987 -0.035\n",
      "  -0.584]\n",
      " [ 1.625  0.782  1.654  0.929  1.459 -0.328 -0.607 -0.278  0.012 -0.035\n",
      "   1.143]\n",
      " [ 0.698  0.782 -0.343 -0.52  -0.54   0.929 -1.924  0.142 -2.986 -0.035\n",
      "  -0.152]]\n"
     ]
    }
   ],
   "source": [
    "# Standardize data (0 mean, 1 stdev)\n",
    "from sklearn.preprocessing import StandardScaler\n",
    "from numpy import set_printoptions\n",
    "scaler = StandardScaler().fit(data)\n",
    "rescaled_data = scaler.transform(data)\n",
    "# summarize transformed data\n",
    "set_printoptions(precision=3)\n",
    "print(rescaled_data[0:5,:])"
   ]
  },
  {
   "cell_type": "markdown",
   "id": "funky-instruction",
   "metadata": {},
   "source": [
    "Since we have standard scaled the data the variance of a feature is 1. This is the reason for selecting factors whose eigenvalues(variance) are greater than 1 i.e. the factors which explain more variance than a single observed variable."
   ]
  },
  {
   "cell_type": "code",
   "execution_count": 8,
   "id": "mental-modeling",
   "metadata": {},
   "outputs": [
    {
     "data": {
      "image/png": "[encoded data removed]",
      "text/plain": [
       "<Figure size 432x288 with 1 Axes>"
      ]
     },
     "metadata": {
      "needs_background": "light"
     },
     "output_type": "display_data"
    }
   ],
   "source": [
    "from factor_analyzer import FactorAnalyzer\n",
    "fa = FactorAnalyzer(rotation = None,impute = \"drop\",n_factors=rescaled_data.shape[1])\n",
    "fa.fit(rescaled_data)\n",
    "ev,_ = fa.get_eigenvalues()\n",
    "plt.scatter(range(1,rescaled_data.shape[1]+1),ev)\n",
    "plt.plot(range(1,rescaled_data.shape[1]+1),ev)\n",
    "plt.title('Scree Plot')\n",
    "plt.xlabel('Factors')\n",
    "plt.ylabel('Eigen Value')\n",
    "plt.grid()"
   ]
  },
  {
   "cell_type": "markdown",
   "id": "democratic-ground",
   "metadata": {},
   "source": [
    "Из рисунка видим, что собственное значение падает ниже 1 начиная с 4-го фактора. Поэтому оптимальное число факторов - 3."
   ]
  },
  {
   "cell_type": "markdown",
   "id": "accessible-atlas",
   "metadata": {},
   "source": [
    "Проверим сказанное на основе метода главных компонент."
   ]
  },
  {
   "cell_type": "code",
   "execution_count": 9,
   "id": "personalized-hanging",
   "metadata": {},
   "outputs": [],
   "source": [
    "from sklearn.decomposition import PCA"
   ]
  },
  {
   "cell_type": "code",
   "execution_count": 10,
   "id": "antique-april",
   "metadata": {},
   "outputs": [
    {
     "data": {
      "text/plain": [
       "PCA(n_components=3)"
      ]
     },
     "execution_count": 10,
     "metadata": {},
     "output_type": "execute_result"
    }
   ],
   "source": [
    "#С помощью метода главных компонент выделим 3 главные компоненты\n",
    "pca = PCA(n_components=3)\n",
    "pca.fit(rescaled_data)"
   ]
  },
  {
   "cell_type": "code",
   "execution_count": 11,
   "id": "operating-crazy",
   "metadata": {},
   "outputs": [
    {
     "data": {
      "text/plain": [
       "array([26.842, 18.14 , 14.856])"
      ]
     },
     "execution_count": 11,
     "metadata": {},
     "output_type": "execute_result"
    }
   ],
   "source": [
    "#Собственные значения\n",
    "pca.singular_values_"
   ]
  },
  {
   "cell_type": "code",
   "execution_count": 12,
   "id": "portuguese-reaction",
   "metadata": {},
   "outputs": [
    {
     "data": {
      "text/plain": [
       "array([0.356, 0.163, 0.109])"
      ]
     },
     "execution_count": 12,
     "metadata": {},
     "output_type": "execute_result"
    }
   ],
   "source": [
    "#Объясненная дисперсия\n",
    "pca.explained_variance_ratio_"
   ]
  },
  {
   "cell_type": "code",
   "execution_count": 13,
   "id": "starting-freeware",
   "metadata": {},
   "outputs": [
    {
     "name": "stdout",
     "output_type": "stream",
     "text": [
      "[[-0.2   -0.335 -0.305 -0.352 -0.299 -0.258 -0.342 -0.352 -0.32  -0.313\n",
      "  -0.185]\n",
      " [-0.462 -0.067 -0.301  0.349 -0.027 -0.313  0.196  0.121  0.252  0.26\n",
      "  -0.535]\n",
      " [-0.181  0.404 -0.197 -0.113  0.469  0.219 -0.376 -0.311 -0.223  0.429\n",
      "  -0.114]]\n"
     ]
    }
   ],
   "source": [
    "#Координаты компонент \n",
    "print (pca.components_)"
   ]
  },
  {
   "cell_type": "markdown",
   "id": "closed-cycle",
   "metadata": {},
   "source": [
    "### 4. Факторный анализ и интерпретация факторов"
   ]
  },
  {
   "cell_type": "code",
   "execution_count": 8,
   "id": "sustained-wilson",
   "metadata": {},
   "outputs": [],
   "source": [
    "# https://www.analyticsvidhya.com/blog/2020/10/dimensionality-reduction-using-factor-analysis-in-python/"
   ]
  },
  {
   "cell_type": "markdown",
   "id": "affecting-vertex",
   "metadata": {},
   "source": [
    "Create an optimal number of factors i.e. 3 in our case. Then, we have to interpret the factors by making use of loadings, variance, and commonalities."
   ]
  },
  {
   "cell_type": "code",
   "execution_count": 14,
   "id": "chemical-archives",
   "metadata": {},
   "outputs": [
    {
     "name": "stdout",
     "output_type": "stream",
     "text": [
      "            0         1         2\n",
      "и1   0.080661  0.603255  0.052619\n",
      "и2   0.193695  0.294815  0.631743\n",
      "и3   0.297040  0.577088  0.159373\n",
      "и4   0.744854 -0.049060  0.328450\n",
      "и5   0.178165  0.217800  0.555363\n",
      "и6   0.085643  0.461925  0.328006\n",
      "и7   0.743603  0.163292  0.098763\n",
      "и8   0.649734  0.231956  0.171715\n",
      "и9   0.609550  0.072860  0.211753\n",
      "и10  0.327284 -0.090637  0.747687\n",
      "и11 -0.008053  0.725004  0.043057\n"
     ]
    }
   ],
   "source": [
    "# LOADINGS\n",
    "# Аналог повернутой факторной матрицы в SPSS\n",
    "fa = FactorAnalyzer(n_factors=3,rotation='varimax')\n",
    "fa.fit(rescaled_data)\n",
    "print(pd.DataFrame(fa.loadings_,index=data.columns))"
   ]
  },
  {
   "cell_type": "markdown",
   "id": "mexican-champagne",
   "metadata": {},
   "source": [
    "Loadings indicate how much a factor explains a variable. The loading score will range from -1 to 1.Values close to -1 or 1 indicate that the factor has an influence on these variables. Values close to 0 indicates that the factor has a lower influencer on the variable."
   ]
  },
  {
   "cell_type": "markdown",
   "id": "complimentary-observer",
   "metadata": {},
   "source": [
    "В нашем случае: \n",
    "* Фактор 0 имеет наибольшее влияние на следующие переменные: и7, и8, и9.\n",
    "* Фактор 1 имеет наибольшее влияние на следующие переменные: и1, и3, и11, и6.\n",
    "* Фактор 2 имеет наибольшее влияние на следующие переменные: и2, и5, и10."
   ]
  },
  {
   "cell_type": "code",
   "execution_count": 9,
   "id": "caroline-omaha",
   "metadata": {},
   "outputs": [],
   "source": [
    "# https://towardsdatascience.com/how-to-analyze-survey-data-with-python-84eff9cc9568"
   ]
  },
  {
   "cell_type": "code",
   "execution_count": 10,
   "id": "physical-maria",
   "metadata": {
    "tags": []
   },
   "outputs": [],
   "source": [
    "#!pip install pyreadstat"
   ]
  },
  {
   "cell_type": "code",
   "execution_count": 18,
   "id": "going-setup",
   "metadata": {},
   "outputs": [
    {
     "data": {
      "text/html": [
       "<div>\n",
       "<style scoped>\n",
       "    .dataframe tbody tr th:only-of-type {\n",
       "        vertical-align: middle;\n",
       "    }\n",
       "\n",
       "    .dataframe tbody tr th {\n",
       "        vertical-align: top;\n",
       "    }\n",
       "\n",
       "    .dataframe thead th {\n",
       "        text-align: right;\n",
       "    }\n",
       "</style>\n",
       "<table border=\"1\" class=\"dataframe\">\n",
       "  <thead>\n",
       "    <tr style=\"text-align: right;\">\n",
       "      <th></th>\n",
       "      <th>и1</th>\n",
       "      <th>и2</th>\n",
       "      <th>и3</th>\n",
       "      <th>и4</th>\n",
       "      <th>и5</th>\n",
       "      <th>и6</th>\n",
       "      <th>и7</th>\n",
       "      <th>и8</th>\n",
       "      <th>и9</th>\n",
       "      <th>и10</th>\n",
       "      <th>и11</th>\n",
       "    </tr>\n",
       "  </thead>\n",
       "  <tbody>\n",
       "    <tr>\n",
       "      <th>0</th>\n",
       "      <td>12.0</td>\n",
       "      <td>9.0</td>\n",
       "      <td>11.0</td>\n",
       "      <td>8.0</td>\n",
       "      <td>8.0</td>\n",
       "      <td>11.0</td>\n",
       "      <td>13.0</td>\n",
       "      <td>8.0</td>\n",
       "      <td>12.0</td>\n",
       "      <td>10.0</td>\n",
       "      <td>11.0</td>\n",
       "    </tr>\n",
       "    <tr>\n",
       "      <th>1</th>\n",
       "      <td>10.0</td>\n",
       "      <td>12.0</td>\n",
       "      <td>12.0</td>\n",
       "      <td>11.0</td>\n",
       "      <td>10.0</td>\n",
       "      <td>12.0</td>\n",
       "      <td>9.0</td>\n",
       "      <td>12.0</td>\n",
       "      <td>8.0</td>\n",
       "      <td>11.0</td>\n",
       "      <td>11.0</td>\n",
       "    </tr>\n",
       "    <tr>\n",
       "      <th>2</th>\n",
       "      <td>11.0</td>\n",
       "      <td>8.0</td>\n",
       "      <td>9.0</td>\n",
       "      <td>11.0</td>\n",
       "      <td>11.0</td>\n",
       "      <td>12.0</td>\n",
       "      <td>9.0</td>\n",
       "      <td>11.0</td>\n",
       "      <td>9.0</td>\n",
       "      <td>11.0</td>\n",
       "      <td>8.0</td>\n",
       "    </tr>\n",
       "    <tr>\n",
       "      <th>3</th>\n",
       "      <td>14.0</td>\n",
       "      <td>12.0</td>\n",
       "      <td>14.0</td>\n",
       "      <td>13.0</td>\n",
       "      <td>13.0</td>\n",
       "      <td>9.0</td>\n",
       "      <td>9.0</td>\n",
       "      <td>9.0</td>\n",
       "      <td>12.0</td>\n",
       "      <td>11.0</td>\n",
       "      <td>12.0</td>\n",
       "    </tr>\n",
       "    <tr>\n",
       "      <th>4</th>\n",
       "      <td>12.0</td>\n",
       "      <td>12.0</td>\n",
       "      <td>9.0</td>\n",
       "      <td>10.0</td>\n",
       "      <td>9.0</td>\n",
       "      <td>12.0</td>\n",
       "      <td>5.0</td>\n",
       "      <td>10.0</td>\n",
       "      <td>3.0</td>\n",
       "      <td>11.0</td>\n",
       "      <td>9.0</td>\n",
       "    </tr>\n",
       "  </tbody>\n",
       "</table>\n",
       "</div>"
      ],
      "text/plain": [
       "     и1    и2    и3    и4    и5    и6    и7    и8    и9   и10   и11\n",
       "0  12.0   9.0  11.0   8.0   8.0  11.0  13.0   8.0  12.0  10.0  11.0\n",
       "1  10.0  12.0  12.0  11.0  10.0  12.0   9.0  12.0   8.0  11.0  11.0\n",
       "2  11.0   8.0   9.0  11.0  11.0  12.0   9.0  11.0   9.0  11.0   8.0\n",
       "3  14.0  12.0  14.0  13.0  13.0   9.0   9.0   9.0  12.0  11.0  12.0\n",
       "4  12.0  12.0   9.0  10.0   9.0  12.0   5.0  10.0   3.0  11.0   9.0"
      ]
     },
     "execution_count": 18,
     "metadata": {},
     "output_type": "execute_result"
    }
   ],
   "source": [
    "import numpy as np\n",
    "import pandas as pd\n",
    "import pyreadstat\n",
    "df, meta = pyreadstat.read_sav('IQ.sav')\n",
    "df.head(5)"
   ]
  },
  {
   "cell_type": "code",
   "execution_count": 19,
   "id": "homeless-arizona",
   "metadata": {},
   "outputs": [
    {
     "data": {
      "text/plain": [
       "['осведомленность',\n",
       " 'скрытые фигуры',\n",
       " 'пропущенные слова',\n",
       " 'счет в уме',\n",
       " 'понятливость',\n",
       " 'исключение изображений',\n",
       " 'аналогии',\n",
       " 'числовые ряды',\n",
       " 'умозаключения',\n",
       " 'геометрическое сложение',\n",
       " 'заучивание слов']"
      ]
     },
     "execution_count": 19,
     "metadata": {},
     "output_type": "execute_result"
    }
   ],
   "source": [
    "meta.column_labels"
   ]
  },
  {
   "cell_type": "code",
   "execution_count": 21,
   "id": "continuous-dance",
   "metadata": {},
   "outputs": [
    {
     "data": {
      "text/plain": [
       "{'и1': 'осведомленность',\n",
       " 'и2': 'скрытые фигуры',\n",
       " 'и3': 'пропущенные слова',\n",
       " 'и4': 'счет в уме',\n",
       " 'и5': 'понятливость',\n",
       " 'и6': 'исключение изображений',\n",
       " 'и7': 'аналогии',\n",
       " 'и8': 'числовые ряды',\n",
       " 'и9': 'умозаключения',\n",
       " 'и10': 'геометрическое сложение',\n",
       " 'и11': 'заучивание слов'}"
      ]
     },
     "execution_count": 21,
     "metadata": {},
     "output_type": "execute_result"
    }
   ],
   "source": [
    "meta_dict = dict(zip(meta.column_names, meta.column_labels))\n",
    "meta_dict"
   ]
  },
  {
   "cell_type": "code",
   "execution_count": 22,
   "id": "suitable-favor",
   "metadata": {},
   "outputs": [
    {
     "data": {
      "text/plain": [
       "'осведомленность'"
      ]
     },
     "execution_count": 22,
     "metadata": {},
     "output_type": "execute_result"
    }
   ],
   "source": [
    "meta_dict['и1']"
   ]
  },
  {
   "cell_type": "code",
   "execution_count": 25,
   "id": "optical-timer",
   "metadata": {},
   "outputs": [
    {
     "data": {
      "text/plain": [
       "dict_keys(['и1', 'и2', 'и3', 'и4', 'и5', 'и6', 'и7', 'и8', 'и9', 'и10', 'и11'])"
      ]
     },
     "execution_count": 25,
     "metadata": {},
     "output_type": "execute_result"
    }
   ],
   "source": [
    "# Проинтерпретируем факторы:\n",
    "meta_dict.keys()"
   ]
  },
  {
   "cell_type": "code",
   "execution_count": 26,
   "id": "covered-antenna",
   "metadata": {},
   "outputs": [
    {
     "data": {
      "text/plain": [
       "dict_values(['осведомленность', 'скрытые фигуры', 'пропущенные слова', 'счет в уме', 'понятливость', 'исключение изображений', 'аналогии', 'числовые ряды', 'умозаключения', 'геометрическое сложение', 'заучивание слов'])"
      ]
     },
     "execution_count": 26,
     "metadata": {},
     "output_type": "execute_result"
    }
   ],
   "source": [
    "# Проинтерпретируем факторы:\n",
    "meta_dict.values()"
   ]
  },
  {
   "cell_type": "code",
   "execution_count": 30,
   "id": "fourth-carrier",
   "metadata": {
    "tags": []
   },
   "outputs": [
    {
     "data": {
      "text/plain": [
       "['аналогии', 'числовые ряды', 'умозаключения']"
      ]
     },
     "execution_count": 30,
     "metadata": {},
     "output_type": "execute_result"
    }
   ],
   "source": [
    "F0=[meta_dict[key] for key in ('и7', 'и8', 'и9')]\n",
    "F0"
   ]
  },
  {
   "cell_type": "code",
   "execution_count": 31,
   "id": "demonstrated-avenue",
   "metadata": {
    "tags": []
   },
   "outputs": [
    {
     "data": {
      "text/plain": [
       "['осведомленность',\n",
       " 'пропущенные слова',\n",
       " 'заучивание слов',\n",
       " 'исключение изображений']"
      ]
     },
     "execution_count": 31,
     "metadata": {},
     "output_type": "execute_result"
    }
   ],
   "source": [
    "F1=[meta_dict[key] for key in ('и1', 'и3', 'и11', 'и6')]\n",
    "F1"
   ]
  },
  {
   "cell_type": "code",
   "execution_count": 32,
   "id": "colored-moses",
   "metadata": {
    "tags": []
   },
   "outputs": [
    {
     "data": {
      "text/plain": [
       "['скрытые фигуры', 'понятливость', 'геометрическое сложение']"
      ]
     },
     "execution_count": 32,
     "metadata": {},
     "output_type": "execute_result"
    }
   ],
   "source": [
    "F3=[meta_dict[key] for key in ('и2', 'и5', 'и10')]\n",
    "F3"
   ]
  },
  {
   "cell_type": "markdown",
   "id": "employed-trick",
   "metadata": {},
   "source": [
    "Таким образом: \n",
    "* Фактор 0 можно назвать математические способности.\n",
    "* Фактор 1 можно назвать вербальные способности.\n",
    "* Фактор 2 можно назвать невербальные (образные) способности."
   ]
  },
  {
   "cell_type": "code",
   "execution_count": 34,
   "id": "thousand-mistress",
   "metadata": {},
   "outputs": [
    {
     "name": "stdout",
     "output_type": "stream",
     "text": [
      "                         0         1         2\n",
      "Variance          2.179972  1.666704  1.596133\n",
      "Proportional Var  0.198179  0.151519  0.145103\n",
      "Cumulative Var    0.198179  0.349698  0.494801\n"
     ]
    }
   ],
   "source": [
    "# VARIANCE\n",
    "# Аналог таблицы \"Объясненная совокупная дисперсия\" столбца \"Ротация суммы квадратов нагрузок\" в SPSS\n",
    "print(pd.DataFrame(fa.get_factor_variance(),index=['Variance','Proportional Var','Cumulative Var']))"
   ]
  },
  {
   "cell_type": "markdown",
   "id": "adult-corruption",
   "metadata": {},
   "source": [
    "Из таблицы видим результаты после вращения, а именно дисперсию переменных, объясняемую факторами (Variance), долю объясненной дисперсии (Proportional Var) и накопленную долю объясненной факторами дисперсии (Cumulative Var). Таким образом, 3 фактора совместно способны объяснить 49,5% общей дисперсии."
   ]
  },
  {
   "cell_type": "code",
   "execution_count": 37,
   "id": "liked-pierce",
   "metadata": {},
   "outputs": [
    {
     "name": "stdout",
     "output_type": "stream",
     "text": [
      "     Communalities\n",
      "и1        0.373192\n",
      "и2        0.523533\n",
      "и3        0.446663\n",
      "и4        0.665095\n",
      "и5        0.387608\n",
      "и6        0.328298\n",
      "и7        0.589364\n",
      "и8        0.505443\n",
      "и9        0.421698\n",
      "и10       0.674365\n",
      "и11       0.527550\n"
     ]
    }
   ],
   "source": [
    "# COMMUNALITIES\n",
    "# Аналог общности в SPSS\n",
    "print(pd.DataFrame(fa.get_communalities(),index=data.columns,columns=['Communalities']))"
   ]
  },
  {
   "cell_type": "markdown",
   "id": "brazilian-lover",
   "metadata": {},
   "source": [
    "В таблице мы видим для каждой переменной долю дисперсии, объясненной факторами. Например, для переменной и1 37% ее дисперсии объясняется всеми факторами вместе."
   ]
  },
  {
   "cell_type": "markdown",
   "id": "affecting-personality",
   "metadata": {},
   "source": [
    "## Конфирматорный факторный анализ (на основе результатов эксплораторного ФА)"
   ]
  },
  {
   "cell_type": "code",
   "execution_count": 38,
   "id": "assured-creator",
   "metadata": {},
   "outputs": [],
   "source": [
    "desc='''\n",
    "F0 =~ и7 + и8 + и9\n",
    "F1 =~ и1 + и3 + и11 + и6\n",
    "F2 =~ и2 + и5 + и10\n",
    "F0 ~~ F1\n",
    "F1 ~~ F2\n",
    "F0 ~~ F2\n",
    "'''"
   ]
  },
  {
   "cell_type": "code",
   "execution_count": 39,
   "id": "protecting-essex",
   "metadata": {},
   "outputs": [],
   "source": [
    "from semopy import Model\n",
    "mod = Model(desc)"
   ]
  },
  {
   "cell_type": "code",
   "execution_count": 11,
   "id": "announced-consequence",
   "metadata": {
    "tags": []
   },
   "outputs": [],
   "source": [
    "#pip install pyreadstat"
   ]
  },
  {
   "cell_type": "code",
   "execution_count": 40,
   "id": "detected-springer",
   "metadata": {},
   "outputs": [],
   "source": [
    "import pandas as pd\n",
    "data = pd.read_spss('IQ.sav')"
   ]
  },
  {
   "cell_type": "code",
   "execution_count": 41,
   "id": "champion-disease",
   "metadata": {},
   "outputs": [
    {
     "data": {
      "text/plain": [
       "SolverResult(fun=0.46208285737389687, success=True, n_it=45, x=array([0.64 , 0.946, 1.42 , 1.142, 1.026, 0.551, 0.828, 1.294, 2.836,\n",
       "       5.402, 1.342, 1.547, 2.565, 3.79 , 3.103, 4.062, 3.812, 3.259,\n",
       "       3.147, 3.345, 3.451, 4.174, 4.746]), message='Optimization terminated successfully', name_method='SLSQP', name_obj='MLW')"
      ]
     },
     "execution_count": 41,
     "metadata": {},
     "output_type": "execute_result"
    }
   ],
   "source": [
    "res=mod.fit(data)\n",
    "res"
   ]
  },
  {
   "cell_type": "code",
   "execution_count": 42,
   "id": "extreme-winner",
   "metadata": {},
   "outputs": [
    {
     "name": "stdout",
     "output_type": "stream",
     "text": [
      "      F0   F1    F2\n",
      "и1   0.0  _b4   0.0\n",
      "и10  0.0  0.0  _b10\n",
      "и11  0.0  _b6   0.0\n",
      "и2   0.0  0.0   _b8\n",
      "и3   0.0  _b5   0.0\n",
      "и5   0.0  0.0   _b9\n",
      "и6   0.0  _b7   0.0\n",
      "и7   _b1  0.0   0.0\n",
      "и8   _b2  0.0   0.0\n",
      "и9   _b3  0.0   0.0\n"
     ]
    }
   ],
   "source": [
    "print(mod.inspect('mx', what='names')['Lambda'])"
   ]
  },
  {
   "cell_type": "code",
   "execution_count": 43,
   "id": "efficient-serbia",
   "metadata": {},
   "outputs": [
    {
     "name": "stdout",
     "output_type": "stream",
     "text": [
      "   lval  op rval  Estimate  Std. Err   z-value   p-value\n",
      "0    и7   ~   F0  1.000000         -         -         -\n",
      "1    и8   ~   F0  0.639692  0.090359  7.079473       0.0\n",
      "2    и9   ~   F0  0.946050  0.122537  7.720523       0.0\n",
      "3    и1   ~   F1  1.000000         -         -         -\n",
      "4    и3   ~   F1  1.419752   0.23909   5.93814       0.0\n",
      "5   и11   ~   F1  1.142256  0.203004  5.626768       0.0\n",
      "6    и6   ~   F1  1.026008  0.198077   5.17983       0.0\n",
      "7    и2   ~   F2  1.000000         -         -         -\n",
      "8    и5   ~   F2  0.551143  0.083474  6.602569       0.0\n",
      "9   и10   ~   F2  0.828472  0.116417  7.116442       0.0\n",
      "10   F0  ~~   F1  1.293808  0.350594   3.69033  0.000224\n",
      "11   F0  ~~   F2  2.835856  0.594187  4.772669  0.000002\n",
      "12   F0  ~~   F0  5.402200  1.043111  5.178932       0.0\n",
      "13   F1  ~~   F2  1.341844  0.342109  3.922267  0.000088\n",
      "14   F1  ~~   F1  1.546702  0.427931  3.614372  0.000301\n",
      "15   F2  ~~   F2  4.746409  0.933442  5.084846       0.0\n",
      "16   и5  ~~   и5  2.564926  0.325854  7.871388       0.0\n",
      "17  и10  ~~  и10  3.790123  0.553211  6.851139       0.0\n",
      "18   и1  ~~   и1  3.102610  0.396777  7.819522       0.0\n",
      "19   и6  ~~   и6  4.062048  0.496705  8.177997       0.0\n",
      "20   и7  ~~   и7  3.811982  0.693641  5.495616       0.0\n",
      "21   и2  ~~   и2  3.259094  0.636876  5.117315       0.0\n",
      "22   и3  ~~   и3  3.147465   0.51921  6.062025       0.0\n",
      "23  и11  ~~  и11  3.345159  0.450259  7.429417       0.0\n",
      "24   и8  ~~   и8  3.450610  0.442717  7.794172       0.0\n",
      "25   и9  ~~   и9  4.173640  0.675152   6.18178       0.0\n"
     ]
    }
   ],
   "source": [
    "print(mod.inspect())"
   ]
  },
  {
   "cell_type": "code",
   "execution_count": 45,
   "id": "still-stations",
   "metadata": {},
   "outputs": [
    {
     "data": {
      "image/svg+xml": [
       "<?xml version=\"1.0\" encoding=\"UTF-8\" standalone=\"no\"?>\r\n",
       "<!DOCTYPE svg PUBLIC \"-//W3C//DTD SVG 1.1//EN\"\r\n",
       " \"http://www.w3.org/Graphics/SVG/1.1/DTD/svg11.dtd\">\r\n",
       "<!-- Generated by graphviz version 2.38.0 (20140413.2041)\r\n",
       " -->\r\n",
       "<!-- Title: G Pages: 1 -->\r\n",
       "<svg width=\"717pt\" height=\"148pt\"\r\n",
       " viewBox=\"0.00 0.00 717.00 147.60\" xmlns=\"http://www.w3.org/2000/svg\" xmlns:xlink=\"http://www.w3.org/1999/xlink\">\r\n",
       "<g id=\"graph0\" class=\"graph\" transform=\"scale(1 1) rotate(0) translate(4 143.596)\">\r\n",
       "<title>G</title>\r\n",
       "<polygon fill=\"white\" stroke=\"none\" points=\"-4,4 -4,-143.596 713,-143.596 713,4 -4,4\"/>\r\n",
       "<!-- F0 -->\r\n",
       "<g id=\"node1\" class=\"node\"><title>F0</title>\r\n",
       "<ellipse fill=\"#cae6df\" stroke=\"black\" cx=\"99\" cy=\"-118.798\" rx=\"20.5982\" ry=\"20.5982\"/>\r\n",
       "<text text-anchor=\"middle\" x=\"99\" y=\"-115.098\" font-family=\"Times New Roman,serif\" font-size=\"14.00\">F0</text>\r\n",
       "</g>\r\n",
       "<!-- и7 -->\r\n",
       "<g id=\"node11\" class=\"node\"><title>и7</title>\r\n",
       "<polygon fill=\"none\" stroke=\"black\" points=\"54,-36 0,-36 0,-0 54,-0 54,-36\"/>\r\n",
       "<text text-anchor=\"middle\" x=\"27\" y=\"-14.3\" font-family=\"Times New Roman,serif\" font-size=\"14.00\">и7</text>\r\n",
       "</g>\r\n",
       "<!-- F0&#45;&gt;и7 -->\r\n",
       "<g id=\"edge1\" class=\"edge\"><title>F0&#45;&gt;и7</title>\r\n",
       "<path fill=\"none\" stroke=\"black\" d=\"M85.4852,-102.698C79.6074,-95.9149 72.7621,-87.7156 67,-80 58.6526,-68.8227 50.0827,-55.97 43.0274,-44.9533\"/>\r\n",
       "<polygon fill=\"black\" stroke=\"black\" points=\"45.7992,-42.788 37.4952,-36.2082 39.8835,-46.5303 45.7992,-42.788\"/>\r\n",
       "<text text-anchor=\"middle\" x=\"81\" y=\"-63.9\" font-family=\"Times New Roman,serif\" font-size=\"12.00\">1.000</text>\r\n",
       "</g>\r\n",
       "<!-- и8 -->\r\n",
       "<g id=\"node12\" class=\"node\"><title>и8</title>\r\n",
       "<polygon fill=\"none\" stroke=\"black\" points=\"126,-36 72,-36 72,-0 126,-0 126,-36\"/>\r\n",
       "<text text-anchor=\"middle\" x=\"99\" y=\"-14.3\" font-family=\"Times New Roman,serif\" font-size=\"14.00\">и8</text>\r\n",
       "</g>\r\n",
       "<!-- F0&#45;&gt;и8 -->\r\n",
       "<g id=\"edge2\" class=\"edge\"><title>F0&#45;&gt;и8</title>\r\n",
       "<path fill=\"none\" stroke=\"black\" d=\"M99,-97.8049C99,-82.9113 99,-62.4108 99,-46.0526\"/>\r\n",
       "<polygon fill=\"black\" stroke=\"black\" points=\"102.5,-46.0015 99,-36.0016 95.5001,-46.0016 102.5,-46.0015\"/>\r\n",
       "<text text-anchor=\"middle\" x=\"124\" y=\"-70.4\" font-family=\"Times New Roman,serif\" font-size=\"12.00\">0.640</text>\r\n",
       "<text text-anchor=\"middle\" x=\"124\" y=\"-57.4\" font-family=\"Times New Roman,serif\" font-size=\"12.00\">p&#45;val: 0.00</text>\r\n",
       "</g>\r\n",
       "<!-- и9 -->\r\n",
       "<g id=\"node13\" class=\"node\"><title>и9</title>\r\n",
       "<polygon fill=\"none\" stroke=\"black\" points=\"199,-36 145,-36 145,-0 199,-0 199,-36\"/>\r\n",
       "<text text-anchor=\"middle\" x=\"172\" y=\"-14.3\" font-family=\"Times New Roman,serif\" font-size=\"14.00\">и9</text>\r\n",
       "</g>\r\n",
       "<!-- F0&#45;&gt;и9 -->\r\n",
       "<g id=\"edge3\" class=\"edge\"><title>F0&#45;&gt;и9</title>\r\n",
       "<path fill=\"none\" stroke=\"black\" d=\"M117.194,-108C128.029,-101.357 141.317,-91.6723 150,-80 157.459,-69.9721 162.586,-57.17 166.001,-45.8857\"/>\r\n",
       "<polygon fill=\"black\" stroke=\"black\" points=\"169.423,-46.6406 168.674,-36.0723 162.669,-44.8013 169.423,-46.6406\"/>\r\n",
       "<text text-anchor=\"middle\" x=\"188\" y=\"-70.4\" font-family=\"Times New Roman,serif\" font-size=\"12.00\">0.946</text>\r\n",
       "<text text-anchor=\"middle\" x=\"188\" y=\"-57.4\" font-family=\"Times New Roman,serif\" font-size=\"12.00\">p&#45;val: 0.00</text>\r\n",
       "</g>\r\n",
       "<!-- F1 -->\r\n",
       "<g id=\"node2\" class=\"node\"><title>F1</title>\r\n",
       "<ellipse fill=\"#cae6df\" stroke=\"black\" cx=\"353\" cy=\"-118.798\" rx=\"20.5982\" ry=\"20.5982\"/>\r\n",
       "<text text-anchor=\"middle\" x=\"353\" y=\"-115.098\" font-family=\"Times New Roman,serif\" font-size=\"14.00\">F1</text>\r\n",
       "</g>\r\n",
       "<!-- и1 -->\r\n",
       "<g id=\"node4\" class=\"node\"><title>и1</title>\r\n",
       "<polygon fill=\"none\" stroke=\"black\" points=\"272,-36 218,-36 218,-0 272,-0 272,-36\"/>\r\n",
       "<text text-anchor=\"middle\" x=\"245\" y=\"-14.3\" font-family=\"Times New Roman,serif\" font-size=\"14.00\">и1</text>\r\n",
       "</g>\r\n",
       "<!-- F1&#45;&gt;и1 -->\r\n",
       "<g id=\"edge4\" class=\"edge\"><title>F1&#45;&gt;и1</title>\r\n",
       "<path fill=\"none\" stroke=\"black\" d=\"M333.459,-110.746C318.113,-104.473 296.916,-94.1029 282,-80 271.631,-70.1967 263.102,-56.8634 256.856,-45.1625\"/>\r\n",
       "<polygon fill=\"black\" stroke=\"black\" points=\"259.976,-43.5767 252.345,-36.2272 253.727,-46.7315 259.976,-43.5767\"/>\r\n",
       "<text text-anchor=\"middle\" x=\"296\" y=\"-63.9\" font-family=\"Times New Roman,serif\" font-size=\"12.00\">1.000</text>\r\n",
       "</g>\r\n",
       "<!-- и11 -->\r\n",
       "<g id=\"node6\" class=\"node\"><title>и11</title>\r\n",
       "<polygon fill=\"none\" stroke=\"black\" points=\"344,-36 290,-36 290,-0 344,-0 344,-36\"/>\r\n",
       "<text text-anchor=\"middle\" x=\"317\" y=\"-14.3\" font-family=\"Times New Roman,serif\" font-size=\"14.00\">и11</text>\r\n",
       "</g>\r\n",
       "<!-- F1&#45;&gt;и11 -->\r\n",
       "<g id=\"edge6\" class=\"edge\"><title>F1&#45;&gt;и11</title>\r\n",
       "<path fill=\"none\" stroke=\"black\" d=\"M336.88,-105.227C329.674,-98.5897 321.931,-89.7938 318,-80 313.798,-69.5316 312.919,-57.216 313.326,-46.4019\"/>\r\n",
       "<polygon fill=\"black\" stroke=\"black\" points=\"316.832,-46.4449 314.085,-36.2124 309.852,-45.9245 316.832,-46.4449\"/>\r\n",
       "<text text-anchor=\"middle\" x=\"343\" y=\"-70.4\" font-family=\"Times New Roman,serif\" font-size=\"12.00\">1.142</text>\r\n",
       "<text text-anchor=\"middle\" x=\"343\" y=\"-57.4\" font-family=\"Times New Roman,serif\" font-size=\"12.00\">p&#45;val: 0.00</text>\r\n",
       "</g>\r\n",
       "<!-- и3 -->\r\n",
       "<g id=\"node8\" class=\"node\"><title>и3</title>\r\n",
       "<polygon fill=\"none\" stroke=\"black\" points=\"417,-36 363,-36 363,-0 417,-0 417,-36\"/>\r\n",
       "<text text-anchor=\"middle\" x=\"390\" y=\"-14.3\" font-family=\"Times New Roman,serif\" font-size=\"14.00\">и3</text>\r\n",
       "</g>\r\n",
       "<!-- F1&#45;&gt;и3 -->\r\n",
       "<g id=\"edge5\" class=\"edge\"><title>F1&#45;&gt;и3</title>\r\n",
       "<path fill=\"none\" stroke=\"black\" d=\"M360.595,-99.0022C363.003,-92.9512 365.65,-86.2064 368,-80 372.229,-68.8299 376.732,-56.4414 380.554,-45.7629\"/>\r\n",
       "<polygon fill=\"black\" stroke=\"black\" points=\"383.922,-46.7389 383.98,-36.1442 377.328,-44.3903 383.922,-46.7389\"/>\r\n",
       "<text text-anchor=\"middle\" x=\"403\" y=\"-70.4\" font-family=\"Times New Roman,serif\" font-size=\"12.00\">1.420</text>\r\n",
       "<text text-anchor=\"middle\" x=\"403\" y=\"-57.4\" font-family=\"Times New Roman,serif\" font-size=\"12.00\">p&#45;val: 0.00</text>\r\n",
       "</g>\r\n",
       "<!-- и6 -->\r\n",
       "<g id=\"node10\" class=\"node\"><title>и6</title>\r\n",
       "<polygon fill=\"none\" stroke=\"black\" points=\"490,-36 436,-36 436,-0 490,-0 490,-36\"/>\r\n",
       "<text text-anchor=\"middle\" x=\"463\" y=\"-14.3\" font-family=\"Times New Roman,serif\" font-size=\"14.00\">и6</text>\r\n",
       "</g>\r\n",
       "<!-- F1&#45;&gt;и6 -->\r\n",
       "<g id=\"edge7\" class=\"edge\"><title>F1&#45;&gt;и6</title>\r\n",
       "<path fill=\"none\" stroke=\"black\" d=\"M372.992,-112.258C390.388,-106.578 415.355,-96.2513 432,-80 441.762,-70.4692 449.004,-57.2134 454.022,-45.4927\"/>\r\n",
       "<polygon fill=\"black\" stroke=\"black\" points=\"457.304,-46.7106 457.721,-36.124 450.793,-44.1398 457.304,-46.7106\"/>\r\n",
       "<text text-anchor=\"middle\" x=\"475\" y=\"-70.4\" font-family=\"Times New Roman,serif\" font-size=\"12.00\">1.026</text>\r\n",
       "<text text-anchor=\"middle\" x=\"475\" y=\"-57.4\" font-family=\"Times New Roman,serif\" font-size=\"12.00\">p&#45;val: 0.00</text>\r\n",
       "</g>\r\n",
       "<!-- F2 -->\r\n",
       "<g id=\"node3\" class=\"node\"><title>F2</title>\r\n",
       "<ellipse fill=\"#cae6df\" stroke=\"black\" cx=\"609\" cy=\"-118.798\" rx=\"20.5982\" ry=\"20.5982\"/>\r\n",
       "<text text-anchor=\"middle\" x=\"609\" y=\"-115.098\" font-family=\"Times New Roman,serif\" font-size=\"14.00\">F2</text>\r\n",
       "</g>\r\n",
       "<!-- и10 -->\r\n",
       "<g id=\"node5\" class=\"node\"><title>и10</title>\r\n",
       "<polygon fill=\"none\" stroke=\"black\" points=\"563,-36 509,-36 509,-0 563,-0 563,-36\"/>\r\n",
       "<text text-anchor=\"middle\" x=\"536\" y=\"-14.3\" font-family=\"Times New Roman,serif\" font-size=\"14.00\">и10</text>\r\n",
       "</g>\r\n",
       "<!-- F2&#45;&gt;и10 -->\r\n",
       "<g id=\"edge10\" class=\"edge\"><title>F2&#45;&gt;и10</title>\r\n",
       "<path fill=\"none\" stroke=\"black\" d=\"M590.58,-108.952C578.848,-102.448 564.182,-92.566 555,-80 547.735,-70.0574 543.198,-57.2667 540.389,-45.9678\"/>\r\n",
       "<polygon fill=\"black\" stroke=\"black\" points=\"543.798,-45.1715 538.267,-36.1352 536.956,-46.6486 543.798,-45.1715\"/>\r\n",
       "<text text-anchor=\"middle\" x=\"580\" y=\"-70.4\" font-family=\"Times New Roman,serif\" font-size=\"12.00\">0.828</text>\r\n",
       "<text text-anchor=\"middle\" x=\"580\" y=\"-57.4\" font-family=\"Times New Roman,serif\" font-size=\"12.00\">p&#45;val: 0.00</text>\r\n",
       "</g>\r\n",
       "<!-- и2 -->\r\n",
       "<g id=\"node7\" class=\"node\"><title>и2</title>\r\n",
       "<polygon fill=\"none\" stroke=\"black\" points=\"636,-36 582,-36 582,-0 636,-0 636,-36\"/>\r\n",
       "<text text-anchor=\"middle\" x=\"609\" y=\"-14.3\" font-family=\"Times New Roman,serif\" font-size=\"14.00\">и2</text>\r\n",
       "</g>\r\n",
       "<!-- F2&#45;&gt;и2 -->\r\n",
       "<g id=\"edge8\" class=\"edge\"><title>F2&#45;&gt;и2</title>\r\n",
       "<path fill=\"none\" stroke=\"black\" d=\"M609,-97.8049C609,-82.9113 609,-62.4108 609,-46.0526\"/>\r\n",
       "<polygon fill=\"black\" stroke=\"black\" points=\"612.5,-46.0015 609,-36.0016 605.5,-46.0016 612.5,-46.0015\"/>\r\n",
       "<text text-anchor=\"middle\" x=\"623\" y=\"-63.9\" font-family=\"Times New Roman,serif\" font-size=\"12.00\">1.000</text>\r\n",
       "</g>\r\n",
       "<!-- и5 -->\r\n",
       "<g id=\"node9\" class=\"node\"><title>и5</title>\r\n",
       "<polygon fill=\"none\" stroke=\"black\" points=\"708,-36 654,-36 654,-0 708,-0 708,-36\"/>\r\n",
       "<text text-anchor=\"middle\" x=\"681\" y=\"-14.3\" font-family=\"Times New Roman,serif\" font-size=\"14.00\">и5</text>\r\n",
       "</g>\r\n",
       "<!-- F2&#45;&gt;и5 -->\r\n",
       "<g id=\"edge9\" class=\"edge\"><title>F2&#45;&gt;и5</title>\r\n",
       "<path fill=\"none\" stroke=\"black\" d=\"M622.515,-102.698C628.393,-95.9149 635.238,-87.7156 641,-80 649.347,-68.8227 657.917,-55.97 664.973,-44.9533\"/>\r\n",
       "<polygon fill=\"black\" stroke=\"black\" points=\"668.117,-46.5303 670.505,-36.2082 662.201,-42.788 668.117,-46.5303\"/>\r\n",
       "<text text-anchor=\"middle\" x=\"684\" y=\"-70.4\" font-family=\"Times New Roman,serif\" font-size=\"12.00\">0.551</text>\r\n",
       "<text text-anchor=\"middle\" x=\"684\" y=\"-57.4\" font-family=\"Times New Roman,serif\" font-size=\"12.00\">p&#45;val: 0.00</text>\r\n",
       "</g>\r\n",
       "</g>\r\n",
       "</svg>\r\n"
      ],
      "text/plain": [
       "<graphviz.dot.Digraph at 0x17445aa4dc8>"
      ]
     },
     "execution_count": 45,
     "metadata": {},
     "output_type": "execute_result"
    }
   ],
   "source": [
    "import semopy\n",
    "g = semopy.semplot(mod, \"pd.png\")\n",
    "g"
   ]
  },
  {
   "cell_type": "code",
   "execution_count": 46,
   "id": "suffering-oliver",
   "metadata": {},
   "outputs": [
    {
     "name": "stdout",
     "output_type": "stream",
     "text": [
      "                    Value\n",
      "DoF             32.000000\n",
      "DoF Baseline    45.000000\n",
      "chi2            85.023246\n",
      "chi2 p-value     0.000001\n",
      "chi2 Baseline  517.508283\n",
      "CFI              0.887783\n",
      "GFI              0.835707\n",
      "AGFI             0.768962\n",
      "NFI              0.835707\n",
      "TLI              0.842195\n",
      "RMSEA            0.095155\n",
      "AIC             45.075834\n",
      "BIC            119.019357\n",
      "LogLik           0.462083\n"
     ]
    }
   ],
   "source": [
    "stats = semopy.calc_stats(mod)\n",
    "print(stats.T)"
   ]
  },
  {
   "cell_type": "markdown",
   "id": "cordless-desire",
   "metadata": {},
   "source": [
    "Вывод: модель плохо согласуется с исходными данными."
   ]
  },
  {
   "cell_type": "markdown",
   "id": "consolidated-hunter",
   "metadata": {},
   "source": [
    "## Конфирматорный факторный анализ (Наследов)"
   ]
  },
  {
   "cell_type": "code",
   "execution_count": 75,
   "id": "rolled-dealing",
   "metadata": {},
   "outputs": [],
   "source": [
    "desc='''\n",
    "F1 =~ и4 + и7 + и8 + и9\n",
    "F2 =~ и11 + и1 + и3\n",
    "F3 =~ и5 + и2 + и10 + и6\n",
    "F1 ~~ F2\n",
    "F2 ~~ F3\n",
    "F1 ~~ F3\n",
    "'''"
   ]
  },
  {
   "cell_type": "code",
   "execution_count": 76,
   "id": "official-witch",
   "metadata": {},
   "outputs": [],
   "source": [
    "from semopy import Model\n",
    "mod = Model(desc)"
   ]
  },
  {
   "cell_type": "code",
   "execution_count": 12,
   "id": "spanish-valuable",
   "metadata": {
    "tags": []
   },
   "outputs": [],
   "source": [
    "#pip install pyreadstat"
   ]
  },
  {
   "cell_type": "code",
   "execution_count": 3,
   "id": "breeding-burns",
   "metadata": {},
   "outputs": [],
   "source": [
    "import pandas as pd\n",
    "data = pd.read_spss('IQ.sav')"
   ]
  },
  {
   "cell_type": "code",
   "execution_count": 78,
   "id": "sized-stretch",
   "metadata": {},
   "outputs": [
    {
     "data": {
      "text/plain": [
       "SolverResult(fun=0.9413567641467715, success=True, n_it=42, x=array([1.36090608, 1.0670817 , 1.17064411, 0.87429727, 1.26070267,\n",
       "       1.69940042, 1.42329446, 0.90573023, 0.89979671, 1.22629875,\n",
       "       2.63954552, 0.87563619, 2.07228517, 1.64196534, 4.42028994,\n",
       "       2.45379189, 4.32643608, 3.906229  , 3.06838269, 2.97391649,\n",
       "       5.38935216, 3.52804078, 3.29248239, 2.65513122, 1.55064085]), message='Optimization terminated successfully', name_method='SLSQP', name_obj='MLW')"
      ]
     },
     "execution_count": 78,
     "metadata": {},
     "output_type": "execute_result"
    }
   ],
   "source": [
    "res=mod.fit(data)\n",
    "res"
   ]
  },
  {
   "cell_type": "code",
   "execution_count": 17,
   "id": "valid-workplace",
   "metadata": {},
   "outputs": [
    {
     "name": "stdout",
     "output_type": "stream",
     "text": [
      "      F1   F2    F3\n",
      "и1   0.0  _b6   0.0\n",
      "и10  0.0  0.0  _b10\n",
      "и11  0.0  _b5   0.0\n",
      "и2   0.0  0.0   _b9\n",
      "и3   0.0  _b7   0.0\n",
      "и4   _b1  0.0   0.0\n",
      "и5   0.0  0.0   _b8\n",
      "и6   0.0  0.0  _b11\n",
      "и7   _b2  0.0   0.0\n",
      "и8   _b3  0.0   0.0\n",
      "и9   _b4  0.0   0.0\n"
     ]
    }
   ],
   "source": [
    "print(mod.inspect('mx', what='names')['Lambda'])"
   ]
  },
  {
   "cell_type": "code",
   "execution_count": 79,
   "id": "south-colorado",
   "metadata": {},
   "outputs": [
    {
     "name": "stdout",
     "output_type": "stream",
     "text": [
      "   lval  op rval  Estimate  Std. Err   z-value   p-value\n",
      "0    и4   ~   F1  1.000000         -         -         -\n",
      "1    и7   ~   F1  1.360906   0.14804  9.192854       0.0\n",
      "2    и8   ~   F1  1.067082  0.116034  9.196269       0.0\n",
      "3    и9   ~   F1  1.170644  0.145717  8.033704       0.0\n",
      "4   и11   ~   F2  1.000000         -         -         -\n",
      "5    и1   ~   F2  0.874297  0.159144  5.493755       0.0\n",
      "6    и3   ~   F2  1.260703  0.220631  5.714079       0.0\n",
      "7    и5   ~   F3  1.000000         -         -         -\n",
      "8    и2   ~   F3  1.699400  0.241879  7.025833       0.0\n",
      "9   и10   ~   F3  1.423294  0.213519   6.66588       0.0\n",
      "10   и6   ~   F3  0.905730  0.175359  5.165003       0.0\n",
      "11   F1  ~~   F2  0.899797  0.263946  3.409024  0.000652\n",
      "12   F1  ~~   F3  1.226299  0.253681  4.834019  0.000001\n",
      "13   F1  ~~   F1  2.639546  0.455621  5.793297       0.0\n",
      "14   F2  ~~   F3  0.875636  0.235061  3.725148  0.000195\n",
      "15   F2  ~~   F2  2.072285  0.550223  3.766263  0.000166\n",
      "16   F3  ~~   F3  1.550641  0.376326  4.120477  0.000038\n",
      "17   и4  ~~   и4  1.641965   0.25874  6.346008       0.0\n",
      "18   и6  ~~   и6  4.420290  0.501919  8.806772       0.0\n",
      "19   и5  ~~   и5  2.453792  0.313394  7.829743       0.0\n",
      "20   и7  ~~   и7  4.326436  0.591829  7.310278       0.0\n",
      "21  и10  ~~  и10  3.906229  0.533266  7.325102       0.0\n",
      "22   и1  ~~   и1  3.068383  0.411442  7.457638       0.0\n",
      "23   и3  ~~   и3  2.973916  0.586744  5.068508       0.0\n",
      "24   и9  ~~   и9  5.389352  0.652432  8.260402       0.0\n",
      "25   и2  ~~   и2  3.528041  0.584421  6.036812       0.0\n",
      "26  и11  ~~  и11  3.292482  0.474946  6.932336       0.0\n",
      "27   и8  ~~   и8  2.655131  0.363418  7.306007       0.0\n"
     ]
    }
   ],
   "source": [
    "print(mod.inspect())"
   ]
  },
  {
   "cell_type": "code",
   "execution_count": 80,
   "id": "adapted-pantyhose",
   "metadata": {},
   "outputs": [
    {
     "data": {
      "image/svg+xml": [
       "<?xml version=\"1.0\" encoding=\"UTF-8\" standalone=\"no\"?>\r\n",
       "<!DOCTYPE svg PUBLIC \"-//W3C//DTD SVG 1.1//EN\"\r\n",
       " \"http://www.w3.org/Graphics/SVG/1.1/DTD/svg11.dtd\">\r\n",
       "<!-- Generated by graphviz version 2.38.0 (20140413.2041)\r\n",
       " -->\r\n",
       "<!-- Title: G Pages: 1 -->\r\n",
       "<svg width=\"790pt\" height=\"148pt\"\r\n",
       " viewBox=\"0.00 0.00 790.00 147.60\" xmlns=\"http://www.w3.org/2000/svg\" xmlns:xlink=\"http://www.w3.org/1999/xlink\">\r\n",
       "<g id=\"graph0\" class=\"graph\" transform=\"scale(1 1) rotate(0) translate(4 143.596)\">\r\n",
       "<title>G</title>\r\n",
       "<polygon fill=\"white\" stroke=\"none\" points=\"-4,4 -4,-143.596 786,-143.596 786,4 -4,4\"/>\r\n",
       "<!-- F1 -->\r\n",
       "<g id=\"node1\" class=\"node\"><title>F1</title>\r\n",
       "<ellipse fill=\"#cae6df\" stroke=\"black\" cx=\"135\" cy=\"-118.798\" rx=\"20.5982\" ry=\"20.5982\"/>\r\n",
       "<text text-anchor=\"middle\" x=\"135\" y=\"-115.098\" font-family=\"Times New Roman,serif\" font-size=\"14.00\">F1</text>\r\n",
       "</g>\r\n",
       "<!-- и4 -->\r\n",
       "<g id=\"node9\" class=\"node\"><title>и4</title>\r\n",
       "<polygon fill=\"none\" stroke=\"black\" points=\"54,-36 0,-36 0,-0 54,-0 54,-36\"/>\r\n",
       "<text text-anchor=\"middle\" x=\"27\" y=\"-14.3\" font-family=\"Times New Roman,serif\" font-size=\"14.00\">и4</text>\r\n",
       "</g>\r\n",
       "<!-- F1&#45;&gt;и4 -->\r\n",
       "<g id=\"edge1\" class=\"edge\"><title>F1&#45;&gt;и4</title>\r\n",
       "<path fill=\"none\" stroke=\"black\" d=\"M115.459,-110.746C100.113,-104.473 78.916,-94.1029 64,-80 53.6315,-70.1967 45.102,-56.8634 38.8561,-45.1625\"/>\r\n",
       "<polygon fill=\"black\" stroke=\"black\" points=\"41.9763,-43.5767 34.3451,-36.2272 35.7275,-46.7315 41.9763,-43.5767\"/>\r\n",
       "<text text-anchor=\"middle\" x=\"78\" y=\"-63.9\" font-family=\"Times New Roman,serif\" font-size=\"12.00\">1.000</text>\r\n",
       "</g>\r\n",
       "<!-- и7 -->\r\n",
       "<g id=\"node12\" class=\"node\"><title>и7</title>\r\n",
       "<polygon fill=\"none\" stroke=\"black\" points=\"126,-36 72,-36 72,-0 126,-0 126,-36\"/>\r\n",
       "<text text-anchor=\"middle\" x=\"99\" y=\"-14.3\" font-family=\"Times New Roman,serif\" font-size=\"14.00\">и7</text>\r\n",
       "</g>\r\n",
       "<!-- F1&#45;&gt;и7 -->\r\n",
       "<g id=\"edge2\" class=\"edge\"><title>F1&#45;&gt;и7</title>\r\n",
       "<path fill=\"none\" stroke=\"black\" d=\"M118.88,-105.227C111.674,-98.5897 103.931,-89.7938 100,-80 95.7983,-69.5316 94.9195,-57.216 95.326,-46.4019\"/>\r\n",
       "<polygon fill=\"black\" stroke=\"black\" points=\"98.8324,-46.4449 96.0855,-36.2124 91.8518,-45.9245 98.8324,-46.4449\"/>\r\n",
       "<text text-anchor=\"middle\" x=\"125\" y=\"-70.4\" font-family=\"Times New Roman,serif\" font-size=\"12.00\">1.361</text>\r\n",
       "<text text-anchor=\"middle\" x=\"125\" y=\"-57.4\" font-family=\"Times New Roman,serif\" font-size=\"12.00\">p&#45;val: 0.00</text>\r\n",
       "</g>\r\n",
       "<!-- и8 -->\r\n",
       "<g id=\"node13\" class=\"node\"><title>и8</title>\r\n",
       "<polygon fill=\"none\" stroke=\"black\" points=\"199,-36 145,-36 145,-0 199,-0 199,-36\"/>\r\n",
       "<text text-anchor=\"middle\" x=\"172\" y=\"-14.3\" font-family=\"Times New Roman,serif\" font-size=\"14.00\">и8</text>\r\n",
       "</g>\r\n",
       "<!-- F1&#45;&gt;и8 -->\r\n",
       "<g id=\"edge3\" class=\"edge\"><title>F1&#45;&gt;и8</title>\r\n",
       "<path fill=\"none\" stroke=\"black\" d=\"M142.595,-99.0022C145.003,-92.9512 147.65,-86.2064 150,-80 154.229,-68.8299 158.732,-56.4414 162.554,-45.7629\"/>\r\n",
       "<polygon fill=\"black\" stroke=\"black\" points=\"165.922,-46.7389 165.98,-36.1442 159.328,-44.3903 165.922,-46.7389\"/>\r\n",
       "<text text-anchor=\"middle\" x=\"185\" y=\"-70.4\" font-family=\"Times New Roman,serif\" font-size=\"12.00\">1.067</text>\r\n",
       "<text text-anchor=\"middle\" x=\"185\" y=\"-57.4\" font-family=\"Times New Roman,serif\" font-size=\"12.00\">p&#45;val: 0.00</text>\r\n",
       "</g>\r\n",
       "<!-- и9 -->\r\n",
       "<g id=\"node14\" class=\"node\"><title>и9</title>\r\n",
       "<polygon fill=\"none\" stroke=\"black\" points=\"272,-36 218,-36 218,-0 272,-0 272,-36\"/>\r\n",
       "<text text-anchor=\"middle\" x=\"245\" y=\"-14.3\" font-family=\"Times New Roman,serif\" font-size=\"14.00\">и9</text>\r\n",
       "</g>\r\n",
       "<!-- F1&#45;&gt;и9 -->\r\n",
       "<g id=\"edge4\" class=\"edge\"><title>F1&#45;&gt;и9</title>\r\n",
       "<path fill=\"none\" stroke=\"black\" d=\"M154.992,-112.258C172.388,-106.578 197.355,-96.2513 214,-80 223.762,-70.4692 231.004,-57.2134 236.022,-45.4927\"/>\r\n",
       "<polygon fill=\"black\" stroke=\"black\" points=\"239.304,-46.7106 239.721,-36.124 232.793,-44.1398 239.304,-46.7106\"/>\r\n",
       "<text text-anchor=\"middle\" x=\"257\" y=\"-70.4\" font-family=\"Times New Roman,serif\" font-size=\"12.00\">1.171</text>\r\n",
       "<text text-anchor=\"middle\" x=\"257\" y=\"-57.4\" font-family=\"Times New Roman,serif\" font-size=\"12.00\">p&#45;val: 0.00</text>\r\n",
       "</g>\r\n",
       "<!-- F3 -->\r\n",
       "<g id=\"node2\" class=\"node\"><title>F3</title>\r\n",
       "<ellipse fill=\"#cae6df\" stroke=\"black\" cx=\"427\" cy=\"-118.798\" rx=\"20.5982\" ry=\"20.5982\"/>\r\n",
       "<text text-anchor=\"middle\" x=\"427\" y=\"-115.098\" font-family=\"Times New Roman,serif\" font-size=\"14.00\">F3</text>\r\n",
       "</g>\r\n",
       "<!-- и10 -->\r\n",
       "<g id=\"node5\" class=\"node\"><title>и10</title>\r\n",
       "<polygon fill=\"none\" stroke=\"black\" points=\"345,-36 291,-36 291,-0 345,-0 345,-36\"/>\r\n",
       "<text text-anchor=\"middle\" x=\"318\" y=\"-14.3\" font-family=\"Times New Roman,serif\" font-size=\"14.00\">и10</text>\r\n",
       "</g>\r\n",
       "<!-- F3&#45;&gt;и10 -->\r\n",
       "<g id=\"edge10\" class=\"edge\"><title>F3&#45;&gt;и10</title>\r\n",
       "<path fill=\"none\" stroke=\"black\" d=\"M406.519,-114.909C385.323,-110.833 352.746,-101.346 334,-80 325.869,-70.7413 321.795,-57.8334 319.782,-46.2745\"/>\r\n",
       "<polygon fill=\"black\" stroke=\"black\" points=\"323.229,-45.6406 318.456,-36.1818 316.289,-46.5526 323.229,-45.6406\"/>\r\n",
       "<text text-anchor=\"middle\" x=\"359\" y=\"-70.4\" font-family=\"Times New Roman,serif\" font-size=\"12.00\">1.423</text>\r\n",
       "<text text-anchor=\"middle\" x=\"359\" y=\"-57.4\" font-family=\"Times New Roman,serif\" font-size=\"12.00\">p&#45;val: 0.00</text>\r\n",
       "</g>\r\n",
       "<!-- и2 -->\r\n",
       "<g id=\"node7\" class=\"node\"><title>и2</title>\r\n",
       "<polygon fill=\"none\" stroke=\"black\" points=\"418,-36 364,-36 364,-0 418,-0 418,-36\"/>\r\n",
       "<text text-anchor=\"middle\" x=\"391\" y=\"-14.3\" font-family=\"Times New Roman,serif\" font-size=\"14.00\">и2</text>\r\n",
       "</g>\r\n",
       "<!-- F3&#45;&gt;и2 -->\r\n",
       "<g id=\"edge9\" class=\"edge\"><title>F3&#45;&gt;и2</title>\r\n",
       "<path fill=\"none\" stroke=\"black\" d=\"M410.88,-105.227C403.674,-98.5897 395.931,-89.7938 392,-80 387.798,-69.5316 386.919,-57.216 387.326,-46.4019\"/>\r\n",
       "<polygon fill=\"black\" stroke=\"black\" points=\"390.832,-46.4449 388.085,-36.2124 383.852,-45.9245 390.832,-46.4449\"/>\r\n",
       "<text text-anchor=\"middle\" x=\"417\" y=\"-70.4\" font-family=\"Times New Roman,serif\" font-size=\"12.00\">1.699</text>\r\n",
       "<text text-anchor=\"middle\" x=\"417\" y=\"-57.4\" font-family=\"Times New Roman,serif\" font-size=\"12.00\">p&#45;val: 0.00</text>\r\n",
       "</g>\r\n",
       "<!-- и5 -->\r\n",
       "<g id=\"node10\" class=\"node\"><title>и5</title>\r\n",
       "<polygon fill=\"none\" stroke=\"black\" points=\"491,-36 437,-36 437,-0 491,-0 491,-36\"/>\r\n",
       "<text text-anchor=\"middle\" x=\"464\" y=\"-14.3\" font-family=\"Times New Roman,serif\" font-size=\"14.00\">и5</text>\r\n",
       "</g>\r\n",
       "<!-- F3&#45;&gt;и5 -->\r\n",
       "<g id=\"edge8\" class=\"edge\"><title>F3&#45;&gt;и5</title>\r\n",
       "<path fill=\"none\" stroke=\"black\" d=\"M434.595,-99.0022C437.003,-92.9512 439.65,-86.2064 442,-80 446.229,-68.8299 450.732,-56.4414 454.554,-45.7629\"/>\r\n",
       "<polygon fill=\"black\" stroke=\"black\" points=\"457.922,-46.7389 457.98,-36.1442 451.328,-44.3903 457.922,-46.7389\"/>\r\n",
       "<text text-anchor=\"middle\" x=\"466\" y=\"-63.9\" font-family=\"Times New Roman,serif\" font-size=\"12.00\">1.000</text>\r\n",
       "</g>\r\n",
       "<!-- и6 -->\r\n",
       "<g id=\"node11\" class=\"node\"><title>и6</title>\r\n",
       "<polygon fill=\"none\" stroke=\"black\" points=\"563,-36 509,-36 509,-0 563,-0 563,-36\"/>\r\n",
       "<text text-anchor=\"middle\" x=\"536\" y=\"-14.3\" font-family=\"Times New Roman,serif\" font-size=\"14.00\">и6</text>\r\n",
       "</g>\r\n",
       "<!-- F3&#45;&gt;и6 -->\r\n",
       "<g id=\"edge11\" class=\"edge\"><title>F3&#45;&gt;и6</title>\r\n",
       "<path fill=\"none\" stroke=\"black\" d=\"M444.865,-107.729C456.584,-100.709 471.915,-90.7112 484,-80 496.067,-69.3043 507.864,-55.7934 517.163,-44.2073\"/>\r\n",
       "<polygon fill=\"black\" stroke=\"black\" points=\"520.043,-46.207 523.461,-36.1787 514.535,-41.8867 520.043,-46.207\"/>\r\n",
       "<text text-anchor=\"middle\" x=\"534\" y=\"-70.4\" font-family=\"Times New Roman,serif\" font-size=\"12.00\">0.906</text>\r\n",
       "<text text-anchor=\"middle\" x=\"534\" y=\"-57.4\" font-family=\"Times New Roman,serif\" font-size=\"12.00\">p&#45;val: 0.00</text>\r\n",
       "</g>\r\n",
       "<!-- F2 -->\r\n",
       "<g id=\"node3\" class=\"node\"><title>F2</title>\r\n",
       "<ellipse fill=\"#cae6df\" stroke=\"black\" cx=\"682\" cy=\"-118.798\" rx=\"20.5982\" ry=\"20.5982\"/>\r\n",
       "<text text-anchor=\"middle\" x=\"682\" y=\"-115.098\" font-family=\"Times New Roman,serif\" font-size=\"14.00\">F2</text>\r\n",
       "</g>\r\n",
       "<!-- и1 -->\r\n",
       "<g id=\"node4\" class=\"node\"><title>и1</title>\r\n",
       "<polygon fill=\"none\" stroke=\"black\" points=\"636,-36 582,-36 582,-0 636,-0 636,-36\"/>\r\n",
       "<text text-anchor=\"middle\" x=\"609\" y=\"-14.3\" font-family=\"Times New Roman,serif\" font-size=\"14.00\">и1</text>\r\n",
       "</g>\r\n",
       "<!-- F2&#45;&gt;и1 -->\r\n",
       "<g id=\"edge6\" class=\"edge\"><title>F2&#45;&gt;и1</title>\r\n",
       "<path fill=\"none\" stroke=\"black\" d=\"M663.58,-108.952C651.848,-102.448 637.182,-92.566 628,-80 620.735,-70.0574 616.198,-57.2667 613.389,-45.9678\"/>\r\n",
       "<polygon fill=\"black\" stroke=\"black\" points=\"616.798,-45.1715 611.267,-36.1352 609.956,-46.6486 616.798,-45.1715\"/>\r\n",
       "<text text-anchor=\"middle\" x=\"653\" y=\"-70.4\" font-family=\"Times New Roman,serif\" font-size=\"12.00\">0.874</text>\r\n",
       "<text text-anchor=\"middle\" x=\"653\" y=\"-57.4\" font-family=\"Times New Roman,serif\" font-size=\"12.00\">p&#45;val: 0.00</text>\r\n",
       "</g>\r\n",
       "<!-- и11 -->\r\n",
       "<g id=\"node6\" class=\"node\"><title>и11</title>\r\n",
       "<polygon fill=\"none\" stroke=\"black\" points=\"709,-36 655,-36 655,-0 709,-0 709,-36\"/>\r\n",
       "<text text-anchor=\"middle\" x=\"682\" y=\"-14.3\" font-family=\"Times New Roman,serif\" font-size=\"14.00\">и11</text>\r\n",
       "</g>\r\n",
       "<!-- F2&#45;&gt;и11 -->\r\n",
       "<g id=\"edge5\" class=\"edge\"><title>F2&#45;&gt;и11</title>\r\n",
       "<path fill=\"none\" stroke=\"black\" d=\"M682,-97.8049C682,-82.9113 682,-62.4108 682,-46.0526\"/>\r\n",
       "<polygon fill=\"black\" stroke=\"black\" points=\"685.5,-46.0015 682,-36.0016 678.5,-46.0016 685.5,-46.0015\"/>\r\n",
       "<text text-anchor=\"middle\" x=\"696\" y=\"-63.9\" font-family=\"Times New Roman,serif\" font-size=\"12.00\">1.000</text>\r\n",
       "</g>\r\n",
       "<!-- и3 -->\r\n",
       "<g id=\"node8\" class=\"node\"><title>и3</title>\r\n",
       "<polygon fill=\"none\" stroke=\"black\" points=\"781,-36 727,-36 727,-0 781,-0 781,-36\"/>\r\n",
       "<text text-anchor=\"middle\" x=\"754\" y=\"-14.3\" font-family=\"Times New Roman,serif\" font-size=\"14.00\">и3</text>\r\n",
       "</g>\r\n",
       "<!-- F2&#45;&gt;и3 -->\r\n",
       "<g id=\"edge7\" class=\"edge\"><title>F2&#45;&gt;и3</title>\r\n",
       "<path fill=\"none\" stroke=\"black\" d=\"M695.515,-102.698C701.393,-95.9149 708.238,-87.7156 714,-80 722.347,-68.8227 730.917,-55.97 737.973,-44.9533\"/>\r\n",
       "<polygon fill=\"black\" stroke=\"black\" points=\"741.117,-46.5303 743.505,-36.2082 735.201,-42.788 741.117,-46.5303\"/>\r\n",
       "<text text-anchor=\"middle\" x=\"757\" y=\"-70.4\" font-family=\"Times New Roman,serif\" font-size=\"12.00\">1.261</text>\r\n",
       "<text text-anchor=\"middle\" x=\"757\" y=\"-57.4\" font-family=\"Times New Roman,serif\" font-size=\"12.00\">p&#45;val: 0.00</text>\r\n",
       "</g>\r\n",
       "</g>\r\n",
       "</svg>\r\n"
      ],
      "text/plain": [
       "<graphviz.dot.Digraph at 0x281f6ed2388>"
      ]
     },
     "execution_count": 80,
     "metadata": {},
     "output_type": "execute_result"
    }
   ],
   "source": [
    "g = semopy.semplot(mod, \"pd.png\")\n",
    "g"
   ]
  },
  {
   "cell_type": "code",
   "execution_count": 81,
   "id": "cognitive-birth",
   "metadata": {},
   "outputs": [
    {
     "name": "stdout",
     "output_type": "stream",
     "text": [
      "                    Value\n",
      "DoF             41.000000\n",
      "DoF Baseline    55.000000\n",
      "chi2           173.209645\n",
      "chi2 p-value     0.000000\n",
      "chi2 Baseline  710.691801\n",
      "CFI              0.798366\n",
      "GFI              0.756280\n",
      "AGFI             0.673059\n",
      "NFI              0.756280\n",
      "TLI              0.729516\n",
      "RMSEA            0.132744\n",
      "AIC             48.117286\n",
      "BIC            128.490680\n",
      "LogLik           0.941357\n"
     ]
    }
   ],
   "source": [
    "stats = semopy.calc_stats(mod)\n",
    "print(stats.T)"
   ]
  },
  {
   "cell_type": "markdown",
   "id": "stock-session",
   "metadata": {},
   "source": [
    "Вывод: модель плохо согласуется с исходными данными."
   ]
  },
  {
   "cell_type": "code",
   "execution_count": 82,
   "id": "exciting-cement",
   "metadata": {},
   "outputs": [],
   "source": [
    "#Semopy provides a report function that takes a fitted model and generates an HTML file\n",
    "from semopy import ModelMeans\n",
    "\n",
    "model = ModelMeans(desc)\n",
    "model.fit(data)\n",
    "semopy.report(model, \"CFA1\")"
   ]
  },
  {
   "cell_type": "markdown",
   "id": "collective-father",
   "metadata": {},
   "source": [
    "# Пример 3. Модель на основе Exploratory Factor Analysis в semopy"
   ]
  },
  {
   "cell_type": "code",
   "execution_count": 4,
   "id": "atlantic-executive",
   "metadata": {},
   "outputs": [
    {
     "name": "stdout",
     "output_type": "stream",
     "text": [
      "eta1 =~ и4 + и8 + и7 + и9 + и10 + и2 + и5\n",
      "eta2 =~ и2 + и3 + и6 + и5 + и11 + и1\n",
      "\n"
     ]
    }
   ],
   "source": [
    "#Exploratory Factor Analysis\n",
    "import semopy\n",
    "import numpy as np\n",
    "import pandas as pd\n",
    "\n",
    "data = pd.read_spss('IQ.sav')\n",
    "\n",
    "desc=print(semopy.efa.explore_cfa_model(data))\n",
    "desc"
   ]
  },
  {
   "cell_type": "code",
   "execution_count": 13,
   "id": "immune-jersey",
   "metadata": {},
   "outputs": [],
   "source": [
    "#Pine model is a generalization of CFA model. \n",
    "#In Pine setting, we allow latent factors in CFA model to be indicators of some other \"higher level\" latent factor. \n",
    "#print(semopy.efa.explore_pine_model(data, levels=2))"
   ]
  },
  {
   "cell_type": "code",
   "execution_count": 5,
   "id": "hydraulic-leather",
   "metadata": {},
   "outputs": [],
   "source": [
    "desc='''\n",
    "F1 =~ и4 + и8 + и7 + и9 + и10 + и2 + и5\n",
    "F2 =~ и2 + и3 + и6 + и5 + и11 + и1\n",
    "'''"
   ]
  },
  {
   "cell_type": "code",
   "execution_count": 6,
   "id": "parliamentary-pointer",
   "metadata": {},
   "outputs": [],
   "source": [
    "from semopy import Model\n",
    "mod = Model(desc)"
   ]
  },
  {
   "cell_type": "code",
   "execution_count": 7,
   "id": "refined-society",
   "metadata": {},
   "outputs": [
    {
     "data": {
      "text/plain": [
       "SolverResult(fun=1.060726551091241, success=True, n_it=38, x=array([0.98691746, 1.23179222, 1.08958167, 0.92378379, 0.54434854,\n",
       "       0.39397397, 0.57154737, 1.53336328, 1.26859967, 1.3398241 ,\n",
       "       1.15711569, 3.11157401, 4.61353052, 3.84182666, 2.88529978,\n",
       "       1.43290813, 2.90270812, 5.62947848, 3.56532315, 3.3028543 ,\n",
       "       4.89690089, 5.31005735, 1.14923514, 0.64009952, 2.85468921]), message='Optimization terminated successfully', name_method='SLSQP', name_obj='MLW')"
      ]
     },
     "execution_count": 7,
     "metadata": {},
     "output_type": "execute_result"
    }
   ],
   "source": [
    "res=mod.fit(data)\n",
    "res"
   ]
  },
  {
   "cell_type": "code",
   "execution_count": 8,
   "id": "closing-radio",
   "metadata": {},
   "outputs": [
    {
     "name": "stdout",
     "output_type": "stream",
     "text": [
      "   lval  op rval  Estimate  Est. Std  Std. Err   z-value   p-value\n",
      "0    и4   ~   F1  1.000000  0.815967         -         -         -\n",
      "1    и8   ~   F1  0.986917  0.700536  0.106284  9.285648       0.0\n",
      "2    и7   ~   F1  1.231792  0.685101  0.135796  9.070884       0.0\n",
      "3    и9   ~   F1  1.089582  0.613015  0.135395  8.047435       0.0\n",
      "4   и10   ~   F1  0.923784  0.587849  0.120131  7.689831       0.0\n",
      "5    и2   ~   F1  0.544349  0.325129  0.133051  4.091268  0.000043\n",
      "6    и2   ~   F2  1.000000  0.378969         -         -         -\n",
      "7    и5   ~   F1  0.393974  0.332432  0.096651   4.07624  0.000046\n",
      "8    и5   ~   F2  0.571547  0.305994  0.194615  2.936816  0.003316\n",
      "9    и3   ~   F2  1.533363  0.656607  0.371579  4.126613  0.000037\n",
      "10   и6   ~   F2  1.268600  0.570061  0.319571  3.969701  0.000072\n",
      "11  и11   ~   F2  1.339824  0.620057  0.329124  4.070878  0.000047\n",
      "12   и1   ~   F2  1.157116  0.575229  0.290629  3.981413  0.000069\n",
      "13   F2  ~~   F2  1.149235  1.000000  0.504208  2.279288   0.02265\n",
      "14   F2  ~~   F1  0.640100  0.353398  0.227008  2.819716  0.004807\n",
      "15   F1  ~~   F1  2.854689  1.000000  0.461596  6.184391       0.0\n",
      "16   и1  ~~   и1  3.111574  0.669112  0.394712  7.883154       0.0\n",
      "17  и10  ~~  и10  4.613531  0.654433  0.534064   8.63854       0.0\n",
      "18   и6  ~~   и6  3.841827  0.675030  0.484502  7.929437       0.0\n",
      "19   и8  ~~   и8  2.885300  0.509250  0.368994  7.819366       0.0\n",
      "20   и4  ~~   и4  1.432908  0.334198  0.240594  5.955707       0.0\n",
      "21   и5  ~~   и5  2.902708  0.723960  0.325841  8.908353       0.0\n",
      "22   и9  ~~   и9  5.629478  0.624212  0.662164  8.501634       0.0\n",
      "23   и3  ~~   и3  3.565323  0.568867  0.512451  6.957398       0.0\n",
      "24  и11  ~~  и11  3.302854  0.615529  0.444962  7.422779       0.0\n",
      "25   и7  ~~   и7  4.896901  0.530636  0.614377  7.970513       0.0\n",
      "26   и2  ~~   и2  5.310057  0.663587  0.617473  8.599658       0.0\n"
     ]
    }
   ],
   "source": [
    "print(mod.inspect(std_est=True))"
   ]
  },
  {
   "cell_type": "code",
   "execution_count": 9,
   "id": "north-flexibility",
   "metadata": {},
   "outputs": [
    {
     "data": {
      "image/svg+xml": [
       "<?xml version=\"1.0\" encoding=\"UTF-8\" standalone=\"no\"?>\r\n",
       "<!DOCTYPE svg PUBLIC \"-//W3C//DTD SVG 1.1//EN\"\r\n",
       " \"http://www.w3.org/Graphics/SVG/1.1/DTD/svg11.dtd\">\r\n",
       "<!-- Generated by graphviz version 2.38.0 (20140413.2041)\r\n",
       " -->\r\n",
       "<!-- Title: G Pages: 1 -->\r\n",
       "<svg width=\"916pt\" height=\"148pt\"\r\n",
       " viewBox=\"0.00 0.00 916.00 147.60\" xmlns=\"http://www.w3.org/2000/svg\" xmlns:xlink=\"http://www.w3.org/1999/xlink\">\r\n",
       "<g id=\"graph0\" class=\"graph\" transform=\"scale(1 1) rotate(0) translate(4 143.596)\">\r\n",
       "<title>G</title>\r\n",
       "<polygon fill=\"white\" stroke=\"none\" points=\"-4,4 -4,-143.596 912,-143.596 912,4 -4,4\"/>\r\n",
       "<!-- F2 -->\r\n",
       "<g id=\"node1\" class=\"node\"><title>F2</title>\r\n",
       "<ellipse fill=\"#cae6df\" stroke=\"black\" cx=\"209\" cy=\"-118.798\" rx=\"20.5982\" ry=\"20.5982\"/>\r\n",
       "<text text-anchor=\"middle\" x=\"209\" y=\"-115.098\" font-family=\"Times New Roman,serif\" font-size=\"14.00\">F2</text>\r\n",
       "</g>\r\n",
       "<!-- и1 -->\r\n",
       "<g id=\"node3\" class=\"node\"><title>и1</title>\r\n",
       "<polygon fill=\"none\" stroke=\"black\" points=\"200,-36 146,-36 146,-0 200,-0 200,-36\"/>\r\n",
       "<text text-anchor=\"middle\" x=\"173\" y=\"-14.3\" font-family=\"Times New Roman,serif\" font-size=\"14.00\">и1</text>\r\n",
       "</g>\r\n",
       "<!-- F2&#45;&gt;и1 -->\r\n",
       "<g id=\"edge13\" class=\"edge\"><title>F2&#45;&gt;и1</title>\r\n",
       "<path fill=\"none\" stroke=\"black\" d=\"M192.88,-105.227C185.674,-98.5897 177.931,-89.7938 174,-80 169.798,-69.5316 168.919,-57.216 169.326,-46.4019\"/>\r\n",
       "<polygon fill=\"black\" stroke=\"black\" points=\"172.832,-46.4449 170.085,-36.2124 165.852,-45.9245 172.832,-46.4449\"/>\r\n",
       "<text text-anchor=\"middle\" x=\"199\" y=\"-70.4\" font-family=\"Times New Roman,serif\" font-size=\"12.00\">1.157</text>\r\n",
       "<text text-anchor=\"middle\" x=\"199\" y=\"-57.4\" font-family=\"Times New Roman,serif\" font-size=\"12.00\">p&#45;val: 0.00</text>\r\n",
       "</g>\r\n",
       "<!-- и11 -->\r\n",
       "<g id=\"node5\" class=\"node\"><title>и11</title>\r\n",
       "<polygon fill=\"none\" stroke=\"black\" points=\"273,-36 219,-36 219,-0 273,-0 273,-36\"/>\r\n",
       "<text text-anchor=\"middle\" x=\"246\" y=\"-14.3\" font-family=\"Times New Roman,serif\" font-size=\"14.00\">и11</text>\r\n",
       "</g>\r\n",
       "<!-- F2&#45;&gt;и11 -->\r\n",
       "<g id=\"edge12\" class=\"edge\"><title>F2&#45;&gt;и11</title>\r\n",
       "<path fill=\"none\" stroke=\"black\" d=\"M216.595,-99.0022C219.003,-92.9512 221.65,-86.2064 224,-80 228.229,-68.8299 232.732,-56.4414 236.554,-45.7629\"/>\r\n",
       "<polygon fill=\"black\" stroke=\"black\" points=\"239.922,-46.7389 239.98,-36.1442 233.328,-44.3903 239.922,-46.7389\"/>\r\n",
       "<text text-anchor=\"middle\" x=\"259\" y=\"-70.4\" font-family=\"Times New Roman,serif\" font-size=\"12.00\">1.340</text>\r\n",
       "<text text-anchor=\"middle\" x=\"259\" y=\"-57.4\" font-family=\"Times New Roman,serif\" font-size=\"12.00\">p&#45;val: 0.00</text>\r\n",
       "</g>\r\n",
       "<!-- и2 -->\r\n",
       "<g id=\"node6\" class=\"node\"><title>и2</title>\r\n",
       "<polygon fill=\"none\" stroke=\"black\" points=\"377,-36 323,-36 323,-0 377,-0 377,-36\"/>\r\n",
       "<text text-anchor=\"middle\" x=\"350\" y=\"-14.3\" font-family=\"Times New Roman,serif\" font-size=\"14.00\">и2</text>\r\n",
       "</g>\r\n",
       "<!-- F2&#45;&gt;и2 -->\r\n",
       "<g id=\"edge7\" class=\"edge\"><title>F2&#45;&gt;и2</title>\r\n",
       "<path fill=\"none\" stroke=\"black\" d=\"M228.483,-110.593C245.097,-103.967 269.205,-93.1854 288,-80 302.805,-69.6136 317.327,-55.5944 328.591,-43.6148\"/>\r\n",
       "<polygon fill=\"black\" stroke=\"black\" points=\"331.309,-45.8296 335.493,-36.0957 326.152,-41.0961 331.309,-45.8296\"/>\r\n",
       "<text text-anchor=\"middle\" x=\"332\" y=\"-63.9\" font-family=\"Times New Roman,serif\" font-size=\"12.00\">1.000</text>\r\n",
       "</g>\r\n",
       "<!-- и3 -->\r\n",
       "<g id=\"node7\" class=\"node\"><title>и3</title>\r\n",
       "<polygon fill=\"none\" stroke=\"black\" points=\"54,-36 0,-36 0,-0 54,-0 54,-36\"/>\r\n",
       "<text text-anchor=\"middle\" x=\"27\" y=\"-14.3\" font-family=\"Times New Roman,serif\" font-size=\"14.00\">и3</text>\r\n",
       "</g>\r\n",
       "<!-- F2&#45;&gt;и3 -->\r\n",
       "<g id=\"edge10\" class=\"edge\"><title>F2&#45;&gt;и3</title>\r\n",
       "<path fill=\"none\" stroke=\"black\" d=\"M188.185,-118.692C154.89,-118.978 89.4002,-114.683 50,-80 40.2097,-71.3818 34.5729,-58.1613 31.3342,-46.2285\"/>\r\n",
       "<polygon fill=\"black\" stroke=\"black\" points=\"34.6894,-45.198 29.0612,-36.2216 27.8632,-46.7485 34.6894,-45.198\"/>\r\n",
       "<text text-anchor=\"middle\" x=\"75\" y=\"-70.4\" font-family=\"Times New Roman,serif\" font-size=\"12.00\">1.533</text>\r\n",
       "<text text-anchor=\"middle\" x=\"75\" y=\"-57.4\" font-family=\"Times New Roman,serif\" font-size=\"12.00\">p&#45;val: 0.00</text>\r\n",
       "</g>\r\n",
       "<!-- и5 -->\r\n",
       "<g id=\"node9\" class=\"node\"><title>и5</title>\r\n",
       "<polygon fill=\"none\" stroke=\"black\" points=\"481,-36 427,-36 427,-0 481,-0 481,-36\"/>\r\n",
       "<text text-anchor=\"middle\" x=\"454\" y=\"-14.3\" font-family=\"Times New Roman,serif\" font-size=\"14.00\">и5</text>\r\n",
       "</g>\r\n",
       "<!-- F2&#45;&gt;и5 -->\r\n",
       "<g id=\"edge9\" class=\"edge\"><title>F2&#45;&gt;и5</title>\r\n",
       "<path fill=\"none\" stroke=\"black\" d=\"M229.8,-115.896C258.348,-112.489 310.403,-103.364 348,-80 361.104,-71.8568 358.469,-62.9994 371,-54 384.858,-44.0476 401.98,-36.2212 417.065,-30.5163\"/>\r\n",
       "<polygon fill=\"black\" stroke=\"black\" points=\"418.407,-33.7533 426.63,-27.0728 416.036,-27.1671 418.407,-33.7533\"/>\r\n",
       "<text text-anchor=\"middle\" x=\"396\" y=\"-70.4\" font-family=\"Times New Roman,serif\" font-size=\"12.00\">0.572</text>\r\n",
       "<text text-anchor=\"middle\" x=\"396\" y=\"-57.4\" font-family=\"Times New Roman,serif\" font-size=\"12.00\">p&#45;val: 0.00</text>\r\n",
       "</g>\r\n",
       "<!-- и6 -->\r\n",
       "<g id=\"node10\" class=\"node\"><title>и6</title>\r\n",
       "<polygon fill=\"none\" stroke=\"black\" points=\"127,-36 73,-36 73,-0 127,-0 127,-36\"/>\r\n",
       "<text text-anchor=\"middle\" x=\"100\" y=\"-14.3\" font-family=\"Times New Roman,serif\" font-size=\"14.00\">и6</text>\r\n",
       "</g>\r\n",
       "<!-- F2&#45;&gt;и6 -->\r\n",
       "<g id=\"edge11\" class=\"edge\"><title>F2&#45;&gt;и6</title>\r\n",
       "<path fill=\"none\" stroke=\"black\" d=\"M188.519,-114.909C167.323,-110.833 134.746,-101.346 116,-80 107.869,-70.7413 103.795,-57.8334 101.782,-46.2745\"/>\r\n",
       "<polygon fill=\"black\" stroke=\"black\" points=\"105.229,-45.6406 100.456,-36.1818 98.2887,-46.5526 105.229,-45.6406\"/>\r\n",
       "<text text-anchor=\"middle\" x=\"141\" y=\"-70.4\" font-family=\"Times New Roman,serif\" font-size=\"12.00\">1.269</text>\r\n",
       "<text text-anchor=\"middle\" x=\"141\" y=\"-57.4\" font-family=\"Times New Roman,serif\" font-size=\"12.00\">p&#45;val: 0.00</text>\r\n",
       "</g>\r\n",
       "<!-- F1 -->\r\n",
       "<g id=\"node2\" class=\"node\"><title>F1</title>\r\n",
       "<ellipse fill=\"#cae6df\" stroke=\"black\" cx=\"662\" cy=\"-118.798\" rx=\"20.5982\" ry=\"20.5982\"/>\r\n",
       "<text text-anchor=\"middle\" x=\"662\" y=\"-115.098\" font-family=\"Times New Roman,serif\" font-size=\"14.00\">F1</text>\r\n",
       "</g>\r\n",
       "<!-- и10 -->\r\n",
       "<g id=\"node4\" class=\"node\"><title>и10</title>\r\n",
       "<polygon fill=\"none\" stroke=\"black\" points=\"835,-36 781,-36 781,-0 835,-0 835,-36\"/>\r\n",
       "<text text-anchor=\"middle\" x=\"808\" y=\"-14.3\" font-family=\"Times New Roman,serif\" font-size=\"14.00\">и10</text>\r\n",
       "</g>\r\n",
       "<!-- F1&#45;&gt;и10 -->\r\n",
       "<g id=\"edge5\" class=\"edge\"><title>F1&#45;&gt;и10</title>\r\n",
       "<path fill=\"none\" stroke=\"black\" d=\"M682.833,-116.187C708.562,-113.169 752.311,-104.542 780,-80 790.151,-71.0026 796.86,-57.5751 801.158,-45.6067\"/>\r\n",
       "<polygon fill=\"black\" stroke=\"black\" points=\"804.509,-46.6167 804.224,-36.0257 797.843,-44.483 804.509,-46.6167\"/>\r\n",
       "<text text-anchor=\"middle\" x=\"822\" y=\"-70.4\" font-family=\"Times New Roman,serif\" font-size=\"12.00\">0.924</text>\r\n",
       "<text text-anchor=\"middle\" x=\"822\" y=\"-57.4\" font-family=\"Times New Roman,serif\" font-size=\"12.00\">p&#45;val: 0.00</text>\r\n",
       "</g>\r\n",
       "<!-- F1&#45;&gt;и2 -->\r\n",
       "<g id=\"edge6\" class=\"edge\"><title>F1&#45;&gt;и2</title>\r\n",
       "<path fill=\"none\" stroke=\"black\" d=\"M640.978,-118.33C600.692,-118.475 510.86,-114.522 446,-80 431.849,-72.4679 433.939,-63.4639 421,-54 410.514,-46.3306 398.091,-39.5528 386.592,-34.0539\"/>\r\n",
       "<polygon fill=\"black\" stroke=\"black\" points=\"387.76,-30.739 377.212,-29.7442 384.837,-37.0997 387.76,-30.739\"/>\r\n",
       "<text text-anchor=\"middle\" x=\"471\" y=\"-70.4\" font-family=\"Times New Roman,serif\" font-size=\"12.00\">0.544</text>\r\n",
       "<text text-anchor=\"middle\" x=\"471\" y=\"-57.4\" font-family=\"Times New Roman,serif\" font-size=\"12.00\">p&#45;val: 0.00</text>\r\n",
       "</g>\r\n",
       "<!-- и4 -->\r\n",
       "<g id=\"node8\" class=\"node\"><title>и4</title>\r\n",
       "<polygon fill=\"none\" stroke=\"black\" points=\"908,-36 854,-36 854,-0 908,-0 908,-36\"/>\r\n",
       "<text text-anchor=\"middle\" x=\"881\" y=\"-14.3\" font-family=\"Times New Roman,serif\" font-size=\"14.00\">и4</text>\r\n",
       "</g>\r\n",
       "<!-- F1&#45;&gt;и4 -->\r\n",
       "<g id=\"edge1\" class=\"edge\"><title>F1&#45;&gt;и4</title>\r\n",
       "<path fill=\"none\" stroke=\"black\" d=\"M682.665,-115.967C726.04,-111.762 824.739,-100.195 851,-80 861.963,-71.5691 869.176,-58.0746 873.774,-45.9189\"/>\r\n",
       "<polygon fill=\"black\" stroke=\"black\" points=\"877.184,-46.7576 877.047,-36.1636 870.548,-44.5311 877.184,-46.7576\"/>\r\n",
       "<text text-anchor=\"middle\" x=\"883\" y=\"-63.9\" font-family=\"Times New Roman,serif\" font-size=\"12.00\">1.000</text>\r\n",
       "</g>\r\n",
       "<!-- F1&#45;&gt;и5 -->\r\n",
       "<g id=\"edge8\" class=\"edge\"><title>F1&#45;&gt;и5</title>\r\n",
       "<path fill=\"none\" stroke=\"black\" d=\"M641.76,-113.399C617.32,-107.646 575.344,-96.3395 542,-80 521.104,-69.7603 499.602,-54.9493 483.084,-42.4859\"/>\r\n",
       "<polygon fill=\"black\" stroke=\"black\" points=\"484.991,-39.5376 474.929,-36.219 480.725,-45.0878 484.991,-39.5376\"/>\r\n",
       "<text text-anchor=\"middle\" x=\"567\" y=\"-70.4\" font-family=\"Times New Roman,serif\" font-size=\"12.00\">0.394</text>\r\n",
       "<text text-anchor=\"middle\" x=\"567\" y=\"-57.4\" font-family=\"Times New Roman,serif\" font-size=\"12.00\">p&#45;val: 0.00</text>\r\n",
       "</g>\r\n",
       "<!-- и7 -->\r\n",
       "<g id=\"node11\" class=\"node\"><title>и7</title>\r\n",
       "<polygon fill=\"none\" stroke=\"black\" points=\"616,-36 562,-36 562,-0 616,-0 616,-36\"/>\r\n",
       "<text text-anchor=\"middle\" x=\"589\" y=\"-14.3\" font-family=\"Times New Roman,serif\" font-size=\"14.00\">и7</text>\r\n",
       "</g>\r\n",
       "<!-- F1&#45;&gt;и7 -->\r\n",
       "<g id=\"edge3\" class=\"edge\"><title>F1&#45;&gt;и7</title>\r\n",
       "<path fill=\"none\" stroke=\"black\" d=\"M643.58,-108.952C631.848,-102.448 617.182,-92.566 608,-80 600.735,-70.0574 596.198,-57.2667 593.389,-45.9678\"/>\r\n",
       "<polygon fill=\"black\" stroke=\"black\" points=\"596.798,-45.1715 591.267,-36.1352 589.956,-46.6486 596.798,-45.1715\"/>\r\n",
       "<text text-anchor=\"middle\" x=\"633\" y=\"-70.4\" font-family=\"Times New Roman,serif\" font-size=\"12.00\">1.232</text>\r\n",
       "<text text-anchor=\"middle\" x=\"633\" y=\"-57.4\" font-family=\"Times New Roman,serif\" font-size=\"12.00\">p&#45;val: 0.00</text>\r\n",
       "</g>\r\n",
       "<!-- и8 -->\r\n",
       "<g id=\"node12\" class=\"node\"><title>и8</title>\r\n",
       "<polygon fill=\"none\" stroke=\"black\" points=\"689,-36 635,-36 635,-0 689,-0 689,-36\"/>\r\n",
       "<text text-anchor=\"middle\" x=\"662\" y=\"-14.3\" font-family=\"Times New Roman,serif\" font-size=\"14.00\">и8</text>\r\n",
       "</g>\r\n",
       "<!-- F1&#45;&gt;и8 -->\r\n",
       "<g id=\"edge2\" class=\"edge\"><title>F1&#45;&gt;и8</title>\r\n",
       "<path fill=\"none\" stroke=\"black\" d=\"M662,-97.8049C662,-82.9113 662,-62.4108 662,-46.0526\"/>\r\n",
       "<polygon fill=\"black\" stroke=\"black\" points=\"665.5,-46.0015 662,-36.0016 658.5,-46.0016 665.5,-46.0015\"/>\r\n",
       "<text text-anchor=\"middle\" x=\"687\" y=\"-70.4\" font-family=\"Times New Roman,serif\" font-size=\"12.00\">0.987</text>\r\n",
       "<text text-anchor=\"middle\" x=\"687\" y=\"-57.4\" font-family=\"Times New Roman,serif\" font-size=\"12.00\">p&#45;val: 0.00</text>\r\n",
       "</g>\r\n",
       "<!-- и9 -->\r\n",
       "<g id=\"node13\" class=\"node\"><title>и9</title>\r\n",
       "<polygon fill=\"none\" stroke=\"black\" points=\"762,-36 708,-36 708,-0 762,-0 762,-36\"/>\r\n",
       "<text text-anchor=\"middle\" x=\"735\" y=\"-14.3\" font-family=\"Times New Roman,serif\" font-size=\"14.00\">и9</text>\r\n",
       "</g>\r\n",
       "<!-- F1&#45;&gt;и9 -->\r\n",
       "<g id=\"edge4\" class=\"edge\"><title>F1&#45;&gt;и9</title>\r\n",
       "<path fill=\"none\" stroke=\"black\" d=\"M680.194,-108C691.029,-101.357 704.317,-91.6723 713,-80 720.459,-69.9721 725.586,-57.17 729.001,-45.8857\"/>\r\n",
       "<polygon fill=\"black\" stroke=\"black\" points=\"732.423,-46.6406 731.674,-36.0723 725.669,-44.8013 732.423,-46.6406\"/>\r\n",
       "<text text-anchor=\"middle\" x=\"751\" y=\"-70.4\" font-family=\"Times New Roman,serif\" font-size=\"12.00\">1.090</text>\r\n",
       "<text text-anchor=\"middle\" x=\"751\" y=\"-57.4\" font-family=\"Times New Roman,serif\" font-size=\"12.00\">p&#45;val: 0.00</text>\r\n",
       "</g>\r\n",
       "</g>\r\n",
       "</svg>\r\n"
      ],
      "text/plain": [
       "<graphviz.dot.Digraph at 0x29dd606d9c8>"
      ]
     },
     "execution_count": 9,
     "metadata": {},
     "output_type": "execute_result"
    }
   ],
   "source": [
    "g = semopy.semplot(mod, \"pd.png\")\n",
    "g"
   ]
  },
  {
   "cell_type": "code",
   "execution_count": 10,
   "id": "ceramic-banks",
   "metadata": {},
   "outputs": [
    {
     "name": "stdout",
     "output_type": "stream",
     "text": [
      "                    Value\n",
      "DoF             41.000000\n",
      "DoF Baseline    55.000000\n",
      "chi2           195.173685\n",
      "chi2 p-value     0.000000\n",
      "chi2 Baseline  710.691801\n",
      "CFI              0.764869\n",
      "GFI              0.725375\n",
      "AGFI             0.631601\n",
      "NFI              0.725375\n",
      "TLI              0.684580\n",
      "RMSEA            0.143347\n",
      "AIC             47.878547\n",
      "BIC            128.251941\n",
      "LogLik           1.060727\n"
     ]
    }
   ],
   "source": [
    "stats = semopy.calc_stats(mod)\n",
    "print(stats.T)"
   ]
  },
  {
   "cell_type": "markdown",
   "id": "printable-spell",
   "metadata": {},
   "source": [
    "Вывод: модель плохо согласуется с исходными данными."
   ]
  },
  {
   "cell_type": "markdown",
   "id": "republican-dependence",
   "metadata": {},
   "source": [
    "# Пример 4. Модель Наследова КФА4 (CFA4)"
   ]
  },
  {
   "cell_type": "code",
   "execution_count": 40,
   "id": "naughty-brunswick",
   "metadata": {},
   "outputs": [],
   "source": [
    "import os\n",
    "os.chdir(\"C:/Users/HP/Documents/analysis/Marketing/data/\")"
   ]
  },
  {
   "cell_type": "code",
   "execution_count": 41,
   "id": "vertical-division",
   "metadata": {},
   "outputs": [],
   "source": [
    "#Априорная модель\n",
    "desc='''\n",
    "F1 =~ и4 + и7 + и8 + и9 + и11\n",
    "F2 =~ и11 + и1 + и3 + и6\n",
    "F3 =~ и5 + и2 + и10 + и6\n",
    "F1 ~~ F2\n",
    "F2 ~~ F3\n",
    "F1 ~~ F3\n",
    "и4 ~~ и10\n",
    "и4 ~~ и5\n",
    "и7 ~~ и9\n",
    "и9 ~~ и1\n",
    "и11 ~~ и5\n",
    "и4 ~~ и9\n",
    "и8 ~~ и11\n",
    "и11 ~~ и10\n",
    "'''"
   ]
  },
  {
   "cell_type": "code",
   "execution_count": 42,
   "id": "raising-investment",
   "metadata": {},
   "outputs": [],
   "source": [
    "import pandas as pd\n",
    "data = pd.read_spss('IQ.sav')"
   ]
  },
  {
   "cell_type": "code",
   "execution_count": 43,
   "id": "automatic-wellington",
   "metadata": {},
   "outputs": [
    {
     "data": {
      "text/plain": [
       "(184, 11)"
      ]
     },
     "execution_count": 43,
     "metadata": {},
     "output_type": "execute_result"
    }
   ],
   "source": [
    "data.shape"
   ]
  },
  {
   "cell_type": "code",
   "execution_count": 8,
   "id": "orange-examination",
   "metadata": {},
   "outputs": [
    {
     "name": "stdout",
     "output_type": "stream",
     "text": [
      "<class 'pandas.core.frame.DataFrame'>\n",
      "RangeIndex: 184 entries, 0 to 183\n",
      "Data columns (total 11 columns):\n",
      " #   Column  Non-Null Count  Dtype  \n",
      "---  ------  --------------  -----  \n",
      " 0   и1      184 non-null    float64\n",
      " 1   и2      184 non-null    float64\n",
      " 2   и3      184 non-null    float64\n",
      " 3   и4      184 non-null    float64\n",
      " 4   и5      184 non-null    float64\n",
      " 5   и6      184 non-null    float64\n",
      " 6   и7      184 non-null    float64\n",
      " 7   и8      184 non-null    float64\n",
      " 8   и9      184 non-null    float64\n",
      " 9   и10     184 non-null    float64\n",
      " 10  и11     184 non-null    float64\n",
      "dtypes: float64(11)\n",
      "memory usage: 15.9 KB\n"
     ]
    }
   ],
   "source": [
    "#Проверка данных на пропуски\n",
    "data.info()"
   ]
  },
  {
   "cell_type": "code",
   "execution_count": 9,
   "id": "entitled-mandate",
   "metadata": {},
   "outputs": [
    {
     "data": {
      "text/html": [
       "<div>\n",
       "<style scoped>\n",
       "    .dataframe tbody tr th:only-of-type {\n",
       "        vertical-align: middle;\n",
       "    }\n",
       "\n",
       "    .dataframe tbody tr th {\n",
       "        vertical-align: top;\n",
       "    }\n",
       "\n",
       "    .dataframe thead th {\n",
       "        text-align: right;\n",
       "    }\n",
       "</style>\n",
       "<table border=\"1\" class=\"dataframe\">\n",
       "  <thead>\n",
       "    <tr style=\"text-align: right;\">\n",
       "      <th></th>\n",
       "      <th>и1</th>\n",
       "      <th>и2</th>\n",
       "      <th>и3</th>\n",
       "      <th>и4</th>\n",
       "      <th>и5</th>\n",
       "      <th>и6</th>\n",
       "      <th>и7</th>\n",
       "      <th>и8</th>\n",
       "      <th>и9</th>\n",
       "      <th>и10</th>\n",
       "      <th>и11</th>\n",
       "    </tr>\n",
       "  </thead>\n",
       "  <tbody>\n",
       "    <tr>\n",
       "      <th>count</th>\n",
       "      <td>184.000000</td>\n",
       "      <td>184.000000</td>\n",
       "      <td>184.000000</td>\n",
       "      <td>184.000000</td>\n",
       "      <td>184.000000</td>\n",
       "      <td>184.000000</td>\n",
       "      <td>184.000000</td>\n",
       "      <td>184.000000</td>\n",
       "      <td>184.000000</td>\n",
       "      <td>184.000000</td>\n",
       "      <td>184.000000</td>\n",
       "    </tr>\n",
       "    <tr>\n",
       "      <th>mean</th>\n",
       "      <td>10.494565</td>\n",
       "      <td>9.788043</td>\n",
       "      <td>9.858872</td>\n",
       "      <td>11.076816</td>\n",
       "      <td>10.079965</td>\n",
       "      <td>9.782609</td>\n",
       "      <td>10.842302</td>\n",
       "      <td>9.661394</td>\n",
       "      <td>11.962623</td>\n",
       "      <td>11.093456</td>\n",
       "      <td>9.352443</td>\n",
       "    </tr>\n",
       "    <tr>\n",
       "      <th>std</th>\n",
       "      <td>2.162768</td>\n",
       "      <td>2.836851</td>\n",
       "      <td>2.510265</td>\n",
       "      <td>2.075034</td>\n",
       "      <td>2.006903</td>\n",
       "      <td>2.392274</td>\n",
       "      <td>3.044254</td>\n",
       "      <td>2.385941</td>\n",
       "      <td>3.009826</td>\n",
       "      <td>2.661918</td>\n",
       "      <td>2.322710</td>\n",
       "    </tr>\n",
       "    <tr>\n",
       "      <th>min</th>\n",
       "      <td>7.000000</td>\n",
       "      <td>0.000000</td>\n",
       "      <td>3.000000</td>\n",
       "      <td>5.157408</td>\n",
       "      <td>4.418015</td>\n",
       "      <td>2.000000</td>\n",
       "      <td>3.603006</td>\n",
       "      <td>3.675143</td>\n",
       "      <td>2.737026</td>\n",
       "      <td>3.000000</td>\n",
       "      <td>2.322896</td>\n",
       "    </tr>\n",
       "    <tr>\n",
       "      <th>25%</th>\n",
       "      <td>9.000000</td>\n",
       "      <td>8.000000</td>\n",
       "      <td>8.000000</td>\n",
       "      <td>10.000000</td>\n",
       "      <td>8.000000</td>\n",
       "      <td>8.000000</td>\n",
       "      <td>9.000000</td>\n",
       "      <td>8.000000</td>\n",
       "      <td>11.000000</td>\n",
       "      <td>10.000000</td>\n",
       "      <td>8.000000</td>\n",
       "    </tr>\n",
       "    <tr>\n",
       "      <th>50%</th>\n",
       "      <td>10.000000</td>\n",
       "      <td>10.000000</td>\n",
       "      <td>10.000000</td>\n",
       "      <td>11.000000</td>\n",
       "      <td>10.000000</td>\n",
       "      <td>11.000000</td>\n",
       "      <td>10.000000</td>\n",
       "      <td>10.000000</td>\n",
       "      <td>12.000000</td>\n",
       "      <td>11.000000</td>\n",
       "      <td>9.000000</td>\n",
       "    </tr>\n",
       "    <tr>\n",
       "      <th>75%</th>\n",
       "      <td>12.000000</td>\n",
       "      <td>12.000000</td>\n",
       "      <td>11.669191</td>\n",
       "      <td>12.574323</td>\n",
       "      <td>12.000000</td>\n",
       "      <td>12.000000</td>\n",
       "      <td>13.000000</td>\n",
       "      <td>11.000000</td>\n",
       "      <td>14.000000</td>\n",
       "      <td>13.000000</td>\n",
       "      <td>11.000000</td>\n",
       "    </tr>\n",
       "    <tr>\n",
       "      <th>max</th>\n",
       "      <td>16.000000</td>\n",
       "      <td>17.000000</td>\n",
       "      <td>15.000000</td>\n",
       "      <td>17.170950</td>\n",
       "      <td>14.861310</td>\n",
       "      <td>13.000000</td>\n",
       "      <td>18.516373</td>\n",
       "      <td>15.000000</td>\n",
       "      <td>18.000000</td>\n",
       "      <td>18.000000</td>\n",
       "      <td>16.000000</td>\n",
       "    </tr>\n",
       "  </tbody>\n",
       "</table>\n",
       "</div>"
      ],
      "text/plain": [
       "               и1          и2          и3          и4          и5          и6  \\\n",
       "count  184.000000  184.000000  184.000000  184.000000  184.000000  184.000000   \n",
       "mean    10.494565    9.788043    9.858872   11.076816   10.079965    9.782609   \n",
       "std      2.162768    2.836851    2.510265    2.075034    2.006903    2.392274   \n",
       "min      7.000000    0.000000    3.000000    5.157408    4.418015    2.000000   \n",
       "25%      9.000000    8.000000    8.000000   10.000000    8.000000    8.000000   \n",
       "50%     10.000000   10.000000   10.000000   11.000000   10.000000   11.000000   \n",
       "75%     12.000000   12.000000   11.669191   12.574323   12.000000   12.000000   \n",
       "max     16.000000   17.000000   15.000000   17.170950   14.861310   13.000000   \n",
       "\n",
       "               и7          и8          и9         и10         и11  \n",
       "count  184.000000  184.000000  184.000000  184.000000  184.000000  \n",
       "mean    10.842302    9.661394   11.962623   11.093456    9.352443  \n",
       "std      3.044254    2.385941    3.009826    2.661918    2.322710  \n",
       "min      3.603006    3.675143    2.737026    3.000000    2.322896  \n",
       "25%      9.000000    8.000000   11.000000   10.000000    8.000000  \n",
       "50%     10.000000   10.000000   12.000000   11.000000    9.000000  \n",
       "75%     13.000000   11.000000   14.000000   13.000000   11.000000  \n",
       "max     18.516373   15.000000   18.000000   18.000000   16.000000  "
      ]
     },
     "execution_count": 9,
     "metadata": {},
     "output_type": "execute_result"
    }
   ],
   "source": [
    "data.describe()"
   ]
  },
  {
   "cell_type": "code",
   "execution_count": 16,
   "id": "computational-contest",
   "metadata": {},
   "outputs": [
    {
     "name": "stdout",
     "output_type": "stream",
     "text": [
      "и1     0.343331\n",
      "и2    -0.601276\n",
      "и3    -0.115813\n",
      "и4    -0.107611\n",
      "и5    -0.049227\n",
      "и6    -0.950319\n",
      "и7     0.044927\n",
      "и8    -0.137701\n",
      "и9    -0.863721\n",
      "и10   -0.426792\n",
      "и11   -0.092678\n",
      "dtype: float64\n"
     ]
    }
   ],
   "source": [
    "# Skew for each attribute\n",
    "skew = data.skew()\n",
    "print(skew)"
   ]
  },
  {
   "cell_type": "markdown",
   "id": "interim-blues",
   "metadata": {},
   "source": [
    "Ассиметрия индивидуальных оценок признаков находится в пределах интервала от -1 до 1, поэтому можно предположить несущественное отклонение от нормальности."
   ]
  },
  {
   "cell_type": "code",
   "execution_count": 17,
   "id": "reduced-edinburgh",
   "metadata": {},
   "outputs": [
    {
     "name": "stdout",
     "output_type": "stream",
     "text": [
      "и1    -0.371492\n",
      "и2     0.796877\n",
      "и3     0.023309\n",
      "и4     0.270108\n",
      "и5    -0.636556\n",
      "и6     0.956611\n",
      "и7    -0.249314\n",
      "и8    -0.081669\n",
      "и9     0.662422\n",
      "и10    0.988965\n",
      "и11    0.348070\n",
      "dtype: float64\n"
     ]
    }
   ],
   "source": [
    "# Kurtosios for each attribute\n",
    "kurtosis = data.kurtosis()\n",
    "print(kurtosis)"
   ]
  },
  {
   "cell_type": "markdown",
   "id": "amber-relative",
   "metadata": {},
   "source": [
    "Эксцесс индивидуальных оценок признаков находится в пределах интервала от -1 до 1, поэтому можно предположить несущественное отклонение от нормальности."
   ]
  },
  {
   "cell_type": "code",
   "execution_count": 22,
   "id": "compound-winner",
   "metadata": {},
   "outputs": [
    {
     "data": {
      "image/png": "[encoded data removed]",
      "text/plain": [
       "<Figure size 432x288 with 12 Axes>"
      ]
     },
     "metadata": {
      "needs_background": "light"
     },
     "output_type": "display_data"
    }
   ],
   "source": [
    "# Univariate Histograms\n",
    "from matplotlib import pyplot\n",
    "data.hist()\n",
    "pyplot.show()"
   ]
  },
  {
   "cell_type": "code",
   "execution_count": 24,
   "id": "attractive-america",
   "metadata": {},
   "outputs": [
    {
     "data": {
      "image/png": "[encoded data removed]",
      "text/plain": [
       "<Figure size 432x288 with 16 Axes>"
      ]
     },
     "metadata": {
      "needs_background": "light"
     },
     "output_type": "display_data"
    }
   ],
   "source": [
    "# Univariate Density Plots\n",
    "data.plot(kind='density', subplots=True, layout=(4,4), sharex=False)\n",
    "pyplot.show()"
   ]
  },
  {
   "cell_type": "code",
   "execution_count": 25,
   "id": "chronic-nerve",
   "metadata": {},
   "outputs": [
    {
     "data": {
      "image/png": "[encoded data removed]",
      "text/plain": [
       "<Figure size 432x288 with 16 Axes>"
      ]
     },
     "metadata": {
      "needs_background": "light"
     },
     "output_type": "display_data"
    }
   ],
   "source": [
    "# Box and Whisker Plots\n",
    "data.plot(kind='box', subplots=True, layout=(4,4), sharex=False, sharey=False)\n",
    "pyplot.show()"
   ]
  },
  {
   "cell_type": "code",
   "execution_count": 27,
   "id": "closed-milan",
   "metadata": {},
   "outputs": [
    {
     "data": {
      "image/png": "[encoded data removed]",
      "text/plain": [
       "<Figure size 432x288 with 1 Axes>"
      ]
     },
     "metadata": {
      "needs_background": "light"
     },
     "output_type": "display_data"
    }
   ],
   "source": [
    "#Quantile-Quantile Plot\n",
    "import numpy as np \n",
    "import pylab \n",
    "import scipy.stats as stats\n",
    "\n",
    "stats.probplot(data['и1'], dist=\"norm\", plot=pylab)\n",
    "pylab.show()"
   ]
  },
  {
   "cell_type": "code",
   "execution_count": 21,
   "id": "august-offset",
   "metadata": {},
   "outputs": [
    {
     "name": "stdout",
     "output_type": "stream",
     "text": [
      "Statistics=0.987, p=0.000\n",
      "Sample does not look Gaussian (reject H0)\n"
     ]
    }
   ],
   "source": [
    "# The Shapiro-Wilk normality test\n",
    "#H0 (null): The variables follow a multivariate normal distribution.\n",
    "#Ha (alternative): The variables do not follow a multivariate normal distribution.\n",
    "from scipy import stats\n",
    "stat, p = stats.shapiro(data)\n",
    "print('Statistics=%.3f, p=%.3f' % (stat, p))\n",
    "# interpret\n",
    "alpha = 0.05\n",
    "if p > alpha:\n",
    "    print('Sample looks Gaussian (fail to reject H0)')\n",
    "else:\n",
    "    print('Sample does not look Gaussian (reject H0)')"
   ]
  },
  {
   "cell_type": "code",
   "execution_count": 14,
   "id": "breeding-emphasis",
   "metadata": {
    "tags": []
   },
   "outputs": [],
   "source": [
    "#pip install pingouin"
   ]
  },
  {
   "cell_type": "code",
   "execution_count": 30,
   "id": "transparent-example",
   "metadata": {},
   "outputs": [
    {
     "data": {
      "text/plain": [
       "HZResults(hz=2.4789464898505016, pval=0.0, normal=False)"
      ]
     },
     "execution_count": 30,
     "metadata": {},
     "output_type": "execute_result"
    }
   ],
   "source": [
    "#Henze-Zirkler Multivariate Normality Test\n",
    "#H0 (null): The variables follow a multivariate normal distribution.\n",
    "#Ha (alternative): The variables do not follow a multivariate normal distribution.\n",
    "#import necessary packages\n",
    "from pingouin import multivariate_normality\n",
    "import pandas as pd\n",
    "import numpy as np\n",
    "\n",
    "#perform the Henze-Zirkler Multivariate Normality Test\n",
    "multivariate_normality(data, alpha=.05)"
   ]
  },
  {
   "cell_type": "markdown",
   "id": "disabled-tiger",
   "metadata": {},
   "source": [
    "pval=0.0<alpha=0.05, поэтому отвергаем нулевую гипотезу о многомерной нормальности распределения."
   ]
  },
  {
   "cell_type": "code",
   "execution_count": 44,
   "id": "czech-anchor",
   "metadata": {},
   "outputs": [],
   "source": [
    "from semopy import Model\n",
    "mod = Model(desc)"
   ]
  },
  {
   "cell_type": "code",
   "execution_count": 45,
   "id": "legal-experiment",
   "metadata": {},
   "outputs": [
    {
     "data": {
      "text/plain": [
       "SolverResult(fun=0.24562754723940117, success=True, n_it=46, x=array([ 1.20802551,  1.05888621,  1.07738975, -0.40606982,  0.7308967 ,\n",
       "        0.99316506,  0.42445242,  0.57454625,  1.7540724 ,  1.4700674 ,\n",
       "        1.38788185,  1.05244457,  2.84663426,  1.12425879,  3.07098114,\n",
       "        1.40386893,  0.75860943, -0.87629775,  1.43255864,  1.71282832,\n",
       "        5.05648678, -1.19507891,  5.72555496,  0.59173725, -0.77842777,\n",
       "        2.72449689,  0.89087559,  2.46575375,  2.55015154,  4.06090339,\n",
       "        3.04909205,  3.23468487,  3.06470021,  3.86800239,  1.60425329]), message='Optimization terminated successfully', name_method='SLSQP', name_obj='MLW')"
      ]
     },
     "execution_count": 45,
     "metadata": {},
     "output_type": "execute_result"
    }
   ],
   "source": [
    "res=mod.fit(data)\n",
    "res"
   ]
  },
  {
   "cell_type": "code",
   "execution_count": 49,
   "id": "skilled-globe",
   "metadata": {},
   "outputs": [
    {
     "data": {
      "text/plain": [
       "46"
      ]
     },
     "execution_count": 49,
     "metadata": {},
     "output_type": "execute_result"
    }
   ],
   "source": [
    "#Количество оцениваемых параметров\n",
    "T=res.n_it\n",
    "T"
   ]
  },
  {
   "cell_type": "code",
   "execution_count": 51,
   "id": "psychological-acrylic",
   "metadata": {},
   "outputs": [
    {
     "data": {
      "text/plain": [
       "184"
      ]
     },
     "execution_count": 51,
     "metadata": {},
     "output_type": "execute_result"
    }
   ],
   "source": [
    "#Количество наблюдений\n",
    "N=len(data)\n",
    "N"
   ]
  },
  {
   "cell_type": "code",
   "execution_count": 55,
   "id": "grateful-plate",
   "metadata": {},
   "outputs": [
    {
     "name": "stdout",
     "output_type": "stream",
     "text": [
      "4.0 - недопустимое соотношение объема выборки и числа оцениваемых параметров\n"
     ]
    }
   ],
   "source": [
    "#Соотношение N/T\n",
    "k=N/T\n",
    "if k>20:\n",
    "    print(k,'- оптимальное соотношение объема выборки и числа оцениваемых параметров')\n",
    "elif k>10:\n",
    "    print(k,'- хорошее соотношение объема выборки и числа оцениваемых параметров')\n",
    "elif k>5:\n",
    "    print(k,'- допустимое соотношение объема выборки и числа оцениваемых параметров')\n",
    "else:\n",
    "    print(k,'- недопустимое соотношение объема выборки и числа оцениваемых параметров')"
   ]
  },
  {
   "cell_type": "code",
   "execution_count": 70,
   "id": "dried-wrong",
   "metadata": {},
   "outputs": [
    {
     "name": "stdout",
     "output_type": "stream",
     "text": [
      "   lval  op rval  Estimate  Std. Err   z-value   p-value\n",
      "0    и4   ~   F1  1.000000         -         -         -\n",
      "1    и7   ~   F1  1.208026  0.139027  8.689116       0.0\n",
      "2    и8   ~   F1  1.058886  0.112874  9.381123       0.0\n",
      "3    и9   ~   F1  1.077390  0.159735   6.74487       0.0\n",
      "4   и11   ~   F1 -0.406070  0.147132 -2.759904  0.005782\n",
      "5   и11   ~   F2  1.000000         -         -         -\n",
      "6    и1   ~   F2  0.730897  0.139125  5.253524       0.0\n",
      "7    и3   ~   F2  0.993165   0.18359  5.409677       0.0\n",
      "8    и6   ~   F2  0.424452  0.139874  3.034541  0.002409\n",
      "9    и6   ~   F3  0.574546   0.18257  3.146994   0.00165\n",
      "10   и5   ~   F3  1.000000         -         -         -\n",
      "11   и2   ~   F3  1.754072  0.244111  7.185566       0.0\n",
      "12  и10   ~   F3  1.470067   0.21281  6.907894       0.0\n",
      "13   F1  ~~   F2  1.387882  0.421435  3.293225   0.00099\n",
      "14   F1  ~~   F3  1.052445  0.258444  4.072237  0.000047\n",
      "15   F1  ~~   F1  2.846634  0.459278  6.198066       0.0\n",
      "16   F2  ~~   F3  1.124259  0.324957  3.459719  0.000541\n",
      "17   F2  ~~   F2  3.070981  0.877058  3.501456  0.000463\n",
      "18   F3  ~~   F3  1.604253  0.381712  4.202788  0.000026\n",
      "19   и4  ~~  и10  1.403869  0.254428  5.517747       0.0\n",
      "20   и4  ~~   и5  0.758609  0.183513  4.133808  0.000036\n",
      "21   и4  ~~   и9 -0.876298  0.272967 -3.210268  0.001326\n",
      "22   и4  ~~   и4  1.432559  0.269526    5.3151       0.0\n",
      "23   и7  ~~   и9  1.712828  0.589407   2.90602  0.003661\n",
      "24   и7  ~~   и7  5.056487   0.63203  8.000386       0.0\n",
      "25   и9  ~~   и1 -1.195079  0.337821 -3.537613  0.000404\n",
      "26   и9  ~~   и9  5.725555   0.79096  7.238739       0.0\n",
      "27  и11  ~~   и5  0.591737  0.250309   2.36403  0.018077\n",
      "28  и11  ~~  и10 -0.778428  0.304658 -2.555087  0.010616\n",
      "29  и11  ~~  и11  2.724497  0.511702  5.324382       0.0\n",
      "30   и8  ~~  и11  0.890876  0.260376  3.421491  0.000623\n",
      "31   и8  ~~   и8  2.465754  0.361886  6.813618       0.0\n",
      "32   и6  ~~   и6  4.060903  0.462071  8.788478       0.0\n",
      "33   и5  ~~   и5  2.550152  0.324685  7.854232       0.0\n",
      "34  и10  ~~  и10  3.868002  0.548187  7.055993       0.0\n",
      "35   и1  ~~   и1  3.049092  0.390457  7.809033       0.0\n",
      "36   и3  ~~   и3  3.234685  0.505468  6.399381       0.0\n",
      "37   и2  ~~   и2  3.064700  0.581027  5.274626       0.0\n"
     ]
    }
   ],
   "source": [
    "print(mod.inspect())"
   ]
  },
  {
   "cell_type": "code",
   "execution_count": 71,
   "id": "rolled-kingdom",
   "metadata": {},
   "outputs": [
    {
     "data": {
      "image/svg+xml": [
       "<?xml version=\"1.0\" encoding=\"UTF-8\" standalone=\"no\"?>\r\n",
       "<!DOCTYPE svg PUBLIC \"-//W3C//DTD SVG 1.1//EN\"\r\n",
       " \"http://www.w3.org/Graphics/SVG/1.1/DTD/svg11.dtd\">\r\n",
       "<!-- Generated by graphviz version 2.38.0 (20140413.2041)\r\n",
       " -->\r\n",
       "<!-- Title: G Pages: 1 -->\r\n",
       "<svg width=\"914pt\" height=\"148pt\"\r\n",
       " viewBox=\"0.00 0.00 914.00 147.60\" xmlns=\"http://www.w3.org/2000/svg\" xmlns:xlink=\"http://www.w3.org/1999/xlink\">\r\n",
       "<g id=\"graph0\" class=\"graph\" transform=\"scale(1 1) rotate(0) translate(4 143.596)\">\r\n",
       "<title>G</title>\r\n",
       "<polygon fill=\"white\" stroke=\"none\" points=\"-4,4 -4,-143.596 910,-143.596 910,4 -4,4\"/>\r\n",
       "<!-- F1 -->\r\n",
       "<g id=\"node1\" class=\"node\"><title>F1</title>\r\n",
       "<ellipse fill=\"#cae6df\" stroke=\"black\" cx=\"172\" cy=\"-118.798\" rx=\"20.5982\" ry=\"20.5982\"/>\r\n",
       "<text text-anchor=\"middle\" x=\"172\" y=\"-115.098\" font-family=\"Times New Roman,serif\" font-size=\"14.00\">F1</text>\r\n",
       "</g>\r\n",
       "<!-- и11 -->\r\n",
       "<g id=\"node6\" class=\"node\"><title>и11</title>\r\n",
       "<polygon fill=\"none\" stroke=\"black\" points=\"371,-36 317,-36 317,-0 371,-0 371,-36\"/>\r\n",
       "<text text-anchor=\"middle\" x=\"344\" y=\"-14.3\" font-family=\"Times New Roman,serif\" font-size=\"14.00\">и11</text>\r\n",
       "</g>\r\n",
       "<!-- F1&#45;&gt;и11 -->\r\n",
       "<g id=\"edge5\" class=\"edge\"><title>F1&#45;&gt;и11</title>\r\n",
       "<path fill=\"none\" stroke=\"black\" d=\"M192.634,-114.632C217.387,-110.094 259.373,-99.9826 290,-80 304.34,-70.6436 317.194,-56.4948 326.76,-44.1786\"/>\r\n",
       "<polygon fill=\"black\" stroke=\"black\" points=\"329.666,-46.1361 332.835,-36.0263 324.053,-41.9533 329.666,-46.1361\"/>\r\n",
       "<text text-anchor=\"middle\" x=\"343\" y=\"-70.4\" font-family=\"Times New Roman,serif\" font-size=\"12.00\">&#45;0.406</text>\r\n",
       "<text text-anchor=\"middle\" x=\"343\" y=\"-57.4\" font-family=\"Times New Roman,serif\" font-size=\"12.00\">p&#45;val: 0.01</text>\r\n",
       "</g>\r\n",
       "<!-- и4 -->\r\n",
       "<g id=\"node9\" class=\"node\"><title>и4</title>\r\n",
       "<polygon fill=\"none\" stroke=\"black\" points=\"54,-36 0,-36 0,-0 54,-0 54,-36\"/>\r\n",
       "<text text-anchor=\"middle\" x=\"27\" y=\"-14.3\" font-family=\"Times New Roman,serif\" font-size=\"14.00\">и4</text>\r\n",
       "</g>\r\n",
       "<!-- F1&#45;&gt;и4 -->\r\n",
       "<g id=\"edge1\" class=\"edge\"><title>F1&#45;&gt;и4</title>\r\n",
       "<path fill=\"none\" stroke=\"black\" d=\"M151.64,-113.4C130.63,-108.113 97.6738,-97.6708 74,-80 61.2407,-70.4761 50.1811,-56.6118 42.0012,-44.5066\"/>\r\n",
       "<polygon fill=\"black\" stroke=\"black\" points=\"44.9335,-42.5954 36.5708,-36.0903 39.0515,-46.3906 44.9335,-42.5954\"/>\r\n",
       "<text text-anchor=\"middle\" x=\"88\" y=\"-63.9\" font-family=\"Times New Roman,serif\" font-size=\"12.00\">1.000</text>\r\n",
       "</g>\r\n",
       "<!-- и7 -->\r\n",
       "<g id=\"node12\" class=\"node\"><title>и7</title>\r\n",
       "<polygon fill=\"none\" stroke=\"black\" points=\"126,-36 72,-36 72,-0 126,-0 126,-36\"/>\r\n",
       "<text text-anchor=\"middle\" x=\"99\" y=\"-14.3\" font-family=\"Times New Roman,serif\" font-size=\"14.00\">и7</text>\r\n",
       "</g>\r\n",
       "<!-- F1&#45;&gt;и7 -->\r\n",
       "<g id=\"edge2\" class=\"edge\"><title>F1&#45;&gt;и7</title>\r\n",
       "<path fill=\"none\" stroke=\"black\" d=\"M153.58,-108.952C141.848,-102.448 127.182,-92.566 118,-80 110.735,-70.0574 106.198,-57.2667 103.389,-45.9678\"/>\r\n",
       "<polygon fill=\"black\" stroke=\"black\" points=\"106.798,-45.1715 101.267,-36.1352 99.9556,-46.6486 106.798,-45.1715\"/>\r\n",
       "<text text-anchor=\"middle\" x=\"143\" y=\"-70.4\" font-family=\"Times New Roman,serif\" font-size=\"12.00\">1.208</text>\r\n",
       "<text text-anchor=\"middle\" x=\"143\" y=\"-57.4\" font-family=\"Times New Roman,serif\" font-size=\"12.00\">p&#45;val: 0.00</text>\r\n",
       "</g>\r\n",
       "<!-- и8 -->\r\n",
       "<g id=\"node13\" class=\"node\"><title>и8</title>\r\n",
       "<polygon fill=\"none\" stroke=\"black\" points=\"199,-36 145,-36 145,-0 199,-0 199,-36\"/>\r\n",
       "<text text-anchor=\"middle\" x=\"172\" y=\"-14.3\" font-family=\"Times New Roman,serif\" font-size=\"14.00\">и8</text>\r\n",
       "</g>\r\n",
       "<!-- F1&#45;&gt;и8 -->\r\n",
       "<g id=\"edge3\" class=\"edge\"><title>F1&#45;&gt;и8</title>\r\n",
       "<path fill=\"none\" stroke=\"black\" d=\"M172,-97.8049C172,-82.9113 172,-62.4108 172,-46.0526\"/>\r\n",
       "<polygon fill=\"black\" stroke=\"black\" points=\"175.5,-46.0015 172,-36.0016 168.5,-46.0016 175.5,-46.0015\"/>\r\n",
       "<text text-anchor=\"middle\" x=\"197\" y=\"-70.4\" font-family=\"Times New Roman,serif\" font-size=\"12.00\">1.059</text>\r\n",
       "<text text-anchor=\"middle\" x=\"197\" y=\"-57.4\" font-family=\"Times New Roman,serif\" font-size=\"12.00\">p&#45;val: 0.00</text>\r\n",
       "</g>\r\n",
       "<!-- и9 -->\r\n",
       "<g id=\"node14\" class=\"node\"><title>и9</title>\r\n",
       "<polygon fill=\"none\" stroke=\"black\" points=\"272,-36 218,-36 218,-0 272,-0 272,-36\"/>\r\n",
       "<text text-anchor=\"middle\" x=\"245\" y=\"-14.3\" font-family=\"Times New Roman,serif\" font-size=\"14.00\">и9</text>\r\n",
       "</g>\r\n",
       "<!-- F1&#45;&gt;и9 -->\r\n",
       "<g id=\"edge4\" class=\"edge\"><title>F1&#45;&gt;и9</title>\r\n",
       "<path fill=\"none\" stroke=\"black\" d=\"M190.194,-108C201.029,-101.357 214.317,-91.6723 223,-80 230.459,-69.9721 235.586,-57.17 239.001,-45.8857\"/>\r\n",
       "<polygon fill=\"black\" stroke=\"black\" points=\"242.423,-46.6406 241.674,-36.0723 235.669,-44.8013 242.423,-46.6406\"/>\r\n",
       "<text text-anchor=\"middle\" x=\"261\" y=\"-70.4\" font-family=\"Times New Roman,serif\" font-size=\"12.00\">1.077</text>\r\n",
       "<text text-anchor=\"middle\" x=\"261\" y=\"-57.4\" font-family=\"Times New Roman,serif\" font-size=\"12.00\">p&#45;val: 0.00</text>\r\n",
       "</g>\r\n",
       "<!-- F3 -->\r\n",
       "<g id=\"node2\" class=\"node\"><title>F3</title>\r\n",
       "<ellipse fill=\"#cae6df\" stroke=\"black\" cx=\"770\" cy=\"-118.798\" rx=\"20.5982\" ry=\"20.5982\"/>\r\n",
       "<text text-anchor=\"middle\" x=\"770\" y=\"-115.098\" font-family=\"Times New Roman,serif\" font-size=\"14.00\">F3</text>\r\n",
       "</g>\r\n",
       "<!-- и10 -->\r\n",
       "<g id=\"node5\" class=\"node\"><title>и10</title>\r\n",
       "<polygon fill=\"none\" stroke=\"black\" points=\"906,-36 852,-36 852,-0 906,-0 906,-36\"/>\r\n",
       "<text text-anchor=\"middle\" x=\"879\" y=\"-14.3\" font-family=\"Times New Roman,serif\" font-size=\"14.00\">и10</text>\r\n",
       "</g>\r\n",
       "<!-- F3&#45;&gt;и10 -->\r\n",
       "<g id=\"edge13\" class=\"edge\"><title>F3&#45;&gt;и10</title>\r\n",
       "<path fill=\"none\" stroke=\"black\" d=\"M787.759,-107.482C799.219,-100.433 814.143,-90.4959 826,-80 838.172,-69.2248 850.184,-55.7064 859.687,-44.1358\"/>\r\n",
       "<polygon fill=\"black\" stroke=\"black\" points=\"862.591,-46.1087 866.129,-36.1219 857.136,-41.7229 862.591,-46.1087\"/>\r\n",
       "<text text-anchor=\"middle\" x=\"875\" y=\"-70.4\" font-family=\"Times New Roman,serif\" font-size=\"12.00\">1.470</text>\r\n",
       "<text text-anchor=\"middle\" x=\"875\" y=\"-57.4\" font-family=\"Times New Roman,serif\" font-size=\"12.00\">p&#45;val: 0.00</text>\r\n",
       "</g>\r\n",
       "<!-- и2 -->\r\n",
       "<g id=\"node7\" class=\"node\"><title>и2</title>\r\n",
       "<polygon fill=\"none\" stroke=\"black\" points=\"761,-36 707,-36 707,-0 761,-0 761,-36\"/>\r\n",
       "<text text-anchor=\"middle\" x=\"734\" y=\"-14.3\" font-family=\"Times New Roman,serif\" font-size=\"14.00\">и2</text>\r\n",
       "</g>\r\n",
       "<!-- F3&#45;&gt;и2 -->\r\n",
       "<g id=\"edge12\" class=\"edge\"><title>F3&#45;&gt;и2</title>\r\n",
       "<path fill=\"none\" stroke=\"black\" d=\"M753.88,-105.227C746.674,-98.5897 738.931,-89.7938 735,-80 730.798,-69.5316 729.919,-57.216 730.326,-46.4019\"/>\r\n",
       "<polygon fill=\"black\" stroke=\"black\" points=\"733.832,-46.4449 731.085,-36.2124 726.852,-45.9245 733.832,-46.4449\"/>\r\n",
       "<text text-anchor=\"middle\" x=\"760\" y=\"-70.4\" font-family=\"Times New Roman,serif\" font-size=\"12.00\">1.754</text>\r\n",
       "<text text-anchor=\"middle\" x=\"760\" y=\"-57.4\" font-family=\"Times New Roman,serif\" font-size=\"12.00\">p&#45;val: 0.00</text>\r\n",
       "</g>\r\n",
       "<!-- и5 -->\r\n",
       "<g id=\"node10\" class=\"node\"><title>и5</title>\r\n",
       "<polygon fill=\"none\" stroke=\"black\" points=\"834,-36 780,-36 780,-0 834,-0 834,-36\"/>\r\n",
       "<text text-anchor=\"middle\" x=\"807\" y=\"-14.3\" font-family=\"Times New Roman,serif\" font-size=\"14.00\">и5</text>\r\n",
       "</g>\r\n",
       "<!-- F3&#45;&gt;и5 -->\r\n",
       "<g id=\"edge11\" class=\"edge\"><title>F3&#45;&gt;и5</title>\r\n",
       "<path fill=\"none\" stroke=\"black\" d=\"M777.595,-99.0022C780.003,-92.9512 782.65,-86.2064 785,-80 789.229,-68.8299 793.732,-56.4414 797.554,-45.7629\"/>\r\n",
       "<polygon fill=\"black\" stroke=\"black\" points=\"800.922,-46.7389 800.98,-36.1442 794.328,-44.3903 800.922,-46.7389\"/>\r\n",
       "<text text-anchor=\"middle\" x=\"808\" y=\"-63.9\" font-family=\"Times New Roman,serif\" font-size=\"12.00\">1.000</text>\r\n",
       "</g>\r\n",
       "<!-- и6 -->\r\n",
       "<g id=\"node11\" class=\"node\"><title>и6</title>\r\n",
       "<polygon fill=\"none\" stroke=\"black\" points=\"651,-36 597,-36 597,-0 651,-0 651,-36\"/>\r\n",
       "<text text-anchor=\"middle\" x=\"624\" y=\"-14.3\" font-family=\"Times New Roman,serif\" font-size=\"14.00\">и6</text>\r\n",
       "</g>\r\n",
       "<!-- F3&#45;&gt;и6 -->\r\n",
       "<g id=\"edge10\" class=\"edge\"><title>F3&#45;&gt;и6</title>\r\n",
       "<path fill=\"none\" stroke=\"black\" d=\"M749.771,-112.573C729.958,-106.795 699.541,-96.1181 677,-80 663.37,-70.2539 650.921,-56.3239 641.519,-44.2356\"/>\r\n",
       "<polygon fill=\"black\" stroke=\"black\" points=\"644.319,-42.1355 635.519,-36.235 638.719,-46.3352 644.319,-42.1355\"/>\r\n",
       "<text text-anchor=\"middle\" x=\"702\" y=\"-70.4\" font-family=\"Times New Roman,serif\" font-size=\"12.00\">0.575</text>\r\n",
       "<text text-anchor=\"middle\" x=\"702\" y=\"-57.4\" font-family=\"Times New Roman,serif\" font-size=\"12.00\">p&#45;val: 0.00</text>\r\n",
       "</g>\r\n",
       "<!-- F2 -->\r\n",
       "<g id=\"node3\" class=\"node\"><title>F2</title>\r\n",
       "<ellipse fill=\"#cae6df\" stroke=\"black\" cx=\"478\" cy=\"-118.798\" rx=\"20.5982\" ry=\"20.5982\"/>\r\n",
       "<text text-anchor=\"middle\" x=\"478\" y=\"-115.098\" font-family=\"Times New Roman,serif\" font-size=\"14.00\">F2</text>\r\n",
       "</g>\r\n",
       "<!-- и1 -->\r\n",
       "<g id=\"node4\" class=\"node\"><title>и1</title>\r\n",
       "<polygon fill=\"none\" stroke=\"black\" points=\"542,-36 488,-36 488,-0 542,-0 542,-36\"/>\r\n",
       "<text text-anchor=\"middle\" x=\"515\" y=\"-14.3\" font-family=\"Times New Roman,serif\" font-size=\"14.00\">и1</text>\r\n",
       "</g>\r\n",
       "<!-- F2&#45;&gt;и1 -->\r\n",
       "<g id=\"edge7\" class=\"edge\"><title>F2&#45;&gt;и1</title>\r\n",
       "<path fill=\"none\" stroke=\"black\" d=\"M485.595,-99.0022C488.003,-92.9512 490.65,-86.2064 493,-80 497.229,-68.8299 501.732,-56.4414 505.554,-45.7629\"/>\r\n",
       "<polygon fill=\"black\" stroke=\"black\" points=\"508.922,-46.7389 508.98,-36.1442 502.328,-44.3903 508.922,-46.7389\"/>\r\n",
       "<text text-anchor=\"middle\" x=\"528\" y=\"-70.4\" font-family=\"Times New Roman,serif\" font-size=\"12.00\">0.731</text>\r\n",
       "<text text-anchor=\"middle\" x=\"528\" y=\"-57.4\" font-family=\"Times New Roman,serif\" font-size=\"12.00\">p&#45;val: 0.00</text>\r\n",
       "</g>\r\n",
       "<!-- F2&#45;&gt;и11 -->\r\n",
       "<g id=\"edge6\" class=\"edge\"><title>F2&#45;&gt;и11</title>\r\n",
       "<path fill=\"none\" stroke=\"black\" d=\"M459.069,-109.505C444.258,-102.606 423.483,-91.9989 407,-80 392.36,-69.3425 377.723,-55.4198 366.248,-43.5669\"/>\r\n",
       "<polygon fill=\"black\" stroke=\"black\" points=\"368.617,-40.9783 359.195,-36.1319 363.538,-45.7958 368.617,-40.9783\"/>\r\n",
       "<text text-anchor=\"middle\" x=\"421\" y=\"-63.9\" font-family=\"Times New Roman,serif\" font-size=\"12.00\">1.000</text>\r\n",
       "</g>\r\n",
       "<!-- и3 -->\r\n",
       "<g id=\"node8\" class=\"node\"><title>и3</title>\r\n",
       "<polygon fill=\"none\" stroke=\"black\" points=\"469,-36 415,-36 415,-0 469,-0 469,-36\"/>\r\n",
       "<text text-anchor=\"middle\" x=\"442\" y=\"-14.3\" font-family=\"Times New Roman,serif\" font-size=\"14.00\">и3</text>\r\n",
       "</g>\r\n",
       "<!-- F2&#45;&gt;и3 -->\r\n",
       "<g id=\"edge8\" class=\"edge\"><title>F2&#45;&gt;и3</title>\r\n",
       "<path fill=\"none\" stroke=\"black\" d=\"M461.88,-105.227C454.674,-98.5897 446.931,-89.7938 443,-80 438.798,-69.5316 437.919,-57.216 438.326,-46.4019\"/>\r\n",
       "<polygon fill=\"black\" stroke=\"black\" points=\"441.832,-46.4449 439.085,-36.2124 434.852,-45.9245 441.832,-46.4449\"/>\r\n",
       "<text text-anchor=\"middle\" x=\"468\" y=\"-70.4\" font-family=\"Times New Roman,serif\" font-size=\"12.00\">0.993</text>\r\n",
       "<text text-anchor=\"middle\" x=\"468\" y=\"-57.4\" font-family=\"Times New Roman,serif\" font-size=\"12.00\">p&#45;val: 0.00</text>\r\n",
       "</g>\r\n",
       "<!-- F2&#45;&gt;и6 -->\r\n",
       "<g id=\"edge9\" class=\"edge\"><title>F2&#45;&gt;и6</title>\r\n",
       "<path fill=\"none\" stroke=\"black\" d=\"M497.356,-110.408C513.891,-103.666 537.954,-92.8192 557,-80 565.724,-74.1285 583.609,-57.7524 598.708,-43.4452\"/>\r\n",
       "<polygon fill=\"black\" stroke=\"black\" points=\"601.465,-45.6528 606.286,-36.2186 596.634,-40.5869 601.465,-45.6528\"/>\r\n",
       "<text text-anchor=\"middle\" x=\"611\" y=\"-70.4\" font-family=\"Times New Roman,serif\" font-size=\"12.00\">0.424</text>\r\n",
       "<text text-anchor=\"middle\" x=\"611\" y=\"-57.4\" font-family=\"Times New Roman,serif\" font-size=\"12.00\">p&#45;val: 0.00</text>\r\n",
       "</g>\r\n",
       "</g>\r\n",
       "</svg>\r\n"
      ],
      "text/plain": [
       "<graphviz.dot.Digraph at 0x281f6641a88>"
      ]
     },
     "execution_count": 71,
     "metadata": {},
     "output_type": "execute_result"
    }
   ],
   "source": [
    "g = semopy.semplot(mod, \"pd.png\")\n",
    "g"
   ]
  },
  {
   "cell_type": "code",
   "execution_count": 72,
   "id": "chemical-equity",
   "metadata": {},
   "outputs": [
    {
     "name": "stdout",
     "output_type": "stream",
     "text": [
      "                    Value\n",
      "DoF             31.000000\n",
      "DoF Baseline    55.000000\n",
      "chi2            45.195469\n",
      "chi2 p-value     0.047888\n",
      "chi2 Baseline  710.691801\n",
      "CFI              0.978350\n",
      "GFI              0.936406\n",
      "AGFI             0.887173\n",
      "NFI              0.936406\n",
      "TLI              0.961589\n",
      "RMSEA            0.050023\n",
      "AIC             69.508745\n",
      "BIC            182.031496\n",
      "LogLik           0.245628\n"
     ]
    }
   ],
   "source": [
    "stats = semopy.calc_stats(mod)\n",
    "print(stats.T)"
   ]
  },
  {
   "cell_type": "markdown",
   "id": "fantastic-spread",
   "metadata": {},
   "source": [
    "Интерпретация основных критериев согласия:\n",
    "* chi2 p-value > 0.05 -> хорошее согласие модели.\n",
    "* RMSEA <= 0.05 -> хорошее согласие модели.\n",
    "* CFI, NFI > 0.95 (0.90) -> хорошее согласие модели.\n",
    "* GFI, AGFI > 0.90 -> хорошее согласие модели."
   ]
  },
  {
   "cell_type": "markdown",
   "id": "sharp-train",
   "metadata": {},
   "source": [
    "У нас модель не плохая."
   ]
  },
  {
   "cell_type": "code",
   "execution_count": 74,
   "id": "undefined-thought",
   "metadata": {
    "tags": []
   },
   "outputs": [],
   "source": [
    "#Semopy provides a report function that takes a fitted model and generates an HTML file\n",
    "from semopy import ModelMeans\n",
    "\n",
    "model = ModelMeans(desc)\n",
    "model.fit(data)\n",
    "semopy.report(model, \"CFA4\")"
   ]
  },
  {
   "cell_type": "markdown",
   "id": "protected-samba",
   "metadata": {
    "tags": []
   },
   "source": [
    "# Пример 5. Модель Наследова СМ1 (SM1)"
   ]
  },
  {
   "cell_type": "code",
   "execution_count": 121,
   "id": "solved-shoulder",
   "metadata": {},
   "outputs": [],
   "source": [
    "desc='''\n",
    "F1 =~ тест5 + тест4 + тест3\n",
    "отметка2 ~ отметка1\n",
    "отметка2 ~ тест5\n",
    "отметка1 ~ F1\n",
    "F1 ~ пол\n",
    "'''"
   ]
  },
  {
   "cell_type": "code",
   "execution_count": 122,
   "id": "guided-pierre",
   "metadata": {},
   "outputs": [],
   "source": [
    "from semopy import Model\n",
    "mod = Model(desc)"
   ]
  },
  {
   "cell_type": "code",
   "execution_count": 123,
   "id": "minimal-avenue",
   "metadata": {},
   "outputs": [],
   "source": [
    "import pandas as pd\n",
    "data = pd.read_spss('ex01.sav')"
   ]
  },
  {
   "cell_type": "code",
   "execution_count": 124,
   "id": "buried-metallic",
   "metadata": {},
   "outputs": [
    {
     "data": {
      "text/html": [
       "<div>\n",
       "<style scoped>\n",
       "    .dataframe tbody tr th:only-of-type {\n",
       "        vertical-align: middle;\n",
       "    }\n",
       "\n",
       "    .dataframe tbody tr th {\n",
       "        vertical-align: top;\n",
       "    }\n",
       "\n",
       "    .dataframe thead th {\n",
       "        text-align: right;\n",
       "    }\n",
       "</style>\n",
       "<table border=\"1\" class=\"dataframe\">\n",
       "  <thead>\n",
       "    <tr style=\"text-align: right;\">\n",
       "      <th></th>\n",
       "      <th>№</th>\n",
       "      <th>пол</th>\n",
       "      <th>класс</th>\n",
       "      <th>вуз</th>\n",
       "      <th>хобби</th>\n",
       "      <th>тест1</th>\n",
       "      <th>тест2</th>\n",
       "      <th>тест3</th>\n",
       "      <th>тест4</th>\n",
       "      <th>тест5</th>\n",
       "      <th>отметка1</th>\n",
       "      <th>отметка2</th>\n",
       "    </tr>\n",
       "  </thead>\n",
       "  <tbody>\n",
       "    <tr>\n",
       "      <th>0</th>\n",
       "      <td>1.0</td>\n",
       "      <td>МУЖ</td>\n",
       "      <td>Б</td>\n",
       "      <td>ЕСТ_Н</td>\n",
       "      <td>искусство</td>\n",
       "      <td>6.0</td>\n",
       "      <td>7.0</td>\n",
       "      <td>13.0</td>\n",
       "      <td>10.0</td>\n",
       "      <td>14.0</td>\n",
       "      <td>3.90</td>\n",
       "      <td>4.20</td>\n",
       "    </tr>\n",
       "    <tr>\n",
       "      <th>1</th>\n",
       "      <td>2.0</td>\n",
       "      <td>МУЖ</td>\n",
       "      <td>А</td>\n",
       "      <td>ЕСТ_Н</td>\n",
       "      <td>спорт</td>\n",
       "      <td>8.0</td>\n",
       "      <td>9.0</td>\n",
       "      <td>10.0</td>\n",
       "      <td>11.0</td>\n",
       "      <td>11.0</td>\n",
       "      <td>3.55</td>\n",
       "      <td>3.95</td>\n",
       "    </tr>\n",
       "    <tr>\n",
       "      <th>2</th>\n",
       "      <td>3.0</td>\n",
       "      <td>МУЖ</td>\n",
       "      <td>В</td>\n",
       "      <td>ТЕХН</td>\n",
       "      <td>компьютер</td>\n",
       "      <td>10.0</td>\n",
       "      <td>6.0</td>\n",
       "      <td>10.0</td>\n",
       "      <td>8.0</td>\n",
       "      <td>9.0</td>\n",
       "      <td>3.75</td>\n",
       "      <td>4.65</td>\n",
       "    </tr>\n",
       "    <tr>\n",
       "      <th>3</th>\n",
       "      <td>4.0</td>\n",
       "      <td>ЖЕН</td>\n",
       "      <td>В</td>\n",
       "      <td>ГУМ</td>\n",
       "      <td>компьютер</td>\n",
       "      <td>13.0</td>\n",
       "      <td>9.0</td>\n",
       "      <td>10.0</td>\n",
       "      <td>12.0</td>\n",
       "      <td>6.0</td>\n",
       "      <td>3.85</td>\n",
       "      <td>3.95</td>\n",
       "    </tr>\n",
       "    <tr>\n",
       "      <th>4</th>\n",
       "      <td>5.0</td>\n",
       "      <td>МУЖ</td>\n",
       "      <td>Б</td>\n",
       "      <td>ТЕХН</td>\n",
       "      <td>искусство</td>\n",
       "      <td>12.0</td>\n",
       "      <td>8.0</td>\n",
       "      <td>12.0</td>\n",
       "      <td>18.0</td>\n",
       "      <td>12.0</td>\n",
       "      <td>4.20</td>\n",
       "      <td>3.90</td>\n",
       "    </tr>\n",
       "    <tr>\n",
       "      <th>...</th>\n",
       "      <td>...</td>\n",
       "      <td>...</td>\n",
       "      <td>...</td>\n",
       "      <td>...</td>\n",
       "      <td>...</td>\n",
       "      <td>...</td>\n",
       "      <td>...</td>\n",
       "      <td>...</td>\n",
       "      <td>...</td>\n",
       "      <td>...</td>\n",
       "      <td>...</td>\n",
       "      <td>...</td>\n",
       "    </tr>\n",
       "    <tr>\n",
       "      <th>95</th>\n",
       "      <td>96.0</td>\n",
       "      <td>ЖЕН</td>\n",
       "      <td>А</td>\n",
       "      <td>ЭКОН</td>\n",
       "      <td>компьютер</td>\n",
       "      <td>12.0</td>\n",
       "      <td>12.0</td>\n",
       "      <td>12.0</td>\n",
       "      <td>11.0</td>\n",
       "      <td>9.0</td>\n",
       "      <td>4.10</td>\n",
       "      <td>4.10</td>\n",
       "    </tr>\n",
       "    <tr>\n",
       "      <th>96</th>\n",
       "      <td>97.0</td>\n",
       "      <td>ЖЕН</td>\n",
       "      <td>Б</td>\n",
       "      <td>ЕСТ_Н</td>\n",
       "      <td>спорт</td>\n",
       "      <td>9.0</td>\n",
       "      <td>13.0</td>\n",
       "      <td>13.0</td>\n",
       "      <td>10.0</td>\n",
       "      <td>11.0</td>\n",
       "      <td>3.45</td>\n",
       "      <td>4.35</td>\n",
       "    </tr>\n",
       "    <tr>\n",
       "      <th>97</th>\n",
       "      <td>98.0</td>\n",
       "      <td>ЖЕН</td>\n",
       "      <td>А</td>\n",
       "      <td>ЭКОН</td>\n",
       "      <td>искусство</td>\n",
       "      <td>5.0</td>\n",
       "      <td>7.0</td>\n",
       "      <td>15.0</td>\n",
       "      <td>15.0</td>\n",
       "      <td>12.0</td>\n",
       "      <td>3.70</td>\n",
       "      <td>4.30</td>\n",
       "    </tr>\n",
       "    <tr>\n",
       "      <th>98</th>\n",
       "      <td>99.0</td>\n",
       "      <td>МУЖ</td>\n",
       "      <td>А</td>\n",
       "      <td>ЕСТ_Н</td>\n",
       "      <td>спорт</td>\n",
       "      <td>10.0</td>\n",
       "      <td>14.0</td>\n",
       "      <td>9.0</td>\n",
       "      <td>10.0</td>\n",
       "      <td>12.0</td>\n",
       "      <td>3.75</td>\n",
       "      <td>4.45</td>\n",
       "    </tr>\n",
       "    <tr>\n",
       "      <th>99</th>\n",
       "      <td>100.0</td>\n",
       "      <td>МУЖ</td>\n",
       "      <td>А</td>\n",
       "      <td>ГУМ</td>\n",
       "      <td>спорт</td>\n",
       "      <td>7.0</td>\n",
       "      <td>7.0</td>\n",
       "      <td>14.0</td>\n",
       "      <td>8.0</td>\n",
       "      <td>10.0</td>\n",
       "      <td>3.65</td>\n",
       "      <td>3.85</td>\n",
       "    </tr>\n",
       "  </tbody>\n",
       "</table>\n",
       "<p>100 rows × 12 columns</p>\n",
       "</div>"
      ],
      "text/plain": [
       "        №  пол класс    вуз      хобби  тест1  тест2  тест3  тест4  тест5  \\\n",
       "0     1.0  МУЖ     Б  ЕСТ_Н  искусство    6.0    7.0   13.0   10.0   14.0   \n",
       "1     2.0  МУЖ     А  ЕСТ_Н      спорт    8.0    9.0   10.0   11.0   11.0   \n",
       "2     3.0  МУЖ     В   ТЕХН  компьютер   10.0    6.0   10.0    8.0    9.0   \n",
       "3     4.0  ЖЕН     В    ГУМ  компьютер   13.0    9.0   10.0   12.0    6.0   \n",
       "4     5.0  МУЖ     Б   ТЕХН  искусство   12.0    8.0   12.0   18.0   12.0   \n",
       "..    ...  ...   ...    ...        ...    ...    ...    ...    ...    ...   \n",
       "95   96.0  ЖЕН     А   ЭКОН  компьютер   12.0   12.0   12.0   11.0    9.0   \n",
       "96   97.0  ЖЕН     Б  ЕСТ_Н      спорт    9.0   13.0   13.0   10.0   11.0   \n",
       "97   98.0  ЖЕН     А   ЭКОН  искусство    5.0    7.0   15.0   15.0   12.0   \n",
       "98   99.0  МУЖ     А  ЕСТ_Н      спорт   10.0   14.0    9.0   10.0   12.0   \n",
       "99  100.0  МУЖ     А    ГУМ      спорт    7.0    7.0   14.0    8.0   10.0   \n",
       "\n",
       "    отметка1  отметка2  \n",
       "0       3.90      4.20  \n",
       "1       3.55      3.95  \n",
       "2       3.75      4.65  \n",
       "3       3.85      3.95  \n",
       "4       4.20      3.90  \n",
       "..       ...       ...  \n",
       "95      4.10      4.10  \n",
       "96      3.45      4.35  \n",
       "97      3.70      4.30  \n",
       "98      3.75      4.45  \n",
       "99      3.65      3.85  \n",
       "\n",
       "[100 rows x 12 columns]"
      ]
     },
     "execution_count": 124,
     "metadata": {},
     "output_type": "execute_result"
    }
   ],
   "source": [
    "data"
   ]
  },
  {
   "cell_type": "code",
   "execution_count": 125,
   "id": "olympic-jones",
   "metadata": {},
   "outputs": [
    {
     "data": {
      "text/plain": [
       "{'ЖЕН': 1, 'МУЖ': 2}"
      ]
     },
     "execution_count": 125,
     "metadata": {},
     "output_type": "execute_result"
    }
   ],
   "source": [
    "sex={'ЖЕН':1, 'МУЖ':2}\n",
    "sex"
   ]
  },
  {
   "cell_type": "code",
   "execution_count": 126,
   "id": "focused-basketball",
   "metadata": {},
   "outputs": [
    {
     "data": {
      "text/plain": [
       "{'А': 1, 'Б': 2, 'В': 3}"
      ]
     },
     "execution_count": 126,
     "metadata": {},
     "output_type": "execute_result"
    }
   ],
   "source": [
    "clas={'А':1,'Б':2,'В':3}\n",
    "clas"
   ]
  },
  {
   "cell_type": "code",
   "execution_count": 127,
   "id": "blocked-floating",
   "metadata": {},
   "outputs": [
    {
     "data": {
      "text/plain": [
       "{'ГУМ': 1, 'ЭКОН': 2, 'ТЕХН': 3, 'ЕСТ_Н': 4}"
      ]
     },
     "execution_count": 127,
     "metadata": {},
     "output_type": "execute_result"
    }
   ],
   "source": [
    "university={'ГУМ':1,'ЭКОН':2,'ТЕХН':3,'ЕСТ_Н':4}\n",
    "university"
   ]
  },
  {
   "cell_type": "code",
   "execution_count": 128,
   "id": "sublime-combining",
   "metadata": {},
   "outputs": [
    {
     "data": {
      "text/plain": [
       "{'спорт': 1, 'компьютер': 2, 'искусство': 3}"
      ]
     },
     "execution_count": 128,
     "metadata": {},
     "output_type": "execute_result"
    }
   ],
   "source": [
    "hobby={'спорт':1,'компьютер':2,'искусство':3}\n",
    "hobby"
   ]
  },
  {
   "cell_type": "code",
   "execution_count": 129,
   "id": "invalid-arena",
   "metadata": {},
   "outputs": [
    {
     "data": {
      "text/html": [
       "<div>\n",
       "<style scoped>\n",
       "    .dataframe tbody tr th:only-of-type {\n",
       "        vertical-align: middle;\n",
       "    }\n",
       "\n",
       "    .dataframe tbody tr th {\n",
       "        vertical-align: top;\n",
       "    }\n",
       "\n",
       "    .dataframe thead th {\n",
       "        text-align: right;\n",
       "    }\n",
       "</style>\n",
       "<table border=\"1\" class=\"dataframe\">\n",
       "  <thead>\n",
       "    <tr style=\"text-align: right;\">\n",
       "      <th></th>\n",
       "      <th>№</th>\n",
       "      <th>пол</th>\n",
       "      <th>класс</th>\n",
       "      <th>вуз</th>\n",
       "      <th>хобби</th>\n",
       "      <th>тест1</th>\n",
       "      <th>тест2</th>\n",
       "      <th>тест3</th>\n",
       "      <th>тест4</th>\n",
       "      <th>тест5</th>\n",
       "      <th>отметка1</th>\n",
       "      <th>отметка2</th>\n",
       "    </tr>\n",
       "  </thead>\n",
       "  <tbody>\n",
       "    <tr>\n",
       "      <th>0</th>\n",
       "      <td>1.0</td>\n",
       "      <td>2</td>\n",
       "      <td>2</td>\n",
       "      <td>4</td>\n",
       "      <td>3</td>\n",
       "      <td>6.0</td>\n",
       "      <td>7.0</td>\n",
       "      <td>13.0</td>\n",
       "      <td>10.0</td>\n",
       "      <td>14.0</td>\n",
       "      <td>3.90</td>\n",
       "      <td>4.20</td>\n",
       "    </tr>\n",
       "    <tr>\n",
       "      <th>1</th>\n",
       "      <td>2.0</td>\n",
       "      <td>2</td>\n",
       "      <td>1</td>\n",
       "      <td>4</td>\n",
       "      <td>1</td>\n",
       "      <td>8.0</td>\n",
       "      <td>9.0</td>\n",
       "      <td>10.0</td>\n",
       "      <td>11.0</td>\n",
       "      <td>11.0</td>\n",
       "      <td>3.55</td>\n",
       "      <td>3.95</td>\n",
       "    </tr>\n",
       "    <tr>\n",
       "      <th>2</th>\n",
       "      <td>3.0</td>\n",
       "      <td>2</td>\n",
       "      <td>3</td>\n",
       "      <td>3</td>\n",
       "      <td>2</td>\n",
       "      <td>10.0</td>\n",
       "      <td>6.0</td>\n",
       "      <td>10.0</td>\n",
       "      <td>8.0</td>\n",
       "      <td>9.0</td>\n",
       "      <td>3.75</td>\n",
       "      <td>4.65</td>\n",
       "    </tr>\n",
       "    <tr>\n",
       "      <th>3</th>\n",
       "      <td>4.0</td>\n",
       "      <td>1</td>\n",
       "      <td>3</td>\n",
       "      <td>1</td>\n",
       "      <td>2</td>\n",
       "      <td>13.0</td>\n",
       "      <td>9.0</td>\n",
       "      <td>10.0</td>\n",
       "      <td>12.0</td>\n",
       "      <td>6.0</td>\n",
       "      <td>3.85</td>\n",
       "      <td>3.95</td>\n",
       "    </tr>\n",
       "    <tr>\n",
       "      <th>4</th>\n",
       "      <td>5.0</td>\n",
       "      <td>2</td>\n",
       "      <td>2</td>\n",
       "      <td>3</td>\n",
       "      <td>3</td>\n",
       "      <td>12.0</td>\n",
       "      <td>8.0</td>\n",
       "      <td>12.0</td>\n",
       "      <td>18.0</td>\n",
       "      <td>12.0</td>\n",
       "      <td>4.20</td>\n",
       "      <td>3.90</td>\n",
       "    </tr>\n",
       "    <tr>\n",
       "      <th>...</th>\n",
       "      <td>...</td>\n",
       "      <td>...</td>\n",
       "      <td>...</td>\n",
       "      <td>...</td>\n",
       "      <td>...</td>\n",
       "      <td>...</td>\n",
       "      <td>...</td>\n",
       "      <td>...</td>\n",
       "      <td>...</td>\n",
       "      <td>...</td>\n",
       "      <td>...</td>\n",
       "      <td>...</td>\n",
       "    </tr>\n",
       "    <tr>\n",
       "      <th>95</th>\n",
       "      <td>96.0</td>\n",
       "      <td>1</td>\n",
       "      <td>1</td>\n",
       "      <td>2</td>\n",
       "      <td>2</td>\n",
       "      <td>12.0</td>\n",
       "      <td>12.0</td>\n",
       "      <td>12.0</td>\n",
       "      <td>11.0</td>\n",
       "      <td>9.0</td>\n",
       "      <td>4.10</td>\n",
       "      <td>4.10</td>\n",
       "    </tr>\n",
       "    <tr>\n",
       "      <th>96</th>\n",
       "      <td>97.0</td>\n",
       "      <td>1</td>\n",
       "      <td>2</td>\n",
       "      <td>4</td>\n",
       "      <td>1</td>\n",
       "      <td>9.0</td>\n",
       "      <td>13.0</td>\n",
       "      <td>13.0</td>\n",
       "      <td>10.0</td>\n",
       "      <td>11.0</td>\n",
       "      <td>3.45</td>\n",
       "      <td>4.35</td>\n",
       "    </tr>\n",
       "    <tr>\n",
       "      <th>97</th>\n",
       "      <td>98.0</td>\n",
       "      <td>1</td>\n",
       "      <td>1</td>\n",
       "      <td>2</td>\n",
       "      <td>3</td>\n",
       "      <td>5.0</td>\n",
       "      <td>7.0</td>\n",
       "      <td>15.0</td>\n",
       "      <td>15.0</td>\n",
       "      <td>12.0</td>\n",
       "      <td>3.70</td>\n",
       "      <td>4.30</td>\n",
       "    </tr>\n",
       "    <tr>\n",
       "      <th>98</th>\n",
       "      <td>99.0</td>\n",
       "      <td>2</td>\n",
       "      <td>1</td>\n",
       "      <td>4</td>\n",
       "      <td>1</td>\n",
       "      <td>10.0</td>\n",
       "      <td>14.0</td>\n",
       "      <td>9.0</td>\n",
       "      <td>10.0</td>\n",
       "      <td>12.0</td>\n",
       "      <td>3.75</td>\n",
       "      <td>4.45</td>\n",
       "    </tr>\n",
       "    <tr>\n",
       "      <th>99</th>\n",
       "      <td>100.0</td>\n",
       "      <td>2</td>\n",
       "      <td>1</td>\n",
       "      <td>1</td>\n",
       "      <td>1</td>\n",
       "      <td>7.0</td>\n",
       "      <td>7.0</td>\n",
       "      <td>14.0</td>\n",
       "      <td>8.0</td>\n",
       "      <td>10.0</td>\n",
       "      <td>3.65</td>\n",
       "      <td>3.85</td>\n",
       "    </tr>\n",
       "  </tbody>\n",
       "</table>\n",
       "<p>100 rows × 12 columns</p>\n",
       "</div>"
      ],
      "text/plain": [
       "        № пол класс вуз хобби  тест1  тест2  тест3  тест4  тест5  отметка1  \\\n",
       "0     1.0   2     2   4     3    6.0    7.0   13.0   10.0   14.0      3.90   \n",
       "1     2.0   2     1   4     1    8.0    9.0   10.0   11.0   11.0      3.55   \n",
       "2     3.0   2     3   3     2   10.0    6.0   10.0    8.0    9.0      3.75   \n",
       "3     4.0   1     3   1     2   13.0    9.0   10.0   12.0    6.0      3.85   \n",
       "4     5.0   2     2   3     3   12.0    8.0   12.0   18.0   12.0      4.20   \n",
       "..    ...  ..   ...  ..   ...    ...    ...    ...    ...    ...       ...   \n",
       "95   96.0   1     1   2     2   12.0   12.0   12.0   11.0    9.0      4.10   \n",
       "96   97.0   1     2   4     1    9.0   13.0   13.0   10.0   11.0      3.45   \n",
       "97   98.0   1     1   2     3    5.0    7.0   15.0   15.0   12.0      3.70   \n",
       "98   99.0   2     1   4     1   10.0   14.0    9.0   10.0   12.0      3.75   \n",
       "99  100.0   2     1   1     1    7.0    7.0   14.0    8.0   10.0      3.65   \n",
       "\n",
       "    отметка2  \n",
       "0       4.20  \n",
       "1       3.95  \n",
       "2       4.65  \n",
       "3       3.95  \n",
       "4       3.90  \n",
       "..       ...  \n",
       "95      4.10  \n",
       "96      4.35  \n",
       "97      4.30  \n",
       "98      4.45  \n",
       "99      3.85  \n",
       "\n",
       "[100 rows x 12 columns]"
      ]
     },
     "execution_count": 129,
     "metadata": {},
     "output_type": "execute_result"
    }
   ],
   "source": [
    "data['пол']=data['пол'].map(sex)\n",
    "data['класс']=data['класс'].map(clas)\n",
    "data['вуз']=data['вуз'].map(university)\n",
    "data['хобби']=data['хобби'].map(hobby)\n",
    "data"
   ]
  },
  {
   "cell_type": "code",
   "execution_count": 130,
   "id": "requested-fitting",
   "metadata": {},
   "outputs": [
    {
     "data": {
      "text/plain": [
       "SolverResult(fun=0.09345269048756721, success=True, n_it=36, x=array([ 1.0330547 ,  0.9467359 ,  0.34946221,  0.01966632,  0.05271879,\n",
       "       -2.11446596,  4.85817214,  2.95683307,  4.39769469,  0.08152528,\n",
       "        0.05808454,  4.4782603 ]), message='Optimization terminated successfully', name_method='SLSQP', name_obj='MLW')"
      ]
     },
     "execution_count": 130,
     "metadata": {},
     "output_type": "execute_result"
    }
   ],
   "source": [
    "res=mod.fit(data)\n",
    "res"
   ]
  },
  {
   "cell_type": "code",
   "execution_count": 131,
   "id": "minus-cancer",
   "metadata": {},
   "outputs": [
    {
     "name": "stdout",
     "output_type": "stream",
     "text": [
      "        lval  op      rval  Estimate  Est. Std  Std. Err   z-value   p-value\n",
      "0      тест5   ~        F1  1.000000  0.691082         -         -         -\n",
      "1   отметка1   ~        F1  0.052719  0.347189  0.018089  2.914376  0.003564\n",
      "2         F1   ~       пол -2.114466 -0.514351  0.492999 -4.288989  0.000018\n",
      "3      тест4   ~        F1  1.033055  0.684824  0.204961  5.040248       0.0\n",
      "4      тест3   ~        F1  0.946736  0.667747  0.189998  4.982864  0.000001\n",
      "5   отметка2   ~  отметка1  0.349462  0.387035  0.081539  4.285809  0.000018\n",
      "6   отметка2   ~     тест5  0.019666  0.207560  0.008557  2.298404  0.021539\n",
      "7         F1  ~~        F1  2.956833  0.735444  0.930621   3.17727  0.001487\n",
      "8      тест5  ~~     тест5  4.397695  0.522405  0.902874  4.870776  0.000001\n",
      "9   отметка1  ~~  отметка1  0.081525  0.879460  0.012068  6.755723       0.0\n",
      "10     тест4  ~~     тест4  4.858172  0.531016  0.982313  4.945644  0.000001\n",
      "11  отметка2  ~~  отметка2  0.058085  0.768573  0.008214  7.071068       0.0\n",
      "12     тест3  ~~     тест3  4.478260  0.554113  0.871485  5.138655       0.0\n"
     ]
    }
   ],
   "source": [
    "print(mod.inspect(std_est=True))"
   ]
  },
  {
   "cell_type": "code",
   "execution_count": 104,
   "id": "preceding-israeli",
   "metadata": {},
   "outputs": [
    {
     "data": {
      "image/svg+xml": [
       "<?xml version=\"1.0\" encoding=\"UTF-8\" standalone=\"no\"?>\r\n",
       "<!DOCTYPE svg PUBLIC \"-//W3C//DTD SVG 1.1//EN\"\r\n",
       " \"http://www.w3.org/Graphics/SVG/1.1/DTD/svg11.dtd\">\r\n",
       "<!-- Generated by graphviz version 2.38.0 (20140413.2041)\r\n",
       " -->\r\n",
       "<!-- Title: G Pages: 1 -->\r\n",
       "<svg width=\"306pt\" height=\"344pt\"\r\n",
       " viewBox=\"0.00 0.00 306.00 343.60\" xmlns=\"http://www.w3.org/2000/svg\" xmlns:xlink=\"http://www.w3.org/1999/xlink\">\r\n",
       "<g id=\"graph0\" class=\"graph\" transform=\"scale(1 1) rotate(0) translate(4 339.596)\">\r\n",
       "<title>G</title>\r\n",
       "<polygon fill=\"white\" stroke=\"none\" points=\"-4,4 -4,-339.596 302,-339.596 302,4 -4,4\"/>\r\n",
       "<!-- F1 -->\r\n",
       "<g id=\"node1\" class=\"node\"><title>F1</title>\r\n",
       "<ellipse fill=\"#cae6df\" stroke=\"black\" cx=\"138\" cy=\"-216.798\" rx=\"20.5982\" ry=\"20.5982\"/>\r\n",
       "<text text-anchor=\"middle\" x=\"138\" y=\"-213.098\" font-family=\"Times New Roman,serif\" font-size=\"14.00\">F1</text>\r\n",
       "</g>\r\n",
       "<!-- тест3 -->\r\n",
       "<g id=\"node3\" class=\"node\"><title>тест3</title>\r\n",
       "<polygon fill=\"none\" stroke=\"black\" points=\"54,-134 0,-134 0,-98 54,-98 54,-134\"/>\r\n",
       "<text text-anchor=\"middle\" x=\"27\" y=\"-112.3\" font-family=\"Times New Roman,serif\" font-size=\"14.00\">тест3</text>\r\n",
       "</g>\r\n",
       "<!-- F1&#45;&gt;тест3 -->\r\n",
       "<g id=\"edge5\" class=\"edge\"><title>F1&#45;&gt;тест3</title>\r\n",
       "<path fill=\"none\" stroke=\"black\" d=\"M117.257,-212.717C96.1593,-208.506 63.9512,-198.929 45,-178 36.6587,-168.788 32.1727,-155.886 29.7642,-144.319\"/>\r\n",
       "<polygon fill=\"black\" stroke=\"black\" points=\"33.1773,-143.506 28.0855,-134.215 26.272,-144.654 33.1773,-143.506\"/>\r\n",
       "<text text-anchor=\"middle\" x=\"70\" y=\"-168.4\" font-family=\"Times New Roman,serif\" font-size=\"12.00\">0.947</text>\r\n",
       "<text text-anchor=\"middle\" x=\"70\" y=\"-155.4\" font-family=\"Times New Roman,serif\" font-size=\"12.00\">p&#45;val: 0.00</text>\r\n",
       "</g>\r\n",
       "<!-- тест4 -->\r\n",
       "<g id=\"node4\" class=\"node\"><title>тест4</title>\r\n",
       "<polygon fill=\"none\" stroke=\"black\" points=\"126,-134 72,-134 72,-98 126,-98 126,-134\"/>\r\n",
       "<text text-anchor=\"middle\" x=\"99\" y=\"-112.3\" font-family=\"Times New Roman,serif\" font-size=\"14.00\">тест4</text>\r\n",
       "</g>\r\n",
       "<!-- F1&#45;&gt;тест4 -->\r\n",
       "<g id=\"edge4\" class=\"edge\"><title>F1&#45;&gt;тест4</title>\r\n",
       "<path fill=\"none\" stroke=\"black\" d=\"M122.254,-202.684C115.416,-196.044 108.055,-187.402 104,-178 99.487,-167.536 97.8779,-155.133 97.5315,-144.252\"/>\r\n",
       "<polygon fill=\"black\" stroke=\"black\" points=\"101.032,-144.012 97.5453,-134.008 94.0317,-144.003 101.032,-144.012\"/>\r\n",
       "<text text-anchor=\"middle\" x=\"129\" y=\"-168.4\" font-family=\"Times New Roman,serif\" font-size=\"12.00\">1.033</text>\r\n",
       "<text text-anchor=\"middle\" x=\"129\" y=\"-155.4\" font-family=\"Times New Roman,serif\" font-size=\"12.00\">p&#45;val: 0.00</text>\r\n",
       "</g>\r\n",
       "<!-- отметка1 -->\r\n",
       "<g id=\"node5\" class=\"node\"><title>отметка1</title>\r\n",
       "<polygon fill=\"none\" stroke=\"black\" points=\"215.5,-134 144.5,-134 144.5,-98 215.5,-98 215.5,-134\"/>\r\n",
       "<text text-anchor=\"middle\" x=\"180\" y=\"-112.3\" font-family=\"Times New Roman,serif\" font-size=\"14.00\">отметка1</text>\r\n",
       "</g>\r\n",
       "<!-- F1&#45;&gt;отметка1 -->\r\n",
       "<g id=\"edge2\" class=\"edge\"><title>F1&#45;&gt;отметка1</title>\r\n",
       "<path fill=\"none\" stroke=\"black\" d=\"M145.9,-197.215C152.336,-182.076 161.505,-160.507 168.715,-143.547\"/>\r\n",
       "<polygon fill=\"black\" stroke=\"black\" points=\"172.006,-144.75 172.698,-134.178 165.564,-142.011 172.006,-144.75\"/>\r\n",
       "<text text-anchor=\"middle\" x=\"189\" y=\"-168.4\" font-family=\"Times New Roman,serif\" font-size=\"12.00\">0.053</text>\r\n",
       "<text text-anchor=\"middle\" x=\"189\" y=\"-155.4\" font-family=\"Times New Roman,serif\" font-size=\"12.00\">p&#45;val: 0.00</text>\r\n",
       "</g>\r\n",
       "<!-- тест5 -->\r\n",
       "<g id=\"node7\" class=\"node\"><title>тест5</title>\r\n",
       "<polygon fill=\"none\" stroke=\"black\" points=\"288,-134 234,-134 234,-98 288,-98 288,-134\"/>\r\n",
       "<text text-anchor=\"middle\" x=\"261\" y=\"-112.3\" font-family=\"Times New Roman,serif\" font-size=\"14.00\">тест5</text>\r\n",
       "</g>\r\n",
       "<!-- F1&#45;&gt;тест5 -->\r\n",
       "<g id=\"edge1\" class=\"edge\"><title>F1&#45;&gt;тест5</title>\r\n",
       "<path fill=\"none\" stroke=\"black\" d=\"M157.694,-209.71C174.949,-203.672 200.01,-193.124 218,-178 229.618,-168.233 239.607,-154.632 247.025,-142.751\"/>\r\n",
       "<polygon fill=\"black\" stroke=\"black\" points=\"250.072,-144.475 252.181,-134.093 244.057,-140.894 250.072,-144.475\"/>\r\n",
       "<text text-anchor=\"middle\" x=\"255\" y=\"-161.9\" font-family=\"Times New Roman,serif\" font-size=\"12.00\">1.000</text>\r\n",
       "</g>\r\n",
       "<!-- отметка2 -->\r\n",
       "<g id=\"node2\" class=\"node\"><title>отметка2</title>\r\n",
       "<polygon fill=\"none\" stroke=\"black\" points=\"256.5,-36 185.5,-36 185.5,-0 256.5,-0 256.5,-36\"/>\r\n",
       "<text text-anchor=\"middle\" x=\"221\" y=\"-14.3\" font-family=\"Times New Roman,serif\" font-size=\"14.00\">отметка2</text>\r\n",
       "</g>\r\n",
       "<!-- отметка1&#45;&gt;отметка2 -->\r\n",
       "<g id=\"edge6\" class=\"edge\"><title>отметка1&#45;&gt;отметка2</title>\r\n",
       "<path fill=\"none\" stroke=\"black\" d=\"M177.48,-97.8636C176.389,-85.1567 176.572,-67.7323 183,-54 184.705,-50.3572 186.979,-46.9167 189.57,-43.7194\"/>\r\n",
       "<polygon fill=\"black\" stroke=\"black\" points=\"192.241,-45.9879 196.52,-36.2958 187.131,-41.2037 192.241,-45.9879\"/>\r\n",
       "<text text-anchor=\"middle\" x=\"208\" y=\"-70.4\" font-family=\"Times New Roman,serif\" font-size=\"12.00\">0.349</text>\r\n",
       "<text text-anchor=\"middle\" x=\"208\" y=\"-57.4\" font-family=\"Times New Roman,serif\" font-size=\"12.00\">p&#45;val: 0.00</text>\r\n",
       "</g>\r\n",
       "<!-- пол -->\r\n",
       "<g id=\"node6\" class=\"node\"><title>пол</title>\r\n",
       "<polygon fill=\"none\" stroke=\"black\" points=\"165,-335.596 111,-335.596 111,-299.596 165,-299.596 165,-335.596\"/>\r\n",
       "<text text-anchor=\"middle\" x=\"138\" y=\"-313.896\" font-family=\"Times New Roman,serif\" font-size=\"14.00\">пол</text>\r\n",
       "</g>\r\n",
       "<!-- пол&#45;&gt;F1 -->\r\n",
       "<g id=\"edge3\" class=\"edge\"><title>пол&#45;&gt;F1</title>\r\n",
       "<path fill=\"none\" stroke=\"black\" d=\"M138,-299.387C138,-285.328 138,-265.108 138,-248.315\"/>\r\n",
       "<polygon fill=\"black\" stroke=\"black\" points=\"141.5,-247.873 138,-237.873 134.5,-247.873 141.5,-247.873\"/>\r\n",
       "<text text-anchor=\"middle\" x=\"163\" y=\"-271.996\" font-family=\"Times New Roman,serif\" font-size=\"12.00\">&#45;2.114</text>\r\n",
       "<text text-anchor=\"middle\" x=\"163\" y=\"-258.996\" font-family=\"Times New Roman,serif\" font-size=\"12.00\">p&#45;val: 0.00</text>\r\n",
       "</g>\r\n",
       "<!-- тест5&#45;&gt;отметка2 -->\r\n",
       "<g id=\"edge7\" class=\"edge\"><title>тест5&#45;&gt;отметка2</title>\r\n",
       "<path fill=\"none\" stroke=\"black\" d=\"M254.521,-97.8088C249.825,-85.5324 243.231,-68.6637 237,-54 235.785,-51.1407 234.483,-48.1653 233.167,-45.2104\"/>\r\n",
       "<polygon fill=\"black\" stroke=\"black\" points=\"236.313,-43.6726 228.998,-36.0081 229.937,-46.5612 236.313,-43.6726\"/>\r\n",
       "<text text-anchor=\"middle\" x=\"273\" y=\"-70.4\" font-family=\"Times New Roman,serif\" font-size=\"12.00\">0.020</text>\r\n",
       "<text text-anchor=\"middle\" x=\"273\" y=\"-57.4\" font-family=\"Times New Roman,serif\" font-size=\"12.00\">p&#45;val: 0.02</text>\r\n",
       "</g>\r\n",
       "</g>\r\n",
       "</svg>\r\n"
      ],
      "text/plain": [
       "<graphviz.dot.Digraph at 0x281f68dbbc8>"
      ]
     },
     "execution_count": 104,
     "metadata": {},
     "output_type": "execute_result"
    }
   ],
   "source": [
    "g = semopy.semplot(mod, \"pd.png\")\n",
    "g"
   ]
  },
  {
   "cell_type": "code",
   "execution_count": 147,
   "id": "confident-teach",
   "metadata": {},
   "outputs": [
    {
     "name": "stdout",
     "output_type": "stream",
     "text": [
      "digraph G {\n",
      "\toverlap=scale splines=true\n",
      "\tedge [fontsize=12]\n",
      "\tnode [fillcolor=\"#cae6df\" shape=circle style=filled]\n",
      "\tF1 [label=F1]\n",
      "\tnode [shape=box style=\"\"]\n",
      "\t\"отметка2\" [label=\"отметка2\"]\n",
      "\t\"тест3\" [label=\"тест3\"]\n",
      "\t\"тест4\" [label=\"тест4\"]\n",
      "\t\"отметка1\" [label=\"отметка1\"]\n",
      "\t\"пол\" [label=\"пол\"]\n",
      "\t\"тест5\" [label=\"тест5\"]\n",
      "\tF1 -> \"тест5\" [label=1.000]\n",
      "\tF1 -> \"отметка1\" [label=\"0.053\\np-val: 0.00\"]\n",
      "\t\"пол\" -> F1 [label=\"-2.114\\np-val: 0.00\"]\n",
      "\tF1 -> \"тест4\" [label=\"1.033\\np-val: 0.00\"]\n",
      "\tF1 -> \"тест3\" [label=\"0.947\\np-val: 0.00\"]\n",
      "\t\"отметка1\" -> \"отметка2\" [label=\"0.349\\np-val: 0.00\"]\n",
      "\t\"тест5\" -> \"отметка2\" [label=\"0.020\\np-val: 0.02\"]\n",
      "}\n"
     ]
    }
   ],
   "source": [
    "print(g)"
   ]
  },
  {
   "cell_type": "code",
   "execution_count": 105,
   "id": "connected-arcade",
   "metadata": {},
   "outputs": [
    {
     "name": "stdout",
     "output_type": "stream",
     "text": [
      "                    Value\n",
      "DoF              9.000000\n",
      "DoF Baseline    16.000000\n",
      "chi2             9.345269\n",
      "chi2 p-value     0.406032\n",
      "chi2 Baseline  125.143123\n",
      "CFI              0.996837\n",
      "GFI              0.925323\n",
      "AGFI             0.867242\n",
      "NFI              0.925323\n",
      "TLI              0.994376\n",
      "RMSEA            0.019685\n",
      "AIC             23.813095\n",
      "BIC             55.075137\n",
      "LogLik           0.093453\n"
     ]
    }
   ],
   "source": [
    "stats = semopy.calc_stats(mod)\n",
    "print(stats.T)"
   ]
  },
  {
   "cell_type": "code",
   "execution_count": 132,
   "id": "suitable-survey",
   "metadata": {},
   "outputs": [
    {
     "name": "stdout",
     "output_type": "stream",
     "text": [
      "       lval op rval   Estimate\n",
      "0  отметка1  ~    1   4.117946\n",
      "1       пол  ~    1   1.390000\n",
      "2     тест5  ~    1  14.779108\n",
      "3  отметка2  ~    1   2.602732\n",
      "4     тест3  ~    1  14.742559\n",
      "5     тест4  ~    1  14.546259\n"
     ]
    }
   ],
   "source": [
    "from semopy.means import estimate_means\n",
    "print(estimate_means(mod))"
   ]
  },
  {
   "cell_type": "code",
   "execution_count": 133,
   "id": "compound-tooth",
   "metadata": {},
   "outputs": [
    {
     "name": "stdout",
     "output_type": "stream",
     "text": [
      "№           50.5000\n",
      "тест1       10.2500\n",
      "тест2       10.3500\n",
      "тест3       11.9600\n",
      "тест4       11.5100\n",
      "тест5       11.8400\n",
      "отметка1     3.9630\n",
      "отметка2     4.2205\n",
      "dtype: float64\n"
     ]
    }
   ],
   "source": [
    "print(data.mean())"
   ]
  },
  {
   "cell_type": "code",
   "execution_count": 134,
   "id": "monthly-millennium",
   "metadata": {},
   "outputs": [
    {
     "name": "stdout",
     "output_type": "stream",
     "text": [
      "        lval  op      rval   Estimate  Std. Err    z-value   p-value\n",
      "0      тест5   ~        F1   1.000000         -          -         -\n",
      "1   отметка1   ~        F1   0.052719  0.018092   2.913984  0.003568\n",
      "2         F1   ~       пол  -2.114542  0.492907  -4.289939  0.000018\n",
      "3      тест4   ~        F1   1.032672  0.204957    5.03849       0.0\n",
      "4      тест3   ~        F1   0.947185  0.190059   4.983627  0.000001\n",
      "5   отметка2   ~  отметка1   0.349427  0.081544    4.28514  0.000018\n",
      "6   отметка2   ~     тест5   0.019659  0.008558   2.297175  0.021609\n",
      "7   отметка1   ~         1   4.117953  0.064585  63.760184       0.0\n",
      "8      тест5   ~         1  14.779218  0.736835  20.057717       0.0\n",
      "9   отметка2   ~         1   2.602956  0.315543   8.249125       0.0\n",
      "10     тест3   ~         1  14.743962  0.712918  20.681133       0.0\n",
      "11     тест4   ~         1  14.545253  0.765632  18.997717       0.0\n",
      "12        F1  ~~        F1   2.955007  0.930123   3.177006  0.001488\n",
      "13     тест5  ~~     тест5   4.395668  0.902521   4.870432  0.000001\n",
      "14  отметка1  ~~  отметка1   0.081512  0.012066   6.755747       0.0\n",
      "15     тест4  ~~     тест4   4.864312  0.982574   4.950583  0.000001\n",
      "16  отметка2  ~~  отметка2   0.058080  0.008214   7.071068       0.0\n",
      "17     тест3  ~~     тест3   4.473002  0.871082   5.134994       0.0\n"
     ]
    }
   ],
   "source": [
    "from semopy import ModelMeans\n",
    "model = ModelMeans(desc)\n",
    "model.fit(data)\n",
    "print(model.inspect())"
   ]
  },
  {
   "cell_type": "code",
   "execution_count": 106,
   "id": "graduate-supervision",
   "metadata": {},
   "outputs": [
    {
     "name": "stderr",
     "output_type": "stream",
     "text": [
      "C:\\Users\\HP\\Anaconda3\\lib\\site-packages\\semopy\\stats.py:386: RuntimeWarning: invalid value encountered in sqrt\n",
      "  return np.sqrt((chi2 / dof - 1) / (model.n_samples - 1))\n"
     ]
    }
   ],
   "source": [
    "#Semopy provides a report function that takes a fitted model and generates an HTML file\n",
    "from semopy import ModelMeans\n",
    "\n",
    "model = ModelMeans(desc)\n",
    "model.fit(data)\n",
    "semopy.report(model, \"SM1\")"
   ]
  },
  {
   "cell_type": "code",
   "execution_count": 108,
   "id": "published-relevance",
   "metadata": {},
   "outputs": [
    {
     "data": {
      "text/html": [
       "<div>\n",
       "<style scoped>\n",
       "    .dataframe tbody tr th:only-of-type {\n",
       "        vertical-align: middle;\n",
       "    }\n",
       "\n",
       "    .dataframe tbody tr th {\n",
       "        vertical-align: top;\n",
       "    }\n",
       "\n",
       "    .dataframe thead th {\n",
       "        text-align: right;\n",
       "    }\n",
       "</style>\n",
       "<table border=\"1\" class=\"dataframe\">\n",
       "  <thead>\n",
       "    <tr style=\"text-align: right;\">\n",
       "      <th></th>\n",
       "      <th>F1</th>\n",
       "    </tr>\n",
       "  </thead>\n",
       "  <tbody>\n",
       "    <tr>\n",
       "      <th>0</th>\n",
       "      <td>-0.151414</td>\n",
       "    </tr>\n",
       "    <tr>\n",
       "      <th>1</th>\n",
       "      <td>-0.782005</td>\n",
       "    </tr>\n",
       "    <tr>\n",
       "      <th>2</th>\n",
       "      <td>-1.736209</td>\n",
       "    </tr>\n",
       "    <tr>\n",
       "      <th>3</th>\n",
       "      <td>-0.463937</td>\n",
       "    </tr>\n",
       "    <tr>\n",
       "      <th>4</th>\n",
       "      <td>2.076909</td>\n",
       "    </tr>\n",
       "  </tbody>\n",
       "</table>\n",
       "</div>"
      ],
      "text/plain": [
       "         F1\n",
       "0 -0.151414\n",
       "1 -0.782005\n",
       "2 -1.736209\n",
       "3 -0.463937\n",
       "4  2.076909"
      ]
     },
     "execution_count": 108,
     "metadata": {},
     "output_type": "execute_result"
    }
   ],
   "source": [
    "#Prediction of factor scores\n",
    "factors = mod.predict_factors(data)\n",
    "factors.head()"
   ]
  },
  {
   "cell_type": "code",
   "execution_count": 109,
   "id": "needed-protest",
   "metadata": {},
   "outputs": [
    {
     "data": {
      "text/plain": [
       "100"
      ]
     },
     "execution_count": 109,
     "metadata": {},
     "output_type": "execute_result"
    }
   ],
   "source": [
    "len(data)"
   ]
  },
  {
   "cell_type": "code",
   "execution_count": 111,
   "id": "superb-freeware",
   "metadata": {},
   "outputs": [
    {
     "name": "stdout",
     "output_type": "stream",
     "text": [
      "Mean relative error: 6.052%\n"
     ]
    }
   ],
   "source": [
    "# Prediction of output dependent variables by exogenous\n",
    "data_test = data.iloc[:20]\n",
    "data_train = data.iloc[20:]\n",
    "model.fit(data_train)\n",
    "preds = model.predict_exo(data_test.drop(['отметка2'], axis=1))\n",
    "print('Mean relative error: {:.3f}%'.format(\n",
    "      abs((preds['отметка2'].values - data_test['отметка2'].values) / data_test['отметка2'].values).mean() * 100))"
   ]
  },
  {
   "cell_type": "code",
   "execution_count": 112,
   "id": "charming-spoke",
   "metadata": {},
   "outputs": [
    {
     "name": "stdout",
     "output_type": "stream",
     "text": [
      "Mean relative error: 5.932%\n"
     ]
    }
   ],
   "source": [
    "# Prediction of output dependent variables by exogenous\n",
    "data_test = data.iloc[:20]\n",
    "data_train = data.iloc[20:]\n",
    "model.fit(data_train)\n",
    "preds = model.predict_exo(data_test.drop(['отметка1'], axis=1))\n",
    "print('Mean relative error: {:.3f}%'.format(\n",
    "      abs((preds['отметка1'].values - data_test['отметка1'].values) / data_test['отметка1'].values).mean() * 100))"
   ]
  },
  {
   "cell_type": "markdown",
   "id": "subject-broad",
   "metadata": {},
   "source": [
    "# Таким образом, не нашла, как рассчитываются в питоне:\n",
    "* Многомерный эксцесс (multivariate kurtosis) для проверки многомерной нормальности.\n",
    "* Индексы модификации (modification indices) для изменения априорной модели."
   ]
  },
  {
   "cell_type": "code",
   "execution_count": 15,
   "id": "addressed-seven",
   "metadata": {},
   "outputs": [],
   "source": [
    "#https://www.researchgate.net/search/publication?q=Multivariate+kurtosis+in+python"
   ]
  },
  {
   "cell_type": "code",
   "execution_count": null,
   "id": "seven-collector",
   "metadata": {},
   "outputs": [],
   "source": []
  }
 ],
 "metadata": {
  "kernelspec": {
   "display_name": "Python 3",
   "language": "python",
   "name": "python3"
  },
  "language_info": {
   "codemirror_mode": {
    "name": "ipython",
    "version": 3
   },
   "file_extension": ".py",
   "mimetype": "text/x-python",
   "name": "python",
   "nbconvert_exporter": "python",
   "pygments_lexer": "ipython3",
   "version": "3.7.4"
  }
 },
 "nbformat": 4,
 "nbformat_minor": 5
}
