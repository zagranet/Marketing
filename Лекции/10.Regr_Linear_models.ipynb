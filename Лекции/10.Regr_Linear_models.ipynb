{
 "cells": [
  {
   "cell_type": "markdown",
   "id": "concrete-birmingham",
   "metadata": {},
   "source": [
    "# Лекция 10. Линейные модели для регрессии"
   ]
  },
  {
   "cell_type": "markdown",
   "id": "analyzed-therapist",
   "metadata": {},
   "source": [
    "Импортируем библиотеки, которые нам понадобятся для построения модели линейной регрессии."
   ]
  },
  {
   "cell_type": "code",
   "execution_count": 20,
   "id": "waiting-remains",
   "metadata": {},
   "outputs": [],
   "source": [
    "import os\n",
    "import numpy as np\n",
    "import pandas as pd\n",
    "from sklearn.linear_model import LinearRegression\n",
    "from sklearn.preprocessing import PolynomialFeatures\n",
    "from sklearn.pipeline import make_pipeline\n",
    "from sklearn.model_selection import train_test_split\n",
    "from sklearn.linear_model import Ridge\n",
    "from sklearn.linear_model import Lasso\n",
    "from sklearn.linear_model import ElasticNet\n",
    "from statsmodels.genmod.generalized_estimating_equations import GEE\n",
    "from statsmodels.genmod.cov_struct import (Exchangeable,\n",
    "    Independence,Autoregressive)\n",
    "from statsmodels.genmod.families import Poisson\n",
    "import math\n",
    "import matplotlib.pyplot as plt\n",
    "import seaborn as sns; sns.set()\n",
    "%matplotlib inline"
   ]
  },
  {
   "cell_type": "code",
   "execution_count": 21,
   "id": "casual-asthma",
   "metadata": {},
   "outputs": [],
   "source": [
    "os.chdir(\"C:/Users/HP/Documents/analysis/Marketing/data/\")"
   ]
  },
  {
   "cell_type": "markdown",
   "id": "lesser-wealth",
   "metadata": {},
   "source": [
    "Можно выделить следующие виды стандартной линейной регрессии: \n",
    "1. Парную регрессию; \n",
    "2. Множественную регрессию; \n",
    "3. Полиномиальную регрессию;\n",
    "4. Регрессию с фиктивными переменными;\n",
    "+ Затем добавим регуляризацию для предотвращения переобучения модели. В результате получим: \n",
    "5. Гребневую регрессию;\n",
    "6. Лассо регрессию."
   ]
  },
  {
   "cell_type": "markdown",
   "id": "special-stuff",
   "metadata": {},
   "source": [
    "## I. Стандартная линейная регрессия"
   ]
  },
  {
   "cell_type": "markdown",
   "id": "sharp-ability",
   "metadata": {},
   "source": [
    "### 1. Парная регрессия"
   ]
  },
  {
   "cell_type": "markdown",
   "id": "sexual-parade",
   "metadata": {},
   "source": [
    "Математическое описание зависимости в среднем изменений переменной $y$ (результативного признака) от переменной $x$ (факторного признака) называется моделью (уравнением) парной регрессии. Чаще всего используется линейное уравнение парной регрессии:"
   ]
  },
  {
   "cell_type": "markdown",
   "id": "secret-renaissance",
   "metadata": {},
   "source": [
    "$ \\hat{y}=a+bx $"
   ]
  },
  {
   "cell_type": "markdown",
   "id": "widespread-injection",
   "metadata": {},
   "source": [
    "* где $a$ - свободный член уравнения регрессии;\n",
    "* $b$ - коэффициент регрессии, который показывает, на сколько единиц в среднем изменится результативный признак при изменении факторного признака на одну единицу его измерения."
   ]
  },
  {
   "cell_type": "markdown",
   "id": "pointed-syndication",
   "metadata": {},
   "source": [
    "Сгенерируем 50 случайных точек в координатной плоскости x, y, которые могут быть аппроксимированы линейной моделью парной регрессии со следующими истинными значениями коэффициентов: $a=2, b=-5$."
   ]
  },
  {
   "cell_type": "code",
   "execution_count": 22,
   "id": "failing-hometown",
   "metadata": {},
   "outputs": [
    {
     "data": {
      "image/png": "[encoded data removed]",
      "text/plain": [
       "<Figure size 432x288 with 1 Axes>"
      ]
     },
     "metadata": {
      "needs_background": "light"
     },
     "output_type": "display_data"
    }
   ],
   "source": [
    "rng = np.random.RandomState(1)\n",
    "x = 10 * rng.rand(50)\n",
    "y = 2 * x - 5 + rng.randn(50)\n",
    "plt.scatter(x, y);"
   ]
  },
  {
   "cell_type": "markdown",
   "id": "latin-cooling",
   "metadata": {},
   "source": [
    "Воспользуемся методом LinearRegression из библиотеки Scikit-Learn для подбора параметров $a$ и $b$ и визуализации полученной модели."
   ]
  },
  {
   "cell_type": "code",
   "execution_count": 23,
   "id": "clean-nigeria",
   "metadata": {},
   "outputs": [
    {
     "data": {
      "image/png": "[encoded data removed]",
      "text/plain": [
       "<Figure size 432x288 with 1 Axes>"
      ]
     },
     "metadata": {
      "needs_background": "light"
     },
     "output_type": "display_data"
    }
   ],
   "source": [
    "model = LinearRegression(fit_intercept=True)\n",
    "\n",
    "model.fit(x[:, np.newaxis], y)\n",
    "\n",
    "xfit = np.linspace(0, 10, 1000)\n",
    "yfit = model.predict(xfit[:, np.newaxis])\n",
    "\n",
    "plt.scatter(x, y)\n",
    "plt.plot(xfit, yfit);"
   ]
  },
  {
   "cell_type": "markdown",
   "id": "brutal-sequence",
   "metadata": {},
   "source": [
    "Выведим на экран коэффициент (coef_) и свободный член (intercept_) регрессии."
   ]
  },
  {
   "cell_type": "code",
   "execution_count": 24,
   "id": "functional-disability",
   "metadata": {},
   "outputs": [
    {
     "name": "stdout",
     "output_type": "stream",
     "text": [
      "Коэффициент регрессии:     2.027208810360695\n",
      "Свободный член регрессии: -4.998577085553202\n"
     ]
    }
   ],
   "source": [
    "print(\"Коэффициент регрессии:    \", model.coef_[0])\n",
    "print(\"Свободный член регрессии:\", model.intercept_)"
   ]
  },
  {
   "cell_type": "markdown",
   "id": "received-bones",
   "metadata": {},
   "source": [
    "Видим, что результаты близки к истинным значениям параметров, которые мы задавали ($a=2, b=-5$)."
   ]
  },
  {
   "cell_type": "markdown",
   "id": "convertible-oriental",
   "metadata": {},
   "source": [
    "### 2. Множественная регрессия"
   ]
  },
  {
   "cell_type": "markdown",
   "id": "wrong-teach",
   "metadata": {},
   "source": [
    "Математически множественная линейная регрессия может быть представлена в следующем виде: $\\hat{y}=a_0+a_1x_1+a_2x_2+⋯+a_kx_k$"
   ]
  },
  {
   "cell_type": "markdown",
   "id": "entitled-restaurant",
   "metadata": {},
   "source": [
    "Сгенерируем 100 случайных точек в координатной плоскости x, y, z которые могут быть аппроксимированы линейной моделью множественной регрессии со следующими истинными коэффициентами: $a_0=0.5, a_1=1.5, a_2=-2, a_3=1$."
   ]
  },
  {
   "cell_type": "code",
   "execution_count": 25,
   "id": "alleged-start",
   "metadata": {
    "tags": []
   },
   "outputs": [],
   "source": [
    "rng = np.random.RandomState(1)\n",
    "X = 10 * rng.rand(100, 3)\n",
    "y = 0.5 + np.dot(X, [1.5, -2., 1.]) + rng.randn(100)"
   ]
  },
  {
   "cell_type": "code",
   "execution_count": 26,
   "id": "mounted-elephant",
   "metadata": {
    "tags": []
   },
   "outputs": [
    {
     "name": "stdout",
     "output_type": "stream",
     "text": [
      "0.6562333465768289\n",
      "[ 1.48159542 -1.97622428  0.97258042]\n"
     ]
    }
   ],
   "source": [
    "model = LinearRegression(fit_intercept=True)\n",
    "\n",
    "model.fit(X, y)\n",
    "print(model.intercept_)\n",
    "print(model.coef_)"
   ]
  },
  {
   "cell_type": "markdown",
   "id": "spare-payroll",
   "metadata": {},
   "source": [
    "### 3. Полиномиальная регрессия"
   ]
  },
  {
   "cell_type": "markdown",
   "id": "legal-secretariat",
   "metadata": {},
   "source": [
    "В уравнении множественной линейной регрессии $y^`=a_0+a_1x_1+a_2x_2+⋯+a_kx_k$ переменная $x_k$ может быть представлена любой функцией $f_k$ преобразования исходных данных $x$: $x_k=f_k(x)$. "
   ]
  },
  {
   "cell_type": "markdown",
   "id": "animated-johnston",
   "metadata": {},
   "source": [
    "В случае $f_k(x)=x^k$ получаем полиномиальную регрессию: $y^`=a_0+a_1x+a_2x^2+a_3x^3+⋯+a_kx^k$ "
   ]
  },
  {
   "cell_type": "markdown",
   "id": "modern-criterion",
   "metadata": {},
   "source": [
    "Из-за важности полиномиальной регрессии в библиотеку Scikit-Learn встроен метод PolynomialFeatures, который позволяет по исходному вектору $x$ получить вектора $x^2, x^3, ..., x^k$"
   ]
  },
  {
   "cell_type": "code",
   "execution_count": 27,
   "id": "above-mixer",
   "metadata": {},
   "outputs": [],
   "source": [
    "model = LinearRegression(fit_intercept=True)"
   ]
  },
  {
   "cell_type": "code",
   "execution_count": 28,
   "id": "civic-engineer",
   "metadata": {},
   "outputs": [
    {
     "data": {
      "text/plain": [
       "array([[ 2.,  4.,  8.],\n",
       "       [ 3.,  9., 27.],\n",
       "       [ 4., 16., 64.]])"
      ]
     },
     "execution_count": 28,
     "metadata": {},
     "output_type": "execute_result"
    }
   ],
   "source": [
    "x = np.array([2, 3, 4])\n",
    "poly = PolynomialFeatures(3, include_bias=False)\n",
    "poly.fit_transform(x[:, None])"
   ]
  },
  {
   "cell_type": "markdown",
   "id": "abstract-memorial",
   "metadata": {},
   "source": [
    "Видим, что метод PolynomialFeatures преобразовал исходный одномерный вектор $x$ в трехмерное пространство признаков $x, x^2, x^3$ путем возведения во 2-ую и 3-ю степень соответствующих значений исходного вектора. По полученным данным можно построить полиномиальную регрессию путем применения к ним метода LinearRegression из библиотеки Scikit-Learn."
   ]
  },
  {
   "cell_type": "markdown",
   "id": "figured-wonder",
   "metadata": {},
   "source": [
    "Самый простой способ соединить указанные выше операции - использовать метод make_pipeline. Построим таким образом полиномиальную модель 7-го порядка:"
   ]
  },
  {
   "cell_type": "code",
   "execution_count": 29,
   "id": "weekly-yesterday",
   "metadata": {},
   "outputs": [],
   "source": [
    "poly_model = make_pipeline(PolynomialFeatures(7),\n",
    "                           LinearRegression())"
   ]
  },
  {
   "cell_type": "markdown",
   "id": "composite-disabled",
   "metadata": {},
   "source": [
    "Используя указанные методы, можно построить зашумленную синусоиду:"
   ]
  },
  {
   "cell_type": "code",
   "execution_count": 30,
   "id": "christian-morrison",
   "metadata": {},
   "outputs": [
    {
     "data": {
      "image/png": "[encoded data removed]",
      "text/plain": [
       "<Figure size 432x288 with 1 Axes>"
      ]
     },
     "metadata": {
      "needs_background": "light"
     },
     "output_type": "display_data"
    }
   ],
   "source": [
    "rng = np.random.RandomState(1) # seed\n",
    "x = 10 * rng.rand(50)\n",
    "y = np.sin(x) + 0.1 * rng.randn(50)\n",
    "\n",
    "poly_model.fit(x[:, np.newaxis], y)\n",
    "xfit = np.linspace(0, 10, 1000)\n",
    "yfit = poly_model.predict(xfit[:, np.newaxis])\n",
    "\n",
    "plt.scatter(x, y)\n",
    "plt.plot(xfit, yfit);"
   ]
  },
  {
   "cell_type": "markdown",
   "id": "behind-uzbekistan",
   "metadata": {},
   "source": [
    "Видим, что наша линейная модель, благодаря использованию полинома 7-го порядка, обеспечивает прекрасное приближение к нелинейным данным."
   ]
  },
  {
   "cell_type": "markdown",
   "id": "regulated-concentrate",
   "metadata": {},
   "source": [
    "### 4. Регрессия с фиктивными переменными"
   ]
  },
  {
   "cell_type": "markdown",
   "id": "olympic-choice",
   "metadata": {
    "tags": []
   },
   "source": [
    "Добавление в модель фиктивных переменных позволяет учесть неоднородность структуры наблюдений, причем неоднородность может носить пространственный или временной характер, может объясняться влиянием качественных признаков. Например, при моделировании спроса на товары можно учитывать такие факторы, как принадлежность к определенной социальной группе, уровень образования, национальность. При моделировании успеваемости студентов можно учесть их пол. Можно строить отдельные модели для каждой из групп, но есть более общий метод - введение в регрессионную модель фиктивных переменных."
   ]
  },
  {
   "cell_type": "markdown",
   "id": "breathing-suspension",
   "metadata": {},
   "source": [
    "Общий вид модели с фиктивными переменными может быть записан следующим образом:"
   ]
  },
  {
   "cell_type": "markdown",
   "id": "impressed-broadcasting",
   "metadata": {},
   "source": [
    "$ y^`=a+bx+\\sum^m_{i=2}c_iD_i$"
   ]
  },
  {
   "cell_type": "markdown",
   "id": "about-garden",
   "metadata": {},
   "source": [
    "где $a, b, c_2, c_3,..., c_m$ - коэффициенты модели;"
   ]
  },
  {
   "cell_type": "markdown",
   "id": "surgical-stand",
   "metadata": {},
   "source": [
    "$D_i=1$, если наблюдение принадлежит $i$-ой ($i=2,3,...,m$) фиктивной переменной (градации); $D_i=0$, в остальных случаях."
   ]
  },
  {
   "cell_type": "markdown",
   "id": "latest-trinidad",
   "metadata": {},
   "source": [
    "Рассмотрим в качестве примера анализ зависимости успеваемости студентов (суммарный балл по итогам 1-го семестра  обучения) от уровня  предварительной подготовки (суммарный балл на вступительных экзаменах в вуз) и от пола студентов. "
   ]
  },
  {
   "cell_type": "markdown",
   "id": "center-wildlife",
   "metadata": {},
   "source": [
    "У номинальной переменной \"пол\" наблюдается 2 уровня - мужской и женский. Поэтому можно ввести одну фиктивную переменную, которая принимает значение 1, если пол мужской, и 0, если пол женский. Соответствующее уравнение регрессии примет следующий вид:"
   ]
  },
  {
   "cell_type": "markdown",
   "id": "gorgeous-proof",
   "metadata": {},
   "source": [
    "$ y^`=a+bx+cD$"
   ]
  },
  {
   "cell_type": "markdown",
   "id": "integral-material",
   "metadata": {},
   "source": [
    "где $y^`$ - количественная переменная - суммарный балл по итогам 1-го семестра  обучения;"
   ]
  },
  {
   "cell_type": "markdown",
   "id": "welcome-reviewer",
   "metadata": {},
   "source": [
    "$x$ - количественная переменная - суммарный балл на вступительных экзаменах в вуз;"
   ]
  },
  {
   "cell_type": "markdown",
   "id": "stretch-influence",
   "metadata": {},
   "source": [
    "$D$ - фиктивная переменная - пол респондента."
   ]
  },
  {
   "cell_type": "markdown",
   "id": "dependent-replica",
   "metadata": {},
   "source": [
    "Загрузим данные для примера."
   ]
  },
  {
   "cell_type": "code",
   "execution_count": 31,
   "id": "static-trainer",
   "metadata": {},
   "outputs": [],
   "source": [
    "df = pd.read_csv('dummy.csv',sep=';')"
   ]
  },
  {
   "cell_type": "code",
   "execution_count": 32,
   "id": "charitable-idaho",
   "metadata": {},
   "outputs": [
    {
     "data": {
      "text/html": [
       "<div>\n",
       "<style scoped>\n",
       "    .dataframe tbody tr th:only-of-type {\n",
       "        vertical-align: middle;\n",
       "    }\n",
       "\n",
       "    .dataframe tbody tr th {\n",
       "        vertical-align: top;\n",
       "    }\n",
       "\n",
       "    .dataframe thead th {\n",
       "        text-align: right;\n",
       "    }\n",
       "</style>\n",
       "<table border=\"1\" class=\"dataframe\">\n",
       "  <thead>\n",
       "    <tr style=\"text-align: right;\">\n",
       "      <th></th>\n",
       "      <th>ID</th>\n",
       "      <th>Entrance</th>\n",
       "      <th>Semester</th>\n",
       "      <th>Gender</th>\n",
       "    </tr>\n",
       "  </thead>\n",
       "  <tbody>\n",
       "    <tr>\n",
       "      <th>12</th>\n",
       "      <td>13</td>\n",
       "      <td>25</td>\n",
       "      <td>40</td>\n",
       "      <td>1</td>\n",
       "    </tr>\n",
       "    <tr>\n",
       "      <th>138</th>\n",
       "      <td>139</td>\n",
       "      <td>29</td>\n",
       "      <td>50</td>\n",
       "      <td>0</td>\n",
       "    </tr>\n",
       "    <tr>\n",
       "      <th>69</th>\n",
       "      <td>70</td>\n",
       "      <td>30</td>\n",
       "      <td>50</td>\n",
       "      <td>0</td>\n",
       "    </tr>\n",
       "    <tr>\n",
       "      <th>73</th>\n",
       "      <td>74</td>\n",
       "      <td>30</td>\n",
       "      <td>46</td>\n",
       "      <td>1</td>\n",
       "    </tr>\n",
       "    <tr>\n",
       "      <th>10</th>\n",
       "      <td>11</td>\n",
       "      <td>26</td>\n",
       "      <td>41</td>\n",
       "      <td>1</td>\n",
       "    </tr>\n",
       "  </tbody>\n",
       "</table>\n",
       "</div>"
      ],
      "text/plain": [
       "      ID  Entrance  Semester  Gender\n",
       "12    13        25        40       1\n",
       "138  139        29        50       0\n",
       "69    70        30        50       0\n",
       "73    74        30        46       1\n",
       "10    11        26        41       1"
      ]
     },
     "execution_count": 32,
     "metadata": {},
     "output_type": "execute_result"
    }
   ],
   "source": [
    "df.sample(5)"
   ]
  },
  {
   "cell_type": "code",
   "execution_count": 33,
   "id": "still-spray",
   "metadata": {},
   "outputs": [
    {
     "data": {
      "image/png": "[encoded data removed]",
      "text/plain": [
       "<Figure size 432x288 with 1 Axes>"
      ]
     },
     "metadata": {
      "needs_background": "light"
     },
     "output_type": "display_data"
    }
   ],
   "source": [
    "df.plot.scatter(x='Entrance', y='Semester', s=None, c='red');"
   ]
  },
  {
   "cell_type": "code",
   "execution_count": 34,
   "id": "foster-coffee",
   "metadata": {},
   "outputs": [
    {
     "data": {
      "image/png": "[encoded data removed]",
      "text/plain": [
       "<Figure size 432x288 with 1 Axes>"
      ]
     },
     "metadata": {
      "needs_background": "light"
     },
     "output_type": "display_data"
    },
    {
     "data": {
      "image/png": "[encoded data removed]",
      "text/plain": [
       "<Figure size 432x288 with 1 Axes>"
      ]
     },
     "metadata": {
      "needs_background": "light"
     },
     "output_type": "display_data"
    }
   ],
   "source": [
    "df.groupby('Gender').plot.scatter(x='Entrance', y='Semester', s=None, c='red');"
   ]
  },
  {
   "cell_type": "markdown",
   "id": "funky-mirror",
   "metadata": {},
   "source": [
    "Построим линейную регрессию."
   ]
  },
  {
   "cell_type": "markdown",
   "id": "civil-exercise",
   "metadata": {},
   "source": [
    "Создадим экземпляр класса LinearRegression"
   ]
  },
  {
   "cell_type": "code",
   "execution_count": 35,
   "id": "silent-variation",
   "metadata": {},
   "outputs": [],
   "source": [
    "model = LinearRegression()"
   ]
  },
  {
   "cell_type": "markdown",
   "id": "welsh-pizza",
   "metadata": {},
   "source": [
    "Определим зависимую и независимые переменные."
   ]
  },
  {
   "cell_type": "code",
   "execution_count": 36,
   "id": "eleven-score",
   "metadata": {},
   "outputs": [],
   "source": [
    "X = df[['Entrance','Gender']]\n",
    "y = df['Semester']"
   ]
  },
  {
   "cell_type": "markdown",
   "id": "annual-integrity",
   "metadata": {},
   "source": [
    "Отнесем к тестовому набору 20% выборки."
   ]
  },
  {
   "cell_type": "code",
   "execution_count": 37,
   "id": "random-implement",
   "metadata": {},
   "outputs": [],
   "source": [
    "X_train,X_test,y_train,y_test = train_test_split(X,y,test_size = 0.2)"
   ]
  },
  {
   "cell_type": "markdown",
   "id": "compatible-punch",
   "metadata": {},
   "source": [
    "Обучим модель на обучающем наборе и выведем значения свободного члена и коэффициентов модели."
   ]
  },
  {
   "cell_type": "code",
   "execution_count": 38,
   "id": "incomplete-pressing",
   "metadata": {},
   "outputs": [
    {
     "name": "stdout",
     "output_type": "stream",
     "text": [
      "19.847109751495537\n",
      "[ 1.00719469 -4.05747555]\n"
     ]
    }
   ],
   "source": [
    "model.fit(X_train,y_train)\n",
    "print(model.intercept_)\n",
    "print(model.coef_)"
   ]
  },
  {
   "cell_type": "markdown",
   "id": "experienced-registrar",
   "metadata": {},
   "source": [
    "Проверим прогнозную способность модели на тестовом наборе."
   ]
  },
  {
   "cell_type": "code",
   "execution_count": 39,
   "id": "material-laundry",
   "metadata": {},
   "outputs": [
    {
     "data": {
      "text/plain": [
       "0.8018991555732633"
      ]
     },
     "execution_count": 39,
     "metadata": {},
     "output_type": "execute_result"
    }
   ],
   "source": [
    "model.score(X_test,y_test)"
   ]
  },
  {
   "cell_type": "markdown",
   "id": "considerable-intensity",
   "metadata": {},
   "source": [
    "Точность модели составила 92%. Это очень хороший результат."
   ]
  },
  {
   "cell_type": "markdown",
   "id": "opening-mystery",
   "metadata": {},
   "source": [
    "Представим найденную модель:"
   ]
  },
  {
   "cell_type": "markdown",
   "id": "critical-poultry",
   "metadata": {},
   "source": [
    "$Semester = 23.45 + 0.88*Entrance -4.27*Gender$"
   ]
  },
  {
   "cell_type": "markdown",
   "id": "vulnerable-saint",
   "metadata": {},
   "source": [
    "При прочих равных оценки за семестр, в среднем, на 4.27 балла выше у женщин, чем у мужчин (Gender={0: женщины, 1: мужчины})."
   ]
  },
  {
   "cell_type": "markdown",
   "id": "realistic-effects",
   "metadata": {},
   "source": [
    "### 5. Гребневая регрессия (Ridge regression, $L_2$ Regularization)"
   ]
  },
  {
   "cell_type": "markdown",
   "id": "opened-maximum",
   "metadata": {},
   "source": [
    "Гребневая регрессия является линейной моделью регрессии с регуляризацией, известной как $L_2$-регуляризация."
   ]
  },
  {
   "cell_type": "code",
   "execution_count": 40,
   "id": "liquid-while",
   "metadata": {},
   "outputs": [],
   "source": [
    "rng = np.random.RandomState(1) # seed\n",
    "x = 10 * rng.rand(50)\n",
    "y = np.sin(x) + 0.1 * rng.randn(50)\n",
    "\n",
    "poly_model.fit(x[:, np.newaxis], y)\n",
    "xfit = np.linspace(0, 10, 1000)\n",
    "yfit = poly_model.predict(xfit[:, np.newaxis])"
   ]
  },
  {
   "cell_type": "code",
   "execution_count": 41,
   "id": "wrong-management",
   "metadata": {},
   "outputs": [],
   "source": [
    "def basis_plot(model, title=None):\n",
    "    fig, ax = plt.subplots()\n",
    "    model.fit(x[:, np.newaxis], y)\n",
    "    ax.scatter(x, y)\n",
    "    ax.plot(xfit, model.predict(xfit[:, np.newaxis]))\n",
    "    ax.set(xlabel='x', ylabel='y', ylim=(-1.5, 1.5))\n",
    "    \n",
    "    if title:\n",
    "        ax.set_title(title)"
   ]
  },
  {
   "cell_type": "code",
   "execution_count": 42,
   "id": "deluxe-cathedral",
   "metadata": {},
   "outputs": [
    {
     "data": {
      "image/png": "[encoded data removed]",
      "text/plain": [
       "<Figure size 432x288 with 1 Axes>"
      ]
     },
     "metadata": {
      "needs_background": "light"
     },
     "output_type": "display_data"
    }
   ],
   "source": [
    "model = make_pipeline(PolynomialFeatures(7), Ridge(alpha=0.1))\n",
    "basis_plot(model, title='Гребневая регрессия')"
   ]
  },
  {
   "cell_type": "markdown",
   "id": "identified-mercury",
   "metadata": {},
   "source": [
    "Параметр $α$ (alpha) контролирует сложность модели. В пределе $α→0$ мы получаем стандартную линейную регрессию. В пределе $α→∞$ все индивидуальные проявления модели будут подавлены. Достоинство гребневой регрессии состоит в том, что затраты на ее построение не намного выше, чем на построение линейной регрессии."
   ]
  },
  {
   "cell_type": "markdown",
   "id": "trying-poultry",
   "metadata": {},
   "source": [
    "### 6. Лассо-регрессия (Lasso regression, $L_1$ regularization)"
   ]
  },
  {
   "cell_type": "markdown",
   "id": "liked-avenue",
   "metadata": {},
   "source": [
    "Лассо-регрессия является линейной моделью регрессии с регуляризацией, известной как $L_1$-регуляризация."
   ]
  },
  {
   "cell_type": "code",
   "execution_count": 43,
   "id": "fallen-speaking",
   "metadata": {},
   "outputs": [
    {
     "name": "stderr",
     "output_type": "stream",
     "text": [
      "C:\\Users\\HP\\Anaconda3\\lib\\site-packages\\sklearn\\linear_model\\_coordinate_descent.py:532: ConvergenceWarning: Objective did not converge. You might want to increase the number of iterations. Duality gap: 3.82619138244717, tolerance: 0.002065280097246271\n",
      "  positive)\n"
     ]
    },
    {
     "data": {
      "image/png": "[encoded data removed]",
      "text/plain": [
       "<Figure size 432x288 with 1 Axes>"
      ]
     },
     "metadata": {
      "needs_background": "light"
     },
     "output_type": "display_data"
    }
   ],
   "source": [
    "model = make_pipeline(PolynomialFeatures(7), Lasso(alpha=0.001))\n",
    "basis_plot(model, title='Лассо-регрессия')"
   ]
  },
  {
   "cell_type": "markdown",
   "id": "internal-coating",
   "metadata": {},
   "source": [
    "### 7. Эластичная сеть (Elastic Net regression, $L_1$ and $L_2$ regularization)"
   ]
  },
  {
   "cell_type": "markdown",
   "id": "growing-mayor",
   "metadata": {},
   "source": [
    "Эластичная сеть является линейной моделью регрессии с $L_1$ и $L_2$ регуляризацией."
   ]
  },
  {
   "cell_type": "code",
   "execution_count": 44,
   "id": "lovely-advertiser",
   "metadata": {},
   "outputs": [
    {
     "name": "stderr",
     "output_type": "stream",
     "text": [
      "C:\\Users\\HP\\Anaconda3\\lib\\site-packages\\sklearn\\linear_model\\_coordinate_descent.py:532: ConvergenceWarning: Objective did not converge. You might want to increase the number of iterations. Duality gap: 3.8240101955345978, tolerance: 0.002065280097246271\n",
      "  positive)\n"
     ]
    },
    {
     "data": {
      "image/png": "[encoded data removed]",
      "text/plain": [
       "<Figure size 432x288 with 1 Axes>"
      ]
     },
     "metadata": {
      "needs_background": "light"
     },
     "output_type": "display_data"
    }
   ],
   "source": [
    "model = make_pipeline(PolynomialFeatures(7), ElasticNet(alpha=0.001))\n",
    "basis_plot(model, title='Эластичная сеть')"
   ]
  },
  {
   "cell_type": "markdown",
   "id": "characteristic-austria",
   "metadata": {},
   "source": [
    "## II. Моделирование счетной переменной"
   ]
  },
  {
   "cell_type": "markdown",
   "id": "convenient-running",
   "metadata": {},
   "source": [
    "### 1. Пуассоновская регрессия"
   ]
  },
  {
   "cell_type": "markdown",
   "id": "color-genre",
   "metadata": {},
   "source": [
    "О моделировании счетной переменной:"
   ]
  },
  {
   "cell_type": "markdown",
   "id": "beneficial-whole",
   "metadata": {},
   "source": [
    "https://towardsdatascience.com/an-illustrated-guide-to-the-poisson-regression-model-50cccba15958"
   ]
  },
  {
   "cell_type": "markdown",
   "id": "indian-laptop",
   "metadata": {},
   "source": [
    "Счетные переменные измеряют количество определенных событий за данный промежуток времени."
   ]
  },
  {
   "cell_type": "markdown",
   "id": "central-characterization",
   "metadata": {
    "tags": []
   },
   "source": [
    "Пуассоновская регрессия применяется в случае счетной зависимой переменной. Пуассоновская регрессионная модель подразумевает, что Y имеет пуассоновское распределение и что можно подогнать линейную модель вида:"
   ]
  },
  {
   "cell_type": "markdown",
   "id": "armed-concord",
   "metadata": {},
   "source": [
    "$\\log_{e}(λ)=β_0+\\sum_{j=1}^p β_jX_j$"
   ]
  },
  {
   "cell_type": "markdown",
   "id": "limited-administration",
   "metadata": {},
   "source": [
    "где $λ$ - это среднее (и дисперсия Y)."
   ]
  },
  {
   "cell_type": "markdown",
   "id": "drawn-forwarding",
   "metadata": {},
   "source": [
    "Коды для подгонки Пуассоновской регрессии:"
   ]
  },
  {
   "cell_type": "markdown",
   "id": "desirable-title",
   "metadata": {},
   "source": [
    "https://nbviewer.jupyter.org/urls/umich.box.com/shared/static/ir0bnkup9rywmqd54zvm.ipynb"
   ]
  },
  {
   "cell_type": "markdown",
   "id": "unexpected-locator",
   "metadata": {},
   "source": [
    "Если частота событий $λ$ меняется, можно воспользоваться Пуассоновской регрессией для прогнозирования значений счетной переменной. Смотри математику этого процесса здесь:"
   ]
  },
  {
   "cell_type": "markdown",
   "id": "thick-elite",
   "metadata": {},
   "source": [
    "https://towardsdatascience.com/an-illustrated-guide-to-the-poisson-regression-model-50cccba15958"
   ]
  },
  {
   "cell_type": "markdown",
   "id": "voluntary-commodity",
   "metadata": {},
   "source": [
    "Для демонстрации процесса подгонки пуассоновской регрессионной модели, наряду с некоторыми проблемами, которые могут возникнуть при таком анализе данных, мы используем опубликованные данные о припадках (Breslow, 1993). А именно мы рассмотрим влияние приема лекарств от эпилептических припадков на число припадков, которые случились за 8 недель, прошедших со времени начала лечения. \n",
    "Для пациентов, которые страдали от простых или сложных припадков, были получены данные о возрасте и о числе припадков, произошедших за 8 недель до и после начала лечения. Больные были случайным образом распределены на две группы, которые получали плацебо (placebo) или настоящее лекарство (progabide). Переменная sumY (число припадков за 8 недель после начала лечения) – это зависимая переменная. Тип лечения (Trt), возраст в годах (Age) и число припадков за 8 недель до начала лечения (Base) – это независимые переменные. Возраст и число припадков до начала лечения включены в анализ, поскольку они могут оказывать влияние на зависимую переменную. Нам интересно, есть ли свидетельство в пользу того, что применение лекарства снижает число припадков с учетом эффектов этих ковариат."
   ]
  },
  {
   "cell_type": "markdown",
   "id": "extraordinary-appendix",
   "metadata": {},
   "source": [
    "Описание данных:"
   ]
  },
  {
   "cell_type": "markdown",
   "id": "steady-ethnic",
   "metadata": {},
   "source": [
    "https://vincentarelbundock.github.io/Rdatasets/doc/MASS/epil.html"
   ]
  },
  {
   "cell_type": "markdown",
   "id": "shared-investment",
   "metadata": {},
   "source": [
    "Исходные данные о припадках представлены в csv файле, поэтому их легко прочитать в среде Python:"
   ]
  },
  {
   "cell_type": "code",
   "execution_count": 45,
   "id": "deadly-annex",
   "metadata": {},
   "outputs": [
    {
     "data": {
      "text/html": [
       "<div>\n",
       "<style scoped>\n",
       "    .dataframe tbody tr th:only-of-type {\n",
       "        vertical-align: middle;\n",
       "    }\n",
       "\n",
       "    .dataframe tbody tr th {\n",
       "        vertical-align: top;\n",
       "    }\n",
       "\n",
       "    .dataframe thead th {\n",
       "        text-align: right;\n",
       "    }\n",
       "</style>\n",
       "<table border=\"1\" class=\"dataframe\">\n",
       "  <thead>\n",
       "    <tr style=\"text-align: right;\">\n",
       "      <th></th>\n",
       "      <th>Unnamed: 0</th>\n",
       "      <th>y</th>\n",
       "      <th>trt</th>\n",
       "      <th>base</th>\n",
       "      <th>age</th>\n",
       "      <th>V4</th>\n",
       "      <th>subject</th>\n",
       "      <th>period</th>\n",
       "      <th>lbase</th>\n",
       "      <th>lage</th>\n",
       "    </tr>\n",
       "  </thead>\n",
       "  <tbody>\n",
       "    <tr>\n",
       "      <th>0</th>\n",
       "      <td>1</td>\n",
       "      <td>5</td>\n",
       "      <td>placebo</td>\n",
       "      <td>11</td>\n",
       "      <td>31</td>\n",
       "      <td>0</td>\n",
       "      <td>1</td>\n",
       "      <td>1</td>\n",
       "      <td>-0.756354</td>\n",
       "      <td>0.114204</td>\n",
       "    </tr>\n",
       "    <tr>\n",
       "      <th>1</th>\n",
       "      <td>2</td>\n",
       "      <td>3</td>\n",
       "      <td>placebo</td>\n",
       "      <td>11</td>\n",
       "      <td>31</td>\n",
       "      <td>0</td>\n",
       "      <td>1</td>\n",
       "      <td>2</td>\n",
       "      <td>-0.756354</td>\n",
       "      <td>0.114204</td>\n",
       "    </tr>\n",
       "    <tr>\n",
       "      <th>2</th>\n",
       "      <td>3</td>\n",
       "      <td>3</td>\n",
       "      <td>placebo</td>\n",
       "      <td>11</td>\n",
       "      <td>31</td>\n",
       "      <td>0</td>\n",
       "      <td>1</td>\n",
       "      <td>3</td>\n",
       "      <td>-0.756354</td>\n",
       "      <td>0.114204</td>\n",
       "    </tr>\n",
       "    <tr>\n",
       "      <th>3</th>\n",
       "      <td>4</td>\n",
       "      <td>3</td>\n",
       "      <td>placebo</td>\n",
       "      <td>11</td>\n",
       "      <td>31</td>\n",
       "      <td>1</td>\n",
       "      <td>1</td>\n",
       "      <td>4</td>\n",
       "      <td>-0.756354</td>\n",
       "      <td>0.114204</td>\n",
       "    </tr>\n",
       "    <tr>\n",
       "      <th>4</th>\n",
       "      <td>5</td>\n",
       "      <td>3</td>\n",
       "      <td>placebo</td>\n",
       "      <td>11</td>\n",
       "      <td>30</td>\n",
       "      <td>0</td>\n",
       "      <td>2</td>\n",
       "      <td>1</td>\n",
       "      <td>-0.756354</td>\n",
       "      <td>0.081414</td>\n",
       "    </tr>\n",
       "  </tbody>\n",
       "</table>\n",
       "</div>"
      ],
      "text/plain": [
       "   Unnamed: 0  y      trt  base  age  V4  subject  period     lbase      lage\n",
       "0           1  5  placebo    11   31   0        1       1 -0.756354  0.114204\n",
       "1           2  3  placebo    11   31   0        1       2 -0.756354  0.114204\n",
       "2           3  3  placebo    11   31   0        1       3 -0.756354  0.114204\n",
       "3           4  3  placebo    11   31   1        1       4 -0.756354  0.114204\n",
       "4           5  3  placebo    11   30   0        2       1 -0.756354  0.081414"
      ]
     },
     "execution_count": 45,
     "metadata": {},
     "output_type": "execute_result"
    }
   ],
   "source": [
    "data = pd.read_csv(\"epil.csv\")\n",
    "data.head()"
   ]
  },
  {
   "cell_type": "code",
   "execution_count": 46,
   "id": "ranging-thing",
   "metadata": {},
   "outputs": [
    {
     "data": {
      "text/html": [
       "<div>\n",
       "<style scoped>\n",
       "    .dataframe tbody tr th:only-of-type {\n",
       "        vertical-align: middle;\n",
       "    }\n",
       "\n",
       "    .dataframe tbody tr th {\n",
       "        vertical-align: top;\n",
       "    }\n",
       "\n",
       "    .dataframe thead th {\n",
       "        text-align: right;\n",
       "    }\n",
       "</style>\n",
       "<table border=\"1\" class=\"dataframe\">\n",
       "  <thead>\n",
       "    <tr style=\"text-align: right;\">\n",
       "      <th></th>\n",
       "      <th>base</th>\n",
       "      <th>age</th>\n",
       "      <th>y</th>\n",
       "    </tr>\n",
       "  </thead>\n",
       "  <tbody>\n",
       "    <tr>\n",
       "      <th>count</th>\n",
       "      <td>236.000000</td>\n",
       "      <td>236.000000</td>\n",
       "      <td>236.000000</td>\n",
       "    </tr>\n",
       "    <tr>\n",
       "      <th>mean</th>\n",
       "      <td>31.220339</td>\n",
       "      <td>28.338983</td>\n",
       "      <td>8.254237</td>\n",
       "    </tr>\n",
       "    <tr>\n",
       "      <th>std</th>\n",
       "      <td>26.705051</td>\n",
       "      <td>6.261290</td>\n",
       "      <td>12.346891</td>\n",
       "    </tr>\n",
       "    <tr>\n",
       "      <th>min</th>\n",
       "      <td>6.000000</td>\n",
       "      <td>18.000000</td>\n",
       "      <td>0.000000</td>\n",
       "    </tr>\n",
       "    <tr>\n",
       "      <th>25%</th>\n",
       "      <td>12.000000</td>\n",
       "      <td>23.000000</td>\n",
       "      <td>2.750000</td>\n",
       "    </tr>\n",
       "    <tr>\n",
       "      <th>50%</th>\n",
       "      <td>22.000000</td>\n",
       "      <td>28.000000</td>\n",
       "      <td>4.000000</td>\n",
       "    </tr>\n",
       "    <tr>\n",
       "      <th>75%</th>\n",
       "      <td>41.000000</td>\n",
       "      <td>32.000000</td>\n",
       "      <td>9.000000</td>\n",
       "    </tr>\n",
       "    <tr>\n",
       "      <th>max</th>\n",
       "      <td>151.000000</td>\n",
       "      <td>42.000000</td>\n",
       "      <td>102.000000</td>\n",
       "    </tr>\n",
       "  </tbody>\n",
       "</table>\n",
       "</div>"
      ],
      "text/plain": [
       "             base         age           y\n",
       "count  236.000000  236.000000  236.000000\n",
       "mean    31.220339   28.338983    8.254237\n",
       "std     26.705051    6.261290   12.346891\n",
       "min      6.000000   18.000000    0.000000\n",
       "25%     12.000000   23.000000    2.750000\n",
       "50%     22.000000   28.000000    4.000000\n",
       "75%     41.000000   32.000000    9.000000\n",
       "max    151.000000   42.000000  102.000000"
      ]
     },
     "execution_count": 46,
     "metadata": {},
     "output_type": "execute_result"
    }
   ],
   "source": [
    "data[['base','age','y']].describe()"
   ]
  },
  {
   "cell_type": "code",
   "execution_count": 47,
   "id": "verified-wyoming",
   "metadata": {},
   "outputs": [
    {
     "data": {
      "text/plain": [
       "       trt      \n",
       "count  placebo      112.000000\n",
       "       progabide    124.000000\n",
       "mean   placebo        8.580357\n",
       "       progabide      7.959677\n",
       "std    placebo       10.369427\n",
       "       progabide     13.929789\n",
       "min    placebo        0.000000\n",
       "       progabide      0.000000\n",
       "25%    placebo        3.000000\n",
       "       progabide      2.000000\n",
       "50%    placebo        5.000000\n",
       "       progabide      4.000000\n",
       "75%    placebo       12.000000\n",
       "       progabide      8.000000\n",
       "max    placebo       76.000000\n",
       "       progabide    102.000000\n",
       "dtype: float64"
      ]
     },
     "execution_count": 47,
     "metadata": {},
     "output_type": "execute_result"
    }
   ],
   "source": [
    "grouped_data = data.groupby(['trt'])\n",
    "grouped_data['y'].describe().unstack()"
   ]
  },
  {
   "cell_type": "markdown",
   "id": "married-learning",
   "metadata": {},
   "source": [
    "Мы можем начать с графика, который показывает, как базовое количество приступов связано с количеством приступов в каждом из 4 последующих периодов. Ясно, что у субъектов, у которых было больше приступов в базовом периоде, также было больше приступов в последующие периоды."
   ]
  },
  {
   "cell_type": "code",
   "execution_count": 48,
   "id": "aggregate-maintenance",
   "metadata": {
    "tags": []
   },
   "outputs": [
    {
     "data": {
      "image/png": "[encoded data removed]",
      "text/plain": [
       "<Figure size 432x288 with 1 Axes>"
      ]
     },
     "metadata": {
      "needs_background": "light"
     },
     "output_type": "display_data"
    }
   ],
   "source": [
    "for period in range(1,5):\n",
    "    ii = data['period'] == period\n",
    "    x = np.sqrt(data['base'].loc[ii])\n",
    "    y = np.sqrt(data['y'].loc[ii])\n",
    "    plt.plot(x, y, 'o', color='rgbc'[period-1], label=str(period), alpha=0.5)\n",
    "plt.xlabel(\"Базовый период\", size=17)\n",
    "plt.ylabel(\"Последующие периоды\", size=17)\n",
    "plt.ylim(ymin=-0.5)\n",
    "ha, lb = plt.gca().get_legend_handles_labels()\n",
    "leg = plt.figlegend(ha, lb, \"center right\", numpoints=1, handletextpad=0.0001)\n",
    "leg.draw_frame(False)"
   ]
  },
  {
   "cell_type": "markdown",
   "id": "adult-location",
   "metadata": {},
   "source": [
    "GEE учитывает зависимость между наблюдениями через задание корреляционной структуры."
   ]
  },
  {
   "cell_type": "markdown",
   "id": "dietary-shock",
   "metadata": {},
   "source": [
    "Построим разновидность обобщенной линейной модели (GEE model) - Пуассоновскую регрессию. Предположим независимую корреляционную структуру:"
   ]
  },
  {
   "cell_type": "code",
   "execution_count": 49,
   "id": "expressed-princeton",
   "metadata": {},
   "outputs": [
    {
     "name": "stdout",
     "output_type": "stream",
     "text": [
      "                               GEE Regression Results                              \n",
      "===================================================================================\n",
      "Dep. Variable:                           y   No. Observations:                  236\n",
      "Model:                                 GEE   No. clusters:                       59\n",
      "Method:                        Generalized   Min. cluster size:                   4\n",
      "                      Estimating Equations   Max. cluster size:                   4\n",
      "Family:                            Poisson   Mean cluster size:                 4.0\n",
      "Dependence structure:         Independence   Num. iterations:                     2\n",
      "Date:                     Thu, 27 Jan 2022   Scale:                           1.000\n",
      "Covariance type:                    robust   Time:                         18:15:16\n",
      "====================================================================================\n",
      "                       coef    std err          z      P>|z|      [0.025      0.975]\n",
      "------------------------------------------------------------------------------------\n",
      "Intercept            0.5730      0.361      1.589      0.112      -0.134       1.280\n",
      "trt[T.progabide]    -0.1519      0.171     -0.888      0.375      -0.487       0.183\n",
      "age                  0.0223      0.011      1.960      0.050    2.11e-06       0.045\n",
      "base                 0.0226      0.001     18.451      0.000       0.020       0.025\n",
      "==============================================================================\n",
      "Skew:                          3.7823   Kurtosis:                      28.6672\n",
      "Centered skew:                 2.7597   Centered kurtosis:             21.9865\n",
      "==============================================================================\n"
     ]
    }
   ],
   "source": [
    "fam = Poisson()\n",
    "ind = Independence()\n",
    "model1 = GEE.from_formula(\"y ~ age + trt + base\", \"subject\", data, cov_struct=ind, family=fam)\n",
    "result1 = model1.fit()\n",
    "print(result1.summary())"
   ]
  },
  {
   "cell_type": "markdown",
   "id": "nonprofit-franchise",
   "metadata": {},
   "source": [
    "В соответствии с диаграммой рассеяния, показанной выше, у субъектов с большим количеством исходных припадков в последующий период наблюдается больше припадков. Стандартное отклонение числа припадков в базовом периоде составляет 26,7, поэтому у субъекта, у которого на 1 стандартное отклонение больше среднее число припадков в течение базового периода, в среднем в exp(26,7 * 0,0226) = 1,7 раза больше припадков в течение периода наблюдения (по сравнению с субъектом, число пипадков у которого в базовом периоде равно среднему значению). Существует также положительная связь между возрастом и количеством приступов после лечения: с каждым последующим десятилетием возраста в exp(10 * 0,0223) = 1,25 раза больше приступов, по сравнению со средним возрастом. У субъектов, которые подвергались лечению, меньше приступов, но нет статистических доказательств эффекта лечения."
   ]
  },
  {
   "cell_type": "markdown",
   "id": "oriented-persian",
   "metadata": {},
   "source": [
    "В пуассоновской регрессии зависимая переменная моделируется как логарифм условного среднего $\\log_{e}(λ)$. Регрессионный коэффициент для возраста, равный 0.0223, показывает, что каждый дополнительный год возраста при постоянных значениях числа припадков до лечения и способа лечения сопряжен с увеличением логарифма среднего значения числа припадков на 0.02. Поскольку не бывает нулевого возраста и никто из участников эксперимента не имел нулевого числа припадков до лечения, свободный коэффициент не имеет смысла.\n",
    "Обычно гораздо проще интерпретировать регрессионные коэффициенты, когда они выражены в исходных единицах зависимой переменной (число припадков, а не логарифм этого числа). Для этого коэффициенты нужно потенцировать:"
   ]
  },
  {
   "cell_type": "code",
   "execution_count": 50,
   "id": "collect-seating",
   "metadata": {},
   "outputs": [
    {
     "name": "stdout",
     "output_type": "stream",
     "text": [
      "Intercept           0.573044\n",
      "trt[T.progabide]   -0.151880\n",
      "age                 0.022348\n",
      "base                0.022635\n",
      "dtype: float64\n"
     ]
    }
   ],
   "source": [
    "print(result1.params)"
   ]
  },
  {
   "cell_type": "code",
   "execution_count": 51,
   "id": "first-lighting",
   "metadata": {},
   "outputs": [
    {
     "name": "stdout",
     "output_type": "stream",
     "text": [
      "Intercept           1.773657\n",
      "trt[T.progabide]    0.859091\n",
      "age                 1.022599\n",
      "base                1.022893\n",
      "dtype: float64\n"
     ]
    }
   ],
   "source": [
    "print(np.exp(result1.params))"
   ]
  },
  {
   "cell_type": "markdown",
   "id": "monthly-feeding",
   "metadata": {},
   "source": [
    "Теперь видно, что увеличение возраста на один год увеличивает число припадков в 1.023 раза. Это значит, что старший возраст сопряжен с большим числом припадков. Более важно, что изменение типа лечения на единицу (то есть переход от плацебо к настоящему лекарству) уменьшает число припадков в 0.86 раза. Можно ожидать снижения числа припадков на 14% у пациентов, принимающих настоящее лекарство, по сравнению с теми, кто принимает плацебо, при постоянных значениях возраста и числа припадков до лечения.\n",
    "Важно помнить, что, как и экспоненциальные параметры в логистической регрессии, экспоненциальные параметры в пуассоновской регрессии оказывают мультипликативный, а не аддитивный эффект на зависимую переменную. Так же, как и для логистической регрессии, нужно проверить модель на наличие избыточной дисперсии."
   ]
  },
  {
   "cell_type": "markdown",
   "id": "brief-generic",
   "metadata": {},
   "source": [
    "### 2. Отрицательная биномиальная регрессия (Negative Binomial Regression, NB model)"
   ]
  },
  {
   "cell_type": "markdown",
   "id": "lined-devil",
   "metadata": {},
   "source": [
    "https://towardsdatascience.com/negative-binomial-regression-f99031bb25b4"
   ]
  },
  {
   "cell_type": "markdown",
   "id": "nervous-retirement",
   "metadata": {},
   "source": [
    "Часто дисперсия превышает среднее значение. Это свойство называется избыточной дисперсией. Иногда дисперсия меньше среднего, тогда наблюдается недостаточная дисперсия. В таких случаях нужно использовать регрессионную модель, которая не будет требовать выполнения условия, необходимого для построения пуассоновской регрессии: дисперсия = среднее."
   ]
  },
  {
   "cell_type": "markdown",
   "id": "historic-satisfaction",
   "metadata": {},
   "source": [
    "Отрицательная биномиальная регрессия (Negative Binomial Regression, NB model) - одна из таких моделей."
   ]
  },
  {
   "cell_type": "markdown",
   "id": "compatible-grade",
   "metadata": {},
   "source": [
    "Цель нашей модели - спрогнозировать количество велосипедистов, пересекающих Бруклинский мост в любой день."
   ]
  },
  {
   "cell_type": "markdown",
   "id": "relative-aside",
   "metadata": {},
   "source": [
    "Воспользуемся NB моделью, а верней, ее частным случаем - NB2 моделью."
   ]
  },
  {
   "cell_type": "markdown",
   "id": "thorough-supplement",
   "metadata": {},
   "source": [
    "Статегия NB2 модели:\n",
    "* ШАГ 1: Постройте Пуассоновскую регрессионную модель на наборе данных. Это даст нам вектор значений λ.\n",
    "* ШАГ 2: Постройте стандартную линейную регрессию на наборе данных. Это даст нам значение α.\n",
    "* ШАГ 3: Используйте α из ШАГА 2, чтобы построить NB2 модель на наборе данных.\n",
    "* ШАГ 4: Используйте построенную NB2 модель для прогнозирования ожидаемого значения счетной переменной по набору тестовых данных.\n",
    "* ШАГ 5: Проверьте соответствие модели NB2 исходным данным."
   ]
  },
  {
   "cell_type": "markdown",
   "id": "seeing-injection",
   "metadata": {},
   "source": [
    "Подробней смотри: https://towardsdatascience.com/negative-binomial-regression-f99031bb25b4"
   ]
  },
  {
   "cell_type": "code",
   "execution_count": null,
   "id": "advised-zealand",
   "metadata": {
    "tags": []
   },
   "outputs": [],
   "source": []
  }
 ],
 "metadata": {
  "kernelspec": {
   "display_name": "Python 3",
   "language": "python",
   "name": "python3"
  },
  "language_info": {
   "codemirror_mode": {
    "name": "ipython",
    "version": 3
   },
   "file_extension": ".py",
   "mimetype": "text/x-python",
   "name": "python",
   "nbconvert_exporter": "python",
   "pygments_lexer": "ipython3",
   "version": "3.7.4"
  }
 },
 "nbformat": 4,
 "nbformat_minor": 5
}
