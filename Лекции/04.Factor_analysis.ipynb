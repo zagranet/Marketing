{
 "cells": [
  {
   "cell_type": "markdown",
   "id": "determined-substance",
   "metadata": {},
   "source": [
    "# Лекция 4. Понижение размерности признаков"
   ]
  },
  {
   "cell_type": "markdown",
   "id": "outdoor-command",
   "metadata": {},
   "source": [
    "Загрузим необходимые библиотеки:"
   ]
  },
  {
   "cell_type": "code",
   "execution_count": 1,
   "id": "classified-packaging",
   "metadata": {
    "collapsed": false,
    "editable": true,
    "jupyter": {
     "outputs_hidden": false
    }
   },
   "outputs": [],
   "source": [
    "import os\n",
    "import numpy as np\n",
    "import pandas as pd\n",
    "from sklearn.decomposition import PCA\n",
    "from sklearn.decomposition import FactorAnalysis\n",
    "from pandas.plotting import scatter_matrix\n",
    "from scipy import stats\n",
    "import math\n",
    "from sklearn import preprocessing\n",
    "import matplotlib\n",
    "import matplotlib.pyplot as plt\n",
    "import seaborn as sns; sns.set()\n",
    "matplotlib.style.use('ggplot')\n",
    "%matplotlib inline"
   ]
  },
  {
   "cell_type": "code",
   "execution_count": 2,
   "id": "third-america",
   "metadata": {},
   "outputs": [],
   "source": [
    "os.chdir(\"C:/Users/HP/Documents/analysis/Marketing/data/\")"
   ]
  },
  {
   "cell_type": "markdown",
   "id": "honey-payment",
   "metadata": {},
   "source": [
    "## Метод главных компонент (principal component analysis, PCA)"
   ]
  },
  {
   "cell_type": "markdown",
   "id": "twenty-palestine",
   "metadata": {},
   "source": [
    "Теория:\n",
    "* https://medium.com/@ns2586/detecting-the-fault-line-using-principal-component-analysis-pca-7d5d265336a3"
   ]
  },
  {
   "cell_type": "markdown",
   "id": "statistical-survey",
   "metadata": {},
   "source": [
    "Метод главных компонент — быстрый и гибкий метод машинного обучения без учителя, предназначенный для понижения размерности данных."
   ]
  },
  {
   "cell_type": "markdown",
   "id": "suffering-reward",
   "metadata": {},
   "source": [
    "PCA представляет собой алгоритм понижения размерности, но он может быть также удобен в качестве инструмента визуализации, фильтрации шума, выделения и проектирования признаков, а также многого другого."
   ]
  },
  {
   "cell_type": "markdown",
   "id": "running-holiday",
   "metadata": {},
   "source": [
    "Рассмотрим двумерный набор данных из 200 точек."
   ]
  },
  {
   "cell_type": "code",
   "execution_count": 3,
   "id": "exempt-omaha",
   "metadata": {},
   "outputs": [
    {
     "data": {
      "image/png": "[encoded data removed]",
      "text/plain": [
       "<Figure size 432x288 with 1 Axes>"
      ]
     },
     "metadata": {
      "needs_background": "light"
     },
     "output_type": "display_data"
    }
   ],
   "source": [
    "rng = np.random.RandomState(1)\n",
    "X = np.dot(rng.rand(2, 2), rng.randn(2, 200)).T\n",
    "plt.scatter(X[:, 0], X[:, 1])\n",
    "plt.axis('equal');"
   ]
  },
  {
   "cell_type": "markdown",
   "id": "disabled-paper",
   "metadata": {},
   "source": [
    "Визуально очевидно, что зависимость между величинами x и y практически линейная."
   ]
  },
  {
   "cell_type": "markdown",
   "id": "eight-scout",
   "metadata": {},
   "source": [
    "Задача машинного обучения без учителя состоит в выяснении зависимости между величинами x и y, а не в предсказании значений величины y по значениям величины x."
   ]
  },
  {
   "cell_type": "markdown",
   "id": "monthly-section",
   "metadata": {},
   "source": [
    "В методе главных компонент выполняется количественная оценка этой зависимости путем нахождения списка главных осей координат (principal axes) данных и их использования для описания набора данных. Выполнить это с помощью оценивателя PCA из библиотеки Scikit-Learn можно следующим образом:"
   ]
  },
  {
   "cell_type": "code",
   "execution_count": 4,
   "id": "female-powder",
   "metadata": {
    "editable": true
   },
   "outputs": [
    {
     "data": {
      "text/plain": [
       "PCA(n_components=2)"
      ]
     },
     "execution_count": 4,
     "metadata": {},
     "output_type": "execute_result"
    }
   ],
   "source": [
    "pca = PCA(n_components=2)\n",
    "pca.fit(X)"
   ]
  },
  {
   "cell_type": "markdown",
   "id": "abandoned-haven",
   "metadata": {},
   "source": [
    "При обучении алгоритм определяет некоторые относящиеся к данным величины, самые важные из них — компоненты и объяснимая дисперсия (explained variance):"
   ]
  },
  {
   "cell_type": "code",
   "execution_count": 5,
   "id": "elect-wrestling",
   "metadata": {
    "collapsed": false,
    "editable": true,
    "jupyter": {
     "outputs_hidden": false
    }
   },
   "outputs": [
    {
     "name": "stdout",
     "output_type": "stream",
     "text": [
      "[[-0.94446029 -0.32862557]\n",
      " [-0.32862557  0.94446029]]\n"
     ]
    }
   ],
   "source": [
    "print(pca.components_)"
   ]
  },
  {
   "cell_type": "code",
   "execution_count": 6,
   "id": "persistent-dispute",
   "metadata": {
    "editable": true
   },
   "outputs": [
    {
     "name": "stdout",
     "output_type": "stream",
     "text": [
      "[0.7625315 0.0184779]\n"
     ]
    }
   ],
   "source": [
    "print(pca.explained_variance_)"
   ]
  },
  {
   "cell_type": "markdown",
   "id": "viral-titanium",
   "metadata": {},
   "source": [
    "Чтобы понять смысл этих чисел, визуализируем их в виде векторов над входными данными, используя компоненты для задания направления векторов, а объяснимую дисперсию — в качестве квадратов их длин:"
   ]
  },
  {
   "cell_type": "code",
   "execution_count": 7,
   "id": "welcome-desire",
   "metadata": {
    "collapsed": false,
    "editable": true,
    "jupyter": {
     "outputs_hidden": false
    }
   },
   "outputs": [
    {
     "data": {
      "image/png": "[encoded data removed]",
      "text/plain": [
       "<Figure size 432x288 with 1 Axes>"
      ]
     },
     "metadata": {
      "needs_background": "light"
     },
     "output_type": "display_data"
    }
   ],
   "source": [
    "def draw_vector(v0, v1, ax=None):\n",
    "    ax = ax or plt.gca()\n",
    "    arrowprops=dict(arrowstyle='->',\n",
    "                    linewidth=2,\n",
    "                    shrinkA=0, shrinkB=0)\n",
    "    ax.annotate('', v1, v0, arrowprops=arrowprops)\n",
    "\n",
    "# plot data\n",
    "plt.scatter(X[:, 0], X[:, 1], alpha=0.2)\n",
    "for length, vector in zip(pca.explained_variance_, pca.components_):\n",
    "    v = vector * 3 * np.sqrt(length)\n",
    "    draw_vector(pca.mean_, pca.mean_ + v)\n",
    "plt.axis('equal');"
   ]
  },
  {
   "cell_type": "markdown",
   "id": "norwegian-sympathy",
   "metadata": {},
   "source": [
    "Эти векторы отражают главные оси координат данных, а показанная на рисунке выше длина соответствует «важности» роли данной оси при описании распределения данных, точнее говоря, это мера дисперсии данных при проекции на эту ось. Проекции точек данных на главные оси и есть главные компоненты данных."
   ]
  },
  {
   "cell_type": "markdown",
   "id": "sensitive-batch",
   "metadata": {},
   "source": [
    "Переход от осей координат данных к главным осям представляет собой аффинное преобразование (affine transformation). По существу, это значит, что оно состоит из сдвига (translation), вращения (rotation) и пропорционального масштабирования (uniform scaling)."
   ]
  },
  {
   "cell_type": "markdown",
   "id": "third-sacrifice",
   "metadata": {},
   "source": [
    "### PCA как метод понижения размерности"
   ]
  },
  {
   "cell_type": "markdown",
   "id": "ceramic-oliver",
   "metadata": {},
   "source": [
    "Использование метода PCA для понижения размерности включает обнуление одной или нескольких из наименьших главных компонент, в результате чего данные проецируются на пространство меньшей размерности с сохранением максимальной дисперсии данных."
   ]
  },
  {
   "cell_type": "markdown",
   "id": "checked-revolution",
   "metadata": {},
   "source": [
    "Вот пример использования PCA в качестве понижающего размерность преобразования:"
   ]
  },
  {
   "cell_type": "code",
   "execution_count": 8,
   "id": "parental-marker",
   "metadata": {
    "editable": true
   },
   "outputs": [
    {
     "name": "stdout",
     "output_type": "stream",
     "text": [
      "original shape:    (200, 2)\n",
      "transformed shape: (200, 1)\n"
     ]
    }
   ],
   "source": [
    "pca = PCA(n_components=1)\n",
    "pca.fit(X)\n",
    "X_pca = pca.transform(X)\n",
    "print(\"original shape:   \", X.shape)\n",
    "print(\"transformed shape:\", X_pca.shape)"
   ]
  },
  {
   "cell_type": "markdown",
   "id": "subsequent-agreement",
   "metadata": {},
   "source": [
    "Преобразованные данные стали одномерными. Для лучшего понимания эффекта этого понижения размерности можно выполнить обратное преобразование этих данных и нарисовать их рядом с исходными."
   ]
  },
  {
   "cell_type": "code",
   "execution_count": 9,
   "id": "increased-leather",
   "metadata": {
    "editable": true
   },
   "outputs": [
    {
     "data": {
      "image/png": "[encoded data removed]",
      "text/plain": [
       "<Figure size 432x288 with 1 Axes>"
      ]
     },
     "metadata": {
      "needs_background": "light"
     },
     "output_type": "display_data"
    }
   ],
   "source": [
    "X_new = pca.inverse_transform(X_pca)\n",
    "plt.scatter(X[:, 0], X[:, 1], alpha=0.2)\n",
    "plt.scatter(X_new[:, 0], X_new[:, 1], alpha=0.8)\n",
    "plt.axis('equal');"
   ]
  },
  {
   "cell_type": "markdown",
   "id": "delayed-tennessee",
   "metadata": {},
   "source": [
    "Более светлые точки — исходные данные, а более темные — спроецированная версия. Из рисунка становится понятно, что означает понижение размерности с помощью PCA: информация по наименее важной главной оси/осям координат уничтожается и остается только компонента (-ы) данных с максимальной дисперсией. Отсекаемая часть дисперсии (пропорциональная разбросу точек рядом с линией, показанному на рисунке) является приближенной мерой того, сколько «информации» отбрасывается при этом понижении размерности."
   ]
  },
  {
   "cell_type": "markdown",
   "id": "endless-parade",
   "metadata": {},
   "source": [
    "Факторный анализ\n",
    "=================="
   ]
  },
  {
   "cell_type": "markdown",
   "id": "liquid-estonia",
   "metadata": {},
   "source": [
    "## Пример факторного анализа поведения самцов корюшки"
   ]
  },
  {
   "cell_type": "markdown",
   "id": "complicated-maine",
   "metadata": {},
   "source": [
    "Будем анализировать поведение самцов корюшки.\n",
    "\n",
    "LUNGES Количество нападений (удары) на модель самца.<br>\n",
    "BITES Количество нападений (укусы) на модель самца.<br>\n",
    "ZIGZAGS\tПлавание зигзагом, которое является частью поведения, направленного на привлечение самок.<br>\n",
    "NEST Действия, связанные с построением гнезда.<br>\n",
    "SPINES Число раз, когда топорщился колючий верхний плавник.<br>\n",
    "DNEST Суммарная длительность времени, проведенного за построением гнезда.<br>\n",
    "BOUT Количество элементов поведения, характеризующих готовность к схватке.<br>"
   ]
  },
  {
   "cell_type": "code",
   "execution_count": 10,
   "id": "superb-excess",
   "metadata": {},
   "outputs": [
    {
     "data": {
      "text/html": [
       "<div>\n",
       "<style scoped>\n",
       "    .dataframe tbody tr th:only-of-type {\n",
       "        vertical-align: middle;\n",
       "    }\n",
       "\n",
       "    .dataframe tbody tr th {\n",
       "        vertical-align: top;\n",
       "    }\n",
       "\n",
       "    .dataframe thead th {\n",
       "        text-align: right;\n",
       "    }\n",
       "</style>\n",
       "<table border=\"1\" class=\"dataframe\">\n",
       "  <thead>\n",
       "    <tr style=\"text-align: right;\">\n",
       "      <th></th>\n",
       "      <th>LUNGES</th>\n",
       "      <th>BITES</th>\n",
       "      <th>ZIGZAGS</th>\n",
       "      <th>NEST</th>\n",
       "      <th>SPINES</th>\n",
       "      <th>DNEST</th>\n",
       "      <th>BOUT</th>\n",
       "      <th>Unnamed: 7</th>\n",
       "      <th>Unnamed: 8</th>\n",
       "      <th>Unnamed: 9</th>\n",
       "      <th>Unnamed: 10</th>\n",
       "      <th>Unnamed: 11</th>\n",
       "      <th>Unnamed: 12</th>\n",
       "      <th>Unnamed: 13</th>\n",
       "      <th>Unnamed: 14</th>\n",
       "      <th>Unnamed: 15</th>\n",
       "      <th>Unnamed: 16</th>\n",
       "      <th>Unnamed: 17</th>\n",
       "      <th>Unnamed: 18</th>\n",
       "    </tr>\n",
       "  </thead>\n",
       "  <tbody>\n",
       "    <tr>\n",
       "      <th>0</th>\n",
       "      <td>79.0</td>\n",
       "      <td>25.0</td>\n",
       "      <td>0.0</td>\n",
       "      <td>0.0</td>\n",
       "      <td>15.0</td>\n",
       "      <td>0.0</td>\n",
       "      <td>45.0</td>\n",
       "      <td>NaN</td>\n",
       "      <td>NaN</td>\n",
       "      <td>NaN</td>\n",
       "      <td>NaN</td>\n",
       "      <td>NaN</td>\n",
       "      <td>NaN</td>\n",
       "      <td>NaN</td>\n",
       "      <td>NaN</td>\n",
       "      <td>NaN</td>\n",
       "      <td>NaN</td>\n",
       "      <td>NaN</td>\n",
       "      <td>NaN</td>\n",
       "    </tr>\n",
       "    <tr>\n",
       "      <th>1</th>\n",
       "      <td>136.0</td>\n",
       "      <td>58.0</td>\n",
       "      <td>6.0</td>\n",
       "      <td>0.0</td>\n",
       "      <td>15.0</td>\n",
       "      <td>0.0</td>\n",
       "      <td>148.0</td>\n",
       "      <td>NaN</td>\n",
       "      <td>NaN</td>\n",
       "      <td>NaN</td>\n",
       "      <td>NaN</td>\n",
       "      <td>NaN</td>\n",
       "      <td>NaN</td>\n",
       "      <td>NaN</td>\n",
       "      <td>NaN</td>\n",
       "      <td>NaN</td>\n",
       "      <td>NaN</td>\n",
       "      <td>NaN</td>\n",
       "      <td>NaN</td>\n",
       "    </tr>\n",
       "    <tr>\n",
       "      <th>2</th>\n",
       "      <td>115.0</td>\n",
       "      <td>30.0</td>\n",
       "      <td>2.0</td>\n",
       "      <td>1.0</td>\n",
       "      <td>9.0</td>\n",
       "      <td>5.0</td>\n",
       "      <td>29.0</td>\n",
       "      <td>NaN</td>\n",
       "      <td>NaN</td>\n",
       "      <td>NaN</td>\n",
       "      <td>NaN</td>\n",
       "      <td>NaN</td>\n",
       "      <td>NaN</td>\n",
       "      <td>NaN</td>\n",
       "      <td>NaN</td>\n",
       "      <td>NaN</td>\n",
       "      <td>NaN</td>\n",
       "      <td>NaN</td>\n",
       "      <td>NaN</td>\n",
       "    </tr>\n",
       "    <tr>\n",
       "      <th>3</th>\n",
       "      <td>129.0</td>\n",
       "      <td>139.0</td>\n",
       "      <td>16.0</td>\n",
       "      <td>0.0</td>\n",
       "      <td>22.0</td>\n",
       "      <td>0.0</td>\n",
       "      <td>69.0</td>\n",
       "      <td>NaN</td>\n",
       "      <td>NaN</td>\n",
       "      <td>NaN</td>\n",
       "      <td>NaN</td>\n",
       "      <td>NaN</td>\n",
       "      <td>NaN</td>\n",
       "      <td>NaN</td>\n",
       "      <td>NaN</td>\n",
       "      <td>NaN</td>\n",
       "      <td>NaN</td>\n",
       "      <td>NaN</td>\n",
       "      <td>NaN</td>\n",
       "    </tr>\n",
       "    <tr>\n",
       "      <th>4</th>\n",
       "      <td>120.0</td>\n",
       "      <td>58.0</td>\n",
       "      <td>15.0</td>\n",
       "      <td>15.0</td>\n",
       "      <td>14.0</td>\n",
       "      <td>82.0</td>\n",
       "      <td>9.0</td>\n",
       "      <td>NaN</td>\n",
       "      <td>NaN</td>\n",
       "      <td>NaN</td>\n",
       "      <td>NaN</td>\n",
       "      <td>NaN</td>\n",
       "      <td>NaN</td>\n",
       "      <td>NaN</td>\n",
       "      <td>NaN</td>\n",
       "      <td>NaN</td>\n",
       "      <td>NaN</td>\n",
       "      <td>NaN</td>\n",
       "      <td>NaN</td>\n",
       "    </tr>\n",
       "  </tbody>\n",
       "</table>\n",
       "</div>"
      ],
      "text/plain": [
       "   LUNGES  BITES  ZIGZAGS  NEST  SPINES  DNEST   BOUT  Unnamed: 7  Unnamed: 8  \\\n",
       "0    79.0   25.0      0.0   0.0    15.0    0.0   45.0         NaN         NaN   \n",
       "1   136.0   58.0      6.0   0.0    15.0    0.0  148.0         NaN         NaN   \n",
       "2   115.0   30.0      2.0   1.0     9.0    5.0   29.0         NaN         NaN   \n",
       "3   129.0  139.0     16.0   0.0    22.0    0.0   69.0         NaN         NaN   \n",
       "4   120.0   58.0     15.0  15.0    14.0   82.0    9.0         NaN         NaN   \n",
       "\n",
       "   Unnamed: 9  Unnamed: 10  Unnamed: 11  Unnamed: 12  Unnamed: 13  \\\n",
       "0         NaN          NaN          NaN          NaN          NaN   \n",
       "1         NaN          NaN          NaN          NaN          NaN   \n",
       "2         NaN          NaN          NaN          NaN          NaN   \n",
       "3         NaN          NaN          NaN          NaN          NaN   \n",
       "4         NaN          NaN          NaN          NaN          NaN   \n",
       "\n",
       "   Unnamed: 14  Unnamed: 15  Unnamed: 16  Unnamed: 17  Unnamed: 18  \n",
       "0          NaN          NaN          NaN          NaN          NaN  \n",
       "1          NaN          NaN          NaN          NaN          NaN  \n",
       "2          NaN          NaN          NaN          NaN          NaN  \n",
       "3          NaN          NaN          NaN          NaN          NaN  \n",
       "4          NaN          NaN          NaN          NaN          NaN  "
      ]
     },
     "execution_count": 10,
     "metadata": {},
     "output_type": "execute_result"
    }
   ],
   "source": [
    "df = pd.read_csv('stickleback.csv', sep=';', decimal=',')\n",
    "df.head()"
   ]
  },
  {
   "cell_type": "code",
   "execution_count": 11,
   "id": "italic-edition",
   "metadata": {},
   "outputs": [
    {
     "data": {
      "text/html": [
       "<div>\n",
       "<style scoped>\n",
       "    .dataframe tbody tr th:only-of-type {\n",
       "        vertical-align: middle;\n",
       "    }\n",
       "\n",
       "    .dataframe tbody tr th {\n",
       "        vertical-align: top;\n",
       "    }\n",
       "\n",
       "    .dataframe thead th {\n",
       "        text-align: right;\n",
       "    }\n",
       "</style>\n",
       "<table border=\"1\" class=\"dataframe\">\n",
       "  <thead>\n",
       "    <tr style=\"text-align: right;\">\n",
       "      <th></th>\n",
       "      <th>LUNGES</th>\n",
       "      <th>BITES</th>\n",
       "      <th>ZIGZAGS</th>\n",
       "      <th>NEST</th>\n",
       "      <th>SPINES</th>\n",
       "      <th>DNEST</th>\n",
       "      <th>BOUT</th>\n",
       "    </tr>\n",
       "  </thead>\n",
       "  <tbody>\n",
       "    <tr>\n",
       "      <th>0</th>\n",
       "      <td>79.0</td>\n",
       "      <td>25.0</td>\n",
       "      <td>0.0</td>\n",
       "      <td>0.0</td>\n",
       "      <td>15.0</td>\n",
       "      <td>0.0</td>\n",
       "      <td>45.0</td>\n",
       "    </tr>\n",
       "    <tr>\n",
       "      <th>1</th>\n",
       "      <td>136.0</td>\n",
       "      <td>58.0</td>\n",
       "      <td>6.0</td>\n",
       "      <td>0.0</td>\n",
       "      <td>15.0</td>\n",
       "      <td>0.0</td>\n",
       "      <td>148.0</td>\n",
       "    </tr>\n",
       "    <tr>\n",
       "      <th>2</th>\n",
       "      <td>115.0</td>\n",
       "      <td>30.0</td>\n",
       "      <td>2.0</td>\n",
       "      <td>1.0</td>\n",
       "      <td>9.0</td>\n",
       "      <td>5.0</td>\n",
       "      <td>29.0</td>\n",
       "    </tr>\n",
       "    <tr>\n",
       "      <th>3</th>\n",
       "      <td>129.0</td>\n",
       "      <td>139.0</td>\n",
       "      <td>16.0</td>\n",
       "      <td>0.0</td>\n",
       "      <td>22.0</td>\n",
       "      <td>0.0</td>\n",
       "      <td>69.0</td>\n",
       "    </tr>\n",
       "    <tr>\n",
       "      <th>4</th>\n",
       "      <td>120.0</td>\n",
       "      <td>58.0</td>\n",
       "      <td>15.0</td>\n",
       "      <td>15.0</td>\n",
       "      <td>14.0</td>\n",
       "      <td>82.0</td>\n",
       "      <td>9.0</td>\n",
       "    </tr>\n",
       "  </tbody>\n",
       "</table>\n",
       "</div>"
      ],
      "text/plain": [
       "   LUNGES  BITES  ZIGZAGS  NEST  SPINES  DNEST   BOUT\n",
       "0    79.0   25.0      0.0   0.0    15.0    0.0   45.0\n",
       "1   136.0   58.0      6.0   0.0    15.0    0.0  148.0\n",
       "2   115.0   30.0      2.0   1.0     9.0    5.0   29.0\n",
       "3   129.0  139.0     16.0   0.0    22.0    0.0   69.0\n",
       "4   120.0   58.0     15.0  15.0    14.0   82.0    9.0"
      ]
     },
     "execution_count": 11,
     "metadata": {},
     "output_type": "execute_result"
    }
   ],
   "source": [
    "df = df.filter(regex='^(?!.*Unnamed).*$')\n",
    "df.head()"
   ]
  },
  {
   "cell_type": "code",
   "execution_count": 12,
   "id": "military-traffic",
   "metadata": {},
   "outputs": [
    {
     "data": {
      "text/html": [
       "<div>\n",
       "<style scoped>\n",
       "    .dataframe tbody tr th:only-of-type {\n",
       "        vertical-align: middle;\n",
       "    }\n",
       "\n",
       "    .dataframe tbody tr th {\n",
       "        vertical-align: top;\n",
       "    }\n",
       "\n",
       "    .dataframe thead th {\n",
       "        text-align: right;\n",
       "    }\n",
       "</style>\n",
       "<table border=\"1\" class=\"dataframe\">\n",
       "  <thead>\n",
       "    <tr style=\"text-align: right;\">\n",
       "      <th></th>\n",
       "      <th>LUNGES</th>\n",
       "      <th>BITES</th>\n",
       "      <th>ZIGZAGS</th>\n",
       "      <th>NEST</th>\n",
       "      <th>SPINES</th>\n",
       "      <th>DNEST</th>\n",
       "      <th>BOUT</th>\n",
       "    </tr>\n",
       "  </thead>\n",
       "  <tbody>\n",
       "    <tr>\n",
       "      <th>count</th>\n",
       "      <td>54.000000</td>\n",
       "      <td>54.000000</td>\n",
       "      <td>54.000000</td>\n",
       "      <td>54.000000</td>\n",
       "      <td>54.000000</td>\n",
       "      <td>54.000000</td>\n",
       "      <td>54.000000</td>\n",
       "    </tr>\n",
       "    <tr>\n",
       "      <th>mean</th>\n",
       "      <td>131.185185</td>\n",
       "      <td>69.055556</td>\n",
       "      <td>7.277778</td>\n",
       "      <td>1.425926</td>\n",
       "      <td>18.425926</td>\n",
       "      <td>34.259259</td>\n",
       "      <td>89.314815</td>\n",
       "    </tr>\n",
       "    <tr>\n",
       "      <th>std</th>\n",
       "      <td>50.771064</td>\n",
       "      <td>43.428283</td>\n",
       "      <td>6.693891</td>\n",
       "      <td>3.000641</td>\n",
       "      <td>8.712606</td>\n",
       "      <td>56.491170</td>\n",
       "      <td>98.679742</td>\n",
       "    </tr>\n",
       "    <tr>\n",
       "      <th>min</th>\n",
       "      <td>41.000000</td>\n",
       "      <td>3.000000</td>\n",
       "      <td>0.000000</td>\n",
       "      <td>0.000000</td>\n",
       "      <td>5.000000</td>\n",
       "      <td>0.000000</td>\n",
       "      <td>6.000000</td>\n",
       "    </tr>\n",
       "    <tr>\n",
       "      <th>25%</th>\n",
       "      <td>99.000000</td>\n",
       "      <td>34.250000</td>\n",
       "      <td>2.250000</td>\n",
       "      <td>0.000000</td>\n",
       "      <td>14.000000</td>\n",
       "      <td>0.000000</td>\n",
       "      <td>23.500000</td>\n",
       "    </tr>\n",
       "    <tr>\n",
       "      <th>50%</th>\n",
       "      <td>127.000000</td>\n",
       "      <td>60.000000</td>\n",
       "      <td>5.000000</td>\n",
       "      <td>0.000000</td>\n",
       "      <td>16.000000</td>\n",
       "      <td>0.000000</td>\n",
       "      <td>45.000000</td>\n",
       "    </tr>\n",
       "    <tr>\n",
       "      <th>75%</th>\n",
       "      <td>156.750000</td>\n",
       "      <td>84.250000</td>\n",
       "      <td>10.750000</td>\n",
       "      <td>1.000000</td>\n",
       "      <td>24.750000</td>\n",
       "      <td>73.000000</td>\n",
       "      <td>125.000000</td>\n",
       "    </tr>\n",
       "    <tr>\n",
       "      <th>max</th>\n",
       "      <td>277.000000</td>\n",
       "      <td>175.000000</td>\n",
       "      <td>26.000000</td>\n",
       "      <td>15.000000</td>\n",
       "      <td>46.000000</td>\n",
       "      <td>199.000000</td>\n",
       "      <td>306.000000</td>\n",
       "    </tr>\n",
       "  </tbody>\n",
       "</table>\n",
       "</div>"
      ],
      "text/plain": [
       "           LUNGES       BITES    ZIGZAGS       NEST     SPINES       DNEST  \\\n",
       "count   54.000000   54.000000  54.000000  54.000000  54.000000   54.000000   \n",
       "mean   131.185185   69.055556   7.277778   1.425926  18.425926   34.259259   \n",
       "std     50.771064   43.428283   6.693891   3.000641   8.712606   56.491170   \n",
       "min     41.000000    3.000000   0.000000   0.000000   5.000000    0.000000   \n",
       "25%     99.000000   34.250000   2.250000   0.000000  14.000000    0.000000   \n",
       "50%    127.000000   60.000000   5.000000   0.000000  16.000000    0.000000   \n",
       "75%    156.750000   84.250000  10.750000   1.000000  24.750000   73.000000   \n",
       "max    277.000000  175.000000  26.000000  15.000000  46.000000  199.000000   \n",
       "\n",
       "             BOUT  \n",
       "count   54.000000  \n",
       "mean    89.314815  \n",
       "std     98.679742  \n",
       "min      6.000000  \n",
       "25%     23.500000  \n",
       "50%     45.000000  \n",
       "75%    125.000000  \n",
       "max    306.000000  "
      ]
     },
     "execution_count": 12,
     "metadata": {},
     "output_type": "execute_result"
    }
   ],
   "source": [
    "df.describe()"
   ]
  },
  {
   "cell_type": "code",
   "execution_count": 13,
   "id": "fabulous-resolution",
   "metadata": {},
   "outputs": [
    {
     "data": {
      "text/html": [
       "<div>\n",
       "<style scoped>\n",
       "    .dataframe tbody tr th:only-of-type {\n",
       "        vertical-align: middle;\n",
       "    }\n",
       "\n",
       "    .dataframe tbody tr th {\n",
       "        vertical-align: top;\n",
       "    }\n",
       "\n",
       "    .dataframe thead th {\n",
       "        text-align: right;\n",
       "    }\n",
       "</style>\n",
       "<table border=\"1\" class=\"dataframe\">\n",
       "  <thead>\n",
       "    <tr style=\"text-align: right;\">\n",
       "      <th></th>\n",
       "      <th>LUNGES</th>\n",
       "      <th>BITES</th>\n",
       "      <th>ZIGZAGS</th>\n",
       "      <th>NEST</th>\n",
       "      <th>SPINES</th>\n",
       "      <th>DNEST</th>\n",
       "      <th>BOUT</th>\n",
       "    </tr>\n",
       "  </thead>\n",
       "  <tbody>\n",
       "    <tr>\n",
       "      <th>LUNGES</th>\n",
       "      <td>1.000000</td>\n",
       "      <td>0.688077</td>\n",
       "      <td>-0.139336</td>\n",
       "      <td>-0.164133</td>\n",
       "      <td>0.055567</td>\n",
       "      <td>-0.228568</td>\n",
       "      <td>0.233314</td>\n",
       "    </tr>\n",
       "    <tr>\n",
       "      <th>BITES</th>\n",
       "      <td>0.688077</td>\n",
       "      <td>1.000000</td>\n",
       "      <td>-0.042761</td>\n",
       "      <td>-0.148884</td>\n",
       "      <td>0.373382</td>\n",
       "      <td>-0.217563</td>\n",
       "      <td>0.117316</td>\n",
       "    </tr>\n",
       "    <tr>\n",
       "      <th>ZIGZAGS</th>\n",
       "      <td>-0.139336</td>\n",
       "      <td>-0.042761</td>\n",
       "      <td>1.000000</td>\n",
       "      <td>0.351894</td>\n",
       "      <td>0.067813</td>\n",
       "      <td>0.091315</td>\n",
       "      <td>-0.160693</td>\n",
       "    </tr>\n",
       "    <tr>\n",
       "      <th>NEST</th>\n",
       "      <td>-0.164133</td>\n",
       "      <td>-0.148884</td>\n",
       "      <td>0.351894</td>\n",
       "      <td>1.000000</td>\n",
       "      <td>-0.052538</td>\n",
       "      <td>0.514028</td>\n",
       "      <td>-0.305876</td>\n",
       "    </tr>\n",
       "    <tr>\n",
       "      <th>SPINES</th>\n",
       "      <td>0.055567</td>\n",
       "      <td>0.373382</td>\n",
       "      <td>0.067813</td>\n",
       "      <td>-0.052538</td>\n",
       "      <td>1.000000</td>\n",
       "      <td>-0.051099</td>\n",
       "      <td>-0.041483</td>\n",
       "    </tr>\n",
       "    <tr>\n",
       "      <th>DNEST</th>\n",
       "      <td>-0.228568</td>\n",
       "      <td>-0.217563</td>\n",
       "      <td>0.091315</td>\n",
       "      <td>0.514028</td>\n",
       "      <td>-0.051099</td>\n",
       "      <td>1.000000</td>\n",
       "      <td>-0.242177</td>\n",
       "    </tr>\n",
       "    <tr>\n",
       "      <th>BOUT</th>\n",
       "      <td>0.233314</td>\n",
       "      <td>0.117316</td>\n",
       "      <td>-0.160693</td>\n",
       "      <td>-0.305876</td>\n",
       "      <td>-0.041483</td>\n",
       "      <td>-0.242177</td>\n",
       "      <td>1.000000</td>\n",
       "    </tr>\n",
       "  </tbody>\n",
       "</table>\n",
       "</div>"
      ],
      "text/plain": [
       "           LUNGES     BITES   ZIGZAGS      NEST    SPINES     DNEST      BOUT\n",
       "LUNGES   1.000000  0.688077 -0.139336 -0.164133  0.055567 -0.228568  0.233314\n",
       "BITES    0.688077  1.000000 -0.042761 -0.148884  0.373382 -0.217563  0.117316\n",
       "ZIGZAGS -0.139336 -0.042761  1.000000  0.351894  0.067813  0.091315 -0.160693\n",
       "NEST    -0.164133 -0.148884  0.351894  1.000000 -0.052538  0.514028 -0.305876\n",
       "SPINES   0.055567  0.373382  0.067813 -0.052538  1.000000 -0.051099 -0.041483\n",
       "DNEST   -0.228568 -0.217563  0.091315  0.514028 -0.051099  1.000000 -0.242177\n",
       "BOUT     0.233314  0.117316 -0.160693 -0.305876 -0.041483 -0.242177  1.000000"
      ]
     },
     "execution_count": 13,
     "metadata": {},
     "output_type": "execute_result"
    }
   ],
   "source": [
    "df.corr()"
   ]
  },
  {
   "cell_type": "code",
   "execution_count": 14,
   "id": "eastern-pearl",
   "metadata": {},
   "outputs": [
    {
     "data": {
      "image/png": "[encoded data removed]",
      "text/plain": [
       "<Figure size 432x288 with 49 Axes>"
      ]
     },
     "metadata": {
      "needs_background": "light"
     },
     "output_type": "display_data"
    }
   ],
   "source": [
    "scatter_matrix(df);"
   ]
  },
  {
   "cell_type": "markdown",
   "id": "romance-monkey",
   "metadata": {},
   "source": [
    "Видим, что данные признаки (фичи) далеки от нормальных, корреляции между признаками (фичами) не наблюдается. "
   ]
  },
  {
   "cell_type": "markdown",
   "id": "global-tablet",
   "metadata": {},
   "source": [
    "Выделим первоначальные факторы методом главных компонент."
   ]
  },
  {
   "cell_type": "markdown",
   "id": "guided-maryland",
   "metadata": {},
   "source": [
    "## Метод главных компонент"
   ]
  },
  {
   "cell_type": "markdown",
   "id": "encouraging-spoke",
   "metadata": {},
   "source": [
    "http://scikit-learn.org/stable/modules/generated/sklearn.decomposition.PCA.html"
   ]
  },
  {
   "cell_type": "markdown",
   "id": "cutting-pittsburgh",
   "metadata": {},
   "source": [
    "Cтандартизируем переменные. Из предварительного анализа видно, что это важно."
   ]
  },
  {
   "cell_type": "code",
   "execution_count": 15,
   "id": "statistical-asset",
   "metadata": {},
   "outputs": [],
   "source": [
    "# Функция для стандартизации фич\n",
    "def scale_features(df):\n",
    "    scaled = preprocessing.StandardScaler().fit_transform(df)\n",
    "    scaled = pd.DataFrame(scaled, columns=df.columns)\n",
    "    return scaled"
   ]
  },
  {
   "cell_type": "code",
   "execution_count": 16,
   "id": "reflected-dividend",
   "metadata": {},
   "outputs": [],
   "source": [
    "df_scaled = preprocessing.scale(df)"
   ]
  },
  {
   "cell_type": "markdown",
   "id": "proud-march",
   "metadata": {},
   "source": [
    "Попробуем с помощью метода главных компонент спроецировать \n",
    "данные на двумерную плоскость. \n",
    "То есть выделим две главных компоненты. \n",
    "Реализация метода содержится в классе ```PCA``` \n",
    "библиотеки ```sklearn.decomposition```.\n",
    "\n"
   ]
  },
  {
   "cell_type": "code",
   "execution_count": 17,
   "id": "opponent-water",
   "metadata": {},
   "outputs": [
    {
     "name": "stdout",
     "output_type": "stream",
     "text": [
      "[0.32687739 0.20774873 0.13987346]\n"
     ]
    }
   ],
   "source": [
    "pca = PCA(n_components=3)\n",
    "pca.fit(df_scaled)\n",
    "print(pca.explained_variance_ratio_)"
   ]
  },
  {
   "cell_type": "markdown",
   "id": "designed-customs",
   "metadata": {},
   "source": [
    "Координаты самих компонент находятся в атрибуте ```components_```."
   ]
  },
  {
   "cell_type": "code",
   "execution_count": 18,
   "id": "loose-coordinator",
   "metadata": {},
   "outputs": [
    {
     "name": "stdout",
     "output_type": "stream",
     "text": [
      "[[-0.47012791 -0.45897962  0.24811772  0.43535559 -0.16394905  0.42179779\n",
      "  -0.33530269]\n",
      " [ 0.31046609  0.50737164  0.37893225  0.40026456  0.46520814  0.22423164\n",
      "  -0.2751091 ]\n",
      " [ 0.48163265  0.12992711 -0.24381636  0.32733909 -0.62180282  0.39879993\n",
      "   0.1971586 ]]\n"
     ]
    }
   ],
   "source": [
    "print (pca.components_)"
   ]
  },
  {
   "cell_type": "code",
   "execution_count": 19,
   "id": "accepted-inspection",
   "metadata": {},
   "outputs": [
    {
     "name": "stdout",
     "output_type": "stream",
     "text": [
      "Explained variance by component: [0.32687739 0.20774873 0.13987346]\n"
     ]
    }
   ],
   "source": [
    "print ('Explained variance by component: %s' % pca.explained_variance_ratio_)"
   ]
  },
  {
   "cell_type": "code",
   "execution_count": 20,
   "id": "informal-crime",
   "metadata": {},
   "outputs": [
    {
     "data": {
      "text/plain": [
       "array([11.11573903,  8.86166018,  7.27132493])"
      ]
     },
     "execution_count": 20,
     "metadata": {},
     "output_type": "execute_result"
    }
   ],
   "source": [
    "pca.singular_values_"
   ]
  },
  {
   "cell_type": "code",
   "execution_count": 21,
   "id": "bearing-mouse",
   "metadata": {},
   "outputs": [
    {
     "data": {
      "text/plain": [
       "array([0.32687739, 0.20774873, 0.13987346])"
      ]
     },
     "execution_count": 21,
     "metadata": {},
     "output_type": "execute_result"
    }
   ],
   "source": [
    "pca.explained_variance_ratio_"
   ]
  },
  {
   "cell_type": "code",
   "execution_count": 22,
   "id": "plain-villa",
   "metadata": {},
   "outputs": [],
   "source": [
    "zzz = pca.transform(df_scaled)"
   ]
  },
  {
   "cell_type": "code",
   "execution_count": 1,
   "id": "original-rapid",
   "metadata": {},
   "outputs": [],
   "source": [
    "#zzz"
   ]
  },
  {
   "cell_type": "markdown",
   "id": "visible-drinking",
   "metadata": {},
   "source": [
    "## Факторный анализ"
   ]
  },
  {
   "cell_type": "markdown",
   "id": "romantic-evaluation",
   "metadata": {},
   "source": [
    "\n",
    "http://scikit-learn.org/stable/modules/generated/sklearn.decomposition.FactorAnalysis.html\n",
    " \n",
    "\n",
    "Попробуем с помощью факторного анализа построить новые фичи, которые были бы более удобными в использовании с минимальной потерей информации.\n",
    "\n",
    "Используем класс ```FactorAnalysis``` из ```sklearn.decomposition```. \n",
    "Начнём с двух факторов."
   ]
  },
  {
   "cell_type": "code",
   "execution_count": 23,
   "id": "twenty-choir",
   "metadata": {},
   "outputs": [
    {
     "data": {
      "text/plain": [
       "FactorAnalysis(n_components=2)"
      ]
     },
     "execution_count": 23,
     "metadata": {},
     "output_type": "execute_result"
    }
   ],
   "source": [
    "fa = FactorAnalysis(n_components=2)\n",
    "fa.fit(df_scaled)"
   ]
  },
  {
   "cell_type": "markdown",
   "id": "likely-indonesia",
   "metadata": {},
   "source": [
    "Координаты факторов в пространстве старых фич находятся в атрибуте ```components_```."
   ]
  },
  {
   "cell_type": "code",
   "execution_count": 24,
   "id": "chronic-transformation",
   "metadata": {},
   "outputs": [
    {
     "data": {
      "text/html": [
       "<div>\n",
       "<style scoped>\n",
       "    .dataframe tbody tr th:only-of-type {\n",
       "        vertical-align: middle;\n",
       "    }\n",
       "\n",
       "    .dataframe tbody tr th {\n",
       "        vertical-align: top;\n",
       "    }\n",
       "\n",
       "    .dataframe thead th {\n",
       "        text-align: right;\n",
       "    }\n",
       "</style>\n",
       "<table border=\"1\" class=\"dataframe\">\n",
       "  <thead>\n",
       "    <tr style=\"text-align: right;\">\n",
       "      <th></th>\n",
       "      <th>LUNGES</th>\n",
       "      <th>BITES</th>\n",
       "      <th>ZIGZAGS</th>\n",
       "      <th>NEST</th>\n",
       "      <th>SPINES</th>\n",
       "      <th>DNEST</th>\n",
       "      <th>BOUT</th>\n",
       "    </tr>\n",
       "  </thead>\n",
       "  <tbody>\n",
       "    <tr>\n",
       "      <th>0</th>\n",
       "      <td>0.715035</td>\n",
       "      <td>0.956805</td>\n",
       "      <td>-0.086423</td>\n",
       "      <td>-0.241141</td>\n",
       "      <td>0.358615</td>\n",
       "      <td>-0.282219</td>\n",
       "      <td>0.166892</td>\n",
       "    </tr>\n",
       "    <tr>\n",
       "      <th>1</th>\n",
       "      <td>-0.019296</td>\n",
       "      <td>0.098533</td>\n",
       "      <td>0.367721</td>\n",
       "      <td>0.848657</td>\n",
       "      <td>0.073328</td>\n",
       "      <td>0.513705</td>\n",
       "      <td>-0.329849</td>\n",
       "    </tr>\n",
       "  </tbody>\n",
       "</table>\n",
       "</div>"
      ],
      "text/plain": [
       "     LUNGES     BITES   ZIGZAGS      NEST    SPINES     DNEST      BOUT\n",
       "0  0.715035  0.956805 -0.086423 -0.241141  0.358615 -0.282219  0.166892\n",
       "1 -0.019296  0.098533  0.367721  0.848657  0.073328  0.513705 -0.329849"
      ]
     },
     "execution_count": 24,
     "metadata": {},
     "output_type": "execute_result"
    }
   ],
   "source": [
    "pd.DataFrame(fa.components_, columns=df.columns)"
   ]
  },
  {
   "cell_type": "markdown",
   "id": "capital-speech",
   "metadata": {},
   "source": [
    "Видим, что первый (нулевой) фактор сильно коррелирует с фичами-нападениями (ударами и укусами), так что его можно интерпретировать как агрессивность самца. Второй же фактор, напротив, коррелирует с фичами, связанными с обустройство гнезда, что можно расценивать как \"домовитость\". То есть мы свели пространство из семи фич к двум новым интерпретируемым фичам."
   ]
  },
  {
   "cell_type": "markdown",
   "id": "parliamentary-senior",
   "metadata": {},
   "source": [
    "Уникальность фич в смысле дисперсии, объяснённой факторами (чем больше, тем хуже объясняется факторами) содержится в атрибуте ```noise_variance_```."
   ]
  },
  {
   "cell_type": "code",
   "execution_count": 25,
   "id": "allied-discovery",
   "metadata": {},
   "outputs": [
    {
     "name": "stdout",
     "output_type": "stream",
     "text": [
      "Uniqueness:\n"
     ]
    },
    {
     "data": {
      "text/plain": [
       "LUNGES     0.487766\n",
       "BITES      0.076163\n",
       "ZIGZAGS    0.857251\n",
       "NEST       0.222906\n",
       "SPINES     0.866169\n",
       "DNEST      0.656093\n",
       "BOUT       0.863093\n",
       "dtype: float64"
      ]
     },
     "execution_count": 25,
     "metadata": {},
     "output_type": "execute_result"
    }
   ],
   "source": [
    "print('Uniqueness:')\n",
    "pd.Series(fa.noise_variance_, df.columns)"
   ]
  },
  {
   "cell_type": "markdown",
   "id": "stuffed-eating",
   "metadata": {},
   "source": [
    "Наконец, сами факторы (как новые векторы-фичи) можно получить, применив метод ```transform```."
   ]
  },
  {
   "cell_type": "code",
   "execution_count": 26,
   "id": "reported-cabin",
   "metadata": {},
   "outputs": [
    {
     "data": {
      "text/html": [
       "<div>\n",
       "<style scoped>\n",
       "    .dataframe tbody tr th:only-of-type {\n",
       "        vertical-align: middle;\n",
       "    }\n",
       "\n",
       "    .dataframe tbody tr th {\n",
       "        vertical-align: top;\n",
       "    }\n",
       "\n",
       "    .dataframe thead th {\n",
       "        text-align: right;\n",
       "    }\n",
       "</style>\n",
       "<table border=\"1\" class=\"dataframe\">\n",
       "  <thead>\n",
       "    <tr style=\"text-align: right;\">\n",
       "      <th></th>\n",
       "      <th>factor1</th>\n",
       "      <th>factor2</th>\n",
       "    </tr>\n",
       "  </thead>\n",
       "  <tbody>\n",
       "    <tr>\n",
       "      <th>0</th>\n",
       "      <td>-0.938788</td>\n",
       "      <td>-0.776068</td>\n",
       "    </tr>\n",
       "    <tr>\n",
       "      <th>1</th>\n",
       "      <td>-0.159453</td>\n",
       "      <td>-0.591389</td>\n",
       "    </tr>\n",
       "    <tr>\n",
       "      <th>2</th>\n",
       "      <td>-0.818776</td>\n",
       "      <td>-0.458188</td>\n",
       "    </tr>\n",
       "    <tr>\n",
       "      <th>3</th>\n",
       "      <td>1.444012</td>\n",
       "      <td>0.094633</td>\n",
       "    </tr>\n",
       "    <tr>\n",
       "      <th>4</th>\n",
       "      <td>-0.638620</td>\n",
       "      <td>3.662073</td>\n",
       "    </tr>\n",
       "  </tbody>\n",
       "</table>\n",
       "</div>"
      ],
      "text/plain": [
       "    factor1   factor2\n",
       "0 -0.938788 -0.776068\n",
       "1 -0.159453 -0.591389\n",
       "2 -0.818776 -0.458188\n",
       "3  1.444012  0.094633\n",
       "4 -0.638620  3.662073"
      ]
     },
     "execution_count": 26,
     "metadata": {},
     "output_type": "execute_result"
    }
   ],
   "source": [
    "scores = pd.DataFrame(fa.transform(df_scaled), columns=['factor1', 'factor2'])\n",
    "scores.head()"
   ]
  },
  {
   "cell_type": "code",
   "execution_count": 2,
   "id": "bulgarian-request",
   "metadata": {},
   "outputs": [],
   "source": [
    "#scores"
   ]
  },
  {
   "cell_type": "markdown",
   "id": "athletic-senior",
   "metadata": {},
   "source": [
    "Попробуем теперь построить не два, а три фактора. Что изменится?"
   ]
  },
  {
   "cell_type": "code",
   "execution_count": 27,
   "id": "noted-healing",
   "metadata": {},
   "outputs": [
    {
     "data": {
      "text/html": [
       "<div>\n",
       "<style scoped>\n",
       "    .dataframe tbody tr th:only-of-type {\n",
       "        vertical-align: middle;\n",
       "    }\n",
       "\n",
       "    .dataframe tbody tr th {\n",
       "        vertical-align: top;\n",
       "    }\n",
       "\n",
       "    .dataframe thead th {\n",
       "        text-align: right;\n",
       "    }\n",
       "</style>\n",
       "<table border=\"1\" class=\"dataframe\">\n",
       "  <thead>\n",
       "    <tr style=\"text-align: right;\">\n",
       "      <th></th>\n",
       "      <th>LUNGES</th>\n",
       "      <th>BITES</th>\n",
       "      <th>ZIGZAGS</th>\n",
       "      <th>NEST</th>\n",
       "      <th>SPINES</th>\n",
       "      <th>DNEST</th>\n",
       "      <th>BOUT</th>\n",
       "    </tr>\n",
       "  </thead>\n",
       "  <tbody>\n",
       "    <tr>\n",
       "      <th>0</th>\n",
       "      <td>0.832106</td>\n",
       "      <td>0.851016</td>\n",
       "      <td>-0.180171</td>\n",
       "      <td>-0.390928</td>\n",
       "      <td>0.261270</td>\n",
       "      <td>-0.375792</td>\n",
       "      <td>0.267079</td>\n",
       "    </tr>\n",
       "    <tr>\n",
       "      <th>1</th>\n",
       "      <td>0.178973</td>\n",
       "      <td>0.241522</td>\n",
       "      <td>0.331612</td>\n",
       "      <td>0.808428</td>\n",
       "      <td>0.099520</td>\n",
       "      <td>0.441922</td>\n",
       "      <td>-0.266378</td>\n",
       "    </tr>\n",
       "    <tr>\n",
       "      <th>2</th>\n",
       "      <td>-0.301530</td>\n",
       "      <td>0.213190</td>\n",
       "      <td>0.145993</td>\n",
       "      <td>-0.051025</td>\n",
       "      <td>0.592552</td>\n",
       "      <td>-0.020361</td>\n",
       "      <td>-0.175361</td>\n",
       "    </tr>\n",
       "  </tbody>\n",
       "</table>\n",
       "</div>"
      ],
      "text/plain": [
       "     LUNGES     BITES   ZIGZAGS      NEST    SPINES     DNEST      BOUT\n",
       "0  0.832106  0.851016 -0.180171 -0.390928  0.261270 -0.375792  0.267079\n",
       "1  0.178973  0.241522  0.331612  0.808428  0.099520  0.441922 -0.266378\n",
       "2 -0.301530  0.213190  0.145993 -0.051025  0.592552 -0.020361 -0.175361"
      ]
     },
     "execution_count": 27,
     "metadata": {},
     "output_type": "execute_result"
    }
   ],
   "source": [
    "fa = FactorAnalysis(n_components=3)\n",
    "fa.fit(df_scaled)\n",
    "pd.DataFrame(fa.components_, columns=df.columns)"
   ]
  },
  {
   "cell_type": "markdown",
   "id": "little-apartment",
   "metadata": {},
   "source": [
    "Первые два фактора сохранили свой смысл -- агрессивность и домовитость (только корреляции чуть уменьшились), а вот третий фактор интерпретировать уже сложно. Он коррелирует только с одной фичей SPINES, а значит не несёт какой-то новой информации. Так что всё же лучше оставить только два фактора."
   ]
  },
  {
   "cell_type": "code",
   "execution_count": null,
   "id": "reliable-exhaust",
   "metadata": {},
   "outputs": [],
   "source": []
  }
 ],
 "metadata": {
  "kernelspec": {
   "display_name": "Python 3",
   "language": "python",
   "name": "python3"
  },
  "language_info": {
   "codemirror_mode": {
    "name": "ipython",
    "version": 3
   },
   "file_extension": ".py",
   "mimetype": "text/x-python",
   "name": "python",
   "nbconvert_exporter": "python",
   "pygments_lexer": "ipython3",
   "version": "3.7.4"
  }
 },
 "nbformat": 4,
 "nbformat_minor": 5
}
