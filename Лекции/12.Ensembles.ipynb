{
 "cells": [
  {
   "cell_type": "markdown",
   "id": "presidential-australia",
   "metadata": {},
   "source": [
    "# Лекция 12. Ансамблевые методы повышения качества моделирования"
   ]
  },
  {
   "cell_type": "code",
   "execution_count": 1,
   "id": "raising-ivory",
   "metadata": {},
   "outputs": [],
   "source": [
    "import os\n",
    "import numpy as np\n",
    "import pandas as pd\n",
    "from sklearn.model_selection import train_test_split\n",
    "from sklearn.ensemble import RandomForestClassifier\n",
    "from sklearn.datasets import make_moons\n",
    "from sklearn.datasets import load_breast_cancer\n",
    "from sklearn.datasets import load_iris\n",
    "from sklearn.tree import DecisionTreeClassifier\n",
    "from sklearn.ensemble import AdaBoostClassifier\n",
    "from sklearn.metrics import accuracy_score\n",
    "from sklearn.ensemble import GradientBoostingClassifier\n",
    "from numpy import loadtxt\n",
    "# conda install py-xgboost\n",
    "# conda install -c anaconda py-xgboost  - появилась Teano\n",
    "from xgboost import XGBClassifier\n",
    "from xgboost import plot_importance\n",
    "from sklearn.model_selection import StratifiedKFold\n",
    "from sklearn.metrics import classification_report\n",
    "from sklearn import metrics\n",
    "import xgboost as xgb\n",
    "from sklearn.model_selection import learning_curve,GridSearchCV\n",
    "import matplotlib\n",
    "import matplotlib.pyplot as plt\n",
    "matplotlib.style.use('ggplot')\n",
    "%matplotlib inline\n",
    "import seaborn as sns\n",
    "sns.set(font_scale = 1.5)"
   ]
  },
  {
   "cell_type": "code",
   "execution_count": 2,
   "id": "supposed-billy",
   "metadata": {},
   "outputs": [],
   "source": [
    "os.chdir(\"C:/Users/HP/Documents/analysis/Marketing/data/\")"
   ]
  },
  {
   "cell_type": "markdown",
   "id": "nervous-white",
   "metadata": {},
   "source": [
    "## Ансамбли деревьев решений"
   ]
  },
  {
   "cell_type": "markdown",
   "id": "extended-support",
   "metadata": {},
   "source": [
    "How to Improve Machine Learning Results: https://machinelearningmastery.com/how-to-improve-machine-learning-results/"
   ]
  },
  {
   "cell_type": "markdown",
   "id": "transsexual-functionality",
   "metadata": {},
   "source": [
    "Ансамблевые методы связаны с объединением результатов нескольких методов для получения улучшенных результатов."
   ]
  },
  {
   "cell_type": "markdown",
   "id": "informed-subject",
   "metadata": {},
   "source": [
    "Ансамбли (ensembles) – это методы, которые сочетают в себе множество\n",
    "моделей машинного обучения, чтобы в итоге получить более мощную\n",
    "модель."
   ]
  },
  {
   "cell_type": "markdown",
   "id": "entitled-reporter",
   "metadata": {},
   "source": [
    "Это может быть достигнуто многими способами. Существуют три **ансамблевые стратегии**:\n",
    "* **Bagging** - Упаковка в пакеты - более формально известная как **Bootstrapped Aggregation**, когда один и тот же алгоритм получает различные точки зрения на проблему, обучаясь на различных подмножествах обучающих данных.\n",
    "* **Boosting** - Повышение - различные алгоритмы обучаются на одних и тех же данных обучения. Конечный результат представляет собой линейную комбинацию промежуточных результатов.\n",
    "* **Blending** - Смешивание - более формально известное, как Stacked Generalization, или **Stacking**, - это множество моделей, чьи прогнозы принимаются в качестве входных данных для новой модели, которая определяет, как объединять прогнозы в общий прогноз."
   ]
  },
  {
   "cell_type": "markdown",
   "id": "timely-shareware",
   "metadata": {},
   "source": [
    "### Ансамбль \"Случайный лес\" (Random Forest)"
   ]
  },
  {
   "cell_type": "markdown",
   "id": "binary-contribution",
   "metadata": {},
   "source": [
    "Ансамбль \"Случайный лес\" (Random Forest) - это пример применения приема Bagging."
   ]
  },
  {
   "cell_type": "markdown",
   "id": "powered-abortion",
   "metadata": {},
   "source": [
    "Метод предложен Leo Breiman в статье \"Random Forests\". Machine Learning V45(1): 5-32(2001)"
   ]
  },
  {
   "cell_type": "markdown",
   "id": "blank-dubai",
   "metadata": {},
   "source": [
    "Давайте применим случайный лес, состоящий из пяти деревьев, к набору\n",
    "данных two_moons."
   ]
  },
  {
   "cell_type": "code",
   "execution_count": 3,
   "id": "handled-shelf",
   "metadata": {},
   "outputs": [
    {
     "data": {
      "text/plain": [
       "RandomForestClassifier(n_estimators=5, random_state=2)"
      ]
     },
     "execution_count": 3,
     "metadata": {},
     "output_type": "execute_result"
    }
   ],
   "source": [
    "X, y = make_moons(n_samples=100, noise=0.25, random_state=3)\n",
    "X_train, X_test, y_train, y_test = train_test_split(X, y, stratify=y,\n",
    "random_state=42)\n",
    "\n",
    "forest = RandomForestClassifier(n_estimators=5, random_state=2)\n",
    "forest.fit(X_train, y_train)"
   ]
  },
  {
   "cell_type": "markdown",
   "id": "heated-shooting",
   "metadata": {},
   "source": [
    "Посмотрим на точность модели."
   ]
  },
  {
   "cell_type": "code",
   "execution_count": 4,
   "id": "complex-biology",
   "metadata": {
    "tags": []
   },
   "outputs": [
    {
     "name": "stdout",
     "output_type": "stream",
     "text": [
      "Правильность на обучающем наборе: 0.960\n",
      "Правильность на тестовом наборе: 0.920\n"
     ]
    }
   ],
   "source": [
    "print(\"Правильность на обучающем наборе: {:.3f}\".format(forest.score(X_train, y_train)))\n",
    "print(\"Правильность на тестовом наборе: {:.3f}\".format(forest.score(X_test, y_test)))"
   ]
  },
  {
   "cell_type": "markdown",
   "id": "personal-eugene",
   "metadata": {},
   "source": [
    "Деревья, которые строятся в рамках случайного леса, сохраняются в\n",
    "атрибуте estimator_. "
   ]
  },
  {
   "cell_type": "markdown",
   "id": "animated-drama",
   "metadata": {},
   "source": [
    "В отличие от отдельных деревьев случайный лес переобучается в\n",
    "меньшей степени и дает гораздо более чувствительную (гибкую) границу\n",
    "принятия решений. В реальных примерах используется гораздо большее\n",
    "количество деревьев (часто сотни или тысячи), что приводит к\n",
    "получению еще более чувствительной границы."
   ]
  },
  {
   "cell_type": "markdown",
   "id": "olympic-image",
   "metadata": {},
   "source": [
    "В качестве еще одного примера давайте построим случайный лес,\n",
    "состоящий из 100 деревьев, на наборе данных Breast Cancer:"
   ]
  },
  {
   "cell_type": "code",
   "execution_count": 5,
   "id": "excess-vacuum",
   "metadata": {},
   "outputs": [
    {
     "name": "stdout",
     "output_type": "stream",
     "text": [
      "Правильность на обучающем наборе: 1.000\n",
      "Правильность на тестовом наборе: 0.972\n"
     ]
    }
   ],
   "source": [
    "cancer=load_breast_cancer()\n",
    "X_train, X_test, y_train, y_test = train_test_split(\n",
    "cancer.data, cancer.target, random_state=0)\n",
    "forest = RandomForestClassifier(n_estimators=100, random_state=0)\n",
    "forest.fit(X_train, y_train)\n",
    "\n",
    "print(\"Правильность на обучающем наборе: {:.3f}\".format(forest.score(X_train, y_train)))\n",
    "print(\"Правильность на тестовом наборе: {:.3f}\".format(forest.score(X_test, y_test)))"
   ]
  },
  {
   "cell_type": "markdown",
   "id": "international-presence",
   "metadata": {},
   "source": [
    "Без настройки каких-либо параметров случайный лес дает нам\n",
    "правильность 97%, это лучше результата линейных моделей или\n",
    "одиночного дерева решений. Мы могли бы отрегулировать настройку\n",
    "max_features или применить предварительную обрезку, как это делали\n",
    "для одиночного дерева решений. Однако часто параметры случайного\n",
    "леса, выставленные по умолчанию, работают уже сами по себе достаточно\n",
    "хорошо."
   ]
  },
  {
   "cell_type": "markdown",
   "id": "broadband-rotation",
   "metadata": {},
   "source": [
    "В качестве еще одного примера давайте построим случайный лес на наборе данных об ирисах:"
   ]
  },
  {
   "cell_type": "code",
   "execution_count": 6,
   "id": "robust-horror",
   "metadata": {},
   "outputs": [],
   "source": [
    "iris_dataset = load_iris()"
   ]
  },
  {
   "cell_type": "markdown",
   "id": "expired-drawing",
   "metadata": {},
   "source": [
    "Разобьем данные на обучающую и тестовую части."
   ]
  },
  {
   "cell_type": "code",
   "execution_count": 7,
   "id": "jewish-judgment",
   "metadata": {},
   "outputs": [],
   "source": [
    "X_train, X_test, y_train, y_test = train_test_split(\n",
    "    iris_dataset['data'], iris_dataset['target'], random_state=0)"
   ]
  },
  {
   "cell_type": "markdown",
   "id": "ordered-navigator",
   "metadata": {},
   "source": [
    "Вызовем функцию RandomForestClassifier из модуля ensemble библиотеки (пакета) sklearn. "
   ]
  },
  {
   "cell_type": "code",
   "execution_count": 8,
   "id": "czech-timothy",
   "metadata": {},
   "outputs": [
    {
     "data": {
      "text/plain": [
       "RandomForestClassifier(criterion='entropy', n_estimators=10, n_jobs=2,\n",
       "                       random_state=1)"
      ]
     },
     "execution_count": 8,
     "metadata": {},
     "output_type": "execute_result"
    }
   ],
   "source": [
    "forest = RandomForestClassifier(criterion='entropy',\n",
    "                                n_estimators=10, \n",
    "                                random_state=1,\n",
    "                                n_jobs=2)\n",
    "forest.fit(X_train, y_train)"
   ]
  },
  {
   "cell_type": "markdown",
   "id": "continent-weapon",
   "metadata": {},
   "source": [
    "Посмотрим на точность модели."
   ]
  },
  {
   "cell_type": "code",
   "execution_count": 9,
   "id": "acute-jamaica",
   "metadata": {},
   "outputs": [
    {
     "name": "stdout",
     "output_type": "stream",
     "text": [
      "Правильность на обучающем наборе: 0.982\n",
      "Правильность на тестовом наборе: 0.921\n"
     ]
    }
   ],
   "source": [
    "print(\"Правильность на обучающем наборе: {:.3f}\".format(forest.score(X_train, y_train)))\n",
    "print(\"Правильность на тестовом наборе: {:.3f}\".format(forest.score(X_test, y_test)))"
   ]
  },
  {
   "cell_type": "code",
   "execution_count": 10,
   "id": "balanced-grill",
   "metadata": {},
   "outputs": [
    {
     "name": "stdout",
     "output_type": "stream",
     "text": [
      "Форма массива X_new: (1, 4)\n"
     ]
    }
   ],
   "source": [
    "#Зададим параметры некоторого ириса, сорт которого мы хотим узнать.\n",
    "X_new = np.array([[5, 2.9, 1, 0.2]])\n",
    "print(\"Форма массива X_new:\", X_new.shape)"
   ]
  },
  {
   "cell_type": "markdown",
   "id": "greatest-printing",
   "metadata": {},
   "source": [
    "Чтобы сделать прогноз, вызываем метод predict объекта forest."
   ]
  },
  {
   "cell_type": "code",
   "execution_count": 11,
   "id": "cosmetic-daughter",
   "metadata": {},
   "outputs": [
    {
     "name": "stdout",
     "output_type": "stream",
     "text": [
      "Прогноз: [0]\n",
      "Спрогнозированная метка: ['setosa']\n"
     ]
    }
   ],
   "source": [
    "prediction = forest.predict(X_new)\n",
    "print(\"Прогноз:\", prediction)\n",
    "print(\"Спрогнозированная метка:\",\n",
    "       iris_dataset['target_names'][prediction])"
   ]
  },
  {
   "cell_type": "markdown",
   "id": "charged-scroll",
   "metadata": {},
   "source": [
    "Как и дерево решений, случайный лес позволяет вычислить важности признаков, которые рассчитываются путем агрегирования значений важности по всем деревьям леса. Как правило, важности признаков, вычисленные случайным лесом, являются более надежным показателем, чем важности, вычисленные одним деревом."
   ]
  },
  {
   "cell_type": "code",
   "execution_count": 12,
   "id": "backed-stupid",
   "metadata": {},
   "outputs": [],
   "source": [
    "def plot_feature_importances_iris(model):\n",
    "    n_features=iris_dataset.data.shape[1]\n",
    "    plt.barh(range(n_features), model.feature_importances_,align='center')\n",
    "    plt.yticks(np.arange(n_features),iris_dataset.feature_names)\n",
    "    plt.xlabel(\"Важность признака\")\n",
    "    plt.ylabel(\"Признак\")"
   ]
  },
  {
   "cell_type": "code",
   "execution_count": 13,
   "id": "educated-nickel",
   "metadata": {},
   "outputs": [
    {
     "data": {
      "image/png": "[encoded data removed]",
      "text/plain": [
       "<Figure size 432x288 with 1 Axes>"
      ]
     },
     "metadata": {},
     "output_type": "display_data"
    }
   ],
   "source": [
    "plot_feature_importances_iris(forest)"
   ]
  },
  {
   "cell_type": "markdown",
   "id": "norwegian-refund",
   "metadata": {},
   "source": [
    "Как видно из рисунка, случайный лес в качестве наиболее информативного признака выбирает petal length."
   ]
  },
  {
   "cell_type": "markdown",
   "id": "reflected-forth",
   "metadata": {},
   "source": [
    "## AdaBoost"
   ]
  },
  {
   "cell_type": "markdown",
   "id": "cheap-repair",
   "metadata": {},
   "source": [
    "Теория: \n",
    "* Python_i_mashinnoe_obuchenie: с. 214-221 (Рашка С. Python и машинное обучение / пер. с англ. А. В. Логунова. - М.: ДМК Пресс, 2017. - 418 с.)\n",
    "* ESLII_print12: с. 337-358"
   ]
  },
  {
   "cell_type": "markdown",
   "id": "experimental-range",
   "metadata": {},
   "source": [
    "Натренируем ансамблевый классификатор AdaBoost посредством библиотеки\n",
    "scikit-learn. Мы воспользуемся подмножеством сортов вин. Используя атрибут base_estimator, натренируем классификатор AdaBoostClassifier на 500 пеньках деревьев решений:"
   ]
  },
  {
   "cell_type": "code",
   "execution_count": 14,
   "id": "overall-synthesis",
   "metadata": {},
   "outputs": [],
   "source": [
    "tree = DecisionTreeClassifier(criterion='entropy', \n",
    "                              max_depth=1,\n",
    "                              random_state=0)\n",
    "\n",
    "ada = AdaBoostClassifier(base_estimator=tree,\n",
    "                         n_estimators=500, \n",
    "                         learning_rate=0.1,\n",
    "                         random_state=0)"
   ]
  },
  {
   "cell_type": "code",
   "execution_count": 15,
   "id": "quarterly-oliver",
   "metadata": {
    "collapsed": false,
    "jupyter": {
     "outputs_hidden": false
    }
   },
   "outputs": [],
   "source": [
    "df_wine = pd.read_csv('C:/Users/HP/Documents/analysis/forcasting/data/wine.data',\n",
    "                      header=None)\n",
    "\n",
    "df_wine.columns = ['Class label', 'Alcohol', 'Malic acid', 'Ash',\n",
    "                   'Alcalinity of ash', 'Magnesium', 'Total phenols',\n",
    "                   'Flavanoids', 'Nonflavanoid phenols', 'Proanthocyanins',\n",
    "                   'Color intensity', 'Hue', 'OD280/OD315 of diluted wines',\n",
    "                   'Proline']\n",
    "\n",
    "# drop 1 class\n",
    "df_wine = df_wine[df_wine['Class label'] != 1]\n",
    "\n",
    "y = df_wine['Class label'].values\n",
    "X = df_wine[['Alcohol', 'Hue']].values"
   ]
  },
  {
   "cell_type": "code",
   "execution_count": 16,
   "id": "abandoned-conversation",
   "metadata": {},
   "outputs": [],
   "source": [
    "X_train, X_test, y_train, y_test =\\\n",
    "            train_test_split(X, y, \n",
    "                             test_size=0.40, \n",
    "                             random_state=1)"
   ]
  },
  {
   "cell_type": "code",
   "execution_count": 17,
   "id": "statutory-filing",
   "metadata": {
    "collapsed": false,
    "jupyter": {
     "outputs_hidden": false
    }
   },
   "outputs": [
    {
     "name": "stdout",
     "output_type": "stream",
     "text": [
      "Decision tree train/test accuracies 0.845/0.854\n",
      "AdaBoost train/test accuracies 1.000/0.875\n"
     ]
    }
   ],
   "source": [
    "tree = tree.fit(X_train, y_train)\n",
    "y_train_pred = tree.predict(X_train)\n",
    "y_test_pred = tree.predict(X_test)\n",
    "\n",
    "tree_train = accuracy_score(y_train, y_train_pred)\n",
    "tree_test = accuracy_score(y_test, y_test_pred)\n",
    "print('Decision tree train/test accuracies %.3f/%.3f'\n",
    "      % (tree_train, tree_test))\n",
    "\n",
    "ada = ada.fit(X_train, y_train)\n",
    "y_train_pred = ada.predict(X_train)\n",
    "y_test_pred = ada.predict(X_test)\n",
    "\n",
    "ada_train = accuracy_score(y_train, y_train_pred) \n",
    "ada_test = accuracy_score(y_test, y_test_pred) \n",
    "print('AdaBoost train/test accuracies %.3f/%.3f'\n",
    "      % (ada_train, ada_test))"
   ]
  },
  {
   "cell_type": "markdown",
   "id": "disturbed-argentina",
   "metadata": {},
   "source": [
    "Как видно, пенек дерева решений показывает тенденцию к недообучению под тренировочные данные. Как видно, модель AdaBoost правильно идентифицирует все метки классов тренировочного набора и также показывает слегка улучшенное качество на тестовом наборе, по сравнению с пеньком дерева решений. Однако мы также видим, что вместе с нашей попыткой уменьшить смещение модели мы привнесли дополнительную дисперсию."
   ]
  },
  {
   "cell_type": "markdown",
   "id": "anticipated-norman",
   "metadata": {},
   "source": [
    "Наконец, проверим, как выглядят области решений:"
   ]
  },
  {
   "cell_type": "code",
   "execution_count": 18,
   "id": "changed-robertson",
   "metadata": {
    "collapsed": false,
    "jupyter": {
     "outputs_hidden": false
    }
   },
   "outputs": [
    {
     "data": {
      "image/png": "[encoded data removed]",
      "text/plain": [
       "<Figure size 576x216 with 2 Axes>"
      ]
     },
     "metadata": {},
     "output_type": "display_data"
    }
   ],
   "source": [
    "x_min = X_train[:, 0].min() - 1\n",
    "x_max = X_train[:, 0].max() + 1\n",
    "y_min = X_train[:, 1].min() - 1\n",
    "y_max = X_train[:, 1].max() + 1\n",
    "\n",
    "xx, yy = np.meshgrid(np.arange(x_min, x_max, 0.1),\n",
    "                     np.arange(y_min, y_max, 0.1))\n",
    "\n",
    "f, axarr = plt.subplots(nrows=1, ncols=2, \n",
    "                        sharex='col', \n",
    "                        sharey='row', \n",
    "                        figsize=(8, 3))\n",
    "\n",
    "\n",
    "for idx, clf, tt in zip([0, 1],\n",
    "                        [tree, ada],\n",
    "                        ['Decision Tree', 'AdaBoost']):\n",
    "    clf.fit(X_train, y_train)\n",
    "\n",
    "    Z = clf.predict(np.c_[xx.ravel(), yy.ravel()])\n",
    "    Z = Z.reshape(xx.shape)\n",
    "\n",
    "    axarr[idx].contourf(xx, yy, Z, alpha=0.3)\n",
    "    axarr[idx].scatter(X_train[y_train == 0, 0],\n",
    "                       X_train[y_train == 0, 1],\n",
    "                       c='blue', marker='^')\n",
    "\n",
    "    axarr[idx].scatter(X_train[y_train == 1, 0],\n",
    "                       X_train[y_train == 1, 1],\n",
    "                       c='red', marker='o')\n",
    "\n",
    "    axarr[idx].set_title(tt)\n",
    "\n",
    "axarr[0].set_ylabel('Alcohol', fontsize=12)\n",
    "plt.text(10.2, -1.2,\n",
    "         s='Hue',\n",
    "         ha='center', va='center', fontsize=12)\n",
    "\n",
    "plt.tight_layout()\n",
    "# plt.savefig('./figures/bagging_region.png',\n",
    "#            dpi=300,\n",
    "#            bbox_inches='tight')\n",
    "plt.show()"
   ]
  },
  {
   "cell_type": "markdown",
   "id": "collectible-beverage",
   "metadata": {},
   "source": [
    "Рассматривая области решений, мы видим, что граница решения модели AdaBoost существенно сложнее границы решения пенька решения."
   ]
  },
  {
   "cell_type": "markdown",
   "id": "severe-raleigh",
   "metadata": {},
   "source": [
    "## Градиентный бустинг деревьев регрессии (машины градиентного бустинга, GBM)"
   ]
  },
  {
   "cell_type": "markdown",
   "id": "identified-gibson",
   "metadata": {},
   "source": [
    "Ниже приведен пример использования GradientBoostingClassifier\n",
    "на наборе данных Breast Cancer. По умолчанию используются 100\n",
    "деревьев c максимальной глубиной 3 и скорости обучения 0.1:"
   ]
  },
  {
   "cell_type": "code",
   "execution_count": 19,
   "id": "annoying-camel",
   "metadata": {},
   "outputs": [
    {
     "name": "stdout",
     "output_type": "stream",
     "text": [
      "Правильность на обучающем наборе: 1.000\n",
      "Правильность на тестовом наборе: 0.965\n"
     ]
    }
   ],
   "source": [
    "cancer=load_breast_cancer()\n",
    "X_train, X_test, y_train, y_test = train_test_split(\n",
    "cancer.data, cancer.target, random_state=0)\n",
    "gbrt = GradientBoostingClassifier(random_state=0)\n",
    "gbrt.fit(X_train, y_train)\n",
    "\n",
    "print(\"Правильность на обучающем наборе: {:.3f}\".format(gbrt.score(X_train, y_train)))\n",
    "print(\"Правильность на тестовом наборе: {:.3f}\".format(gbrt.score(X_test, y_test)))"
   ]
  },
  {
   "cell_type": "markdown",
   "id": "committed-nomination",
   "metadata": {},
   "source": [
    "Поскольку правильность на обучающем наборе составляет 100%, мы,\n",
    "вероятно, столкнулись с переобучением. Для уменьшения переобучения\n",
    "мы можем либо применить более сильную предварительную обрезку,\n",
    "ограничив максимальную глубину, либо снизить скорость обучения:"
   ]
  },
  {
   "cell_type": "code",
   "execution_count": 20,
   "id": "executed-electronics",
   "metadata": {
    "tags": []
   },
   "outputs": [
    {
     "name": "stdout",
     "output_type": "stream",
     "text": [
      "Правильность на обучающем наборе: 0.991\n",
      "Правильность на тестовом наборе: 0.972\n"
     ]
    }
   ],
   "source": [
    "gbrt = GradientBoostingClassifier(random_state=0, max_depth=1)\n",
    "gbrt.fit(X_train, y_train)\n",
    "\n",
    "print(\"Правильность на обучающем наборе: {:.3f}\".format(gbrt.score(X_train, y_train)))\n",
    "print(\"Правильность на тестовом наборе: {:.3f}\".format(gbrt.score(X_test, y_test)))"
   ]
  },
  {
   "cell_type": "code",
   "execution_count": 21,
   "id": "trying-consumer",
   "metadata": {},
   "outputs": [
    {
     "name": "stdout",
     "output_type": "stream",
     "text": [
      "Правильность на обучающем наборе: 0.988\n",
      "Правильность на тестовом наборе: 0.965\n"
     ]
    }
   ],
   "source": [
    "gbrt = GradientBoostingClassifier(random_state=0, learning_rate=0.01)\n",
    "gbrt.fit(X_train, y_train)\n",
    "\n",
    "print(\"Правильность на обучающем наборе: {:.3f}\".format(gbrt.score(X_train, y_train)))\n",
    "print(\"Правильность на тестовом наборе: {:.3f}\".format(gbrt.score(X_test, y_test)))"
   ]
  },
  {
   "cell_type": "markdown",
   "id": "transsexual-radiation",
   "metadata": {},
   "source": [
    "Как и ожидалось, эти методы, направленные на уменьшение\n",
    "сложности модели, снижают правильность на обучающем наборе. В\n",
    "данном случае снижение максимальной глубины деревьев значительно\n",
    "улучшило модель, тогда как скорость обучения лишь незначительно\n",
    "повысило обобщающую способность."
   ]
  },
  {
   "cell_type": "markdown",
   "id": "removed-pocket",
   "metadata": {},
   "source": [
    "И вновь, как и в случае с остальными моделями на основе деревьев,\n",
    "мы можем визуализировать важности признаков, чтобы получить более\n",
    "глубокое представление о нашей модели. Поскольку мы\n",
    "использовали 100 деревьев, вряд ли целесообразно проверять все\n",
    "деревья, даже если все они имеют глубину 1:"
   ]
  },
  {
   "cell_type": "code",
   "execution_count": 22,
   "id": "beginning-preserve",
   "metadata": {},
   "outputs": [
    {
     "data": {
      "image/png": "[encoded data removed]",
      "text/plain": [
       "<Figure size 432x288 with 1 Axes>"
      ]
     },
     "metadata": {},
     "output_type": "display_data"
    }
   ],
   "source": [
    "gbrt = GradientBoostingClassifier(random_state=0, max_depth=1)\n",
    "gbrt.fit(X_train, y_train)\n",
    "\n",
    "def plot_feature_importances_cancer(model):\n",
    "    n_features = cancer.data.shape[1]\n",
    "    plt.barh(range(n_features), model.feature_importances_, align='center')\n",
    "    plt.yticks(np.arange(n_features), cancer.feature_names)\n",
    "    plt.xlabel(\"Важность признака\")\n",
    "    plt.ylabel(\"Признак\")\n",
    "plot_feature_importances_cancer(gbrt)"
   ]
  },
  {
   "cell_type": "markdown",
   "id": "raised-vault",
   "metadata": {},
   "source": [
    "На рисунке видно, что важности признаков, вычисленные\n",
    "градиентным бустингом деревьев, в какой-то степени схожи с\n",
    "важностями признаков, полученными с помощью случайного леса, хотя\n",
    "градиентный бустинг полностью проигнорировал некоторые признаки."
   ]
  },
  {
   "cell_type": "markdown",
   "id": "changed-colonial",
   "metadata": {},
   "source": [
    "## Аббакумов"
   ]
  },
  {
   "cell_type": "markdown",
   "id": "stupid-volleyball",
   "metadata": {},
   "source": [
    "### GBM"
   ]
  },
  {
   "cell_type": "markdown",
   "id": "directed-combat",
   "metadata": {},
   "source": [
    "Задача.\n",
    "Нужно предсказать доход человека (больше $50000 или меньше) по результатам его ответов в ходе переписи населения.<br>\n",
    "https://archive.ics.uci.edu/ml/datasets/Adult\n",
    "\n",
    "Описание данных:<br>\n",
    "https://archive.ics.uci.edu/ml/machine-learning-databases/adult/adult.names"
   ]
  },
  {
   "cell_type": "code",
   "execution_count": 36,
   "id": "ceramic-remains",
   "metadata": {},
   "outputs": [],
   "source": [
    "columns = ['age', 'workclass', 'fnlwgt', 'education', 'education-num',\n",
    "           'marital-status', 'occupation', 'relationship', 'race', 'sex',\n",
    "           'capital-gain', 'capital-loss', 'hours-per-week', 'native-country', 'income']\n",
    "df = pd.read_csv('adult.data', header=None, names=columns, na_values=' ?')\n",
    "# Удаляем колонку education (потому что есть уже закодированная колонка education-num)\n",
    "df = df.drop('education', axis=1)\n",
    "# Кодируем отклик в бинарные значения\n",
    "df['income'] = df['income'].map({' <=50K': 0, ' >50K': 1})\n",
    "# удаляем строки с NA значениями\n",
    "df = df.dropna()\n",
    "\n",
    "test = pd.read_csv('adult.test', header=None, names=columns, na_values=' ?', skiprows=1)\n",
    "test = test.drop('education', axis=1)\n",
    "test['income'] = test['income'].map({' <=50K.': 0, ' >50K.': 1})\n",
    "test = test.dropna()"
   ]
  },
  {
   "cell_type": "code",
   "execution_count": 37,
   "id": "correct-williams",
   "metadata": {},
   "outputs": [
    {
     "data": {
      "text/html": [
       "<div>\n",
       "<style scoped>\n",
       "    .dataframe tbody tr th:only-of-type {\n",
       "        vertical-align: middle;\n",
       "    }\n",
       "\n",
       "    .dataframe tbody tr th {\n",
       "        vertical-align: top;\n",
       "    }\n",
       "\n",
       "    .dataframe thead th {\n",
       "        text-align: right;\n",
       "    }\n",
       "</style>\n",
       "<table border=\"1\" class=\"dataframe\">\n",
       "  <thead>\n",
       "    <tr style=\"text-align: right;\">\n",
       "      <th></th>\n",
       "      <th>age</th>\n",
       "      <th>workclass</th>\n",
       "      <th>fnlwgt</th>\n",
       "      <th>education-num</th>\n",
       "      <th>marital-status</th>\n",
       "      <th>occupation</th>\n",
       "      <th>relationship</th>\n",
       "      <th>race</th>\n",
       "      <th>sex</th>\n",
       "      <th>capital-gain</th>\n",
       "      <th>capital-loss</th>\n",
       "      <th>hours-per-week</th>\n",
       "      <th>native-country</th>\n",
       "      <th>income</th>\n",
       "    </tr>\n",
       "  </thead>\n",
       "  <tbody>\n",
       "    <tr>\n",
       "      <th>0</th>\n",
       "      <td>39</td>\n",
       "      <td>State-gov</td>\n",
       "      <td>77516</td>\n",
       "      <td>13</td>\n",
       "      <td>Never-married</td>\n",
       "      <td>Adm-clerical</td>\n",
       "      <td>Not-in-family</td>\n",
       "      <td>White</td>\n",
       "      <td>Male</td>\n",
       "      <td>2174</td>\n",
       "      <td>0</td>\n",
       "      <td>40</td>\n",
       "      <td>United-States</td>\n",
       "      <td>0</td>\n",
       "    </tr>\n",
       "    <tr>\n",
       "      <th>1</th>\n",
       "      <td>50</td>\n",
       "      <td>Self-emp-not-inc</td>\n",
       "      <td>83311</td>\n",
       "      <td>13</td>\n",
       "      <td>Married-civ-spouse</td>\n",
       "      <td>Exec-managerial</td>\n",
       "      <td>Husband</td>\n",
       "      <td>White</td>\n",
       "      <td>Male</td>\n",
       "      <td>0</td>\n",
       "      <td>0</td>\n",
       "      <td>13</td>\n",
       "      <td>United-States</td>\n",
       "      <td>0</td>\n",
       "    </tr>\n",
       "    <tr>\n",
       "      <th>2</th>\n",
       "      <td>38</td>\n",
       "      <td>Private</td>\n",
       "      <td>215646</td>\n",
       "      <td>9</td>\n",
       "      <td>Divorced</td>\n",
       "      <td>Handlers-cleaners</td>\n",
       "      <td>Not-in-family</td>\n",
       "      <td>White</td>\n",
       "      <td>Male</td>\n",
       "      <td>0</td>\n",
       "      <td>0</td>\n",
       "      <td>40</td>\n",
       "      <td>United-States</td>\n",
       "      <td>0</td>\n",
       "    </tr>\n",
       "    <tr>\n",
       "      <th>3</th>\n",
       "      <td>53</td>\n",
       "      <td>Private</td>\n",
       "      <td>234721</td>\n",
       "      <td>7</td>\n",
       "      <td>Married-civ-spouse</td>\n",
       "      <td>Handlers-cleaners</td>\n",
       "      <td>Husband</td>\n",
       "      <td>Black</td>\n",
       "      <td>Male</td>\n",
       "      <td>0</td>\n",
       "      <td>0</td>\n",
       "      <td>40</td>\n",
       "      <td>United-States</td>\n",
       "      <td>0</td>\n",
       "    </tr>\n",
       "    <tr>\n",
       "      <th>4</th>\n",
       "      <td>28</td>\n",
       "      <td>Private</td>\n",
       "      <td>338409</td>\n",
       "      <td>13</td>\n",
       "      <td>Married-civ-spouse</td>\n",
       "      <td>Prof-specialty</td>\n",
       "      <td>Wife</td>\n",
       "      <td>Black</td>\n",
       "      <td>Female</td>\n",
       "      <td>0</td>\n",
       "      <td>0</td>\n",
       "      <td>40</td>\n",
       "      <td>Cuba</td>\n",
       "      <td>0</td>\n",
       "    </tr>\n",
       "  </tbody>\n",
       "</table>\n",
       "</div>"
      ],
      "text/plain": [
       "   age          workclass  fnlwgt  education-num       marital-status  \\\n",
       "0   39          State-gov   77516             13        Never-married   \n",
       "1   50   Self-emp-not-inc   83311             13   Married-civ-spouse   \n",
       "2   38            Private  215646              9             Divorced   \n",
       "3   53            Private  234721              7   Married-civ-spouse   \n",
       "4   28            Private  338409             13   Married-civ-spouse   \n",
       "\n",
       "           occupation    relationship    race      sex  capital-gain  \\\n",
       "0        Adm-clerical   Not-in-family   White     Male          2174   \n",
       "1     Exec-managerial         Husband   White     Male             0   \n",
       "2   Handlers-cleaners   Not-in-family   White     Male             0   \n",
       "3   Handlers-cleaners         Husband   Black     Male             0   \n",
       "4      Prof-specialty            Wife   Black   Female             0   \n",
       "\n",
       "   capital-loss  hours-per-week  native-country  income  \n",
       "0             0              40   United-States       0  \n",
       "1             0              13   United-States       0  \n",
       "2             0              40   United-States       0  \n",
       "3             0              40   United-States       0  \n",
       "4             0              40            Cuba       0  "
      ]
     },
     "execution_count": 37,
     "metadata": {},
     "output_type": "execute_result"
    }
   ],
   "source": [
    "df.head()"
   ]
  },
  {
   "cell_type": "markdown",
   "id": "thermal-bristol",
   "metadata": {},
   "source": [
    "Посчитаем распределение классов в отклике."
   ]
  },
  {
   "cell_type": "code",
   "execution_count": 38,
   "id": "developed-johnston",
   "metadata": {},
   "outputs": [
    {
     "data": {
      "text/plain": [
       "0    0.751078\n",
       "1    0.248922\n",
       "Name: income, dtype: float64"
      ]
     },
     "execution_count": 38,
     "metadata": {},
     "output_type": "execute_result"
    }
   ],
   "source": [
    "df['income'].value_counts(normalize=True)"
   ]
  },
  {
   "cell_type": "markdown",
   "id": "forward-seven",
   "metadata": {},
   "source": [
    "Разбиваем датасет на лёрн и тест. Бинаризуем категориальные признаки (эта операция ещё называется one-hot encoding)."
   ]
  },
  {
   "cell_type": "code",
   "execution_count": 39,
   "id": "lovely-christianity",
   "metadata": {},
   "outputs": [],
   "source": [
    "X_train = pd.get_dummies(df).drop('income', axis=1)\n",
    "y_train = df['income']\n",
    "\n",
    "X_test = pd.get_dummies(test).drop('income', axis=1)\n",
    "y_test = test['income']"
   ]
  },
  {
   "cell_type": "markdown",
   "id": "collective-cleanup",
   "metadata": {},
   "source": [
    "После бинаризации категориальных признаков окажется, что в обучающем множестве содержится на одну колонку больше. Это от того, что в тестовой выборке нет ни одного представителя Голландии в колонке ```native-county```."
   ]
  },
  {
   "cell_type": "code",
   "execution_count": 40,
   "id": "combined-ranking",
   "metadata": {},
   "outputs": [
    {
     "name": "stdout",
     "output_type": "stream",
     "text": [
      "88\n",
      "87\n",
      "{'native-country_ Holand-Netherlands'}\n",
      "set()\n"
     ]
    }
   ],
   "source": [
    "print(len(X_train.columns))\n",
    "print(len(X_test.columns))\n",
    "# Приводим множество названий колонок к типу set, находим разность двух множеств.\n",
    "print(set(X_train.columns) - set(X_test.columns))\n",
    "print(set(X_test.columns) - set(X_train.columns))"
   ]
  },
  {
   "cell_type": "markdown",
   "id": "liquid-motor",
   "metadata": {},
   "source": [
    "Чтобы полечить это, создадим полный список всех колонок (из трейна и из теста) и переиндексируем колонки в соответствии с этим списком. В результате в колонке ```native-country_ Holand-Netherlands``` в тесте появятся NaN-значения, которые мы заменим на нули."
   ]
  },
  {
   "cell_type": "code",
   "execution_count": 41,
   "id": "retired-briefing",
   "metadata": {},
   "outputs": [],
   "source": [
    "columns = set(X_train.columns) | set(X_test.columns)\n",
    "X_train = X_train.reindex(columns=columns).fillna(0)\n",
    "X_test = X_test.reindex(columns=columns).fillna(0)"
   ]
  },
  {
   "cell_type": "markdown",
   "id": "elegant-testimony",
   "metadata": {},
   "source": [
    "Теперь колонки в трейне и в тесте должны быть идентичными. В том числе идентичным должен быть и порядок колонок. На всякий случай убедимся в этом. "
   ]
  },
  {
   "cell_type": "code",
   "execution_count": 42,
   "id": "allied-orientation",
   "metadata": {},
   "outputs": [
    {
     "data": {
      "text/plain": [
       "True"
      ]
     },
     "execution_count": 42,
     "metadata": {},
     "output_type": "execute_result"
    }
   ],
   "source": [
    "# Команда all проверяет, все ли значения из входного списка равны True\n",
    "all(X_train.columns == X_test.columns)"
   ]
  },
  {
   "cell_type": "markdown",
   "id": "center-nirvana",
   "metadata": {},
   "source": [
    "Перейдём, наконец, к обучению модели."
   ]
  },
  {
   "cell_type": "markdown",
   "id": "vocational-sister",
   "metadata": {},
   "source": [
    "### GradientBoostingClassifier"
   ]
  },
  {
   "cell_type": "code",
   "execution_count": 43,
   "id": "inner-villa",
   "metadata": {},
   "outputs": [],
   "source": [
    "model = GradientBoostingClassifier(random_state=42,\n",
    "                                   # Число деревьев\n",
    "                                   n_estimators=500,\n",
    "                                   #  загрязнение измеряем “mse”, “mae” или “friedman_mse” (mse с улучшениями),  \n",
    "                                   criterion='friedman_mse', \n",
    "                                   # Максимальная глубина каждого дерева\n",
    "                                   #  критерий качества ‘deviance’ (кросс-энтропия) или ‘exponential’ (как в AdaBoost)\n",
    "                                   #  ‘deviance’ для классификации с вероятностями на выходе\n",
    "                                   loss='deviance', \n",
    "                                   # минимальное уменьшение загрязнения \n",
    "                                   min_impurity_decrease=0.0, \n",
    "                                   # Устарело\n",
    "                                   min_impurity_split=None,\n",
    "                                   # число узлов в дереве (сравни с RandomForest) !!!!!!!!!!!!!\n",
    "                                   max_depth=5,\n",
    "                                   # минимальное число наблюдений в узле потомке\n",
    "                                   min_samples_leaf=5, \n",
    "                                   # минимальное число наблюдений в узле родителе\n",
    "                                   min_samples_split=10,\n",
    "                                   # Параметр, уменьшающий переобучение, являющемся весом отдельного дерева.\n",
    "                                   # Рекомендуется выставлять небольшие значения из (0, 0.3].\n",
    "                                   learning_rate=0.01\n",
    "                                   # Есть и другие параметры, уменьшающие размер дерева,\n",
    "                                   # такие же как у DecisionTreeClassifier\n",
    "                                   )\n"
   ]
  },
  {
   "cell_type": "code",
   "execution_count": 44,
   "id": "opposed-former",
   "metadata": {},
   "outputs": [
    {
     "data": {
      "text/plain": [
       "GradientBoostingClassifier(learning_rate=0.01, max_depth=5, min_samples_leaf=5,\n",
       "                           min_samples_split=10, n_estimators=500,\n",
       "                           random_state=42)"
      ]
     },
     "execution_count": 44,
     "metadata": {},
     "output_type": "execute_result"
    }
   ],
   "source": [
    "model.fit(X_train, y_train)"
   ]
  },
  {
   "cell_type": "code",
   "execution_count": 45,
   "id": "satisfactory-system",
   "metadata": {},
   "outputs": [
    {
     "name": "stdout",
     "output_type": "stream",
     "text": [
      "              precision    recall  f1-score   support\n",
      "\n",
      "           0       0.89      0.95      0.92     11360\n",
      "           1       0.80      0.63      0.70      3700\n",
      "\n",
      "    accuracy                           0.87     15060\n",
      "   macro avg       0.84      0.79      0.81     15060\n",
      "weighted avg       0.86      0.87      0.86     15060\n",
      "\n"
     ]
    }
   ],
   "source": [
    "y_pred = model.predict(X_test)\n",
    "print(classification_report(y_test, y_pred))"
   ]
  },
  {
   "cell_type": "code",
   "execution_count": 46,
   "id": "featured-pearl",
   "metadata": {},
   "outputs": [
    {
     "name": "stdout",
     "output_type": "stream",
     "text": [
      "              precision    recall  f1-score   support\n",
      "\n",
      "           0       0.89      0.95      0.92     22654\n",
      "           1       0.81      0.63      0.71      7508\n",
      "\n",
      "    accuracy                           0.87     30162\n",
      "   macro avg       0.85      0.79      0.81     30162\n",
      "weighted avg       0.87      0.87      0.86     30162\n",
      "\n"
     ]
    }
   ],
   "source": [
    "y_pred_train = model.predict(X_train)\n",
    "print(classification_report(y_train, y_pred_train))"
   ]
  },
  {
   "cell_type": "code",
   "execution_count": 47,
   "id": "split-rotation",
   "metadata": {},
   "outputs": [
    {
     "data": {
      "text/html": [
       "<div>\n",
       "<style scoped>\n",
       "    .dataframe tbody tr th:only-of-type {\n",
       "        vertical-align: middle;\n",
       "    }\n",
       "\n",
       "    .dataframe tbody tr th {\n",
       "        vertical-align: top;\n",
       "    }\n",
       "\n",
       "    .dataframe thead th {\n",
       "        text-align: right;\n",
       "    }\n",
       "</style>\n",
       "<table border=\"1\" class=\"dataframe\">\n",
       "  <thead>\n",
       "    <tr style=\"text-align: right;\">\n",
       "      <th></th>\n",
       "      <th>0</th>\n",
       "      <th>1</th>\n",
       "    </tr>\n",
       "  </thead>\n",
       "  <tbody>\n",
       "    <tr>\n",
       "      <th>0</th>\n",
       "      <td>10773</td>\n",
       "      <td>587</td>\n",
       "    </tr>\n",
       "    <tr>\n",
       "      <th>1</th>\n",
       "      <td>1381</td>\n",
       "      <td>2319</td>\n",
       "    </tr>\n",
       "  </tbody>\n",
       "</table>\n",
       "</div>"
      ],
      "text/plain": [
       "       0     1\n",
       "0  10773   587\n",
       "1   1381  2319"
      ]
     },
     "execution_count": 47,
     "metadata": {},
     "output_type": "execute_result"
    }
   ],
   "source": [
    "conf_mat = metrics.confusion_matrix(y_test, y_pred)\n",
    "conf_mat = pd.DataFrame(conf_mat, index=model.classes_, columns=model.classes_)\n",
    "conf_mat"
   ]
  },
  {
   "cell_type": "code",
   "execution_count": 48,
   "id": "dietary-thing",
   "metadata": {},
   "outputs": [
    {
     "data": {
      "text/html": [
       "<div>\n",
       "<style scoped>\n",
       "    .dataframe tbody tr th:only-of-type {\n",
       "        vertical-align: middle;\n",
       "    }\n",
       "\n",
       "    .dataframe tbody tr th {\n",
       "        vertical-align: top;\n",
       "    }\n",
       "\n",
       "    .dataframe thead th {\n",
       "        text-align: right;\n",
       "    }\n",
       "</style>\n",
       "<table border=\"1\" class=\"dataframe\">\n",
       "  <thead>\n",
       "    <tr style=\"text-align: right;\">\n",
       "      <th></th>\n",
       "      <th>0</th>\n",
       "      <th>1</th>\n",
       "    </tr>\n",
       "  </thead>\n",
       "  <tbody>\n",
       "    <tr>\n",
       "      <th>0</th>\n",
       "      <td>21523</td>\n",
       "      <td>1131</td>\n",
       "    </tr>\n",
       "    <tr>\n",
       "      <th>1</th>\n",
       "      <td>2773</td>\n",
       "      <td>4735</td>\n",
       "    </tr>\n",
       "  </tbody>\n",
       "</table>\n",
       "</div>"
      ],
      "text/plain": [
       "       0     1\n",
       "0  21523  1131\n",
       "1   2773  4735"
      ]
     },
     "execution_count": 48,
     "metadata": {},
     "output_type": "execute_result"
    }
   ],
   "source": [
    "conf_mat = metrics.confusion_matrix(y_train, y_pred_train)\n",
    "conf_mat = pd.DataFrame(conf_mat, index=model.classes_, columns=model.classes_)\n",
    "conf_mat"
   ]
  },
  {
   "cell_type": "markdown",
   "id": "thorough-problem",
   "metadata": {},
   "source": [
    "Посмотрим на важность признаков."
   ]
  },
  {
   "cell_type": "code",
   "execution_count": 49,
   "id": "employed-finance",
   "metadata": {},
   "outputs": [
    {
     "data": {
      "text/html": [
       "<div>\n",
       "<style scoped>\n",
       "    .dataframe tbody tr th:only-of-type {\n",
       "        vertical-align: middle;\n",
       "    }\n",
       "\n",
       "    .dataframe tbody tr th {\n",
       "        vertical-align: top;\n",
       "    }\n",
       "\n",
       "    .dataframe thead th {\n",
       "        text-align: right;\n",
       "    }\n",
       "</style>\n",
       "<table border=\"1\" class=\"dataframe\">\n",
       "  <thead>\n",
       "    <tr style=\"text-align: right;\">\n",
       "      <th></th>\n",
       "      <th>features</th>\n",
       "      <th>importance</th>\n",
       "    </tr>\n",
       "  </thead>\n",
       "  <tbody>\n",
       "    <tr>\n",
       "      <th>14</th>\n",
       "      <td>marital-status_ Married-civ-spouse</td>\n",
       "      <td>0.381497</td>\n",
       "    </tr>\n",
       "    <tr>\n",
       "      <th>51</th>\n",
       "      <td>education-num</td>\n",
       "      <td>0.202413</td>\n",
       "    </tr>\n",
       "    <tr>\n",
       "      <th>17</th>\n",
       "      <td>capital-gain</td>\n",
       "      <td>0.199387</td>\n",
       "    </tr>\n",
       "    <tr>\n",
       "      <th>82</th>\n",
       "      <td>capital-loss</td>\n",
       "      <td>0.063016</td>\n",
       "    </tr>\n",
       "    <tr>\n",
       "      <th>0</th>\n",
       "      <td>age</td>\n",
       "      <td>0.053452</td>\n",
       "    </tr>\n",
       "    <tr>\n",
       "      <th>65</th>\n",
       "      <td>hours-per-week</td>\n",
       "      <td>0.030752</td>\n",
       "    </tr>\n",
       "    <tr>\n",
       "      <th>26</th>\n",
       "      <td>occupation_ Exec-managerial</td>\n",
       "      <td>0.016239</td>\n",
       "    </tr>\n",
       "    <tr>\n",
       "      <th>55</th>\n",
       "      <td>occupation_ Prof-specialty</td>\n",
       "      <td>0.007146</td>\n",
       "    </tr>\n",
       "    <tr>\n",
       "      <th>69</th>\n",
       "      <td>workclass_ Self-emp-not-inc</td>\n",
       "      <td>0.005784</td>\n",
       "    </tr>\n",
       "    <tr>\n",
       "      <th>80</th>\n",
       "      <td>occupation_ Other-service</td>\n",
       "      <td>0.005507</td>\n",
       "    </tr>\n",
       "  </tbody>\n",
       "</table>\n",
       "</div>"
      ],
      "text/plain": [
       "                              features  importance\n",
       "14  marital-status_ Married-civ-spouse    0.381497\n",
       "51                       education-num    0.202413\n",
       "17                        capital-gain    0.199387\n",
       "82                        capital-loss    0.063016\n",
       "0                                  age    0.053452\n",
       "65                      hours-per-week    0.030752\n",
       "26         occupation_ Exec-managerial    0.016239\n",
       "55          occupation_ Prof-specialty    0.007146\n",
       "69         workclass_ Self-emp-not-inc    0.005784\n",
       "80           occupation_ Other-service    0.005507"
      ]
     },
     "execution_count": 49,
     "metadata": {},
     "output_type": "execute_result"
    }
   ],
   "source": [
    "fi = pd.DataFrame({'features': X_train.columns, 'importance': model.feature_importances_})\n",
    "fi.sort_values('importance', ascending=False).head(10)"
   ]
  },
  {
   "cell_type": "markdown",
   "id": "manual-composition",
   "metadata": {},
   "source": [
    "## XGBoost"
   ]
  },
  {
   "cell_type": "markdown",
   "id": "renewable-murray",
   "metadata": {},
   "source": [
    "https://machinelearningmastery.com/category/xgboost/"
   ]
  },
  {
   "cell_type": "code",
   "execution_count": 50,
   "id": "charged-attachment",
   "metadata": {},
   "outputs": [],
   "source": [
    "# First XGBoost model for Pima Indians dataset\n",
    "# load data\n",
    "dataset = loadtxt('pima-indians-diabetes.data.csv', delimiter=\",\")\n",
    "# split data into X and y\n",
    "X = dataset[:,0:8]\n",
    "Y = dataset[:,8]"
   ]
  },
  {
   "cell_type": "code",
   "execution_count": 51,
   "id": "therapeutic-civilian",
   "metadata": {},
   "outputs": [
    {
     "name": "stdout",
     "output_type": "stream",
     "text": [
      "Accuracy: 74.02%\n"
     ]
    }
   ],
   "source": [
    "# split data into train and test sets\n",
    "seed = 7\n",
    "test_size = 0.33\n",
    "X_train, X_test, y_train, y_test = train_test_split(X, Y, test_size=test_size,\n",
    "random_state=seed)\n",
    "# fit model on training data\n",
    "model = XGBClassifier()\n",
    "model.fit(X_train, y_train)\n",
    "# make predictions for test data\n",
    "predictions = model.predict(X_test)\n",
    "# evaluate predictions\n",
    "accuracy = accuracy_score(y_test, predictions)\n",
    "print(\"Accuracy: %.2f%%\" % (accuracy * 100.0))"
   ]
  },
  {
   "cell_type": "markdown",
   "id": "bronze-fleece",
   "metadata": {},
   "source": [
    "### Промежуточные результаты и ранняя остановка"
   ]
  },
  {
   "cell_type": "markdown",
   "id": "annoying-engine",
   "metadata": {},
   "source": [
    "Мы можем прекратить обучение, если не происходит никаких улучшений при обучении модели. Мы можем сделать это, установив параметр ранних остановок early stopping rounds при вызове model.fit () для количества итераций, в течение которых не видны улучшения в наборе данных проверки, после которых процесс обучения будет остановлен."
   ]
  },
  {
   "cell_type": "code",
   "execution_count": 52,
   "id": "governmental-activation",
   "metadata": {},
   "outputs": [
    {
     "name": "stdout",
     "output_type": "stream",
     "text": [
      "[0]\tvalidation_0-logloss:0.60491\n",
      "Will train until validation_0-logloss hasn't improved in 10 rounds.\n",
      "[1]\tvalidation_0-logloss:0.55934\n",
      "[2]\tvalidation_0-logloss:0.53068\n",
      "[3]\tvalidation_0-logloss:0.51795\n",
      "[4]\tvalidation_0-logloss:0.51153\n",
      "[5]\tvalidation_0-logloss:0.50935\n",
      "[6]\tvalidation_0-logloss:0.50818\n",
      "[7]\tvalidation_0-logloss:0.51097\n",
      "[8]\tvalidation_0-logloss:0.51760\n",
      "[9]\tvalidation_0-logloss:0.51912\n",
      "[10]\tvalidation_0-logloss:0.52503\n",
      "[11]\tvalidation_0-logloss:0.52697\n",
      "[12]\tvalidation_0-logloss:0.53335\n",
      "[13]\tvalidation_0-logloss:0.53905\n",
      "[14]\tvalidation_0-logloss:0.54546\n",
      "[15]\tvalidation_0-logloss:0.54613\n",
      "[16]\tvalidation_0-logloss:0.54982\n",
      "Stopping. Best iteration:\n",
      "[6]\tvalidation_0-logloss:0.50818\n",
      "\n",
      "Accuracy: 74.41%\n"
     ]
    }
   ],
   "source": [
    "#fit model on training data\n",
    "model = XGBClassifier()\n",
    "eval_set = [(X_test, y_test)]\n",
    "model.fit(X_train, y_train, early_stopping_rounds=10, eval_metric=\"logloss\",\n",
    "eval_set=eval_set, verbose=True)\n",
    "# make predictions for test data\n",
    "y_predictions = model.predict(X_test)\n",
    "# evaluate predictions\n",
    "accuracy = accuracy_score(y_test, y_predictions)\n",
    "print(\"Accuracy: %.2f%%\" % (accuracy * 100.0))"
   ]
  },
  {
   "cell_type": "markdown",
   "id": "global-explanation",
   "metadata": {},
   "source": [
    "### Определение важности признаков в XGBoost"
   ]
  },
  {
   "cell_type": "markdown",
   "id": "assured-actress",
   "metadata": {},
   "source": [
    "Обученная модель XGBoost автоматически рассчитывает важность признаков для моделирования проблемы. Эти оценки важности доступны в переменной feature importances\n",
    "обученной модели. Например, они могут быть напечатаны напрямую следующим образом:"
   ]
  },
  {
   "cell_type": "code",
   "execution_count": 53,
   "id": "becoming-waterproof",
   "metadata": {},
   "outputs": [
    {
     "name": "stdout",
     "output_type": "stream",
     "text": [
      "[0.06669603 0.28271106 0.07985319 0.07951089 0.10537349 0.1623834\n",
      " 0.10070346 0.12276844]\n"
     ]
    }
   ],
   "source": [
    "print(model.feature_importances_)"
   ]
  },
  {
   "cell_type": "markdown",
   "id": "weekly-column",
   "metadata": {},
   "source": [
    "Можно также изобразить признаки в порядке возрастания их важности для модели."
   ]
  },
  {
   "cell_type": "code",
   "execution_count": 54,
   "id": "sensitive-christopher",
   "metadata": {},
   "outputs": [
    {
     "data": {
      "image/png": "[encoded data removed]",
      "text/plain": [
       "<Figure size 432x288 with 1 Axes>"
      ]
     },
     "metadata": {},
     "output_type": "display_data"
    }
   ],
   "source": [
    "# plot feature importance\n",
    "plot_importance(model)\n",
    "plt.show()"
   ]
  },
  {
   "cell_type": "markdown",
   "id": "smaller-defendant",
   "metadata": {},
   "source": [
    "### Как настроить модель XGBoost"
   ]
  },
  {
   "cell_type": "markdown",
   "id": "tutorial-nomination",
   "metadata": {},
   "source": [
    "Ряд **конфигурационных эвристик** был опубликован в научных статьях по данному методу. Они могут быть обобщены следующим образом:\n",
    "* Скорость обучения (learning_rate в XGBoost) должна быть установлена на 0,1 или ниже, и меньшие значения потребуют добавления большего количества деревьев.\n",
    "* Глубина деревьев (tree_depth в XGBoost) должна быть установлена в диапазоне от 2 до 8, причем не так много пользы видно от более глубоких деревьев.\n",
    "* Выборка строк (subsample в XGBoost) должна быть настроена в диапазоне от 30% до 80% учебного набора данных, по сравнению со значением 100% для отсутствия выборки."
   ]
  },
  {
   "cell_type": "markdown",
   "id": "worldwide-bleeding",
   "metadata": {},
   "source": [
    "**При настройке вашей модели можно воспользоваться следующей стратегией**:\n",
    "1. Запустите конфигурацию по умолчанию и просмотрите графики кривых обучения на обучающем наборе и на тестовом наборе данных.\n",
    "2. Если система переобучается, уменьшите скорость обучения и / или увеличьте количество деревьев.\n",
    "3. Если система недообучается, ускорьте обучение, увеличивая скорость обучения и / или уменьшая количество деревьев."
   ]
  },
  {
   "cell_type": "markdown",
   "id": "substantial-eight",
   "metadata": {},
   "source": [
    "Оуэн Чжан, бывший участник №1 рейтинга  в Kaggle, а теперь технический директор Data Robot, предлагает интересную стратегию для настройки XGBoost. Он предлагает установить количество деревьев на уровне 100 или 1000, затем настрить скорость обучения, чтобы найти лучшую модель. Это эффективная стратегия для быстрого получения хорошей модели."
   ]
  },
  {
   "cell_type": "markdown",
   "id": "patent-librarian",
   "metadata": {},
   "source": [
    "### Настройка параметров в модели XGBoost"
   ]
  },
  {
   "cell_type": "markdown",
   "id": "silent-spray",
   "metadata": {},
   "source": [
    "Пакет scikit-learn предоставляет возможность поиска комбинаций параметров. Эта\n",
    "возможность предоставляется в классе GridSearchCV и может использоваться, чтобы найти лучший способ настройки модели для максимальной производительности по вашей проблеме. Например, мы можем задать сетку из двух параметров - количество деревьев (n estimators) и размеры деревьев (max depth) для поиска лучшей модели:"
   ]
  },
  {
   "cell_type": "code",
   "execution_count": 55,
   "id": "textile-round",
   "metadata": {},
   "outputs": [],
   "source": [
    "n_estimators = [50, 100, 150, 200]\n",
    "max_depth = [2, 4, 6, 8]\n",
    "param_grid = dict(max_depth=max_depth, n_estimators=n_estimators)"
   ]
  },
  {
   "cell_type": "markdown",
   "id": "figured-communication",
   "metadata": {},
   "source": [
    "Затем оценить каждую комбинацию параметров, используя 10-кратную кросс-валидацию (перекрестную оценку):"
   ]
  },
  {
   "cell_type": "code",
   "execution_count": 56,
   "id": "yellow-roommate",
   "metadata": {},
   "outputs": [
    {
     "name": "stdout",
     "output_type": "stream",
     "text": [
      "Fitting 10 folds for each of 16 candidates, totalling 160 fits\n"
     ]
    }
   ],
   "source": [
    "kfold = StratifiedKFold(n_splits=10, shuffle=True, random_state=7)\n",
    "grid_search = GridSearchCV(model, param_grid, scoring=\"neg_log_loss\", n_jobs=-1, cv=kfold,\n",
    "verbose=1)\n",
    "result = grid_search.fit(X, Y)"
   ]
  },
  {
   "cell_type": "code",
   "execution_count": 57,
   "id": "cooked-stocks",
   "metadata": {},
   "outputs": [
    {
     "name": "stdout",
     "output_type": "stream",
     "text": [
      "Accuracy: 86.22%\n"
     ]
    }
   ],
   "source": [
    "# make predictions for test data\n",
    "predictions = result.predict(X_test)\n",
    "# evaluate predictions\n",
    "accuracy = accuracy_score(y_test, predictions)\n",
    "print(\"Accuracy: %.2f%%\" % (accuracy * 100.0))"
   ]
  },
  {
   "cell_type": "markdown",
   "id": "deluxe-discipline",
   "metadata": {},
   "source": [
    "Затем мы можем рассмотреть результаты, чтобы определить лучшую комбинацию параметров. **Параметры для настройки**:\n",
    "* Число и размер деревьев (n estimators и max depth);\n",
    "* Скорость обучения и количество деревьев (learning rate и n estimators);\n",
    "* Количество строк и столбцов в подвыборках (subsample, colsample bytree и colsample bylevel)."
   ]
  },
  {
   "cell_type": "markdown",
   "id": "prostate-belief",
   "metadata": {},
   "source": [
    "Ниже приведен полный пример настройки только скорости обучения модели на данных о диабете."
   ]
  },
  {
   "cell_type": "code",
   "execution_count": 58,
   "id": "alert-telling",
   "metadata": {},
   "outputs": [],
   "source": [
    "# Tune learning_rate\n",
    "# load data\n",
    "dataset = loadtxt('pima-indians-diabetes.data.csv', delimiter=\",\")\n",
    "# split data into X and y\n",
    "X = dataset[:,0:8]\n",
    "Y = dataset[:,8]"
   ]
  },
  {
   "cell_type": "code",
   "execution_count": 59,
   "id": "recognized-carter",
   "metadata": {},
   "outputs": [],
   "source": [
    "# grid search\n",
    "model = XGBClassifier()\n",
    "learning_rate = [0.0001, 0.001, 0.01, 0.1, 0.2, 0.3]\n",
    "param_grid = dict(learning_rate=learning_rate)\n",
    "kfold = StratifiedKFold(n_splits=10, shuffle=True, random_state=7)\n",
    "grid_search = GridSearchCV(model, param_grid, scoring=\"neg_log_loss\", n_jobs=-1, cv=kfold)\n",
    "grid_result = grid_search.fit(X, Y)"
   ]
  },
  {
   "cell_type": "code",
   "execution_count": 60,
   "id": "covered-warren",
   "metadata": {},
   "outputs": [
    {
     "name": "stdout",
     "output_type": "stream",
     "text": [
      "Best: -0.530152 using {'learning_rate': 0.01}\n",
      "-0.689563 (0.000760) with: {'learning_rate': 0.0001}\n",
      "-0.660868 (0.006202) with: {'learning_rate': 0.001}\n",
      "-0.530152 (0.034452) with: {'learning_rate': 0.01}\n",
      "-0.552723 (0.117636) with: {'learning_rate': 0.1}\n",
      "-0.653341 (0.171609) with: {'learning_rate': 0.2}\n",
      "-0.718789 (0.176641) with: {'learning_rate': 0.3}\n"
     ]
    }
   ],
   "source": [
    "# summarize results\n",
    "print(\"Best: %f using %s\" % (grid_result.best_score_, grid_result.best_params_))\n",
    "means = grid_result.cv_results_['mean_test_score']\n",
    "stds = grid_result.cv_results_['std_test_score']\n",
    "params = grid_result.cv_results_['params']\n",
    "for mean, stdev, param in zip(means, stds, params):\n",
    "    print(\"%f (%f) with: %r\" % (mean, stdev, param))"
   ]
  },
  {
   "cell_type": "code",
   "execution_count": 61,
   "id": "stuffed-tender",
   "metadata": {},
   "outputs": [
    {
     "name": "stdout",
     "output_type": "stream",
     "text": [
      "Accuracy: 90.94%\n"
     ]
    }
   ],
   "source": [
    "# make predictions for test data\n",
    "predictions = grid_result.predict(X_test)\n",
    "# evaluate predictions\n",
    "accuracy = accuracy_score(y_test, predictions)\n",
    "print(\"Accuracy: %.2f%%\" % (accuracy * 100.0))"
   ]
  },
  {
   "cell_type": "markdown",
   "id": "known-protest",
   "metadata": {},
   "source": [
    "## Аббакумов"
   ]
  },
  {
   "cell_type": "markdown",
   "id": "given-insurance",
   "metadata": {},
   "source": [
    "## XGBoost"
   ]
  },
  {
   "cell_type": "markdown",
   "id": "informative-scale",
   "metadata": {},
   "source": [
    "Разберём задачу, в которой нужно предсказать доход человека (больше $50000 или меньше) по результатам переписи населения.\n",
    "https://archive.ics.uci.edu/ml/datasets/Adult\n",
    "\n",
    "Описание данных:\n",
    "https://archive.ics.uci.edu/ml/machine-learning-databases/adult/adult.names"
   ]
  },
  {
   "cell_type": "code",
   "execution_count": 76,
   "id": "alternate-forge",
   "metadata": {},
   "outputs": [],
   "source": [
    "columns = ['age', 'workclass', 'fnlwgt', 'education', 'education-num',\n",
    "           'marital-status', 'occupation', 'relationship', 'race', 'sex',\n",
    "           'capital-gain', 'capital-loss', 'hours-per-week', 'native-country', 'income']\n",
    "df = pd.read_csv('adult.data', header=None, names=columns, na_values=' ?')\n",
    "# Удаляем колонку education (потому что есть уже закодированная колонка education-num)\n",
    "df = df.drop('education', axis=1)\n",
    "# Кодируем отклик в бинарные значения\n",
    "df['income'] = df['income'].map({' <=50K': 0, ' >50K': 1})\n",
    "# удаляем строки с NA значениями\n",
    "df = df.dropna()\n",
    "\n",
    "test = pd.read_csv('adult.test', header=None, names=columns, na_values=' ?', skiprows=1)\n",
    "test = test.drop('education', axis=1)\n",
    "test['income'] = test['income'].map({' <=50K.': 0, ' >50K.': 1})\n",
    "test = test.dropna()"
   ]
  },
  {
   "cell_type": "code",
   "execution_count": 77,
   "id": "changed-spectrum",
   "metadata": {},
   "outputs": [
    {
     "data": {
      "text/html": [
       "<div>\n",
       "<style scoped>\n",
       "    .dataframe tbody tr th:only-of-type {\n",
       "        vertical-align: middle;\n",
       "    }\n",
       "\n",
       "    .dataframe tbody tr th {\n",
       "        vertical-align: top;\n",
       "    }\n",
       "\n",
       "    .dataframe thead th {\n",
       "        text-align: right;\n",
       "    }\n",
       "</style>\n",
       "<table border=\"1\" class=\"dataframe\">\n",
       "  <thead>\n",
       "    <tr style=\"text-align: right;\">\n",
       "      <th></th>\n",
       "      <th>age</th>\n",
       "      <th>workclass</th>\n",
       "      <th>fnlwgt</th>\n",
       "      <th>education-num</th>\n",
       "      <th>marital-status</th>\n",
       "      <th>occupation</th>\n",
       "      <th>relationship</th>\n",
       "      <th>race</th>\n",
       "      <th>sex</th>\n",
       "      <th>capital-gain</th>\n",
       "      <th>capital-loss</th>\n",
       "      <th>hours-per-week</th>\n",
       "      <th>native-country</th>\n",
       "      <th>income</th>\n",
       "    </tr>\n",
       "  </thead>\n",
       "  <tbody>\n",
       "    <tr>\n",
       "      <th>0</th>\n",
       "      <td>39</td>\n",
       "      <td>State-gov</td>\n",
       "      <td>77516</td>\n",
       "      <td>13</td>\n",
       "      <td>Never-married</td>\n",
       "      <td>Adm-clerical</td>\n",
       "      <td>Not-in-family</td>\n",
       "      <td>White</td>\n",
       "      <td>Male</td>\n",
       "      <td>2174</td>\n",
       "      <td>0</td>\n",
       "      <td>40</td>\n",
       "      <td>United-States</td>\n",
       "      <td>0</td>\n",
       "    </tr>\n",
       "    <tr>\n",
       "      <th>1</th>\n",
       "      <td>50</td>\n",
       "      <td>Self-emp-not-inc</td>\n",
       "      <td>83311</td>\n",
       "      <td>13</td>\n",
       "      <td>Married-civ-spouse</td>\n",
       "      <td>Exec-managerial</td>\n",
       "      <td>Husband</td>\n",
       "      <td>White</td>\n",
       "      <td>Male</td>\n",
       "      <td>0</td>\n",
       "      <td>0</td>\n",
       "      <td>13</td>\n",
       "      <td>United-States</td>\n",
       "      <td>0</td>\n",
       "    </tr>\n",
       "    <tr>\n",
       "      <th>2</th>\n",
       "      <td>38</td>\n",
       "      <td>Private</td>\n",
       "      <td>215646</td>\n",
       "      <td>9</td>\n",
       "      <td>Divorced</td>\n",
       "      <td>Handlers-cleaners</td>\n",
       "      <td>Not-in-family</td>\n",
       "      <td>White</td>\n",
       "      <td>Male</td>\n",
       "      <td>0</td>\n",
       "      <td>0</td>\n",
       "      <td>40</td>\n",
       "      <td>United-States</td>\n",
       "      <td>0</td>\n",
       "    </tr>\n",
       "    <tr>\n",
       "      <th>3</th>\n",
       "      <td>53</td>\n",
       "      <td>Private</td>\n",
       "      <td>234721</td>\n",
       "      <td>7</td>\n",
       "      <td>Married-civ-spouse</td>\n",
       "      <td>Handlers-cleaners</td>\n",
       "      <td>Husband</td>\n",
       "      <td>Black</td>\n",
       "      <td>Male</td>\n",
       "      <td>0</td>\n",
       "      <td>0</td>\n",
       "      <td>40</td>\n",
       "      <td>United-States</td>\n",
       "      <td>0</td>\n",
       "    </tr>\n",
       "    <tr>\n",
       "      <th>4</th>\n",
       "      <td>28</td>\n",
       "      <td>Private</td>\n",
       "      <td>338409</td>\n",
       "      <td>13</td>\n",
       "      <td>Married-civ-spouse</td>\n",
       "      <td>Prof-specialty</td>\n",
       "      <td>Wife</td>\n",
       "      <td>Black</td>\n",
       "      <td>Female</td>\n",
       "      <td>0</td>\n",
       "      <td>0</td>\n",
       "      <td>40</td>\n",
       "      <td>Cuba</td>\n",
       "      <td>0</td>\n",
       "    </tr>\n",
       "  </tbody>\n",
       "</table>\n",
       "</div>"
      ],
      "text/plain": [
       "   age          workclass  fnlwgt  education-num       marital-status  \\\n",
       "0   39          State-gov   77516             13        Never-married   \n",
       "1   50   Self-emp-not-inc   83311             13   Married-civ-spouse   \n",
       "2   38            Private  215646              9             Divorced   \n",
       "3   53            Private  234721              7   Married-civ-spouse   \n",
       "4   28            Private  338409             13   Married-civ-spouse   \n",
       "\n",
       "           occupation    relationship    race      sex  capital-gain  \\\n",
       "0        Adm-clerical   Not-in-family   White     Male          2174   \n",
       "1     Exec-managerial         Husband   White     Male             0   \n",
       "2   Handlers-cleaners   Not-in-family   White     Male             0   \n",
       "3   Handlers-cleaners         Husband   Black     Male             0   \n",
       "4      Prof-specialty            Wife   Black   Female             0   \n",
       "\n",
       "   capital-loss  hours-per-week  native-country  income  \n",
       "0             0              40   United-States       0  \n",
       "1             0              13   United-States       0  \n",
       "2             0              40   United-States       0  \n",
       "3             0              40   United-States       0  \n",
       "4             0              40            Cuba       0  "
      ]
     },
     "execution_count": 77,
     "metadata": {},
     "output_type": "execute_result"
    }
   ],
   "source": [
    "df.head()"
   ]
  },
  {
   "cell_type": "markdown",
   "id": "prompt-advocate",
   "metadata": {},
   "source": [
    "Посчитаем распределение классов в отклике."
   ]
  },
  {
   "cell_type": "code",
   "execution_count": 78,
   "id": "suspected-roulette",
   "metadata": {},
   "outputs": [
    {
     "data": {
      "text/plain": [
       "0    0.751078\n",
       "1    0.248922\n",
       "Name: income, dtype: float64"
      ]
     },
     "execution_count": 78,
     "metadata": {},
     "output_type": "execute_result"
    }
   ],
   "source": [
    "df['income'].value_counts(normalize=True)"
   ]
  },
  {
   "cell_type": "markdown",
   "id": "standard-equation",
   "metadata": {},
   "source": [
    "Разбиваем выборку на обучающую и тестовую. "
   ]
  },
  {
   "cell_type": "code",
   "execution_count": 79,
   "id": "affiliated-laser",
   "metadata": {},
   "outputs": [],
   "source": [
    "X_train = pd.get_dummies(df).drop('income', axis=1)\n",
    "y_train = df['income']"
   ]
  },
  {
   "cell_type": "markdown",
   "id": "regulated-sword",
   "metadata": {},
   "source": [
    "Бинаризуем категориальные признаки (эта операция ещё называется one-hot encoding)."
   ]
  },
  {
   "cell_type": "code",
   "execution_count": 80,
   "id": "lesser-intersection",
   "metadata": {},
   "outputs": [],
   "source": [
    "X_test = pd.get_dummies(test).drop('income', axis=1)\n",
    "y_test = test['income']"
   ]
  },
  {
   "cell_type": "markdown",
   "id": "mineral-liechtenstein",
   "metadata": {},
   "source": [
    "После бинаризации категориальных признаков оказалось, что в обучающем множестве содержится на одну колонку больше. Причина: в тестовую выборку не попал ни один представитель Голландии (см. колонку native-county). Проверяем"
   ]
  },
  {
   "cell_type": "code",
   "execution_count": 81,
   "id": "intelligent-season",
   "metadata": {},
   "outputs": [
    {
     "name": "stdout",
     "output_type": "stream",
     "text": [
      "88\n",
      "87\n",
      "{'native-country_ Holand-Netherlands'}\n",
      "set()\n"
     ]
    }
   ],
   "source": [
    "print (len(X_train.columns))\n",
    "print (len(X_test.columns))\n",
    "# Приводим множество названий колонок к типу set, находим разность двух множеств.\n",
    "print(set(X_train.columns) - set(X_test.columns))\n",
    "print(set(X_test.columns) - set(X_train.columns))"
   ]
  },
  {
   "cell_type": "markdown",
   "id": "established-hammer",
   "metadata": {},
   "source": [
    "Исправляем. \n",
    "Создадим полный список всех колонок (из трейна и из теста) и переиндексируем колонки в соответствии с этим списком. В результате в колонке native-country_ Holand-Netherlands в тестовом множестве появятся NaN-значения, которые мы заменим на нули."
   ]
  },
  {
   "cell_type": "code",
   "execution_count": 82,
   "id": "configured-footage",
   "metadata": {},
   "outputs": [],
   "source": [
    "columns = set(X_train.columns) | set(X_test.columns)\n",
    "X_train = X_train.reindex(columns=columns).fillna(0)\n",
    "X_test = X_test.reindex(columns=columns).fillna(0)"
   ]
  },
  {
   "cell_type": "markdown",
   "id": "bearing-howard",
   "metadata": {},
   "source": [
    "Теперь колонки в обучающей и тестовой выборках должны быть идентичными. \n",
    "В том числе идентичным должен быть и порядок колонок. \n",
    "На всякий случай проверим."
   ]
  },
  {
   "cell_type": "code",
   "execution_count": 83,
   "id": "hollow-rental",
   "metadata": {},
   "outputs": [
    {
     "data": {
      "text/plain": [
       "True"
      ]
     },
     "execution_count": 83,
     "metadata": {},
     "output_type": "execute_result"
    }
   ],
   "source": [
    "# Команда all проверяет, все ли значения из входного списка равны True\n",
    "all(X_train.columns == X_test.columns)"
   ]
  },
  {
   "cell_type": "markdown",
   "id": "sexual-complaint",
   "metadata": {},
   "source": [
    "Перейдём, наконец, к обучению модели.\n",
    "Хотя, если честно, можно многое улучшить.\n",
    "Например, объединить некоторые колонки."
   ]
  },
  {
   "cell_type": "markdown",
   "id": "damaged-performer",
   "metadata": {},
   "source": [
    "## XGBoost"
   ]
  },
  {
   "cell_type": "code",
   "execution_count": 84,
   "id": "tough-checklist",
   "metadata": {},
   "outputs": [
    {
     "name": "stdout",
     "output_type": "stream",
     "text": [
      "              precision    recall  f1-score   support\n",
      "\n",
      "           0       0.91      0.95      0.93     22654\n",
      "           1       0.84      0.73      0.78      7508\n",
      "\n",
      "    accuracy                           0.90     30162\n",
      "   macro avg       0.88      0.84      0.86     30162\n",
      "weighted avg       0.90      0.90      0.90     30162\n",
      "\n",
      "              precision    recall  f1-score   support\n",
      "\n",
      "           0       0.90      0.94      0.92     11360\n",
      "           1       0.77      0.66      0.71      3700\n",
      "\n",
      "    accuracy                           0.87     15060\n",
      "   macro avg       0.83      0.80      0.81     15060\n",
      "weighted avg       0.86      0.87      0.87     15060\n",
      "\n"
     ]
    }
   ],
   "source": [
    "model = XGBClassifier(seed=42,\n",
    "                      n_estimators=100,\n",
    "                      max_depth=6,\n",
    "                      learning_rate=0.3)\n",
    "model.fit(X_train, y_train)\n",
    "\n",
    "y_pred_train = model.predict(X_train)\n",
    "print (classification_report(y_train, y_pred_train))\n",
    "\n",
    "y_pred = model.predict(X_test)\n",
    "print (classification_report(y_test, y_pred))"
   ]
  },
  {
   "cell_type": "code",
   "execution_count": 85,
   "id": "handmade-tunnel",
   "metadata": {},
   "outputs": [
    {
     "data": {
      "text/plain": [
       "<AxesSubplot:title={'center':'Feature importance'}, xlabel='F score', ylabel='Features'>"
      ]
     },
     "execution_count": 85,
     "metadata": {},
     "output_type": "execute_result"
    },
    {
     "data": {
      "image/png": "[encoded data removed]",
      "text/plain": [
       "<Figure size 432x288 with 1 Axes>"
      ]
     },
     "metadata": {},
     "output_type": "display_data"
    }
   ],
   "source": [
    "xgb.plot_importance(model)"
   ]
  },
  {
   "cell_type": "code",
   "execution_count": 86,
   "id": "convenient-milton",
   "metadata": {},
   "outputs": [
    {
     "data": {
      "text/plain": [
       "<AxesSubplot:title={'center':'Feature importance'}, xlabel='F score', ylabel='Features'>"
      ]
     },
     "execution_count": 86,
     "metadata": {},
     "output_type": "execute_result"
    },
    {
     "data": {
      "image/png": "[encoded data removed]",
      "text/plain": [
       "<Figure size 432x288 with 1 Axes>"
      ]
     },
     "metadata": {},
     "output_type": "display_data"
    }
   ],
   "source": [
    "xgb.plot_importance(model, max_num_features = 30)"
   ]
  },
  {
   "cell_type": "code",
   "execution_count": 87,
   "id": "straight-blood",
   "metadata": {},
   "outputs": [],
   "source": [
    "grid_param = {  \n",
    "    'n_estimators': [100, 300, 500, 800, 1000],\n",
    "    'max_depth': [3, 4, 6],\n",
    "    'learning_rate': [0.05, 0.1, 0.3]\n",
    "}"
   ]
  },
  {
   "cell_type": "code",
   "execution_count": 88,
   "id": "given-prison",
   "metadata": {},
   "outputs": [],
   "source": [
    "model = XGBClassifier(seed=42,\n",
    "                      n_estimators=100,\n",
    "                      max_depth=6,\n",
    "                      learning_rate=0.3)"
   ]
  },
  {
   "cell_type": "code",
   "execution_count": 89,
   "id": "human-devon",
   "metadata": {},
   "outputs": [],
   "source": [
    "zzz = GridSearchCV(cv=5, error_score='raise',\n",
    "       estimator=XGBClassifier(base_score=0.5, colsample_bylevel=1, \n",
    "       colsample_bytree=0.8,\n",
    "       gamma=0, learning_rate=0.1, max_delta_step=0, max_depth=3,\n",
    "       min_child_weight=1, missing=None, n_estimators=100, nthread=-1,\n",
    "       objective='binary:logistic', reg_alpha=0, reg_lambda=1,\n",
    "       scale_pos_weight=1, seed=1234, silent=True, subsample=0.8), n_jobs=-1,\n",
    "       param_grid={'min_child_weight': [1, 3, 5], 'max_depth': [3, 5, 7]},\n",
    "       pre_dispatch='2*n_jobs', refit=True, scoring='accuracy', verbose=0)\n"
   ]
  },
  {
   "cell_type": "code",
   "execution_count": 90,
   "id": "divided-brooklyn",
   "metadata": {},
   "outputs": [
    {
     "data": {
      "text/plain": [
       "GridSearchCV(cv=5, error_score='raise',\n",
       "             estimator=XGBClassifier(base_score=0.5, booster=None,\n",
       "                                     colsample_bylevel=1, colsample_bynode=None,\n",
       "                                     colsample_bytree=0.8, gamma=0, gpu_id=None,\n",
       "                                     importance_type='gain',\n",
       "                                     interaction_constraints=None,\n",
       "                                     learning_rate=0.1, max_delta_step=0,\n",
       "                                     max_depth=3, min_child_weight=1,\n",
       "                                     missing=nan, monotone_constraints=None,\n",
       "                                     n_estimators=100, n_jobs=None, nthread=-1,\n",
       "                                     num_parallel_tree=None, random_state=None,\n",
       "                                     reg_alpha=0, reg_lambda=1,\n",
       "                                     scale_pos_weight=1, seed=1234, silent=True,\n",
       "                                     subsample=0.8, tree_method=None,\n",
       "                                     validate_parameters=False,\n",
       "                                     verbosity=None),\n",
       "             n_jobs=-1,\n",
       "             param_grid={'max_depth': [3, 5, 7], 'min_child_weight': [1, 3, 5]},\n",
       "             scoring='accuracy')"
      ]
     },
     "execution_count": 90,
     "metadata": {},
     "output_type": "execute_result"
    }
   ],
   "source": [
    "zzz.fit(X_train, y_train)"
   ]
  },
  {
   "cell_type": "code",
   "execution_count": 91,
   "id": "mobile-surge",
   "metadata": {},
   "outputs": [
    {
     "data": {
      "text/plain": [
       "['mean_fit_time',\n",
       " 'mean_score_time',\n",
       " 'mean_test_score',\n",
       " 'param_max_depth',\n",
       " 'param_min_child_weight',\n",
       " 'params',\n",
       " 'rank_test_score',\n",
       " 'split0_test_score',\n",
       " 'split1_test_score',\n",
       " 'split2_test_score',\n",
       " 'split3_test_score',\n",
       " 'split4_test_score',\n",
       " 'std_fit_time',\n",
       " 'std_score_time',\n",
       " 'std_test_score']"
      ]
     },
     "execution_count": 91,
     "metadata": {},
     "output_type": "execute_result"
    }
   ],
   "source": [
    "sorted(zzz.cv_results_.keys())"
   ]
  },
  {
   "cell_type": "code",
   "execution_count": 92,
   "id": "productive-forty",
   "metadata": {},
   "outputs": [
    {
     "data": {
      "text/plain": [
       "dict_keys(['mean_fit_time', 'std_fit_time', 'mean_score_time', 'std_score_time', 'param_max_depth', 'param_min_child_weight', 'params', 'split0_test_score', 'split1_test_score', 'split2_test_score', 'split3_test_score', 'split4_test_score', 'mean_test_score', 'std_test_score', 'rank_test_score'])"
      ]
     },
     "execution_count": 92,
     "metadata": {},
     "output_type": "execute_result"
    }
   ],
   "source": [
    "zzz.cv_results_.keys()"
   ]
  },
  {
   "cell_type": "code",
   "execution_count": 93,
   "id": "proud-saskatchewan",
   "metadata": {},
   "outputs": [
    {
     "data": {
      "text/plain": [
       "{'mean_fit_time': array([10.83905435, 11.14179387, 11.38033357, 15.77180715, 15.66511793,\n",
       "        15.63656507, 22.22903528, 21.89672608, 16.58448176]),\n",
       " 'std_fit_time': array([0.04264724, 0.32087873, 0.13262822, 0.27976223, 0.13772545,\n",
       "        0.10544185, 0.59369364, 0.96436749, 0.2032731 ]),\n",
       " 'mean_score_time': array([0.05893207, 0.06701226, 0.06004992, 0.0588047 , 0.06757231,\n",
       "        0.06957049, 0.08398933, 0.06869226, 0.04517274]),\n",
       " 'std_score_time': array([0.0144438 , 0.01338292, 0.01482856, 0.00436057, 0.00465544,\n",
       "        0.00656949, 0.01297935, 0.01118244, 0.00426549]),\n",
       " 'param_max_depth': masked_array(data=[3, 3, 3, 5, 5, 5, 7, 7, 7],\n",
       "              mask=[False, False, False, False, False, False, False, False,\n",
       "                    False],\n",
       "        fill_value='?',\n",
       "             dtype=object),\n",
       " 'param_min_child_weight': masked_array(data=[1, 3, 5, 1, 3, 5, 1, 3, 5],\n",
       "              mask=[False, False, False, False, False, False, False, False,\n",
       "                    False],\n",
       "        fill_value='?',\n",
       "             dtype=object),\n",
       " 'params': [{'max_depth': 3, 'min_child_weight': 1},\n",
       "  {'max_depth': 3, 'min_child_weight': 3},\n",
       "  {'max_depth': 3, 'min_child_weight': 5},\n",
       "  {'max_depth': 5, 'min_child_weight': 1},\n",
       "  {'max_depth': 5, 'min_child_weight': 3},\n",
       "  {'max_depth': 5, 'min_child_weight': 5},\n",
       "  {'max_depth': 7, 'min_child_weight': 1},\n",
       "  {'max_depth': 7, 'min_child_weight': 3},\n",
       "  {'max_depth': 7, 'min_child_weight': 5}],\n",
       " 'split0_test_score': array([0.85546163, 0.85612465, 0.85496436, 0.86540693, 0.86524117,\n",
       "        0.86540693, 0.86606995, 0.8662357 , 0.86557268]),\n",
       " 'split1_test_score': array([0.85678767, 0.85562738, 0.8544671 , 0.86358362, 0.86126305,\n",
       "        0.8644124 , 0.86573844, 0.86739599, 0.86573844]),\n",
       " 'split2_test_score': array([0.86206897, 0.86157162, 0.86041114, 0.86621353, 0.86671088,\n",
       "        0.86654509, 0.87085544, 0.87135279, 0.87168435]),\n",
       " 'split3_test_score': array([0.8645557 , 0.86488727, 0.86372679, 0.871187  , 0.8721817 ,\n",
       "        0.8721817 , 0.87466844, 0.875     , 0.871187  ]),\n",
       " 'split4_test_score': array([0.86521883, 0.86322944, 0.8645557 , 0.86753979, 0.86853448,\n",
       "        0.86870027, 0.86903183, 0.86986074, 0.871187  ]),\n",
       " 'mean_test_score': array([0.86081856, 0.86028807, 0.85962502, 0.86678617, 0.86678626,\n",
       "        0.86744928, 0.86927282, 0.86996904, 0.8690739 ]),\n",
       " 'std_test_score': array([0.00399592, 0.00375521, 0.00424453, 0.00254644, 0.00360738,\n",
       "        0.00276305, 0.00329926, 0.00309178, 0.00279745]),\n",
       " 'rank_test_score': array([7, 8, 9, 6, 5, 4, 2, 1, 3])}"
      ]
     },
     "execution_count": 93,
     "metadata": {},
     "output_type": "execute_result"
    }
   ],
   "source": [
    "zzz.cv_results_"
   ]
  },
  {
   "cell_type": "code",
   "execution_count": null,
   "id": "knowing-stack",
   "metadata": {},
   "outputs": [],
   "source": []
  }
 ],
 "metadata": {
  "kernelspec": {
   "display_name": "Python 3",
   "language": "python",
   "name": "python3"
  },
  "language_info": {
   "codemirror_mode": {
    "name": "ipython",
    "version": 3
   },
   "file_extension": ".py",
   "mimetype": "text/x-python",
   "name": "python",
   "nbconvert_exporter": "python",
   "pygments_lexer": "ipython3",
   "version": "3.7.4"
  }
 },
 "nbformat": 4,
 "nbformat_minor": 5
}
