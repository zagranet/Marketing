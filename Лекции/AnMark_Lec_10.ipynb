{
 "cells": [
  {
   "cell_type": "markdown",
   "id": "spanish-fundamental",
   "metadata": {},
   "source": [
    "# Лекция 10. Структура проекта построения простой модели машинного обучения"
   ]
  },
  {
   "cell_type": "markdown",
   "id": "satellite-cross",
   "metadata": {},
   "source": [
    "Структура проекта построения модели машинного обучения приведена ниже.В простой модели исключим пункт 5, посвященный улучшению качества модели путем использования ансамблевых методов и настройки параметров модели. "
   ]
  },
  {
   "cell_type": "markdown",
   "id": "portable-access",
   "metadata": {},
   "source": [
    "## Python Project Template\n",
    "## 1. Prepare Problem\n",
    "## a) Load libraries\n",
    "## b) Load dataset\n",
    "## 2. Summarize Data\n",
    "## a) Descriptive statistics\n",
    "## b) Data visualizations\n",
    "## 3. Prepare Data\n",
    "## a) Data Cleaning\n",
    "## b) Feature Selection\n",
    "## c) Data Transforms\n",
    "## 4. Evaluate Algorithms\n",
    "## a) Split-out validation dataset\n",
    "## b) Test options and evaluation metric\n",
    "## c) Spot Check Algorithms\n",
    "## d) Compare Algorithms\n",
    "## 5. Improve Accuracy\n",
    "## a) Algorithm Tuning\n",
    "## b) Ensembles\n",
    "## 6. Finalize Model\n",
    "## a) Predictions on validation dataset\n",
    "## b) Create standalone model on entire training dataset\n",
    "## c) Save model for later use"
   ]
  },
  {
   "cell_type": "code",
   "execution_count": null,
   "id": "cubic-transaction",
   "metadata": {},
   "outputs": [],
   "source": []
  }
 ],
 "metadata": {
  "kernelspec": {
   "display_name": "Python 3",
   "language": "python",
   "name": "python3"
  },
  "language_info": {
   "codemirror_mode": {
    "name": "ipython",
    "version": 3
   },
   "file_extension": ".py",
   "mimetype": "text/x-python",
   "name": "python",
   "nbconvert_exporter": "python",
   "pygments_lexer": "ipython3",
   "version": "3.7.4"
  }
 },
 "nbformat": 4,
 "nbformat_minor": 5
}
