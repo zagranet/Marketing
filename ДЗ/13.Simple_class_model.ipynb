{
 "cells": [
  {
   "cell_type": "markdown",
   "id": "killing-laugh",
   "metadata": {},
   "source": [
    "# Занятие 13. Проект построения простой модели машинного обучения"
   ]
  },
  {
   "cell_type": "markdown",
   "id": "encouraging-sitting",
   "metadata": {},
   "source": [
    "Веберите любые данные для задачи классификации из репозитория данных для машинного обучения (UCI Machine learning repository: http://archive.ics.uci.edu/ml/index.php) или возьмите свои данные и постройте простую модель машинного обучения в соответствии с приведенной ниже схемой. Комментарии к каждому разделу обязательны."
   ]
  },
  {
   "cell_type": "markdown",
   "id": "hungry-audience",
   "metadata": {},
   "source": [
    "### 1. Loading the libraries and the dataset"
   ]
  },
  {
   "cell_type": "code",
   "execution_count": null,
   "id": "missing-bulletin",
   "metadata": {},
   "outputs": [],
   "source": []
  },
  {
   "cell_type": "markdown",
   "id": "royal-corps",
   "metadata": {},
   "source": [
    "### 2. Summarizing the dataset"
   ]
  },
  {
   "cell_type": "code",
   "execution_count": null,
   "id": "greenhouse-elements",
   "metadata": {},
   "outputs": [],
   "source": []
  },
  {
   "cell_type": "markdown",
   "id": "described-logan",
   "metadata": {},
   "source": [
    "### 3. Visualizing the dataset"
   ]
  },
  {
   "cell_type": "code",
   "execution_count": null,
   "id": "straight-spanking",
   "metadata": {},
   "outputs": [],
   "source": []
  },
  {
   "cell_type": "markdown",
   "id": "liable-partner",
   "metadata": {},
   "source": [
    "### 4. Evaluating some algorithms"
   ]
  },
  {
   "cell_type": "code",
   "execution_count": null,
   "id": "norwegian-salvation",
   "metadata": {},
   "outputs": [],
   "source": []
  },
  {
   "cell_type": "markdown",
   "id": "fuzzy-prague",
   "metadata": {},
   "source": [
    "### 5. Making some predictions"
   ]
  },
  {
   "cell_type": "code",
   "execution_count": null,
   "id": "approximate-textbook",
   "metadata": {},
   "outputs": [],
   "source": []
  }
 ],
 "metadata": {
  "kernelspec": {
   "display_name": "Python 3",
   "language": "python",
   "name": "python3"
  },
  "language_info": {
   "codemirror_mode": {
    "name": "ipython",
    "version": 3
   },
   "file_extension": ".py",
   "mimetype": "text/x-python",
   "name": "python",
   "nbconvert_exporter": "python",
   "pygments_lexer": "ipython3",
   "version": "3.7.4"
  }
 },
 "nbformat": 4,
 "nbformat_minor": 5
}
