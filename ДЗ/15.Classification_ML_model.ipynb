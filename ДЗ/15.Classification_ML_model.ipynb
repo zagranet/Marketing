{
 "cells": [
  {
   "cell_type": "markdown",
   "id": "loved-designation",
   "metadata": {},
   "source": [
    "# Занятие 15. Проект построения модели машинного обучения для бинарной классификации"
   ]
  },
  {
   "cell_type": "markdown",
   "id": "detailed-basin",
   "metadata": {},
   "source": [
    "Веберите любые данные для задачи бинарной классификации из репозитория данных для машинного обучения (UCI Machine learning repository: http://archive.ics.uci.edu/ml/index.php) или возьмите свои данные и постройте модель машинного обучения в соответствии с приведенной ниже схемой. Комментарии к каждому разделу обязательны."
   ]
  },
  {
   "cell_type": "markdown",
   "id": "authentic-skating",
   "metadata": {},
   "source": [
    "### 1. Problem Definition, Loading the libraries and the dataset"
   ]
  },
  {
   "cell_type": "code",
   "execution_count": null,
   "id": "medium-helena",
   "metadata": {},
   "outputs": [],
   "source": []
  },
  {
   "cell_type": "markdown",
   "id": "abroad-tumor",
   "metadata": {},
   "source": [
    "### 2. Analyze Data"
   ]
  },
  {
   "cell_type": "markdown",
   "id": "lasting-indianapolis",
   "metadata": {},
   "source": [
    "#### Descriptive Statistics"
   ]
  },
  {
   "cell_type": "code",
   "execution_count": null,
   "id": "executed-health",
   "metadata": {},
   "outputs": [],
   "source": []
  },
  {
   "cell_type": "markdown",
   "id": "spare-algeria",
   "metadata": {},
   "source": [
    "### 3. Validation Dataset"
   ]
  },
  {
   "cell_type": "code",
   "execution_count": null,
   "id": "quiet-cornwall",
   "metadata": {},
   "outputs": [],
   "source": []
  },
  {
   "cell_type": "markdown",
   "id": "isolated-barcelona",
   "metadata": {},
   "source": [
    "### 4. Evaluate Algorithms: Baseline"
   ]
  },
  {
   "cell_type": "code",
   "execution_count": null,
   "id": "specialized-signal",
   "metadata": {},
   "outputs": [],
   "source": []
  },
  {
   "cell_type": "markdown",
   "id": "guided-leisure",
   "metadata": {},
   "source": [
    "### 5. Evaluate Algorithms: Standardize Data"
   ]
  },
  {
   "cell_type": "code",
   "execution_count": null,
   "id": "loved-engineer",
   "metadata": {},
   "outputs": [],
   "source": []
  },
  {
   "cell_type": "markdown",
   "id": "ecological-lease",
   "metadata": {},
   "source": [
    "### 6. Algorithm Tuning"
   ]
  },
  {
   "cell_type": "code",
   "execution_count": null,
   "id": "double-dallas",
   "metadata": {},
   "outputs": [],
   "source": []
  },
  {
   "cell_type": "markdown",
   "id": "enclosed-beginning",
   "metadata": {},
   "source": [
    "### 7. Ensemble Methods"
   ]
  },
  {
   "cell_type": "code",
   "execution_count": null,
   "id": "overhead-tension",
   "metadata": {},
   "outputs": [],
   "source": []
  },
  {
   "cell_type": "markdown",
   "id": "prescribed-arctic",
   "metadata": {},
   "source": [
    "### 8. Finalize Model"
   ]
  },
  {
   "cell_type": "code",
   "execution_count": null,
   "id": "adjusted-sunrise",
   "metadata": {},
   "outputs": [],
   "source": []
  }
 ],
 "metadata": {
  "kernelspec": {
   "display_name": "Python 3",
   "language": "python",
   "name": "python3"
  },
  "language_info": {
   "codemirror_mode": {
    "name": "ipython",
    "version": 3
   },
   "file_extension": ".py",
   "mimetype": "text/x-python",
   "name": "python",
   "nbconvert_exporter": "python",
   "pygments_lexer": "ipython3",
   "version": "3.7.4"
  }
 },
 "nbformat": 4,
 "nbformat_minor": 5
}
