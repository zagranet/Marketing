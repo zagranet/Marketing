{
 "cells": [
  {
   "cell_type": "markdown",
   "id": "fitting-elephant",
   "metadata": {},
   "source": [
    "# Занятие 5. Кластерный анализ"
   ]
  },
  {
   "cell_type": "markdown",
   "id": "interpreted-humanitarian",
   "metadata": {},
   "source": [
    "Веберите любые данные для задачи кластеризации из репозитория данных для машинного обучения (UCI Machine learning repository: http://archive.ics.uci.edu/ml/index.php) или возьмите свои данные и проведите кластерный анализ с использованием метода иерархической кластеризации и метода kNN. Комментарии к каждому разделу обязательны."
   ]
  },
  {
   "cell_type": "markdown",
   "id": "starting-basketball",
   "metadata": {},
   "source": [
    "## Иерархическая кластеризация"
   ]
  },
  {
   "cell_type": "code",
   "execution_count": null,
   "id": "framed-progressive",
   "metadata": {},
   "outputs": [],
   "source": []
  },
  {
   "cell_type": "markdown",
   "id": "western-dietary",
   "metadata": {},
   "source": [
    "## Кластеризация методом k-means (k-средних)"
   ]
  },
  {
   "cell_type": "code",
   "execution_count": null,
   "id": "therapeutic-anderson",
   "metadata": {},
   "outputs": [],
   "source": []
  }
 ],
 "metadata": {
  "kernelspec": {
   "display_name": "Python 3",
   "language": "python",
   "name": "python3"
  },
  "language_info": {
   "codemirror_mode": {
    "name": "ipython",
    "version": 3
   },
   "file_extension": ".py",
   "mimetype": "text/x-python",
   "name": "python",
   "nbconvert_exporter": "python",
   "pygments_lexer": "ipython3",
   "version": "3.7.4"
  }
 },
 "nbformat": 4,
 "nbformat_minor": 5
}
